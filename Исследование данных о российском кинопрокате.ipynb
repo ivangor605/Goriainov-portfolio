{
 "cells": [
  {
   "cell_type": "markdown",
   "metadata": {
    "id": "sIfNaMOxgFyK"
   },
   "source": [
    "## Исследование данных о российском кинопрокате\n",
    "\n"
   ]
  },
  {
   "cell_type": "markdown",
   "metadata": {},
   "source": [
    "**Прежде чем начать работу хочу описать вкратце поставленные передо мною задачи:**\n",
    "- изучить общую информацию о датафреймах(размер, явные дубликаты, пропуски, ненулевые значения)\n",
    "- объединить таблицы в один датафрейм.\n",
    "- добавить новые столбцы: \"year\" - год выхода фильма, \"main_genre\" - основной жанр, \"main_director\" - главный режисер\n",
    "- произвести предобработку(избавиться от пропусков, там где это возможно, убрать неявные дубликаты, изучить столбцы, которые содержат категориальные значения)\n",
    "- провести исследовательский анализ данных, а именно: изучить динамику выхода фильмов в прокат, и выявить в какие года были максимальная и минимальная сумма сборов, изучить медианное и среднее значения суммы сборов. В период 2015-2019 г. рассмотреть какое возрастное ограничение оказалось наименее и наиболее кассовым.\n",
    "- исследование фильмов, получавших господдержку:\n",
    "- рассчитать общие средства на поддержку кино, выделяемые государством и сколько за счет этого было выпущено фильмов.\n",
    "- выявить фильм с наилучшей окупаемостью.\n",
    "- выявить фильм с наихудшей окупаемостью.\n",
    "- Рассчитать средний рейтинг фильмов с государственной поддержкой и изучить его зависимость от госинвестиций.\n",
    "- сравнить показатели (рейтинг и кассовые сборы) с фильмами без господдержки.\n",
    "- предоставление общих выводов."
   ]
  },
  {
   "cell_type": "markdown",
   "metadata": {},
   "source": [
    "***Описание данных.\n",
    "Таблица содержит следующую информацию.***\n",
    "- title — название фильма;\n",
    "- puNumber — номер прокатного удостоверения;\n",
    "- show_start_date — дата премьеры фильма;\n",
    "- type — тип фильма;\n",
    "- film_studio — студия-производитель;\n",
    "- production_country — страна-производитель;\n",
    "- director — режиссёр;\n",
    "- producer — продюсер;\n",
    "- age_restriction — возрастная категория;\n",
    "- refundable_support — объём возвратных средств государственной поддержки;\n",
    "- nonrefundable_support — объём невозвратных средств государственной поддержки;\n",
    "- financing_source — источник государственного финансирования;\n",
    "- budget — общий бюджет фильма;\n",
    "- ratings — рейтинг фильма на КиноПоиске;\n",
    "- genres — жанр фильма."
   ]
  },
  {
   "cell_type": "markdown",
   "metadata": {
    "id": "3bSlkCsbgFyL"
   },
   "source": [
    "### Шаг 1. Откройте файлы с данными и объедините их в один датафрейм. \n",
    "\n",
    "Объедините данные таким образом, чтобы все объекты из датасета `mkrf_movies` обязательно вошли в получившийся датафрейм. \n",
    "\n",
    "<div id=\"accordion\">\n",
    "    <div class=\"card\">\n",
    "        <div class=\"card-header\" id=\"headingThree\">\n",
    "            <button class=\"btn btn-link collapsed\" data-toggle=\"collapse\" data-target=\"#collapseHint_0\" aria-expanded=\"false\" aria-controls=\"collapseHint_0\">Подсказка</button>\n",
    "        </div>\n",
    "        <div id=\"collapseHint_0\" class=\"collapse\" aria-labelledby=\"headingThree\" data-parent=\"#accordion\">\n",
    "            <div class=\"card-body\">\n",
    "Обратите внимание на тип данных столбца, по которому будете соединять датафреймы. Тип данных этих столбцов должен быть одинаковым в обоих датафреймах.\n",
    "            </div>\n",
    "        </div>\n",
    "    </div>\n",
    "</div>"
   ]
  },
  {
   "cell_type": "markdown",
   "metadata": {},
   "source": [
    "<span style=\"color:blue\">***Так как имеем две таблицы, то хочу написать функцию для получения информации о таблице.***</span>"
   ]
  },
  {
   "cell_type": "code",
   "execution_count": 1,
   "metadata": {},
   "outputs": [],
   "source": [
    "def data_show(dat):\n",
    "    try:\n",
    "        print('Первые 5 строк:')\n",
    "        display(dat.head())\n",
    "        print('Описание данных:')\n",
    "        display(dat.describe())\n",
    "        print('Общая информация о данных:')\n",
    "        display(dat.info())\n",
    "        print('Размер изначального датасета:', dat.shape)\n",
    "        print('Количество пропусков')\n",
    "        display(dat.isna().sum())\n",
    "        print('Дубликаты:', dat.duplicated().sum())\n",
    "    except:\n",
    "        return \"Ничего не получилось\""
   ]
  },
  {
   "cell_type": "code",
   "execution_count": 2,
   "metadata": {
    "id": "dw87FlzMgFyM"
   },
   "outputs": [],
   "source": [
    "# прочиттаем оба файла и зафиксируем их за переменными data_movies и data_shows\n",
    "import pandas as pd\n",
    "data_movies = pd.read_csv('/datasets/mkrf_movies.csv')\n",
    "data_shows = pd.read_csv('/datasets/mkrf_shows.csv')  "
   ]
  },
  {
   "cell_type": "code",
   "execution_count": 3,
   "metadata": {},
   "outputs": [
    {
     "name": "stdout",
     "output_type": "stream",
     "text": [
      "Первые 5 строк:\n"
     ]
    },
    {
     "data": {
      "text/html": [
       "<div>\n",
       "<style scoped>\n",
       "    .dataframe tbody tr th:only-of-type {\n",
       "        vertical-align: middle;\n",
       "    }\n",
       "\n",
       "    .dataframe tbody tr th {\n",
       "        vertical-align: top;\n",
       "    }\n",
       "\n",
       "    .dataframe thead th {\n",
       "        text-align: right;\n",
       "    }\n",
       "</style>\n",
       "<table border=\"1\" class=\"dataframe\">\n",
       "  <thead>\n",
       "    <tr style=\"text-align: right;\">\n",
       "      <th></th>\n",
       "      <th>title</th>\n",
       "      <th>puNumber</th>\n",
       "      <th>show_start_date</th>\n",
       "      <th>type</th>\n",
       "      <th>film_studio</th>\n",
       "      <th>production_country</th>\n",
       "      <th>director</th>\n",
       "      <th>producer</th>\n",
       "      <th>age_restriction</th>\n",
       "      <th>refundable_support</th>\n",
       "      <th>nonrefundable_support</th>\n",
       "      <th>budget</th>\n",
       "      <th>financing_source</th>\n",
       "      <th>ratings</th>\n",
       "      <th>genres</th>\n",
       "    </tr>\n",
       "  </thead>\n",
       "  <tbody>\n",
       "    <tr>\n",
       "      <th>0</th>\n",
       "      <td>Открытый простор</td>\n",
       "      <td>221048915</td>\n",
       "      <td>2015-11-27T12:00:00.000Z</td>\n",
       "      <td>Художественный</td>\n",
       "      <td>Тачстоун Пикчерз, Кобальт Пикчерз, Бикон Пикче...</td>\n",
       "      <td>США</td>\n",
       "      <td>Кевин Костнер</td>\n",
       "      <td>Дэвид Валдес, Кевин Костнер, Джейк Эбертс</td>\n",
       "      <td>«18+» - запрещено для детей</td>\n",
       "      <td>NaN</td>\n",
       "      <td>NaN</td>\n",
       "      <td>NaN</td>\n",
       "      <td>NaN</td>\n",
       "      <td>7.2</td>\n",
       "      <td>боевик,драма,мелодрама</td>\n",
       "    </tr>\n",
       "    <tr>\n",
       "      <th>1</th>\n",
       "      <td>Особо важное задание</td>\n",
       "      <td>111013716</td>\n",
       "      <td>2016-09-13T12:00:00.000Z</td>\n",
       "      <td>Художественный</td>\n",
       "      <td>Киностудия \"Мосфильм\"</td>\n",
       "      <td>СССР</td>\n",
       "      <td>Е.Матвеев</td>\n",
       "      <td>NaN</td>\n",
       "      <td>«6+» - для детей старше 6 лет</td>\n",
       "      <td>NaN</td>\n",
       "      <td>NaN</td>\n",
       "      <td>NaN</td>\n",
       "      <td>NaN</td>\n",
       "      <td>6.6</td>\n",
       "      <td>драма,военный</td>\n",
       "    </tr>\n",
       "    <tr>\n",
       "      <th>2</th>\n",
       "      <td>Особо опасен</td>\n",
       "      <td>221038416</td>\n",
       "      <td>2016-10-10T12:00:00.000Z</td>\n",
       "      <td>Художественный</td>\n",
       "      <td>Юниверсал Пикчерз, Кикстарт Продакшнз, Марк Пл...</td>\n",
       "      <td>США</td>\n",
       "      <td>Тимур Бекмамбетов</td>\n",
       "      <td>Джим Лемли, Джейсон Нетер, Марк Е.Платт, Яйн Смит</td>\n",
       "      <td>«18+» - запрещено для детей</td>\n",
       "      <td>NaN</td>\n",
       "      <td>NaN</td>\n",
       "      <td>NaN</td>\n",
       "      <td>NaN</td>\n",
       "      <td>6.8</td>\n",
       "      <td>фантастика,боевик,триллер</td>\n",
       "    </tr>\n",
       "    <tr>\n",
       "      <th>3</th>\n",
       "      <td>Особо опасен</td>\n",
       "      <td>221026916</td>\n",
       "      <td>2016-06-10T12:00:00.000Z</td>\n",
       "      <td>Художественный</td>\n",
       "      <td>Юниверсал Пикчерз, Кикстарт Продакшнз, Марк Пл...</td>\n",
       "      <td>США</td>\n",
       "      <td>Тимур Бекмамбетов</td>\n",
       "      <td>Джим Лемли, Джейсон Нетер, Марк Е.Платт, Яйн Смит</td>\n",
       "      <td>«18+» - запрещено для детей</td>\n",
       "      <td>NaN</td>\n",
       "      <td>NaN</td>\n",
       "      <td>NaN</td>\n",
       "      <td>NaN</td>\n",
       "      <td>6.8</td>\n",
       "      <td>фантастика,боевик,триллер</td>\n",
       "    </tr>\n",
       "    <tr>\n",
       "      <th>4</th>\n",
       "      <td>Особо опасен</td>\n",
       "      <td>221030815</td>\n",
       "      <td>2015-07-29T12:00:00.000Z</td>\n",
       "      <td>Художественный</td>\n",
       "      <td>Юниверсал Пикчерз, Кикстарт Продакшнз, Марк Пл...</td>\n",
       "      <td>США</td>\n",
       "      <td>Тимур Бекмамбетов</td>\n",
       "      <td>Джим Лемли, Джейсон Нетер, Марк Е.Платт, Яйн Смит</td>\n",
       "      <td>«18+» - запрещено для детей</td>\n",
       "      <td>NaN</td>\n",
       "      <td>NaN</td>\n",
       "      <td>NaN</td>\n",
       "      <td>NaN</td>\n",
       "      <td>6.8</td>\n",
       "      <td>фантастика,боевик,триллер</td>\n",
       "    </tr>\n",
       "  </tbody>\n",
       "</table>\n",
       "</div>"
      ],
      "text/plain": [
       "                  title   puNumber           show_start_date            type  \\\n",
       "0      Открытый простор  221048915  2015-11-27T12:00:00.000Z  Художественный   \n",
       "1  Особо важное задание  111013716  2016-09-13T12:00:00.000Z  Художественный   \n",
       "2          Особо опасен  221038416  2016-10-10T12:00:00.000Z  Художественный   \n",
       "3          Особо опасен  221026916  2016-06-10T12:00:00.000Z  Художественный   \n",
       "4          Особо опасен  221030815  2015-07-29T12:00:00.000Z  Художественный   \n",
       "\n",
       "                                         film_studio production_country  \\\n",
       "0  Тачстоун Пикчерз, Кобальт Пикчерз, Бикон Пикче...                США   \n",
       "1                              Киностудия \"Мосфильм\"               СССР   \n",
       "2  Юниверсал Пикчерз, Кикстарт Продакшнз, Марк Пл...                США   \n",
       "3  Юниверсал Пикчерз, Кикстарт Продакшнз, Марк Пл...                США   \n",
       "4  Юниверсал Пикчерз, Кикстарт Продакшнз, Марк Пл...                США   \n",
       "\n",
       "            director                                           producer  \\\n",
       "0      Кевин Костнер          Дэвид Валдес, Кевин Костнер, Джейк Эбертс   \n",
       "1          Е.Матвеев                                                NaN   \n",
       "2  Тимур Бекмамбетов  Джим Лемли, Джейсон Нетер, Марк Е.Платт, Яйн Смит   \n",
       "3  Тимур Бекмамбетов  Джим Лемли, Джейсон Нетер, Марк Е.Платт, Яйн Смит   \n",
       "4  Тимур Бекмамбетов  Джим Лемли, Джейсон Нетер, Марк Е.Платт, Яйн Смит   \n",
       "\n",
       "                 age_restriction  refundable_support  nonrefundable_support  \\\n",
       "0    «18+» - запрещено для детей                 NaN                    NaN   \n",
       "1  «6+» - для детей старше 6 лет                 NaN                    NaN   \n",
       "2    «18+» - запрещено для детей                 NaN                    NaN   \n",
       "3    «18+» - запрещено для детей                 NaN                    NaN   \n",
       "4    «18+» - запрещено для детей                 NaN                    NaN   \n",
       "\n",
       "   budget financing_source ratings                     genres  \n",
       "0     NaN              NaN     7.2     боевик,драма,мелодрама  \n",
       "1     NaN              NaN     6.6              драма,военный  \n",
       "2     NaN              NaN     6.8  фантастика,боевик,триллер  \n",
       "3     NaN              NaN     6.8  фантастика,боевик,триллер  \n",
       "4     NaN              NaN     6.8  фантастика,боевик,триллер  "
      ]
     },
     "metadata": {},
     "output_type": "display_data"
    },
    {
     "name": "stdout",
     "output_type": "stream",
     "text": [
      "Описание данных:\n"
     ]
    },
    {
     "data": {
      "text/html": [
       "<div>\n",
       "<style scoped>\n",
       "    .dataframe tbody tr th:only-of-type {\n",
       "        vertical-align: middle;\n",
       "    }\n",
       "\n",
       "    .dataframe tbody tr th {\n",
       "        vertical-align: top;\n",
       "    }\n",
       "\n",
       "    .dataframe thead th {\n",
       "        text-align: right;\n",
       "    }\n",
       "</style>\n",
       "<table border=\"1\" class=\"dataframe\">\n",
       "  <thead>\n",
       "    <tr style=\"text-align: right;\">\n",
       "      <th></th>\n",
       "      <th>refundable_support</th>\n",
       "      <th>nonrefundable_support</th>\n",
       "      <th>budget</th>\n",
       "    </tr>\n",
       "  </thead>\n",
       "  <tbody>\n",
       "    <tr>\n",
       "      <th>count</th>\n",
       "      <td>3.320000e+02</td>\n",
       "      <td>3.320000e+02</td>\n",
       "      <td>3.320000e+02</td>\n",
       "    </tr>\n",
       "    <tr>\n",
       "      <th>mean</th>\n",
       "      <td>1.186446e+07</td>\n",
       "      <td>4.898099e+07</td>\n",
       "      <td>1.272297e+08</td>\n",
       "    </tr>\n",
       "    <tr>\n",
       "      <th>std</th>\n",
       "      <td>2.491656e+07</td>\n",
       "      <td>5.998012e+07</td>\n",
       "      <td>1.885883e+08</td>\n",
       "    </tr>\n",
       "    <tr>\n",
       "      <th>min</th>\n",
       "      <td>0.000000e+00</td>\n",
       "      <td>0.000000e+00</td>\n",
       "      <td>0.000000e+00</td>\n",
       "    </tr>\n",
       "    <tr>\n",
       "      <th>25%</th>\n",
       "      <td>0.000000e+00</td>\n",
       "      <td>2.500000e+07</td>\n",
       "      <td>4.200000e+07</td>\n",
       "    </tr>\n",
       "    <tr>\n",
       "      <th>50%</th>\n",
       "      <td>0.000000e+00</td>\n",
       "      <td>3.000000e+07</td>\n",
       "      <td>6.864992e+07</td>\n",
       "    </tr>\n",
       "    <tr>\n",
       "      <th>75%</th>\n",
       "      <td>1.500000e+07</td>\n",
       "      <td>4.037500e+07</td>\n",
       "      <td>1.419853e+08</td>\n",
       "    </tr>\n",
       "    <tr>\n",
       "      <th>max</th>\n",
       "      <td>1.800000e+08</td>\n",
       "      <td>4.000000e+08</td>\n",
       "      <td>2.305074e+09</td>\n",
       "    </tr>\n",
       "  </tbody>\n",
       "</table>\n",
       "</div>"
      ],
      "text/plain": [
       "       refundable_support  nonrefundable_support        budget\n",
       "count        3.320000e+02           3.320000e+02  3.320000e+02\n",
       "mean         1.186446e+07           4.898099e+07  1.272297e+08\n",
       "std          2.491656e+07           5.998012e+07  1.885883e+08\n",
       "min          0.000000e+00           0.000000e+00  0.000000e+00\n",
       "25%          0.000000e+00           2.500000e+07  4.200000e+07\n",
       "50%          0.000000e+00           3.000000e+07  6.864992e+07\n",
       "75%          1.500000e+07           4.037500e+07  1.419853e+08\n",
       "max          1.800000e+08           4.000000e+08  2.305074e+09"
      ]
     },
     "metadata": {},
     "output_type": "display_data"
    },
    {
     "name": "stdout",
     "output_type": "stream",
     "text": [
      "Общая информация о данных:\n",
      "<class 'pandas.core.frame.DataFrame'>\n",
      "RangeIndex: 7486 entries, 0 to 7485\n",
      "Data columns (total 15 columns):\n",
      " #   Column                 Non-Null Count  Dtype  \n",
      "---  ------                 --------------  -----  \n",
      " 0   title                  7486 non-null   object \n",
      " 1   puNumber               7486 non-null   object \n",
      " 2   show_start_date        7486 non-null   object \n",
      " 3   type                   7486 non-null   object \n",
      " 4   film_studio            7468 non-null   object \n",
      " 5   production_country     7484 non-null   object \n",
      " 6   director               7477 non-null   object \n",
      " 7   producer               6918 non-null   object \n",
      " 8   age_restriction        7486 non-null   object \n",
      " 9   refundable_support     332 non-null    float64\n",
      " 10  nonrefundable_support  332 non-null    float64\n",
      " 11  budget                 332 non-null    float64\n",
      " 12  financing_source       332 non-null    object \n",
      " 13  ratings                6519 non-null   object \n",
      " 14  genres                 6510 non-null   object \n",
      "dtypes: float64(3), object(12)\n",
      "memory usage: 877.4+ KB\n"
     ]
    },
    {
     "data": {
      "text/plain": [
       "None"
      ]
     },
     "metadata": {},
     "output_type": "display_data"
    },
    {
     "name": "stdout",
     "output_type": "stream",
     "text": [
      "Размер изначального датасета: (7486, 15)\n",
      "Количество пропусков\n"
     ]
    },
    {
     "data": {
      "text/plain": [
       "title                       0\n",
       "puNumber                    0\n",
       "show_start_date             0\n",
       "type                        0\n",
       "film_studio                18\n",
       "production_country          2\n",
       "director                    9\n",
       "producer                  568\n",
       "age_restriction             0\n",
       "refundable_support       7154\n",
       "nonrefundable_support    7154\n",
       "budget                   7154\n",
       "financing_source         7154\n",
       "ratings                   967\n",
       "genres                    976\n",
       "dtype: int64"
      ]
     },
     "metadata": {},
     "output_type": "display_data"
    },
    {
     "name": "stdout",
     "output_type": "stream",
     "text": [
      "Дубликаты: 0\n"
     ]
    }
   ],
   "source": [
    "#вызовем функцию для первого даттасета и изучим основную информацию\n",
    "data_show(data_movies)"
   ]
  },
  {
   "cell_type": "code",
   "execution_count": 4,
   "metadata": {},
   "outputs": [
    {
     "name": "stdout",
     "output_type": "stream",
     "text": [
      "Первые 5 строк:\n"
     ]
    },
    {
     "data": {
      "text/html": [
       "<div>\n",
       "<style scoped>\n",
       "    .dataframe tbody tr th:only-of-type {\n",
       "        vertical-align: middle;\n",
       "    }\n",
       "\n",
       "    .dataframe tbody tr th {\n",
       "        vertical-align: top;\n",
       "    }\n",
       "\n",
       "    .dataframe thead th {\n",
       "        text-align: right;\n",
       "    }\n",
       "</style>\n",
       "<table border=\"1\" class=\"dataframe\">\n",
       "  <thead>\n",
       "    <tr style=\"text-align: right;\">\n",
       "      <th></th>\n",
       "      <th>puNumber</th>\n",
       "      <th>box_office</th>\n",
       "    </tr>\n",
       "  </thead>\n",
       "  <tbody>\n",
       "    <tr>\n",
       "      <th>0</th>\n",
       "      <td>111000113</td>\n",
       "      <td>2.450000e+03</td>\n",
       "    </tr>\n",
       "    <tr>\n",
       "      <th>1</th>\n",
       "      <td>111000115</td>\n",
       "      <td>6.104000e+04</td>\n",
       "    </tr>\n",
       "    <tr>\n",
       "      <th>2</th>\n",
       "      <td>111000116</td>\n",
       "      <td>1.530300e+08</td>\n",
       "    </tr>\n",
       "    <tr>\n",
       "      <th>3</th>\n",
       "      <td>111000117</td>\n",
       "      <td>1.226096e+07</td>\n",
       "    </tr>\n",
       "    <tr>\n",
       "      <th>4</th>\n",
       "      <td>111000118</td>\n",
       "      <td>1.636841e+08</td>\n",
       "    </tr>\n",
       "  </tbody>\n",
       "</table>\n",
       "</div>"
      ],
      "text/plain": [
       "    puNumber    box_office\n",
       "0  111000113  2.450000e+03\n",
       "1  111000115  6.104000e+04\n",
       "2  111000116  1.530300e+08\n",
       "3  111000117  1.226096e+07\n",
       "4  111000118  1.636841e+08"
      ]
     },
     "metadata": {},
     "output_type": "display_data"
    },
    {
     "name": "stdout",
     "output_type": "stream",
     "text": [
      "Описание данных:\n"
     ]
    },
    {
     "data": {
      "text/html": [
       "<div>\n",
       "<style scoped>\n",
       "    .dataframe tbody tr th:only-of-type {\n",
       "        vertical-align: middle;\n",
       "    }\n",
       "\n",
       "    .dataframe tbody tr th {\n",
       "        vertical-align: top;\n",
       "    }\n",
       "\n",
       "    .dataframe thead th {\n",
       "        text-align: right;\n",
       "    }\n",
       "</style>\n",
       "<table border=\"1\" class=\"dataframe\">\n",
       "  <thead>\n",
       "    <tr style=\"text-align: right;\">\n",
       "      <th></th>\n",
       "      <th>puNumber</th>\n",
       "      <th>box_office</th>\n",
       "    </tr>\n",
       "  </thead>\n",
       "  <tbody>\n",
       "    <tr>\n",
       "      <th>count</th>\n",
       "      <td>3.158000e+03</td>\n",
       "      <td>3.158000e+03</td>\n",
       "    </tr>\n",
       "    <tr>\n",
       "      <th>mean</th>\n",
       "      <td>1.201875e+08</td>\n",
       "      <td>7.647870e+07</td>\n",
       "    </tr>\n",
       "    <tr>\n",
       "      <th>std</th>\n",
       "      <td>1.238394e+07</td>\n",
       "      <td>2.403531e+08</td>\n",
       "    </tr>\n",
       "    <tr>\n",
       "      <th>min</th>\n",
       "      <td>1.110001e+08</td>\n",
       "      <td>0.000000e+00</td>\n",
       "    </tr>\n",
       "    <tr>\n",
       "      <th>25%</th>\n",
       "      <td>1.130002e+08</td>\n",
       "      <td>8.623900e+04</td>\n",
       "    </tr>\n",
       "    <tr>\n",
       "      <th>50%</th>\n",
       "      <td>1.210131e+08</td>\n",
       "      <td>2.327988e+06</td>\n",
       "    </tr>\n",
       "    <tr>\n",
       "      <th>75%</th>\n",
       "      <td>1.210283e+08</td>\n",
       "      <td>2.397967e+07</td>\n",
       "    </tr>\n",
       "    <tr>\n",
       "      <th>max</th>\n",
       "      <td>2.240264e+08</td>\n",
       "      <td>3.073569e+09</td>\n",
       "    </tr>\n",
       "  </tbody>\n",
       "</table>\n",
       "</div>"
      ],
      "text/plain": [
       "           puNumber    box_office\n",
       "count  3.158000e+03  3.158000e+03\n",
       "mean   1.201875e+08  7.647870e+07\n",
       "std    1.238394e+07  2.403531e+08\n",
       "min    1.110001e+08  0.000000e+00\n",
       "25%    1.130002e+08  8.623900e+04\n",
       "50%    1.210131e+08  2.327988e+06\n",
       "75%    1.210283e+08  2.397967e+07\n",
       "max    2.240264e+08  3.073569e+09"
      ]
     },
     "metadata": {},
     "output_type": "display_data"
    },
    {
     "name": "stdout",
     "output_type": "stream",
     "text": [
      "Общая информация о данных:\n",
      "<class 'pandas.core.frame.DataFrame'>\n",
      "RangeIndex: 3158 entries, 0 to 3157\n",
      "Data columns (total 2 columns):\n",
      " #   Column      Non-Null Count  Dtype  \n",
      "---  ------      --------------  -----  \n",
      " 0   puNumber    3158 non-null   int64  \n",
      " 1   box_office  3158 non-null   float64\n",
      "dtypes: float64(1), int64(1)\n",
      "memory usage: 49.5 KB\n"
     ]
    },
    {
     "data": {
      "text/plain": [
       "None"
      ]
     },
     "metadata": {},
     "output_type": "display_data"
    },
    {
     "name": "stdout",
     "output_type": "stream",
     "text": [
      "Размер изначального датасета: (3158, 2)\n",
      "Количество пропусков\n"
     ]
    },
    {
     "data": {
      "text/plain": [
       "puNumber      0\n",
       "box_office    0\n",
       "dtype: int64"
      ]
     },
     "metadata": {},
     "output_type": "display_data"
    },
    {
     "name": "stdout",
     "output_type": "stream",
     "text": [
      "Дубликаты: 0\n"
     ]
    }
   ],
   "source": [
    "#сделаем то же самое для второго\n",
    "data_show(data_shows)"
   ]
  },
  {
   "cell_type": "markdown",
   "metadata": {},
   "source": [
    "<span style=\"color:blue\">***И так мы изучили таблицы. Нужно привести дату в порядок. Изменить тип данных у рейтинга. И поработать с пропущенными значениями. Очевидно что объединять таблицы нужно по столбцу puNumber — номер прокатного удостоверения. Но в таблице data_movies данный столбец имеет тип object. Поэтому прежде, чем объединять проверим какие есть в столбце puNumber значения не оносящиеся к типу данных integer. Исправим их и уже после этого объединим.***</span>"
   ]
  },
  {
   "cell_type": "code",
   "execution_count": 5,
   "metadata": {},
   "outputs": [
    {
     "data": {
      "text/html": [
       "<div>\n",
       "<style scoped>\n",
       "    .dataframe tbody tr th:only-of-type {\n",
       "        vertical-align: middle;\n",
       "    }\n",
       "\n",
       "    .dataframe tbody tr th {\n",
       "        vertical-align: top;\n",
       "    }\n",
       "\n",
       "    .dataframe thead th {\n",
       "        text-align: right;\n",
       "    }\n",
       "</style>\n",
       "<table border=\"1\" class=\"dataframe\">\n",
       "  <thead>\n",
       "    <tr style=\"text-align: right;\">\n",
       "      <th></th>\n",
       "      <th>title</th>\n",
       "      <th>puNumber</th>\n",
       "      <th>show_start_date</th>\n",
       "      <th>type</th>\n",
       "      <th>film_studio</th>\n",
       "      <th>production_country</th>\n",
       "      <th>director</th>\n",
       "      <th>producer</th>\n",
       "      <th>age_restriction</th>\n",
       "      <th>refundable_support</th>\n",
       "      <th>nonrefundable_support</th>\n",
       "      <th>budget</th>\n",
       "      <th>financing_source</th>\n",
       "      <th>ratings</th>\n",
       "      <th>genres</th>\n",
       "    </tr>\n",
       "  </thead>\n",
       "  <tbody>\n",
       "    <tr>\n",
       "      <th>804</th>\n",
       "      <td>Паранормальный Якутск</td>\n",
       "      <td>111004112</td>\n",
       "      <td>2012-08-24T12:00:00.000Z</td>\n",
       "      <td>Художественный</td>\n",
       "      <td>ИП Тимофеев К.П.</td>\n",
       "      <td>Россия</td>\n",
       "      <td>К.Тимофеев</td>\n",
       "      <td>NaN</td>\n",
       "      <td>«16+» - для детей старше 16 лет</td>\n",
       "      <td>NaN</td>\n",
       "      <td>NaN</td>\n",
       "      <td>NaN</td>\n",
       "      <td>NaN</td>\n",
       "      <td>NaN</td>\n",
       "      <td>NaN</td>\n",
       "    </tr>\n",
       "    <tr>\n",
       "      <th>1797</th>\n",
       "      <td>Курбан-роман. (История с жертвой)</td>\n",
       "      <td>нет</td>\n",
       "      <td>2014-05-15T12:00:00.000Z</td>\n",
       "      <td>Художественный</td>\n",
       "      <td>ФОНД \"ИННОВАЦИЯ\"</td>\n",
       "      <td>Россия</td>\n",
       "      <td>С.Юзеев</td>\n",
       "      <td>М.Галицкая</td>\n",
       "      <td>«12+» - для детей старше 12 лет</td>\n",
       "      <td>NaN</td>\n",
       "      <td>NaN</td>\n",
       "      <td>NaN</td>\n",
       "      <td>NaN</td>\n",
       "      <td>NaN</td>\n",
       "      <td>NaN</td>\n",
       "    </tr>\n",
       "  </tbody>\n",
       "</table>\n",
       "</div>"
      ],
      "text/plain": [
       "                                  title    puNumber           show_start_date  \\\n",
       "804               Паранормальный Якутск   111004112  2012-08-24T12:00:00.000Z   \n",
       "1797  Курбан-роман. (История с жертвой)         нет  2014-05-15T12:00:00.000Z   \n",
       "\n",
       "                type       film_studio production_country    director  \\\n",
       "804   Художественный  ИП Тимофеев К.П.             Россия  К.Тимофеев   \n",
       "1797  Художественный  ФОНД \"ИННОВАЦИЯ\"             Россия     С.Юзеев   \n",
       "\n",
       "        producer                  age_restriction  refundable_support  \\\n",
       "804          NaN  «16+» - для детей старше 16 лет                 NaN   \n",
       "1797  М.Галицкая  «12+» - для детей старше 12 лет                 NaN   \n",
       "\n",
       "      nonrefundable_support  budget financing_source ratings genres  \n",
       "804                     NaN     NaN              NaN     NaN    NaN  \n",
       "1797                    NaN     NaN              NaN     NaN    NaN  "
      ]
     },
     "execution_count": 5,
     "metadata": {},
     "output_type": "execute_result"
    }
   ],
   "source": [
    "data_movies[~data_movies['puNumber'].str.isdigit()]"
   ]
  },
  {
   "cell_type": "markdown",
   "metadata": {},
   "source": [
    "<span style=\"color:blue\">***В строке №804 скорее всего есть пробел. Конечно бывает что вместо 0 пишут букву О, но здесь явно стоят нули, поэтому воспользуюсь методом strip(), чтобы удалить пробелы.\n",
    "    В строке №1797 поменяю \"нет\" на 0. Так как это всего лишь порядковый номер значение 0 на сттатистику данных влиять не будет.***</span>"
   ]
  },
  {
   "cell_type": "code",
   "execution_count": 6,
   "metadata": {},
   "outputs": [],
   "source": [
    "data_movies.loc[804, 'puNumber'] = data_movies.loc[804, 'puNumber'].strip()\n",
    "data_movies.loc[1797, 'puNumber'] = 0\n",
    "data_movies['puNumber']= pd.to_numeric(data_movies['puNumber'])"
   ]
  },
  {
   "cell_type": "code",
   "execution_count": 7,
   "metadata": {},
   "outputs": [
    {
     "name": "stdout",
     "output_type": "stream",
     "text": [
      "Нечисловые данные отсутствуют\n"
     ]
    }
   ],
   "source": [
    "try:\n",
    "    data_movies[~data_movies['puNumber'].str.isdigit()]\n",
    "except:\n",
    "    print('Нечисловые данные отсутствуют')\n",
    "    "
   ]
  },
  {
   "cell_type": "code",
   "execution_count": 8,
   "metadata": {},
   "outputs": [
    {
     "name": "stdout",
     "output_type": "stream",
     "text": [
      "int64\n",
      "int64\n"
     ]
    }
   ],
   "source": [
    "print(data_movies['puNumber'].dtype)\n",
    "print(data_shows['puNumber'].dtype)"
   ]
  },
  {
   "cell_type": "markdown",
   "metadata": {},
   "source": [
    "<span style=\"color:blue\">***Теперь столбец 'puNumber' в таблице data_movies имеет тип integer. Можно объединить таблицы.***</span>"
   ]
  },
  {
   "cell_type": "code",
   "execution_count": 9,
   "metadata": {},
   "outputs": [],
   "source": [
    "data = data_movies.merge(data_shows, on = 'puNumber', how = 'left')"
   ]
  },
  {
   "cell_type": "code",
   "execution_count": 10,
   "metadata": {},
   "outputs": [
    {
     "name": "stdout",
     "output_type": "stream",
     "text": [
      "<class 'pandas.core.frame.DataFrame'>\n",
      "Int64Index: 7486 entries, 0 to 7485\n",
      "Data columns (total 16 columns):\n",
      " #   Column                 Non-Null Count  Dtype  \n",
      "---  ------                 --------------  -----  \n",
      " 0   title                  7486 non-null   object \n",
      " 1   puNumber               7486 non-null   int64  \n",
      " 2   show_start_date        7486 non-null   object \n",
      " 3   type                   7486 non-null   object \n",
      " 4   film_studio            7468 non-null   object \n",
      " 5   production_country     7484 non-null   object \n",
      " 6   director               7477 non-null   object \n",
      " 7   producer               6918 non-null   object \n",
      " 8   age_restriction        7486 non-null   object \n",
      " 9   refundable_support     332 non-null    float64\n",
      " 10  nonrefundable_support  332 non-null    float64\n",
      " 11  budget                 332 non-null    float64\n",
      " 12  financing_source       332 non-null    object \n",
      " 13  ratings                6519 non-null   object \n",
      " 14  genres                 6510 non-null   object \n",
      " 15  box_office             3158 non-null   float64\n",
      "dtypes: float64(4), int64(1), object(11)\n",
      "memory usage: 994.2+ KB\n"
     ]
    }
   ],
   "source": [
    "data.info()"
   ]
  },
  {
   "cell_type": "markdown",
   "metadata": {},
   "source": [
    "<span style=\"color:blue\">***Как мы видим количество строк осталось такое же как и в исходных датафреймах, значит все строки успешно перенеслись. Таблицы объединины.***</span>"
   ]
  },
  {
   "cell_type": "markdown",
   "metadata": {
    "id": "KLDGpPG0gFyM"
   },
   "source": [
    "### Шаг 2. Предобработка данных"
   ]
  },
  {
   "cell_type": "markdown",
   "metadata": {
    "id": "ssWwKXsxgFyO"
   },
   "source": [
    "#### Шаг 2.1. Проверьте типы данных\n",
    "\n",
    "- Проверьте типы данных в датафрейме и преобразуйте их там, где это необходимо."
   ]
  },
  {
   "cell_type": "markdown",
   "metadata": {},
   "source": [
    "<span style=\"color:blue\">***Для начала рассмотрим столбец ratings. Сутя по таблице данные в нем варьируются от 0 до 10, но почему-то тип значений в нем object. Нужно посмотреть те строки, в которых помимо цифр содержаться другие символы.***</span>"
   ]
  },
  {
   "cell_type": "code",
   "execution_count": 11,
   "metadata": {
    "id": "kVGSplJOgFyO"
   },
   "outputs": [
    {
     "data": {
      "text/html": [
       "<div>\n",
       "<style scoped>\n",
       "    .dataframe tbody tr th:only-of-type {\n",
       "        vertical-align: middle;\n",
       "    }\n",
       "\n",
       "    .dataframe tbody tr th {\n",
       "        vertical-align: top;\n",
       "    }\n",
       "\n",
       "    .dataframe thead th {\n",
       "        text-align: right;\n",
       "    }\n",
       "</style>\n",
       "<table border=\"1\" class=\"dataframe\">\n",
       "  <thead>\n",
       "    <tr style=\"text-align: right;\">\n",
       "      <th></th>\n",
       "      <th>title</th>\n",
       "      <th>puNumber</th>\n",
       "      <th>show_start_date</th>\n",
       "      <th>type</th>\n",
       "      <th>film_studio</th>\n",
       "      <th>production_country</th>\n",
       "      <th>director</th>\n",
       "      <th>producer</th>\n",
       "      <th>age_restriction</th>\n",
       "      <th>refundable_support</th>\n",
       "      <th>nonrefundable_support</th>\n",
       "      <th>budget</th>\n",
       "      <th>financing_source</th>\n",
       "      <th>ratings</th>\n",
       "      <th>genres</th>\n",
       "      <th>box_office</th>\n",
       "    </tr>\n",
       "  </thead>\n",
       "  <tbody>\n",
       "    <tr>\n",
       "      <th>259</th>\n",
       "      <td>Прошлое</td>\n",
       "      <td>221030715</td>\n",
       "      <td>2015-07-29T12:00:00.000Z</td>\n",
       "      <td>Художественный</td>\n",
       "      <td>20 Сенчюри Фокс де Архентина, Чемо, ЭйчБи Филм...</td>\n",
       "      <td>Аргентина - Бразилия</td>\n",
       "      <td>Эктор Бабенко</td>\n",
       "      <td>Эктор Бабенко, Оскар Крамер, Хуго Сидмэн</td>\n",
       "      <td>«16+» - для детей старше 16 лет</td>\n",
       "      <td>NaN</td>\n",
       "      <td>NaN</td>\n",
       "      <td>NaN</td>\n",
       "      <td>NaN</td>\n",
       "      <td>99%</td>\n",
       "      <td>ужасы,триллер,драма</td>\n",
       "      <td>NaN</td>\n",
       "    </tr>\n",
       "    <tr>\n",
       "      <th>811</th>\n",
       "      <td>От винта!</td>\n",
       "      <td>114000212</td>\n",
       "      <td>2012-08-06T12:00:00.000Z</td>\n",
       "      <td>Анимационный</td>\n",
       "      <td>ЗАО \"Продюсерский центр \"Парадиз\"</td>\n",
       "      <td>Россия</td>\n",
       "      <td>О.Лопато</td>\n",
       "      <td>Г.Нерсисян, А.Манасарян, А.Нерсесян</td>\n",
       "      <td>«12+» - для детей старше 12 лет</td>\n",
       "      <td>NaN</td>\n",
       "      <td>NaN</td>\n",
       "      <td>NaN</td>\n",
       "      <td>NaN</td>\n",
       "      <td>28%</td>\n",
       "      <td>детский,приключения,комедия</td>\n",
       "      <td>1.740000e+03</td>\n",
       "    </tr>\n",
       "    <tr>\n",
       "      <th>1053</th>\n",
       "      <td>Песочный человек</td>\n",
       "      <td>121029212</td>\n",
       "      <td>2012-11-29T12:00:00.000Z</td>\n",
       "      <td>Художественный</td>\n",
       "      <td>Спотлайт Медиа Продакшн</td>\n",
       "      <td>Швейцария</td>\n",
       "      <td>Питер Луизи</td>\n",
       "      <td>Дэвид Луизи, Питер Луизи</td>\n",
       "      <td>«16+» - для детей старше 16 лет</td>\n",
       "      <td>NaN</td>\n",
       "      <td>NaN</td>\n",
       "      <td>NaN</td>\n",
       "      <td>NaN</td>\n",
       "      <td>97%</td>\n",
       "      <td>ужасы,фантастика,фэнтези</td>\n",
       "      <td>NaN</td>\n",
       "    </tr>\n",
       "    <tr>\n",
       "      <th>1341</th>\n",
       "      <td>Сказка о добре и Вре</td>\n",
       "      <td>111008913</td>\n",
       "      <td>2013-11-15T12:00:00.000Z</td>\n",
       "      <td>Художественный</td>\n",
       "      <td>НП \"Студия игрового кино \"Лик\"</td>\n",
       "      <td>Россия</td>\n",
       "      <td>Е.Шиляева</td>\n",
       "      <td>К.Терещенко</td>\n",
       "      <td>«6+» - для детей старше 6 лет</td>\n",
       "      <td>NaN</td>\n",
       "      <td>NaN</td>\n",
       "      <td>NaN</td>\n",
       "      <td>NaN</td>\n",
       "      <td>99%</td>\n",
       "      <td>триллер,драма,детектив</td>\n",
       "      <td>NaN</td>\n",
       "    </tr>\n",
       "    <tr>\n",
       "      <th>1805</th>\n",
       "      <td>Спираль.</td>\n",
       "      <td>111001014</td>\n",
       "      <td>2014-01-30T12:00:00.000Z</td>\n",
       "      <td>Художественный</td>\n",
       "      <td>ООО \"Компания Питон\"</td>\n",
       "      <td>Россия</td>\n",
       "      <td>А.Волгин</td>\n",
       "      <td>Е.Ковалева</td>\n",
       "      <td>«12+» - для детей старше 12 лет</td>\n",
       "      <td>NaN</td>\n",
       "      <td>NaN</td>\n",
       "      <td>NaN</td>\n",
       "      <td>NaN</td>\n",
       "      <td>99%</td>\n",
       "      <td>аниме,мультфильм,ужасы</td>\n",
       "      <td>4.295000e+03</td>\n",
       "    </tr>\n",
       "    <tr>\n",
       "      <th>1874</th>\n",
       "      <td>Короткие истории о любви 2</td>\n",
       "      <td>121002615</td>\n",
       "      <td>2015-02-13T12:00:00.000Z</td>\n",
       "      <td>Художественный</td>\n",
       "      <td>Кавиар, Курт 13, СтритЛайт Филмз, Нэйер Дойче ...</td>\n",
       "      <td>Нидерланды - США - Германия - Канада - Франция...</td>\n",
       "      <td>Мэтью Аувро, Лео Брайдл, Бен Бренд, Ден Кларк,...</td>\n",
       "      <td>Мэри Пэт Бентел, Бен Бренд, Сиара Гиллан, Джор...</td>\n",
       "      <td>«18+» - запрещено для детей</td>\n",
       "      <td>NaN</td>\n",
       "      <td>NaN</td>\n",
       "      <td>NaN</td>\n",
       "      <td>NaN</td>\n",
       "      <td>83%</td>\n",
       "      <td>NaN</td>\n",
       "      <td>1.429859e+06</td>\n",
       "    </tr>\n",
       "    <tr>\n",
       "      <th>1899</th>\n",
       "      <td>Золушка /По сказке Шарля Перро/. Холодное торж...</td>\n",
       "      <td>121003615</td>\n",
       "      <td>2015-02-27T12:00:00.000Z</td>\n",
       "      <td>Художественный</td>\n",
       "      <td>Женр Филмз, Уолт Дисней Пикчерз</td>\n",
       "      <td>США</td>\n",
       "      <td>Кеннет Брана</td>\n",
       "      <td>Дэвид Бэррон, Саймон Кинберг, Эллисон Ширмур</td>\n",
       "      <td>«6+» - для детей старше 6 лет</td>\n",
       "      <td>NaN</td>\n",
       "      <td>NaN</td>\n",
       "      <td>NaN</td>\n",
       "      <td>NaN</td>\n",
       "      <td>64%</td>\n",
       "      <td>мюзикл,фэнтези,мелодрама</td>\n",
       "      <td>5.287326e+08</td>\n",
       "    </tr>\n",
       "    <tr>\n",
       "      <th>2126</th>\n",
       "      <td>Поездка к матери</td>\n",
       "      <td>111002015</td>\n",
       "      <td>2015-03-02T12:00:00.000Z</td>\n",
       "      <td>Художественный</td>\n",
       "      <td>ЗАО \"Киностудия \"М\"-Фильм\"</td>\n",
       "      <td>Россия</td>\n",
       "      <td>М.Косырев-Нестеров</td>\n",
       "      <td>М.Косырев-Нестеров</td>\n",
       "      <td>«16+» - для детей старше 16 лет</td>\n",
       "      <td>NaN</td>\n",
       "      <td>NaN</td>\n",
       "      <td>NaN</td>\n",
       "      <td>NaN</td>\n",
       "      <td>91%</td>\n",
       "      <td>драма,семейный</td>\n",
       "      <td>0.000000e+00</td>\n",
       "    </tr>\n",
       "    <tr>\n",
       "      <th>2146</th>\n",
       "      <td>Главный</td>\n",
       "      <td>111003415</td>\n",
       "      <td>2015-03-27T12:00:00.000Z</td>\n",
       "      <td>Художественный</td>\n",
       "      <td>ООО \"Киностудия \"МАСТЕР\"</td>\n",
       "      <td>Россия</td>\n",
       "      <td>Ю.Кара</td>\n",
       "      <td>Ю.Кара</td>\n",
       "      <td>«6+» - для детей старше 6 лет</td>\n",
       "      <td>0.0</td>\n",
       "      <td>10000000.0</td>\n",
       "      <td>40000000.0</td>\n",
       "      <td>Министерство культуры</td>\n",
       "      <td>94%</td>\n",
       "      <td>фантастика,боевик,комедия</td>\n",
       "      <td>3.347500e+05</td>\n",
       "    </tr>\n",
       "    <tr>\n",
       "      <th>2438</th>\n",
       "      <td>Самый рыжий Лис</td>\n",
       "      <td>111012715</td>\n",
       "      <td>2015-07-30T12:00:00.000Z</td>\n",
       "      <td>Художественный</td>\n",
       "      <td>ООО \"Продюсерский центр \"Ленфильм\"</td>\n",
       "      <td>Россия</td>\n",
       "      <td>А.Стреляная</td>\n",
       "      <td>А.Котелевский, Э.Пичугин</td>\n",
       "      <td>«6+» - для детей старше 6 лет</td>\n",
       "      <td>NaN</td>\n",
       "      <td>NaN</td>\n",
       "      <td>NaN</td>\n",
       "      <td>NaN</td>\n",
       "      <td>62%</td>\n",
       "      <td>фэнтези,семейный</td>\n",
       "      <td>NaN</td>\n",
       "    </tr>\n",
       "    <tr>\n",
       "      <th>2680</th>\n",
       "      <td>Год Белого Слона</td>\n",
       "      <td>111003915</td>\n",
       "      <td>2015-04-08T12:00:00.000Z</td>\n",
       "      <td>Художественный</td>\n",
       "      <td>ООО \"Творческое объединение ЮГ\"</td>\n",
       "      <td>Россия</td>\n",
       "      <td>Ю.Грымов</td>\n",
       "      <td>П.Поляков</td>\n",
       "      <td>«6+» - для детей старше 6 лет</td>\n",
       "      <td>NaN</td>\n",
       "      <td>NaN</td>\n",
       "      <td>NaN</td>\n",
       "      <td>NaN</td>\n",
       "      <td>79%</td>\n",
       "      <td>семейный</td>\n",
       "      <td>NaN</td>\n",
       "    </tr>\n",
       "    <tr>\n",
       "      <th>3139</th>\n",
       "      <td>Я умею вязать</td>\n",
       "      <td>111019615</td>\n",
       "      <td>2015-11-27T12:00:00.000Z</td>\n",
       "      <td>Художественный</td>\n",
       "      <td>ООО \"Белое Зеркало\"</td>\n",
       "      <td>Россия</td>\n",
       "      <td>Н.Степанова при участии С.Иванова</td>\n",
       "      <td>С.Кикнавелидзе, Д.Улюкаев</td>\n",
       "      <td>«16+» - для детей старше 16 лет</td>\n",
       "      <td>0.0</td>\n",
       "      <td>4700000.0</td>\n",
       "      <td>14462464.0</td>\n",
       "      <td>Министерство культуры</td>\n",
       "      <td>90%</td>\n",
       "      <td>драма</td>\n",
       "      <td>8.013700e+05</td>\n",
       "    </tr>\n",
       "    <tr>\n",
       "      <th>3431</th>\n",
       "      <td>Наурыз</td>\n",
       "      <td>131000217</td>\n",
       "      <td>2017-03-09T12:00:00.000Z</td>\n",
       "      <td>Художественный</td>\n",
       "      <td>Эс Джи</td>\n",
       "      <td>Республика Казахстан</td>\n",
       "      <td>Аскар Бисембин</td>\n",
       "      <td>Олег Головашкин, Алмас Султангазин</td>\n",
       "      <td>«12+» - для детей старше 12 лет</td>\n",
       "      <td>NaN</td>\n",
       "      <td>NaN</td>\n",
       "      <td>NaN</td>\n",
       "      <td>NaN</td>\n",
       "      <td>19%</td>\n",
       "      <td>комедия</td>\n",
       "      <td>3.796000e+04</td>\n",
       "    </tr>\n",
       "    <tr>\n",
       "      <th>3439</th>\n",
       "      <td>Семь диких историй</td>\n",
       "      <td>126005916</td>\n",
       "      <td>2016-11-28T12:00:00.000Z</td>\n",
       "      <td>Прочие</td>\n",
       "      <td>Макс Бэйкер, Джон Е.Брайан, Пьер-Луи Гарнон,  ...</td>\n",
       "      <td>США - Пуэрто-Рико - Франция</td>\n",
       "      <td>М.Бэйкер, Д.Е.Брайант, Д.Рондот, Я.Серсар, Д.С...</td>\n",
       "      <td>М.Бэйкер, Д.Е.Брайан, П.-Л.Гарнон, М.Х.Дельгад...</td>\n",
       "      <td>«18+» - запрещено для детей</td>\n",
       "      <td>NaN</td>\n",
       "      <td>NaN</td>\n",
       "      <td>NaN</td>\n",
       "      <td>NaN</td>\n",
       "      <td>88%</td>\n",
       "      <td>NaN</td>\n",
       "      <td>1.025937e+06</td>\n",
       "    </tr>\n",
       "    <tr>\n",
       "      <th>3446</th>\n",
       "      <td>Короткие истории о любви - 4</td>\n",
       "      <td>126006316</td>\n",
       "      <td>2016-12-30T12:00:00.000Z</td>\n",
       "      <td>Прочие</td>\n",
       "      <td>Нетворг Айлэнд Телевижн, Магнетфильм, Шорткатс...</td>\n",
       "      <td>Великобритания - Аргентина - США - Франция - Р...</td>\n",
       "      <td>Д.Адар, П.Антохин, М.Биасин, А.Бурунова, К.Кол...</td>\n",
       "      <td>Д.Адар, Д.Амсон, П.Антохин, А.Армстронг, С.Бил...</td>\n",
       "      <td>«18+» - запрещено для детей</td>\n",
       "      <td>NaN</td>\n",
       "      <td>NaN</td>\n",
       "      <td>NaN</td>\n",
       "      <td>NaN</td>\n",
       "      <td>83%</td>\n",
       "      <td>NaN</td>\n",
       "      <td>2.266408e+06</td>\n",
       "    </tr>\n",
       "    <tr>\n",
       "      <th>3514</th>\n",
       "      <td>Чужой дом</td>\n",
       "      <td>111015516</td>\n",
       "      <td>2016-09-14T12:00:00.000Z</td>\n",
       "      <td>Художественный</td>\n",
       "      <td>ООО \"Лига Продакшн\"</td>\n",
       "      <td>Россия, Грузия, Хорватия, Испания</td>\n",
       "      <td>Р.Глурджидзе</td>\n",
       "      <td>З.Магалашвили, К.Гечмен-Вальдек, Н.Горшкова</td>\n",
       "      <td>«12+» - для детей старше 12 лет</td>\n",
       "      <td>NaN</td>\n",
       "      <td>NaN</td>\n",
       "      <td>NaN</td>\n",
       "      <td>NaN</td>\n",
       "      <td>91%</td>\n",
       "      <td>драма</td>\n",
       "      <td>NaN</td>\n",
       "    </tr>\n",
       "    <tr>\n",
       "      <th>3585</th>\n",
       "      <td>Машины Страшилки. Серия \"Жутчайшая повесть о п...</td>\n",
       "      <td>114003916</td>\n",
       "      <td>2016-12-09T12:00:00.000Z</td>\n",
       "      <td>Анимационный</td>\n",
       "      <td>ООО Студия \"АНИМАККОРД\", АНИМАККОРД ЛТД.</td>\n",
       "      <td>Россия, Республика Кипр</td>\n",
       "      <td>Д.Червяцов</td>\n",
       "      <td>Д.Ловейко, О.Кузовков</td>\n",
       "      <td>«0+» - для любой зрительской аудитории</td>\n",
       "      <td>NaN</td>\n",
       "      <td>NaN</td>\n",
       "      <td>NaN</td>\n",
       "      <td>NaN</td>\n",
       "      <td>97%</td>\n",
       "      <td>мультфильм,ужасы,фэнтези</td>\n",
       "      <td>NaN</td>\n",
       "    </tr>\n",
       "    <tr>\n",
       "      <th>3786</th>\n",
       "      <td>Охотники</td>\n",
       "      <td>111017816</td>\n",
       "      <td>2016-02-06T12:00:00.000Z</td>\n",
       "      <td>Художественный</td>\n",
       "      <td>Селиверстов Александр Александрович</td>\n",
       "      <td>Россия</td>\n",
       "      <td>А.Селиверстов</td>\n",
       "      <td>Е.Тарковская, Т.Лагода, Д.Степанян</td>\n",
       "      <td>«16+» - для детей старше 16 лет</td>\n",
       "      <td>NaN</td>\n",
       "      <td>NaN</td>\n",
       "      <td>NaN</td>\n",
       "      <td>NaN</td>\n",
       "      <td>89%</td>\n",
       "      <td>фантастика,комедия,боевик</td>\n",
       "      <td>8.284000e+04</td>\n",
       "    </tr>\n",
       "    <tr>\n",
       "      <th>3948</th>\n",
       "      <td>Круиз.</td>\n",
       "      <td>211038210</td>\n",
       "      <td>2010-09-03T12:00:00.000Z</td>\n",
       "      <td>Художественный</td>\n",
       "      <td>ООО \"ЮНАЙТЕД МУЛЬТИМЕДИА ПРОДЖЕКТС\"</td>\n",
       "      <td>Россия</td>\n",
       "      <td>И.Ромащенко</td>\n",
       "      <td>Р.Атамалибеков</td>\n",
       "      <td>«16+» - для детей старше 16 лет</td>\n",
       "      <td>NaN</td>\n",
       "      <td>NaN</td>\n",
       "      <td>NaN</td>\n",
       "      <td>NaN</td>\n",
       "      <td>97%</td>\n",
       "      <td>приключения,комедия,фэнтези</td>\n",
       "      <td>NaN</td>\n",
       "    </tr>\n",
       "    <tr>\n",
       "      <th>5332</th>\n",
       "      <td>Добыча.</td>\n",
       "      <td>121009411</td>\n",
       "      <td>2011-06-15T12:00:00.000Z</td>\n",
       "      <td>Художественный</td>\n",
       "      <td>Афтер Дарк Филмз</td>\n",
       "      <td>США</td>\n",
       "      <td>Патрик Сиверсен</td>\n",
       "      <td>Закари Ти Брайан, Кристофер</td>\n",
       "      <td>«18+» - запрещено для детей</td>\n",
       "      <td>NaN</td>\n",
       "      <td>NaN</td>\n",
       "      <td>NaN</td>\n",
       "      <td>NaN</td>\n",
       "      <td>88%</td>\n",
       "      <td>фантастика,боевик,триллер</td>\n",
       "      <td>NaN</td>\n",
       "    </tr>\n",
       "    <tr>\n",
       "      <th>5455</th>\n",
       "      <td>Вечный холод</td>\n",
       "      <td>111006417</td>\n",
       "      <td>2017-08-28T12:00:00.000Z</td>\n",
       "      <td>Художественный</td>\n",
       "      <td>ЗАО \"Производственный комплекс \"ГЛАВКИНО\", ООО...</td>\n",
       "      <td>Россия</td>\n",
       "      <td>А.Мигачев</td>\n",
       "      <td>И.Бачурин</td>\n",
       "      <td>«18+» - запрещено для детей</td>\n",
       "      <td>NaN</td>\n",
       "      <td>NaN</td>\n",
       "      <td>NaN</td>\n",
       "      <td>NaN</td>\n",
       "      <td>83%</td>\n",
       "      <td>фэнтези,боевик,триллер</td>\n",
       "      <td>NaN</td>\n",
       "    </tr>\n",
       "    <tr>\n",
       "      <th>5821</th>\n",
       "      <td>Свинья</td>\n",
       "      <td>121007018</td>\n",
       "      <td>2018-04-11T12:00:00.000Z</td>\n",
       "      <td>Художественный</td>\n",
       "      <td>Дарк Прекёрсор Продакшен, Филмиран, Хедейт Филм</td>\n",
       "      <td>Иран</td>\n",
       "      <td>Мани Хагиги</td>\n",
       "      <td>Мани Хагиги</td>\n",
       "      <td>«18+» - запрещено для детей</td>\n",
       "      <td>NaN</td>\n",
       "      <td>NaN</td>\n",
       "      <td>NaN</td>\n",
       "      <td>NaN</td>\n",
       "      <td>94%</td>\n",
       "      <td>триллер,драма</td>\n",
       "      <td>1.587222e+06</td>\n",
       "    </tr>\n",
       "    <tr>\n",
       "      <th>5910</th>\n",
       "      <td>Мира</td>\n",
       "      <td>112000118</td>\n",
       "      <td>2018-06-04T12:00:00.000Z</td>\n",
       "      <td>Документальный</td>\n",
       "      <td>ООО \"Компания \"Новые люди\"</td>\n",
       "      <td>Россия</td>\n",
       "      <td>Д.Шабаев</td>\n",
       "      <td>Н.Мокрицкая</td>\n",
       "      <td>«18+» - запрещено для детей</td>\n",
       "      <td>NaN</td>\n",
       "      <td>NaN</td>\n",
       "      <td>NaN</td>\n",
       "      <td>NaN</td>\n",
       "      <td>94%</td>\n",
       "      <td>драма</td>\n",
       "      <td>NaN</td>\n",
       "    </tr>\n",
       "    <tr>\n",
       "      <th>6426</th>\n",
       "      <td>Памятные даты России. Партизаны и подпольщики</td>\n",
       "      <td>112013018</td>\n",
       "      <td>2018-11-28T12:00:00.000Z</td>\n",
       "      <td>Документальный</td>\n",
       "      <td>ООО Кинокомпания \"Вектор\"</td>\n",
       "      <td>Россия</td>\n",
       "      <td>Н.Иванова, А.Кузнецова</td>\n",
       "      <td>В.Коханович</td>\n",
       "      <td>«12+» - для детей старше 12 лет</td>\n",
       "      <td>NaN</td>\n",
       "      <td>NaN</td>\n",
       "      <td>NaN</td>\n",
       "      <td>NaN</td>\n",
       "      <td>91%</td>\n",
       "      <td>драма,биография</td>\n",
       "      <td>NaN</td>\n",
       "    </tr>\n",
       "    <tr>\n",
       "      <th>6616</th>\n",
       "      <td>ОТ ВОЙНЫ ДО НАШИХ ДНЕЙ</td>\n",
       "      <td>111026518</td>\n",
       "      <td>2019-01-21T12:00:00.000Z</td>\n",
       "      <td>Художественный</td>\n",
       "      <td>ИП Вайсман Анатолий Александрович</td>\n",
       "      <td>Россия</td>\n",
       "      <td>А.Сазонов, Е.Климович, А.Коломеец, С.Черникова...</td>\n",
       "      <td>Д.Руюежин, Л.Пятницкая, Д.Колеров, Э.Ким, А.Хомич</td>\n",
       "      <td>«12+» - для детей старше 12 лет</td>\n",
       "      <td>NaN</td>\n",
       "      <td>NaN</td>\n",
       "      <td>NaN</td>\n",
       "      <td>NaN</td>\n",
       "      <td>98%</td>\n",
       "      <td>фантастика,боевик</td>\n",
       "      <td>NaN</td>\n",
       "    </tr>\n",
       "    <tr>\n",
       "      <th>6737</th>\n",
       "      <td>Колесо времени</td>\n",
       "      <td>111003219</td>\n",
       "      <td>2019-03-01T12:00:00.000Z</td>\n",
       "      <td>Художественный</td>\n",
       "      <td>ООО \"БестМедиа\"</td>\n",
       "      <td>Россия</td>\n",
       "      <td>Б.Куломзин</td>\n",
       "      <td>Б.Куломзин</td>\n",
       "      <td>«6+» - для детей старше 6 лет</td>\n",
       "      <td>NaN</td>\n",
       "      <td>NaN</td>\n",
       "      <td>NaN</td>\n",
       "      <td>NaN</td>\n",
       "      <td>98%</td>\n",
       "      <td>фэнтези,приключения</td>\n",
       "      <td>3.499200e+04</td>\n",
       "    </tr>\n",
       "    <tr>\n",
       "      <th>6882</th>\n",
       "      <td>Животные рядом со Святыми</td>\n",
       "      <td>112003719</td>\n",
       "      <td>2019-05-03T12:00:00.000Z</td>\n",
       "      <td>Документальный</td>\n",
       "      <td>ООО \"Кинопрограмма \"XXI век\"</td>\n",
       "      <td>Россия</td>\n",
       "      <td>Т.Мирошник</td>\n",
       "      <td>В.Есинов, Е.Калинина</td>\n",
       "      <td>«0+» - для любой зрительской аудитории</td>\n",
       "      <td>NaN</td>\n",
       "      <td>NaN</td>\n",
       "      <td>NaN</td>\n",
       "      <td>NaN</td>\n",
       "      <td>99%</td>\n",
       "      <td>криминал,драма</td>\n",
       "      <td>NaN</td>\n",
       "    </tr>\n",
       "    <tr>\n",
       "      <th>7159</th>\n",
       "      <td>Анна Каренина. Интимный дневник</td>\n",
       "      <td>111013919</td>\n",
       "      <td>2019-10-23T12:00:00.000Z</td>\n",
       "      <td>Художественный</td>\n",
       "      <td>ООО \"РТВ\"</td>\n",
       "      <td>Россия</td>\n",
       "      <td>Ю.Грымов</td>\n",
       "      <td>Ю.Грымов</td>\n",
       "      <td>«16+» - для детей старше 16 лет</td>\n",
       "      <td>NaN</td>\n",
       "      <td>NaN</td>\n",
       "      <td>NaN</td>\n",
       "      <td>NaN</td>\n",
       "      <td>79%</td>\n",
       "      <td>драма</td>\n",
       "      <td>1.828825e+05</td>\n",
       "    </tr>\n",
       "    <tr>\n",
       "      <th>7277</th>\n",
       "      <td>Добыча</td>\n",
       "      <td>121028319</td>\n",
       "      <td>2019-10-03T12:00:00.000Z</td>\n",
       "      <td>Художественный</td>\n",
       "      <td>Блумхаус Продакшнз, Хайд Парк Интертейнмент, Т...</td>\n",
       "      <td>США</td>\n",
       "      <td>Франк Халфун</td>\n",
       "      <td>Ашок Амритрадж, Джейсон Блум, Трэвис Клафф</td>\n",
       "      <td>«16+» - для детей старше 16 лет</td>\n",
       "      <td>NaN</td>\n",
       "      <td>NaN</td>\n",
       "      <td>NaN</td>\n",
       "      <td>NaN</td>\n",
       "      <td>88%</td>\n",
       "      <td>фантастика,боевик,триллер</td>\n",
       "      <td>4.416590e+06</td>\n",
       "    </tr>\n",
       "  </tbody>\n",
       "</table>\n",
       "</div>"
      ],
      "text/plain": [
       "                                                  title   puNumber  \\\n",
       "259                                             Прошлое  221030715   \n",
       "811                                           От винта!  114000212   \n",
       "1053                                   Песочный человек  121029212   \n",
       "1341                               Сказка о добре и Вре  111008913   \n",
       "1805                                           Спираль.  111001014   \n",
       "1874                         Короткие истории о любви 2  121002615   \n",
       "1899  Золушка /По сказке Шарля Перро/. Холодное торж...  121003615   \n",
       "2126                                   Поездка к матери  111002015   \n",
       "2146                                            Главный  111003415   \n",
       "2438                                    Самый рыжий Лис  111012715   \n",
       "2680                                   Год Белого Слона  111003915   \n",
       "3139                                      Я умею вязать  111019615   \n",
       "3431                                             Наурыз  131000217   \n",
       "3439                                 Семь диких историй  126005916   \n",
       "3446                       Короткие истории о любви - 4  126006316   \n",
       "3514                                          Чужой дом  111015516   \n",
       "3585  Машины Страшилки. Серия \"Жутчайшая повесть о п...  114003916   \n",
       "3786                                           Охотники  111017816   \n",
       "3948                                             Круиз.  211038210   \n",
       "5332                                            Добыча.  121009411   \n",
       "5455                                       Вечный холод  111006417   \n",
       "5821                                             Свинья  121007018   \n",
       "5910                                               Мира  112000118   \n",
       "6426      Памятные даты России. Партизаны и подпольщики  112013018   \n",
       "6616                             ОТ ВОЙНЫ ДО НАШИХ ДНЕЙ  111026518   \n",
       "6737                                     Колесо времени  111003219   \n",
       "6882                          Животные рядом со Святыми  112003719   \n",
       "7159                    Анна Каренина. Интимный дневник  111013919   \n",
       "7277                                             Добыча  121028319   \n",
       "\n",
       "               show_start_date             type  \\\n",
       "259   2015-07-29T12:00:00.000Z   Художественный   \n",
       "811   2012-08-06T12:00:00.000Z     Анимационный   \n",
       "1053  2012-11-29T12:00:00.000Z   Художественный   \n",
       "1341  2013-11-15T12:00:00.000Z   Художественный   \n",
       "1805  2014-01-30T12:00:00.000Z   Художественный   \n",
       "1874  2015-02-13T12:00:00.000Z   Художественный   \n",
       "1899  2015-02-27T12:00:00.000Z   Художественный   \n",
       "2126  2015-03-02T12:00:00.000Z   Художественный   \n",
       "2146  2015-03-27T12:00:00.000Z   Художественный   \n",
       "2438  2015-07-30T12:00:00.000Z   Художественный   \n",
       "2680  2015-04-08T12:00:00.000Z   Художественный   \n",
       "3139  2015-11-27T12:00:00.000Z   Художественный   \n",
       "3431  2017-03-09T12:00:00.000Z   Художественный   \n",
       "3439  2016-11-28T12:00:00.000Z           Прочие   \n",
       "3446  2016-12-30T12:00:00.000Z           Прочие   \n",
       "3514  2016-09-14T12:00:00.000Z   Художественный   \n",
       "3585  2016-12-09T12:00:00.000Z     Анимационный   \n",
       "3786  2016-02-06T12:00:00.000Z   Художественный   \n",
       "3948  2010-09-03T12:00:00.000Z   Художественный   \n",
       "5332  2011-06-15T12:00:00.000Z   Художественный   \n",
       "5455  2017-08-28T12:00:00.000Z   Художественный   \n",
       "5821  2018-04-11T12:00:00.000Z   Художественный   \n",
       "5910  2018-06-04T12:00:00.000Z   Документальный   \n",
       "6426  2018-11-28T12:00:00.000Z   Документальный   \n",
       "6616  2019-01-21T12:00:00.000Z   Художественный   \n",
       "6737  2019-03-01T12:00:00.000Z   Художественный   \n",
       "6882  2019-05-03T12:00:00.000Z   Документальный   \n",
       "7159  2019-10-23T12:00:00.000Z   Художественный   \n",
       "7277  2019-10-03T12:00:00.000Z   Художественный   \n",
       "\n",
       "                                            film_studio  \\\n",
       "259   20 Сенчюри Фокс де Архентина, Чемо, ЭйчБи Филм...   \n",
       "811                   ЗАО \"Продюсерский центр \"Парадиз\"   \n",
       "1053                            Спотлайт Медиа Продакшн   \n",
       "1341                     НП \"Студия игрового кино \"Лик\"   \n",
       "1805                               ООО \"Компания Питон\"   \n",
       "1874  Кавиар, Курт 13, СтритЛайт Филмз, Нэйер Дойче ...   \n",
       "1899                    Женр Филмз, Уолт Дисней Пикчерз   \n",
       "2126                         ЗАО \"Киностудия \"М\"-Фильм\"   \n",
       "2146                           ООО \"Киностудия \"МАСТЕР\"   \n",
       "2438                 ООО \"Продюсерский центр \"Ленфильм\"   \n",
       "2680                    ООО \"Творческое объединение ЮГ\"   \n",
       "3139                                ООО \"Белое Зеркало\"   \n",
       "3431                                             Эс Джи   \n",
       "3439  Макс Бэйкер, Джон Е.Брайан, Пьер-Луи Гарнон,  ...   \n",
       "3446  Нетворг Айлэнд Телевижн, Магнетфильм, Шорткатс...   \n",
       "3514                                ООО \"Лига Продакшн\"   \n",
       "3585           ООО Студия \"АНИМАККОРД\", АНИМАККОРД ЛТД.   \n",
       "3786                Селиверстов Александр Александрович   \n",
       "3948                ООО \"ЮНАЙТЕД МУЛЬТИМЕДИА ПРОДЖЕКТС\"   \n",
       "5332                                   Афтер Дарк Филмз   \n",
       "5455  ЗАО \"Производственный комплекс \"ГЛАВКИНО\", ООО...   \n",
       "5821    Дарк Прекёрсор Продакшен, Филмиран, Хедейт Филм   \n",
       "5910                         ООО \"Компания \"Новые люди\"   \n",
       "6426                          ООО Кинокомпания \"Вектор\"   \n",
       "6616                  ИП Вайсман Анатолий Александрович   \n",
       "6737                                    ООО \"БестМедиа\"   \n",
       "6882                       ООО \"Кинопрограмма \"XXI век\"   \n",
       "7159                                          ООО \"РТВ\"   \n",
       "7277  Блумхаус Продакшнз, Хайд Парк Интертейнмент, Т...   \n",
       "\n",
       "                                     production_country  \\\n",
       "259                                Аргентина - Бразилия   \n",
       "811                                              Россия   \n",
       "1053                                          Швейцария   \n",
       "1341                                             Россия   \n",
       "1805                                             Россия   \n",
       "1874  Нидерланды - США - Германия - Канада - Франция...   \n",
       "1899                                                США   \n",
       "2126                                             Россия   \n",
       "2146                                             Россия   \n",
       "2438                                             Россия   \n",
       "2680                                             Россия   \n",
       "3139                                             Россия   \n",
       "3431                               Республика Казахстан   \n",
       "3439                       США - Пуэрто-Рико - Франция    \n",
       "3446  Великобритания - Аргентина - США - Франция - Р...   \n",
       "3514                  Россия, Грузия, Хорватия, Испания   \n",
       "3585                            Россия, Республика Кипр   \n",
       "3786                                             Россия   \n",
       "3948                                             Россия   \n",
       "5332                                                США   \n",
       "5455                                             Россия   \n",
       "5821                                               Иран   \n",
       "5910                                             Россия   \n",
       "6426                                             Россия   \n",
       "6616                                             Россия   \n",
       "6737                                             Россия   \n",
       "6882                                             Россия   \n",
       "7159                                             Россия   \n",
       "7277                                                США   \n",
       "\n",
       "                                               director  \\\n",
       "259                                       Эктор Бабенко   \n",
       "811                                            О.Лопато   \n",
       "1053                                        Питер Луизи   \n",
       "1341                                          Е.Шиляева   \n",
       "1805                                           А.Волгин   \n",
       "1874  Мэтью Аувро, Лео Брайдл, Бен Бренд, Ден Кларк,...   \n",
       "1899                                       Кеннет Брана   \n",
       "2126                                 М.Косырев-Нестеров   \n",
       "2146                                             Ю.Кара   \n",
       "2438                                        А.Стреляная   \n",
       "2680                                           Ю.Грымов   \n",
       "3139                  Н.Степанова при участии С.Иванова   \n",
       "3431                                     Аскар Бисембин   \n",
       "3439  М.Бэйкер, Д.Е.Брайант, Д.Рондот, Я.Серсар, Д.С...   \n",
       "3446  Д.Адар, П.Антохин, М.Биасин, А.Бурунова, К.Кол...   \n",
       "3514                                       Р.Глурджидзе   \n",
       "3585                                         Д.Червяцов   \n",
       "3786                                      А.Селиверстов   \n",
       "3948                                        И.Ромащенко   \n",
       "5332                                    Патрик Сиверсен   \n",
       "5455                                          А.Мигачев   \n",
       "5821                                        Мани Хагиги   \n",
       "5910                                           Д.Шабаев   \n",
       "6426                             Н.Иванова, А.Кузнецова   \n",
       "6616  А.Сазонов, Е.Климович, А.Коломеец, С.Черникова...   \n",
       "6737                                         Б.Куломзин   \n",
       "6882                                         Т.Мирошник   \n",
       "7159                                           Ю.Грымов   \n",
       "7277                                       Франк Халфун   \n",
       "\n",
       "                                               producer  \\\n",
       "259            Эктор Бабенко, Оскар Крамер, Хуго Сидмэн   \n",
       "811                 Г.Нерсисян, А.Манасарян, А.Нерсесян   \n",
       "1053                           Дэвид Луизи, Питер Луизи   \n",
       "1341                                        К.Терещенко   \n",
       "1805                                         Е.Ковалева   \n",
       "1874  Мэри Пэт Бентел, Бен Бренд, Сиара Гиллан, Джор...   \n",
       "1899       Дэвид Бэррон, Саймон Кинберг, Эллисон Ширмур   \n",
       "2126                                 М.Косырев-Нестеров   \n",
       "2146                                             Ю.Кара   \n",
       "2438                           А.Котелевский, Э.Пичугин   \n",
       "2680                                          П.Поляков   \n",
       "3139                          С.Кикнавелидзе, Д.Улюкаев   \n",
       "3431                 Олег Головашкин, Алмас Султангазин   \n",
       "3439  М.Бэйкер, Д.Е.Брайан, П.-Л.Гарнон, М.Х.Дельгад...   \n",
       "3446  Д.Адар, Д.Амсон, П.Антохин, А.Армстронг, С.Бил...   \n",
       "3514        З.Магалашвили, К.Гечмен-Вальдек, Н.Горшкова   \n",
       "3585                              Д.Ловейко, О.Кузовков   \n",
       "3786                 Е.Тарковская, Т.Лагода, Д.Степанян   \n",
       "3948                                     Р.Атамалибеков   \n",
       "5332                        Закари Ти Брайан, Кристофер   \n",
       "5455                                          И.Бачурин   \n",
       "5821                                        Мани Хагиги   \n",
       "5910                                        Н.Мокрицкая   \n",
       "6426                                        В.Коханович   \n",
       "6616  Д.Руюежин, Л.Пятницкая, Д.Колеров, Э.Ким, А.Хомич   \n",
       "6737                                         Б.Куломзин   \n",
       "6882                               В.Есинов, Е.Калинина   \n",
       "7159                                           Ю.Грымов   \n",
       "7277         Ашок Амритрадж, Джейсон Блум, Трэвис Клафф   \n",
       "\n",
       "                             age_restriction  refundable_support  \\\n",
       "259          «16+» - для детей старше 16 лет                 NaN   \n",
       "811          «12+» - для детей старше 12 лет                 NaN   \n",
       "1053         «16+» - для детей старше 16 лет                 NaN   \n",
       "1341           «6+» - для детей старше 6 лет                 NaN   \n",
       "1805         «12+» - для детей старше 12 лет                 NaN   \n",
       "1874             «18+» - запрещено для детей                 NaN   \n",
       "1899           «6+» - для детей старше 6 лет                 NaN   \n",
       "2126         «16+» - для детей старше 16 лет                 NaN   \n",
       "2146           «6+» - для детей старше 6 лет                 0.0   \n",
       "2438           «6+» - для детей старше 6 лет                 NaN   \n",
       "2680           «6+» - для детей старше 6 лет                 NaN   \n",
       "3139         «16+» - для детей старше 16 лет                 0.0   \n",
       "3431         «12+» - для детей старше 12 лет                 NaN   \n",
       "3439             «18+» - запрещено для детей                 NaN   \n",
       "3446             «18+» - запрещено для детей                 NaN   \n",
       "3514         «12+» - для детей старше 12 лет                 NaN   \n",
       "3585  «0+» - для любой зрительской аудитории                 NaN   \n",
       "3786         «16+» - для детей старше 16 лет                 NaN   \n",
       "3948         «16+» - для детей старше 16 лет                 NaN   \n",
       "5332             «18+» - запрещено для детей                 NaN   \n",
       "5455             «18+» - запрещено для детей                 NaN   \n",
       "5821             «18+» - запрещено для детей                 NaN   \n",
       "5910             «18+» - запрещено для детей                 NaN   \n",
       "6426         «12+» - для детей старше 12 лет                 NaN   \n",
       "6616         «12+» - для детей старше 12 лет                 NaN   \n",
       "6737           «6+» - для детей старше 6 лет                 NaN   \n",
       "6882  «0+» - для любой зрительской аудитории                 NaN   \n",
       "7159         «16+» - для детей старше 16 лет                 NaN   \n",
       "7277         «16+» - для детей старше 16 лет                 NaN   \n",
       "\n",
       "      nonrefundable_support      budget       financing_source ratings  \\\n",
       "259                     NaN         NaN                    NaN     99%   \n",
       "811                     NaN         NaN                    NaN     28%   \n",
       "1053                    NaN         NaN                    NaN     97%   \n",
       "1341                    NaN         NaN                    NaN     99%   \n",
       "1805                    NaN         NaN                    NaN     99%   \n",
       "1874                    NaN         NaN                    NaN     83%   \n",
       "1899                    NaN         NaN                    NaN     64%   \n",
       "2126                    NaN         NaN                    NaN     91%   \n",
       "2146             10000000.0  40000000.0  Министерство культуры     94%   \n",
       "2438                    NaN         NaN                    NaN     62%   \n",
       "2680                    NaN         NaN                    NaN     79%   \n",
       "3139              4700000.0  14462464.0  Министерство культуры     90%   \n",
       "3431                    NaN         NaN                    NaN     19%   \n",
       "3439                    NaN         NaN                    NaN     88%   \n",
       "3446                    NaN         NaN                    NaN     83%   \n",
       "3514                    NaN         NaN                    NaN     91%   \n",
       "3585                    NaN         NaN                    NaN     97%   \n",
       "3786                    NaN         NaN                    NaN     89%   \n",
       "3948                    NaN         NaN                    NaN     97%   \n",
       "5332                    NaN         NaN                    NaN     88%   \n",
       "5455                    NaN         NaN                    NaN     83%   \n",
       "5821                    NaN         NaN                    NaN     94%   \n",
       "5910                    NaN         NaN                    NaN     94%   \n",
       "6426                    NaN         NaN                    NaN     91%   \n",
       "6616                    NaN         NaN                    NaN     98%   \n",
       "6737                    NaN         NaN                    NaN     98%   \n",
       "6882                    NaN         NaN                    NaN     99%   \n",
       "7159                    NaN         NaN                    NaN     79%   \n",
       "7277                    NaN         NaN                    NaN     88%   \n",
       "\n",
       "                           genres    box_office  \n",
       "259           ужасы,триллер,драма           NaN  \n",
       "811   детский,приключения,комедия  1.740000e+03  \n",
       "1053     ужасы,фантастика,фэнтези           NaN  \n",
       "1341       триллер,драма,детектив           NaN  \n",
       "1805       аниме,мультфильм,ужасы  4.295000e+03  \n",
       "1874                          NaN  1.429859e+06  \n",
       "1899     мюзикл,фэнтези,мелодрама  5.287326e+08  \n",
       "2126               драма,семейный  0.000000e+00  \n",
       "2146    фантастика,боевик,комедия  3.347500e+05  \n",
       "2438             фэнтези,семейный           NaN  \n",
       "2680                     семейный           NaN  \n",
       "3139                        драма  8.013700e+05  \n",
       "3431                      комедия  3.796000e+04  \n",
       "3439                          NaN  1.025937e+06  \n",
       "3446                          NaN  2.266408e+06  \n",
       "3514                        драма           NaN  \n",
       "3585     мультфильм,ужасы,фэнтези           NaN  \n",
       "3786    фантастика,комедия,боевик  8.284000e+04  \n",
       "3948  приключения,комедия,фэнтези           NaN  \n",
       "5332    фантастика,боевик,триллер           NaN  \n",
       "5455       фэнтези,боевик,триллер           NaN  \n",
       "5821                триллер,драма  1.587222e+06  \n",
       "5910                        драма           NaN  \n",
       "6426              драма,биография           NaN  \n",
       "6616            фантастика,боевик           NaN  \n",
       "6737          фэнтези,приключения  3.499200e+04  \n",
       "6882               криминал,драма           NaN  \n",
       "7159                        драма  1.828825e+05  \n",
       "7277    фантастика,боевик,триллер  4.416590e+06  "
      ]
     },
     "execution_count": 11,
     "metadata": {},
     "output_type": "execute_result"
    }
   ],
   "source": [
    "data[data['ratings'].str.contains('[^0-9.]').fillna(False)]"
   ]
  },
  {
   "cell_type": "markdown",
   "metadata": {},
   "source": [
    "<span style=\"color:blue\">***Мы видим что в ряде строк рейтинг указан не в формате десятичной дроби а в процентах.Нужно от этого избавиться. Еще пустые значения заменим на 0. Пустые значения у фильмов возникают либо потому что фильм только вышел либо потому что он не популярен и его никто не оценивает.***</span>"
   ]
  },
  {
   "cell_type": "code",
   "execution_count": 12,
   "metadata": {},
   "outputs": [],
   "source": [
    "data['ratings'] = data['ratings'].str.replace('%', '')"
   ]
  },
  {
   "cell_type": "code",
   "execution_count": 13,
   "metadata": {},
   "outputs": [],
   "source": [
    "data['ratings'] = data['ratings'].astype('float')"
   ]
  },
  {
   "cell_type": "code",
   "execution_count": 14,
   "metadata": {},
   "outputs": [],
   "source": [
    "data['ratings'] = data['ratings'].apply(lambda x: x/10 if x>=10 else x)"
   ]
  },
  {
   "cell_type": "markdown",
   "metadata": {},
   "source": [
    "<span style=\"color:blue\">***Теперь в столбце show_start_date приведем дату и время в порядок.***</span>"
   ]
  },
  {
   "cell_type": "code",
   "execution_count": 15,
   "metadata": {},
   "outputs": [],
   "source": [
    "data['show_start_date'] = pd.to_datetime(data['show_start_date'], format = '%Y-%m-%dT%H:%M:%S')"
   ]
  },
  {
   "cell_type": "markdown",
   "metadata": {
    "id": "i0MOLbF-gFyP"
   },
   "source": [
    "#### Шаг 2.2. Изучите пропуски в датафрейме\n",
    "\n",
    "- Объясните, почему заполнили пропуски определённым образом или почему не стали этого делать."
   ]
  },
  {
   "cell_type": "markdown",
   "metadata": {},
   "source": [
    "<span style=\"color:blue\">***Рассмотрим пропуски в датафрейме***</span>"
   ]
  },
  {
   "cell_type": "code",
   "execution_count": 16,
   "metadata": {},
   "outputs": [
    {
     "name": "stdout",
     "output_type": "stream",
     "text": [
      "<class 'pandas.core.frame.DataFrame'>\n",
      "Int64Index: 7486 entries, 0 to 7485\n",
      "Data columns (total 16 columns):\n",
      " #   Column                 Non-Null Count  Dtype              \n",
      "---  ------                 --------------  -----              \n",
      " 0   title                  7486 non-null   object             \n",
      " 1   puNumber               7486 non-null   int64              \n",
      " 2   show_start_date        7486 non-null   datetime64[ns, UTC]\n",
      " 3   type                   7486 non-null   object             \n",
      " 4   film_studio            7468 non-null   object             \n",
      " 5   production_country     7484 non-null   object             \n",
      " 6   director               7477 non-null   object             \n",
      " 7   producer               6918 non-null   object             \n",
      " 8   age_restriction        7486 non-null   object             \n",
      " 9   refundable_support     332 non-null    float64            \n",
      " 10  nonrefundable_support  332 non-null    float64            \n",
      " 11  budget                 332 non-null    float64            \n",
      " 12  financing_source       332 non-null    object             \n",
      " 13  ratings                6519 non-null   float64            \n",
      " 14  genres                 6510 non-null   object             \n",
      " 15  box_office             3158 non-null   float64            \n",
      "dtypes: datetime64[ns, UTC](1), float64(5), int64(1), object(9)\n",
      "memory usage: 994.2+ KB\n"
     ]
    }
   ],
   "source": [
    "data.info()"
   ]
  },
  {
   "cell_type": "code",
   "execution_count": 17,
   "metadata": {},
   "outputs": [
    {
     "data": {
      "text/plain": [
       "title                       0\n",
       "puNumber                    0\n",
       "show_start_date             0\n",
       "type                        0\n",
       "film_studio                18\n",
       "production_country          2\n",
       "director                    9\n",
       "producer                  568\n",
       "age_restriction             0\n",
       "refundable_support       7154\n",
       "nonrefundable_support    7154\n",
       "budget                   7154\n",
       "financing_source         7154\n",
       "ratings                   967\n",
       "genres                    976\n",
       "box_office               4328\n",
       "dtype: int64"
      ]
     },
     "execution_count": 17,
     "metadata": {},
     "output_type": "execute_result"
    }
   ],
   "source": [
    "data_isna = data.isna()\n",
    "data_isna.sum()"
   ]
  },
  {
   "cell_type": "markdown",
   "metadata": {},
   "source": [
    "<span style=\"color:blue\">***В датафрейме всего 7486 строк. А в некоторых столбцах по 7127 пропусков. Давайте рассмотрим процент пропусков в датафрейме***</span>"
   ]
  },
  {
   "cell_type": "code",
   "execution_count": 18,
   "metadata": {
    "id": "8MJD_lkngFyP"
   },
   "outputs": [
    {
     "data": {
      "text/html": [
       "<div>\n",
       "<style scoped>\n",
       "    .dataframe tbody tr th:only-of-type {\n",
       "        vertical-align: middle;\n",
       "    }\n",
       "\n",
       "    .dataframe tbody tr th {\n",
       "        vertical-align: top;\n",
       "    }\n",
       "\n",
       "    .dataframe thead th {\n",
       "        text-align: right;\n",
       "    }\n",
       "</style>\n",
       "<table border=\"1\" class=\"dataframe\">\n",
       "  <thead>\n",
       "    <tr style=\"text-align: right;\">\n",
       "      <th></th>\n",
       "      <th>0</th>\n",
       "    </tr>\n",
       "  </thead>\n",
       "  <tbody>\n",
       "    <tr>\n",
       "      <th>title</th>\n",
       "      <td>0.0</td>\n",
       "    </tr>\n",
       "    <tr>\n",
       "      <th>puNumber</th>\n",
       "      <td>0.0</td>\n",
       "    </tr>\n",
       "    <tr>\n",
       "      <th>show_start_date</th>\n",
       "      <td>0.0</td>\n",
       "    </tr>\n",
       "    <tr>\n",
       "      <th>type</th>\n",
       "      <td>0.0</td>\n",
       "    </tr>\n",
       "    <tr>\n",
       "      <th>film_studio</th>\n",
       "      <td>0.2</td>\n",
       "    </tr>\n",
       "    <tr>\n",
       "      <th>production_country</th>\n",
       "      <td>0.0</td>\n",
       "    </tr>\n",
       "    <tr>\n",
       "      <th>director</th>\n",
       "      <td>0.1</td>\n",
       "    </tr>\n",
       "    <tr>\n",
       "      <th>producer</th>\n",
       "      <td>7.6</td>\n",
       "    </tr>\n",
       "    <tr>\n",
       "      <th>age_restriction</th>\n",
       "      <td>0.0</td>\n",
       "    </tr>\n",
       "    <tr>\n",
       "      <th>refundable_support</th>\n",
       "      <td>95.6</td>\n",
       "    </tr>\n",
       "    <tr>\n",
       "      <th>nonrefundable_support</th>\n",
       "      <td>95.6</td>\n",
       "    </tr>\n",
       "    <tr>\n",
       "      <th>budget</th>\n",
       "      <td>95.6</td>\n",
       "    </tr>\n",
       "    <tr>\n",
       "      <th>financing_source</th>\n",
       "      <td>95.6</td>\n",
       "    </tr>\n",
       "    <tr>\n",
       "      <th>ratings</th>\n",
       "      <td>12.9</td>\n",
       "    </tr>\n",
       "    <tr>\n",
       "      <th>genres</th>\n",
       "      <td>13.0</td>\n",
       "    </tr>\n",
       "    <tr>\n",
       "      <th>box_office</th>\n",
       "      <td>57.8</td>\n",
       "    </tr>\n",
       "  </tbody>\n",
       "</table>\n",
       "</div>"
      ],
      "text/plain": [
       "                          0\n",
       "title                   0.0\n",
       "puNumber                0.0\n",
       "show_start_date         0.0\n",
       "type                    0.0\n",
       "film_studio             0.2\n",
       "production_country      0.0\n",
       "director                0.1\n",
       "producer                7.6\n",
       "age_restriction         0.0\n",
       "refundable_support     95.6\n",
       "nonrefundable_support  95.6\n",
       "budget                 95.6\n",
       "financing_source       95.6\n",
       "ratings                12.9\n",
       "genres                 13.0\n",
       "box_office             57.8"
      ]
     },
     "execution_count": 18,
     "metadata": {},
     "output_type": "execute_result"
    }
   ],
   "source": [
    "pd.DataFrame(round(data.isna().mean()*100,1))"
   ]
  },
  {
   "cell_type": "code",
   "execution_count": 19,
   "metadata": {},
   "outputs": [
    {
     "data": {
      "text/html": [
       "<div>\n",
       "<style scoped>\n",
       "    .dataframe tbody tr th:only-of-type {\n",
       "        vertical-align: middle;\n",
       "    }\n",
       "\n",
       "    .dataframe tbody tr th {\n",
       "        vertical-align: top;\n",
       "    }\n",
       "\n",
       "    .dataframe thead th {\n",
       "        text-align: right;\n",
       "    }\n",
       "</style>\n",
       "<table border=\"1\" class=\"dataframe\">\n",
       "  <thead>\n",
       "    <tr style=\"text-align: right;\">\n",
       "      <th>year</th>\n",
       "      <th>2010</th>\n",
       "      <th>2011</th>\n",
       "      <th>2012</th>\n",
       "      <th>2013</th>\n",
       "      <th>2014</th>\n",
       "      <th>2015</th>\n",
       "      <th>2016</th>\n",
       "      <th>2017</th>\n",
       "      <th>2018</th>\n",
       "      <th>2019</th>\n",
       "    </tr>\n",
       "  </thead>\n",
       "  <tbody>\n",
       "    <tr>\n",
       "      <th>title</th>\n",
       "      <td>0</td>\n",
       "      <td>0</td>\n",
       "      <td>0</td>\n",
       "      <td>0</td>\n",
       "      <td>0</td>\n",
       "      <td>0</td>\n",
       "      <td>0</td>\n",
       "      <td>0</td>\n",
       "      <td>0</td>\n",
       "      <td>0</td>\n",
       "    </tr>\n",
       "    <tr>\n",
       "      <th>puNumber</th>\n",
       "      <td>0</td>\n",
       "      <td>0</td>\n",
       "      <td>0</td>\n",
       "      <td>0</td>\n",
       "      <td>0</td>\n",
       "      <td>0</td>\n",
       "      <td>0</td>\n",
       "      <td>0</td>\n",
       "      <td>0</td>\n",
       "      <td>0</td>\n",
       "    </tr>\n",
       "    <tr>\n",
       "      <th>show_start_date</th>\n",
       "      <td>0</td>\n",
       "      <td>0</td>\n",
       "      <td>0</td>\n",
       "      <td>0</td>\n",
       "      <td>0</td>\n",
       "      <td>0</td>\n",
       "      <td>0</td>\n",
       "      <td>0</td>\n",
       "      <td>0</td>\n",
       "      <td>0</td>\n",
       "    </tr>\n",
       "    <tr>\n",
       "      <th>type</th>\n",
       "      <td>0</td>\n",
       "      <td>0</td>\n",
       "      <td>0</td>\n",
       "      <td>0</td>\n",
       "      <td>0</td>\n",
       "      <td>0</td>\n",
       "      <td>0</td>\n",
       "      <td>0</td>\n",
       "      <td>0</td>\n",
       "      <td>0</td>\n",
       "    </tr>\n",
       "    <tr>\n",
       "      <th>film_studio</th>\n",
       "      <td>1</td>\n",
       "      <td>0</td>\n",
       "      <td>0</td>\n",
       "      <td>0</td>\n",
       "      <td>1</td>\n",
       "      <td>0</td>\n",
       "      <td>0</td>\n",
       "      <td>0</td>\n",
       "      <td>12</td>\n",
       "      <td>4</td>\n",
       "    </tr>\n",
       "    <tr>\n",
       "      <th>production_country</th>\n",
       "      <td>1</td>\n",
       "      <td>0</td>\n",
       "      <td>0</td>\n",
       "      <td>0</td>\n",
       "      <td>0</td>\n",
       "      <td>0</td>\n",
       "      <td>1</td>\n",
       "      <td>0</td>\n",
       "      <td>0</td>\n",
       "      <td>0</td>\n",
       "    </tr>\n",
       "    <tr>\n",
       "      <th>director</th>\n",
       "      <td>5</td>\n",
       "      <td>2</td>\n",
       "      <td>1</td>\n",
       "      <td>1</td>\n",
       "      <td>0</td>\n",
       "      <td>0</td>\n",
       "      <td>0</td>\n",
       "      <td>0</td>\n",
       "      <td>0</td>\n",
       "      <td>0</td>\n",
       "    </tr>\n",
       "    <tr>\n",
       "      <th>producer</th>\n",
       "      <td>40</td>\n",
       "      <td>15</td>\n",
       "      <td>26</td>\n",
       "      <td>89</td>\n",
       "      <td>189</td>\n",
       "      <td>77</td>\n",
       "      <td>54</td>\n",
       "      <td>34</td>\n",
       "      <td>14</td>\n",
       "      <td>30</td>\n",
       "    </tr>\n",
       "    <tr>\n",
       "      <th>age_restriction</th>\n",
       "      <td>0</td>\n",
       "      <td>0</td>\n",
       "      <td>0</td>\n",
       "      <td>0</td>\n",
       "      <td>0</td>\n",
       "      <td>0</td>\n",
       "      <td>0</td>\n",
       "      <td>0</td>\n",
       "      <td>0</td>\n",
       "      <td>0</td>\n",
       "    </tr>\n",
       "    <tr>\n",
       "      <th>refundable_support</th>\n",
       "      <td>985</td>\n",
       "      <td>622</td>\n",
       "      <td>593</td>\n",
       "      <td>628</td>\n",
       "      <td>791</td>\n",
       "      <td>619</td>\n",
       "      <td>757</td>\n",
       "      <td>464</td>\n",
       "      <td>835</td>\n",
       "      <td>860</td>\n",
       "    </tr>\n",
       "    <tr>\n",
       "      <th>nonrefundable_support</th>\n",
       "      <td>985</td>\n",
       "      <td>622</td>\n",
       "      <td>593</td>\n",
       "      <td>628</td>\n",
       "      <td>791</td>\n",
       "      <td>619</td>\n",
       "      <td>757</td>\n",
       "      <td>464</td>\n",
       "      <td>835</td>\n",
       "      <td>860</td>\n",
       "    </tr>\n",
       "    <tr>\n",
       "      <th>budget</th>\n",
       "      <td>985</td>\n",
       "      <td>622</td>\n",
       "      <td>593</td>\n",
       "      <td>628</td>\n",
       "      <td>791</td>\n",
       "      <td>619</td>\n",
       "      <td>757</td>\n",
       "      <td>464</td>\n",
       "      <td>835</td>\n",
       "      <td>860</td>\n",
       "    </tr>\n",
       "    <tr>\n",
       "      <th>financing_source</th>\n",
       "      <td>985</td>\n",
       "      <td>622</td>\n",
       "      <td>593</td>\n",
       "      <td>628</td>\n",
       "      <td>791</td>\n",
       "      <td>619</td>\n",
       "      <td>757</td>\n",
       "      <td>464</td>\n",
       "      <td>835</td>\n",
       "      <td>860</td>\n",
       "    </tr>\n",
       "    <tr>\n",
       "      <th>ratings</th>\n",
       "      <td>73</td>\n",
       "      <td>46</td>\n",
       "      <td>46</td>\n",
       "      <td>47</td>\n",
       "      <td>67</td>\n",
       "      <td>82</td>\n",
       "      <td>102</td>\n",
       "      <td>69</td>\n",
       "      <td>232</td>\n",
       "      <td>203</td>\n",
       "    </tr>\n",
       "    <tr>\n",
       "      <th>genres</th>\n",
       "      <td>73</td>\n",
       "      <td>46</td>\n",
       "      <td>46</td>\n",
       "      <td>47</td>\n",
       "      <td>67</td>\n",
       "      <td>83</td>\n",
       "      <td>106</td>\n",
       "      <td>70</td>\n",
       "      <td>232</td>\n",
       "      <td>206</td>\n",
       "    </tr>\n",
       "    <tr>\n",
       "      <th>box_office</th>\n",
       "      <td>880</td>\n",
       "      <td>513</td>\n",
       "      <td>465</td>\n",
       "      <td>446</td>\n",
       "      <td>528</td>\n",
       "      <td>240</td>\n",
       "      <td>292</td>\n",
       "      <td>148</td>\n",
       "      <td>416</td>\n",
       "      <td>400</td>\n",
       "    </tr>\n",
       "  </tbody>\n",
       "</table>\n",
       "</div>"
      ],
      "text/plain": [
       "year                   2010  2011  2012  2013  2014  2015  2016  2017  2018  \\\n",
       "title                     0     0     0     0     0     0     0     0     0   \n",
       "puNumber                  0     0     0     0     0     0     0     0     0   \n",
       "show_start_date           0     0     0     0     0     0     0     0     0   \n",
       "type                      0     0     0     0     0     0     0     0     0   \n",
       "film_studio               1     0     0     0     1     0     0     0    12   \n",
       "production_country        1     0     0     0     0     0     1     0     0   \n",
       "director                  5     2     1     1     0     0     0     0     0   \n",
       "producer                 40    15    26    89   189    77    54    34    14   \n",
       "age_restriction           0     0     0     0     0     0     0     0     0   \n",
       "refundable_support      985   622   593   628   791   619   757   464   835   \n",
       "nonrefundable_support   985   622   593   628   791   619   757   464   835   \n",
       "budget                  985   622   593   628   791   619   757   464   835   \n",
       "financing_source        985   622   593   628   791   619   757   464   835   \n",
       "ratings                  73    46    46    47    67    82   102    69   232   \n",
       "genres                   73    46    46    47    67    83   106    70   232   \n",
       "box_office              880   513   465   446   528   240   292   148   416   \n",
       "\n",
       "year                   2019  \n",
       "title                     0  \n",
       "puNumber                  0  \n",
       "show_start_date           0  \n",
       "type                      0  \n",
       "film_studio               4  \n",
       "production_country        0  \n",
       "director                  0  \n",
       "producer                 30  \n",
       "age_restriction           0  \n",
       "refundable_support      860  \n",
       "nonrefundable_support   860  \n",
       "budget                  860  \n",
       "financing_source        860  \n",
       "ratings                 203  \n",
       "genres                  206  \n",
       "box_office              400  "
      ]
     },
     "execution_count": 19,
     "metadata": {},
     "output_type": "execute_result"
    }
   ],
   "source": [
    "data_isna['year'] = data['show_start_date'].dt.year\n",
    "data_isna.groupby(by='year').agg(sum).transpose()"
   ]
  },
  {
   "cell_type": "markdown",
   "metadata": {},
   "source": []
  },
  {
   "cell_type": "markdown",
   "metadata": {},
   "source": [
    "<span style=\"color:blue\">***Пустые значения в категориальных столбцах можно заменить на значение \".... неизвестно(-ен)\"***</span>"
   ]
  },
  {
   "cell_type": "code",
   "execution_count": 20,
   "metadata": {},
   "outputs": [],
   "source": [
    "data['film_studio'] = data['film_studio'].fillna(value='Студия неизвестна')\n",
    "data['production_country'] = data['production_country'].fillna(value='Страна неизвестна')\n",
    "data['director'] = data['director'].fillna(value='Режисер неизвестен')\n",
    "data['producer'] = data['producer'].fillna(value='Продюссер неизвестен')\n",
    "data['genres'] = data['genres'].fillna(value='Жанр неизвестен')"
   ]
  },
  {
   "cell_type": "markdown",
   "metadata": {},
   "source": [
    "<span style=\"color:blue\">***Данные по гос поддержке не указаны как для возвратных так и невозвратных инвестиций, то есть либо данных не было либо гос поддержка отсутствовала. Столбец budget показывает объём государственной поддержки и данные в этом столбце указаны только для тех фильмов, которые получили государственную поддержку. А пропущенные в нем значения тоже заменим на 0. В столбце сборы есть пропущенные значения, они связаны либо с отсутствием данных либо в связи с тем, что фильм только недавно вышел в прокат.***</span>"
   ]
  },
  {
   "cell_type": "code",
   "execution_count": 21,
   "metadata": {},
   "outputs": [],
   "source": [
    "data['refundable_support'] = data['refundable_support'].fillna(value=0)\n",
    "data['nonrefundable_support'] = data['nonrefundable_support'].fillna(value=0)\n",
    "data['budget'] = data['budget'].fillna(value=0)\n",
    "data['box_office'] = data['box_office'].fillna(value=0)"
   ]
  },
  {
   "cell_type": "code",
   "execution_count": 22,
   "metadata": {},
   "outputs": [
    {
     "data": {
      "text/plain": [
       "title                       0\n",
       "puNumber                    0\n",
       "show_start_date             0\n",
       "type                        0\n",
       "film_studio                 0\n",
       "production_country          0\n",
       "director                    0\n",
       "producer                    0\n",
       "age_restriction             0\n",
       "refundable_support          0\n",
       "nonrefundable_support       0\n",
       "budget                      0\n",
       "financing_source         7154\n",
       "ratings                   967\n",
       "genres                      0\n",
       "box_office                  0\n",
       "dtype: int64"
      ]
     },
     "execution_count": 22,
     "metadata": {},
     "output_type": "execute_result"
    }
   ],
   "source": [
    "data.isna().sum()"
   ]
  },
  {
   "cell_type": "markdown",
   "metadata": {
    "id": "4c6k1t9ygFyQ"
   },
   "source": [
    "#### Шаг 2.3. Изучите дубликаты в датафрейме\n",
    "- Проверьте, есть ли в данных дубликаты. Опишите причины, которые могли повлиять на появление дублей."
   ]
  },
  {
   "cell_type": "code",
   "execution_count": 23,
   "metadata": {
    "id": "aKck8RIdgFyQ"
   },
   "outputs": [
    {
     "data": {
      "text/plain": [
       "title                    6772\n",
       "puNumber                 7484\n",
       "show_start_date          1965\n",
       "type                        8\n",
       "film_studio              5491\n",
       "production_country        951\n",
       "director                 4812\n",
       "producer                 5350\n",
       "age_restriction             5\n",
       "refundable_support         34\n",
       "nonrefundable_support      75\n",
       "budget                    290\n",
       "financing_source            3\n",
       "ratings                    84\n",
       "genres                    743\n",
       "box_office               2938\n",
       "dtype: int64"
      ]
     },
     "execution_count": 23,
     "metadata": {},
     "output_type": "execute_result"
    }
   ],
   "source": [
    "data.nunique()"
   ]
  },
  {
   "cell_type": "code",
   "execution_count": 24,
   "metadata": {},
   "outputs": [
    {
     "data": {
      "text/html": [
       "<div>\n",
       "<style scoped>\n",
       "    .dataframe tbody tr th:only-of-type {\n",
       "        vertical-align: middle;\n",
       "    }\n",
       "\n",
       "    .dataframe tbody tr th {\n",
       "        vertical-align: top;\n",
       "    }\n",
       "\n",
       "    .dataframe thead th {\n",
       "        text-align: right;\n",
       "    }\n",
       "</style>\n",
       "<table border=\"1\" class=\"dataframe\">\n",
       "  <thead>\n",
       "    <tr style=\"text-align: right;\">\n",
       "      <th></th>\n",
       "      <th>title</th>\n",
       "      <th>puNumber</th>\n",
       "      <th>show_start_date</th>\n",
       "      <th>type</th>\n",
       "      <th>film_studio</th>\n",
       "      <th>production_country</th>\n",
       "      <th>director</th>\n",
       "      <th>producer</th>\n",
       "      <th>age_restriction</th>\n",
       "      <th>refundable_support</th>\n",
       "      <th>nonrefundable_support</th>\n",
       "      <th>budget</th>\n",
       "      <th>financing_source</th>\n",
       "      <th>ratings</th>\n",
       "      <th>genres</th>\n",
       "      <th>box_office</th>\n",
       "    </tr>\n",
       "  </thead>\n",
       "  <tbody>\n",
       "    <tr>\n",
       "      <th>4638</th>\n",
       "      <td>Как жениться и остаться холостым</td>\n",
       "      <td>221154310</td>\n",
       "      <td>2010-12-17 12:00:00+00:00</td>\n",
       "      <td>Художественный</td>\n",
       "      <td>Ше Вам, Скрипт Ассосье, Тэ Фэ 1 Фильм Продюксь...</td>\n",
       "      <td>Франция</td>\n",
       "      <td>Эрик Лартиго</td>\n",
       "      <td>Амандин Било, Алан Шаба</td>\n",
       "      <td>«16+» - для детей старше 16 лет</td>\n",
       "      <td>0.0</td>\n",
       "      <td>0.0</td>\n",
       "      <td>0.0</td>\n",
       "      <td>NaN</td>\n",
       "      <td>7.0</td>\n",
       "      <td>мелодрама,комедия</td>\n",
       "      <td>0.0</td>\n",
       "    </tr>\n",
       "    <tr>\n",
       "      <th>4639</th>\n",
       "      <td>Иоанна - женщина на папском престоле /По роман...</td>\n",
       "      <td>221154310</td>\n",
       "      <td>2010-12-17 12:00:00+00:00</td>\n",
       "      <td>Художественный</td>\n",
       "      <td>Константин Фильм, А Эр Ди Дегето Фильм, Дюне ...</td>\n",
       "      <td>Германия - Великобритания - Италия - Испания</td>\n",
       "      <td>Зенке Вортманн</td>\n",
       "      <td>Оливер Бербен, Дорис Д.Хайнце, Фарук Элтан</td>\n",
       "      <td>«16+» - для детей старше 16 лет</td>\n",
       "      <td>0.0</td>\n",
       "      <td>0.0</td>\n",
       "      <td>0.0</td>\n",
       "      <td>NaN</td>\n",
       "      <td>7.6</td>\n",
       "      <td>драма,мелодрама,история</td>\n",
       "      <td>0.0</td>\n",
       "    </tr>\n",
       "    <tr>\n",
       "      <th>5067</th>\n",
       "      <td>Анализируй это!</td>\n",
       "      <td>221054410</td>\n",
       "      <td>2010-05-25 12:00:00+00:00</td>\n",
       "      <td>Художественный</td>\n",
       "      <td>Уорнер Бразерс, Вилладж Роудшоу Филмз ЛТД</td>\n",
       "      <td>США-Австралия</td>\n",
       "      <td>ХЭрольд Рэмис</td>\n",
       "      <td>Джейн Розенталь, Пола Уейнстейн</td>\n",
       "      <td>«16+» - для детей старше 16 лет</td>\n",
       "      <td>0.0</td>\n",
       "      <td>0.0</td>\n",
       "      <td>0.0</td>\n",
       "      <td>NaN</td>\n",
       "      <td>7.4</td>\n",
       "      <td>комедия,криминал</td>\n",
       "      <td>0.0</td>\n",
       "    </tr>\n",
       "    <tr>\n",
       "      <th>5068</th>\n",
       "      <td>Анализируй то!</td>\n",
       "      <td>221054410</td>\n",
       "      <td>2010-05-25 12:00:00+00:00</td>\n",
       "      <td>Художественный</td>\n",
       "      <td>Уорнер Бразерс, Виллидж Роадшоу Пикчерз, Эн-Пи...</td>\n",
       "      <td>США</td>\n",
       "      <td>Гарольд Реймис</td>\n",
       "      <td>Джейн Розенталь, Паул Уэйнстейн</td>\n",
       "      <td>«12+» - для детей старше 12 лет</td>\n",
       "      <td>0.0</td>\n",
       "      <td>0.0</td>\n",
       "      <td>0.0</td>\n",
       "      <td>NaN</td>\n",
       "      <td>6.8</td>\n",
       "      <td>комедия,криминал</td>\n",
       "      <td>0.0</td>\n",
       "    </tr>\n",
       "  </tbody>\n",
       "</table>\n",
       "</div>"
      ],
      "text/plain": [
       "                                                  title   puNumber  \\\n",
       "4638                   Как жениться и остаться холостым  221154310   \n",
       "4639  Иоанна - женщина на папском престоле /По роман...  221154310   \n",
       "5067                                    Анализируй это!  221054410   \n",
       "5068                                     Анализируй то!  221054410   \n",
       "\n",
       "               show_start_date            type  \\\n",
       "4638 2010-12-17 12:00:00+00:00  Художественный   \n",
       "4639 2010-12-17 12:00:00+00:00  Художественный   \n",
       "5067 2010-05-25 12:00:00+00:00  Художественный   \n",
       "5068 2010-05-25 12:00:00+00:00  Художественный   \n",
       "\n",
       "                                            film_studio  \\\n",
       "4638  Ше Вам, Скрипт Ассосье, Тэ Фэ 1 Фильм Продюксь...   \n",
       "4639   Константин Фильм, А Эр Ди Дегето Фильм, Дюне ...   \n",
       "5067          Уорнер Бразерс, Вилладж Роудшоу Филмз ЛТД   \n",
       "5068  Уорнер Бразерс, Виллидж Роадшоу Пикчерз, Эн-Пи...   \n",
       "\n",
       "                                production_country        director  \\\n",
       "4638                                       Франция    Эрик Лартиго   \n",
       "4639  Германия - Великобритания - Италия - Испания  Зенке Вортманн   \n",
       "5067                                 США-Австралия   ХЭрольд Рэмис   \n",
       "5068                                           США  Гарольд Реймис   \n",
       "\n",
       "                                        producer  \\\n",
       "4638                     Амандин Било, Алан Шаба   \n",
       "4639  Оливер Бербен, Дорис Д.Хайнце, Фарук Элтан   \n",
       "5067             Джейн Розенталь, Пола Уейнстейн   \n",
       "5068             Джейн Розенталь, Паул Уэйнстейн   \n",
       "\n",
       "                      age_restriction  refundable_support  \\\n",
       "4638  «16+» - для детей старше 16 лет                 0.0   \n",
       "4639  «16+» - для детей старше 16 лет                 0.0   \n",
       "5067  «16+» - для детей старше 16 лет                 0.0   \n",
       "5068  «12+» - для детей старше 12 лет                 0.0   \n",
       "\n",
       "      nonrefundable_support  budget financing_source  ratings  \\\n",
       "4638                    0.0     0.0              NaN      7.0   \n",
       "4639                    0.0     0.0              NaN      7.6   \n",
       "5067                    0.0     0.0              NaN      7.4   \n",
       "5068                    0.0     0.0              NaN      6.8   \n",
       "\n",
       "                       genres  box_office  \n",
       "4638        мелодрама,комедия         0.0  \n",
       "4639  драма,мелодрама,история         0.0  \n",
       "5067         комедия,криминал         0.0  \n",
       "5068         комедия,криминал         0.0  "
      ]
     },
     "execution_count": 24,
     "metadata": {},
     "output_type": "execute_result"
    }
   ],
   "source": [
    "data.loc[data['puNumber'].duplicated(keep=False)]"
   ]
  },
  {
   "cell_type": "markdown",
   "metadata": {},
   "source": [
    "<span style=\"color:blue\">***Номер прокатного удостоверения фильмов Анализируй это! и Анализируй то! лучше сделать разными. Фильмы вышли в одно и то же время. Возможно это один и тот же фильм просто в разных местах называются по разному. У них отличаются только возрастные ограничения, вероятно это связано с регионом показа(страны, области, республики). Поэтому присвою фильму Анализируй это! рейтинг 100000001. Аналогично поступлю с фильмом Как жениться и остаться холостым и присвою номер 100000002***</span>"
   ]
  },
  {
   "cell_type": "code",
   "execution_count": 25,
   "metadata": {},
   "outputs": [],
   "source": [
    "data.loc[(data['title'] == 'Анализируй это!') & (data['puNumber'] == '221054410'), 'puNumber'] = 100000001"
   ]
  },
  {
   "cell_type": "code",
   "execution_count": 26,
   "metadata": {},
   "outputs": [],
   "source": [
    "data.loc[(data['title'] == 'Как жениться и остаться холостым') & (data['puNumber'] == \n",
    "                                                                  '221154310'), 'puNumber'] = 100000002"
   ]
  },
  {
   "cell_type": "code",
   "execution_count": 27,
   "metadata": {},
   "outputs": [
    {
     "data": {
      "text/plain": [
       "array(['США', 'СССР', 'Франция', 'СССР, Венгрия',\n",
       "       'Германия-Великобритания', 'Великобритания - Италия',\n",
       "       'Чехословакия', 'США - Франция - Турция', 'Новая Зеландия',\n",
       "       'Канада - Франция - Испания', 'США-Германия',\n",
       "       'США - Великобритания', 'Великобритания', 'США - Германия',\n",
       "       'Франция - Мексика - США', 'Россия, Казахстан, США',\n",
       "       'СССР, Швеция', 'СССР, Франция, Англия, Куба, ГДР', 'Германия',\n",
       "       'Великобритания-США-Германия-КНР',\n",
       "       'СССР, ЧССР, Западный Берлин, ПНР', 'СССР, Италия', 'Гонконг, КНР',\n",
       "       'США - Франция', 'США - Япония - Франция - Великобритания',\n",
       "       'Гонконг - Сингапур - Таиланд - Великобритания', 'США-Канада',\n",
       "       'Франция - Италия - Великобритания - США', 'Франция - США',\n",
       "       'Ирландия-Великобритания-Германия', 'Чехия', 'США-Австралия',\n",
       "       'СССР, Финляндия', 'США-Франция-Великобритания-Австрия',\n",
       "       'США - Бельгия', 'США - Ирландия - Великобритания',\n",
       "       'Великобритания - США',\n",
       "       'Люксембург - Нидерланды - Испания - Великобритания - США - Италия',\n",
       "       'Великобритания - Франция - США', 'Новая Зеландия - США',\n",
       "       'США - Великобритания - Чехия',\n",
       "       'Канада - Франция - Великобритания', 'Ирландия',\n",
       "       'Великобритания - Германия - США',\n",
       "       'США - Франция - Великобритания', 'Япония', 'СССР, Польша',\n",
       "       'Франция - Испания', 'Канада-Франция', 'Германия - Италия - США',\n",
       "       'Аргентина - Бразилия', 'Дания - Швейцария - Бельгия - Франция',\n",
       "       'США - Испания', 'Германия - США',\n",
       "       'Франция - Австрия - Германия - Италия - США', 'Австрия',\n",
       "       'США - Канада - Германия', 'США - Канада',\n",
       "       'СССР - Швейцария - Франция', 'Россия - Казахстан', 'Гонконг',\n",
       "       'Италия', 'США - ОАЭ', 'Россия',\n",
       "       'США - Франция - Испания - Великобритания',\n",
       "       'Великобритания - Франция', 'США-Италия-Испания-Аргентина',\n",
       "       'Франция-Великобритания', 'КНР - Гонконг',\n",
       "       'Франция - Италия - Швейцария', 'США - Новая Зеландия',\n",
       "       'Франция - Бельгия', 'КНР', 'Германия - Великобритания - Австрия',\n",
       "       'Великобритания - Израиль - Франция - Япония - США', 'Швеция',\n",
       "       'Испания', 'Дания', 'Франция - Бельгия - Люксембург',\n",
       "       'США - Индия - ОАЭ',\n",
       "       'Германия-Канада-Великобритания-Швейцария-Франция',\n",
       "       'Мексика - Чили', 'Аргентина', 'Бразилия', 'Чили', 'Австралия',\n",
       "       'Португалия - Франция', 'США - ЮАР', 'Исландия-Ирландия-Германия',\n",
       "       'США-Индонезия', 'Южная Корея', 'Мексика - Испания - Дания - США',\n",
       "       'Великобритания-США', 'Франция - Италия', 'США-Франция',\n",
       "       'США - Венгрия - Великобритания', 'Бельгия-Франция-Италия',\n",
       "       'Чехия - Германия', 'Германия - Франция', 'США-Нидерланды',\n",
       "       'Украина', 'Великобритания - Германия', 'Франция-Бельгия',\n",
       "       'США-Франция-Испания', 'Италия - Франция', 'Канада',\n",
       "       'Швеция-Франция-Дания', 'Германия-Франция-Польша',\n",
       "       'Франция-Великобритания - Германия',\n",
       "       'США - Бразилия - Франция - Австралия - Великобритания - Германия',\n",
       "       'Германия-Австрия', 'Германия-Италия- Шри-Ланка',\n",
       "       'Великобритания - Испания',\n",
       "       'США - Великобритания - Канада - Швеция',\n",
       "       'Босния и Герцеговина - Франция - Великобритания - Германия - Словения - Бельгия - Сербия',\n",
       "       'Великобритания - Франция - Италия - США', 'США-ОАЭ',\n",
       "       'Испания - Франция', 'США-Великобритания', 'США-ЮАР',\n",
       "       'Великобритания-Австралия - США',\n",
       "       'Норвегия - Швеция - Дания - Германия', 'Норвегия', 'Швейцария',\n",
       "       'Греция - Германия - Франция', 'Норвения', 'Южная Корея - США',\n",
       "       'Чили - Франция - США', 'Австрия - Германия - Франция',\n",
       "       'Швеция - Дания', 'Великобритания - Франция - Бельгия - Италия',\n",
       "       'Франция - Германия', 'Грузия - Франция - Люксембург',\n",
       "       'США - Франция - Великобритания - Бразилия ', 'США - КНР',\n",
       "       'Мексика - Франция', 'США - Германия - Гонконг - Сингапур',\n",
       "       'Финляндия - Австрия - Россия', 'Испания - Куба',\n",
       "       'Великобритания - ЮАР', 'Великобритания - Ирландия', 'Израиль',\n",
       "       'Бразилия - Германия - Порртугалия - Франция ',\n",
       "       'Франция - Канада - Бельгия', 'Франция-Испания',\n",
       "       'Испания - Канада - Япония', 'Иран', 'Швеция-Куба',\n",
       "       'США-Великобритания-Ирландия', 'Гонконг - КНР', 'Нидерланды',\n",
       "       'Испания - Канада', 'Япония-Великобритания',\n",
       "       'Великобритания - Норвегия - Дания - Германия',\n",
       "       'Финляндия - Франция - Германия',\n",
       "       'Мексика - Франция - Нидерланды - Германия', 'США - Индия',\n",
       "       'США-Великобритания-Индия', 'США-Канада-Бельгия',\n",
       "       'Республика Узбекистан', 'Италия ', 'Турция',\n",
       "       'Сербия - Словения - Хорватия - Черногория - Македония',\n",
       "       'Киргизия', 'Германия - Нидерланды - Беларусь - Россия - Латвия',\n",
       "       'Индия', 'Нидерланды - Россия - Германия',\n",
       "       'Великобритания - Нидерланды - Франция - Хорватия',\n",
       "       'Канада - Южная Корея',\n",
       "       'Великобритания - Польша - КНР - Индия - Норвегия',\n",
       "       'Япония - Франция - США - Южная Корея - Турция',\n",
       "       'Мексика - Аргентина - Великобритания', 'Израиль - Франция',\n",
       "       'Польша - Португалия - Франция - Великобритания',\n",
       "       'Австралия - США', 'США - Великобритания ',\n",
       "       'Франция - Люксембург - Бельгия', 'Армения',\n",
       "       'Бельгия - Люксембург - Франция - Швейцария',\n",
       "       'США - Великобритания - Канада', 'Норвегия - Швеция',\n",
       "       'Канада - Франция', 'КНР - Гонконг - США',\n",
       "       'США - Сингапур - Малайзия - Индонезия', 'Германия - Россия',\n",
       "       'Япония - Канада', 'Финляндия - Дания - Германия - Ирландия',\n",
       "       'Франция - Люксембург - Германия - Бельгия - Швейцария - Великобритания ',\n",
       "       'Канада - США', 'США-Италия-Испания', 'США-Испания',\n",
       "       'США - Швейцария - Франция', 'Испания - США - Колумбия',\n",
       "       'Канада-ЮАР', 'Франция - Россия',\n",
       "       'Германия - Финляндия - Австралия', 'Дания - Швеция', 'Бельгия',\n",
       "       'Германия - Франция - Австрия', 'Франция-Индия', 'ЮАР',\n",
       "       'Франция-Перу', 'Франция - Канада', 'Республика Беларусь',\n",
       "       'Великобритания - Австрия - Франция - США',\n",
       "       'Австрия-Германия-Франция', 'США-Россия', 'Германия-США',\n",
       "       'США - Южная Корея', 'Канада - КНР',\n",
       "       'Дания - Швеция - Италия - Франция - Германия',\n",
       "       'Франция-Италия-Испания-Венгрия', 'Франция - Германия - Бельгия',\n",
       "       'Франция-Великобритания-Чехия', 'Румыния - Франция - Бельгия',\n",
       "       'Болгария - Франция - Изриль',\n",
       "       'Израиль - Германия - Польша - Бельгия - Франция - Люксембург',\n",
       "       'Россия, Германия, Франция, Бельгия', 'Индонезия',\n",
       "       'Франция - Португалия', 'Великобритания - Пуэрто-Рико',\n",
       "       'СССР, ФРГ, Западный Берлин', 'Россия, Республика Беларусь',\n",
       "       'США, Великобритания', 'Франция - Австрия', 'Бельгия-Нидерланды',\n",
       "       'Великобритания - США - Индия', 'США - Великобритания - Австралия',\n",
       "       'Канада - Франция - США - ОАЭ - Великобритания',\n",
       "       'США - Австралия - Франция',\n",
       "       'Дания-Франция-Бельгия-Германия-Великобритания',\n",
       "       'Испания - Аргентина', 'Исландия - Финляндия',\n",
       "       'Россия-Польша-Голландия-Словакия', 'Дания - Германия - Швеция',\n",
       "       'Южная Корея - США - Канада', 'Таиланд', 'США-Мальта',\n",
       "       'США -Германия',\n",
       "       'Великобритания - Германия - Франция - Кипр - США', 'Мексика',\n",
       "       'США - Великобритания - Ирландия', 'США - Украина',\n",
       "       'США - Финляндия - Испания - Великобритания - Франция',\n",
       "       'Австралия-Великобритания',\n",
       "       'США - Канада - Афганистан - Бельгия - Франция',\n",
       "       'США - Великобритания - Германия - Новая Зеландия - Бельгия - Франция',\n",
       "       'Франция-Канада',\n",
       "       'Ирландия - Финляндия - Бельгия - Великобритания - США - Швейцария',\n",
       "       'Малайзия - США', 'Германия - Италия',\n",
       "       'США - Франция - Бельгия - Италия', 'Франция - Ирландия - Швеция',\n",
       "       'Азербайджан-Россия', 'Великобритания - Италия - Швейцария',\n",
       "       'США - Германия - Великобритания',\n",
       "       'Германия - Бельгия - США -Франция', 'США-Китай', 'Чили - Испания',\n",
       "       'Франция - Швейцария', 'Канада - Испания',\n",
       "       'США - Румыния - Великобритания', 'США - Япония',\n",
       "       'США - Россия - Франция', 'Франция-США', 'Парагвай',\n",
       "       'Германия - Канада', 'США - Канада - Великобритания',\n",
       "       'Финляндия - Канада', 'Уругвай-Мексика-Германия ', 'США - Чили',\n",
       "       'Германия - Аргентина - Нидерланды - Чили',\n",
       "       'США - Канада - Индонезия', 'Армения - Казахстан', 'Финляндия',\n",
       "       'Испания - Италия - Франция',\n",
       "       'Бельгия - Испания - Канада - Нидерланды',\n",
       "       'Великобритания - Франция - Швеция - Бельгия',\n",
       "       'Мексика - Эквадор - Канада - США - Франция - Малайзия - Италия - Аргентина - Германия - Индия  ',\n",
       "       'Франция - Бенльгия', 'Индия - Великобритания',\n",
       "       'Япония - Великобритания - Франция',\n",
       "       'Испания - Уругвай - Аргентина',\n",
       "       'Франция - Италия - Бельгия - Люксембург',\n",
       "       'Франция - Украина - Грузия - Армения',\n",
       "       'Сербия - Германия - Венгрия', 'Франция-Польша', 'Франция ',\n",
       "       'Румыния-США', 'Россия-Азербайджан',\n",
       "       'США - Нидерланды - Бельгия - Венгрия - Греция - Канада',\n",
       "       'Германия - Франция - Люксембург', 'США - Россия',\n",
       "       'Великобритания - США - Франция', 'США - Австралия - Дания',\n",
       "       'Бельгия-Франция', 'США-Мексика',\n",
       "       'Норвегия - Азербайджан - Россия - Колумбия - Великобритания - Венгрия - Румыния - Франция - Грузия',\n",
       "       'СЩА', 'Бразилия - Испания', 'Россия, Франция, Латвия',\n",
       "       'Нидерланды - США - Германия - Канада - Франция - Ирландия - Великобритания',\n",
       "       'Уругвай - Колумбия', 'США - Испания - Болгария',\n",
       "       'Армения - Германия', 'США - Великобритания- Франция - Швеция',\n",
       "       'США - Мексика', 'Австралия-Турция-США', 'Швеция - Германия',\n",
       "       'Польша - Италия - Россия', 'Франция - Бразилия',\n",
       "       'США - Канада - КНР', 'СССР, Венгрия, ЧССР, ГДР',\n",
       "       'Бельгия - Германия - Люксембург', 'СССР  ', 'СССР ', ' СССР ',\n",
       "       'США - Австралия', 'Бразилия - США',\n",
       "       'США - Великобритания - Канада - КНР', 'Франция - Чили',\n",
       "       'Франция - США - Великобритания - Колумбия - Бельгия - Россия',\n",
       "       'Дания - Великобритания - ЮАР', 'СССР   ',\n",
       "       'Россия-США-Канада-Люксембург', 'Россия - Республика Кипр',\n",
       "       'Германия - США - Швеция - Франция',\n",
       "       'Великобритания-Германия-Канада-ЮАР', ' СССР   ', 'СССР     ',\n",
       "       'Ирландия, Канада',\n",
       "       'Япония - Великобритания - Швейцария - Ирландия - Дания - Франция - Польша - Австралия - Канада  ',\n",
       "       'Великобритания, Канада', 'Бельгия - США',\n",
       "       'Великобритания - США - Россия', 'Россия-Украина',\n",
       "       'Германия - США - Великобритания - Израиль', 'Канада - Германия',\n",
       "       'США- Ю.Корея', 'Индия - Мексика',\n",
       "       'Великобритания - Франция - Республика Кипр - Швейцария - США - Сербия',\n",
       "       'Испания - Аргентина - Индия - США',\n",
       "       'Норвегия - Исландия - США - Великобритания ',\n",
       "       'Турция - Германя - Франция', 'Германия - Великобритания',\n",
       "       'Австралия - Германия', 'Мексика - Испания',\n",
       "       'Великобритания - США - Германия - Бельгия',\n",
       "       'США - Чехия - Франция', 'Россия - Италия', 'Франция-Россия',\n",
       "       'Норвегия - Дания - Швеция', 'Франция - Швейцария - Германия',\n",
       "       'Грузия - Украина', 'Россия - Эстония - Финляндия - Беларусь',\n",
       "       'США - Франция - ЮАР', 'Великобритания - США - Швейцария',\n",
       "       'Канада-США', 'Мексика - Нидерланды - Германия - Франция',\n",
       "       'США - Испания - Франция', 'США - Великобритания - КНР',\n",
       "       'США-Франция-Канада',\n",
       "       'Япония, Великобритания, Австрия, Германия, Ю.Корея',\n",
       "       'Великобритания - Ирландия - США', 'Бельгия - Италия - Франция ',\n",
       "       'Швейцария-Германия-ЮАР', 'Великобритания - США - Германия',\n",
       "       'Германия - Исландия', 'Испания - США', 'СССР    ', 'Хорватия',\n",
       "       'Финляндия - Исландия - Швеция',\n",
       "       'Канада - США - Германия - Франция',\n",
       "       'США - Великобритания - Испания', 'Ирландия-Великобритания',\n",
       "       'Аргентина - Испания', 'Австрия - Германия', ' СССР',\n",
       "       'Германия - Швейцария - Франция - Южная Корея - США',\n",
       "       'Украина - Нидерланды', 'Венгрия - Германия - Швеция',\n",
       "       'Германия - Франция -  Польша - Турция - Канада - Италия - Россия ',\n",
       "       'СССР, Афганистан', 'СССР, Монголия', 'Россия-Кипр',\n",
       "       'Россия, Грузия, Испания',\n",
       "       'Великобритания - Нидерланды - Германия - Франция - Бельгия - Австрия ',\n",
       "       'Испания - Великобритания - Франция',\n",
       "       'Дания - Норвегия - Великобритания',\n",
       "       'Бельгия - Франция - Люксембург',\n",
       "       'Италия - Франция - Швейцария - Великобритания',\n",
       "       'Франция - Бельгия - Великобритания - Испания - Германия - США',\n",
       "       'Швейцария - Израиль - Франция - Великобритания',\n",
       "       'Великобритания - США - Канада - Нидерланды - Франция',\n",
       "       'Россия, Италия', 'СССР, Албания',\n",
       "       'Россия, Украина, Республика Беларусь, Литва',\n",
       "       'Финляндия - Великобритания - Германия', 'Россия, Украина, Польша',\n",
       "       'Франция - Италия - Бельгия - КНР',\n",
       "       'Германия - Бельгия - Люксембург - Ирландия', 'КНР - Сингапур',\n",
       "       'Франция - Бельгия - Великобритания - США - Нидерланды - Канада',\n",
       "       'США - Россия - Польша - Германия - Пуэрто Рико',\n",
       "       'Франция - Бельгия - Канада', 'США ', 'Мексика - США',\n",
       "       'США - Гонконг - КНР ', 'Греция - Россия',\n",
       "       'Ирландия - Дания - Бельгия - Люксембург - Франция',\n",
       "       'Эстония - Россия',\n",
       "       'Великобритания - Исландия - Испания - Швейцария - США',\n",
       "       'Австралия - Великобритания - Бельгия - Индия',\n",
       "       'Швеция - Германия - Франция - Норвегия',\n",
       "       'Нидерланды - Бельгия - Германия - Ирландия',\n",
       "       'Нидерланды - Великобритания - Бельгия',\n",
       "       'США - Колумбия - Испания', 'Франция-Испания-Бельгия-Панама',\n",
       "       'США-Великобритания-Чехия-Румыния',\n",
       "       'Аргентина - Уругвай - Россия - Германия - Франция - Нидерланды',\n",
       "       'Швеция - Франция - Норвегия - Дания',\n",
       "       'Италия-Франция-Великобритания', 'Великобритания, Франция',\n",
       "       'Австралия, США', 'Венесуэла',\n",
       "       'Великобритания - США - Австралия - Ирландия - Германия - Куба - Канада',\n",
       "       'Южная Корея - КНР',\n",
       "       'Аргентина - Мексика - Бразилия - Франция - США', 'Швеция - США',\n",
       "       'Франция - Германия - Турция - Катар', 'Франция-Китай',\n",
       "       'Россия, Германия, Великобритания',\n",
       "       'Великобритания - Италия - Испания', 'Италия - Россия',\n",
       "       'Япония - КНР - Южная Корея', 'Россия, Германия',\n",
       "       'Россия-Ирландия', 'Македония - Франция - Великобритания',\n",
       "       'Франция - Бразилия - Италия', 'Россия-США', 'Армения-Россия',\n",
       "       'Россия, Румыния', 'Франция -  Бельгия', 'Грузия-Франция',\n",
       "       'ЮАР - США', 'Великобритания-США-Франция',\n",
       "       'Великобритания - США - Германия - Канада - Австралия',\n",
       "       'США-Ирландия', 'Россия, Республика Кипр',\n",
       "       'Германия - Люксембург - Франция', 'Россия-Франция',\n",
       "       'США - Нидерланды - Финляндия - Великобритания - Италия',\n",
       "       'Республика Кипр', 'Венгрия', 'Франция - США - Норвегия - Дания',\n",
       "       'Германия - Австрия - Ирландия', 'США - Финляндия',\n",
       "       'Италия-Великобритания', 'Россия, Испания',\n",
       "       'США - Великобритания - Болгария', 'Великобритания - Люксембург',\n",
       "       'Индия - США', 'США - Канада - Россия - Франция - Чили - Ирландия',\n",
       "       'Грузия-Россия',\n",
       "       'Дания - Австрия - Ирландия - Финляндия - Норвегия - Швеция - Нидерланды',\n",
       "       'США-КНР', 'Грузия', 'Австралия - Ирландия',\n",
       "       'Великобритания - Канада', 'Италия - Аргентина - Словения ',\n",
       "       'Испания - Франция - Нидерланды - Германия - Бельгия - Великобритания - Канада',\n",
       "       'Франция - Чехия - Бельгия',\n",
       "       'Великобритания - Франция - Германия - США',\n",
       "       'Ирландия - Великобритания - Франция - США - Германия - Нидерланды',\n",
       "       'США - Канада - Япония - КНР', 'Италия-Франция',\n",
       "       'США - Великобритания - Исландия', 'Великобритания-Франция',\n",
       "       'Франция - Германия - Нидерланды', 'Иран ',\n",
       "       'Франция - Германия - Швеция - США - Чехия - Словакия - Великобритания - Нидерланды',\n",
       "       'Франция - Канада - Н.Зеландия - США - Нидерланды - Германия - Швеция - Россия',\n",
       "       'Турция - США',\n",
       "       'Великобритания - США - Канада - Бельгия - Нидерланды - Австрия - Германия',\n",
       "       'Израиль - Франция - Германия - Палестина - США - Австрия - Великобритания',\n",
       "       'Аргентина - Франция - Испания', 'СССР, Россия',\n",
       "       'Великобритания - Франция - Италия - Индия - Дания - КНР - Бангладеш - Камбоджа - Гаити - Уганда',\n",
       "       'Италия - Франция - Швейцария',\n",
       "       'Ирландия - Великобритания - Канада', 'Перу', 'США - Норвегия',\n",
       "       'Испания-Канада', 'Китай-Гонконг', 'США - Германия - КНР',\n",
       "       'Великобритания - Новая Зеландия',\n",
       "       'Франция - Дания - Швеция - КНР',\n",
       "       'США - Великобритания - Германия - Бельгия - Дания',\n",
       "       'США - Франция - Канада - Германия - Австралия - Индия',\n",
       "       'Страна неизвестна', 'СССР, Румыния, Франция', 'СССР, ГДР',\n",
       "       'Австралия-Ирландия', 'США - Китай',\n",
       "       'Великобритания - Франция - Австрия - Швеция',\n",
       "       'Россия, Таджикистан', 'Нидерланды - Бельгия - Болгария',\n",
       "       'Великобритания - Канада - США', 'Франция - Бельгия - Испания',\n",
       "       'Китай-Гонконг-США', 'Франция - Великобритания', 'США - Вьетнам',\n",
       "       'США - Германия - Франция', 'Германия - Франция - Бельгия',\n",
       "       'США - Италия',\n",
       "       'Германия - Дания - Испания - Швеция - Канада - Эстония - Франция',\n",
       "       'Княжество Андорра - Украина', 'Германия - Люксембург - Бельгия',\n",
       "       'Великобритания - Россия - Украина - США',\n",
       "       'Германия - Бельгия - Люксембург - Норвегия',\n",
       "       'США - Австралия - Новая Зеландия - Великобритания',\n",
       "       'США - Франция - Канада - Великобритания', 'Испания-Колумбия',\n",
       "       'Великобритания - Чехия - Франция', 'Россия, Украина', 'Исландия',\n",
       "       'Великобритания - Франция - Венгрия',\n",
       "       'Россия, Франция, Германия, Бельгия', 'Франция - Македония',\n",
       "       'Нидерланды - Франция - Германия - Бельгия - Швеция - Великобритания',\n",
       "       'Испания - США - Великобритания - Канада', 'Германия - Австрия',\n",
       "       'Республика Казахстан',\n",
       "       'Франция - Испания - Дания - Венгрия - Швейцария', 'Франция-КНР',\n",
       "       'США - Пуэрто-Рико - Франция ', 'Мексика - Тайвань - США',\n",
       "       'Великобритания - Испания - Непал - Индия - Венгрия - Гонконг - Германия - Дания - Бахрейн',\n",
       "       'Великобритания - Аргентина - США - Франция - Россия - Испания',\n",
       "       'КНР - США', 'Италия - США', 'Финляндия - Швеция - Германия',\n",
       "       'Канада- Испания', 'Франция - Бельгия - Чехия',\n",
       "       'Франция-Бельгия-Канада', 'Франция - Германия - США',\n",
       "       'США - Дания', 'Индия - КНР', 'Чехия-Великобритания-США',\n",
       "       'США-ФРГ-Россия', 'Ирландия-Нидерланды-Франция-США-Великобритания',\n",
       "       'Россия, Грузия, Хорватия, Испания',\n",
       "       'Финляндия - Швеция - Норвегия', 'Сербия - Великобритания - США',\n",
       "       'США - Великобритания - Франция - Гонконг', 'Швейцария - Франция',\n",
       "       'Швейцария - Великобритания', 'ОАЭ - США',\n",
       "       'США - Франция - Германия - Канада - Австралия ',\n",
       "       'Германия - Австралия', 'Иран, Франция',\n",
       "       'США - Великобритания - Новая Зеландия', 'США-Колумбия',\n",
       "       'США-Франция-Ирландия', 'Великобритания - Франция - Бельгия',\n",
       "       'США - Великобритания - Япония', 'США - Франция - Германия',\n",
       "       'Польша - Ирландия', 'Ирландия - Великобритания - Франция - США',\n",
       "       'США - Бельгия - Великобритания', 'СССР, ВНР',\n",
       "       'Испания - Франция - США - Великобритания - Бельгия',\n",
       "       'Франция - Дания - США', 'США - Гонконг', 'Бразилия - К;анада',\n",
       "       'Франция-Германия', 'США - Колумбия',\n",
       "       'США - Ирландия - Великобритания - Франция',\n",
       "       'Великобритания - США - Канада', 'Польша - Франция',\n",
       "       'Канада - США - Нидерланды - Великобритания - Аргентина',\n",
       "       'Великобритания - Дания', 'Франция - Бельгия - Япония',\n",
       "       'Россия,  Испания', 'Франция -Бельгия',\n",
       "       'США - Канада - Германия - Франция', 'США-Канада-Франция',\n",
       "       'Россия - Германия', 'Россия-Италия', 'Китай - Гонконг',\n",
       "       'Германия-Австрия-Франция-Италия', 'США-Япония',\n",
       "       'США - Германия - Канада', 'Испания-Мексика',\n",
       "       'США - Япония - Канада - Великобритания - Германия - Франция',\n",
       "       'США -Великобритания - Австралия', 'Россия-Украина-Германия',\n",
       "       'Израиль - Франция - Великобритания - Германия', 'Корея',\n",
       "       'Россия - Болгария', 'США-Индия',\n",
       "       'Германия-Канада-Франция-Бельгия', 'Германия-Кения',\n",
       "       'Франция - Монако', 'Франция-Испания-Швейцария',\n",
       "       'Австрия-Франция-Германия', 'Румыния',\n",
       "       'США-Великобритания-Франция', 'Канада-Великобритания',\n",
       "       'Канада-Бразилия-Япония', 'Германия - Дания - Норвегия',\n",
       "       'Дания - Германия', 'СССР - Италия',\n",
       "       'СССР - ГДР - Польша - Италия',\n",
       "       'США - Испания - Франция - Великобритания', 'Китай',\n",
       "       'Мексика-Аргентина',\n",
       "       'Германия - Великобритания - Италия - Испания',\n",
       "       'Франция-Германия-Великобритания', 'Россия - Германия - Швейцария',\n",
       "       'Франция-Австралия', 'Голландия', 'Швейцария-Франция',\n",
       "       'Россия-Белоруссия', 'Франция - Испания - Тайвань',\n",
       "       'США-Южная Корея-Новая Зеландия', 'Великобритания-Венгрия',\n",
       "       'Россия-Германия', 'Великобритания-Франция-Германия',\n",
       "       'Франция-Германия-Италия', 'Швеция-Финляндия-Франция-Норвегия',\n",
       "       'Франция-Италия', 'Германия-Израиль',\n",
       "       'Швеция - Германия - Дания - Норвегия', 'США-Бельгия',\n",
       "       'Франция-Гонконг-Ирландия', 'Эстония', 'Литва-Россия-Украина',\n",
       "       'Германия - Италия - Франция',\n",
       "       'Великобритания - Австрия - Германия', 'Бельгия - Франция',\n",
       "       'Россия-Казахстан', 'Испания - Мальта',\n",
       "       'Франция-Россия-Румыния-Италия-Бельгия', 'Россия - Польша',\n",
       "       'Испания - Мексика', 'США-Аргентина', 'Великобритания ',\n",
       "       'Израиль-США-Франция', 'США - Новая Зеландия - Япония',\n",
       "       'Франция - Чехия - Великобритания', 'Россия-Польша',\n",
       "       'Германия-Франция-Великобритания', 'США-Германия-Канада',\n",
       "       'США-Гонконг-Китай', 'США - Великобритания - Германия',\n",
       "       'США-Канада-Австралия', 'Япония-США-Франция',\n",
       "       'Франция-Испания-Германия', 'США - Хорватия - Босния-Герцеговина',\n",
       "       'Великобритания - Чехия - Франция - Италия',\n",
       "       'США - Германия - Нидерланды', 'Германия - Франция - Канада',\n",
       "       'Франция-Грузия-Германия-Россия-Украина-Бельгия',\n",
       "       'Великобритания - Франция - Италия', 'Россия - США',\n",
       "       'Франция - Италия - Иран', 'Россия - Азербайджан', 'Греция',\n",
       "       'Дания - США', 'США-Великобритания-Новая Зеландия',\n",
       "       'США-Германия-Австралия', 'США-Канада-Италия',\n",
       "       'США - Япония - Германия', 'Австралия-США',\n",
       "       'Франция - Великобритания - Багамские острова - США',\n",
       "       'Швейцария - Люксембург', 'Швейцария - Австрия',\n",
       "       'Германия - Швейцария', 'Дания-Швеция-Франция-Германия', 'Польша',\n",
       "       'Швейцария-Австрия', 'Бразилия - Канада - США',\n",
       "       'Нидерланды - Россия', 'Португалия', 'Франция-Аргентина',\n",
       "       'Швеция-Франция', 'Франция-Украина', 'Германия-Украина-Нидерланды',\n",
       "       'Италия-Швейцария', 'США-Германия-Великобритания',\n",
       "       'Латвия - Россия', 'Германия-Франция-Великобритания-США',\n",
       "       'Канада - Италия', 'США - Объединенные Арабские Эмираты',\n",
       "       'США-Венгрия', 'Малайзия', 'Россия - Германия - Украина',\n",
       "       'США - Австралия - Мексика', 'Литва - Венгрия', 'Германия - Китай',\n",
       "       'Казахстан', 'Республика Корея',\n",
       "       'США - Германия - Франция - Великобритания - Канада ',\n",
       "       'Бельгия - Германия - Люксембург - Франция', 'Франция - Греция',\n",
       "       'Италия - Канада', 'США - Великобритания - Франция',\n",
       "       'США-Италия-Греция', 'Германия - США - Великобритания - Ирландия',\n",
       "       'Великобритания - Франция - Германия',\n",
       "       'Германия - Нидерланды - ЮАР',\n",
       "       'США-Япония-Германия-Великобритания-Нидерланды',\n",
       "       'США-Япония-Германия-Великобритания',\n",
       "       'Германия - Франция - Польша',\n",
       "       'Таиланд-Великобритания-Франция-Германия-Испания-Нидерланды',\n",
       "       'Германия-Италия-Швейцария',\n",
       "       'Дания - Швеция - Великобритания - Франция - Германия - Нидерланды - Норвегия - Финляндия',\n",
       "       'Франция - Великобритания - Нидерланды - Люксембург',\n",
       "       'Нидерланды-Великобритания-Франция-Италия-Япония',\n",
       "       'Финляндия-Дания-Германия-Ирландия', 'Испания-Аргентина',\n",
       "       'Великобритания - Нидерланды - Франция - США', 'Канада - Мексика',\n",
       "       'США, Франция', 'Канада-Южная Корея-США',\n",
       "       'Великобритания - Франция - Бельгия - США', 'КНР - Канада - США',\n",
       "       'Италия - Франция - Германия',\n",
       "       'Швеция - Германия - Франция - Дания', 'Франция - США - Бельгия',\n",
       "       'Украина - Германия - Латвия - Эстония', 'Австрия - Люксембург',\n",
       "       'Великобритания - КНР', 'Монголия', 'Франция - Дания',\n",
       "       'Швеция - Дания - Финляндия',\n",
       "       'Сингапур - Великобритания - Индонезия - Канада - США',\n",
       "       'США - Германия - Япония', 'Таиланд - США', 'Франция - Нидерланды',\n",
       "       'Великобритания - Румыния', 'США - Мальта',\n",
       "       'Великобритания - Германия - Нидерланды - Дания',\n",
       "       'Франция - Германия - Литва - Нидерланды - Россия',\n",
       "       'США - ЮАР - Гонконг', 'Австралия - Колумбия',\n",
       "       'Великобритания - Польша', 'США - Великобритания - Швеция',\n",
       "       'Франция - Швеция - Дания - Норвегия', 'Болгария - США',\n",
       "       'СССР, ФРГ', 'Бельгия - Нидерланды - Франция',\n",
       "       'Финляндия - Германия', 'Болгария',\n",
       "       'Грузия - Россия - Украина - Хорватия - Германия',\n",
       "       'Франция - Люксембург', 'Франция - Германия - Австрия',\n",
       "       'Норвегия - США', 'Германия-Швеция', 'Франция - Германия - Италия',\n",
       "       'Франция-Германия-Австрия', 'КНР-США',\n",
       "       'Великобритания - Ирландия - США ',\n",
       "       'Дания - Латвия - Россия - США', 'Финляндия - Польша',\n",
       "       'Германия - Бельгия', 'Германия - США - Франция - Испания',\n",
       "       'Бельгия-Германия-Канада-Франция-США-Великобритания',\n",
       "       'Нидерланды - Бельгия - Люксембург', 'Канада-Германия',\n",
       "       'Люксембург - Бельгия - Франция', 'США-Великобритания-Австралия',\n",
       "       'Великобритания, Новая Зеландия', 'Бельгия, Великобритания, США',\n",
       "       'Великобритания, Австралия', 'Исландия, Бельгия',\n",
       "       'Испания - Швейцария - Великобритания - Германия - Новая Зеландия - Нидерланды - Канада',\n",
       "       'Франция, Бельгия', 'Великобритания, США', 'Киргизия-Россия',\n",
       "       'Германия, США', 'Великобритания, США, Испания',\n",
       "       'Италия - Швейцария - Германия', 'Россия, Армения',\n",
       "       'Франция, Германия', 'Китай, Канада, США', 'Германия, Австралия',\n",
       "       'КНР, США', 'США, Великобритания, Люксембург',\n",
       "       'Испания, Ирландия, Бельгия, Франция',\n",
       "       'Великобритания - Гонконг - Венгрия - США - Ирландия',\n",
       "       'США - Пуэрто Рико', 'Аргентина - Испания - Уругвай',\n",
       "       'Израиль - Германия - Франция - Швейцария',\n",
       "       'Великобритания - Мексика - США', 'Испания - Болгария - США',\n",
       "       'Россия-Словакия-Чехия',\n",
       "       'Швейцария - КНР - США - Россия - Республика Корея - Великобритания',\n",
       "       'Россия, Нидерланды, Финляндия',\n",
       "       'Испания - Бельгия - Франция - Португалия - Великобритания',\n",
       "       'Бразилия - Португалия - Франция', 'Швеция - Норвегия',\n",
       "       'Франция - Польша - Бельгия', 'CША', 'Китай, США',\n",
       "       'Италия, Франция, Германия', 'Германия - Австрия - Франция',\n",
       "       'Чехия - Словакия - Хорватия', 'Россия, Польша, Финляндия',\n",
       "       'Россия, Латвия, Чешская Республика',\n",
       "       'Франция - Великобритания - Камбоджа - США - КНР',\n",
       "       'Чехия - Испания - США', 'Германия - Люксембург - Дания',\n",
       "       'Великобритания - Испания - Германия', 'Дания - Исландия',\n",
       "       'Германия, Франция, Великобритания',\n",
       "       'Великобритания - Испания - Италия - Латвия - Франция - Эстония',\n",
       "       'Дания, Швеция, Великобритания, Франция, Германия, Норвегия, Финляндия, Нидерланды, Италия',\n",
       "       'Польша - Франция - Великобритания',\n",
       "       'Дания, Норвегия, Венгрия, Чехия',\n",
       "       'Дания - Франция - Германия - Швеция',\n",
       "       'Великобритания, Швеция, США',\n",
       "       'Канада, Франция, Италия, Швейцария, США', 'США, Индия',\n",
       "       'США - Великобритания - Германия - - Швеция - Канада',\n",
       "       'Италия, Франция', 'Республика Беларусь, Германия, США, Россия',\n",
       "       'Италия-Швейцария-Франция-Германия ',\n",
       "       'Россия - Франция - Великобритания - Латвия', 'Россия-Беларусь',\n",
       "       'Франция - Испания - Румыния - США - Бельгия', 'Италия-США',\n",
       "       'Россия, Австрия', 'Ирландия - Великобритания - США',\n",
       "       'Швейцария, Великобритания, Франция, США, Ирландия',\n",
       "       'Мексика, Франция, Германия, Дания, Швеция', 'Нидерланды, Бельгия',\n",
       "       'Швеция, Норвегия, Финляндия, Франция', 'Испания, Франция, Италия',\n",
       "       'Испания-Франция-Греция-Индия-США-Россия-Великобритания',\n",
       "       'Великобритания - Япония - США',\n",
       "       'Дания, Канада, Норвегия, Австралия, США', 'Аргентина, Испания',\n",
       "       'Россия, Германия, Казахстан, Польша, Китай',\n",
       "       'Португалия, Франция, Польша, США', 'США - Канада - Аргентина',\n",
       "       'Ливан-США', 'Япония - США', 'США, Гонконг ',\n",
       "       'Франция - Россия - Швейцария - Румыния - Венгрия',\n",
       "       'Аргентина-Испания', 'Россия, Сербия', 'США - Болгария - Мексика',\n",
       "       'США - Великобритания - Швейцария - Франция',\n",
       "       'Таиланд - КНР - США',\n",
       "       'Великобритания, Нидерланды, Польша, Швейцария, Франция',\n",
       "       'Ирландия - США',\n",
       "       'Германия - Франция - Великобритания - Польша - США',\n",
       "       'Великобритания-Франция-Италия', 'США - Австралия - Индия',\n",
       "       'Франция - КНР', 'Великобритания - Израиль',\n",
       "       'Великобритания - Норвегия - Кения - Хорватия',\n",
       "       'США - Бразилия - Великобритания - Канада', 'Германия, Бельгия',\n",
       "       'Австралия, Канада', 'США, Великобритания, Франция',\n",
       "       'Кения, Германия', 'Нидерланды, Бельгия, Люксембург', 'Колумбия',\n",
       "       'Латвия - Франция', 'Ирландия, Великобритания',\n",
       "       'Франция - Израиль - Германия', 'Швеция, Франция, Великобритания',\n",
       "       'Бельгия - Люксембург', 'Германия - Бельгия - Великобритания',\n",
       "       'Испания, Франция, Великобритания, Дания, Бельгия, Германия',\n",
       "       'Румыния, ЮАР, Иран, Франция, Канада, Великобритания',\n",
       "       'Германия, Франция', 'США, Япония',\n",
       "       'США, Великобритания, Ирландия, Люксембург', 'Республика Армения',\n",
       "       'США, Франция, Япония', 'Япония, США', 'Канада, США',\n",
       "       'Республика Кипр - Россия',\n",
       "       'Дания - Франция - Италия - Бельгия - Нидерланды',\n",
       "       'Россия - Грузия', 'Италия, Германия', 'Норвегия, Швеция, Дания',\n",
       "       'Республика Кипр, Россия', 'КНР, Индия, Гонконг, США',\n",
       "       'Израиль, Украина', 'США, Россия', 'США - КНР - Индия - Ю.Корея',\n",
       "       'США - Швеция', 'Франция, Канада', 'Россия-Китай',\n",
       "       'Канада, Великобритания', 'США, Германия',\n",
       "       'Канада, США, Каймановы острова',\n",
       "       'Бразилия, Уругвай, Дания, Норвегия, Чили, Швеция',\n",
       "       'Пуэрто-Рико, Великобритания, США',\n",
       "       'Уругвай - Аргентина - Испания',\n",
       "       'США - Великобритания - Италия - Израиль - Сербия - Индия',\n",
       "       'США - Канада - Франция - Индия', 'Великобритания - Россия - КНР',\n",
       "       'Франция, Новая Зеландия', 'Франция, Люксембург, Бельгия',\n",
       "       'Канада, США, Норвегия', 'Италия, Испания',\n",
       "       'Испания - Германия - Нидерланды', 'Бразилия - США - КНР ',\n",
       "       'Великобритания, Германия, Дания, США', '2019',\n",
       "       'Италия - Фрация - Бразилия - Германия',\n",
       "       'Норвегия - Швеция - Россия', 'Великобритания, Япония, США',\n",
       "       'Сша, Канада', 'Бельгия, Канада',\n",
       "       'Великобритания - Австралия - США', 'США, Канада', 'КНР - США ',\n",
       "       'Франция - Финляндия', 'Колумбия - США',\n",
       "       'Великобритания, Франция, Бельгия', 'Норвегия - Нидерланды',\n",
       "       'Великобритания, Канада, США', 'Япония, Великобритания',\n",
       "       'Италия - Бельгия - Франция', 'Россия, Бельгия, Финляндия',\n",
       "       'США, Украина', 'Франция, Норвегия',\n",
       "       'Великобритания, Южная Корея, Канада, США, Индия, Китай, Япония',\n",
       "       'Канада - Норвегия', 'Республика Кипр-Россия', 'Германия, Россия',\n",
       "       'Польша - Франция - Испания - Бразилия - Швеция',\n",
       "       'Австрия, Великобритания, Германия', 'Франция - Сенегал - Бельгия',\n",
       "       'Франция, Бельгия, Люксембург', 'Финляндия, Латвия', 'Пакистан',\n",
       "       'Германия, Франция, США', 'Германия - Великобритания - США',\n",
       "       'КНР - Франция', 'Дания, Норвегия, Швеция, Исландия',\n",
       "       'Республика Кипр, США, Россия', 'Новая Зеландия - КНР',\n",
       "       'Дания - Канада - Швеция - Франция - Германия - Великобритания - США'],\n",
       "      dtype=object)"
      ]
     },
     "execution_count": 27,
     "metadata": {},
     "output_type": "execute_result"
    }
   ],
   "source": [
    "data['production_country'].unique()"
   ]
  },
  {
   "cell_type": "markdown",
   "metadata": {},
   "source": [
    "<span style=\"color:blue\">***В некоторых случаях у фильмов есть несколько стран производителей и они перечислены разным способом(через тире либо через запятую). Заменим тире на запятую.***</span>"
   ]
  },
  {
   "cell_type": "code",
   "execution_count": 28,
   "metadata": {},
   "outputs": [],
   "source": [
    "data['production_country'] = data['production_country'].dropna().apply(lambda x: ', '\n",
    "                                                                       .join([x.strip() for x in x.split('-')]))"
   ]
  },
  {
   "cell_type": "markdown",
   "metadata": {},
   "source": [
    "<span style=\"color:blue\">***Посмотрим могли ли фильмы задублироваться по названиям, дате премьеры, типа, студии-производителя, страны-производителя и режисера.***</span>"
   ]
  },
  {
   "cell_type": "code",
   "execution_count": 29,
   "metadata": {},
   "outputs": [
    {
     "data": {
      "text/html": [
       "<div>\n",
       "<style scoped>\n",
       "    .dataframe tbody tr th:only-of-type {\n",
       "        vertical-align: middle;\n",
       "    }\n",
       "\n",
       "    .dataframe tbody tr th {\n",
       "        vertical-align: top;\n",
       "    }\n",
       "\n",
       "    .dataframe thead th {\n",
       "        text-align: right;\n",
       "    }\n",
       "</style>\n",
       "<table border=\"1\" class=\"dataframe\">\n",
       "  <thead>\n",
       "    <tr style=\"text-align: right;\">\n",
       "      <th></th>\n",
       "      <th>title</th>\n",
       "      <th>puNumber</th>\n",
       "      <th>show_start_date</th>\n",
       "      <th>type</th>\n",
       "      <th>film_studio</th>\n",
       "      <th>production_country</th>\n",
       "      <th>director</th>\n",
       "      <th>producer</th>\n",
       "      <th>age_restriction</th>\n",
       "      <th>refundable_support</th>\n",
       "      <th>nonrefundable_support</th>\n",
       "      <th>budget</th>\n",
       "      <th>financing_source</th>\n",
       "      <th>ratings</th>\n",
       "      <th>genres</th>\n",
       "      <th>box_office</th>\n",
       "    </tr>\n",
       "  </thead>\n",
       "  <tbody>\n",
       "    <tr>\n",
       "      <th>1300</th>\n",
       "      <td>Эпидемия_</td>\n",
       "      <td>121025713</td>\n",
       "      <td>2013-10-07 12:00:00+00:00</td>\n",
       "      <td>Художественный</td>\n",
       "      <td>Морена Фильм, Ребелион Террестр, А 3 Медиа Гру...</td>\n",
       "      <td>Испания, Франция</td>\n",
       "      <td>Алекс Пастор, Давид Пастор</td>\n",
       "      <td>Мерседес Гамеро, Альберто Марини, Педро Уриоль</td>\n",
       "      <td>«16+» - для детей старше 16 лет</td>\n",
       "      <td>0.0</td>\n",
       "      <td>0.0</td>\n",
       "      <td>0.0</td>\n",
       "      <td>NaN</td>\n",
       "      <td>7.2</td>\n",
       "      <td>драма,фантастика,триллер</td>\n",
       "      <td>0.0</td>\n",
       "    </tr>\n",
       "    <tr>\n",
       "      <th>1301</th>\n",
       "      <td>Эпидемия_</td>\n",
       "      <td>221035513</td>\n",
       "      <td>2013-10-07 12:00:00+00:00</td>\n",
       "      <td>Художественный</td>\n",
       "      <td>Морена Фильм, Ребелион Террестр, А 3 Медиа Гру...</td>\n",
       "      <td>Испания, Франция</td>\n",
       "      <td>Алекс Пастор, Давид Пастор</td>\n",
       "      <td>Мерседес Гамеро, Альберто Марини, Педро Уриоль</td>\n",
       "      <td>«16+» - для детей старше 16 лет</td>\n",
       "      <td>0.0</td>\n",
       "      <td>0.0</td>\n",
       "      <td>0.0</td>\n",
       "      <td>NaN</td>\n",
       "      <td>7.2</td>\n",
       "      <td>драма,фантастика,триллер</td>\n",
       "      <td>0.0</td>\n",
       "    </tr>\n",
       "    <tr>\n",
       "      <th>1475</th>\n",
       "      <td>Оторвы</td>\n",
       "      <td>121006514</td>\n",
       "      <td>2014-04-07 12:00:00+00:00</td>\n",
       "      <td>Художественный</td>\n",
       "      <td>Проминент Пикчерз, Ворлдвью Интертейнмент, Инд...</td>\n",
       "      <td>США</td>\n",
       "      <td>Кристофер Нельсон</td>\n",
       "      <td>Молли Коннерс, Хезер Рэй</td>\n",
       "      <td>«16+» - для детей старше 16 лет</td>\n",
       "      <td>0.0</td>\n",
       "      <td>0.0</td>\n",
       "      <td>0.0</td>\n",
       "      <td>NaN</td>\n",
       "      <td>3.5</td>\n",
       "      <td>комедия,приключения</td>\n",
       "      <td>0.0</td>\n",
       "    </tr>\n",
       "    <tr>\n",
       "      <th>1476</th>\n",
       "      <td>Оторвы</td>\n",
       "      <td>221013214</td>\n",
       "      <td>2014-04-07 12:00:00+00:00</td>\n",
       "      <td>Художественный</td>\n",
       "      <td>Проминент Пикчерз, Ворлдвью Интертейнмент, Инд...</td>\n",
       "      <td>США</td>\n",
       "      <td>Кристофер Нельсон</td>\n",
       "      <td>Молли Коннерс, Хезер Рэй</td>\n",
       "      <td>«16+» - для детей старше 16 лет</td>\n",
       "      <td>0.0</td>\n",
       "      <td>0.0</td>\n",
       "      <td>0.0</td>\n",
       "      <td>NaN</td>\n",
       "      <td>3.5</td>\n",
       "      <td>комедия,приключения</td>\n",
       "      <td>0.0</td>\n",
       "    </tr>\n",
       "    <tr>\n",
       "      <th>2191</th>\n",
       "      <td>Последние пять лет.</td>\n",
       "      <td>221008115</td>\n",
       "      <td>2015-03-25 12:00:00+00:00</td>\n",
       "      <td>Художественный</td>\n",
       "      <td>Гранд Пикс Интертейнмент, Лаки Манки Пикчерз, ...</td>\n",
       "      <td>США</td>\n",
       "      <td>Ричард ЛаГравенес</td>\n",
       "      <td>Джанет Бреннер, Лорен Версель, Курт Дойтч, Рич...</td>\n",
       "      <td>«16+» - для детей старше 16 лет</td>\n",
       "      <td>0.0</td>\n",
       "      <td>0.0</td>\n",
       "      <td>0.0</td>\n",
       "      <td>NaN</td>\n",
       "      <td>5.7</td>\n",
       "      <td>мюзикл,драма,мелодрама</td>\n",
       "      <td>0.0</td>\n",
       "    </tr>\n",
       "    <tr>\n",
       "      <th>2192</th>\n",
       "      <td>Последние пять лет.</td>\n",
       "      <td>121005715</td>\n",
       "      <td>2015-03-25 12:00:00+00:00</td>\n",
       "      <td>Художественный</td>\n",
       "      <td>Гранд Пикс Интертейнмент, Лаки Манки Пикчерз, ...</td>\n",
       "      <td>США</td>\n",
       "      <td>Ричард ЛаГравенес</td>\n",
       "      <td>Джанет Бреннер, Лорен Версель, Курт Дойтч, Рич...</td>\n",
       "      <td>«16+» - для детей старше 16 лет</td>\n",
       "      <td>0.0</td>\n",
       "      <td>0.0</td>\n",
       "      <td>0.0</td>\n",
       "      <td>NaN</td>\n",
       "      <td>5.7</td>\n",
       "      <td>мюзикл,драма,мелодрама</td>\n",
       "      <td>52495.0</td>\n",
       "    </tr>\n",
       "    <tr>\n",
       "      <th>2752</th>\n",
       "      <td>Пингвиненок Пороро: Большие гонки</td>\n",
       "      <td>224001915</td>\n",
       "      <td>2015-04-15 12:00:00+00:00</td>\n",
       "      <td>Анимационный</td>\n",
       "      <td>Окон Студиос, Чина Филм, Симка Интертейнмент, ...</td>\n",
       "      <td>Южная Корея, КНР</td>\n",
       "      <td>Юнг Куюн Парк</td>\n",
       "      <td>Иль Хо Ким, Михал Симка</td>\n",
       "      <td>«0+» - для любой зрительской аудитории</td>\n",
       "      <td>0.0</td>\n",
       "      <td>0.0</td>\n",
       "      <td>0.0</td>\n",
       "      <td>NaN</td>\n",
       "      <td>5.2</td>\n",
       "      <td>мультфильм,семейный,спорт</td>\n",
       "      <td>1360.0</td>\n",
       "    </tr>\n",
       "    <tr>\n",
       "      <th>2753</th>\n",
       "      <td>Пингвиненок Пороро: Большие гонки</td>\n",
       "      <td>124001915</td>\n",
       "      <td>2015-04-15 12:00:00+00:00</td>\n",
       "      <td>Анимационный</td>\n",
       "      <td>Окон Студиос, Чина Филм, Симка Интертейнмент, ...</td>\n",
       "      <td>Южная Корея, КНР</td>\n",
       "      <td>Юнг Куюн Парк</td>\n",
       "      <td>Иль Хо Ким, Михал Симка</td>\n",
       "      <td>«0+» - для любой зрительской аудитории</td>\n",
       "      <td>0.0</td>\n",
       "      <td>0.0</td>\n",
       "      <td>0.0</td>\n",
       "      <td>NaN</td>\n",
       "      <td>5.2</td>\n",
       "      <td>мультфильм,семейный,спорт</td>\n",
       "      <td>14152495.9</td>\n",
       "    </tr>\n",
       "    <tr>\n",
       "      <th>3086</th>\n",
       "      <td>Анархисты</td>\n",
       "      <td>221003916</td>\n",
       "      <td>2016-02-03 12:00:00+00:00</td>\n",
       "      <td>Художественный</td>\n",
       "      <td>24 Май Продюксьон, Франс 2 Синема</td>\n",
       "      <td>Франция</td>\n",
       "      <td>Эли Важеман</td>\n",
       "      <td>Лола Гэнс</td>\n",
       "      <td>«16+» - для детей старше 16 лет</td>\n",
       "      <td>0.0</td>\n",
       "      <td>0.0</td>\n",
       "      <td>0.0</td>\n",
       "      <td>NaN</td>\n",
       "      <td>5.7</td>\n",
       "      <td>драма</td>\n",
       "      <td>0.0</td>\n",
       "    </tr>\n",
       "    <tr>\n",
       "      <th>3087</th>\n",
       "      <td>Анархисты</td>\n",
       "      <td>121002316</td>\n",
       "      <td>2016-02-03 12:00:00+00:00</td>\n",
       "      <td>Художественный</td>\n",
       "      <td>24 Май Продюксьон, Франс 2 Синема</td>\n",
       "      <td>Франция</td>\n",
       "      <td>Эли Важеман</td>\n",
       "      <td>Лола Гэнс</td>\n",
       "      <td>«16+» - для детей старше 16 лет</td>\n",
       "      <td>0.0</td>\n",
       "      <td>0.0</td>\n",
       "      <td>0.0</td>\n",
       "      <td>NaN</td>\n",
       "      <td>5.7</td>\n",
       "      <td>драма</td>\n",
       "      <td>332371.0</td>\n",
       "    </tr>\n",
       "    <tr>\n",
       "      <th>4042</th>\n",
       "      <td>Бугай</td>\n",
       "      <td>224021210</td>\n",
       "      <td>2010-09-24 12:00:00+00:00</td>\n",
       "      <td>Анимационный</td>\n",
       "      <td>Иллюзион Студиос, Процесо</td>\n",
       "      <td>Мексика, Аргентина</td>\n",
       "      <td>Густаво Кова</td>\n",
       "      <td>Хуго Е. Лаура, Хосе Луис Масса</td>\n",
       "      <td>«16+» - для детей старше 16 лет</td>\n",
       "      <td>0.0</td>\n",
       "      <td>0.0</td>\n",
       "      <td>0.0</td>\n",
       "      <td>NaN</td>\n",
       "      <td>6.6</td>\n",
       "      <td>мультфильм,боевик,триллер</td>\n",
       "      <td>0.0</td>\n",
       "    </tr>\n",
       "    <tr>\n",
       "      <th>4043</th>\n",
       "      <td>Бугай</td>\n",
       "      <td>124001210</td>\n",
       "      <td>2010-09-24 12:00:00+00:00</td>\n",
       "      <td>Анимационный</td>\n",
       "      <td>Иллюзион Студиос, Процесо</td>\n",
       "      <td>Мексика, Аргентина</td>\n",
       "      <td>Густаво Кова</td>\n",
       "      <td>Хуго Е. Лаура, Хосе Луис Масса</td>\n",
       "      <td>«16+» - для детей старше 16 лет</td>\n",
       "      <td>0.0</td>\n",
       "      <td>0.0</td>\n",
       "      <td>0.0</td>\n",
       "      <td>NaN</td>\n",
       "      <td>6.6</td>\n",
       "      <td>мультфильм,боевик,триллер</td>\n",
       "      <td>0.0</td>\n",
       "    </tr>\n",
       "    <tr>\n",
       "      <th>6379</th>\n",
       "      <td>Ян Антонышев</td>\n",
       "      <td>112011818</td>\n",
       "      <td>2018-11-15 12:00:00+00:00</td>\n",
       "      <td>Документальный</td>\n",
       "      <td>Студия неизвестна</td>\n",
       "      <td>Россия</td>\n",
       "      <td>Е.Окопная</td>\n",
       "      <td>Е.Герасимов</td>\n",
       "      <td>«12+» - для детей старше 12 лет</td>\n",
       "      <td>0.0</td>\n",
       "      <td>0.0</td>\n",
       "      <td>0.0</td>\n",
       "      <td>NaN</td>\n",
       "      <td>NaN</td>\n",
       "      <td>Жанр неизвестен</td>\n",
       "      <td>0.0</td>\n",
       "    </tr>\n",
       "    <tr>\n",
       "      <th>6380</th>\n",
       "      <td>Ян Антонышев</td>\n",
       "      <td>112011918</td>\n",
       "      <td>2018-11-15 12:00:00+00:00</td>\n",
       "      <td>Документальный</td>\n",
       "      <td>Студия неизвестна</td>\n",
       "      <td>Россия</td>\n",
       "      <td>Е.Окопная</td>\n",
       "      <td>Е.Герасимов</td>\n",
       "      <td>«12+» - для детей старше 12 лет</td>\n",
       "      <td>0.0</td>\n",
       "      <td>0.0</td>\n",
       "      <td>0.0</td>\n",
       "      <td>NaN</td>\n",
       "      <td>NaN</td>\n",
       "      <td>Жанр неизвестен</td>\n",
       "      <td>0.0</td>\n",
       "    </tr>\n",
       "    <tr>\n",
       "      <th>6428</th>\n",
       "      <td>Зоя</td>\n",
       "      <td>111022618</td>\n",
       "      <td>2018-11-25 12:00:00+00:00</td>\n",
       "      <td>Художественный</td>\n",
       "      <td>Тарханова Юлия Олеговна</td>\n",
       "      <td>Россия</td>\n",
       "      <td>О.Товма</td>\n",
       "      <td>Ю.Тарханова</td>\n",
       "      <td>«16+» - для детей старше 16 лет</td>\n",
       "      <td>0.0</td>\n",
       "      <td>0.0</td>\n",
       "      <td>0.0</td>\n",
       "      <td>NaN</td>\n",
       "      <td>3.9</td>\n",
       "      <td>история,биография,военный</td>\n",
       "      <td>0.0</td>\n",
       "    </tr>\n",
       "    <tr>\n",
       "      <th>6429</th>\n",
       "      <td>Зоя</td>\n",
       "      <td>111022718</td>\n",
       "      <td>2018-11-25 12:00:00+00:00</td>\n",
       "      <td>Художественный</td>\n",
       "      <td>Тарханова Юлия Олеговна</td>\n",
       "      <td>Россия</td>\n",
       "      <td>О.Товма</td>\n",
       "      <td>Ю.Тарханова</td>\n",
       "      <td>«16+» - для детей старше 16 лет</td>\n",
       "      <td>0.0</td>\n",
       "      <td>0.0</td>\n",
       "      <td>0.0</td>\n",
       "      <td>NaN</td>\n",
       "      <td>3.9</td>\n",
       "      <td>история,биография,военный</td>\n",
       "      <td>0.0</td>\n",
       "    </tr>\n",
       "  </tbody>\n",
       "</table>\n",
       "</div>"
      ],
      "text/plain": [
       "                                  title   puNumber           show_start_date  \\\n",
       "1300                          Эпидемия_  121025713 2013-10-07 12:00:00+00:00   \n",
       "1301                          Эпидемия_  221035513 2013-10-07 12:00:00+00:00   \n",
       "1475                             Оторвы  121006514 2014-04-07 12:00:00+00:00   \n",
       "1476                             Оторвы  221013214 2014-04-07 12:00:00+00:00   \n",
       "2191                Последние пять лет.  221008115 2015-03-25 12:00:00+00:00   \n",
       "2192                Последние пять лет.  121005715 2015-03-25 12:00:00+00:00   \n",
       "2752  Пингвиненок Пороро: Большие гонки  224001915 2015-04-15 12:00:00+00:00   \n",
       "2753  Пингвиненок Пороро: Большие гонки  124001915 2015-04-15 12:00:00+00:00   \n",
       "3086                          Анархисты  221003916 2016-02-03 12:00:00+00:00   \n",
       "3087                          Анархисты  121002316 2016-02-03 12:00:00+00:00   \n",
       "4042                              Бугай  224021210 2010-09-24 12:00:00+00:00   \n",
       "4043                              Бугай  124001210 2010-09-24 12:00:00+00:00   \n",
       "6379                       Ян Антонышев  112011818 2018-11-15 12:00:00+00:00   \n",
       "6380                       Ян Антонышев  112011918 2018-11-15 12:00:00+00:00   \n",
       "6428                                Зоя  111022618 2018-11-25 12:00:00+00:00   \n",
       "6429                                Зоя  111022718 2018-11-25 12:00:00+00:00   \n",
       "\n",
       "                 type                                        film_studio  \\\n",
       "1300   Художественный  Морена Фильм, Ребелион Террестр, А 3 Медиа Гру...   \n",
       "1301   Художественный  Морена Фильм, Ребелион Террестр, А 3 Медиа Гру...   \n",
       "1475   Художественный  Проминент Пикчерз, Ворлдвью Интертейнмент, Инд...   \n",
       "1476   Художественный  Проминент Пикчерз, Ворлдвью Интертейнмент, Инд...   \n",
       "2191   Художественный  Гранд Пикс Интертейнмент, Лаки Манки Пикчерз, ...   \n",
       "2192   Художественный  Гранд Пикс Интертейнмент, Лаки Манки Пикчерз, ...   \n",
       "2752     Анимационный  Окон Студиос, Чина Филм, Симка Интертейнмент, ...   \n",
       "2753     Анимационный  Окон Студиос, Чина Филм, Симка Интертейнмент, ...   \n",
       "3086   Художественный                  24 Май Продюксьон, Франс 2 Синема   \n",
       "3087   Художественный                  24 Май Продюксьон, Франс 2 Синема   \n",
       "4042     Анимационный                          Иллюзион Студиос, Процесо   \n",
       "4043     Анимационный                          Иллюзион Студиос, Процесо   \n",
       "6379   Документальный                                  Студия неизвестна   \n",
       "6380   Документальный                                  Студия неизвестна   \n",
       "6428   Художественный                            Тарханова Юлия Олеговна   \n",
       "6429   Художественный                            Тарханова Юлия Олеговна   \n",
       "\n",
       "      production_country                    director  \\\n",
       "1300    Испания, Франция  Алекс Пастор, Давид Пастор   \n",
       "1301    Испания, Франция  Алекс Пастор, Давид Пастор   \n",
       "1475                 США           Кристофер Нельсон   \n",
       "1476                 США           Кристофер Нельсон   \n",
       "2191                 США           Ричард ЛаГравенес   \n",
       "2192                 США           Ричард ЛаГравенес   \n",
       "2752    Южная Корея, КНР               Юнг Куюн Парк   \n",
       "2753    Южная Корея, КНР               Юнг Куюн Парк   \n",
       "3086             Франция                 Эли Важеман   \n",
       "3087             Франция                 Эли Важеман   \n",
       "4042  Мексика, Аргентина                Густаво Кова   \n",
       "4043  Мексика, Аргентина                Густаво Кова   \n",
       "6379              Россия                   Е.Окопная   \n",
       "6380              Россия                   Е.Окопная   \n",
       "6428              Россия                     О.Товма   \n",
       "6429              Россия                     О.Товма   \n",
       "\n",
       "                                               producer  \\\n",
       "1300     Мерседес Гамеро, Альберто Марини, Педро Уриоль   \n",
       "1301     Мерседес Гамеро, Альберто Марини, Педро Уриоль   \n",
       "1475                           Молли Коннерс, Хезер Рэй   \n",
       "1476                           Молли Коннерс, Хезер Рэй   \n",
       "2191  Джанет Бреннер, Лорен Версель, Курт Дойтч, Рич...   \n",
       "2192  Джанет Бреннер, Лорен Версель, Курт Дойтч, Рич...   \n",
       "2752                            Иль Хо Ким, Михал Симка   \n",
       "2753                            Иль Хо Ким, Михал Симка   \n",
       "3086                                          Лола Гэнс   \n",
       "3087                                          Лола Гэнс   \n",
       "4042                     Хуго Е. Лаура, Хосе Луис Масса   \n",
       "4043                     Хуго Е. Лаура, Хосе Луис Масса   \n",
       "6379                                        Е.Герасимов   \n",
       "6380                                        Е.Герасимов   \n",
       "6428                                        Ю.Тарханова   \n",
       "6429                                        Ю.Тарханова   \n",
       "\n",
       "                             age_restriction  refundable_support  \\\n",
       "1300         «16+» - для детей старше 16 лет                 0.0   \n",
       "1301         «16+» - для детей старше 16 лет                 0.0   \n",
       "1475         «16+» - для детей старше 16 лет                 0.0   \n",
       "1476         «16+» - для детей старше 16 лет                 0.0   \n",
       "2191         «16+» - для детей старше 16 лет                 0.0   \n",
       "2192         «16+» - для детей старше 16 лет                 0.0   \n",
       "2752  «0+» - для любой зрительской аудитории                 0.0   \n",
       "2753  «0+» - для любой зрительской аудитории                 0.0   \n",
       "3086         «16+» - для детей старше 16 лет                 0.0   \n",
       "3087         «16+» - для детей старше 16 лет                 0.0   \n",
       "4042         «16+» - для детей старше 16 лет                 0.0   \n",
       "4043         «16+» - для детей старше 16 лет                 0.0   \n",
       "6379         «12+» - для детей старше 12 лет                 0.0   \n",
       "6380         «12+» - для детей старше 12 лет                 0.0   \n",
       "6428         «16+» - для детей старше 16 лет                 0.0   \n",
       "6429         «16+» - для детей старше 16 лет                 0.0   \n",
       "\n",
       "      nonrefundable_support  budget financing_source  ratings  \\\n",
       "1300                    0.0     0.0              NaN      7.2   \n",
       "1301                    0.0     0.0              NaN      7.2   \n",
       "1475                    0.0     0.0              NaN      3.5   \n",
       "1476                    0.0     0.0              NaN      3.5   \n",
       "2191                    0.0     0.0              NaN      5.7   \n",
       "2192                    0.0     0.0              NaN      5.7   \n",
       "2752                    0.0     0.0              NaN      5.2   \n",
       "2753                    0.0     0.0              NaN      5.2   \n",
       "3086                    0.0     0.0              NaN      5.7   \n",
       "3087                    0.0     0.0              NaN      5.7   \n",
       "4042                    0.0     0.0              NaN      6.6   \n",
       "4043                    0.0     0.0              NaN      6.6   \n",
       "6379                    0.0     0.0              NaN      NaN   \n",
       "6380                    0.0     0.0              NaN      NaN   \n",
       "6428                    0.0     0.0              NaN      3.9   \n",
       "6429                    0.0     0.0              NaN      3.9   \n",
       "\n",
       "                         genres  box_office  \n",
       "1300   драма,фантастика,триллер         0.0  \n",
       "1301   драма,фантастика,триллер         0.0  \n",
       "1475        комедия,приключения         0.0  \n",
       "1476        комедия,приключения         0.0  \n",
       "2191     мюзикл,драма,мелодрама         0.0  \n",
       "2192     мюзикл,драма,мелодрама     52495.0  \n",
       "2752  мультфильм,семейный,спорт      1360.0  \n",
       "2753  мультфильм,семейный,спорт  14152495.9  \n",
       "3086                      драма         0.0  \n",
       "3087                      драма    332371.0  \n",
       "4042  мультфильм,боевик,триллер         0.0  \n",
       "4043  мультфильм,боевик,триллер         0.0  \n",
       "6379            Жанр неизвестен         0.0  \n",
       "6380            Жанр неизвестен         0.0  \n",
       "6428  история,биография,военный         0.0  \n",
       "6429  история,биография,военный         0.0  "
      ]
     },
     "execution_count": 29,
     "metadata": {},
     "output_type": "execute_result"
    }
   ],
   "source": [
    "data[data.duplicated(subset=['title', 'show_start_date', 'type', \n",
    "                             'film_studio', 'production_country', 'director'], keep=False)]"
   ]
  },
  {
   "cell_type": "markdown",
   "metadata": {},
   "source": [
    "<span style=\"color:blue\">***Обнаружили 8 повторяющихся фильмов, у которых оттличаются номера прокатных удостоверений. Я их оставлю потому что скорее всего они вышли под разными прокатными удостоверениями из-за какой-либо бюрократии. Да и информация по бюджету, возвратным и невозвартным гос инвестициям в них отсутствует, что в дальнейшем не повлияет на исследования о фильмах получившим господдержку.***</span>"
   ]
  },
  {
   "cell_type": "markdown",
   "metadata": {
    "id": "52fOPrEBgFyQ"
   },
   "source": [
    "#### Шаг 2.4. Изучите категориальные значения\n",
    "\n",
    "- Посмотрите, какая общая проблема встречается почти во всех категориальных столбцах;\n",
    "- Исправьте проблемные значения в поле `type`.\n",
    "\n",
    "<div id=\"accordion\">\n",
    "    <div class=\"card\">\n",
    "        <div class=\"card-header\" id=\"headingThree\">\n",
    "            <button class=\"btn btn-link collapsed\" data-toggle=\"collapse\" data-target=\"#collapseHint_1\" aria-expanded=\"false\" aria-controls=\"collapseHint_1\">Подсказка</button>\n",
    "        </div>\n",
    "        <div id=\"collapseHint_1\" class=\"collapse\" aria-labelledby=\"headingThree\" data-parent=\"#accordion\">\n",
    "            <div class=\"card-body\">\n",
    "В поле <code>type</code> есть несколько значений, у которых появился пробел в начале строки. Самый простой способ их «починить» -- использовать метод <a href=\"https://pandas.pydata.org/docs/reference/api/pandas.Series.str.strip.html#pandas.Series.str.strip\">.str.strip</a>. Этот метод удаляет все пробелы, которые встречаются в начале и в конце строки. Применяют его таким образом:<br>\n",
    "<code>df['type'].str.strip()</code>\n",
    "            </div>\n",
    "        </div>\n",
    "    </div>\n",
    "</div>"
   ]
  },
  {
   "cell_type": "code",
   "execution_count": 30,
   "metadata": {
    "id": "PnXKIVdFgFyR"
   },
   "outputs": [
    {
     "data": {
      "text/plain": [
       "array(['Художественный', 'Анимационный', 'Прочие', 'Документальный',\n",
       "       'Научно-популярный', ' Художественный', ' Анимационный',\n",
       "       'Музыкально-развлекательный'], dtype=object)"
      ]
     },
     "execution_count": 30,
     "metadata": {},
     "output_type": "execute_result"
    }
   ],
   "source": [
    "data['type'].unique()"
   ]
  },
  {
   "cell_type": "markdown",
   "metadata": {},
   "source": [
    "<span style=\"color:blue\">***Для того чтобы здесь избавиться от дубликатов удалим пробелы.***</span>"
   ]
  },
  {
   "cell_type": "code",
   "execution_count": 31,
   "metadata": {},
   "outputs": [],
   "source": [
    "data['type'] = data['type'].str.strip()"
   ]
  },
  {
   "cell_type": "markdown",
   "metadata": {
    "id": "XFSN5lrEgFyR"
   },
   "source": [
    "#### Шаг 2.5. Проверьте количественные значения\n",
    "\n",
    "- Проверьте, обнаружились ли в таких столбцах подозрительные данные. Как с такими данными лучше поступить?\n",
    "\n",
    "<div id=\"accordion\">\n",
    "    <div class=\"card\">\n",
    "        <div class=\"card-header\" id=\"headingThree\">\n",
    "            <button class=\"btn btn-link collapsed\" data-toggle=\"collapse\" data-target=\"#collapseHint_budget\" aria-expanded=\"false\" aria-controls=\"collapseHint_budget\">Подсказка</button>\n",
    "        </div>\n",
    "        <div id=\"collapseHint_budget\" class=\"collapse\" aria-labelledby=\"headingThree\" data-parent=\"#accordion\">\n",
    "            <div class=\"card-body\">\n",
    "Обратите внимание на описание столбца <code>budget</code>. Как этот столбец соотносится с двумя другими: <code>refundable_support</code> и <code>nonrefundable_support</code>?\n",
    "            </div>\n",
    "        </div>\n",
    "    </div>\n",
    "</div>"
   ]
  },
  {
   "cell_type": "markdown",
   "metadata": {},
   "source": [
    "<span style=\"color:blue\">***В столбце budget есть данные только тех фильмов, которые имеют гос поддержку. Рассмотрим как соотносится бюджет к возвратным и невозвратным гос инвестициям(refundable_support и nonrefundable_support соответсттвенно).***</span>"
   ]
  },
  {
   "cell_type": "code",
   "execution_count": 32,
   "metadata": {},
   "outputs": [
    {
     "data": {
      "text/html": [
       "<div>\n",
       "<style scoped>\n",
       "    .dataframe tbody tr th:only-of-type {\n",
       "        vertical-align: middle;\n",
       "    }\n",
       "\n",
       "    .dataframe tbody tr th {\n",
       "        vertical-align: top;\n",
       "    }\n",
       "\n",
       "    .dataframe thead th {\n",
       "        text-align: right;\n",
       "    }\n",
       "</style>\n",
       "<table border=\"1\" class=\"dataframe\">\n",
       "  <thead>\n",
       "    <tr style=\"text-align: right;\">\n",
       "      <th></th>\n",
       "      <th>title</th>\n",
       "      <th>puNumber</th>\n",
       "      <th>show_start_date</th>\n",
       "      <th>type</th>\n",
       "      <th>film_studio</th>\n",
       "      <th>production_country</th>\n",
       "      <th>director</th>\n",
       "      <th>producer</th>\n",
       "      <th>age_restriction</th>\n",
       "      <th>refundable_support</th>\n",
       "      <th>nonrefundable_support</th>\n",
       "      <th>budget</th>\n",
       "      <th>financing_source</th>\n",
       "      <th>ratings</th>\n",
       "      <th>genres</th>\n",
       "      <th>box_office</th>\n",
       "    </tr>\n",
       "  </thead>\n",
       "  <tbody>\n",
       "    <tr>\n",
       "      <th>7474</th>\n",
       "      <td>Вторжение</td>\n",
       "      <td>111022519</td>\n",
       "      <td>2019-12-23 12:00:00+00:00</td>\n",
       "      <td>Художественный</td>\n",
       "      <td>ООО \"Арт Пикчерс Студия\", ООО \"Водород 2011\"</td>\n",
       "      <td>Россия</td>\n",
       "      <td>Ф.Бондарчук</td>\n",
       "      <td>Ф.Бондарчук, М.Врубель, А.Андрющенко, Д.Рудовский</td>\n",
       "      <td>«12+» - для детей старше 12 лет</td>\n",
       "      <td>100000000.0</td>\n",
       "      <td>400000000.0</td>\n",
       "      <td>944000000.0</td>\n",
       "      <td>Фонд кино</td>\n",
       "      <td>5.7</td>\n",
       "      <td>фантастика,боевик</td>\n",
       "      <td>0.0</td>\n",
       "    </tr>\n",
       "    <tr>\n",
       "      <th>7478</th>\n",
       "      <td>(Не)идеальный мужчина</td>\n",
       "      <td>111023119</td>\n",
       "      <td>2019-12-24 12:00:00+00:00</td>\n",
       "      <td>Художественный</td>\n",
       "      <td>ООО \"Нон-Стоп Продакшн\"</td>\n",
       "      <td>Россия</td>\n",
       "      <td>М.Бальчюнас (псевдоним М.Вайсберг)</td>\n",
       "      <td>С.Мелькумов, А.Роднянский, М.Вайсберг, Р.Минас...</td>\n",
       "      <td>«12+» - для детей старше 12 лет</td>\n",
       "      <td>40000000.0</td>\n",
       "      <td>60000000.0</td>\n",
       "      <td>150147502.0</td>\n",
       "      <td>Фонд кино</td>\n",
       "      <td>4.5</td>\n",
       "      <td>комедия,фантастика,мелодрама</td>\n",
       "      <td>0.0</td>\n",
       "    </tr>\n",
       "  </tbody>\n",
       "</table>\n",
       "</div>"
      ],
      "text/plain": [
       "                      title   puNumber           show_start_date  \\\n",
       "7474              Вторжение  111022519 2019-12-23 12:00:00+00:00   \n",
       "7478  (Не)идеальный мужчина  111023119 2019-12-24 12:00:00+00:00   \n",
       "\n",
       "                type                                   film_studio  \\\n",
       "7474  Художественный  ООО \"Арт Пикчерс Студия\", ООО \"Водород 2011\"   \n",
       "7478  Художественный                      ООО \"Нон-Стоп Продакшн\"    \n",
       "\n",
       "     production_country                            director  \\\n",
       "7474             Россия                         Ф.Бондарчук   \n",
       "7478             Россия  М.Бальчюнас (псевдоним М.Вайсберг)   \n",
       "\n",
       "                                               producer  \\\n",
       "7474  Ф.Бондарчук, М.Врубель, А.Андрющенко, Д.Рудовский   \n",
       "7478  С.Мелькумов, А.Роднянский, М.Вайсберг, Р.Минас...   \n",
       "\n",
       "                      age_restriction  refundable_support  \\\n",
       "7474  «12+» - для детей старше 12 лет         100000000.0   \n",
       "7478  «12+» - для детей старше 12 лет          40000000.0   \n",
       "\n",
       "      nonrefundable_support       budget financing_source  ratings  \\\n",
       "7474            400000000.0  944000000.0        Фонд кино      5.7   \n",
       "7478             60000000.0  150147502.0        Фонд кино      4.5   \n",
       "\n",
       "                            genres  box_office  \n",
       "7474             фантастика,боевик         0.0  \n",
       "7478  комедия,фантастика,мелодрама         0.0  "
      ]
     },
     "execution_count": 32,
     "metadata": {},
     "output_type": "execute_result"
    }
   ],
   "source": [
    "data.query('refundable_support > 0 and nonrefundable_support > 0 and budget > 0 and box_office == 0' )"
   ]
  },
  {
   "cell_type": "markdown",
   "metadata": {},
   "source": [
    "<span style=\"color:blue\">***Фильмы с господдержкой но без сборов есть, однако дата выхода в конце 19 года и скорее всего данные о сборах еще не появились.\n",
    "Теперь проверим фильмы с бюджетом меньше суммы суммарной господдержки. Сохраним в переменную data_low_budget.***</span>"
   ]
  },
  {
   "cell_type": "code",
   "execution_count": 33,
   "metadata": {},
   "outputs": [
    {
     "data": {
      "text/html": [
       "<div>\n",
       "<style scoped>\n",
       "    .dataframe tbody tr th:only-of-type {\n",
       "        vertical-align: middle;\n",
       "    }\n",
       "\n",
       "    .dataframe tbody tr th {\n",
       "        vertical-align: top;\n",
       "    }\n",
       "\n",
       "    .dataframe thead th {\n",
       "        text-align: right;\n",
       "    }\n",
       "</style>\n",
       "<table border=\"1\" class=\"dataframe\">\n",
       "  <thead>\n",
       "    <tr style=\"text-align: right;\">\n",
       "      <th></th>\n",
       "      <th>title</th>\n",
       "      <th>puNumber</th>\n",
       "      <th>show_start_date</th>\n",
       "      <th>type</th>\n",
       "      <th>film_studio</th>\n",
       "      <th>production_country</th>\n",
       "      <th>director</th>\n",
       "      <th>producer</th>\n",
       "      <th>age_restriction</th>\n",
       "      <th>refundable_support</th>\n",
       "      <th>nonrefundable_support</th>\n",
       "      <th>budget</th>\n",
       "      <th>financing_source</th>\n",
       "      <th>ratings</th>\n",
       "      <th>genres</th>\n",
       "      <th>box_office</th>\n",
       "    </tr>\n",
       "  </thead>\n",
       "  <tbody>\n",
       "    <tr>\n",
       "      <th>2053</th>\n",
       "      <td>14+</td>\n",
       "      <td>111023614</td>\n",
       "      <td>2014-12-19 12:00:00+00:00</td>\n",
       "      <td>Художественный</td>\n",
       "      <td>ООО Киностудия  \"Сентябрь\"</td>\n",
       "      <td>Россия</td>\n",
       "      <td>А.Зайцев</td>\n",
       "      <td>О.Гранина, А.Зайцев</td>\n",
       "      <td>«16+» - для детей старше 16 лет</td>\n",
       "      <td>0.0</td>\n",
       "      <td>23000000.0</td>\n",
       "      <td>0.0</td>\n",
       "      <td>Министерство культуры, Фонд кино</td>\n",
       "      <td>6.6</td>\n",
       "      <td>мелодрама</td>\n",
       "      <td>1.023402e+07</td>\n",
       "    </tr>\n",
       "    <tr>\n",
       "      <th>2058</th>\n",
       "      <td>Дуxless 2</td>\n",
       "      <td>111000415</td>\n",
       "      <td>2015-01-26 12:00:00+00:00</td>\n",
       "      <td>Художественный</td>\n",
       "      <td>ООО \"Киностудия \"Слово\", ООО \"Арт Пикчерс Студия\"</td>\n",
       "      <td>Россия</td>\n",
       "      <td>Р.Прыгунов</td>\n",
       "      <td>П.Ануров, Ф.Бондарчук, Д.Рудовский</td>\n",
       "      <td>«16+» - для детей старше 16 лет</td>\n",
       "      <td>0.0</td>\n",
       "      <td>75000000.0</td>\n",
       "      <td>0.0</td>\n",
       "      <td>Фонд кино</td>\n",
       "      <td>6.6</td>\n",
       "      <td>драма</td>\n",
       "      <td>4.461635e+08</td>\n",
       "    </tr>\n",
       "    <tr>\n",
       "      <th>2472</th>\n",
       "      <td>Воин (2015)</td>\n",
       "      <td>111017315</td>\n",
       "      <td>2015-09-28 12:00:00+00:00</td>\n",
       "      <td>Художественный</td>\n",
       "      <td>ООО \"Форпост Продакшн\", ООО \"Арт Пикчерс Студия\"</td>\n",
       "      <td>Россия</td>\n",
       "      <td>А.Андрианов</td>\n",
       "      <td>ООО \"Арт Пикчерс Студия\"</td>\n",
       "      <td>«12+» - для детей старше 12 лет</td>\n",
       "      <td>10000000.0</td>\n",
       "      <td>70000000.0</td>\n",
       "      <td>0.0</td>\n",
       "      <td>Фонд кино</td>\n",
       "      <td>7.8</td>\n",
       "      <td>боевик,драма,криминал</td>\n",
       "      <td>1.965724e+08</td>\n",
       "    </tr>\n",
       "    <tr>\n",
       "      <th>2532</th>\n",
       "      <td>Бармен.</td>\n",
       "      <td>111009615</td>\n",
       "      <td>2015-05-26 12:00:00+00:00</td>\n",
       "      <td>Художественный</td>\n",
       "      <td>АО \"ВайТ Медиа\", ООО \"Арт Пикчерс Студия\"</td>\n",
       "      <td>Россия</td>\n",
       "      <td>Д.Штурманова</td>\n",
       "      <td>Т.Вайнштейн</td>\n",
       "      <td>«16+» - для детей старше 16 лет</td>\n",
       "      <td>20000000.0</td>\n",
       "      <td>0.0</td>\n",
       "      <td>0.0</td>\n",
       "      <td>Фонд кино</td>\n",
       "      <td>6.2</td>\n",
       "      <td>комедия,фэнтези</td>\n",
       "      <td>6.741897e+07</td>\n",
       "    </tr>\n",
       "    <tr>\n",
       "      <th>2615</th>\n",
       "      <td>Савва. Сердце воина</td>\n",
       "      <td>114001715</td>\n",
       "      <td>2015-07-21 12:00:00+00:00</td>\n",
       "      <td>Анимационный</td>\n",
       "      <td>ООО \"Глюкоза Продакшн\", ООО \"Арт Пикчерс Студия\"</td>\n",
       "      <td>Россия</td>\n",
       "      <td>М.Фадеев</td>\n",
       "      <td>А.Чистяков</td>\n",
       "      <td>«6+» - для детей старше 6 лет</td>\n",
       "      <td>60000000.0</td>\n",
       "      <td>100000000.0</td>\n",
       "      <td>0.0</td>\n",
       "      <td>Фонд кино</td>\n",
       "      <td>4.6</td>\n",
       "      <td>мультфильм,приключения,фэнтези</td>\n",
       "      <td>1.844876e+08</td>\n",
       "    </tr>\n",
       "    <tr>\n",
       "      <th>2684</th>\n",
       "      <td>Тряпичный союз</td>\n",
       "      <td>111010215</td>\n",
       "      <td>2015-06-08 12:00:00+00:00</td>\n",
       "      <td>Художественный</td>\n",
       "      <td>ООО \"Кинокомпания \"КОКТЕБЕЛЬ\"</td>\n",
       "      <td>Россия</td>\n",
       "      <td>М.Местецкий</td>\n",
       "      <td>Р.Борисевич, А.Кушаев</td>\n",
       "      <td>«18+» - запрещено для детей</td>\n",
       "      <td>0.0</td>\n",
       "      <td>59000000.0</td>\n",
       "      <td>0.0</td>\n",
       "      <td>Фонд кино</td>\n",
       "      <td>6.3</td>\n",
       "      <td>комедия,драма</td>\n",
       "      <td>1.957739e+06</td>\n",
       "    </tr>\n",
       "    <tr>\n",
       "      <th>2788</th>\n",
       "      <td>Срочно выйду замуж</td>\n",
       "      <td>111017115</td>\n",
       "      <td>2015-09-30 12:00:00+00:00</td>\n",
       "      <td>Художественный</td>\n",
       "      <td>АО \"ВайТ Медиа\", ООО \"Арт Пикчерс Студия\"</td>\n",
       "      <td>Россия</td>\n",
       "      <td>С Чекалов</td>\n",
       "      <td>Ф.Бондарчук, Т.Вайнштейн, Д.Рудовский</td>\n",
       "      <td>«16+» - для детей старше 16 лет</td>\n",
       "      <td>0.0</td>\n",
       "      <td>35000000.0</td>\n",
       "      <td>0.0</td>\n",
       "      <td>Фонд кино</td>\n",
       "      <td>5.1</td>\n",
       "      <td>комедия,мелодрама</td>\n",
       "      <td>7.293778e+07</td>\n",
       "    </tr>\n",
       "    <tr>\n",
       "      <th>2874</th>\n",
       "      <td>Помню - не помню!</td>\n",
       "      <td>111004916</td>\n",
       "      <td>2016-03-01 12:00:00+00:00</td>\n",
       "      <td>Художественный</td>\n",
       "      <td>ООО \"КиноФирма\"</td>\n",
       "      <td>Россия</td>\n",
       "      <td>В.Ровенский</td>\n",
       "      <td>ООО \"КиноФирма\"</td>\n",
       "      <td>«12+» - для детей старше 12 лет</td>\n",
       "      <td>0.0</td>\n",
       "      <td>6000000.0</td>\n",
       "      <td>0.0</td>\n",
       "      <td>Министерство культуры</td>\n",
       "      <td>4.3</td>\n",
       "      <td>комедия</td>\n",
       "      <td>1.536293e+07</td>\n",
       "    </tr>\n",
       "    <tr>\n",
       "      <th>3047</th>\n",
       "      <td>Любовь с ограничениями</td>\n",
       "      <td>111008216</td>\n",
       "      <td>2016-04-29 12:00:00+00:00</td>\n",
       "      <td>Художественный</td>\n",
       "      <td>АО \"ВайТ Медиа\", ООО \"Арт Пикчерс Студия\"</td>\n",
       "      <td>Россия</td>\n",
       "      <td>Д.Тюрин</td>\n",
       "      <td>Ф.Бондарчук, Т.Вайнштейн, Д.Рудовский</td>\n",
       "      <td>«16+» - для детей старше 16 лет</td>\n",
       "      <td>19000000.0</td>\n",
       "      <td>51000000.0</td>\n",
       "      <td>0.0</td>\n",
       "      <td>Фонд кино</td>\n",
       "      <td>6.3</td>\n",
       "      <td>комедия,мелодрама</td>\n",
       "      <td>7.029905e+07</td>\n",
       "    </tr>\n",
       "    <tr>\n",
       "      <th>3565</th>\n",
       "      <td>Притяжение (2016)</td>\n",
       "      <td>111018116</td>\n",
       "      <td>2016-12-16 12:00:00+00:00</td>\n",
       "      <td>Художественный</td>\n",
       "      <td>ООО \"Водород 2011\",  ООО \"Арт Пикчерс Студия\"</td>\n",
       "      <td>Россия</td>\n",
       "      <td>Ф.Бондарчук</td>\n",
       "      <td>ООО \"Арт Пикчерс Студия\"</td>\n",
       "      <td>«12+» - для детей старше 12 лет</td>\n",
       "      <td>0.0</td>\n",
       "      <td>250000000.0</td>\n",
       "      <td>0.0</td>\n",
       "      <td>Фонд кино</td>\n",
       "      <td>5.6</td>\n",
       "      <td>фантастика</td>\n",
       "      <td>1.038321e+09</td>\n",
       "    </tr>\n",
       "    <tr>\n",
       "      <th>3675</th>\n",
       "      <td>Чудо-юдо</td>\n",
       "      <td>114001817</td>\n",
       "      <td>2017-06-27 12:00:00+00:00</td>\n",
       "      <td>Анимационный</td>\n",
       "      <td>ООО \"КиноФирма\"</td>\n",
       "      <td>Россия</td>\n",
       "      <td>А.Лукичев</td>\n",
       "      <td>ООО \"КиноФирма\"</td>\n",
       "      <td>«6+» - для детей старше 6 лет</td>\n",
       "      <td>20000000.0</td>\n",
       "      <td>20000000.0</td>\n",
       "      <td>0.0</td>\n",
       "      <td>Фонд кино</td>\n",
       "      <td>5.2</td>\n",
       "      <td>мультфильм,фэнтези,семейный</td>\n",
       "      <td>5.510801e+07</td>\n",
       "    </tr>\n",
       "    <tr>\n",
       "      <th>3739</th>\n",
       "      <td>Мифы</td>\n",
       "      <td>111004317</td>\n",
       "      <td>2017-06-07 12:00:00+00:00</td>\n",
       "      <td>Художественный</td>\n",
       "      <td>ООО \"ХАЙПФИЛМ\", ООО \"Арт Пикчерс Студия\"</td>\n",
       "      <td>Россия</td>\n",
       "      <td>А.Молочников</td>\n",
       "      <td>Ф.Бондарчук, Д.Рудовский, И.Стюарт, М.Османн, ...</td>\n",
       "      <td>«16+» - для детей старше 16 лет</td>\n",
       "      <td>25000000.0</td>\n",
       "      <td>20000000.0</td>\n",
       "      <td>0.0</td>\n",
       "      <td>Фонд кино</td>\n",
       "      <td>4.8</td>\n",
       "      <td>комедия</td>\n",
       "      <td>5.045195e+07</td>\n",
       "    </tr>\n",
       "    <tr>\n",
       "      <th>5673</th>\n",
       "      <td>Селфи</td>\n",
       "      <td>111012117</td>\n",
       "      <td>2018-02-01 12:00:00+00:00</td>\n",
       "      <td>Художественный</td>\n",
       "      <td>ООО \"Киностудия \"Слово\", ООО \"Арт Пикчерс Студия\"</td>\n",
       "      <td>Россия</td>\n",
       "      <td>Н.Хомерики</td>\n",
       "      <td>П.Ануров, Ф.Бондарчук, Д.Рудовский</td>\n",
       "      <td>«16+» - для детей старше 16 лет</td>\n",
       "      <td>20000000.0</td>\n",
       "      <td>40000000.0</td>\n",
       "      <td>0.0</td>\n",
       "      <td>Фонд кино</td>\n",
       "      <td>5.8</td>\n",
       "      <td>триллер,драма</td>\n",
       "      <td>2.251964e+08</td>\n",
       "    </tr>\n",
       "    <tr>\n",
       "      <th>5806</th>\n",
       "      <td>Два хвоста</td>\n",
       "      <td>114001018</td>\n",
       "      <td>2018-05-31 12:00:00+00:00</td>\n",
       "      <td>Анимационный</td>\n",
       "      <td>ООО \"ЛИЦЕНЗИОННЫЕ БРЕНДЫ\"</td>\n",
       "      <td>Россия</td>\n",
       "      <td>В.Ровенский, Н.Лопато, В.Азеев</td>\n",
       "      <td>ООО \"ЛИЦЕНЗИОННЫЕ БРЕНДЫ\"</td>\n",
       "      <td>«6+» - для детей старше 6 лет</td>\n",
       "      <td>10000000.0</td>\n",
       "      <td>60000000.0</td>\n",
       "      <td>0.0</td>\n",
       "      <td>Фонд кино</td>\n",
       "      <td>5.0</td>\n",
       "      <td>мультфильм,детский</td>\n",
       "      <td>1.065143e+08</td>\n",
       "    </tr>\n",
       "    <tr>\n",
       "      <th>6008</th>\n",
       "      <td>Принцесса и дракон</td>\n",
       "      <td>114003018</td>\n",
       "      <td>2018-08-23 12:00:00+00:00</td>\n",
       "      <td>Анимационный</td>\n",
       "      <td>ООО \"ЛИЦЕНЗИОННЫЕ БРЕНДЫ\"</td>\n",
       "      <td>Россия</td>\n",
       "      <td>М.Нефедова</td>\n",
       "      <td>ООО \"ЛИЦЕНЗИОННЫЕ БРЕНДЫ\"</td>\n",
       "      <td>«6+» - для детей старше 6 лет</td>\n",
       "      <td>40000000.0</td>\n",
       "      <td>40000000.0</td>\n",
       "      <td>0.0</td>\n",
       "      <td>Фонд кино</td>\n",
       "      <td>5.2</td>\n",
       "      <td>мультфильм,фэнтези,детский</td>\n",
       "      <td>8.336633e+07</td>\n",
       "    </tr>\n",
       "    <tr>\n",
       "      <th>6323</th>\n",
       "      <td>Баба Яга</td>\n",
       "      <td>114006518</td>\n",
       "      <td>2018-11-08 12:00:00+00:00</td>\n",
       "      <td>Анимационный</td>\n",
       "      <td>ООО \"Арт Пикчерс Студия\"</td>\n",
       "      <td>Россия</td>\n",
       "      <td>В.Саков</td>\n",
       "      <td>ООО \"Арт Пикчерс Студия\", ООО \"КРИЭЙТИВ АНИМЭЙ...</td>\n",
       "      <td>«6+» - для детей старше 6 лет</td>\n",
       "      <td>0.0</td>\n",
       "      <td>138969465.0</td>\n",
       "      <td>0.0</td>\n",
       "      <td>Фонд кино</td>\n",
       "      <td>NaN</td>\n",
       "      <td>Жанр неизвестен</td>\n",
       "      <td>1.334699e+06</td>\n",
       "    </tr>\n",
       "    <tr>\n",
       "      <th>6823</th>\n",
       "      <td>Большое путешествие</td>\n",
       "      <td>114002419</td>\n",
       "      <td>2019-04-20 12:00:00+00:00</td>\n",
       "      <td>Анимационный</td>\n",
       "      <td>ООО \"ЛИЦЕНЗИОННЫЕ БРЕНДЫ\"</td>\n",
       "      <td>Россия</td>\n",
       "      <td>Н.Лопато, В.Ровенский</td>\n",
       "      <td>ООО \"ЛИЦЕНЗИОННЫЕ БРЕНДЫ\"</td>\n",
       "      <td>«6+» - для детей старше 6 лет</td>\n",
       "      <td>60000000.0</td>\n",
       "      <td>120000000.0</td>\n",
       "      <td>0.0</td>\n",
       "      <td>Фонд кино</td>\n",
       "      <td>6.2</td>\n",
       "      <td>мультфильм,комедия,приключения</td>\n",
       "      <td>1.476068e+08</td>\n",
       "    </tr>\n",
       "  </tbody>\n",
       "</table>\n",
       "</div>"
      ],
      "text/plain": [
       "                       title   puNumber           show_start_date  \\\n",
       "2053                     14+  111023614 2014-12-19 12:00:00+00:00   \n",
       "2058               Дуxless 2  111000415 2015-01-26 12:00:00+00:00   \n",
       "2472             Воин (2015)  111017315 2015-09-28 12:00:00+00:00   \n",
       "2532                 Бармен.  111009615 2015-05-26 12:00:00+00:00   \n",
       "2615     Савва. Сердце воина  114001715 2015-07-21 12:00:00+00:00   \n",
       "2684          Тряпичный союз  111010215 2015-06-08 12:00:00+00:00   \n",
       "2788      Срочно выйду замуж  111017115 2015-09-30 12:00:00+00:00   \n",
       "2874       Помню - не помню!  111004916 2016-03-01 12:00:00+00:00   \n",
       "3047  Любовь с ограничениями  111008216 2016-04-29 12:00:00+00:00   \n",
       "3565       Притяжение (2016)  111018116 2016-12-16 12:00:00+00:00   \n",
       "3675                Чудо-юдо  114001817 2017-06-27 12:00:00+00:00   \n",
       "3739                    Мифы  111004317 2017-06-07 12:00:00+00:00   \n",
       "5673                   Селфи  111012117 2018-02-01 12:00:00+00:00   \n",
       "5806              Два хвоста  114001018 2018-05-31 12:00:00+00:00   \n",
       "6008      Принцесса и дракон  114003018 2018-08-23 12:00:00+00:00   \n",
       "6323                Баба Яга  114006518 2018-11-08 12:00:00+00:00   \n",
       "6823     Большое путешествие  114002419 2019-04-20 12:00:00+00:00   \n",
       "\n",
       "                type                                        film_studio  \\\n",
       "2053  Художественный                         ООО Киностудия  \"Сентябрь\"   \n",
       "2058  Художественный  ООО \"Киностудия \"Слово\", ООО \"Арт Пикчерс Студия\"   \n",
       "2472  Художественный   ООО \"Форпост Продакшн\", ООО \"Арт Пикчерс Студия\"   \n",
       "2532  Художественный          АО \"ВайТ Медиа\", ООО \"Арт Пикчерс Студия\"   \n",
       "2615    Анимационный   ООО \"Глюкоза Продакшн\", ООО \"Арт Пикчерс Студия\"   \n",
       "2684  Художественный                      ООО \"Кинокомпания \"КОКТЕБЕЛЬ\"   \n",
       "2788  Художественный          АО \"ВайТ Медиа\", ООО \"Арт Пикчерс Студия\"   \n",
       "2874  Художественный                                    ООО \"КиноФирма\"   \n",
       "3047  Художественный          АО \"ВайТ Медиа\", ООО \"Арт Пикчерс Студия\"   \n",
       "3565  Художественный      ООО \"Водород 2011\",  ООО \"Арт Пикчерс Студия\"   \n",
       "3675    Анимационный                                    ООО \"КиноФирма\"   \n",
       "3739  Художественный           ООО \"ХАЙПФИЛМ\", ООО \"Арт Пикчерс Студия\"   \n",
       "5673  Художественный  ООО \"Киностудия \"Слово\", ООО \"Арт Пикчерс Студия\"   \n",
       "5806    Анимационный                          ООО \"ЛИЦЕНЗИОННЫЕ БРЕНДЫ\"   \n",
       "6008    Анимационный                          ООО \"ЛИЦЕНЗИОННЫЕ БРЕНДЫ\"   \n",
       "6323    Анимационный                           ООО \"Арт Пикчерс Студия\"   \n",
       "6823    Анимационный                          ООО \"ЛИЦЕНЗИОННЫЕ БРЕНДЫ\"   \n",
       "\n",
       "     production_country                        director  \\\n",
       "2053             Россия                        А.Зайцев   \n",
       "2058             Россия                      Р.Прыгунов   \n",
       "2472             Россия                     А.Андрианов   \n",
       "2532             Россия                    Д.Штурманова   \n",
       "2615             Россия                        М.Фадеев   \n",
       "2684             Россия                     М.Местецкий   \n",
       "2788             Россия                       С Чекалов   \n",
       "2874             Россия                     В.Ровенский   \n",
       "3047             Россия                         Д.Тюрин   \n",
       "3565             Россия                     Ф.Бондарчук   \n",
       "3675             Россия                       А.Лукичев   \n",
       "3739             Россия                    А.Молочников   \n",
       "5673             Россия                      Н.Хомерики   \n",
       "5806             Россия  В.Ровенский, Н.Лопато, В.Азеев   \n",
       "6008             Россия                      М.Нефедова   \n",
       "6323             Россия                         В.Саков   \n",
       "6823             Россия           Н.Лопато, В.Ровенский   \n",
       "\n",
       "                                               producer  \\\n",
       "2053                                О.Гранина, А.Зайцев   \n",
       "2058                 П.Ануров, Ф.Бондарчук, Д.Рудовский   \n",
       "2472                           ООО \"Арт Пикчерс Студия\"   \n",
       "2532                                        Т.Вайнштейн   \n",
       "2615                                         А.Чистяков   \n",
       "2684                              Р.Борисевич, А.Кушаев   \n",
       "2788              Ф.Бондарчук, Т.Вайнштейн, Д.Рудовский   \n",
       "2874                                    ООО \"КиноФирма\"   \n",
       "3047              Ф.Бондарчук, Т.Вайнштейн, Д.Рудовский   \n",
       "3565                           ООО \"Арт Пикчерс Студия\"   \n",
       "3675                                    ООО \"КиноФирма\"   \n",
       "3739  Ф.Бондарчук, Д.Рудовский, И.Стюарт, М.Османн, ...   \n",
       "5673                 П.Ануров, Ф.Бондарчук, Д.Рудовский   \n",
       "5806                          ООО \"ЛИЦЕНЗИОННЫЕ БРЕНДЫ\"   \n",
       "6008                          ООО \"ЛИЦЕНЗИОННЫЕ БРЕНДЫ\"   \n",
       "6323  ООО \"Арт Пикчерс Студия\", ООО \"КРИЭЙТИВ АНИМЭЙ...   \n",
       "6823                          ООО \"ЛИЦЕНЗИОННЫЕ БРЕНДЫ\"   \n",
       "\n",
       "                      age_restriction  refundable_support  \\\n",
       "2053  «16+» - для детей старше 16 лет                 0.0   \n",
       "2058  «16+» - для детей старше 16 лет                 0.0   \n",
       "2472  «12+» - для детей старше 12 лет          10000000.0   \n",
       "2532  «16+» - для детей старше 16 лет          20000000.0   \n",
       "2615    «6+» - для детей старше 6 лет          60000000.0   \n",
       "2684      «18+» - запрещено для детей                 0.0   \n",
       "2788  «16+» - для детей старше 16 лет                 0.0   \n",
       "2874  «12+» - для детей старше 12 лет                 0.0   \n",
       "3047  «16+» - для детей старше 16 лет          19000000.0   \n",
       "3565  «12+» - для детей старше 12 лет                 0.0   \n",
       "3675    «6+» - для детей старше 6 лет          20000000.0   \n",
       "3739  «16+» - для детей старше 16 лет          25000000.0   \n",
       "5673  «16+» - для детей старше 16 лет          20000000.0   \n",
       "5806    «6+» - для детей старше 6 лет          10000000.0   \n",
       "6008    «6+» - для детей старше 6 лет          40000000.0   \n",
       "6323    «6+» - для детей старше 6 лет                 0.0   \n",
       "6823    «6+» - для детей старше 6 лет          60000000.0   \n",
       "\n",
       "      nonrefundable_support  budget                  financing_source  \\\n",
       "2053             23000000.0     0.0  Министерство культуры, Фонд кино   \n",
       "2058             75000000.0     0.0                         Фонд кино   \n",
       "2472             70000000.0     0.0                         Фонд кино   \n",
       "2532                    0.0     0.0                         Фонд кино   \n",
       "2615            100000000.0     0.0                         Фонд кино   \n",
       "2684             59000000.0     0.0                         Фонд кино   \n",
       "2788             35000000.0     0.0                         Фонд кино   \n",
       "2874              6000000.0     0.0             Министерство культуры   \n",
       "3047             51000000.0     0.0                         Фонд кино   \n",
       "3565            250000000.0     0.0                         Фонд кино   \n",
       "3675             20000000.0     0.0                         Фонд кино   \n",
       "3739             20000000.0     0.0                         Фонд кино   \n",
       "5673             40000000.0     0.0                         Фонд кино   \n",
       "5806             60000000.0     0.0                         Фонд кино   \n",
       "6008             40000000.0     0.0                         Фонд кино   \n",
       "6323            138969465.0     0.0                         Фонд кино   \n",
       "6823            120000000.0     0.0                         Фонд кино   \n",
       "\n",
       "      ratings                          genres    box_office  \n",
       "2053      6.6                       мелодрама  1.023402e+07  \n",
       "2058      6.6                           драма  4.461635e+08  \n",
       "2472      7.8           боевик,драма,криминал  1.965724e+08  \n",
       "2532      6.2                 комедия,фэнтези  6.741897e+07  \n",
       "2615      4.6  мультфильм,приключения,фэнтези  1.844876e+08  \n",
       "2684      6.3                   комедия,драма  1.957739e+06  \n",
       "2788      5.1               комедия,мелодрама  7.293778e+07  \n",
       "2874      4.3                         комедия  1.536293e+07  \n",
       "3047      6.3               комедия,мелодрама  7.029905e+07  \n",
       "3565      5.6                      фантастика  1.038321e+09  \n",
       "3675      5.2     мультфильм,фэнтези,семейный  5.510801e+07  \n",
       "3739      4.8                         комедия  5.045195e+07  \n",
       "5673      5.8                   триллер,драма  2.251964e+08  \n",
       "5806      5.0              мультфильм,детский  1.065143e+08  \n",
       "6008      5.2      мультфильм,фэнтези,детский  8.336633e+07  \n",
       "6323      NaN                 Жанр неизвестен  1.334699e+06  \n",
       "6823      6.2  мультфильм,комедия,приключения  1.476068e+08  "
      ]
     },
     "execution_count": 33,
     "metadata": {},
     "output_type": "execute_result"
    }
   ],
   "source": [
    "data_low_budget = data[data['budget'] < (data['refundable_support'] + data['nonrefundable_support'])]\n",
    "data_low_budget"
   ]
  },
  {
   "cell_type": "markdown",
   "metadata": {},
   "source": [
    "<span style=\"color:blue\">***Оценим долю государственного бюджета фильма***</span>"
   ]
  },
  {
   "cell_type": "code",
   "execution_count": 34,
   "metadata": {},
   "outputs": [
    {
     "name": "stdout",
     "output_type": "stream",
     "text": [
      "Доля государственного бюджета фильма составляет: 61.4 %\n"
     ]
    }
   ],
   "source": [
    "data_share_support = ((data['refundable_support'] +\n",
    "                       data['nonrefundable_support']) / data['budget']).median()*100\n",
    "print('Доля государственного бюджета фильма составляет:', round(data_share_support, 2), '%')\n"
   ]
  },
  {
   "cell_type": "markdown",
   "metadata": {},
   "source": [
    "<span style=\"color:blue\">***Заполним пропуски в бюджете суммой господдержки разделенную на долю государственного бюджета фильма.***</span>"
   ]
  },
  {
   "cell_type": "code",
   "execution_count": 35,
   "metadata": {},
   "outputs": [
    {
     "data": {
      "text/html": [
       "<div>\n",
       "<style scoped>\n",
       "    .dataframe tbody tr th:only-of-type {\n",
       "        vertical-align: middle;\n",
       "    }\n",
       "\n",
       "    .dataframe tbody tr th {\n",
       "        vertical-align: top;\n",
       "    }\n",
       "\n",
       "    .dataframe thead th {\n",
       "        text-align: right;\n",
       "    }\n",
       "</style>\n",
       "<table border=\"1\" class=\"dataframe\">\n",
       "  <thead>\n",
       "    <tr style=\"text-align: right;\">\n",
       "      <th></th>\n",
       "      <th>title</th>\n",
       "      <th>puNumber</th>\n",
       "      <th>show_start_date</th>\n",
       "      <th>type</th>\n",
       "      <th>film_studio</th>\n",
       "      <th>production_country</th>\n",
       "      <th>director</th>\n",
       "      <th>producer</th>\n",
       "      <th>age_restriction</th>\n",
       "      <th>refundable_support</th>\n",
       "      <th>nonrefundable_support</th>\n",
       "      <th>budget</th>\n",
       "      <th>financing_source</th>\n",
       "      <th>ratings</th>\n",
       "      <th>genres</th>\n",
       "      <th>box_office</th>\n",
       "    </tr>\n",
       "  </thead>\n",
       "  <tbody>\n",
       "    <tr>\n",
       "      <th>2053</th>\n",
       "      <td>14+</td>\n",
       "      <td>111023614</td>\n",
       "      <td>2014-12-19 12:00:00+00:00</td>\n",
       "      <td>Художественный</td>\n",
       "      <td>ООО Киностудия  \"Сентябрь\"</td>\n",
       "      <td>Россия</td>\n",
       "      <td>А.Зайцев</td>\n",
       "      <td>О.Гранина, А.Зайцев</td>\n",
       "      <td>«16+» - для детей старше 16 лет</td>\n",
       "      <td>0.0</td>\n",
       "      <td>23000000.0</td>\n",
       "      <td>3.745699e+07</td>\n",
       "      <td>Министерство культуры, Фонд кино</td>\n",
       "      <td>6.6</td>\n",
       "      <td>мелодрама</td>\n",
       "      <td>1.023402e+07</td>\n",
       "    </tr>\n",
       "    <tr>\n",
       "      <th>2058</th>\n",
       "      <td>Дуxless 2</td>\n",
       "      <td>111000415</td>\n",
       "      <td>2015-01-26 12:00:00+00:00</td>\n",
       "      <td>Художественный</td>\n",
       "      <td>ООО \"Киностудия \"Слово\", ООО \"Арт Пикчерс Студия\"</td>\n",
       "      <td>Россия</td>\n",
       "      <td>Р.Прыгунов</td>\n",
       "      <td>П.Ануров, Ф.Бондарчук, Д.Рудовский</td>\n",
       "      <td>«16+» - для детей старше 16 лет</td>\n",
       "      <td>0.0</td>\n",
       "      <td>75000000.0</td>\n",
       "      <td>1.221424e+08</td>\n",
       "      <td>Фонд кино</td>\n",
       "      <td>6.6</td>\n",
       "      <td>драма</td>\n",
       "      <td>4.461635e+08</td>\n",
       "    </tr>\n",
       "    <tr>\n",
       "      <th>2472</th>\n",
       "      <td>Воин (2015)</td>\n",
       "      <td>111017315</td>\n",
       "      <td>2015-09-28 12:00:00+00:00</td>\n",
       "      <td>Художественный</td>\n",
       "      <td>ООО \"Форпост Продакшн\", ООО \"Арт Пикчерс Студия\"</td>\n",
       "      <td>Россия</td>\n",
       "      <td>А.Андрианов</td>\n",
       "      <td>ООО \"Арт Пикчерс Студия\"</td>\n",
       "      <td>«12+» - для детей старше 12 лет</td>\n",
       "      <td>10000000.0</td>\n",
       "      <td>70000000.0</td>\n",
       "      <td>1.302852e+08</td>\n",
       "      <td>Фонд кино</td>\n",
       "      <td>7.8</td>\n",
       "      <td>боевик,драма,криминал</td>\n",
       "      <td>1.965724e+08</td>\n",
       "    </tr>\n",
       "    <tr>\n",
       "      <th>2532</th>\n",
       "      <td>Бармен.</td>\n",
       "      <td>111009615</td>\n",
       "      <td>2015-05-26 12:00:00+00:00</td>\n",
       "      <td>Художественный</td>\n",
       "      <td>АО \"ВайТ Медиа\", ООО \"Арт Пикчерс Студия\"</td>\n",
       "      <td>Россия</td>\n",
       "      <td>Д.Штурманова</td>\n",
       "      <td>Т.Вайнштейн</td>\n",
       "      <td>«16+» - для детей старше 16 лет</td>\n",
       "      <td>20000000.0</td>\n",
       "      <td>0.0</td>\n",
       "      <td>3.257129e+07</td>\n",
       "      <td>Фонд кино</td>\n",
       "      <td>6.2</td>\n",
       "      <td>комедия,фэнтези</td>\n",
       "      <td>6.741897e+07</td>\n",
       "    </tr>\n",
       "    <tr>\n",
       "      <th>2615</th>\n",
       "      <td>Савва. Сердце воина</td>\n",
       "      <td>114001715</td>\n",
       "      <td>2015-07-21 12:00:00+00:00</td>\n",
       "      <td>Анимационный</td>\n",
       "      <td>ООО \"Глюкоза Продакшн\", ООО \"Арт Пикчерс Студия\"</td>\n",
       "      <td>Россия</td>\n",
       "      <td>М.Фадеев</td>\n",
       "      <td>А.Чистяков</td>\n",
       "      <td>«6+» - для детей старше 6 лет</td>\n",
       "      <td>60000000.0</td>\n",
       "      <td>100000000.0</td>\n",
       "      <td>2.605704e+08</td>\n",
       "      <td>Фонд кино</td>\n",
       "      <td>4.6</td>\n",
       "      <td>мультфильм,приключения,фэнтези</td>\n",
       "      <td>1.844876e+08</td>\n",
       "    </tr>\n",
       "    <tr>\n",
       "      <th>2684</th>\n",
       "      <td>Тряпичный союз</td>\n",
       "      <td>111010215</td>\n",
       "      <td>2015-06-08 12:00:00+00:00</td>\n",
       "      <td>Художественный</td>\n",
       "      <td>ООО \"Кинокомпания \"КОКТЕБЕЛЬ\"</td>\n",
       "      <td>Россия</td>\n",
       "      <td>М.Местецкий</td>\n",
       "      <td>Р.Борисевич, А.Кушаев</td>\n",
       "      <td>«18+» - запрещено для детей</td>\n",
       "      <td>0.0</td>\n",
       "      <td>59000000.0</td>\n",
       "      <td>9.608532e+07</td>\n",
       "      <td>Фонд кино</td>\n",
       "      <td>6.3</td>\n",
       "      <td>комедия,драма</td>\n",
       "      <td>1.957739e+06</td>\n",
       "    </tr>\n",
       "    <tr>\n",
       "      <th>2788</th>\n",
       "      <td>Срочно выйду замуж</td>\n",
       "      <td>111017115</td>\n",
       "      <td>2015-09-30 12:00:00+00:00</td>\n",
       "      <td>Художественный</td>\n",
       "      <td>АО \"ВайТ Медиа\", ООО \"Арт Пикчерс Студия\"</td>\n",
       "      <td>Россия</td>\n",
       "      <td>С Чекалов</td>\n",
       "      <td>Ф.Бондарчук, Т.Вайнштейн, Д.Рудовский</td>\n",
       "      <td>«16+» - для детей старше 16 лет</td>\n",
       "      <td>0.0</td>\n",
       "      <td>35000000.0</td>\n",
       "      <td>5.699976e+07</td>\n",
       "      <td>Фонд кино</td>\n",
       "      <td>5.1</td>\n",
       "      <td>комедия,мелодрама</td>\n",
       "      <td>7.293778e+07</td>\n",
       "    </tr>\n",
       "    <tr>\n",
       "      <th>2874</th>\n",
       "      <td>Помню - не помню!</td>\n",
       "      <td>111004916</td>\n",
       "      <td>2016-03-01 12:00:00+00:00</td>\n",
       "      <td>Художественный</td>\n",
       "      <td>ООО \"КиноФирма\"</td>\n",
       "      <td>Россия</td>\n",
       "      <td>В.Ровенский</td>\n",
       "      <td>ООО \"КиноФирма\"</td>\n",
       "      <td>«12+» - для детей старше 12 лет</td>\n",
       "      <td>0.0</td>\n",
       "      <td>6000000.0</td>\n",
       "      <td>9.771388e+06</td>\n",
       "      <td>Министерство культуры</td>\n",
       "      <td>4.3</td>\n",
       "      <td>комедия</td>\n",
       "      <td>1.536293e+07</td>\n",
       "    </tr>\n",
       "    <tr>\n",
       "      <th>3047</th>\n",
       "      <td>Любовь с ограничениями</td>\n",
       "      <td>111008216</td>\n",
       "      <td>2016-04-29 12:00:00+00:00</td>\n",
       "      <td>Художественный</td>\n",
       "      <td>АО \"ВайТ Медиа\", ООО \"Арт Пикчерс Студия\"</td>\n",
       "      <td>Россия</td>\n",
       "      <td>Д.Тюрин</td>\n",
       "      <td>Ф.Бондарчук, Т.Вайнштейн, Д.Рудовский</td>\n",
       "      <td>«16+» - для детей старше 16 лет</td>\n",
       "      <td>19000000.0</td>\n",
       "      <td>51000000.0</td>\n",
       "      <td>1.139995e+08</td>\n",
       "      <td>Фонд кино</td>\n",
       "      <td>6.3</td>\n",
       "      <td>комедия,мелодрама</td>\n",
       "      <td>7.029905e+07</td>\n",
       "    </tr>\n",
       "    <tr>\n",
       "      <th>3565</th>\n",
       "      <td>Притяжение (2016)</td>\n",
       "      <td>111018116</td>\n",
       "      <td>2016-12-16 12:00:00+00:00</td>\n",
       "      <td>Художественный</td>\n",
       "      <td>ООО \"Водород 2011\",  ООО \"Арт Пикчерс Студия\"</td>\n",
       "      <td>Россия</td>\n",
       "      <td>Ф.Бондарчук</td>\n",
       "      <td>ООО \"Арт Пикчерс Студия\"</td>\n",
       "      <td>«12+» - для детей старше 12 лет</td>\n",
       "      <td>0.0</td>\n",
       "      <td>250000000.0</td>\n",
       "      <td>4.071412e+08</td>\n",
       "      <td>Фонд кино</td>\n",
       "      <td>5.6</td>\n",
       "      <td>фантастика</td>\n",
       "      <td>1.038321e+09</td>\n",
       "    </tr>\n",
       "    <tr>\n",
       "      <th>3675</th>\n",
       "      <td>Чудо-юдо</td>\n",
       "      <td>114001817</td>\n",
       "      <td>2017-06-27 12:00:00+00:00</td>\n",
       "      <td>Анимационный</td>\n",
       "      <td>ООО \"КиноФирма\"</td>\n",
       "      <td>Россия</td>\n",
       "      <td>А.Лукичев</td>\n",
       "      <td>ООО \"КиноФирма\"</td>\n",
       "      <td>«6+» - для детей старше 6 лет</td>\n",
       "      <td>20000000.0</td>\n",
       "      <td>20000000.0</td>\n",
       "      <td>6.514259e+07</td>\n",
       "      <td>Фонд кино</td>\n",
       "      <td>5.2</td>\n",
       "      <td>мультфильм,фэнтези,семейный</td>\n",
       "      <td>5.510801e+07</td>\n",
       "    </tr>\n",
       "    <tr>\n",
       "      <th>3739</th>\n",
       "      <td>Мифы</td>\n",
       "      <td>111004317</td>\n",
       "      <td>2017-06-07 12:00:00+00:00</td>\n",
       "      <td>Художественный</td>\n",
       "      <td>ООО \"ХАЙПФИЛМ\", ООО \"Арт Пикчерс Студия\"</td>\n",
       "      <td>Россия</td>\n",
       "      <td>А.Молочников</td>\n",
       "      <td>Ф.Бондарчук, Д.Рудовский, И.Стюарт, М.Османн, ...</td>\n",
       "      <td>«16+» - для детей старше 16 лет</td>\n",
       "      <td>25000000.0</td>\n",
       "      <td>20000000.0</td>\n",
       "      <td>7.328541e+07</td>\n",
       "      <td>Фонд кино</td>\n",
       "      <td>4.8</td>\n",
       "      <td>комедия</td>\n",
       "      <td>5.045195e+07</td>\n",
       "    </tr>\n",
       "    <tr>\n",
       "      <th>5673</th>\n",
       "      <td>Селфи</td>\n",
       "      <td>111012117</td>\n",
       "      <td>2018-02-01 12:00:00+00:00</td>\n",
       "      <td>Художественный</td>\n",
       "      <td>ООО \"Киностудия \"Слово\", ООО \"Арт Пикчерс Студия\"</td>\n",
       "      <td>Россия</td>\n",
       "      <td>Н.Хомерики</td>\n",
       "      <td>П.Ануров, Ф.Бондарчук, Д.Рудовский</td>\n",
       "      <td>«16+» - для детей старше 16 лет</td>\n",
       "      <td>20000000.0</td>\n",
       "      <td>40000000.0</td>\n",
       "      <td>9.771388e+07</td>\n",
       "      <td>Фонд кино</td>\n",
       "      <td>5.8</td>\n",
       "      <td>триллер,драма</td>\n",
       "      <td>2.251964e+08</td>\n",
       "    </tr>\n",
       "    <tr>\n",
       "      <th>5806</th>\n",
       "      <td>Два хвоста</td>\n",
       "      <td>114001018</td>\n",
       "      <td>2018-05-31 12:00:00+00:00</td>\n",
       "      <td>Анимационный</td>\n",
       "      <td>ООО \"ЛИЦЕНЗИОННЫЕ БРЕНДЫ\"</td>\n",
       "      <td>Россия</td>\n",
       "      <td>В.Ровенский, Н.Лопато, В.Азеев</td>\n",
       "      <td>ООО \"ЛИЦЕНЗИОННЫЕ БРЕНДЫ\"</td>\n",
       "      <td>«6+» - для детей старше 6 лет</td>\n",
       "      <td>10000000.0</td>\n",
       "      <td>60000000.0</td>\n",
       "      <td>1.139995e+08</td>\n",
       "      <td>Фонд кино</td>\n",
       "      <td>5.0</td>\n",
       "      <td>мультфильм,детский</td>\n",
       "      <td>1.065143e+08</td>\n",
       "    </tr>\n",
       "    <tr>\n",
       "      <th>6008</th>\n",
       "      <td>Принцесса и дракон</td>\n",
       "      <td>114003018</td>\n",
       "      <td>2018-08-23 12:00:00+00:00</td>\n",
       "      <td>Анимационный</td>\n",
       "      <td>ООО \"ЛИЦЕНЗИОННЫЕ БРЕНДЫ\"</td>\n",
       "      <td>Россия</td>\n",
       "      <td>М.Нефедова</td>\n",
       "      <td>ООО \"ЛИЦЕНЗИОННЫЕ БРЕНДЫ\"</td>\n",
       "      <td>«6+» - для детей старше 6 лет</td>\n",
       "      <td>40000000.0</td>\n",
       "      <td>40000000.0</td>\n",
       "      <td>1.302852e+08</td>\n",
       "      <td>Фонд кино</td>\n",
       "      <td>5.2</td>\n",
       "      <td>мультфильм,фэнтези,детский</td>\n",
       "      <td>8.336633e+07</td>\n",
       "    </tr>\n",
       "    <tr>\n",
       "      <th>6323</th>\n",
       "      <td>Баба Яга</td>\n",
       "      <td>114006518</td>\n",
       "      <td>2018-11-08 12:00:00+00:00</td>\n",
       "      <td>Анимационный</td>\n",
       "      <td>ООО \"Арт Пикчерс Студия\"</td>\n",
       "      <td>Россия</td>\n",
       "      <td>В.Саков</td>\n",
       "      <td>ООО \"Арт Пикчерс Студия\", ООО \"КРИЭЙТИВ АНИМЭЙ...</td>\n",
       "      <td>«6+» - для детей старше 6 лет</td>\n",
       "      <td>0.0</td>\n",
       "      <td>138969465.0</td>\n",
       "      <td>2.263208e+08</td>\n",
       "      <td>Фонд кино</td>\n",
       "      <td>NaN</td>\n",
       "      <td>Жанр неизвестен</td>\n",
       "      <td>1.334699e+06</td>\n",
       "    </tr>\n",
       "    <tr>\n",
       "      <th>6823</th>\n",
       "      <td>Большое путешествие</td>\n",
       "      <td>114002419</td>\n",
       "      <td>2019-04-20 12:00:00+00:00</td>\n",
       "      <td>Анимационный</td>\n",
       "      <td>ООО \"ЛИЦЕНЗИОННЫЕ БРЕНДЫ\"</td>\n",
       "      <td>Россия</td>\n",
       "      <td>Н.Лопато, В.Ровенский</td>\n",
       "      <td>ООО \"ЛИЦЕНЗИОННЫЕ БРЕНДЫ\"</td>\n",
       "      <td>«6+» - для детей старше 6 лет</td>\n",
       "      <td>60000000.0</td>\n",
       "      <td>120000000.0</td>\n",
       "      <td>2.931416e+08</td>\n",
       "      <td>Фонд кино</td>\n",
       "      <td>6.2</td>\n",
       "      <td>мультфильм,комедия,приключения</td>\n",
       "      <td>1.476068e+08</td>\n",
       "    </tr>\n",
       "  </tbody>\n",
       "</table>\n",
       "</div>"
      ],
      "text/plain": [
       "                       title   puNumber           show_start_date  \\\n",
       "2053                     14+  111023614 2014-12-19 12:00:00+00:00   \n",
       "2058               Дуxless 2  111000415 2015-01-26 12:00:00+00:00   \n",
       "2472             Воин (2015)  111017315 2015-09-28 12:00:00+00:00   \n",
       "2532                 Бармен.  111009615 2015-05-26 12:00:00+00:00   \n",
       "2615     Савва. Сердце воина  114001715 2015-07-21 12:00:00+00:00   \n",
       "2684          Тряпичный союз  111010215 2015-06-08 12:00:00+00:00   \n",
       "2788      Срочно выйду замуж  111017115 2015-09-30 12:00:00+00:00   \n",
       "2874       Помню - не помню!  111004916 2016-03-01 12:00:00+00:00   \n",
       "3047  Любовь с ограничениями  111008216 2016-04-29 12:00:00+00:00   \n",
       "3565       Притяжение (2016)  111018116 2016-12-16 12:00:00+00:00   \n",
       "3675                Чудо-юдо  114001817 2017-06-27 12:00:00+00:00   \n",
       "3739                    Мифы  111004317 2017-06-07 12:00:00+00:00   \n",
       "5673                   Селфи  111012117 2018-02-01 12:00:00+00:00   \n",
       "5806              Два хвоста  114001018 2018-05-31 12:00:00+00:00   \n",
       "6008      Принцесса и дракон  114003018 2018-08-23 12:00:00+00:00   \n",
       "6323                Баба Яга  114006518 2018-11-08 12:00:00+00:00   \n",
       "6823     Большое путешествие  114002419 2019-04-20 12:00:00+00:00   \n",
       "\n",
       "                type                                        film_studio  \\\n",
       "2053  Художественный                         ООО Киностудия  \"Сентябрь\"   \n",
       "2058  Художественный  ООО \"Киностудия \"Слово\", ООО \"Арт Пикчерс Студия\"   \n",
       "2472  Художественный   ООО \"Форпост Продакшн\", ООО \"Арт Пикчерс Студия\"   \n",
       "2532  Художественный          АО \"ВайТ Медиа\", ООО \"Арт Пикчерс Студия\"   \n",
       "2615    Анимационный   ООО \"Глюкоза Продакшн\", ООО \"Арт Пикчерс Студия\"   \n",
       "2684  Художественный                      ООО \"Кинокомпания \"КОКТЕБЕЛЬ\"   \n",
       "2788  Художественный          АО \"ВайТ Медиа\", ООО \"Арт Пикчерс Студия\"   \n",
       "2874  Художественный                                    ООО \"КиноФирма\"   \n",
       "3047  Художественный          АО \"ВайТ Медиа\", ООО \"Арт Пикчерс Студия\"   \n",
       "3565  Художественный      ООО \"Водород 2011\",  ООО \"Арт Пикчерс Студия\"   \n",
       "3675    Анимационный                                    ООО \"КиноФирма\"   \n",
       "3739  Художественный           ООО \"ХАЙПФИЛМ\", ООО \"Арт Пикчерс Студия\"   \n",
       "5673  Художественный  ООО \"Киностудия \"Слово\", ООО \"Арт Пикчерс Студия\"   \n",
       "5806    Анимационный                          ООО \"ЛИЦЕНЗИОННЫЕ БРЕНДЫ\"   \n",
       "6008    Анимационный                          ООО \"ЛИЦЕНЗИОННЫЕ БРЕНДЫ\"   \n",
       "6323    Анимационный                           ООО \"Арт Пикчерс Студия\"   \n",
       "6823    Анимационный                          ООО \"ЛИЦЕНЗИОННЫЕ БРЕНДЫ\"   \n",
       "\n",
       "     production_country                        director  \\\n",
       "2053             Россия                        А.Зайцев   \n",
       "2058             Россия                      Р.Прыгунов   \n",
       "2472             Россия                     А.Андрианов   \n",
       "2532             Россия                    Д.Штурманова   \n",
       "2615             Россия                        М.Фадеев   \n",
       "2684             Россия                     М.Местецкий   \n",
       "2788             Россия                       С Чекалов   \n",
       "2874             Россия                     В.Ровенский   \n",
       "3047             Россия                         Д.Тюрин   \n",
       "3565             Россия                     Ф.Бондарчук   \n",
       "3675             Россия                       А.Лукичев   \n",
       "3739             Россия                    А.Молочников   \n",
       "5673             Россия                      Н.Хомерики   \n",
       "5806             Россия  В.Ровенский, Н.Лопато, В.Азеев   \n",
       "6008             Россия                      М.Нефедова   \n",
       "6323             Россия                         В.Саков   \n",
       "6823             Россия           Н.Лопато, В.Ровенский   \n",
       "\n",
       "                                               producer  \\\n",
       "2053                                О.Гранина, А.Зайцев   \n",
       "2058                 П.Ануров, Ф.Бондарчук, Д.Рудовский   \n",
       "2472                           ООО \"Арт Пикчерс Студия\"   \n",
       "2532                                        Т.Вайнштейн   \n",
       "2615                                         А.Чистяков   \n",
       "2684                              Р.Борисевич, А.Кушаев   \n",
       "2788              Ф.Бондарчук, Т.Вайнштейн, Д.Рудовский   \n",
       "2874                                    ООО \"КиноФирма\"   \n",
       "3047              Ф.Бондарчук, Т.Вайнштейн, Д.Рудовский   \n",
       "3565                           ООО \"Арт Пикчерс Студия\"   \n",
       "3675                                    ООО \"КиноФирма\"   \n",
       "3739  Ф.Бондарчук, Д.Рудовский, И.Стюарт, М.Османн, ...   \n",
       "5673                 П.Ануров, Ф.Бондарчук, Д.Рудовский   \n",
       "5806                          ООО \"ЛИЦЕНЗИОННЫЕ БРЕНДЫ\"   \n",
       "6008                          ООО \"ЛИЦЕНЗИОННЫЕ БРЕНДЫ\"   \n",
       "6323  ООО \"Арт Пикчерс Студия\", ООО \"КРИЭЙТИВ АНИМЭЙ...   \n",
       "6823                          ООО \"ЛИЦЕНЗИОННЫЕ БРЕНДЫ\"   \n",
       "\n",
       "                      age_restriction  refundable_support  \\\n",
       "2053  «16+» - для детей старше 16 лет                 0.0   \n",
       "2058  «16+» - для детей старше 16 лет                 0.0   \n",
       "2472  «12+» - для детей старше 12 лет          10000000.0   \n",
       "2532  «16+» - для детей старше 16 лет          20000000.0   \n",
       "2615    «6+» - для детей старше 6 лет          60000000.0   \n",
       "2684      «18+» - запрещено для детей                 0.0   \n",
       "2788  «16+» - для детей старше 16 лет                 0.0   \n",
       "2874  «12+» - для детей старше 12 лет                 0.0   \n",
       "3047  «16+» - для детей старше 16 лет          19000000.0   \n",
       "3565  «12+» - для детей старше 12 лет                 0.0   \n",
       "3675    «6+» - для детей старше 6 лет          20000000.0   \n",
       "3739  «16+» - для детей старше 16 лет          25000000.0   \n",
       "5673  «16+» - для детей старше 16 лет          20000000.0   \n",
       "5806    «6+» - для детей старше 6 лет          10000000.0   \n",
       "6008    «6+» - для детей старше 6 лет          40000000.0   \n",
       "6323    «6+» - для детей старше 6 лет                 0.0   \n",
       "6823    «6+» - для детей старше 6 лет          60000000.0   \n",
       "\n",
       "      nonrefundable_support        budget                  financing_source  \\\n",
       "2053             23000000.0  3.745699e+07  Министерство культуры, Фонд кино   \n",
       "2058             75000000.0  1.221424e+08                         Фонд кино   \n",
       "2472             70000000.0  1.302852e+08                         Фонд кино   \n",
       "2532                    0.0  3.257129e+07                         Фонд кино   \n",
       "2615            100000000.0  2.605704e+08                         Фонд кино   \n",
       "2684             59000000.0  9.608532e+07                         Фонд кино   \n",
       "2788             35000000.0  5.699976e+07                         Фонд кино   \n",
       "2874              6000000.0  9.771388e+06             Министерство культуры   \n",
       "3047             51000000.0  1.139995e+08                         Фонд кино   \n",
       "3565            250000000.0  4.071412e+08                         Фонд кино   \n",
       "3675             20000000.0  6.514259e+07                         Фонд кино   \n",
       "3739             20000000.0  7.328541e+07                         Фонд кино   \n",
       "5673             40000000.0  9.771388e+07                         Фонд кино   \n",
       "5806             60000000.0  1.139995e+08                         Фонд кино   \n",
       "6008             40000000.0  1.302852e+08                         Фонд кино   \n",
       "6323            138969465.0  2.263208e+08                         Фонд кино   \n",
       "6823            120000000.0  2.931416e+08                         Фонд кино   \n",
       "\n",
       "      ratings                          genres    box_office  \n",
       "2053      6.6                       мелодрама  1.023402e+07  \n",
       "2058      6.6                           драма  4.461635e+08  \n",
       "2472      7.8           боевик,драма,криминал  1.965724e+08  \n",
       "2532      6.2                 комедия,фэнтези  6.741897e+07  \n",
       "2615      4.6  мультфильм,приключения,фэнтези  1.844876e+08  \n",
       "2684      6.3                   комедия,драма  1.957739e+06  \n",
       "2788      5.1               комедия,мелодрама  7.293778e+07  \n",
       "2874      4.3                         комедия  1.536293e+07  \n",
       "3047      6.3               комедия,мелодрама  7.029905e+07  \n",
       "3565      5.6                      фантастика  1.038321e+09  \n",
       "3675      5.2     мультфильм,фэнтези,семейный  5.510801e+07  \n",
       "3739      4.8                         комедия  5.045195e+07  \n",
       "5673      5.8                   триллер,драма  2.251964e+08  \n",
       "5806      5.0              мультфильм,детский  1.065143e+08  \n",
       "6008      5.2      мультфильм,фэнтези,детский  8.336633e+07  \n",
       "6323      NaN                 Жанр неизвестен  1.334699e+06  \n",
       "6823      6.2  мультфильм,комедия,приключения  1.476068e+08  "
      ]
     },
     "execution_count": 35,
     "metadata": {},
     "output_type": "execute_result"
    }
   ],
   "source": [
    "data.loc[data_low_budget.index, 'budget'] = (data.loc[data_low_budget.index, 'refundable_support'] + data.loc[data_low_budget.index, 'nonrefundable_support']) / (data_share_support/100)\n",
    "data.loc[data_low_budget.index]"
   ]
  },
  {
   "cell_type": "markdown",
   "metadata": {
    "id": "Eu6oWp2CgFyS"
   },
   "source": [
    "#### Шаг 2.6. Добавьте новые столбцы\n",
    "\n",
    "\n",
    "\n"
   ]
  },
  {
   "cell_type": "markdown",
   "metadata": {
    "id": "7GgW-UpAgFyS"
   },
   "source": [
    "- Создайте столбец с информацией о годе проката. Выделите год из даты премьеры фильма."
   ]
  },
  {
   "cell_type": "code",
   "execution_count": 36,
   "metadata": {
    "id": "I-yd1DkWgFyT"
   },
   "outputs": [],
   "source": [
    "data['year'] = data['show_start_date'].dt.year"
   ]
  },
  {
   "cell_type": "markdown",
   "metadata": {
    "id": "nFTDLDYOgFyT"
   },
   "source": [
    "- Создайте два столбца: с именем и фамилией главного режиссёра и основным жанром фильма. В столбцы войдут первые значения из списка режиссёров и жанров соответственно.\n",
    "\n",
    "<div id=\"accordion\">\n",
    "    <div class=\"card\">\n",
    "        <div class=\"card-header\" id=\"headingThree\">\n",
    "            <button class=\"btn btn-link collapsed\" data-toggle=\"collapse\" data-target=\"#collapseHint_2\" aria-expanded=\"false\" aria-controls=\"collapseHint_2\">Подсказка</button>\n",
    "        </div>\n",
    "        <div id=\"collapseHint_2\" class=\"collapse\" aria-labelledby=\"headingThree\" data-parent=\"#accordion\">\n",
    "            <div class=\"card-body\">\n",
    "Чтобы создать такие столбцы, лучше всего использовать собственную функцию. Эту функцию можно применить к двум столбцам сразу. \n",
    "            </div>\n",
    "        </div>\n",
    "    </div>\n",
    "</div>"
   ]
  },
  {
   "cell_type": "code",
   "execution_count": 37,
   "metadata": {
    "id": "LSbRZKbMgFyU"
   },
   "outputs": [],
   "source": [
    "def get_first(data, columns):\n",
    "    for column in columns:\n",
    "        data[f'main_{column}'] = data[column].str.split(',').str[0]\n",
    "    return data"
   ]
  },
  {
   "cell_type": "code",
   "execution_count": 38,
   "metadata": {},
   "outputs": [],
   "source": [
    "data = get_first(data, ['genres', 'director'])"
   ]
  },
  {
   "cell_type": "code",
   "execution_count": 39,
   "metadata": {},
   "outputs": [
    {
     "data": {
      "text/plain": [
       "драма              1688\n",
       "Жанр неизвестен     976\n",
       "комедия             697\n",
       "боевик              617\n",
       "ужасы               573\n",
       "Name: main_genres, dtype: int64"
      ]
     },
     "execution_count": 39,
     "metadata": {},
     "output_type": "execute_result"
    }
   ],
   "source": [
    "data['main_genres'].value_counts().head()"
   ]
  },
  {
   "cell_type": "markdown",
   "metadata": {
    "id": "1FsCXHwdgFyU"
   },
   "source": [
    "- Посчитайте, какую долю от общего бюджета фильма составляет государственная поддержка.\n"
   ]
  },
  {
   "cell_type": "code",
   "execution_count": 40,
   "metadata": {
    "id": "LV6qFuZLgFyV"
   },
   "outputs": [
    {
     "name": "stdout",
     "output_type": "stream",
     "text": [
      "Доля государственного бюджета фильма составляет: 61 %\n"
     ]
    }
   ],
   "source": [
    "print('Доля государственного бюджета фильма составляет:'\n",
    "      , round(((data['refundable_support'] + \n",
    "                data['nonrefundable_support']) / data['budget']).median()*100), '%')"
   ]
  },
  {
   "cell_type": "markdown",
   "metadata": {},
   "source": [
    "<span style=\"color:blue\">***Наиболее популярные основные жанры оказались:***\n",
    "- драма 1688 фильмов\n",
    "- комедия 697 фильмов\n",
    "- боевик 617 фильмов\n",
    "- ужасы 573 фильмов </span>\n",
    "<span style=\"color:blue\">***Доля государственного бюджета фильма составляет: 61 %. На мой взгляд это крайне много, так как это способствует демотивации ряда режисеров к съемке качественного кино.***</span>\n"
   ]
  },
  {
   "cell_type": "markdown",
   "metadata": {
    "id": "6t4EukPLgFyV"
   },
   "source": [
    "### Шаг 3. Проведите исследовательский анализ данных\n"
   ]
  },
  {
   "cell_type": "markdown",
   "metadata": {
    "id": "vAH8WCzugFyV"
   },
   "source": [
    "- Посмотрите, сколько фильмов выходило в прокат каждый год. Обратите внимание, что данные о прокате в кинотеатрах известны не для всех фильмов. Посчитайте, какую долю составляют фильмы с указанной информацией о прокате в кинотеатрах. Проанализируйте, как эта доля менялась по годам. Сделайте вывод о том, какой период полнее всего представлен в данных."
   ]
  },
  {
   "cell_type": "code",
   "execution_count": 41,
   "metadata": {
    "id": "ABeV47y7gFyW"
   },
   "outputs": [
    {
     "data": {
      "text/html": [
       "<div>\n",
       "<style scoped>\n",
       "    .dataframe tbody tr th:only-of-type {\n",
       "        vertical-align: middle;\n",
       "    }\n",
       "\n",
       "    .dataframe tbody tr th {\n",
       "        vertical-align: top;\n",
       "    }\n",
       "\n",
       "    .dataframe thead th {\n",
       "        text-align: right;\n",
       "    }\n",
       "</style>\n",
       "<table border=\"1\" class=\"dataframe\">\n",
       "  <thead>\n",
       "    <tr style=\"text-align: right;\">\n",
       "      <th></th>\n",
       "      <th>В прокате</th>\n",
       "      <th>Фильмов в год</th>\n",
       "      <th>Процент проката</th>\n",
       "    </tr>\n",
       "    <tr>\n",
       "      <th>year</th>\n",
       "      <th></th>\n",
       "      <th></th>\n",
       "      <th></th>\n",
       "    </tr>\n",
       "  </thead>\n",
       "  <tbody>\n",
       "    <tr>\n",
       "      <th>2010</th>\n",
       "      <td>101</td>\n",
       "      <td>985</td>\n",
       "      <td>10.253807</td>\n",
       "    </tr>\n",
       "    <tr>\n",
       "      <th>2011</th>\n",
       "      <td>109</td>\n",
       "      <td>622</td>\n",
       "      <td>17.524116</td>\n",
       "    </tr>\n",
       "    <tr>\n",
       "      <th>2012</th>\n",
       "      <td>123</td>\n",
       "      <td>593</td>\n",
       "      <td>20.741990</td>\n",
       "    </tr>\n",
       "    <tr>\n",
       "      <th>2013</th>\n",
       "      <td>179</td>\n",
       "      <td>630</td>\n",
       "      <td>28.412698</td>\n",
       "    </tr>\n",
       "    <tr>\n",
       "      <th>2014</th>\n",
       "      <td>273</td>\n",
       "      <td>807</td>\n",
       "      <td>33.828996</td>\n",
       "    </tr>\n",
       "    <tr>\n",
       "      <th>2015</th>\n",
       "      <td>462</td>\n",
       "      <td>705</td>\n",
       "      <td>65.531915</td>\n",
       "    </tr>\n",
       "    <tr>\n",
       "      <th>2016</th>\n",
       "      <td>525</td>\n",
       "      <td>818</td>\n",
       "      <td>64.180929</td>\n",
       "    </tr>\n",
       "    <tr>\n",
       "      <th>2017</th>\n",
       "      <td>357</td>\n",
       "      <td>505</td>\n",
       "      <td>70.693069</td>\n",
       "    </tr>\n",
       "    <tr>\n",
       "      <th>2018</th>\n",
       "      <td>475</td>\n",
       "      <td>891</td>\n",
       "      <td>53.310887</td>\n",
       "    </tr>\n",
       "    <tr>\n",
       "      <th>2019</th>\n",
       "      <td>530</td>\n",
       "      <td>930</td>\n",
       "      <td>56.989247</td>\n",
       "    </tr>\n",
       "  </tbody>\n",
       "</table>\n",
       "</div>"
      ],
      "text/plain": [
       "      В прокате  Фильмов в год  Процент проката\n",
       "year                                           \n",
       "2010        101            985        10.253807\n",
       "2011        109            622        17.524116\n",
       "2012        123            593        20.741990\n",
       "2013        179            630        28.412698\n",
       "2014        273            807        33.828996\n",
       "2015        462            705        65.531915\n",
       "2016        525            818        64.180929\n",
       "2017        357            505        70.693069\n",
       "2018        475            891        53.310887\n",
       "2019        530            930        56.989247"
      ]
     },
     "metadata": {},
     "output_type": "display_data"
    }
   ],
   "source": [
    "data_pivot = data.query('box_office > 0').pivot_table(index='year', values='box_office', \n",
    "                        aggfunc=['count', 'sum', 'mean', 'median'])\n",
    "data_pivot = data_pivot.set_axis(['В прокате', 'Сумма', 'Среднее', 'Медиана'], axis='columns')\n",
    "data_pivot['Фильмов в год'] = data.pivot_table(index='year', \n",
    "                                               values='box_office', aggfunc='count')['box_office']\n",
    "data_pivot['Процент проката'] = data_pivot['В прокате'] / data_pivot['Фильмов в год']  * 100\n",
    "display(data_pivot.loc[:, ['В прокате', 'Фильмов в год', 'Процент проката']])"
   ]
  },
  {
   "cell_type": "code",
   "execution_count": 42,
   "metadata": {},
   "outputs": [
    {
     "data": {
      "image/png": "[encoded data removed]",
      "text/plain": [
       "<Figure size 1440x720 with 1 Axes>"
      ]
     },
     "metadata": {
      "needs_background": "light"
     },
     "output_type": "display_data"
    }
   ],
   "source": [
    "data_pivot.plot(kind='bar', y='В прокате', figsize=(20, 10), grid=True, alpha=1);"
   ]
  },
  {
   "cell_type": "markdown",
   "metadata": {},
   "source": [
    "<span style=\"color:blue\">***Ну чтож, количество фильмов в прокате в целом растет, однако после 2016 года произошел спад, однако после 17 года снова пошел планомерный рост. В 2019 году количество фильмов в прокате вернулось к значению 2016 года.***</span>"
   ]
  },
  {
   "cell_type": "code",
   "execution_count": 43,
   "metadata": {},
   "outputs": [
    {
     "name": "stdout",
     "output_type": "stream",
     "text": [
      "Доля фильмов с информацией о прокате в кинотеатре составляет : 41.86 %\n"
     ]
    }
   ],
   "source": [
    "print('Доля фильмов с информацией о прокате в кинотеатре составляет :',\n",
    "        round(data.query('box_office > 0')['box_office'].notna().count() / data['box_office'].count() * 100, 2),'%')"
   ]
  },
  {
   "cell_type": "markdown",
   "metadata": {
    "id": "BEOdcIrIgFyW"
   },
   "source": [
    "- Изучите, как менялась динамика проката по годам. В каком году сумма сборов была минимальной? А максимальной?"
   ]
  },
  {
   "cell_type": "code",
   "execution_count": 44,
   "metadata": {
    "id": "tfEhofYvgFyX"
   },
   "outputs": [
    {
     "data": {
      "image/png": "[encoded data removed]",
      "text/plain": [
       "<Figure size 720x360 with 1 Axes>"
      ]
     },
     "metadata": {
      "needs_background": "light"
     },
     "output_type": "display_data"
    }
   ],
   "source": [
    "data_pivot.plot(kind='line', y='Сумма', figsize=(10, 5), grid=True, color='blue', alpha=0.6);"
   ]
  },
  {
   "cell_type": "code",
   "execution_count": 45,
   "metadata": {},
   "outputs": [
    {
     "name": "stdout",
     "output_type": "stream",
     "text": [
      "Максимальная сумма сборов была в: 2018 году и составляет 49.67 миллиардов рублей\n",
      "Минимальная сумма сборов была в: 2010 году и составляет 2428654.0 рублей\n"
     ]
    }
   ],
   "source": [
    "print('Максимальная сумма сборов была в:',data_pivot['Сумма'].idxmax(),\"году\", \"и составляет\",\n",
    "      round(data_pivot['Сумма'].max()/1000000000, 2),\"миллиардов рублей\")\n",
    "print('Минимальная сумма сборов была в:',data_pivot['Сумма'].idxmin(),\"году\",\n",
    "      \"и составляет\", round(data_pivot['Сумма'].min(), 2),\"рублей\")\n"
   ]
  },
  {
   "cell_type": "markdown",
   "metadata": {},
   "source": [
    "<span style=\"color:blue\">***Мы видим планомерный рост выручки за прокат, в 2019 показано небольшое падение, однако делать вывод о 2019 годе некорректно, в связи с тем, что вероятно не все данные по сборам, так как есть недавно вышедшие на экран фильмы.***</span>"
   ]
  },
  {
   "cell_type": "markdown",
   "metadata": {
    "id": "G-7qS-N-gFyY"
   },
   "source": [
    "- С помощью сводной таблицы посчитайте среднюю и медианную сумму сборов для каждого года."
   ]
  },
  {
   "cell_type": "code",
   "execution_count": 46,
   "metadata": {},
   "outputs": [
    {
     "data": {
      "text/html": [
       "<div>\n",
       "<style scoped>\n",
       "    .dataframe tbody tr th:only-of-type {\n",
       "        vertical-align: middle;\n",
       "    }\n",
       "\n",
       "    .dataframe tbody tr th {\n",
       "        vertical-align: top;\n",
       "    }\n",
       "\n",
       "    .dataframe thead th {\n",
       "        text-align: right;\n",
       "    }\n",
       "</style>\n",
       "<table border=\"1\" class=\"dataframe\">\n",
       "  <thead>\n",
       "    <tr style=\"text-align: right;\">\n",
       "      <th></th>\n",
       "      <th>Среднее</th>\n",
       "      <th>Медиана</th>\n",
       "    </tr>\n",
       "    <tr>\n",
       "      <th>year</th>\n",
       "      <th></th>\n",
       "      <th></th>\n",
       "    </tr>\n",
       "  </thead>\n",
       "  <tbody>\n",
       "    <tr>\n",
       "      <th>2010</th>\n",
       "      <td>2.404608e+04</td>\n",
       "      <td>1710.000</td>\n",
       "    </tr>\n",
       "    <tr>\n",
       "      <th>2011</th>\n",
       "      <td>1.293832e+05</td>\n",
       "      <td>3000.000</td>\n",
       "    </tr>\n",
       "    <tr>\n",
       "      <th>2012</th>\n",
       "      <td>5.654815e+04</td>\n",
       "      <td>6220.000</td>\n",
       "    </tr>\n",
       "    <tr>\n",
       "      <th>2013</th>\n",
       "      <td>1.664788e+05</td>\n",
       "      <td>3580.000</td>\n",
       "    </tr>\n",
       "    <tr>\n",
       "      <th>2014</th>\n",
       "      <td>2.727089e+07</td>\n",
       "      <td>20400.000</td>\n",
       "    </tr>\n",
       "    <tr>\n",
       "      <th>2015</th>\n",
       "      <td>8.549213e+07</td>\n",
       "      <td>5003450.150</td>\n",
       "    </tr>\n",
       "    <tr>\n",
       "      <th>2016</th>\n",
       "      <td>9.117390e+07</td>\n",
       "      <td>3915041.020</td>\n",
       "    </tr>\n",
       "    <tr>\n",
       "      <th>2017</th>\n",
       "      <td>1.360328e+08</td>\n",
       "      <td>9968340.000</td>\n",
       "    </tr>\n",
       "    <tr>\n",
       "      <th>2018</th>\n",
       "      <td>1.045651e+08</td>\n",
       "      <td>8891102.210</td>\n",
       "    </tr>\n",
       "    <tr>\n",
       "      <th>2019</th>\n",
       "      <td>9.136926e+07</td>\n",
       "      <td>4627798.345</td>\n",
       "    </tr>\n",
       "  </tbody>\n",
       "</table>\n",
       "</div>"
      ],
      "text/plain": [
       "           Среднее      Медиана\n",
       "year                           \n",
       "2010  2.404608e+04     1710.000\n",
       "2011  1.293832e+05     3000.000\n",
       "2012  5.654815e+04     6220.000\n",
       "2013  1.664788e+05     3580.000\n",
       "2014  2.727089e+07    20400.000\n",
       "2015  8.549213e+07  5003450.150\n",
       "2016  9.117390e+07  3915041.020\n",
       "2017  1.360328e+08  9968340.000\n",
       "2018  1.045651e+08  8891102.210\n",
       "2019  9.136926e+07  4627798.345"
      ]
     },
     "execution_count": 46,
     "metadata": {},
     "output_type": "execute_result"
    }
   ],
   "source": [
    "data_pivot.loc[:, ['Среднее', 'Медиана']]"
   ]
  },
  {
   "cell_type": "code",
   "execution_count": 47,
   "metadata": {},
   "outputs": [
    {
     "data": {
      "text/plain": [
       "<AxesSubplot:title={'center':'График Среднее и Медиана'}, xlabel='year'>"
      ]
     },
     "execution_count": 47,
     "metadata": {},
     "output_type": "execute_result"
    },
    {
     "data": {
      "image/png": "[encoded data removed]",
      "text/plain": [
       "<Figure size 432x288 with 1 Axes>"
      ]
     },
     "metadata": {
      "needs_background": "light"
     },
     "output_type": "display_data"
    }
   ],
   "source": [
    "data_pivot[['Среднее', 'Медиана']].plot(kind='bar', title='График Среднее и Медиана')"
   ]
  },
  {
   "cell_type": "markdown",
   "metadata": {},
   "source": [
    "<span style=\"color:blue\">***Медианное и среднее значения растут до 2017 года, а затем происходит планомерное падение, видимо это связано со снижением количества выхода фильмов в прокат, которое происходило с 2016***</span>"
   ]
  },
  {
   "cell_type": "markdown",
   "metadata": {
    "id": "Ok89WFwJgFyZ"
   },
   "source": [
    "- Определите, влияет ли возрастное ограничение аудитории («6+», «12+», «16+», «18+» и т. д.) на сборы фильма в прокате в период с 2015 по 2019 год? Фильмы с каким возрастным ограничением собрали больше всего денег в прокате? Меняется ли картина в зависимости от года? Если да, предположите, с чем это может быть связано."
   ]
  },
  {
   "cell_type": "code",
   "execution_count": 48,
   "metadata": {
    "id": "jsSbEqfjgFya"
   },
   "outputs": [
    {
     "data": {
      "image/png": "[encoded data removed]",
      "text/plain": [
       "<Figure size 1008x504 with 1 Axes>"
      ]
     },
     "metadata": {
      "needs_background": "light"
     },
     "output_type": "display_data"
    }
   ],
   "source": [
    "data[data['box_office'].notna()].pivot_table(index='year',\n",
    "                columns='age_restriction',\n",
    "                values='box_office',\n",
    "                aggfunc='sum').plot(title='сумма сборов по годам с разбивкой по возрастным категориям',\n",
    "                                    kind='line',figsize=(14, 7), grid = True, xlim=[2015, 2019]);\n"
   ]
  },
  {
   "cell_type": "code",
   "execution_count": 49,
   "metadata": {},
   "outputs": [
    {
     "name": "stdout",
     "output_type": "stream",
     "text": [
      "Возрастное ограничение с наибольшими сборами:  «16+» - для детей старше 16 лет\n",
      "Суммарные сборы по этому возрастному ограничению: 76583674041  рублей\n",
      "Возрастное ограничение с наименьшими сборами:  «0+» - для любой зрительской аудитории\n",
      "Суммарные сборы по этому возрастному ограничению: 1205003952  рублей\n"
     ]
    }
   ],
   "source": [
    "revenue_by_year_rating = data.groupby(['year', 'age_restriction'])['box_office'].sum().unstack()\n",
    "max_revenue_rating = revenue_by_year_rating.sum().idxmax()\n",
    "min_revenue_rating = revenue_by_year_rating.sum().idxmin()\n",
    "max_revenue_amount = round(revenue_by_year_rating.sum().max())\n",
    "min_revenue_amount = round(revenue_by_year_rating.sum().min())\n",
    "print(\"Возрастное ограничение с наибольшими сборами: \", max_revenue_rating)\n",
    "print(f\"Суммарные сборы по этому возрастному ограничению: {max_revenue_amount}\", ' рублей')\n",
    "print(\"Возрастное ограничение с наименьшими сборами: \", min_revenue_rating)\n",
    "print(f\"Суммарные сборы по этому возрастному ограничению: {min_revenue_amount}\", ' рублей')"
   ]
  },
  {
   "cell_type": "markdown",
   "metadata": {
    "id": "l_Kg6Ku4gFya"
   },
   "source": [
    "### Шаг 4. Исследуйте фильмы, которые получили государственную поддержку\n",
    "\n",
    "На этом этапе нет конкретных инструкций и заданий — поищите интересные закономерности в данных. Посмотрите, сколько выделяют средств на поддержку кино. Проверьте, хорошо ли окупаются такие фильмы, какой у них рейтинг."
   ]
  },
  {
   "cell_type": "code",
   "execution_count": 50,
   "metadata": {},
   "outputs": [],
   "source": [
    "data['government_support'] = (data['refundable_support'] + data['nonrefundable_support'])"
   ]
  },
  {
   "cell_type": "code",
   "execution_count": 51,
   "metadata": {
    "id": "W9QKpjUdgFyb"
   },
   "outputs": [
    {
     "name": "stdout",
     "output_type": "stream",
     "text": [
      "Общие средства на поддержку кино:  44.51 миллиардов рублей\n"
     ]
    }
   ],
   "source": [
    "total_support_budget = data[data['government_support'].notna()]['budget']\n",
    "print(\"Общие средства на поддержку кино: \", round(total_support_budget.sum() / 1000000000, 2), \"миллиардов рублей\")\n"
   ]
  },
  {
   "cell_type": "code",
   "execution_count": 52,
   "metadata": {},
   "outputs": [
    {
     "name": "stdout",
     "output_type": "stream",
     "text": [
      "Фильм с наилучшей окупаемостью:  Любовь и голуби\n",
      "Фильм с худшей окупаемостью:  Золотая рыбка (2015)\n"
     ]
    }
   ],
   "source": [
    "data['ROI'] = (data['box_office'] - data['budget']) / data['budget']\n",
    "best_roi_film = data.loc[data['ROI'].idxmax()]\n",
    "print(\"Фильм с наилучшей окупаемостью: \", best_roi_film['title'])\n",
    "worst_roi_film = data.loc[data['ROI'].idxmin()]\n",
    "print(\"Фильм с худшей окупаемостью: \", worst_roi_film['title'])"
   ]
  },
  {
   "cell_type": "code",
   "execution_count": 53,
   "metadata": {},
   "outputs": [
    {
     "name": "stdout",
     "output_type": "stream",
     "text": [
      "Средний рейтинг фильмов с государственной поддержкой:  6.49\n"
     ]
    }
   ],
   "source": [
    "average_rating = data[data['government_support'].notna()]['ratings'].mean()\n",
    "print(\"Средний рейтинг фильмов с государственной поддержкой: \", round(average_rating, 2))"
   ]
  },
  {
   "cell_type": "markdown",
   "metadata": {},
   "source": [
    "<span style=\"color:blue\">***Рассмотрим медиану по выделяемому бюджету на фильм***</span>"
   ]
  },
  {
   "cell_type": "code",
   "execution_count": 54,
   "metadata": {},
   "outputs": [
    {
     "name": "stdout",
     "output_type": "stream",
     "text": [
      "Медиана по выделяемому бюджету на фильм:  74592550.0 рублей\n"
     ]
    }
   ],
   "source": [
    "median_allocated_budget = data.query('budget != 0')['budget'].median()\n",
    "print('Медиана по выделяемому бюджету на фильм: ', median_allocated_budget,'рублей')"
   ]
  },
  {
   "cell_type": "code",
   "execution_count": 55,
   "metadata": {},
   "outputs": [
    {
     "name": "stdout",
     "output_type": "stream",
     "text": [
      "Корреляция составляет зависимости рейтинга фильма от господдержки:                      government_support   ratings\n",
      "government_support            1.000000 -0.040316\n",
      "ratings                      -0.040316  1.000000\n"
     ]
    },
    {
     "data": {
      "image/png": "[encoded data removed]",
      "text/plain": [
       "<Figure size 720x288 with 1 Axes>"
      ]
     },
     "metadata": {
      "needs_background": "light"
     },
     "output_type": "display_data"
    }
   ],
   "source": [
    "data.pivot_table(index = 'government_support', \n",
    "                 values = 'ratings',).plot(style = 'o-', grid = True, figsize = (10,4))\n",
    "print('Корреляция составляет зависимости рейтинга фильма от господдержки: '\n",
    "      , data.pivot_table(index = 'title', values = ['government_support', 'ratings']).corr())"
   ]
  },
  {
   "cell_type": "markdown",
   "metadata": {},
   "source": [
    "<span style=\"color:blue\">***Мы можем сделать вывод о том, что большая господдержка не гарантирует успех фильма. Корреляция доказывает, что рейтинг не зависит от суммы господдержки.***</span>"
   ]
  },
  {
   "cell_type": "markdown",
   "metadata": {},
   "source": [
    "    У нас предоставлено три варианта госфинансирования:\n",
    "    -Фонд кино\n",
    "    -Министерство культуры\n",
    "    -Фонд кино и Министерство культуры\n",
    "    Посмотрим сколько фильмов было ими снято с и без информацией о сборах.\n"
   ]
  },
  {
   "cell_type": "code",
   "execution_count": 56,
   "metadata": {},
   "outputs": [
    {
     "data": {
      "text/plain": [
       "'Фильмы снятые при поддержке Мин культа или Фонда кино без информации о сборах'"
      ]
     },
     "metadata": {},
     "output_type": "display_data"
    },
    {
     "data": {
      "text/plain": [
       "14"
      ]
     },
     "metadata": {},
     "output_type": "display_data"
    },
    {
     "data": {
      "text/plain": [
       "'Фильмы снятые при поддержке Мин культа или Фонда кино с информацией о сборах'"
      ]
     },
     "metadata": {},
     "output_type": "display_data"
    },
    {
     "data": {
      "text/plain": [
       "318"
      ]
     },
     "metadata": {},
     "output_type": "display_data"
    }
   ],
   "source": [
    "sponsors = ['Министерство культуры', 'Фонд кино', 'Министерство культуры, Фонд кино']\n",
    "supported_movies_with_data =data.query('budget != 0 and box_office == 0 and financing_source in @sponsors'\n",
    "                                      )['title'].count()\n",
    "display('Фильмы снятые при поддержке Мин культа или Фонда кино без информации о сборах', supported_movies_with_data)\n",
    "supported_movies_without_data = data.query('budget != 0 and box_office != 0 and financing_source in @sponsors'\n",
    "                                          )['title'].count()\n",
    "display('Фильмы снятые при поддержке Мин культа или Фонда кино с информацией о сборах',\n",
    "        supported_movies_without_data)"
   ]
  },
  {
   "cell_type": "markdown",
   "metadata": {},
   "source": [
    "<span style=\"color:blue\">***Последняя дата о фильмах в файле является 30 декабря 2019 года. В открытых источниках есть много информации о том, сколько фильм обычно находится в прокате. Но ту информацию, что я нашел варьируется от 2 до 10 недель. Давайте примем 6 недель, то есть 1,5 месяца. Допустим, что данные о сборах появляются спустя 1,5 месяца после выхода в прокат. Поэтому отбросим фильмы выходившие после 15 ноября.***</span>"
   ]
  },
  {
   "cell_type": "code",
   "execution_count": 57,
   "metadata": {},
   "outputs": [
    {
     "data": {
      "text/html": [
       "<div>\n",
       "<style scoped>\n",
       "    .dataframe tbody tr th:only-of-type {\n",
       "        vertical-align: middle;\n",
       "    }\n",
       "\n",
       "    .dataframe tbody tr th {\n",
       "        vertical-align: top;\n",
       "    }\n",
       "\n",
       "    .dataframe thead th {\n",
       "        text-align: right;\n",
       "    }\n",
       "</style>\n",
       "<table border=\"1\" class=\"dataframe\">\n",
       "  <thead>\n",
       "    <tr style=\"text-align: right;\">\n",
       "      <th></th>\n",
       "      <th>title</th>\n",
       "      <th>puNumber</th>\n",
       "      <th>show_start_date</th>\n",
       "      <th>type</th>\n",
       "      <th>film_studio</th>\n",
       "      <th>production_country</th>\n",
       "      <th>director</th>\n",
       "      <th>producer</th>\n",
       "      <th>age_restriction</th>\n",
       "      <th>refundable_support</th>\n",
       "      <th>...</th>\n",
       "      <th>budget</th>\n",
       "      <th>financing_source</th>\n",
       "      <th>ratings</th>\n",
       "      <th>genres</th>\n",
       "      <th>box_office</th>\n",
       "      <th>year</th>\n",
       "      <th>main_genres</th>\n",
       "      <th>main_director</th>\n",
       "      <th>government_support</th>\n",
       "      <th>ROI</th>\n",
       "    </tr>\n",
       "  </thead>\n",
       "  <tbody>\n",
       "    <tr>\n",
       "      <th>2800</th>\n",
       "      <td>Золотая рыбка (2015)</td>\n",
       "      <td>111018715</td>\n",
       "      <td>2015-10-29 12:00:00+00:00</td>\n",
       "      <td>Художественный</td>\n",
       "      <td>ООО \"Кинокомпания Дебют\"</td>\n",
       "      <td>Россия</td>\n",
       "      <td>А.Галибин</td>\n",
       "      <td>Б.Токарев</td>\n",
       "      <td>«12+» - для детей старше 12 лет</td>\n",
       "      <td>0.0</td>\n",
       "      <td>...</td>\n",
       "      <td>41998984.0</td>\n",
       "      <td>Министерство культуры</td>\n",
       "      <td>6.3</td>\n",
       "      <td>драма</td>\n",
       "      <td>0.0</td>\n",
       "      <td>2015</td>\n",
       "      <td>драма</td>\n",
       "      <td>А.Галибин</td>\n",
       "      <td>25000000.0</td>\n",
       "      <td>-1.0</td>\n",
       "    </tr>\n",
       "    <tr>\n",
       "      <th>3337</th>\n",
       "      <td>Любовь и Сакс</td>\n",
       "      <td>111001217</td>\n",
       "      <td>2017-02-16 12:00:00+00:00</td>\n",
       "      <td>Художественный</td>\n",
       "      <td>ООО \"ДжемСтудия\"</td>\n",
       "      <td>Россия</td>\n",
       "      <td>А.Сурикова</td>\n",
       "      <td>А.Голутва</td>\n",
       "      <td>«12+» - для детей старше 12 лет</td>\n",
       "      <td>0.0</td>\n",
       "      <td>...</td>\n",
       "      <td>61000000.0</td>\n",
       "      <td>Министерство культуры</td>\n",
       "      <td>5.2</td>\n",
       "      <td>мелодрама</td>\n",
       "      <td>0.0</td>\n",
       "      <td>2017</td>\n",
       "      <td>мелодрама</td>\n",
       "      <td>А.Сурикова</td>\n",
       "      <td>10000000.0</td>\n",
       "      <td>-1.0</td>\n",
       "    </tr>\n",
       "    <tr>\n",
       "      <th>3711</th>\n",
       "      <td>Колобанга. Только для пользователей Интернета ...</td>\n",
       "      <td>214010116</td>\n",
       "      <td>2016-10-06 12:00:00+00:00</td>\n",
       "      <td>Анимационный</td>\n",
       "      <td>ООО \"Колобанга\"</td>\n",
       "      <td>Россия</td>\n",
       "      <td>А.Романец</td>\n",
       "      <td>А.Ревва</td>\n",
       "      <td>«0+» - для любой зрительской аудитории</td>\n",
       "      <td>0.0</td>\n",
       "      <td>...</td>\n",
       "      <td>18706080.0</td>\n",
       "      <td>Министерство культуры</td>\n",
       "      <td>7.0</td>\n",
       "      <td>мультфильм,приключения,детектив</td>\n",
       "      <td>0.0</td>\n",
       "      <td>2016</td>\n",
       "      <td>мультфильм</td>\n",
       "      <td>А.Романец</td>\n",
       "      <td>11520000.0</td>\n",
       "      <td>-1.0</td>\n",
       "    </tr>\n",
       "    <tr>\n",
       "      <th>5661</th>\n",
       "      <td>Детский юмористический киножурнал \"ЕРАЛАШ\", вы...</td>\n",
       "      <td>111011917</td>\n",
       "      <td>2017-12-26 12:00:00+00:00</td>\n",
       "      <td>Художественный</td>\n",
       "      <td>ООО \"Продюсерский центр ЕРАЛАШ\"</td>\n",
       "      <td>Россия</td>\n",
       "      <td>Е.Соколов, В.Панжев, Г.Курлаев, С.Морозов, М.С...</td>\n",
       "      <td>ООО \"Продюсерский центр ЕРАЛАШ\"</td>\n",
       "      <td>«0+» - для любой зрительской аудитории</td>\n",
       "      <td>0.0</td>\n",
       "      <td>...</td>\n",
       "      <td>44600000.0</td>\n",
       "      <td>Министерство культуры</td>\n",
       "      <td>7.2</td>\n",
       "      <td>детский,комедия</td>\n",
       "      <td>0.0</td>\n",
       "      <td>2017</td>\n",
       "      <td>детский</td>\n",
       "      <td>Е.Соколов</td>\n",
       "      <td>25000000.0</td>\n",
       "      <td>-1.0</td>\n",
       "    </tr>\n",
       "    <tr>\n",
       "      <th>6476</th>\n",
       "      <td>Зима</td>\n",
       "      <td>111023518</td>\n",
       "      <td>2019-03-15 12:00:00+00:00</td>\n",
       "      <td>Художественный</td>\n",
       "      <td>ООО \"КиноТрест\"</td>\n",
       "      <td>Россия</td>\n",
       "      <td>С.Черников</td>\n",
       "      <td>З.Болотаев, А.Плотников, Н.Агеев, А.Горский, П...</td>\n",
       "      <td>«16+» - для детей старше 16 лет</td>\n",
       "      <td>0.0</td>\n",
       "      <td>...</td>\n",
       "      <td>39700000.0</td>\n",
       "      <td>Министерство культуры</td>\n",
       "      <td>5.2</td>\n",
       "      <td>драма,криминал</td>\n",
       "      <td>0.0</td>\n",
       "      <td>2019</td>\n",
       "      <td>драма</td>\n",
       "      <td>С.Черников</td>\n",
       "      <td>25000000.0</td>\n",
       "      <td>-1.0</td>\n",
       "    </tr>\n",
       "    <tr>\n",
       "      <th>6709</th>\n",
       "      <td>Мальчик русский</td>\n",
       "      <td>111002619</td>\n",
       "      <td>2019-02-20 12:00:00+00:00</td>\n",
       "      <td>Художественный</td>\n",
       "      <td>АО \"Ленфильм\"</td>\n",
       "      <td>Россия</td>\n",
       "      <td>А.Золотухин</td>\n",
       "      <td>Продюссер неизвестен</td>\n",
       "      <td>«12+» - для детей старше 12 лет</td>\n",
       "      <td>0.0</td>\n",
       "      <td>...</td>\n",
       "      <td>46941140.0</td>\n",
       "      <td>Министерство культуры</td>\n",
       "      <td>6.1</td>\n",
       "      <td>драма,военный,история</td>\n",
       "      <td>0.0</td>\n",
       "      <td>2019</td>\n",
       "      <td>драма</td>\n",
       "      <td>А.Золотухин</td>\n",
       "      <td>30000000.0</td>\n",
       "      <td>-1.0</td>\n",
       "    </tr>\n",
       "    <tr>\n",
       "      <th>6968</th>\n",
       "      <td>Танец с саблями</td>\n",
       "      <td>111008619</td>\n",
       "      <td>2019-05-29 12:00:00+00:00</td>\n",
       "      <td>Художественный</td>\n",
       "      <td>ООО \"Кинокомпания Флагман\" по заказу ООО \"ММЕ\"</td>\n",
       "      <td>Россия</td>\n",
       "      <td>Ю.Разыков</td>\n",
       "      <td>Р.Дишдишян, ООО \"МАРС МЕДИА ЭНТЕРТЕЙНМЕНТ\"</td>\n",
       "      <td>«16+» - для детей старше 16 лет</td>\n",
       "      <td>0.0</td>\n",
       "      <td>...</td>\n",
       "      <td>61571449.0</td>\n",
       "      <td>Министерство культуры</td>\n",
       "      <td>5.8</td>\n",
       "      <td>драма,история,биография</td>\n",
       "      <td>0.0</td>\n",
       "      <td>2019</td>\n",
       "      <td>драма</td>\n",
       "      <td>Ю.Разыков</td>\n",
       "      <td>40000000.0</td>\n",
       "      <td>-1.0</td>\n",
       "    </tr>\n",
       "    <tr>\n",
       "      <th>7009</th>\n",
       "      <td>Куратор</td>\n",
       "      <td>111010019</td>\n",
       "      <td>2019-06-13 12:00:00+00:00</td>\n",
       "      <td>Художественный</td>\n",
       "      <td>ООО \"Кинокомпания Атлантик\", 20 стэпс продакшнс</td>\n",
       "      <td>Россия, Грузия</td>\n",
       "      <td>П.Левченко</td>\n",
       "      <td>Е.Филиппова</td>\n",
       "      <td>«16+» - для детей старше 16 лет</td>\n",
       "      <td>0.0</td>\n",
       "      <td>...</td>\n",
       "      <td>60668576.0</td>\n",
       "      <td>Министерство культуры</td>\n",
       "      <td>4.9</td>\n",
       "      <td>драма,криминал,детектив</td>\n",
       "      <td>0.0</td>\n",
       "      <td>2019</td>\n",
       "      <td>драма</td>\n",
       "      <td>П.Левченко</td>\n",
       "      <td>25000000.0</td>\n",
       "      <td>-1.0</td>\n",
       "    </tr>\n",
       "    <tr>\n",
       "      <th>7180</th>\n",
       "      <td>Байкал - Сердце мира 3D</td>\n",
       "      <td>112004619</td>\n",
       "      <td>2019-11-01 12:00:00+00:00</td>\n",
       "      <td>Документальный</td>\n",
       "      <td>ООО \"Продюсерский центр \"Новое Время\"</td>\n",
       "      <td>Россия</td>\n",
       "      <td>А.Попова</td>\n",
       "      <td>И.Добровольский, А.Разуваева, Ю.Перкуль</td>\n",
       "      <td>«0+» - для любой зрительской аудитории</td>\n",
       "      <td>0.0</td>\n",
       "      <td>...</td>\n",
       "      <td>33000000.0</td>\n",
       "      <td>Министерство культуры</td>\n",
       "      <td>8.0</td>\n",
       "      <td>семейный</td>\n",
       "      <td>0.0</td>\n",
       "      <td>2019</td>\n",
       "      <td>семейный</td>\n",
       "      <td>А.Попова</td>\n",
       "      <td>3000000.0</td>\n",
       "      <td>-1.0</td>\n",
       "    </tr>\n",
       "    <tr>\n",
       "      <th>7229</th>\n",
       "      <td>На Луне</td>\n",
       "      <td>111015519</td>\n",
       "      <td>2019-11-01 12:00:00+00:00</td>\n",
       "      <td>Художественный</td>\n",
       "      <td>ООО \"Киностудия \"ВЕРТИКАЛЬ\"</td>\n",
       "      <td>Россия</td>\n",
       "      <td>Е.Михалков-Кончаловский</td>\n",
       "      <td>С.Говорухин, Е.Маскина</td>\n",
       "      <td>«16+» - для детей старше 16 лет</td>\n",
       "      <td>0.0</td>\n",
       "      <td>...</td>\n",
       "      <td>57876000.0</td>\n",
       "      <td>Министерство культуры</td>\n",
       "      <td>6.6</td>\n",
       "      <td>приключения,триллер</td>\n",
       "      <td>0.0</td>\n",
       "      <td>2019</td>\n",
       "      <td>приключения</td>\n",
       "      <td>Е.Михалков-Кончаловский</td>\n",
       "      <td>35000000.0</td>\n",
       "      <td>-1.0</td>\n",
       "    </tr>\n",
       "  </tbody>\n",
       "</table>\n",
       "<p>10 rows × 21 columns</p>\n",
       "</div>"
      ],
      "text/plain": [
       "                                                  title   puNumber  \\\n",
       "2800                               Золотая рыбка (2015)  111018715   \n",
       "3337                                      Любовь и Сакс  111001217   \n",
       "3711  Колобанга. Только для пользователей Интернета ...  214010116   \n",
       "5661  Детский юмористический киножурнал \"ЕРАЛАШ\", вы...  111011917   \n",
       "6476                                               Зима  111023518   \n",
       "6709                                    Мальчик русский  111002619   \n",
       "6968                                    Танец с саблями  111008619   \n",
       "7009                                            Куратор  111010019   \n",
       "7180                            Байкал - Сердце мира 3D  112004619   \n",
       "7229                                            На Луне  111015519   \n",
       "\n",
       "               show_start_date            type  \\\n",
       "2800 2015-10-29 12:00:00+00:00  Художественный   \n",
       "3337 2017-02-16 12:00:00+00:00  Художественный   \n",
       "3711 2016-10-06 12:00:00+00:00    Анимационный   \n",
       "5661 2017-12-26 12:00:00+00:00  Художественный   \n",
       "6476 2019-03-15 12:00:00+00:00  Художественный   \n",
       "6709 2019-02-20 12:00:00+00:00  Художественный   \n",
       "6968 2019-05-29 12:00:00+00:00  Художественный   \n",
       "7009 2019-06-13 12:00:00+00:00  Художественный   \n",
       "7180 2019-11-01 12:00:00+00:00  Документальный   \n",
       "7229 2019-11-01 12:00:00+00:00  Художественный   \n",
       "\n",
       "                                          film_studio production_country  \\\n",
       "2800                         ООО \"Кинокомпания Дебют\"             Россия   \n",
       "3337                                 ООО \"ДжемСтудия\"             Россия   \n",
       "3711                                  ООО \"Колобанга\"             Россия   \n",
       "5661                  ООО \"Продюсерский центр ЕРАЛАШ\"             Россия   \n",
       "6476                                  ООО \"КиноТрест\"             Россия   \n",
       "6709                                    АО \"Ленфильм\"             Россия   \n",
       "6968   ООО \"Кинокомпания Флагман\" по заказу ООО \"ММЕ\"             Россия   \n",
       "7009  ООО \"Кинокомпания Атлантик\", 20 стэпс продакшнс     Россия, Грузия   \n",
       "7180            ООО \"Продюсерский центр \"Новое Время\"             Россия   \n",
       "7229                      ООО \"Киностудия \"ВЕРТИКАЛЬ\"             Россия   \n",
       "\n",
       "                                               director  \\\n",
       "2800                                          А.Галибин   \n",
       "3337                                         А.Сурикова   \n",
       "3711                                          А.Романец   \n",
       "5661  Е.Соколов, В.Панжев, Г.Курлаев, С.Морозов, М.С...   \n",
       "6476                                         С.Черников   \n",
       "6709                                        А.Золотухин   \n",
       "6968                                          Ю.Разыков   \n",
       "7009                                         П.Левченко   \n",
       "7180                                           А.Попова   \n",
       "7229                            Е.Михалков-Кончаловский   \n",
       "\n",
       "                                               producer  \\\n",
       "2800                                          Б.Токарев   \n",
       "3337                                          А.Голутва   \n",
       "3711                                            А.Ревва   \n",
       "5661                    ООО \"Продюсерский центр ЕРАЛАШ\"   \n",
       "6476  З.Болотаев, А.Плотников, Н.Агеев, А.Горский, П...   \n",
       "6709                               Продюссер неизвестен   \n",
       "6968         Р.Дишдишян, ООО \"МАРС МЕДИА ЭНТЕРТЕЙНМЕНТ\"   \n",
       "7009                                        Е.Филиппова   \n",
       "7180            И.Добровольский, А.Разуваева, Ю.Перкуль   \n",
       "7229                             С.Говорухин, Е.Маскина   \n",
       "\n",
       "                             age_restriction  refundable_support  ...  \\\n",
       "2800         «12+» - для детей старше 12 лет                 0.0  ...   \n",
       "3337         «12+» - для детей старше 12 лет                 0.0  ...   \n",
       "3711  «0+» - для любой зрительской аудитории                 0.0  ...   \n",
       "5661  «0+» - для любой зрительской аудитории                 0.0  ...   \n",
       "6476         «16+» - для детей старше 16 лет                 0.0  ...   \n",
       "6709         «12+» - для детей старше 12 лет                 0.0  ...   \n",
       "6968         «16+» - для детей старше 16 лет                 0.0  ...   \n",
       "7009         «16+» - для детей старше 16 лет                 0.0  ...   \n",
       "7180  «0+» - для любой зрительской аудитории                 0.0  ...   \n",
       "7229         «16+» - для детей старше 16 лет                 0.0  ...   \n",
       "\n",
       "          budget       financing_source ratings  \\\n",
       "2800  41998984.0  Министерство культуры     6.3   \n",
       "3337  61000000.0  Министерство культуры     5.2   \n",
       "3711  18706080.0  Министерство культуры     7.0   \n",
       "5661  44600000.0  Министерство культуры     7.2   \n",
       "6476  39700000.0  Министерство культуры     5.2   \n",
       "6709  46941140.0  Министерство культуры     6.1   \n",
       "6968  61571449.0  Министерство культуры     5.8   \n",
       "7009  60668576.0  Министерство культуры     4.9   \n",
       "7180  33000000.0  Министерство культуры     8.0   \n",
       "7229  57876000.0  Министерство культуры     6.6   \n",
       "\n",
       "                               genres box_office  year  main_genres  \\\n",
       "2800                            драма        0.0  2015        драма   \n",
       "3337                        мелодрама        0.0  2017    мелодрама   \n",
       "3711  мультфильм,приключения,детектив        0.0  2016   мультфильм   \n",
       "5661                  детский,комедия        0.0  2017      детский   \n",
       "6476                   драма,криминал        0.0  2019        драма   \n",
       "6709            драма,военный,история        0.0  2019        драма   \n",
       "6968          драма,история,биография        0.0  2019        драма   \n",
       "7009          драма,криминал,детектив        0.0  2019        драма   \n",
       "7180                         семейный        0.0  2019     семейный   \n",
       "7229              приключения,триллер        0.0  2019  приключения   \n",
       "\n",
       "                main_director government_support  ROI  \n",
       "2800                А.Галибин         25000000.0 -1.0  \n",
       "3337               А.Сурикова         10000000.0 -1.0  \n",
       "3711                А.Романец         11520000.0 -1.0  \n",
       "5661                Е.Соколов         25000000.0 -1.0  \n",
       "6476               С.Черников         25000000.0 -1.0  \n",
       "6709              А.Золотухин         30000000.0 -1.0  \n",
       "6968                Ю.Разыков         40000000.0 -1.0  \n",
       "7009               П.Левченко         25000000.0 -1.0  \n",
       "7180                 А.Попова          3000000.0 -1.0  \n",
       "7229  Е.Михалков-Кончаловский         35000000.0 -1.0  \n",
       "\n",
       "[10 rows x 21 columns]"
      ]
     },
     "execution_count": 57,
     "metadata": {},
     "output_type": "execute_result"
    }
   ],
   "source": [
    "data.query('budget != 0 and box_office == 0 and financing_source in @sponsors and show_start_date < \"2019-11-15 12:00:00+00:00\" ' )"
   ]
  },
  {
   "cell_type": "markdown",
   "metadata": {},
   "source": [
    "<span style=\"color:blue\">***В этом списке фильмы разных лет и получившие разный рейтинг. Какой-то закономерности я не вижу, скорее всего данные просто не внесли.***</span>"
   ]
  },
  {
   "cell_type": "code",
   "execution_count": 58,
   "metadata": {},
   "outputs": [
    {
     "name": "stdout",
     "output_type": "stream",
     "text": [
      "221 фильм собрал меньше выделяемого бюджета\n",
      "Что составляет 66.57 %, от общего количество фильмов снятых Минкультом и Фондом кино\n"
     ]
    }
   ],
   "source": [
    "films_less_median_allocated_budget = data.query(\n",
    "    'budget != 0 and box_office < @median_allocated_budget and financing_source in @sponsors'\n",
    ")['box_office'].sort_values(ascending=True).nunique()\n",
    "print(films_less_median_allocated_budget, \"фильм собрал меньше выделяемого бюджета\")\n",
    "print('Что составляет', round((\n",
    "    films_less_median_allocated_budget/(supported_movies_with_data + supported_movies_without_data\n",
    "                                       ))*100, 2), \n",
    "      '%, от общего количество фильмов снятых Минкультом и Фондом кино')"
   ]
  },
  {
   "cell_type": "markdown",
   "metadata": {},
   "source": [
    "<span style=\"color:blue\">***Эти данные внушают мало позитива относительно фильмов с государственной поддрежкой в России. Давайте теперь рассмотрим и сравним рейтинги и сборы фильмов с поддержкой и без, при этом разобьем их на жанры.***</span>"
   ]
  },
  {
   "cell_type": "code",
   "execution_count": 59,
   "metadata": {},
   "outputs": [
    {
     "data": {
      "text/html": [
       "<style  type=\"text/css\" >\n",
       "#T_32632_row0_col3,#T_32632_row1_col3,#T_32632_row2_col1,#T_32632_row2_col3,#T_32632_row3_col1,#T_32632_row3_col3,#T_32632_row4_col1,#T_32632_row5_col1,#T_32632_row5_col3,#T_32632_row6_col3,#T_32632_row7_col3,#T_32632_row8_col3,#T_32632_row9_col1,#T_32632_row9_col3,#T_32632_row10_col1,#T_32632_row10_col3,#T_32632_row11_col1,#T_32632_row11_col3,#T_32632_row12_col3,#T_32632_row13_col1,#T_32632_row13_col3,#T_32632_row15_col3,#T_32632_row16_col3,#T_32632_row17_col3,#T_32632_row18_col3,#T_32632_row19_col3,#T_32632_row20_col1,#T_32632_row20_col3{\n",
       "            background-color:  rgba(143, 188, 143, 0.5);\n",
       "        }#T_32632_row1_col0,#T_32632_row4_col2,#T_32632_row6_col0,#T_32632_row7_col0,#T_32632_row8_col0,#T_32632_row12_col0,#T_32632_row15_col0,#T_32632_row16_col0,#T_32632_row17_col0,#T_32632_row18_col0,#T_32632_row19_col0{\n",
       "            background-color:  rgba(244, 164, 96, 0.5);\n",
       "        }</style><table id=\"T_32632_\" ><thead>    <tr>        <th class=\"blank level0\" ></th>        <th class=\"col_heading level0 col0\" >Рейтинг фильмов без спонсирования. Россия</th>        <th class=\"col_heading level0 col1\" >Рейтинг фильмов со спонсированием. Россия</th>        <th class=\"col_heading level0 col2\" >Средние сборы без спонсирования. Россия</th>        <th class=\"col_heading level0 col3\" >Средние сборы со спонсированием. Россия</th>    </tr>    <tr>        <th class=\"index_name level0\" >main_genres</th>        <th class=\"blank\" ></th>        <th class=\"blank\" ></th>        <th class=\"blank\" ></th>        <th class=\"blank\" ></th>    </tr></thead><tbody>\n",
       "                <tr>\n",
       "                        <th id=\"T_32632_level0_row0\" class=\"row_heading level0 row0\" >Жанр неизвестен</th>\n",
       "                        <td id=\"T_32632_row0_col0\" class=\"data row0 col0\" >5.040000</td>\n",
       "                        <td id=\"T_32632_row0_col1\" class=\"data row0 col1\" >nan</td>\n",
       "                        <td id=\"T_32632_row0_col2\" class=\"data row0 col2\" >311767.097165</td>\n",
       "                        <td id=\"T_32632_row0_col3\" class=\"data row0 col3\" >98783248.309333</td>\n",
       "            </tr>\n",
       "            <tr>\n",
       "                        <th id=\"T_32632_level0_row1\" class=\"row_heading level0 row1\" >биография</th>\n",
       "                        <td id=\"T_32632_row1_col0\" class=\"data row1 col0\" >6.811111</td>\n",
       "                        <td id=\"T_32632_row1_col1\" class=\"data row1 col1\" >6.600000</td>\n",
       "                        <td id=\"T_32632_row1_col2\" class=\"data row1 col2\" >10056933.201111</td>\n",
       "                        <td id=\"T_32632_row1_col3\" class=\"data row1 col3\" >57539287.870000</td>\n",
       "            </tr>\n",
       "            <tr>\n",
       "                        <th id=\"T_32632_level0_row2\" class=\"row_heading level0 row2\" >боевик</th>\n",
       "                        <td id=\"T_32632_row2_col0\" class=\"data row2 col0\" >6.278947</td>\n",
       "                        <td id=\"T_32632_row2_col1\" class=\"data row2 col1\" >6.440000</td>\n",
       "                        <td id=\"T_32632_row2_col2\" class=\"data row2 col2\" >6679187.410526</td>\n",
       "                        <td id=\"T_32632_row2_col3\" class=\"data row2 col3\" >57655658.052000</td>\n",
       "            </tr>\n",
       "            <tr>\n",
       "                        <th id=\"T_32632_level0_row3\" class=\"row_heading level0 row3\" >военный</th>\n",
       "                        <td id=\"T_32632_row3_col0\" class=\"data row3 col0\" >6.284615</td>\n",
       "                        <td id=\"T_32632_row3_col1\" class=\"data row3 col1\" >6.425000</td>\n",
       "                        <td id=\"T_32632_row3_col2\" class=\"data row3 col2\" >22135996.551538</td>\n",
       "                        <td id=\"T_32632_row3_col3\" class=\"data row3 col3\" >120745685.725000</td>\n",
       "            </tr>\n",
       "            <tr>\n",
       "                        <th id=\"T_32632_level0_row4\" class=\"row_heading level0 row4\" >детектив</th>\n",
       "                        <td id=\"T_32632_row4_col0\" class=\"data row4 col0\" >6.323529</td>\n",
       "                        <td id=\"T_32632_row4_col1\" class=\"data row4 col1\" >6.760000</td>\n",
       "                        <td id=\"T_32632_row4_col2\" class=\"data row4 col2\" >53164252.274706</td>\n",
       "                        <td id=\"T_32632_row4_col3\" class=\"data row4 col3\" >27709502.280000</td>\n",
       "            </tr>\n",
       "            <tr>\n",
       "                        <th id=\"T_32632_level0_row5\" class=\"row_heading level0 row5\" >детский</th>\n",
       "                        <td id=\"T_32632_row5_col0\" class=\"data row5 col0\" >5.863636</td>\n",
       "                        <td id=\"T_32632_row5_col1\" class=\"data row5 col1\" >7.100000</td>\n",
       "                        <td id=\"T_32632_row5_col2\" class=\"data row5 col2\" >51384.727273</td>\n",
       "                        <td id=\"T_32632_row5_col3\" class=\"data row5 col3\" >1004550.666667</td>\n",
       "            </tr>\n",
       "            <tr>\n",
       "                        <th id=\"T_32632_level0_row6\" class=\"row_heading level0 row6\" >драма</th>\n",
       "                        <td id=\"T_32632_row6_col0\" class=\"data row6 col0\" >6.551613</td>\n",
       "                        <td id=\"T_32632_row6_col1\" class=\"data row6 col1\" >6.477500</td>\n",
       "                        <td id=\"T_32632_row6_col2\" class=\"data row6 col2\" >2393919.577312</td>\n",
       "                        <td id=\"T_32632_row6_col3\" class=\"data row6 col3\" >117514032.109500</td>\n",
       "            </tr>\n",
       "            <tr>\n",
       "                        <th id=\"T_32632_level0_row7\" class=\"row_heading level0 row7\" >история</th>\n",
       "                        <td id=\"T_32632_row7_col0\" class=\"data row7 col0\" >5.890000</td>\n",
       "                        <td id=\"T_32632_row7_col1\" class=\"data row7 col1\" >5.350000</td>\n",
       "                        <td id=\"T_32632_row7_col2\" class=\"data row7 col2\" >12497392.999000</td>\n",
       "                        <td id=\"T_32632_row7_col3\" class=\"data row7 col3\" >363867058.642500</td>\n",
       "            </tr>\n",
       "            <tr>\n",
       "                        <th id=\"T_32632_level0_row8\" class=\"row_heading level0 row8\" >комедия</th>\n",
       "                        <td id=\"T_32632_row8_col0\" class=\"data row8 col0\" >5.593143</td>\n",
       "                        <td id=\"T_32632_row8_col1\" class=\"data row8 col1\" >5.545833</td>\n",
       "                        <td id=\"T_32632_row8_col2\" class=\"data row8 col2\" >35499778.839886</td>\n",
       "                        <td id=\"T_32632_row8_col3\" class=\"data row8 col3\" >173322743.282361</td>\n",
       "            </tr>\n",
       "            <tr>\n",
       "                        <th id=\"T_32632_level0_row9\" class=\"row_heading level0 row9\" >криминал</th>\n",
       "                        <td id=\"T_32632_row9_col0\" class=\"data row9 col0\" >6.483333</td>\n",
       "                        <td id=\"T_32632_row9_col1\" class=\"data row9 col1\" >7.500000</td>\n",
       "                        <td id=\"T_32632_row9_col2\" class=\"data row9 col2\" >6073711.010000</td>\n",
       "                        <td id=\"T_32632_row9_col3\" class=\"data row9 col3\" >79931287.666667</td>\n",
       "            </tr>\n",
       "            <tr>\n",
       "                        <th id=\"T_32632_level0_row10\" class=\"row_heading level0 row10\" >мелодрама</th>\n",
       "                        <td id=\"T_32632_row10_col0\" class=\"data row10 col0\" >5.900000</td>\n",
       "                        <td id=\"T_32632_row10_col1\" class=\"data row10 col1\" >5.992308</td>\n",
       "                        <td id=\"T_32632_row10_col2\" class=\"data row10 col2\" >261692.282609</td>\n",
       "                        <td id=\"T_32632_row10_col3\" class=\"data row10 col3\" >4026313.863846</td>\n",
       "            </tr>\n",
       "            <tr>\n",
       "                        <th id=\"T_32632_level0_row11\" class=\"row_heading level0 row11\" >мультфильм</th>\n",
       "                        <td id=\"T_32632_row11_col0\" class=\"data row11 col0\" >5.658108</td>\n",
       "                        <td id=\"T_32632_row11_col1\" class=\"data row11 col1\" >5.760000</td>\n",
       "                        <td id=\"T_32632_row11_col2\" class=\"data row11 col2\" >1795605.925135</td>\n",
       "                        <td id=\"T_32632_row11_col3\" class=\"data row11 col3\" >187400471.155333</td>\n",
       "            </tr>\n",
       "            <tr>\n",
       "                        <th id=\"T_32632_level0_row12\" class=\"row_heading level0 row12\" >мюзикл</th>\n",
       "                        <td id=\"T_32632_row12_col0\" class=\"data row12 col0\" >7.833333</td>\n",
       "                        <td id=\"T_32632_row12_col1\" class=\"data row12 col1\" >6.550000</td>\n",
       "                        <td id=\"T_32632_row12_col2\" class=\"data row12 col2\" >0.000000</td>\n",
       "                        <td id=\"T_32632_row12_col3\" class=\"data row12 col3\" >25426251.245000</td>\n",
       "            </tr>\n",
       "            <tr>\n",
       "                        <th id=\"T_32632_level0_row13\" class=\"row_heading level0 row13\" >приключения</th>\n",
       "                        <td id=\"T_32632_row13_col0\" class=\"data row13 col0\" >5.636364</td>\n",
       "                        <td id=\"T_32632_row13_col1\" class=\"data row13 col1\" >5.740000</td>\n",
       "                        <td id=\"T_32632_row13_col2\" class=\"data row13 col2\" >1324495.692727</td>\n",
       "                        <td id=\"T_32632_row13_col3\" class=\"data row13 col3\" >174399983.406000</td>\n",
       "            </tr>\n",
       "            <tr>\n",
       "                        <th id=\"T_32632_level0_row14\" class=\"row_heading level0 row14\" >реальное ТВ</th>\n",
       "                        <td id=\"T_32632_row14_col0\" class=\"data row14 col0\" >nan</td>\n",
       "                        <td id=\"T_32632_row14_col1\" class=\"data row14 col1\" >5.600000</td>\n",
       "                        <td id=\"T_32632_row14_col2\" class=\"data row14 col2\" >nan</td>\n",
       "                        <td id=\"T_32632_row14_col3\" class=\"data row14 col3\" >32721103.430000</td>\n",
       "            </tr>\n",
       "            <tr>\n",
       "                        <th id=\"T_32632_level0_row15\" class=\"row_heading level0 row15\" >семейный</th>\n",
       "                        <td id=\"T_32632_row15_col0\" class=\"data row15 col0\" >6.084615</td>\n",
       "                        <td id=\"T_32632_row15_col1\" class=\"data row15 col1\" >4.983333</td>\n",
       "                        <td id=\"T_32632_row15_col2\" class=\"data row15 col2\" >32793863.338462</td>\n",
       "                        <td id=\"T_32632_row15_col3\" class=\"data row15 col3\" >97404124.941667</td>\n",
       "            </tr>\n",
       "            <tr>\n",
       "                        <th id=\"T_32632_level0_row16\" class=\"row_heading level0 row16\" >спорт</th>\n",
       "                        <td id=\"T_32632_row16_col0\" class=\"data row16 col0\" >6.966667</td>\n",
       "                        <td id=\"T_32632_row16_col1\" class=\"data row16 col1\" >6.933333</td>\n",
       "                        <td id=\"T_32632_row16_col2\" class=\"data row16 col2\" >547086.666667</td>\n",
       "                        <td id=\"T_32632_row16_col3\" class=\"data row16 col3\" >989256129.146667</td>\n",
       "            </tr>\n",
       "            <tr>\n",
       "                        <th id=\"T_32632_level0_row17\" class=\"row_heading level0 row17\" >триллер</th>\n",
       "                        <td id=\"T_32632_row17_col0\" class=\"data row17 col0\" >6.441791</td>\n",
       "                        <td id=\"T_32632_row17_col1\" class=\"data row17 col1\" >5.671429</td>\n",
       "                        <td id=\"T_32632_row17_col2\" class=\"data row17 col2\" >5700517.819104</td>\n",
       "                        <td id=\"T_32632_row17_col3\" class=\"data row17 col3\" >50011583.617143</td>\n",
       "            </tr>\n",
       "            <tr>\n",
       "                        <th id=\"T_32632_level0_row18\" class=\"row_heading level0 row18\" >ужасы</th>\n",
       "                        <td id=\"T_32632_row18_col0\" class=\"data row18 col0\" >5.816216</td>\n",
       "                        <td id=\"T_32632_row18_col1\" class=\"data row18 col1\" >5.200000</td>\n",
       "                        <td id=\"T_32632_row18_col2\" class=\"data row18 col2\" >5537782.456757</td>\n",
       "                        <td id=\"T_32632_row18_col3\" class=\"data row18 col3\" >71012318.935000</td>\n",
       "            </tr>\n",
       "            <tr>\n",
       "                        <th id=\"T_32632_level0_row19\" class=\"row_heading level0 row19\" >фантастика</th>\n",
       "                        <td id=\"T_32632_row19_col0\" class=\"data row19 col0\" >6.451351</td>\n",
       "                        <td id=\"T_32632_row19_col1\" class=\"data row19 col1\" >6.190000</td>\n",
       "                        <td id=\"T_32632_row19_col2\" class=\"data row19 col2\" >24277.135135</td>\n",
       "                        <td id=\"T_32632_row19_col3\" class=\"data row19 col3\" >171820427.939000</td>\n",
       "            </tr>\n",
       "            <tr>\n",
       "                        <th id=\"T_32632_level0_row20\" class=\"row_heading level0 row20\" >фэнтези</th>\n",
       "                        <td id=\"T_32632_row20_col0\" class=\"data row20 col0\" >6.078378</td>\n",
       "                        <td id=\"T_32632_row20_col1\" class=\"data row20 col1\" >6.090909</td>\n",
       "                        <td id=\"T_32632_row20_col2\" class=\"data row20 col2\" >198864.170270</td>\n",
       "                        <td id=\"T_32632_row20_col3\" class=\"data row20 col3\" >90530600.724545</td>\n",
       "            </tr>\n",
       "    </tbody></table>"
      ],
      "text/plain": [
       "<pandas.io.formats.style.Styler at 0x7fb04dbe0070>"
      ]
     },
     "execution_count": 59,
     "metadata": {},
     "output_type": "execute_result"
    }
   ],
   "source": [
    "data_raitings_russia_pivot = (data.query('financing_source not in @sponsors and production_country == \"Россия\"')\n",
    "                    .pivot_table(index='main_genres', values=['ratings', 'box_office'], aggfunc= 'mean')\n",
    "                    .sort_values(by='main_genres', ascending = True))\n",
    "data_raitings_russia_pivot = data_raitings_russia_pivot.reindex(['ratings', 'box_office'], axis=1)\n",
    "data_raitings_russia_pivot = data_raitings_russia_pivot.set_axis(\n",
    "    ['Рейтинг фильмов без спонсирования. Россия', 'Средние сборы без спонсирования. Россия'], axis='columns')\n",
    "\n",
    "data_raitings_russia_gs_pivot = (data.query(\n",
    "    'budget != 0 and box_office != 0 and financing_source in @sponsors and production_country == \"Россия\"')\n",
    "                    .pivot_table(index='main_genres', values=['ratings', 'box_office'], aggfunc= 'mean')\n",
    "                    .sort_values(by='main_genres', ascending = True))\n",
    "data_raitings_russia_gs_pivot = data_raitings_russia_gs_pivot.reindex(\n",
    "    ['ratings', 'box_office'], axis=1)\n",
    "data_raitings_russia_gs_pivot = data_raitings_russia_gs_pivot.set_axis(\n",
    "    ['Рейтинг фильмов со спонсированием. Россия', 'Средние сборы со спонсированием. Россия'], axis='columns')\n",
    "\n",
    "data_raitings_russia_merge = data_raitings_russia_pivot.merge(\n",
    "    data_raitings_russia_gs_pivot, on='main_genres', how='right')\n",
    "data_raitings_russia_merge = data_raitings_russia_merge.reindex(\n",
    "    ['Рейтинг фильмов без спонсирования. Россия', 'Рейтинг фильмов со спонсированием. Россия', \n",
    "     'Средние сборы без спонсирования. Россия', 'Средние сборы со спонсированием. Россия'], axis=1)\n",
    "\n",
    "def highlight_cells(x, alpha=1.0):\n",
    "    df_color = pd.DataFrame('', index=x.index, columns=x.columns)\n",
    "    df_color.loc[x['Рейтинг фильмов без спонсирования. Россия'] \n",
    "                 > x['Рейтинг фильмов со спонсированием. Россия'],\n",
    "                 ['Рейтинг фильмов без спонсирования. Россия']] = f'background-color: rgba(244, 164, 96, {alpha})'\n",
    "    df_color.loc[x['Рейтинг фильмов со спонсированием. Россия'] \n",
    "                 > x['Рейтинг фильмов без спонсирования. Россия'], \n",
    "                 ['Рейтинг фильмов со спонсированием. Россия']] = f'background-color: rgba(143, 188, 143, {alpha})'\n",
    "    \n",
    "    df_color.loc[x['Средние сборы без спонсирования. Россия'] \n",
    "                 > x['Средние сборы со спонсированием. Россия'], \n",
    "                 ['Средние сборы без спонсирования. Россия']] = f'background-color: rgba(244, 164, 96, {alpha})'\n",
    "    df_color.loc[x['Средние сборы со спонсированием. Россия'] \n",
    "                 > x['Средние сборы без спонсирования. Россия'], \n",
    "                 ['Средние сборы со спонсированием. Россия']] = f'background-color: rgba(143, 188, 143, {alpha})'\n",
    "    return df_color\n",
    "\n",
    "data_raitings_russia_merge.style.apply(highlight_cells, alpha=0.5, axis=None)"
   ]
  },
  {
   "cell_type": "markdown",
   "metadata": {},
   "source": [
    "<span style=\"color:blue\">Что касается рейтингов тот результаты примерно равны. У фильмов без господдержки рейтинг выше фильмов с господдержкой в 10 из 19 случаев. Самыми яркими примерами по превосходству в рейтинге фильмов без господдержки являются фильмы жанра:\n",
    "- мюзикл 7.833333 против 6.55\n",
    "- семейные 6.084615 против 4.983333\n",
    "- триллер 6.441791 против 5.671429\n",
    "- ужасы 5.816216 против 5.2\n",
    "А рейтинги фильмов с госсподдержкой значительно превосходят фильмы без господдержки в следующих жанрах:\n",
    "- криминал 7,5 против 6.483333\n",
    "- детский 7,1 против 5.863636**</span>\n",
    "<span style=\"color:blue\">**Но ситуация по сборам явно в пользу фильмов с господдержкой, они уступают только в жанре детектив. Что в принципе логично, госфильмы имеют доступ к большиму числу кинотеатров, телеканалов, селебрити, которые могут продвигать фильмы, соответственно и сборы будут выше.</span>"
   ]
  },
  {
   "cell_type": "markdown",
   "metadata": {
    "id": "V2gYwMcPgFyd"
   },
   "source": [
    "### Шаг 5. Напишите общий вывод"
   ]
  },
  {
   "cell_type": "markdown",
   "metadata": {
    "id": "AYRg3dzXgFye"
   },
   "source": [
    "    В начале проекта я обьединил два датафрейма, заранее изменив параметра объединяющего столбца. В последствии были внесены коррективы в датафрейм(убрал дубликаты, изменил тип данных, заполнил пропуски), которые упростили дальнейшее иследование.\n",
    "    В нашем исследовании рассматривался период кинопроката с 2010 по 2019 года. С 2010 по 2016 наблюдался планомерный рост прокат, однако в 2017 обнаружился резкий спад, видимо после девальвации рубля и усложнение бюрократии(получение господдержки, различных лицензий и т.п.), которые повлияли на удорожание производства и затягивании в выпуске фильмов на большие экраны. Однако потом снова наблюдался рост проката, который позволил в 2019 году вернуться к результатам 2019 года. Выручка показывает планомерный рост. Максимальная сумма сборов была в 2018 году и составляет 49.67 миллиардов рублей. Минимальная сумма сборов была в 2010 году и составляет 2428654 рубля.\n",
    "    Теперь поговорим о возрастных ограничениях. Возрастное ограничение с наибольшими сборами:  для детей старше 16 лет суммарные сборы по этому возрастному ограничению: 76583674041 рублей, что в принципе и ожидаемо, так как фильмы с таким ограничением привлекают более возрастную категорию зрителей которая является наиболее платежеспособная. Возрастное ограничение с наименьшими сборами:  «0+» - для любой зрительской аудитории. Суммарные сборы по этому возрастному ограничению: 1205003952 рублей. Скорее всего это детские фильмы и мультики на которые наврятли часто ходят взрослые, а на детях много денег не соберешь.\n",
    "    Что касается фильмов с господдержкой, то получили следующие данные:\n",
    "    -Общие средства на поддержку кино, выделяемые государством составляют 44.51 миллиардов рублей.\n",
    "    -Фильм с наилучшей окупаемостью:  Любовь и голуби\n",
    "    -Фильм с худшей окупаемостью:  Золотая рыбка (2015)\n",
    "    -Средний рейтинг фильмов с государственной поддержкой:  6.49\n",
    "    Построил график зависимости рейтинга фильма от выделяемых государством средств. График и коэффициент корреляции(-0.040316) показали, что размер выделяемых средств не влияет на итоговую реакцию зрителей на фильм.\n",
    "    Всего за период 2010-2019 г. с помощью государства было произведено 332 фильма из которых 221 по итогу получил меньше кассовых сборов, чем ранее выделялось на производство, что составляет 66,57%.\n",
    "    Затем сравнил рейтинговые и финансовые успехи фильмов снятых с и без господдержки и получил следующие результаты:\n",
    "    - по рейтингам получился примерно равный результат у небюджетных фильмов превосходство в 10 жанрах из 19 над фильмами с господдержкой.\n",
    "    -Самыми яркими примерами по превосходству в рейтинге фильмов без господдержки являются фильмы жанра:\n",
    "        -мюзикл 7.833333 против 6.55\n",
    "        - семейные 6.084615 против 4.983333\n",
    "        - триллер 6.441791 против 5.671429\n",
    "        - ужасы 5.816216 против 5.2\n",
    "    А рейтинги фильмов с госсподдержкой значительно превосходят фильмы без господдержки в следующих жанрах:\n",
    "        - криминал 7,5 против 6.483333\n",
    "        - детский 7,1 против 5.863636\n",
    "    -Но ситуация по сборам явно в пользу фильмов с господдержкой, они уступают только в жанре детектив. Что в принципе логично, госфильмы имеют доступ к большиму числу кинотеатров, телеканалов, селебрити, которые могут продвигать фильмы, соответственно и сборы будут выше."
   ]
  },
  {
   "cell_type": "code",
   "execution_count": null,
   "metadata": {},
   "outputs": [],
   "source": []
  }
 ],
 "metadata": {
  "ExecuteTimeLog": [
   {
    "duration": 537,
    "start_time": "2021-07-07T10:12:08.634Z"
   },
   {
    "duration": 206,
    "start_time": "2021-07-07T10:12:30.191Z"
   },
   {
    "duration": 227,
    "start_time": "2021-07-07T10:12:33.078Z"
   },
   {
    "duration": 153,
    "start_time": "2021-07-07T10:13:42.146Z"
   },
   {
    "duration": 233,
    "start_time": "2021-07-07T10:30:09.252Z"
   },
   {
    "duration": 19,
    "start_time": "2021-07-07T10:30:15.577Z"
   },
   {
    "duration": 18,
    "start_time": "2021-07-07T10:30:57.348Z"
   },
   {
    "duration": 19,
    "start_time": "2021-07-07T10:31:17.452Z"
   },
   {
    "duration": 21,
    "start_time": "2021-07-07T10:31:32.227Z"
   },
   {
    "duration": 27,
    "start_time": "2021-07-07T10:32:06.588Z"
   },
   {
    "duration": 23,
    "start_time": "2021-07-07T10:32:43.645Z"
   },
   {
    "duration": 24,
    "start_time": "2021-07-07T10:33:06.948Z"
   },
   {
    "duration": 7,
    "start_time": "2021-07-07T10:33:28.558Z"
   },
   {
    "duration": 23,
    "start_time": "2021-07-07T10:33:43.761Z"
   },
   {
    "duration": 28,
    "start_time": "2021-07-07T10:34:13.466Z"
   },
   {
    "duration": 23,
    "start_time": "2021-07-07T10:35:56.187Z"
   },
   {
    "duration": 6,
    "start_time": "2021-07-07T10:36:48.182Z"
   },
   {
    "duration": 14,
    "start_time": "2021-07-07T10:37:49.641Z"
   },
   {
    "duration": 6,
    "start_time": "2021-07-07T10:38:06.694Z"
   },
   {
    "duration": 6,
    "start_time": "2021-07-07T10:38:13.493Z"
   },
   {
    "duration": 19,
    "start_time": "2021-07-07T10:38:44.056Z"
   },
   {
    "duration": 186,
    "start_time": "2021-07-07T10:48:35.618Z"
   },
   {
    "duration": 24,
    "start_time": "2021-07-07T10:48:51.498Z"
   },
   {
    "duration": 20,
    "start_time": "2021-07-07T10:48:59.415Z"
   },
   {
    "duration": 20,
    "start_time": "2021-07-07T10:53:02.195Z"
   },
   {
    "duration": 188,
    "start_time": "2021-07-07T10:54:40.486Z"
   },
   {
    "duration": 115,
    "start_time": "2021-07-07T10:54:52.552Z"
   },
   {
    "duration": 214,
    "start_time": "2021-07-07T10:54:56.354Z"
   },
   {
    "duration": 47,
    "start_time": "2021-07-07T10:54:58.282Z"
   },
   {
    "duration": 217,
    "start_time": "2021-07-07T10:59:16.075Z"
   },
   {
    "duration": 51,
    "start_time": "2021-07-07T10:59:16.243Z"
   },
   {
    "duration": 578,
    "start_time": "2021-07-07T10:59:18.774Z"
   },
   {
    "duration": 161,
    "start_time": "2021-07-07T10:59:21.238Z"
   },
   {
    "duration": 59,
    "start_time": "2021-07-07T10:59:21.453Z"
   },
   {
    "duration": 3,
    "start_time": "2021-07-07T11:02:10.786Z"
   },
   {
    "duration": 13,
    "start_time": "2021-07-07T11:07:07.722Z"
   },
   {
    "duration": 26,
    "start_time": "2021-07-07T11:07:17.958Z"
   },
   {
    "duration": 22,
    "start_time": "2021-07-07T11:08:17.939Z"
   },
   {
    "duration": 212,
    "start_time": "2021-07-07T11:08:19.665Z"
   },
   {
    "duration": 21,
    "start_time": "2021-07-07T11:08:29.945Z"
   },
   {
    "duration": 31,
    "start_time": "2021-07-07T11:08:38.899Z"
   },
   {
    "duration": 23,
    "start_time": "2021-07-07T11:08:54.527Z"
   },
   {
    "duration": 8,
    "start_time": "2021-07-07T11:18:55.974Z"
   },
   {
    "duration": 7,
    "start_time": "2021-07-07T11:19:03.639Z"
   },
   {
    "duration": 7,
    "start_time": "2021-07-07T11:19:06.444Z"
   },
   {
    "duration": 578,
    "start_time": "2021-07-07T12:09:59.576Z"
   },
   {
    "duration": 195,
    "start_time": "2021-07-07T12:10:00.156Z"
   },
   {
    "duration": 115,
    "start_time": "2021-07-07T12:10:00.353Z"
   },
   {
    "duration": 3,
    "start_time": "2021-07-07T12:10:00.470Z"
   },
   {
    "duration": 32,
    "start_time": "2021-07-07T12:10:00.474Z"
   },
   {
    "duration": 23,
    "start_time": "2021-07-07T12:10:00.508Z"
   },
   {
    "duration": 19,
    "start_time": "2021-07-07T12:10:00.533Z"
   },
   {
    "duration": 44,
    "start_time": "2021-07-07T12:10:00.553Z"
   },
   {
    "duration": 7,
    "start_time": "2021-07-07T12:10:00.600Z"
   },
   {
    "duration": 7,
    "start_time": "2021-07-07T12:19:45.761Z"
   },
   {
    "duration": 21,
    "start_time": "2021-07-07T12:21:35.482Z"
   },
   {
    "duration": 21,
    "start_time": "2021-07-07T12:29:23.569Z"
   },
   {
    "duration": 525,
    "start_time": "2021-07-07T12:29:44.542Z"
   },
   {
    "duration": 214,
    "start_time": "2021-07-07T12:29:45.069Z"
   },
   {
    "duration": 92,
    "start_time": "2021-07-07T12:29:45.285Z"
   },
   {
    "duration": 3,
    "start_time": "2021-07-07T12:29:45.379Z"
   },
   {
    "duration": 28,
    "start_time": "2021-07-07T12:29:45.384Z"
   },
   {
    "duration": 23,
    "start_time": "2021-07-07T12:29:45.413Z"
   },
   {
    "duration": 21,
    "start_time": "2021-07-07T12:29:45.437Z"
   },
   {
    "duration": 41,
    "start_time": "2021-07-07T12:29:45.460Z"
   },
   {
    "duration": 7,
    "start_time": "2021-07-07T12:29:45.502Z"
   },
   {
    "duration": 20,
    "start_time": "2021-07-07T12:29:45.511Z"
   },
   {
    "duration": 12,
    "start_time": "2021-07-07T12:34:02.800Z"
   },
   {
    "duration": 7,
    "start_time": "2021-07-07T12:35:10.479Z"
   },
   {
    "duration": 8,
    "start_time": "2021-07-07T12:35:22.440Z"
   },
   {
    "duration": 6,
    "start_time": "2021-07-07T12:35:35.649Z"
   },
   {
    "duration": 6,
    "start_time": "2021-07-07T12:35:43.107Z"
   },
   {
    "duration": 22,
    "start_time": "2021-07-07T12:38:03.029Z"
   },
   {
    "duration": 10,
    "start_time": "2021-07-07T12:38:06.592Z"
   },
   {
    "duration": 563,
    "start_time": "2021-07-07T12:38:46.493Z"
   },
   {
    "duration": 265,
    "start_time": "2021-07-07T12:38:47.058Z"
   },
   {
    "duration": 94,
    "start_time": "2021-07-07T12:38:47.325Z"
   },
   {
    "duration": 3,
    "start_time": "2021-07-07T12:38:47.422Z"
   },
   {
    "duration": 30,
    "start_time": "2021-07-07T12:38:47.427Z"
   },
   {
    "duration": 16,
    "start_time": "2021-07-07T12:38:53.305Z"
   },
   {
    "duration": 10,
    "start_time": "2021-07-07T12:38:53.499Z"
   },
   {
    "duration": 8,
    "start_time": "2021-07-07T12:39:48.161Z"
   },
   {
    "duration": 27,
    "start_time": "2021-07-07T12:41:17.629Z"
   },
   {
    "duration": 17,
    "start_time": "2021-07-07T12:41:17.867Z"
   },
   {
    "duration": 21,
    "start_time": "2021-07-07T12:41:19.310Z"
   },
   {
    "duration": 7,
    "start_time": "2021-07-07T12:41:19.544Z"
   },
   {
    "duration": 20,
    "start_time": "2021-07-07T12:41:20.504Z"
   },
   {
    "duration": 554,
    "start_time": "2021-07-07T12:56:23.696Z"
   },
   {
    "duration": 200,
    "start_time": "2021-07-07T12:56:25.234Z"
   },
   {
    "duration": 119,
    "start_time": "2021-07-07T12:56:25.480Z"
   },
   {
    "duration": 4,
    "start_time": "2021-07-07T12:56:25.762Z"
   },
   {
    "duration": 26,
    "start_time": "2021-07-07T12:56:27.172Z"
   },
   {
    "duration": 12,
    "start_time": "2021-07-07T12:56:29.051Z"
   },
   {
    "duration": 10,
    "start_time": "2021-07-07T12:56:29.291Z"
   },
   {
    "duration": 8,
    "start_time": "2021-07-07T12:56:29.623Z"
   },
   {
    "duration": 28,
    "start_time": "2021-07-07T12:56:32.137Z"
   },
   {
    "duration": 19,
    "start_time": "2021-07-07T12:56:39.785Z"
   },
   {
    "duration": 20,
    "start_time": "2021-07-07T12:56:44.297Z"
   },
   {
    "duration": 7,
    "start_time": "2021-07-07T12:56:45.392Z"
   },
   {
    "duration": 23,
    "start_time": "2021-07-07T12:56:46.615Z"
   },
   {
    "duration": 4,
    "start_time": "2021-07-07T12:57:06.625Z"
   },
   {
    "duration": 32,
    "start_time": "2021-07-07T12:57:36.690Z"
   },
   {
    "duration": 18,
    "start_time": "2021-07-07T12:58:00.149Z"
   },
   {
    "duration": 15,
    "start_time": "2021-07-07T12:59:16.793Z"
   },
   {
    "duration": 7,
    "start_time": "2021-07-07T13:19:22.624Z"
   },
   {
    "duration": 6,
    "start_time": "2021-07-07T14:17:33.527Z"
   },
   {
    "duration": 9,
    "start_time": "2021-07-07T14:17:48.409Z"
   },
   {
    "duration": 8,
    "start_time": "2021-07-07T14:20:13.060Z"
   },
   {
    "duration": 8,
    "start_time": "2021-07-07T14:20:37.957Z"
   },
   {
    "duration": 8,
    "start_time": "2021-07-07T14:20:47.470Z"
   },
   {
    "duration": 9,
    "start_time": "2021-07-07T14:20:54.503Z"
   },
   {
    "duration": 10,
    "start_time": "2021-07-07T14:28:57.763Z"
   },
   {
    "duration": 3,
    "start_time": "2021-07-07T14:30:23.377Z"
   },
   {
    "duration": 3,
    "start_time": "2021-07-07T14:30:36.489Z"
   },
   {
    "duration": 103,
    "start_time": "2021-07-07T14:30:52.351Z"
   },
   {
    "duration": 8,
    "start_time": "2021-07-07T14:30:54.763Z"
   },
   {
    "duration": 8,
    "start_time": "2021-07-07T14:31:29.301Z"
   },
   {
    "duration": 13,
    "start_time": "2021-07-07T14:31:44.516Z"
   },
   {
    "duration": 7,
    "start_time": "2021-07-07T14:33:10.972Z"
   },
   {
    "duration": 11,
    "start_time": "2021-07-07T14:33:27.780Z"
   },
   {
    "duration": 8,
    "start_time": "2021-07-07T14:34:44.588Z"
   },
   {
    "duration": 57,
    "start_time": "2021-07-07T14:35:59.042Z"
   },
   {
    "duration": 3,
    "start_time": "2021-07-07T14:36:28.168Z"
   },
   {
    "duration": 5,
    "start_time": "2021-07-07T14:36:46.254Z"
   },
   {
    "duration": 4,
    "start_time": "2021-07-07T14:36:52.714Z"
   },
   {
    "duration": 3,
    "start_time": "2021-07-07T14:36:56.612Z"
   },
   {
    "duration": 4,
    "start_time": "2021-07-07T14:36:57.049Z"
   },
   {
    "duration": 3,
    "start_time": "2021-07-07T14:39:21.214Z"
   },
   {
    "duration": 7,
    "start_time": "2021-07-07T14:39:52.406Z"
   },
   {
    "duration": 11,
    "start_time": "2021-07-07T14:39:58.576Z"
   },
   {
    "duration": 9,
    "start_time": "2021-07-07T14:40:26.301Z"
   },
   {
    "duration": 10,
    "start_time": "2021-07-07T14:40:31.704Z"
   },
   {
    "duration": 11,
    "start_time": "2021-07-07T14:40:36.249Z"
   },
   {
    "duration": 10,
    "start_time": "2021-07-07T14:40:39.783Z"
   },
   {
    "duration": 9,
    "start_time": "2021-07-07T14:40:48.558Z"
   },
   {
    "duration": 10,
    "start_time": "2021-07-07T14:40:57.143Z"
   },
   {
    "duration": 9,
    "start_time": "2021-07-07T14:41:06.074Z"
   },
   {
    "duration": 4324,
    "start_time": "2021-07-07T14:41:22.004Z"
   },
   {
    "duration": 11,
    "start_time": "2021-07-07T14:41:33.392Z"
   },
   {
    "duration": 9,
    "start_time": "2021-07-07T14:41:39.288Z"
   },
   {
    "duration": 569,
    "start_time": "2021-07-07T14:42:14.387Z"
   },
   {
    "duration": 197,
    "start_time": "2021-07-07T14:42:14.959Z"
   },
   {
    "duration": 84,
    "start_time": "2021-07-07T14:42:16.052Z"
   },
   {
    "duration": 4,
    "start_time": "2021-07-07T14:42:16.900Z"
   },
   {
    "duration": 27,
    "start_time": "2021-07-07T14:42:19.898Z"
   },
   {
    "duration": 12,
    "start_time": "2021-07-07T14:42:21.577Z"
   },
   {
    "duration": 9,
    "start_time": "2021-07-07T14:42:21.813Z"
   },
   {
    "duration": 9,
    "start_time": "2021-07-07T14:42:22.569Z"
   },
   {
    "duration": 29,
    "start_time": "2021-07-07T14:42:25.837Z"
   },
   {
    "duration": 20,
    "start_time": "2021-07-07T14:42:27.003Z"
   },
   {
    "duration": 21,
    "start_time": "2021-07-07T14:42:28.767Z"
   },
   {
    "duration": 7,
    "start_time": "2021-07-07T14:42:29.838Z"
   },
   {
    "duration": 4,
    "start_time": "2021-07-07T14:43:25.493Z"
   },
   {
    "duration": 7,
    "start_time": "2021-07-07T14:43:26.573Z"
   },
   {
    "duration": 10,
    "start_time": "2021-07-07T14:43:31.639Z"
   },
   {
    "duration": 9,
    "start_time": "2021-07-07T14:43:32.046Z"
   },
   {
    "duration": 10,
    "start_time": "2021-07-07T14:43:33.301Z"
   },
   {
    "duration": 12,
    "start_time": "2021-07-07T14:43:33.658Z"
   },
   {
    "duration": 8,
    "start_time": "2021-07-07T14:43:34.552Z"
   },
   {
    "duration": 9,
    "start_time": "2021-07-07T14:43:35.058Z"
   },
   {
    "duration": 12,
    "start_time": "2021-07-07T14:43:35.914Z"
   },
   {
    "duration": 17,
    "start_time": "2021-07-07T14:45:34.368Z"
   },
   {
    "duration": 512,
    "start_time": "2021-07-07T14:51:58.236Z"
   },
   {
    "duration": 223,
    "start_time": "2021-07-07T14:51:58.750Z"
   },
   {
    "duration": 93,
    "start_time": "2021-07-07T14:51:58.977Z"
   },
   {
    "duration": 4,
    "start_time": "2021-07-07T14:51:59.071Z"
   },
   {
    "duration": 37,
    "start_time": "2021-07-07T14:51:59.077Z"
   },
   {
    "duration": 18,
    "start_time": "2021-07-07T14:51:59.116Z"
   },
   {
    "duration": 10,
    "start_time": "2021-07-07T14:51:59.137Z"
   },
   {
    "duration": 8,
    "start_time": "2021-07-07T14:51:59.149Z"
   },
   {
    "duration": 54,
    "start_time": "2021-07-07T14:51:59.158Z"
   },
   {
    "duration": 18,
    "start_time": "2021-07-07T14:51:59.213Z"
   },
   {
    "duration": 22,
    "start_time": "2021-07-07T14:51:59.232Z"
   },
   {
    "duration": 36,
    "start_time": "2021-07-07T14:51:59.255Z"
   },
   {
    "duration": 7,
    "start_time": "2021-07-07T14:51:59.293Z"
   },
   {
    "duration": 10,
    "start_time": "2021-07-07T14:51:59.302Z"
   },
   {
    "duration": 9,
    "start_time": "2021-07-07T14:51:59.313Z"
   },
   {
    "duration": 11,
    "start_time": "2021-07-07T14:51:59.324Z"
   },
   {
    "duration": 8,
    "start_time": "2021-07-07T14:51:59.337Z"
   },
   {
    "duration": 46,
    "start_time": "2021-07-07T14:51:59.347Z"
   },
   {
    "duration": 22,
    "start_time": "2021-07-07T14:51:59.395Z"
   },
   {
    "duration": 24,
    "start_time": "2021-07-07T14:57:32.911Z"
   },
   {
    "duration": 7,
    "start_time": "2021-07-07T14:58:22.070Z"
   },
   {
    "duration": 4,
    "start_time": "2021-07-07T14:59:11.239Z"
   },
   {
    "duration": 25,
    "start_time": "2021-07-07T15:07:22.208Z"
   },
   {
    "duration": 16,
    "start_time": "2021-07-07T15:08:25.560Z"
   },
   {
    "duration": 15,
    "start_time": "2021-07-07T15:08:40.647Z"
   },
   {
    "duration": 14,
    "start_time": "2021-07-07T15:08:46.669Z"
   },
   {
    "duration": 533,
    "start_time": "2021-07-07T15:18:07.440Z"
   },
   {
    "duration": 173,
    "start_time": "2021-07-07T15:18:07.974Z"
   },
   {
    "duration": 84,
    "start_time": "2021-07-07T15:18:08.149Z"
   },
   {
    "duration": 3,
    "start_time": "2021-07-07T15:18:08.235Z"
   },
   {
    "duration": 30,
    "start_time": "2021-07-07T15:18:08.240Z"
   },
   {
    "duration": 22,
    "start_time": "2021-07-07T15:18:08.272Z"
   },
   {
    "duration": 11,
    "start_time": "2021-07-07T15:18:08.295Z"
   },
   {
    "duration": 11,
    "start_time": "2021-07-07T15:18:08.309Z"
   },
   {
    "duration": 40,
    "start_time": "2021-07-07T15:18:08.322Z"
   },
   {
    "duration": 42,
    "start_time": "2021-07-07T15:18:08.364Z"
   },
   {
    "duration": 22,
    "start_time": "2021-07-07T15:18:08.408Z"
   },
   {
    "duration": 5,
    "start_time": "2021-07-07T15:18:08.432Z"
   },
   {
    "duration": 13,
    "start_time": "2021-07-07T15:18:08.439Z"
   },
   {
    "duration": 9,
    "start_time": "2021-07-07T15:18:08.454Z"
   },
   {
    "duration": 32,
    "start_time": "2021-07-07T15:18:08.465Z"
   },
   {
    "duration": 10,
    "start_time": "2021-07-07T15:18:08.501Z"
   },
   {
    "duration": 7,
    "start_time": "2021-07-07T15:18:08.513Z"
   },
   {
    "duration": 11,
    "start_time": "2021-07-07T15:18:08.521Z"
   },
   {
    "duration": 17,
    "start_time": "2021-07-07T15:18:08.534Z"
   },
   {
    "duration": 44,
    "start_time": "2021-07-07T15:18:08.553Z"
   },
   {
    "duration": 22,
    "start_time": "2021-07-07T15:18:08.599Z"
   },
   {
    "duration": 61,
    "start_time": "2021-07-07T15:18:08.622Z"
   },
   {
    "duration": 7,
    "start_time": "2021-07-07T15:18:39.457Z"
   },
   {
    "duration": 5,
    "start_time": "2021-07-07T16:05:17.020Z"
   },
   {
    "duration": 5,
    "start_time": "2021-07-07T16:51:28.794Z"
   },
   {
    "duration": 546,
    "start_time": "2021-07-07T16:52:26.306Z"
   },
   {
    "duration": 203,
    "start_time": "2021-07-07T16:52:27.523Z"
   },
   {
    "duration": 85,
    "start_time": "2021-07-07T16:52:27.736Z"
   },
   {
    "duration": 4,
    "start_time": "2021-07-07T16:52:27.899Z"
   },
   {
    "duration": 25,
    "start_time": "2021-07-07T16:52:28.674Z"
   },
   {
    "duration": 8,
    "start_time": "2021-07-07T16:52:32.956Z"
   },
   {
    "duration": 18,
    "start_time": "2021-07-07T16:52:35.616Z"
   },
   {
    "duration": 6,
    "start_time": "2021-07-07T16:52:36.913Z"
   },
   {
    "duration": 11,
    "start_time": "2021-07-07T16:52:40.258Z"
   },
   {
    "duration": 10,
    "start_time": "2021-07-07T16:52:46.251Z"
   },
   {
    "duration": 8,
    "start_time": "2021-07-07T16:52:47.182Z"
   },
   {
    "duration": 27,
    "start_time": "2021-07-07T16:53:20.391Z"
   },
   {
    "duration": 20,
    "start_time": "2021-07-07T16:53:22.022Z"
   },
   {
    "duration": 23,
    "start_time": "2021-07-07T16:53:23.690Z"
   },
   {
    "duration": 8,
    "start_time": "2021-07-07T16:53:24.261Z"
   },
   {
    "duration": 4,
    "start_time": "2021-07-07T16:53:38.733Z"
   },
   {
    "duration": 7,
    "start_time": "2021-07-07T16:53:40.445Z"
   },
   {
    "duration": 11,
    "start_time": "2021-07-07T16:53:41.348Z"
   },
   {
    "duration": 13,
    "start_time": "2021-07-07T16:53:45.250Z"
   },
   {
    "duration": 12,
    "start_time": "2021-07-07T16:53:45.467Z"
   },
   {
    "duration": 4,
    "start_time": "2021-07-07T16:55:32.704Z"
   },
   {
    "duration": 12,
    "start_time": "2021-07-07T16:55:49.012Z"
   },
   {
    "duration": 18,
    "start_time": "2021-07-07T16:55:49.547Z"
   },
   {
    "duration": 611,
    "start_time": "2021-07-07T16:58:35.156Z"
   },
   {
    "duration": 200,
    "start_time": "2021-07-07T16:58:35.770Z"
   },
   {
    "duration": 86,
    "start_time": "2021-07-07T16:58:35.972Z"
   },
   {
    "duration": 3,
    "start_time": "2021-07-07T16:58:36.060Z"
   },
   {
    "duration": 27,
    "start_time": "2021-07-07T16:58:36.065Z"
   },
   {
    "duration": 8,
    "start_time": "2021-07-07T16:58:36.094Z"
   },
   {
    "duration": 17,
    "start_time": "2021-07-07T16:58:36.103Z"
   },
   {
    "duration": 5,
    "start_time": "2021-07-07T16:58:36.123Z"
   },
   {
    "duration": 11,
    "start_time": "2021-07-07T16:58:36.130Z"
   },
   {
    "duration": 7,
    "start_time": "2021-07-07T16:58:36.143Z"
   },
   {
    "duration": 37,
    "start_time": "2021-07-07T16:58:36.152Z"
   },
   {
    "duration": 27,
    "start_time": "2021-07-07T16:58:36.191Z"
   },
   {
    "duration": 19,
    "start_time": "2021-07-07T16:58:36.219Z"
   },
   {
    "duration": 49,
    "start_time": "2021-07-07T16:58:36.240Z"
   },
   {
    "duration": 6,
    "start_time": "2021-07-07T16:58:36.291Z"
   },
   {
    "duration": 3,
    "start_time": "2021-07-07T16:58:36.299Z"
   },
   {
    "duration": 13,
    "start_time": "2021-07-07T16:58:36.304Z"
   },
   {
    "duration": 10,
    "start_time": "2021-07-07T16:58:36.319Z"
   },
   {
    "duration": 10,
    "start_time": "2021-07-07T16:58:36.331Z"
   },
   {
    "duration": 44,
    "start_time": "2021-07-07T16:58:36.343Z"
   },
   {
    "duration": 4,
    "start_time": "2021-07-07T16:58:36.388Z"
   },
   {
    "duration": 13,
    "start_time": "2021-07-07T16:58:36.394Z"
   },
   {
    "duration": 16,
    "start_time": "2021-07-07T16:58:36.410Z"
   },
   {
    "duration": 8,
    "start_time": "2021-07-07T17:02:31.629Z"
   },
   {
    "duration": 8,
    "start_time": "2021-07-07T17:02:34.308Z"
   },
   {
    "duration": 6,
    "start_time": "2021-07-07T17:05:13.483Z"
   },
   {
    "duration": 17,
    "start_time": "2021-07-07T17:05:20.606Z"
   },
   {
    "duration": 7,
    "start_time": "2021-07-07T17:05:34.638Z"
   },
   {
    "duration": 3,
    "start_time": "2021-07-07T17:06:31.883Z"
   },
   {
    "duration": 570,
    "start_time": "2021-07-07T17:06:37.165Z"
   },
   {
    "duration": 174,
    "start_time": "2021-07-07T17:06:37.737Z"
   },
   {
    "duration": 47,
    "start_time": "2021-07-07T17:06:37.913Z"
   },
   {
    "duration": 3,
    "start_time": "2021-07-07T17:06:37.962Z"
   },
   {
    "duration": 27,
    "start_time": "2021-07-07T17:06:37.967Z"
   },
   {
    "duration": 7,
    "start_time": "2021-07-07T17:06:37.996Z"
   },
   {
    "duration": 16,
    "start_time": "2021-07-07T17:06:38.005Z"
   },
   {
    "duration": 6,
    "start_time": "2021-07-07T17:06:38.024Z"
   },
   {
    "duration": 12,
    "start_time": "2021-07-07T17:06:38.031Z"
   },
   {
    "duration": 41,
    "start_time": "2021-07-07T17:06:38.045Z"
   },
   {
    "duration": 8,
    "start_time": "2021-07-07T17:06:38.088Z"
   },
   {
    "duration": 26,
    "start_time": "2021-07-07T17:06:38.098Z"
   },
   {
    "duration": 17,
    "start_time": "2021-07-07T17:06:38.126Z"
   },
   {
    "duration": 43,
    "start_time": "2021-07-07T17:06:38.144Z"
   },
   {
    "duration": 6,
    "start_time": "2021-07-07T17:06:38.188Z"
   },
   {
    "duration": 5,
    "start_time": "2021-07-07T17:06:38.195Z"
   },
   {
    "duration": 9,
    "start_time": "2021-07-07T17:06:38.201Z"
   },
   {
    "duration": 12,
    "start_time": "2021-07-07T17:06:38.212Z"
   },
   {
    "duration": 11,
    "start_time": "2021-07-07T17:06:38.226Z"
   },
   {
    "duration": 47,
    "start_time": "2021-07-07T17:06:38.239Z"
   },
   {
    "duration": 4,
    "start_time": "2021-07-07T17:06:38.288Z"
   },
   {
    "duration": 13,
    "start_time": "2021-07-07T17:06:38.293Z"
   },
   {
    "duration": 5,
    "start_time": "2021-07-07T17:06:38.309Z"
   },
   {
    "duration": 18,
    "start_time": "2021-07-07T17:06:38.325Z"
   },
   {
    "duration": 20,
    "start_time": "2021-07-07T17:07:02.805Z"
   },
   {
    "duration": 19,
    "start_time": "2021-07-07T17:07:08.527Z"
   },
   {
    "duration": 19,
    "start_time": "2021-07-07T17:07:12.758Z"
   },
   {
    "duration": 22,
    "start_time": "2021-07-07T17:07:17.497Z"
   },
   {
    "duration": 19,
    "start_time": "2021-07-07T17:07:19.645Z"
   },
   {
    "duration": 10,
    "start_time": "2021-07-07T17:07:34.239Z"
   },
   {
    "duration": 17,
    "start_time": "2021-07-07T17:07:54.144Z"
   },
   {
    "duration": 14,
    "start_time": "2021-07-07T17:08:14.357Z"
   },
   {
    "duration": 616,
    "start_time": "2021-07-07T17:08:45.254Z"
   },
   {
    "duration": 178,
    "start_time": "2021-07-07T17:08:45.872Z"
   },
   {
    "duration": 60,
    "start_time": "2021-07-07T17:08:46.054Z"
   },
   {
    "duration": 3,
    "start_time": "2021-07-07T17:08:46.116Z"
   },
   {
    "duration": 26,
    "start_time": "2021-07-07T17:08:46.121Z"
   },
   {
    "duration": 7,
    "start_time": "2021-07-07T17:08:46.149Z"
   },
   {
    "duration": 17,
    "start_time": "2021-07-07T17:08:46.158Z"
   },
   {
    "duration": 14,
    "start_time": "2021-07-07T17:08:46.176Z"
   },
   {
    "duration": 17,
    "start_time": "2021-07-07T17:08:46.193Z"
   },
   {
    "duration": 9,
    "start_time": "2021-07-07T17:08:46.211Z"
   },
   {
    "duration": 21,
    "start_time": "2021-07-07T17:08:46.221Z"
   },
   {
    "duration": 49,
    "start_time": "2021-07-07T17:08:46.244Z"
   },
   {
    "duration": 24,
    "start_time": "2021-07-07T17:08:46.295Z"
   },
   {
    "duration": 22,
    "start_time": "2021-07-07T17:08:46.321Z"
   },
   {
    "duration": 6,
    "start_time": "2021-07-07T17:08:46.345Z"
   },
   {
    "duration": 5,
    "start_time": "2021-07-07T17:08:46.353Z"
   },
   {
    "duration": 13,
    "start_time": "2021-07-07T17:08:46.386Z"
   },
   {
    "duration": 12,
    "start_time": "2021-07-07T17:08:46.402Z"
   },
   {
    "duration": 10,
    "start_time": "2021-07-07T17:08:46.415Z"
   },
   {
    "duration": 7,
    "start_time": "2021-07-07T17:08:46.427Z"
   },
   {
    "duration": 8,
    "start_time": "2021-07-07T17:08:46.435Z"
   },
   {
    "duration": 68,
    "start_time": "2021-07-07T17:08:46.446Z"
   },
   {
    "duration": 13,
    "start_time": "2021-07-07T17:08:46.516Z"
   },
   {
    "duration": 78,
    "start_time": "2021-07-07T17:08:46.530Z"
   },
   {
    "duration": 40,
    "start_time": "2021-07-07T17:09:08.185Z"
   },
   {
    "duration": 16,
    "start_time": "2021-07-07T17:09:19.324Z"
   },
   {
    "duration": 21,
    "start_time": "2021-07-07T17:09:23.290Z"
   },
   {
    "duration": 13,
    "start_time": "2021-07-07T17:09:54.812Z"
   },
   {
    "duration": 13,
    "start_time": "2021-07-07T17:10:02.039Z"
   },
   {
    "duration": 10,
    "start_time": "2021-07-07T17:10:29.632Z"
   },
   {
    "duration": 13,
    "start_time": "2021-07-07T17:10:52.372Z"
   },
   {
    "duration": 13,
    "start_time": "2021-07-07T17:11:17.270Z"
   },
   {
    "duration": 13,
    "start_time": "2021-07-07T17:14:59.284Z"
   },
   {
    "duration": 547,
    "start_time": "2021-07-07T17:18:52.403Z"
   },
   {
    "duration": 163,
    "start_time": "2021-07-07T17:18:52.952Z"
   },
   {
    "duration": 44,
    "start_time": "2021-07-07T17:18:53.117Z"
   },
   {
    "duration": 3,
    "start_time": "2021-07-07T17:18:53.162Z"
   },
   {
    "duration": 26,
    "start_time": "2021-07-07T17:18:53.167Z"
   },
   {
    "duration": 6,
    "start_time": "2021-07-07T17:18:53.195Z"
   },
   {
    "duration": 15,
    "start_time": "2021-07-07T17:18:53.203Z"
   },
   {
    "duration": 5,
    "start_time": "2021-07-07T17:18:53.220Z"
   },
   {
    "duration": 11,
    "start_time": "2021-07-07T17:18:53.228Z"
   },
   {
    "duration": 9,
    "start_time": "2021-07-07T17:18:53.241Z"
   },
   {
    "duration": 41,
    "start_time": "2021-07-07T17:18:53.252Z"
   },
   {
    "duration": 33,
    "start_time": "2021-07-07T17:18:53.295Z"
   },
   {
    "duration": 19,
    "start_time": "2021-07-07T17:18:53.330Z"
   },
   {
    "duration": 49,
    "start_time": "2021-07-07T17:18:53.350Z"
   },
   {
    "duration": 5,
    "start_time": "2021-07-07T17:18:53.401Z"
   },
   {
    "duration": 5,
    "start_time": "2021-07-07T17:18:53.408Z"
   },
   {
    "duration": 11,
    "start_time": "2021-07-07T17:18:53.414Z"
   },
   {
    "duration": 9,
    "start_time": "2021-07-07T17:18:53.427Z"
   },
   {
    "duration": 10,
    "start_time": "2021-07-07T17:18:53.437Z"
   },
   {
    "duration": 39,
    "start_time": "2021-07-07T17:18:53.448Z"
   },
   {
    "duration": 26,
    "start_time": "2021-07-07T17:18:55.799Z"
   },
   {
    "duration": 598,
    "start_time": "2021-07-07T17:20:17.862Z"
   },
   {
    "duration": 161,
    "start_time": "2021-07-07T17:20:18.462Z"
   },
   {
    "duration": 45,
    "start_time": "2021-07-07T17:20:18.626Z"
   },
   {
    "duration": 4,
    "start_time": "2021-07-07T17:20:18.673Z"
   },
   {
    "duration": 38,
    "start_time": "2021-07-07T17:20:26.877Z"
   },
   {
    "duration": 7,
    "start_time": "2021-07-07T17:20:37.405Z"
   },
   {
    "duration": 19,
    "start_time": "2021-07-07T17:20:51.534Z"
   },
   {
    "duration": 5,
    "start_time": "2021-07-07T17:20:57.228Z"
   },
   {
    "duration": 7,
    "start_time": "2021-07-07T17:21:08.235Z"
   },
   {
    "duration": 19,
    "start_time": "2021-07-07T17:21:42.158Z"
   },
   {
    "duration": 14,
    "start_time": "2021-07-07T17:21:50.225Z"
   },
   {
    "duration": 22,
    "start_time": "2021-07-07T17:22:54.104Z"
   },
   {
    "duration": 5,
    "start_time": "2021-07-07T17:22:56.371Z"
   },
   {
    "duration": 14,
    "start_time": "2021-07-07T17:22:58.316Z"
   },
   {
    "duration": 5,
    "start_time": "2021-07-07T17:22:58.493Z"
   },
   {
    "duration": 35,
    "start_time": "2021-07-07T17:22:59.666Z"
   },
   {
    "duration": 6,
    "start_time": "2021-07-07T17:23:02.410Z"
   },
   {
    "duration": 611,
    "start_time": "2021-07-07T17:24:59.664Z"
   },
   {
    "duration": 178,
    "start_time": "2021-07-07T17:25:01.945Z"
   },
   {
    "duration": 47,
    "start_time": "2021-07-07T17:25:02.125Z"
   },
   {
    "duration": 2,
    "start_time": "2021-07-07T17:25:07.903Z"
   },
   {
    "duration": 254,
    "start_time": "2021-07-07T17:25:08.232Z"
   },
   {
    "duration": 182,
    "start_time": "2021-07-07T17:25:08.671Z"
   },
   {
    "duration": 6,
    "start_time": "2021-07-07T17:25:13.104Z"
   },
   {
    "duration": 36,
    "start_time": "2021-07-07T17:25:13.662Z"
   },
   {
    "duration": 7,
    "start_time": "2021-07-07T17:25:14.528Z"
   },
   {
    "duration": 24,
    "start_time": "2021-07-07T17:25:27.982Z"
   },
   {
    "duration": 3,
    "start_time": "2021-07-07T17:25:48.982Z"
   },
   {
    "duration": 165,
    "start_time": "2021-07-07T17:25:48.987Z"
   },
   {
    "duration": 50,
    "start_time": "2021-07-07T17:25:49.154Z"
   },
   {
    "duration": 4,
    "start_time": "2021-07-07T17:25:49.206Z"
   },
   {
    "duration": 26,
    "start_time": "2021-07-07T17:25:49.212Z"
   },
   {
    "duration": 7,
    "start_time": "2021-07-07T17:25:49.240Z"
   },
   {
    "duration": 16,
    "start_time": "2021-07-07T17:25:49.249Z"
   },
   {
    "duration": 22,
    "start_time": "2021-07-07T17:25:49.266Z"
   },
   {
    "duration": 16,
    "start_time": "2021-07-07T17:25:49.291Z"
   },
   {
    "duration": 9,
    "start_time": "2021-07-07T17:25:49.309Z"
   },
   {
    "duration": 7,
    "start_time": "2021-07-07T17:25:49.319Z"
   },
   {
    "duration": 28,
    "start_time": "2021-07-07T17:25:49.328Z"
   },
   {
    "duration": 44,
    "start_time": "2021-07-07T17:25:49.357Z"
   },
   {
    "duration": 22,
    "start_time": "2021-07-07T17:25:49.403Z"
   },
   {
    "duration": 7,
    "start_time": "2021-07-07T17:25:49.427Z"
   },
   {
    "duration": 3,
    "start_time": "2021-07-07T17:25:49.436Z"
   },
   {
    "duration": 44,
    "start_time": "2021-07-07T17:25:49.441Z"
   },
   {
    "duration": 12,
    "start_time": "2021-07-07T17:25:49.488Z"
   },
   {
    "duration": 13,
    "start_time": "2021-07-07T17:25:49.502Z"
   },
   {
    "duration": 10,
    "start_time": "2021-07-07T17:25:49.516Z"
   },
   {
    "duration": 62,
    "start_time": "2021-07-07T17:25:49.527Z"
   },
   {
    "duration": 26,
    "start_time": "2021-07-07T17:26:51.809Z"
   },
   {
    "duration": 26,
    "start_time": "2021-07-07T17:26:55.759Z"
   },
   {
    "duration": 26,
    "start_time": "2021-07-07T17:27:04.501Z"
   },
   {
    "duration": 25,
    "start_time": "2021-07-07T17:28:24.859Z"
   },
   {
    "duration": 21,
    "start_time": "2021-07-07T17:28:55.250Z"
   },
   {
    "duration": 21,
    "start_time": "2021-07-07T17:28:58.885Z"
   },
   {
    "duration": 7,
    "start_time": "2021-07-07T17:45:40.972Z"
   },
   {
    "duration": 13,
    "start_time": "2021-07-07T17:45:42.529Z"
   },
   {
    "duration": 27,
    "start_time": "2021-07-07T17:45:51.026Z"
   },
   {
    "duration": 518,
    "start_time": "2021-07-07T17:46:15.532Z"
   },
   {
    "duration": 235,
    "start_time": "2021-07-07T17:46:16.053Z"
   },
   {
    "duration": 80,
    "start_time": "2021-07-07T17:46:16.292Z"
   },
   {
    "duration": 5,
    "start_time": "2021-07-07T17:46:16.373Z"
   },
   {
    "duration": 26,
    "start_time": "2021-07-07T17:46:16.380Z"
   },
   {
    "duration": 7,
    "start_time": "2021-07-07T17:46:16.408Z"
   },
   {
    "duration": 16,
    "start_time": "2021-07-07T17:46:16.418Z"
   },
   {
    "duration": 5,
    "start_time": "2021-07-07T17:46:16.436Z"
   },
   {
    "duration": 13,
    "start_time": "2021-07-07T17:46:16.442Z"
   },
   {
    "duration": 35,
    "start_time": "2021-07-07T17:46:16.456Z"
   },
   {
    "duration": 8,
    "start_time": "2021-07-07T17:46:16.493Z"
   },
   {
    "duration": 28,
    "start_time": "2021-07-07T17:46:16.502Z"
   },
   {
    "duration": 17,
    "start_time": "2021-07-07T17:46:16.532Z"
   },
   {
    "duration": 44,
    "start_time": "2021-07-07T17:46:16.551Z"
   },
   {
    "duration": 6,
    "start_time": "2021-07-07T17:46:16.597Z"
   },
   {
    "duration": 4,
    "start_time": "2021-07-07T17:46:16.605Z"
   },
   {
    "duration": 9,
    "start_time": "2021-07-07T17:46:16.610Z"
   },
   {
    "duration": 9,
    "start_time": "2021-07-07T17:46:16.621Z"
   },
   {
    "duration": 10,
    "start_time": "2021-07-07T17:46:16.632Z"
   },
   {
    "duration": 43,
    "start_time": "2021-07-07T17:46:16.644Z"
   },
   {
    "duration": 26,
    "start_time": "2021-07-07T17:46:16.689Z"
   },
   {
    "duration": 19,
    "start_time": "2021-07-07T17:46:16.718Z"
   },
   {
    "duration": 8,
    "start_time": "2021-07-07T17:46:16.738Z"
   },
   {
    "duration": 43,
    "start_time": "2021-07-07T17:46:16.747Z"
   },
   {
    "duration": 19,
    "start_time": "2021-07-07T17:46:16.791Z"
   },
   {
    "duration": 9,
    "start_time": "2021-07-07T17:46:16.812Z"
   },
   {
    "duration": 60,
    "start_time": "2021-07-07T17:46:16.822Z"
   },
   {
    "duration": -8,
    "start_time": "2021-07-07T17:46:16.892Z"
   },
   {
    "duration": 12,
    "start_time": "2021-07-07T17:48:47.707Z"
   },
   {
    "duration": 553,
    "start_time": "2021-07-07T18:10:09.350Z"
   },
   {
    "duration": 230,
    "start_time": "2021-07-07T18:10:09.905Z"
   },
   {
    "duration": 97,
    "start_time": "2021-07-07T18:10:10.137Z"
   },
   {
    "duration": 5,
    "start_time": "2021-07-07T18:10:10.236Z"
   },
   {
    "duration": 29,
    "start_time": "2021-07-07T18:10:10.242Z"
   },
   {
    "duration": 7,
    "start_time": "2021-07-07T18:10:10.272Z"
   },
   {
    "duration": 15,
    "start_time": "2021-07-07T18:10:10.281Z"
   },
   {
    "duration": 4,
    "start_time": "2021-07-07T18:10:10.299Z"
   },
   {
    "duration": 14,
    "start_time": "2021-07-07T18:10:10.305Z"
   },
   {
    "duration": 8,
    "start_time": "2021-07-07T18:10:10.321Z"
   },
   {
    "duration": 8,
    "start_time": "2021-07-07T18:10:10.331Z"
   },
   {
    "duration": 56,
    "start_time": "2021-07-07T18:10:10.341Z"
   },
   {
    "duration": 19,
    "start_time": "2021-07-07T18:10:10.399Z"
   },
   {
    "duration": 23,
    "start_time": "2021-07-07T18:10:10.419Z"
   },
   {
    "duration": 6,
    "start_time": "2021-07-07T18:10:10.444Z"
   },
   {
    "duration": 9,
    "start_time": "2021-07-07T18:10:10.451Z"
   },
   {
    "duration": 30,
    "start_time": "2021-07-07T18:10:10.462Z"
   },
   {
    "duration": 9,
    "start_time": "2021-07-07T18:10:10.494Z"
   },
   {
    "duration": 14,
    "start_time": "2021-07-07T18:10:10.505Z"
   },
   {
    "duration": 7,
    "start_time": "2021-07-07T18:10:10.521Z"
   },
   {
    "duration": 26,
    "start_time": "2021-07-07T18:10:10.530Z"
   },
   {
    "duration": 44,
    "start_time": "2021-07-07T18:10:10.558Z"
   },
   {
    "duration": 7,
    "start_time": "2021-07-07T18:10:10.605Z"
   },
   {
    "duration": 11,
    "start_time": "2021-07-07T18:10:10.614Z"
   },
   {
    "duration": 19,
    "start_time": "2021-07-07T18:10:10.626Z"
   },
   {
    "duration": 44,
    "start_time": "2021-07-07T18:10:10.646Z"
   },
   {
    "duration": 516,
    "start_time": "2021-07-07T18:14:00.826Z"
   },
   {
    "duration": 230,
    "start_time": "2021-07-07T18:14:01.344Z"
   },
   {
    "duration": 105,
    "start_time": "2021-07-07T18:14:01.576Z"
   },
   {
    "duration": 5,
    "start_time": "2021-07-07T18:14:01.683Z"
   },
   {
    "duration": 46,
    "start_time": "2021-07-07T18:14:01.690Z"
   },
   {
    "duration": 7,
    "start_time": "2021-07-07T18:14:01.738Z"
   },
   {
    "duration": 20,
    "start_time": "2021-07-07T18:14:01.747Z"
   },
   {
    "duration": 16,
    "start_time": "2021-07-07T18:14:01.769Z"
   },
   {
    "duration": 14,
    "start_time": "2021-07-07T18:14:01.787Z"
   },
   {
    "duration": 15,
    "start_time": "2021-07-07T18:14:01.803Z"
   },
   {
    "duration": 12,
    "start_time": "2021-07-07T18:14:01.820Z"
   },
   {
    "duration": 35,
    "start_time": "2021-07-07T18:14:01.833Z"
   },
   {
    "duration": 31,
    "start_time": "2021-07-07T18:14:01.869Z"
   },
   {
    "duration": 37,
    "start_time": "2021-07-07T18:14:01.902Z"
   },
   {
    "duration": 8,
    "start_time": "2021-07-07T18:14:01.942Z"
   },
   {
    "duration": 16,
    "start_time": "2021-07-07T18:14:01.952Z"
   },
   {
    "duration": 13,
    "start_time": "2021-07-07T18:14:01.970Z"
   },
   {
    "duration": 32,
    "start_time": "2021-07-07T18:14:01.985Z"
   },
   {
    "duration": 11,
    "start_time": "2021-07-07T18:14:02.019Z"
   },
   {
    "duration": 22,
    "start_time": "2021-07-07T18:14:02.031Z"
   },
   {
    "duration": 27,
    "start_time": "2021-07-07T18:14:02.055Z"
   },
   {
    "duration": 18,
    "start_time": "2021-07-07T18:14:02.084Z"
   },
   {
    "duration": 18,
    "start_time": "2021-07-07T18:14:02.106Z"
   },
   {
    "duration": 11,
    "start_time": "2021-07-07T18:14:02.126Z"
   },
   {
    "duration": 21,
    "start_time": "2021-07-07T18:14:02.138Z"
   },
   {
    "duration": 32,
    "start_time": "2021-07-07T18:14:02.161Z"
   },
   {
    "duration": 28,
    "start_time": "2021-07-07T18:14:44.295Z"
   },
   {
    "duration": 6,
    "start_time": "2021-07-07T18:15:05.834Z"
   },
   {
    "duration": 511,
    "start_time": "2021-07-07T18:15:41.541Z"
   },
   {
    "duration": 183,
    "start_time": "2021-07-07T18:15:42.054Z"
   },
   {
    "duration": 50,
    "start_time": "2021-07-07T18:15:42.239Z"
   },
   {
    "duration": 5,
    "start_time": "2021-07-07T18:15:42.291Z"
   },
   {
    "duration": 48,
    "start_time": "2021-07-07T18:15:42.297Z"
   },
   {
    "duration": 8,
    "start_time": "2021-07-07T18:15:42.346Z"
   },
   {
    "duration": 17,
    "start_time": "2021-07-07T18:15:42.356Z"
   },
   {
    "duration": 15,
    "start_time": "2021-07-07T18:15:42.375Z"
   },
   {
    "duration": 12,
    "start_time": "2021-07-07T18:15:42.392Z"
   },
   {
    "duration": 7,
    "start_time": "2021-07-07T18:15:42.406Z"
   },
   {
    "duration": 7,
    "start_time": "2021-07-07T18:15:42.415Z"
   },
   {
    "duration": 29,
    "start_time": "2021-07-07T18:15:42.423Z"
   },
   {
    "duration": 43,
    "start_time": "2021-07-07T18:15:42.453Z"
   },
   {
    "duration": 18,
    "start_time": "2021-07-07T18:15:42.497Z"
   },
   {
    "duration": 6,
    "start_time": "2021-07-07T18:15:42.516Z"
   },
   {
    "duration": 3,
    "start_time": "2021-07-07T18:15:42.523Z"
   },
   {
    "duration": 18,
    "start_time": "2021-07-07T18:15:42.528Z"
   },
   {
    "duration": 10,
    "start_time": "2021-07-07T18:15:42.547Z"
   },
   {
    "duration": 36,
    "start_time": "2021-07-07T18:15:42.559Z"
   },
   {
    "duration": 8,
    "start_time": "2021-07-07T18:15:42.597Z"
   },
   {
    "duration": 28,
    "start_time": "2021-07-07T18:15:42.606Z"
   },
   {
    "duration": 52,
    "start_time": "2021-07-07T18:15:42.635Z"
   },
   {
    "duration": 7,
    "start_time": "2021-07-07T18:15:42.690Z"
   },
   {
    "duration": 10,
    "start_time": "2021-07-07T18:15:42.699Z"
   },
   {
    "duration": 19,
    "start_time": "2021-07-07T18:15:42.711Z"
   },
   {
    "duration": 9,
    "start_time": "2021-07-07T18:15:42.732Z"
   },
   {
    "duration": 5,
    "start_time": "2021-07-07T18:15:42.743Z"
   },
   {
    "duration": 1450,
    "start_time": "2021-07-07T18:15:51.984Z"
   },
   {
    "duration": 161,
    "start_time": "2021-07-07T18:15:53.435Z"
   },
   {
    "duration": 124,
    "start_time": "2021-07-07T18:15:53.598Z"
   },
   {
    "duration": 5,
    "start_time": "2021-07-07T18:15:53.724Z"
   },
   {
    "duration": 34,
    "start_time": "2021-07-07T18:15:53.730Z"
   },
   {
    "duration": 7,
    "start_time": "2021-07-07T18:15:53.765Z"
   },
   {
    "duration": 15,
    "start_time": "2021-07-07T18:15:53.773Z"
   },
   {
    "duration": 5,
    "start_time": "2021-07-07T18:15:53.791Z"
   },
   {
    "duration": 19,
    "start_time": "2021-07-07T18:15:53.798Z"
   },
   {
    "duration": 9,
    "start_time": "2021-07-07T18:15:53.818Z"
   },
   {
    "duration": 19,
    "start_time": "2021-07-07T18:15:53.828Z"
   },
   {
    "duration": 27,
    "start_time": "2021-07-07T18:15:53.848Z"
   },
   {
    "duration": 16,
    "start_time": "2021-07-07T18:15:53.884Z"
   },
   {
    "duration": 29,
    "start_time": "2021-07-07T18:15:53.901Z"
   },
   {
    "duration": 5,
    "start_time": "2021-07-07T18:15:53.932Z"
   },
   {
    "duration": 15,
    "start_time": "2021-07-07T18:15:53.939Z"
   },
   {
    "duration": 13,
    "start_time": "2021-07-07T18:15:53.956Z"
   },
   {
    "duration": 20,
    "start_time": "2021-07-07T18:15:53.971Z"
   },
   {
    "duration": 14,
    "start_time": "2021-07-07T18:15:53.992Z"
   },
   {
    "duration": 9,
    "start_time": "2021-07-07T18:15:54.009Z"
   },
   {
    "duration": 28,
    "start_time": "2021-07-07T18:15:54.020Z"
   },
   {
    "duration": 50,
    "start_time": "2021-07-07T18:15:54.051Z"
   },
   {
    "duration": 8,
    "start_time": "2021-07-07T18:15:54.105Z"
   },
   {
    "duration": 11,
    "start_time": "2021-07-07T18:15:54.115Z"
   },
   {
    "duration": 20,
    "start_time": "2021-07-07T18:15:54.128Z"
   },
   {
    "duration": 13,
    "start_time": "2021-07-07T18:15:54.184Z"
   },
   {
    "duration": 7,
    "start_time": "2021-07-07T18:15:54.199Z"
   },
   {
    "duration": 7,
    "start_time": "2021-07-07T18:17:08.042Z"
   },
   {
    "duration": 8,
    "start_time": "2021-07-07T18:17:21.008Z"
   },
   {
    "duration": 7,
    "start_time": "2021-07-07T18:17:29.003Z"
   },
   {
    "duration": 8,
    "start_time": "2021-07-07T18:17:32.492Z"
   },
   {
    "duration": 9,
    "start_time": "2021-07-07T18:17:41.758Z"
   },
   {
    "duration": 255,
    "start_time": "2021-07-07T18:20:20.897Z"
   },
   {
    "duration": 173,
    "start_time": "2021-07-07T18:20:26.636Z"
   },
   {
    "duration": 7,
    "start_time": "2021-07-07T18:21:47.164Z"
   },
   {
    "duration": 254,
    "start_time": "2021-07-07T18:23:08.703Z"
   },
   {
    "duration": 21,
    "start_time": "2021-07-07T18:23:22.506Z"
   },
   {
    "duration": 315,
    "start_time": "2021-07-07T18:25:54.801Z"
   },
   {
    "duration": 34,
    "start_time": "2021-07-07T18:26:51.817Z"
   },
   {
    "duration": 327,
    "start_time": "2021-07-07T18:26:56.147Z"
   },
   {
    "duration": 342,
    "start_time": "2021-07-07T18:27:15.887Z"
   },
   {
    "duration": 302,
    "start_time": "2021-07-07T18:28:18.569Z"
   },
   {
    "duration": 226,
    "start_time": "2021-07-07T18:29:20.879Z"
   },
   {
    "duration": 207,
    "start_time": "2021-07-07T18:29:58.114Z"
   },
   {
    "duration": 140,
    "start_time": "2021-07-07T18:32:04.372Z"
   },
   {
    "duration": 158,
    "start_time": "2021-07-07T18:32:32.508Z"
   },
   {
    "duration": 145,
    "start_time": "2021-07-07T18:32:41.365Z"
   },
   {
    "duration": 132,
    "start_time": "2021-07-07T18:32:45.199Z"
   },
   {
    "duration": 11,
    "start_time": "2021-07-07T18:35:24.679Z"
   },
   {
    "duration": 268,
    "start_time": "2021-07-07T18:36:16.145Z"
   },
   {
    "duration": 227,
    "start_time": "2021-07-07T18:37:04.918Z"
   },
   {
    "duration": 3,
    "start_time": "2021-07-07T18:37:33.012Z"
   },
   {
    "duration": 671,
    "start_time": "2021-07-07T18:37:38.295Z"
   },
   {
    "duration": 54,
    "start_time": "2021-07-07T18:37:53.406Z"
   },
   {
    "duration": 631,
    "start_time": "2021-07-07T18:37:56.463Z"
   },
   {
    "duration": 19,
    "start_time": "2021-07-07T18:39:40.535Z"
   },
   {
    "duration": 20,
    "start_time": "2021-07-07T18:40:12.236Z"
   },
   {
    "duration": 633,
    "start_time": "2021-07-07T18:42:00.398Z"
   },
   {
    "duration": 218,
    "start_time": "2021-07-07T18:42:01.033Z"
   },
   {
    "duration": 49,
    "start_time": "2021-07-07T18:42:01.253Z"
   },
   {
    "duration": 5,
    "start_time": "2021-07-07T18:42:01.303Z"
   },
   {
    "duration": 27,
    "start_time": "2021-07-07T18:42:01.310Z"
   },
   {
    "duration": 8,
    "start_time": "2021-07-07T18:42:01.339Z"
   },
   {
    "duration": 20,
    "start_time": "2021-07-07T18:42:01.348Z"
   },
   {
    "duration": 6,
    "start_time": "2021-07-07T18:42:01.386Z"
   },
   {
    "duration": 16,
    "start_time": "2021-07-07T18:42:01.394Z"
   },
   {
    "duration": 9,
    "start_time": "2021-07-07T18:42:01.411Z"
   },
   {
    "duration": 11,
    "start_time": "2021-07-07T18:42:01.421Z"
   },
   {
    "duration": 31,
    "start_time": "2021-07-07T18:42:01.434Z"
   },
   {
    "duration": 18,
    "start_time": "2021-07-07T18:42:01.485Z"
   },
   {
    "duration": 23,
    "start_time": "2021-07-07T18:42:01.505Z"
   },
   {
    "duration": 6,
    "start_time": "2021-07-07T18:42:01.530Z"
   },
   {
    "duration": 10,
    "start_time": "2021-07-07T18:42:01.538Z"
   },
   {
    "duration": 13,
    "start_time": "2021-07-07T18:42:01.550Z"
   },
   {
    "duration": 24,
    "start_time": "2021-07-07T18:42:01.564Z"
   },
   {
    "duration": 20,
    "start_time": "2021-07-07T18:42:01.590Z"
   },
   {
    "duration": 8,
    "start_time": "2021-07-07T18:42:01.611Z"
   },
   {
    "duration": 31,
    "start_time": "2021-07-07T18:42:01.620Z"
   },
   {
    "duration": 39,
    "start_time": "2021-07-07T18:42:01.653Z"
   },
   {
    "duration": 8,
    "start_time": "2021-07-07T18:42:01.696Z"
   },
   {
    "duration": 13,
    "start_time": "2021-07-07T18:42:01.705Z"
   },
   {
    "duration": 20,
    "start_time": "2021-07-07T18:42:01.720Z"
   },
   {
    "duration": 12,
    "start_time": "2021-07-07T18:42:01.741Z"
   },
   {
    "duration": 35,
    "start_time": "2021-07-07T18:42:01.755Z"
   },
   {
    "duration": 14,
    "start_time": "2021-07-07T18:42:01.792Z"
   },
   {
    "duration": 188,
    "start_time": "2021-07-07T18:42:01.808Z"
   },
   {
    "duration": 19,
    "start_time": "2021-07-07T18:42:01.998Z"
   },
   {
    "duration": 175,
    "start_time": "2021-07-07T18:42:02.019Z"
   },
   {
    "duration": 134,
    "start_time": "2021-07-07T18:42:02.196Z"
   },
   {
    "duration": 10,
    "start_time": "2021-07-07T18:42:02.331Z"
   },
   {
    "duration": 19,
    "start_time": "2021-07-07T18:42:02.343Z"
   },
   {
    "duration": 628,
    "start_time": "2021-07-07T18:46:30.701Z"
   },
   {
    "duration": 183,
    "start_time": "2021-07-07T18:46:31.331Z"
   },
   {
    "duration": 48,
    "start_time": "2021-07-07T18:46:31.516Z"
   },
   {
    "duration": 5,
    "start_time": "2021-07-07T18:46:31.566Z"
   },
   {
    "duration": 28,
    "start_time": "2021-07-07T18:46:31.572Z"
   },
   {
    "duration": 8,
    "start_time": "2021-07-07T18:46:31.602Z"
   },
   {
    "duration": 19,
    "start_time": "2021-07-07T18:46:31.611Z"
   },
   {
    "duration": 6,
    "start_time": "2021-07-07T18:46:31.633Z"
   },
   {
    "duration": 17,
    "start_time": "2021-07-07T18:46:31.642Z"
   },
   {
    "duration": 10,
    "start_time": "2021-07-07T18:46:31.684Z"
   },
   {
    "duration": 9,
    "start_time": "2021-07-07T18:46:31.695Z"
   },
   {
    "duration": 28,
    "start_time": "2021-07-07T18:46:31.705Z"
   },
   {
    "duration": 18,
    "start_time": "2021-07-07T18:46:31.735Z"
   },
   {
    "duration": 48,
    "start_time": "2021-07-07T18:46:31.755Z"
   },
   {
    "duration": 6,
    "start_time": "2021-07-07T18:46:31.804Z"
   },
   {
    "duration": 4,
    "start_time": "2021-07-07T18:46:31.812Z"
   },
   {
    "duration": 9,
    "start_time": "2021-07-07T18:46:31.817Z"
   },
   {
    "duration": 10,
    "start_time": "2021-07-07T18:46:31.827Z"
   },
   {
    "duration": 12,
    "start_time": "2021-07-07T18:46:31.838Z"
   },
   {
    "duration": 39,
    "start_time": "2021-07-07T18:46:31.851Z"
   },
   {
    "duration": 24,
    "start_time": "2021-07-07T18:46:31.892Z"
   },
   {
    "duration": 15,
    "start_time": "2021-07-07T18:46:31.918Z"
   },
   {
    "duration": 7,
    "start_time": "2021-07-07T18:46:31.936Z"
   },
   {
    "duration": 8,
    "start_time": "2021-07-07T18:46:31.944Z"
   },
   {
    "duration": 19,
    "start_time": "2021-07-07T18:46:31.984Z"
   },
   {
    "duration": 10,
    "start_time": "2021-07-07T18:46:32.004Z"
   },
   {
    "duration": 5,
    "start_time": "2021-07-07T18:46:32.016Z"
   },
   {
    "duration": 9,
    "start_time": "2021-07-07T18:46:32.023Z"
   },
   {
    "duration": 199,
    "start_time": "2021-07-07T18:46:32.033Z"
   },
   {
    "duration": 19,
    "start_time": "2021-07-07T18:46:32.234Z"
   },
   {
    "duration": 159,
    "start_time": "2021-07-07T18:46:32.255Z"
   },
   {
    "duration": 134,
    "start_time": "2021-07-07T18:46:32.416Z"
   },
   {
    "duration": 10,
    "start_time": "2021-07-07T18:46:32.552Z"
   },
   {
    "duration": 34,
    "start_time": "2021-07-07T18:46:32.563Z"
   },
   {
    "duration": 1039,
    "start_time": "2021-07-08T08:41:09.419Z"
   },
   {
    "duration": 333,
    "start_time": "2021-07-08T08:41:10.459Z"
   },
   {
    "duration": 173,
    "start_time": "2021-07-08T08:41:10.794Z"
   },
   {
    "duration": 5,
    "start_time": "2021-07-08T08:41:10.968Z"
   },
   {
    "duration": 25,
    "start_time": "2021-07-08T08:41:10.975Z"
   },
   {
    "duration": 9,
    "start_time": "2021-07-08T08:41:11.002Z"
   },
   {
    "duration": 18,
    "start_time": "2021-07-08T08:41:11.013Z"
   },
   {
    "duration": 6,
    "start_time": "2021-07-08T08:41:11.033Z"
   },
   {
    "duration": 44,
    "start_time": "2021-07-08T08:41:11.042Z"
   },
   {
    "duration": 10,
    "start_time": "2021-07-08T08:41:11.088Z"
   },
   {
    "duration": 9,
    "start_time": "2021-07-08T08:41:11.100Z"
   },
   {
    "duration": 27,
    "start_time": "2021-07-08T08:41:11.111Z"
   },
   {
    "duration": 46,
    "start_time": "2021-07-08T08:41:11.140Z"
   },
   {
    "duration": 17,
    "start_time": "2021-07-08T08:41:11.187Z"
   },
   {
    "duration": 6,
    "start_time": "2021-07-08T08:41:11.206Z"
   },
   {
    "duration": 5,
    "start_time": "2021-07-08T08:41:11.213Z"
   },
   {
    "duration": 10,
    "start_time": "2021-07-08T08:41:11.219Z"
   },
   {
    "duration": 9,
    "start_time": "2021-07-08T08:41:11.230Z"
   },
   {
    "duration": 45,
    "start_time": "2021-07-08T08:41:11.241Z"
   },
   {
    "duration": 7,
    "start_time": "2021-07-08T08:41:11.287Z"
   },
   {
    "duration": 24,
    "start_time": "2021-07-08T08:41:11.296Z"
   },
   {
    "duration": 16,
    "start_time": "2021-07-08T08:41:11.322Z"
   },
   {
    "duration": 7,
    "start_time": "2021-07-08T08:41:11.341Z"
   },
   {
    "duration": 41,
    "start_time": "2021-07-08T08:41:11.349Z"
   },
   {
    "duration": 17,
    "start_time": "2021-07-08T08:41:11.391Z"
   },
   {
    "duration": 9,
    "start_time": "2021-07-08T08:41:11.410Z"
   },
   {
    "duration": 5,
    "start_time": "2021-07-08T08:41:11.421Z"
   },
   {
    "duration": 6,
    "start_time": "2021-07-08T08:41:11.428Z"
   },
   {
    "duration": 198,
    "start_time": "2021-07-08T08:41:11.435Z"
   },
   {
    "duration": 18,
    "start_time": "2021-07-08T08:41:11.635Z"
   },
   {
    "duration": 155,
    "start_time": "2021-07-08T08:41:11.655Z"
   },
   {
    "duration": 138,
    "start_time": "2021-07-08T08:41:11.811Z"
   },
   {
    "duration": 10,
    "start_time": "2021-07-08T08:41:11.950Z"
   },
   {
    "duration": 29,
    "start_time": "2021-07-08T08:41:11.961Z"
   },
   {
    "duration": 171,
    "start_time": "2021-07-08T08:47:44.522Z"
   },
   {
    "duration": 124,
    "start_time": "2021-07-08T08:47:46.872Z"
   },
   {
    "duration": 191,
    "start_time": "2021-07-08T08:47:58.148Z"
   },
   {
    "duration": 191,
    "start_time": "2021-07-08T08:48:07.412Z"
   },
   {
    "duration": 261,
    "start_time": "2021-07-08T08:48:10.385Z"
   },
   {
    "duration": 255,
    "start_time": "2021-07-08T08:48:14.494Z"
   },
   {
    "duration": 219,
    "start_time": "2021-07-08T08:48:22.752Z"
   },
   {
    "duration": 173,
    "start_time": "2021-07-08T08:49:06.395Z"
   },
   {
    "duration": 180,
    "start_time": "2021-07-08T08:49:21.011Z"
   },
   {
    "duration": 6,
    "start_time": "2021-07-08T08:50:31.697Z"
   },
   {
    "duration": 10,
    "start_time": "2021-07-08T08:50:47.394Z"
   },
   {
    "duration": 11,
    "start_time": "2021-07-08T08:53:49.332Z"
   },
   {
    "duration": 171,
    "start_time": "2021-07-08T08:54:28.408Z"
   },
   {
    "duration": 636,
    "start_time": "2021-07-08T09:02:48.385Z"
   },
   {
    "duration": 227,
    "start_time": "2021-07-08T09:02:49.023Z"
   },
   {
    "duration": 104,
    "start_time": "2021-07-08T09:02:49.252Z"
   },
   {
    "duration": 5,
    "start_time": "2021-07-08T09:02:49.358Z"
   },
   {
    "duration": 27,
    "start_time": "2021-07-08T09:02:49.365Z"
   },
   {
    "duration": 8,
    "start_time": "2021-07-08T09:02:49.394Z"
   },
   {
    "duration": 18,
    "start_time": "2021-07-08T09:02:49.404Z"
   },
   {
    "duration": 6,
    "start_time": "2021-07-08T09:02:49.424Z"
   },
   {
    "duration": 11,
    "start_time": "2021-07-08T09:02:49.433Z"
   },
   {
    "duration": 13,
    "start_time": "2021-07-08T09:02:49.485Z"
   },
   {
    "duration": 9,
    "start_time": "2021-07-08T09:02:49.500Z"
   },
   {
    "duration": 38,
    "start_time": "2021-07-08T09:02:49.511Z"
   },
   {
    "duration": 42,
    "start_time": "2021-07-08T09:02:49.551Z"
   },
   {
    "duration": 21,
    "start_time": "2021-07-08T09:02:49.594Z"
   },
   {
    "duration": 6,
    "start_time": "2021-07-08T09:02:49.616Z"
   },
   {
    "duration": 3,
    "start_time": "2021-07-08T09:02:49.623Z"
   },
   {
    "duration": 9,
    "start_time": "2021-07-08T09:02:49.628Z"
   },
   {
    "duration": 52,
    "start_time": "2021-07-08T09:02:49.638Z"
   },
   {
    "duration": 11,
    "start_time": "2021-07-08T09:02:49.692Z"
   },
   {
    "duration": 8,
    "start_time": "2021-07-08T09:02:49.704Z"
   },
   {
    "duration": 27,
    "start_time": "2021-07-08T09:02:49.713Z"
   },
   {
    "duration": 59,
    "start_time": "2021-07-08T09:02:49.741Z"
   },
   {
    "duration": 8,
    "start_time": "2021-07-08T09:02:49.803Z"
   },
   {
    "duration": 14,
    "start_time": "2021-07-08T09:02:49.813Z"
   },
   {
    "duration": 20,
    "start_time": "2021-07-08T09:02:49.829Z"
   },
   {
    "duration": 44,
    "start_time": "2021-07-08T09:02:49.851Z"
   },
   {
    "duration": 14,
    "start_time": "2021-07-08T09:02:49.896Z"
   },
   {
    "duration": 221,
    "start_time": "2021-07-08T09:02:49.912Z"
   },
   {
    "duration": 6,
    "start_time": "2021-07-08T09:02:50.134Z"
   },
   {
    "duration": 206,
    "start_time": "2021-07-08T09:02:50.142Z"
   },
   {
    "duration": 19,
    "start_time": "2021-07-08T09:02:50.350Z"
   },
   {
    "duration": 21,
    "start_time": "2021-07-08T09:02:50.370Z"
   },
   {
    "duration": 20,
    "start_time": "2021-07-08T09:02:50.393Z"
   },
   {
    "duration": 5,
    "start_time": "2021-07-08T09:02:50.414Z"
   },
   {
    "duration": 5,
    "start_time": "2021-07-08T09:03:34.173Z"
   },
   {
    "duration": 6,
    "start_time": "2021-07-08T09:04:49.062Z"
   },
   {
    "duration": 9,
    "start_time": "2021-07-08T09:04:50.118Z"
   },
   {
    "duration": 14,
    "start_time": "2021-07-08T09:04:58.512Z"
   },
   {
    "duration": 9,
    "start_time": "2021-07-08T09:05:10.988Z"
   },
   {
    "duration": 11,
    "start_time": "2021-07-08T09:05:11.743Z"
   },
   {
    "duration": 7,
    "start_time": "2021-07-08T09:05:25.677Z"
   },
   {
    "duration": 13,
    "start_time": "2021-07-08T09:05:47.189Z"
   },
   {
    "duration": 13,
    "start_time": "2021-07-08T09:05:54.755Z"
   },
   {
    "duration": 4,
    "start_time": "2021-07-08T09:06:29.189Z"
   },
   {
    "duration": 244,
    "start_time": "2021-07-08T09:06:29.195Z"
   },
   {
    "duration": 91,
    "start_time": "2021-07-08T09:06:29.441Z"
   },
   {
    "duration": 4,
    "start_time": "2021-07-08T09:06:29.534Z"
   },
   {
    "duration": 28,
    "start_time": "2021-07-08T09:06:29.540Z"
   },
   {
    "duration": 6,
    "start_time": "2021-07-08T09:06:29.570Z"
   },
   {
    "duration": 18,
    "start_time": "2021-07-08T09:06:29.578Z"
   },
   {
    "duration": 5,
    "start_time": "2021-07-08T09:06:29.597Z"
   },
   {
    "duration": 13,
    "start_time": "2021-07-08T09:06:29.605Z"
   },
   {
    "duration": 8,
    "start_time": "2021-07-08T09:06:29.620Z"
   },
   {
    "duration": 7,
    "start_time": "2021-07-08T09:06:29.630Z"
   },
   {
    "duration": 63,
    "start_time": "2021-07-08T09:06:29.639Z"
   },
   {
    "duration": 17,
    "start_time": "2021-07-08T09:06:29.704Z"
   },
   {
    "duration": 20,
    "start_time": "2021-07-08T09:06:29.723Z"
   },
   {
    "duration": 6,
    "start_time": "2021-07-08T09:06:29.745Z"
   },
   {
    "duration": 3,
    "start_time": "2021-07-08T09:06:29.752Z"
   },
   {
    "duration": 7,
    "start_time": "2021-07-08T09:06:29.785Z"
   },
   {
    "duration": 11,
    "start_time": "2021-07-08T09:06:29.794Z"
   },
   {
    "duration": 15,
    "start_time": "2021-07-08T09:06:29.807Z"
   },
   {
    "duration": 8,
    "start_time": "2021-07-08T09:06:29.823Z"
   },
   {
    "duration": 70,
    "start_time": "2021-07-08T09:06:29.832Z"
   },
   {
    "duration": 17,
    "start_time": "2021-07-08T09:06:29.903Z"
   },
   {
    "duration": 9,
    "start_time": "2021-07-08T09:06:29.921Z"
   },
   {
    "duration": 9,
    "start_time": "2021-07-08T09:06:29.932Z"
   },
   {
    "duration": 57,
    "start_time": "2021-07-08T09:06:29.942Z"
   },
   {
    "duration": 11,
    "start_time": "2021-07-08T09:06:30.001Z"
   },
   {
    "duration": 19,
    "start_time": "2021-07-08T09:06:30.016Z"
   },
   {
    "duration": 217,
    "start_time": "2021-07-08T09:06:30.037Z"
   },
   {
    "duration": 6,
    "start_time": "2021-07-08T09:06:30.255Z"
   },
   {
    "duration": 205,
    "start_time": "2021-07-08T09:06:30.263Z"
   },
   {
    "duration": 27,
    "start_time": "2021-07-08T09:06:30.470Z"
   },
   {
    "duration": 11,
    "start_time": "2021-07-08T09:06:30.500Z"
   },
   {
    "duration": 31,
    "start_time": "2021-07-08T09:06:30.513Z"
   },
   {
    "duration": 18,
    "start_time": "2021-07-08T09:06:30.546Z"
   },
   {
    "duration": 11,
    "start_time": "2021-07-08T09:06:30.566Z"
   },
   {
    "duration": 19,
    "start_time": "2021-07-08T09:06:30.579Z"
   },
   {
    "duration": 20,
    "start_time": "2021-07-08T09:06:49.466Z"
   },
   {
    "duration": 9,
    "start_time": "2021-07-08T09:06:51.994Z"
   },
   {
    "duration": 20,
    "start_time": "2021-07-08T09:06:52.273Z"
   },
   {
    "duration": 246,
    "start_time": "2021-07-08T09:10:21.272Z"
   },
   {
    "duration": 84,
    "start_time": "2021-07-08T09:10:21.436Z"
   },
   {
    "duration": 7,
    "start_time": "2021-07-08T09:10:37.608Z"
   },
   {
    "duration": 189,
    "start_time": "2021-07-08T09:10:38.573Z"
   },
   {
    "duration": 185,
    "start_time": "2021-07-08T09:10:53.181Z"
   },
   {
    "duration": 11,
    "start_time": "2021-07-08T09:10:59.549Z"
   },
   {
    "duration": 42,
    "start_time": "2021-07-08T09:10:59.709Z"
   },
   {
    "duration": 12,
    "start_time": "2021-07-08T09:11:02.857Z"
   },
   {
    "duration": 28,
    "start_time": "2021-07-08T09:11:10.062Z"
   },
   {
    "duration": 249,
    "start_time": "2021-07-08T09:11:37.388Z"
   },
   {
    "duration": 232,
    "start_time": "2021-07-08T09:11:49.485Z"
   },
   {
    "duration": 453,
    "start_time": "2021-07-08T09:12:01.546Z"
   },
   {
    "duration": 440,
    "start_time": "2021-07-08T09:12:12.347Z"
   },
   {
    "duration": 213,
    "start_time": "2021-07-08T09:13:32.196Z"
   },
   {
    "duration": 172,
    "start_time": "2021-07-08T09:14:07.400Z"
   },
   {
    "duration": 185,
    "start_time": "2021-07-08T09:14:14.905Z"
   },
   {
    "duration": 209,
    "start_time": "2021-07-08T09:14:40.109Z"
   },
   {
    "duration": 201,
    "start_time": "2021-07-08T09:14:54.506Z"
   },
   {
    "duration": 622,
    "start_time": "2021-07-08T09:18:14.497Z"
   },
   {
    "duration": 220,
    "start_time": "2021-07-08T09:18:15.121Z"
   },
   {
    "duration": 79,
    "start_time": "2021-07-08T09:18:15.343Z"
   },
   {
    "duration": 4,
    "start_time": "2021-07-08T09:18:15.425Z"
   },
   {
    "duration": 24,
    "start_time": "2021-07-08T09:18:15.431Z"
   },
   {
    "duration": 8,
    "start_time": "2021-07-08T09:18:15.457Z"
   },
   {
    "duration": 16,
    "start_time": "2021-07-08T09:18:15.466Z"
   },
   {
    "duration": 5,
    "start_time": "2021-07-08T09:18:15.484Z"
   },
   {
    "duration": 10,
    "start_time": "2021-07-08T09:18:15.493Z"
   },
   {
    "duration": 8,
    "start_time": "2021-07-08T09:18:15.504Z"
   },
   {
    "duration": 7,
    "start_time": "2021-07-08T09:18:15.513Z"
   },
   {
    "duration": 26,
    "start_time": "2021-07-08T09:18:15.522Z"
   },
   {
    "duration": 49,
    "start_time": "2021-07-08T09:18:15.550Z"
   },
   {
    "duration": 21,
    "start_time": "2021-07-08T09:18:15.601Z"
   },
   {
    "duration": 8,
    "start_time": "2021-07-08T09:18:15.624Z"
   },
   {
    "duration": 3,
    "start_time": "2021-07-08T09:18:15.634Z"
   },
   {
    "duration": 8,
    "start_time": "2021-07-08T09:18:15.639Z"
   },
   {
    "duration": 45,
    "start_time": "2021-07-08T09:18:15.649Z"
   },
   {
    "duration": 13,
    "start_time": "2021-07-08T09:18:15.696Z"
   },
   {
    "duration": 10,
    "start_time": "2021-07-08T09:18:15.711Z"
   },
   {
    "duration": 64,
    "start_time": "2021-07-08T09:18:15.722Z"
   },
   {
    "duration": 19,
    "start_time": "2021-07-08T09:18:15.788Z"
   },
   {
    "duration": 9,
    "start_time": "2021-07-08T09:18:15.809Z"
   },
   {
    "duration": 9,
    "start_time": "2021-07-08T09:18:15.820Z"
   },
   {
    "duration": 18,
    "start_time": "2021-07-08T09:18:15.831Z"
   },
   {
    "duration": 43,
    "start_time": "2021-07-08T09:18:15.851Z"
   },
   {
    "duration": 12,
    "start_time": "2021-07-08T09:18:15.897Z"
   },
   {
    "duration": 219,
    "start_time": "2021-07-08T09:18:15.911Z"
   },
   {
    "duration": 8,
    "start_time": "2021-07-08T09:18:16.132Z"
   },
   {
    "duration": 199,
    "start_time": "2021-07-08T09:18:16.141Z"
   },
   {
    "duration": 18,
    "start_time": "2021-07-08T09:18:16.341Z"
   },
   {
    "duration": 24,
    "start_time": "2021-07-08T09:18:16.361Z"
   },
   {
    "duration": 24,
    "start_time": "2021-07-08T09:18:16.387Z"
   },
   {
    "duration": 211,
    "start_time": "2021-07-08T09:18:16.413Z"
   },
   {
    "duration": 18,
    "start_time": "2021-07-08T09:18:16.626Z"
   },
   {
    "duration": 596,
    "start_time": "2021-07-08T10:06:33.623Z"
   },
   {
    "duration": 181,
    "start_time": "2021-07-08T10:06:34.221Z"
   },
   {
    "duration": 176,
    "start_time": "2021-07-08T10:06:34.635Z"
   },
   {
    "duration": 239,
    "start_time": "2021-07-08T10:06:55.572Z"
   },
   {
    "duration": 6,
    "start_time": "2021-07-08T10:06:57.687Z"
   },
   {
    "duration": 4,
    "start_time": "2021-07-08T10:07:03.956Z"
   },
   {
    "duration": 4,
    "start_time": "2021-07-08T10:07:10.376Z"
   },
   {
    "duration": 4,
    "start_time": "2021-07-08T10:17:19.889Z"
   },
   {
    "duration": 3,
    "start_time": "2021-07-08T10:19:19.407Z"
   },
   {
    "duration": 197,
    "start_time": "2021-07-08T10:19:19.412Z"
   },
   {
    "duration": 127,
    "start_time": "2021-07-08T10:19:19.611Z"
   },
   {
    "duration": 4,
    "start_time": "2021-07-08T10:19:19.740Z"
   },
   {
    "duration": 27,
    "start_time": "2021-07-08T10:19:19.746Z"
   },
   {
    "duration": 7,
    "start_time": "2021-07-08T10:19:19.775Z"
   },
   {
    "duration": 30,
    "start_time": "2021-07-08T10:19:19.784Z"
   },
   {
    "duration": 7,
    "start_time": "2021-07-08T10:19:19.817Z"
   },
   {
    "duration": 26,
    "start_time": "2021-07-08T10:19:19.826Z"
   },
   {
    "duration": 18,
    "start_time": "2021-07-08T10:19:19.854Z"
   },
   {
    "duration": 14,
    "start_time": "2021-07-08T10:19:19.874Z"
   },
   {
    "duration": 48,
    "start_time": "2021-07-08T10:19:19.890Z"
   },
   {
    "duration": 17,
    "start_time": "2021-07-08T10:19:19.940Z"
   },
   {
    "duration": 38,
    "start_time": "2021-07-08T10:19:19.959Z"
   },
   {
    "duration": 8,
    "start_time": "2021-07-08T10:19:19.999Z"
   },
   {
    "duration": 15,
    "start_time": "2021-07-08T10:19:20.009Z"
   },
   {
    "duration": 22,
    "start_time": "2021-07-08T10:19:20.026Z"
   },
   {
    "duration": 10,
    "start_time": "2021-07-08T10:19:20.050Z"
   },
   {
    "duration": 10,
    "start_time": "2021-07-08T10:19:20.062Z"
   },
   {
    "duration": 20,
    "start_time": "2021-07-08T10:19:20.073Z"
   },
   {
    "duration": 29,
    "start_time": "2021-07-08T10:19:20.095Z"
   },
   {
    "duration": 17,
    "start_time": "2021-07-08T10:19:20.126Z"
   },
   {
    "duration": 40,
    "start_time": "2021-07-08T10:19:20.146Z"
   },
   {
    "duration": 15,
    "start_time": "2021-07-08T10:19:20.189Z"
   },
   {
    "duration": 19,
    "start_time": "2021-07-08T10:19:20.206Z"
   },
   {
    "duration": 10,
    "start_time": "2021-07-08T10:19:20.226Z"
   },
   {
    "duration": 11,
    "start_time": "2021-07-08T10:19:20.238Z"
   },
   {
    "duration": 297,
    "start_time": "2021-07-08T10:19:20.250Z"
   },
   {
    "duration": 6,
    "start_time": "2021-07-08T10:19:20.549Z"
   },
   {
    "duration": 191,
    "start_time": "2021-07-08T10:19:20.557Z"
   },
   {
    "duration": 19,
    "start_time": "2021-07-08T10:19:20.750Z"
   },
   {
    "duration": 20,
    "start_time": "2021-07-08T10:19:20.771Z"
   },
   {
    "duration": 15,
    "start_time": "2021-07-08T10:19:20.793Z"
   },
   {
    "duration": 222,
    "start_time": "2021-07-08T10:19:20.809Z"
   },
   {
    "duration": 20,
    "start_time": "2021-07-08T10:19:21.033Z"
   },
   {
    "duration": 27,
    "start_time": "2021-07-08T10:45:04.055Z"
   },
   {
    "duration": 8,
    "start_time": "2021-07-08T10:45:08.478Z"
   },
   {
    "duration": 8,
    "start_time": "2021-07-08T10:45:31.982Z"
   },
   {
    "duration": 10,
    "start_time": "2021-07-08T10:46:01.221Z"
   },
   {
    "duration": 17,
    "start_time": "2021-07-08T10:46:40.011Z"
   },
   {
    "duration": 193,
    "start_time": "2021-07-08T10:48:19.471Z"
   },
   {
    "duration": 225,
    "start_time": "2021-07-08T10:49:26.480Z"
   },
   {
    "duration": 204,
    "start_time": "2021-07-08T10:49:59.992Z"
   },
   {
    "duration": 435,
    "start_time": "2021-07-08T10:50:06.779Z"
   },
   {
    "duration": 199,
    "start_time": "2021-07-08T10:50:14.891Z"
   },
   {
    "duration": 204,
    "start_time": "2021-07-08T10:50:18.501Z"
   },
   {
    "duration": 244,
    "start_time": "2021-07-08T10:50:23.359Z"
   },
   {
    "duration": 192,
    "start_time": "2021-07-08T10:50:29.135Z"
   },
   {
    "duration": 218,
    "start_time": "2021-07-08T10:50:33.092Z"
   },
   {
    "duration": 207,
    "start_time": "2021-07-08T10:52:45.381Z"
   },
   {
    "duration": 5,
    "start_time": "2021-07-08T10:53:34.641Z"
   },
   {
    "duration": 196,
    "start_time": "2021-07-08T10:53:41.478Z"
   },
   {
    "duration": 43,
    "start_time": "2021-07-08T10:53:50.335Z"
   },
   {
    "duration": 32,
    "start_time": "2021-07-08T10:53:55.294Z"
   },
   {
    "duration": 55,
    "start_time": "2021-07-08T10:54:09.675Z"
   },
   {
    "duration": 16,
    "start_time": "2021-07-08T10:54:12.260Z"
   },
   {
    "duration": 15,
    "start_time": "2021-07-08T10:54:49.150Z"
   },
   {
    "duration": 20,
    "start_time": "2021-07-08T10:56:07.596Z"
   },
   {
    "duration": 16,
    "start_time": "2021-07-08T10:58:26.276Z"
   },
   {
    "duration": 22,
    "start_time": "2021-07-08T10:59:00.486Z"
   },
   {
    "duration": 18,
    "start_time": "2021-07-08T11:02:09.653Z"
   },
   {
    "duration": 10,
    "start_time": "2021-07-08T11:03:44.331Z"
   },
   {
    "duration": 10,
    "start_time": "2021-07-08T11:03:54.055Z"
   },
   {
    "duration": 12,
    "start_time": "2021-07-08T11:04:41.967Z"
   },
   {
    "duration": 24,
    "start_time": "2021-07-08T11:07:30.732Z"
   },
   {
    "duration": 6,
    "start_time": "2021-07-08T11:07:37.364Z"
   },
   {
    "duration": 16,
    "start_time": "2021-07-08T11:08:01.819Z"
   },
   {
    "duration": 17,
    "start_time": "2021-07-08T11:09:47.488Z"
   },
   {
    "duration": 246,
    "start_time": "2021-07-08T11:10:00.830Z"
   },
   {
    "duration": 18,
    "start_time": "2021-07-08T11:13:55.195Z"
   },
   {
    "duration": 204,
    "start_time": "2021-07-08T11:14:04.951Z"
   },
   {
    "duration": 19,
    "start_time": "2021-07-08T11:15:10.613Z"
   },
   {
    "duration": 680,
    "start_time": "2021-07-08T11:16:25.793Z"
   },
   {
    "duration": 451,
    "start_time": "2021-07-08T11:16:40.313Z"
   },
   {
    "duration": 469,
    "start_time": "2021-07-08T11:17:21.286Z"
   },
   {
    "duration": 20,
    "start_time": "2021-07-08T11:19:12.554Z"
   },
   {
    "duration": 35,
    "start_time": "2021-07-08T11:20:05.484Z"
   },
   {
    "duration": 53,
    "start_time": "2021-07-08T11:21:40.050Z"
   },
   {
    "duration": 13,
    "start_time": "2021-07-08T11:22:26.059Z"
   },
   {
    "duration": 19,
    "start_time": "2021-07-08T11:22:47.419Z"
   },
   {
    "duration": 25,
    "start_time": "2021-07-08T11:23:19.958Z"
   },
   {
    "duration": 29,
    "start_time": "2021-07-08T11:23:25.415Z"
   },
   {
    "duration": 10,
    "start_time": "2021-07-08T11:24:45.138Z"
   },
   {
    "duration": 19,
    "start_time": "2021-07-08T11:24:54.498Z"
   },
   {
    "duration": 12,
    "start_time": "2021-07-08T11:25:32.225Z"
   },
   {
    "duration": 19,
    "start_time": "2021-07-08T11:25:37.092Z"
   },
   {
    "duration": 17,
    "start_time": "2021-07-08T11:25:58.116Z"
   },
   {
    "duration": 15,
    "start_time": "2021-07-08T11:26:02.258Z"
   },
   {
    "duration": 8,
    "start_time": "2021-07-08T11:26:59.682Z"
   },
   {
    "duration": 184,
    "start_time": "2021-07-08T11:27:21.894Z"
   },
   {
    "duration": 8,
    "start_time": "2021-07-08T11:27:23.824Z"
   },
   {
    "duration": 202,
    "start_time": "2021-07-08T11:27:23.962Z"
   },
   {
    "duration": 360,
    "start_time": "2021-07-08T11:28:33.215Z"
   },
   {
    "duration": 231,
    "start_time": "2021-07-08T11:32:05.542Z"
   },
   {
    "duration": 607,
    "start_time": "2021-07-08T11:36:27.854Z"
   },
   {
    "duration": 241,
    "start_time": "2021-07-08T11:36:28.463Z"
   },
   {
    "duration": 67,
    "start_time": "2021-07-08T11:36:28.709Z"
   },
   {
    "duration": 5,
    "start_time": "2021-07-08T11:36:28.778Z"
   },
   {
    "duration": 32,
    "start_time": "2021-07-08T11:36:28.784Z"
   },
   {
    "duration": 11,
    "start_time": "2021-07-08T11:36:28.819Z"
   },
   {
    "duration": 20,
    "start_time": "2021-07-08T11:36:28.834Z"
   },
   {
    "duration": 36,
    "start_time": "2021-07-08T11:36:28.857Z"
   },
   {
    "duration": 16,
    "start_time": "2021-07-08T11:36:28.895Z"
   },
   {
    "duration": 14,
    "start_time": "2021-07-08T11:36:28.913Z"
   },
   {
    "duration": 9,
    "start_time": "2021-07-08T11:36:28.930Z"
   },
   {
    "duration": 55,
    "start_time": "2021-07-08T11:36:28.941Z"
   },
   {
    "duration": 27,
    "start_time": "2021-07-08T11:36:28.999Z"
   },
   {
    "duration": 30,
    "start_time": "2021-07-08T11:36:29.028Z"
   },
   {
    "duration": 31,
    "start_time": "2021-07-08T11:36:29.060Z"
   },
   {
    "duration": 3,
    "start_time": "2021-07-08T11:36:29.093Z"
   },
   {
    "duration": 12,
    "start_time": "2021-07-08T11:36:29.099Z"
   },
   {
    "duration": 11,
    "start_time": "2021-07-08T11:36:29.112Z"
   },
   {
    "duration": 12,
    "start_time": "2021-07-08T11:36:29.125Z"
   },
   {
    "duration": 9,
    "start_time": "2021-07-08T11:36:29.139Z"
   },
   {
    "duration": 31,
    "start_time": "2021-07-08T11:36:29.191Z"
   },
   {
    "duration": 17,
    "start_time": "2021-07-08T11:36:29.226Z"
   },
   {
    "duration": 7,
    "start_time": "2021-07-08T11:36:29.245Z"
   },
   {
    "duration": 10,
    "start_time": "2021-07-08T11:36:29.254Z"
   },
   {
    "duration": 30,
    "start_time": "2021-07-08T11:36:29.292Z"
   },
   {
    "duration": 11,
    "start_time": "2021-07-08T11:36:29.324Z"
   },
   {
    "duration": 11,
    "start_time": "2021-07-08T11:36:29.337Z"
   },
   {
    "duration": 230,
    "start_time": "2021-07-08T11:36:29.349Z"
   },
   {
    "duration": 13,
    "start_time": "2021-07-08T11:36:29.588Z"
   },
   {
    "duration": 205,
    "start_time": "2021-07-08T11:36:29.603Z"
   },
   {
    "duration": 20,
    "start_time": "2021-07-08T11:36:29.810Z"
   },
   {
    "duration": 9,
    "start_time": "2021-07-08T11:36:29.832Z"
   },
   {
    "duration": 16,
    "start_time": "2021-07-08T11:36:29.843Z"
   },
   {
    "duration": 283,
    "start_time": "2021-07-08T11:36:29.861Z"
   },
   {
    "duration": 50,
    "start_time": "2021-07-08T11:36:30.146Z"
   },
   {
    "duration": 14,
    "start_time": "2021-07-08T11:36:30.198Z"
   },
   {
    "duration": 11,
    "start_time": "2021-07-08T11:36:30.214Z"
   },
   {
    "duration": 245,
    "start_time": "2021-07-08T11:36:30.227Z"
   },
   {
    "duration": 439,
    "start_time": "2021-07-08T11:36:30.474Z"
   },
   {
    "duration": 210,
    "start_time": "2021-07-08T11:36:30.915Z"
   },
   {
    "duration": 15,
    "start_time": "2021-07-08T11:36:31.127Z"
   },
   {
    "duration": 17,
    "start_time": "2021-07-08T11:38:20.451Z"
   },
   {
    "duration": 642,
    "start_time": "2021-07-08T11:46:17.881Z"
   },
   {
    "duration": 210,
    "start_time": "2021-07-08T11:46:18.525Z"
   },
   {
    "duration": 104,
    "start_time": "2021-07-08T11:46:18.741Z"
   },
   {
    "duration": 8,
    "start_time": "2021-07-08T11:46:18.847Z"
   },
   {
    "duration": 25,
    "start_time": "2021-07-08T11:46:18.857Z"
   },
   {
    "duration": 14,
    "start_time": "2021-07-08T11:46:18.884Z"
   },
   {
    "duration": 22,
    "start_time": "2021-07-08T11:46:18.900Z"
   },
   {
    "duration": 5,
    "start_time": "2021-07-08T11:46:18.924Z"
   },
   {
    "duration": 13,
    "start_time": "2021-07-08T11:46:18.931Z"
   },
   {
    "duration": 45,
    "start_time": "2021-07-08T11:46:18.946Z"
   },
   {
    "duration": 12,
    "start_time": "2021-07-08T11:46:18.993Z"
   },
   {
    "duration": 38,
    "start_time": "2021-07-08T11:46:19.006Z"
   },
   {
    "duration": 50,
    "start_time": "2021-07-08T11:46:19.046Z"
   },
   {
    "duration": 29,
    "start_time": "2021-07-08T11:46:19.099Z"
   },
   {
    "duration": 7,
    "start_time": "2021-07-08T11:46:19.130Z"
   },
   {
    "duration": 3,
    "start_time": "2021-07-08T11:46:19.139Z"
   },
   {
    "duration": 11,
    "start_time": "2021-07-08T11:46:19.144Z"
   },
   {
    "duration": 40,
    "start_time": "2021-07-08T11:46:19.157Z"
   },
   {
    "duration": 15,
    "start_time": "2021-07-08T11:46:19.199Z"
   },
   {
    "duration": 10,
    "start_time": "2021-07-08T11:46:19.217Z"
   },
   {
    "duration": 68,
    "start_time": "2021-07-08T11:46:19.230Z"
   },
   {
    "duration": 17,
    "start_time": "2021-07-08T11:46:19.301Z"
   },
   {
    "duration": 7,
    "start_time": "2021-07-08T11:46:19.321Z"
   },
   {
    "duration": 11,
    "start_time": "2021-07-08T11:46:19.330Z"
   },
   {
    "duration": 59,
    "start_time": "2021-07-08T11:46:19.343Z"
   },
   {
    "duration": 17,
    "start_time": "2021-07-08T11:46:19.405Z"
   },
   {
    "duration": 16,
    "start_time": "2021-07-08T11:46:19.424Z"
   },
   {
    "duration": 252,
    "start_time": "2021-07-08T11:46:19.443Z"
   },
   {
    "duration": 9,
    "start_time": "2021-07-08T11:46:19.697Z"
   },
   {
    "duration": 224,
    "start_time": "2021-07-08T11:46:19.708Z"
   },
   {
    "duration": 21,
    "start_time": "2021-07-08T11:46:19.934Z"
   },
   {
    "duration": 9,
    "start_time": "2021-07-08T11:46:19.956Z"
   },
   {
    "duration": 32,
    "start_time": "2021-07-08T11:46:19.967Z"
   },
   {
    "duration": 288,
    "start_time": "2021-07-08T11:46:20.004Z"
   },
   {
    "duration": 23,
    "start_time": "2021-07-08T11:46:20.300Z"
   },
   {
    "duration": 11,
    "start_time": "2021-07-08T11:46:20.325Z"
   },
   {
    "duration": 11,
    "start_time": "2021-07-08T11:46:20.339Z"
   },
   {
    "duration": 259,
    "start_time": "2021-07-08T11:46:20.352Z"
   },
   {
    "duration": 438,
    "start_time": "2021-07-08T11:46:20.613Z"
   },
   {
    "duration": 207,
    "start_time": "2021-07-08T11:46:21.054Z"
   },
   {
    "duration": 27,
    "start_time": "2021-07-08T11:46:21.262Z"
   },
   {
    "duration": 19,
    "start_time": "2021-07-08T11:46:21.291Z"
   },
   {
    "duration": 820,
    "start_time": "2021-07-08T11:49:01.655Z"
   },
   {
    "duration": 372,
    "start_time": "2021-07-08T11:49:02.478Z"
   },
   {
    "duration": 98,
    "start_time": "2021-07-08T11:49:02.853Z"
   },
   {
    "duration": 6,
    "start_time": "2021-07-08T11:49:02.953Z"
   },
   {
    "duration": 39,
    "start_time": "2021-07-08T11:49:02.960Z"
   },
   {
    "duration": 9,
    "start_time": "2021-07-08T11:49:03.003Z"
   },
   {
    "duration": 23,
    "start_time": "2021-07-08T11:49:03.014Z"
   },
   {
    "duration": 6,
    "start_time": "2021-07-08T11:49:03.041Z"
   },
   {
    "duration": 20,
    "start_time": "2021-07-08T11:49:03.049Z"
   },
   {
    "duration": 18,
    "start_time": "2021-07-08T11:49:03.084Z"
   },
   {
    "duration": 14,
    "start_time": "2021-07-08T11:49:03.104Z"
   },
   {
    "duration": 39,
    "start_time": "2021-07-08T11:49:03.119Z"
   },
   {
    "duration": 38,
    "start_time": "2021-07-08T11:49:03.160Z"
   },
   {
    "duration": 26,
    "start_time": "2021-07-08T11:49:03.200Z"
   },
   {
    "duration": 7,
    "start_time": "2021-07-08T11:49:03.227Z"
   },
   {
    "duration": 4,
    "start_time": "2021-07-08T11:49:03.236Z"
   },
   {
    "duration": 15,
    "start_time": "2021-07-08T11:49:03.243Z"
   },
   {
    "duration": 21,
    "start_time": "2021-07-08T11:49:03.285Z"
   },
   {
    "duration": 17,
    "start_time": "2021-07-08T11:49:03.309Z"
   },
   {
    "duration": 10,
    "start_time": "2021-07-08T11:49:03.328Z"
   },
   {
    "duration": 65,
    "start_time": "2021-07-08T11:49:03.340Z"
   },
   {
    "duration": 18,
    "start_time": "2021-07-08T11:49:03.407Z"
   },
   {
    "duration": 8,
    "start_time": "2021-07-08T11:49:03.428Z"
   },
   {
    "duration": 15,
    "start_time": "2021-07-08T11:49:03.438Z"
   },
   {
    "duration": 40,
    "start_time": "2021-07-08T11:49:03.455Z"
   },
   {
    "duration": 12,
    "start_time": "2021-07-08T11:49:03.497Z"
   },
   {
    "duration": 29,
    "start_time": "2021-07-08T11:49:03.511Z"
   },
   {
    "duration": 285,
    "start_time": "2021-07-08T11:49:03.542Z"
   },
   {
    "duration": 8,
    "start_time": "2021-07-08T11:49:03.829Z"
   },
   {
    "duration": 227,
    "start_time": "2021-07-08T11:49:03.838Z"
   },
   {
    "duration": 40,
    "start_time": "2021-07-08T11:49:04.066Z"
   },
   {
    "duration": 10,
    "start_time": "2021-07-08T11:49:04.108Z"
   },
   {
    "duration": 26,
    "start_time": "2021-07-08T11:49:04.121Z"
   },
   {
    "duration": 290,
    "start_time": "2021-07-08T11:49:04.149Z"
   },
   {
    "duration": 26,
    "start_time": "2021-07-08T11:49:04.441Z"
   },
   {
    "duration": 31,
    "start_time": "2021-07-08T11:49:04.470Z"
   },
   {
    "duration": 14,
    "start_time": "2021-07-08T11:49:04.503Z"
   },
   {
    "duration": 259,
    "start_time": "2021-07-08T11:49:04.521Z"
   },
   {
    "duration": 480,
    "start_time": "2021-07-08T11:49:04.782Z"
   },
   {
    "duration": 225,
    "start_time": "2021-07-08T11:49:05.264Z"
   },
   {
    "duration": 22,
    "start_time": "2021-07-08T11:49:05.491Z"
   },
   {
    "duration": 24,
    "start_time": "2021-07-08T11:49:05.515Z"
   },
   {
    "duration": 634,
    "start_time": "2021-07-08T11:52:24.960Z"
   },
   {
    "duration": 199,
    "start_time": "2021-07-08T11:52:25.599Z"
   },
   {
    "duration": 106,
    "start_time": "2021-07-08T11:52:25.803Z"
   },
   {
    "duration": 7,
    "start_time": "2021-07-08T11:52:25.911Z"
   },
   {
    "duration": 29,
    "start_time": "2021-07-08T11:52:25.920Z"
   },
   {
    "duration": 7,
    "start_time": "2021-07-08T11:52:25.951Z"
   },
   {
    "duration": 26,
    "start_time": "2021-07-08T11:52:25.961Z"
   },
   {
    "duration": 11,
    "start_time": "2021-07-08T11:52:25.990Z"
   },
   {
    "duration": 29,
    "start_time": "2021-07-08T11:52:26.005Z"
   },
   {
    "duration": 9,
    "start_time": "2021-07-08T11:52:26.036Z"
   },
   {
    "duration": 8,
    "start_time": "2021-07-08T11:52:26.047Z"
   },
   {
    "duration": 63,
    "start_time": "2021-07-08T11:52:26.057Z"
   },
   {
    "duration": 17,
    "start_time": "2021-07-08T11:52:26.122Z"
   },
   {
    "duration": 43,
    "start_time": "2021-07-08T11:52:26.142Z"
   },
   {
    "duration": 17,
    "start_time": "2021-07-08T11:52:26.187Z"
   },
   {
    "duration": 5,
    "start_time": "2021-07-08T11:52:26.206Z"
   },
   {
    "duration": 12,
    "start_time": "2021-07-08T11:52:26.212Z"
   },
   {
    "duration": 11,
    "start_time": "2021-07-08T11:52:26.226Z"
   },
   {
    "duration": 12,
    "start_time": "2021-07-08T11:52:26.238Z"
   },
   {
    "duration": 38,
    "start_time": "2021-07-08T11:52:26.252Z"
   },
   {
    "duration": 40,
    "start_time": "2021-07-08T11:52:26.292Z"
   },
   {
    "duration": 17,
    "start_time": "2021-07-08T11:52:26.336Z"
   },
   {
    "duration": 39,
    "start_time": "2021-07-08T11:52:26.355Z"
   },
   {
    "duration": 11,
    "start_time": "2021-07-08T11:52:26.395Z"
   },
   {
    "duration": 23,
    "start_time": "2021-07-08T11:52:26.408Z"
   },
   {
    "duration": 12,
    "start_time": "2021-07-08T11:52:26.432Z"
   },
   {
    "duration": 41,
    "start_time": "2021-07-08T11:52:26.446Z"
   },
   {
    "duration": 215,
    "start_time": "2021-07-08T11:52:26.493Z"
   },
   {
    "duration": 8,
    "start_time": "2021-07-08T11:52:26.710Z"
   },
   {
    "duration": 228,
    "start_time": "2021-07-08T11:52:26.720Z"
   },
   {
    "duration": 18,
    "start_time": "2021-07-08T11:52:26.950Z"
   },
   {
    "duration": 35,
    "start_time": "2021-07-08T11:52:26.969Z"
   },
   {
    "duration": 23,
    "start_time": "2021-07-08T11:52:27.006Z"
   },
   {
    "duration": 258,
    "start_time": "2021-07-08T11:52:27.030Z"
   },
   {
    "duration": 24,
    "start_time": "2021-07-08T11:52:27.290Z"
   },
   {
    "duration": 12,
    "start_time": "2021-07-08T11:52:27.316Z"
   },
   {
    "duration": 10,
    "start_time": "2021-07-08T11:52:27.329Z"
   },
   {
    "duration": 298,
    "start_time": "2021-07-08T11:52:27.341Z"
   },
   {
    "duration": 436,
    "start_time": "2021-07-08T11:52:27.641Z"
   },
   {
    "duration": 216,
    "start_time": "2021-07-08T11:52:28.079Z"
   },
   {
    "duration": 20,
    "start_time": "2021-07-08T11:52:28.297Z"
   },
   {
    "duration": 17,
    "start_time": "2021-07-08T11:52:28.319Z"
   },
   {
    "duration": 798,
    "start_time": "2024-06-04T04:22:06.283Z"
   },
   {
    "duration": 812,
    "start_time": "2024-06-04T07:18:50.287Z"
   },
   {
    "duration": 64,
    "start_time": "2024-06-08T13:09:45.288Z"
   },
   {
    "duration": 3,
    "start_time": "2024-06-08T13:09:58.807Z"
   },
   {
    "duration": 561,
    "start_time": "2024-06-08T13:10:02.124Z"
   },
   {
    "duration": 57,
    "start_time": "2024-06-08T13:10:20.805Z"
   },
   {
    "duration": 20,
    "start_time": "2024-06-08T13:10:43.353Z"
   },
   {
    "duration": 3,
    "start_time": "2024-06-08T13:11:32.699Z"
   },
   {
    "duration": 109,
    "start_time": "2024-06-08T13:11:35.682Z"
   },
   {
    "duration": 26,
    "start_time": "2024-06-08T13:11:36.628Z"
   },
   {
    "duration": 3,
    "start_time": "2024-06-08T13:12:03.850Z"
   },
   {
    "duration": 109,
    "start_time": "2024-06-08T13:12:05.977Z"
   },
   {
    "duration": 3,
    "start_time": "2024-06-08T13:12:42.894Z"
   },
   {
    "duration": 483,
    "start_time": "2024-06-08T13:14:50.986Z"
   },
   {
    "duration": 26,
    "start_time": "2024-06-08T13:14:53.705Z"
   },
   {
    "duration": 107,
    "start_time": "2024-06-08T13:16:34.779Z"
   },
   {
    "duration": 24,
    "start_time": "2024-06-08T13:16:35.837Z"
   },
   {
    "duration": 113,
    "start_time": "2024-06-08T13:16:48.073Z"
   },
   {
    "duration": 26,
    "start_time": "2024-06-08T13:16:50.486Z"
   },
   {
    "duration": 117,
    "start_time": "2024-06-08T13:20:39.215Z"
   },
   {
    "duration": 84,
    "start_time": "2024-06-08T13:20:52.249Z"
   },
   {
    "duration": 67,
    "start_time": "2024-06-08T13:21:15.725Z"
   },
   {
    "duration": 3,
    "start_time": "2024-06-08T13:21:21.663Z"
   },
   {
    "duration": 113,
    "start_time": "2024-06-08T13:21:24.132Z"
   },
   {
    "duration": 27,
    "start_time": "2024-06-08T13:21:28.375Z"
   },
   {
    "duration": 108,
    "start_time": "2024-06-08T13:21:55.631Z"
   },
   {
    "duration": 24,
    "start_time": "2024-06-08T13:21:57.996Z"
   },
   {
    "duration": 3,
    "start_time": "2024-06-08T13:22:35.161Z"
   },
   {
    "duration": 112,
    "start_time": "2024-06-08T13:22:36.290Z"
   },
   {
    "duration": 30,
    "start_time": "2024-06-08T13:22:36.850Z"
   },
   {
    "duration": 3,
    "start_time": "2024-06-08T13:22:55.555Z"
   },
   {
    "duration": 109,
    "start_time": "2024-06-08T13:22:56.514Z"
   },
   {
    "duration": 23,
    "start_time": "2024-06-08T13:22:57.483Z"
   },
   {
    "duration": 4,
    "start_time": "2024-06-08T13:23:08.971Z"
   },
   {
    "duration": 111,
    "start_time": "2024-06-08T13:23:09.507Z"
   },
   {
    "duration": 27,
    "start_time": "2024-06-08T13:23:10.812Z"
   },
   {
    "duration": 126,
    "start_time": "2024-06-08T13:29:40.539Z"
   },
   {
    "duration": 42,
    "start_time": "2024-06-08T13:29:44.443Z"
   },
   {
    "duration": 114,
    "start_time": "2024-06-08T13:30:23.806Z"
   },
   {
    "duration": 36,
    "start_time": "2024-06-08T13:30:24.368Z"
   },
   {
    "duration": 3,
    "start_time": "2024-06-08T13:34:45.744Z"
   },
   {
    "duration": 114,
    "start_time": "2024-06-08T13:34:47.218Z"
   },
   {
    "duration": 47,
    "start_time": "2024-06-08T13:34:48.336Z"
   },
   {
    "duration": 23,
    "start_time": "2024-06-08T13:42:09.712Z"
   },
   {
    "duration": 23,
    "start_time": "2024-06-08T14:03:07.185Z"
   },
   {
    "duration": 13,
    "start_time": "2024-06-08T14:03:24.825Z"
   },
   {
    "duration": 11,
    "start_time": "2024-06-08T14:19:57.347Z"
   },
   {
    "duration": 20,
    "start_time": "2024-06-08T14:32:47.203Z"
   },
   {
    "duration": 3,
    "start_time": "2024-06-08T14:33:16.034Z"
   },
   {
    "duration": 4,
    "start_time": "2024-06-08T14:33:21.054Z"
   },
   {
    "duration": 3,
    "start_time": "2024-06-08T14:33:47.830Z"
   },
   {
    "duration": 14,
    "start_time": "2024-06-08T14:33:59.416Z"
   },
   {
    "duration": 3,
    "start_time": "2024-06-08T14:34:40.151Z"
   },
   {
    "duration": 110,
    "start_time": "2024-06-08T14:34:40.917Z"
   },
   {
    "duration": 47,
    "start_time": "2024-06-08T14:34:41.593Z"
   },
   {
    "duration": 24,
    "start_time": "2024-06-08T14:34:42.144Z"
   },
   {
    "duration": 11,
    "start_time": "2024-06-08T14:34:44.531Z"
   },
   {
    "duration": 13,
    "start_time": "2024-06-08T14:34:48.160Z"
   },
   {
    "duration": 4,
    "start_time": "2024-06-08T14:35:04.949Z"
   },
   {
    "duration": 12,
    "start_time": "2024-06-08T14:35:12.251Z"
   },
   {
    "duration": 79,
    "start_time": "2024-06-08T14:36:58.341Z"
   },
   {
    "duration": 9,
    "start_time": "2024-06-08T14:37:12.948Z"
   },
   {
    "duration": 6,
    "start_time": "2024-06-08T14:39:13.158Z"
   },
   {
    "duration": 6,
    "start_time": "2024-06-08T14:40:02.808Z"
   },
   {
    "duration": 2,
    "start_time": "2024-06-08T14:40:31.265Z"
   },
   {
    "duration": 8,
    "start_time": "2024-06-08T14:46:19.940Z"
   },
   {
    "duration": 3,
    "start_time": "2024-06-08T14:46:22.248Z"
   },
   {
    "duration": 8,
    "start_time": "2024-06-08T14:47:34.626Z"
   },
   {
    "duration": 3,
    "start_time": "2024-06-08T14:52:09.399Z"
   },
   {
    "duration": 6,
    "start_time": "2024-06-08T14:52:43.374Z"
   },
   {
    "duration": 2,
    "start_time": "2024-06-08T14:52:53.512Z"
   },
   {
    "duration": 4,
    "start_time": "2024-06-08T14:55:19.291Z"
   },
   {
    "duration": 114,
    "start_time": "2024-06-08T14:55:20.369Z"
   },
   {
    "duration": 50,
    "start_time": "2024-06-08T14:55:20.973Z"
   },
   {
    "duration": 22,
    "start_time": "2024-06-08T14:55:22.434Z"
   },
   {
    "duration": 12,
    "start_time": "2024-06-08T14:55:25.346Z"
   },
   {
    "duration": 9,
    "start_time": "2024-06-08T14:55:27.672Z"
   },
   {
    "duration": 3,
    "start_time": "2024-06-08T14:55:29.349Z"
   },
   {
    "duration": 3,
    "start_time": "2024-06-08T14:55:37.996Z"
   },
   {
    "duration": 10,
    "start_time": "2024-06-08T14:57:12.778Z"
   },
   {
    "duration": 11,
    "start_time": "2024-06-08T14:57:22.955Z"
   },
   {
    "duration": 6,
    "start_time": "2024-06-08T14:57:42.596Z"
   },
   {
    "duration": 16,
    "start_time": "2024-06-08T15:30:46.794Z"
   },
   {
    "duration": 23,
    "start_time": "2024-06-08T15:41:51.649Z"
   },
   {
    "duration": 8,
    "start_time": "2024-06-08T15:42:12.351Z"
   },
   {
    "duration": 3,
    "start_time": "2024-06-08T15:45:48.003Z"
   },
   {
    "duration": 4,
    "start_time": "2024-06-08T15:46:05.782Z"
   },
   {
    "duration": 869,
    "start_time": "2024-06-08T15:50:34.164Z"
   },
   {
    "duration": 9,
    "start_time": "2024-06-08T15:50:49.002Z"
   },
   {
    "duration": 12,
    "start_time": "2024-06-08T15:50:53.149Z"
   },
   {
    "duration": 9,
    "start_time": "2024-06-08T15:51:05.629Z"
   },
   {
    "duration": 12,
    "start_time": "2024-06-08T15:51:12.086Z"
   },
   {
    "duration": 6,
    "start_time": "2024-06-08T15:53:17.829Z"
   },
   {
    "duration": 6,
    "start_time": "2024-06-08T15:53:22.961Z"
   },
   {
    "duration": 10,
    "start_time": "2024-06-08T15:54:16.466Z"
   },
   {
    "duration": 18,
    "start_time": "2024-06-08T15:54:34.107Z"
   },
   {
    "duration": 20,
    "start_time": "2024-06-08T15:56:38.487Z"
   },
   {
    "duration": 28,
    "start_time": "2024-06-08T16:00:30.882Z"
   },
   {
    "duration": 521,
    "start_time": "2024-06-08T16:01:52.646Z"
   },
   {
    "duration": 23,
    "start_time": "2024-06-08T16:09:54.193Z"
   },
   {
    "duration": 25,
    "start_time": "2024-06-08T16:10:29.807Z"
   },
   {
    "duration": 6,
    "start_time": "2024-06-08T16:11:32.612Z"
   },
   {
    "duration": 7,
    "start_time": "2024-06-08T16:11:35.930Z"
   },
   {
    "duration": 13,
    "start_time": "2024-06-08T16:11:47.470Z"
   },
   {
    "duration": 3,
    "start_time": "2024-06-08T16:13:38.413Z"
   },
   {
    "duration": 109,
    "start_time": "2024-06-08T16:13:39.668Z"
   },
   {
    "duration": 54,
    "start_time": "2024-06-08T16:13:42.437Z"
   },
   {
    "duration": 23,
    "start_time": "2024-06-08T16:13:48.418Z"
   },
   {
    "duration": 12,
    "start_time": "2024-06-08T16:13:53.166Z"
   },
   {
    "duration": 8,
    "start_time": "2024-06-08T16:13:56.056Z"
   },
   {
    "duration": 3,
    "start_time": "2024-06-08T16:13:57.481Z"
   },
   {
    "duration": 3,
    "start_time": "2024-06-08T16:14:01.045Z"
   },
   {
    "duration": 10,
    "start_time": "2024-06-08T16:14:03.658Z"
   },
   {
    "duration": 11,
    "start_time": "2024-06-08T16:14:03.831Z"
   },
   {
    "duration": 23,
    "start_time": "2024-06-08T16:14:11.792Z"
   },
   {
    "duration": 5,
    "start_time": "2024-06-08T16:16:46.773Z"
   },
   {
    "duration": 8,
    "start_time": "2024-06-08T16:16:50.802Z"
   },
   {
    "duration": 9,
    "start_time": "2024-06-08T16:17:32.877Z"
   },
   {
    "duration": 8,
    "start_time": "2024-06-08T16:20:06.257Z"
   },
   {
    "duration": 9,
    "start_time": "2024-06-08T16:20:10.774Z"
   },
   {
    "duration": 9,
    "start_time": "2024-06-08T16:21:07.406Z"
   },
   {
    "duration": 8,
    "start_time": "2024-06-08T16:21:18.325Z"
   },
   {
    "duration": 5,
    "start_time": "2024-06-08T16:21:22.549Z"
   },
   {
    "duration": 5,
    "start_time": "2024-06-08T16:21:43.070Z"
   },
   {
    "duration": 3,
    "start_time": "2024-06-08T16:22:16.693Z"
   },
   {
    "duration": 111,
    "start_time": "2024-06-08T16:22:19.065Z"
   },
   {
    "duration": 57,
    "start_time": "2024-06-08T16:22:20.410Z"
   },
   {
    "duration": 12,
    "start_time": "2024-06-08T16:22:24.485Z"
   },
   {
    "duration": 8,
    "start_time": "2024-06-08T16:22:27.334Z"
   },
   {
    "duration": 3,
    "start_time": "2024-06-08T16:22:28.897Z"
   },
   {
    "duration": 3,
    "start_time": "2024-06-08T16:22:30.440Z"
   },
   {
    "duration": 11,
    "start_time": "2024-06-08T16:22:33.763Z"
   },
   {
    "duration": 11,
    "start_time": "2024-06-08T16:22:34.970Z"
   },
   {
    "duration": 22,
    "start_time": "2024-06-08T16:22:40.723Z"
   },
   {
    "duration": 11,
    "start_time": "2024-06-08T16:22:47.074Z"
   },
   {
    "duration": 11,
    "start_time": "2024-06-08T16:23:17.393Z"
   },
   {
    "duration": 11,
    "start_time": "2024-06-08T16:24:06.496Z"
   },
   {
    "duration": 493,
    "start_time": "2024-06-08T16:26:57.061Z"
   },
   {
    "duration": 11,
    "start_time": "2024-06-08T16:28:04.154Z"
   },
   {
    "duration": 558,
    "start_time": "2024-06-08T16:28:57.378Z"
   },
   {
    "duration": 6,
    "start_time": "2024-06-08T16:35:07.002Z"
   },
   {
    "duration": 9,
    "start_time": "2024-06-08T16:35:13.976Z"
   },
   {
    "duration": 5,
    "start_time": "2024-06-08T16:35:15.979Z"
   },
   {
    "duration": 704,
    "start_time": "2024-06-08T16:36:35.597Z"
   },
   {
    "duration": 9,
    "start_time": "2024-06-08T16:37:16.188Z"
   },
   {
    "duration": 721,
    "start_time": "2024-06-08T16:37:19.376Z"
   },
   {
    "duration": 14,
    "start_time": "2024-06-08T16:38:00.312Z"
   },
   {
    "duration": 9,
    "start_time": "2024-06-08T16:39:57.401Z"
   },
   {
    "duration": 11,
    "start_time": "2024-06-08T16:40:48.331Z"
   },
   {
    "duration": 11,
    "start_time": "2024-06-08T16:41:28.813Z"
   },
   {
    "duration": 12,
    "start_time": "2024-06-08T16:41:43.973Z"
   },
   {
    "duration": 27,
    "start_time": "2024-06-08T16:43:03.315Z"
   },
   {
    "duration": 3,
    "start_time": "2024-06-08T16:43:30.133Z"
   },
   {
    "duration": 114,
    "start_time": "2024-06-08T16:43:30.848Z"
   },
   {
    "duration": 48,
    "start_time": "2024-06-08T16:43:31.697Z"
   },
   {
    "duration": 25,
    "start_time": "2024-06-08T16:43:32.511Z"
   },
   {
    "duration": 13,
    "start_time": "2024-06-08T16:43:34.950Z"
   },
   {
    "duration": 8,
    "start_time": "2024-06-08T16:43:36.276Z"
   },
   {
    "duration": 3,
    "start_time": "2024-06-08T16:43:37.400Z"
   },
   {
    "duration": 3,
    "start_time": "2024-06-08T16:43:40.732Z"
   },
   {
    "duration": 9,
    "start_time": "2024-06-08T16:43:42.328Z"
   },
   {
    "duration": 11,
    "start_time": "2024-06-08T16:43:43.441Z"
   },
   {
    "duration": 23,
    "start_time": "2024-06-08T16:43:52.897Z"
   },
   {
    "duration": 4,
    "start_time": "2024-06-08T16:44:13.482Z"
   },
   {
    "duration": 11,
    "start_time": "2024-06-08T16:45:00.495Z"
   },
   {
    "duration": 9,
    "start_time": "2024-06-08T16:46:25.401Z"
   },
   {
    "duration": 479,
    "start_time": "2024-06-08T16:46:44.272Z"
   },
   {
    "duration": 3,
    "start_time": "2024-06-08T16:50:52.275Z"
   },
   {
    "duration": 112,
    "start_time": "2024-06-08T16:50:52.753Z"
   },
   {
    "duration": 49,
    "start_time": "2024-06-08T16:50:53.129Z"
   },
   {
    "duration": 24,
    "start_time": "2024-06-08T16:50:53.389Z"
   },
   {
    "duration": 18,
    "start_time": "2024-06-08T16:50:53.803Z"
   },
   {
    "duration": 8,
    "start_time": "2024-06-08T16:50:54.228Z"
   },
   {
    "duration": 4,
    "start_time": "2024-06-08T16:50:55.124Z"
   },
   {
    "duration": 3,
    "start_time": "2024-06-08T16:50:56.239Z"
   },
   {
    "duration": 10,
    "start_time": "2024-06-08T16:50:57.561Z"
   },
   {
    "duration": 11,
    "start_time": "2024-06-08T16:50:58.410Z"
   },
   {
    "duration": 2,
    "start_time": "2024-06-08T16:51:10.006Z"
   },
   {
    "duration": 5,
    "start_time": "2024-06-08T16:51:30.167Z"
   },
   {
    "duration": 5,
    "start_time": "2024-06-08T16:51:49.784Z"
   },
   {
    "duration": 11,
    "start_time": "2024-06-08T16:53:12.041Z"
   },
   {
    "duration": 8,
    "start_time": "2024-06-08T16:53:31.207Z"
   },
   {
    "duration": 4,
    "start_time": "2024-06-08T16:53:34.546Z"
   },
   {
    "duration": 111,
    "start_time": "2024-06-08T16:53:34.903Z"
   },
   {
    "duration": 48,
    "start_time": "2024-06-08T16:53:35.115Z"
   },
   {
    "duration": 26,
    "start_time": "2024-06-08T16:53:35.318Z"
   },
   {
    "duration": 12,
    "start_time": "2024-06-08T16:53:35.743Z"
   },
   {
    "duration": 11,
    "start_time": "2024-06-08T16:53:36.377Z"
   },
   {
    "duration": 3,
    "start_time": "2024-06-08T16:53:36.935Z"
   },
   {
    "duration": 6,
    "start_time": "2024-06-08T16:53:36.941Z"
   },
   {
    "duration": 8,
    "start_time": "2024-06-08T16:53:37.492Z"
   },
   {
    "duration": 10,
    "start_time": "2024-06-08T16:53:38.152Z"
   },
   {
    "duration": 21,
    "start_time": "2024-06-08T16:53:44.863Z"
   },
   {
    "duration": 5,
    "start_time": "2024-06-08T16:53:51.958Z"
   },
   {
    "duration": 4,
    "start_time": "2024-06-08T16:53:53.353Z"
   },
   {
    "duration": 3,
    "start_time": "2024-06-08T16:54:59.197Z"
   },
   {
    "duration": 123,
    "start_time": "2024-06-08T16:54:59.357Z"
   },
   {
    "duration": 48,
    "start_time": "2024-06-08T16:54:59.589Z"
   },
   {
    "duration": 24,
    "start_time": "2024-06-08T16:54:59.729Z"
   },
   {
    "duration": 12,
    "start_time": "2024-06-08T16:55:00.244Z"
   },
   {
    "duration": 8,
    "start_time": "2024-06-08T16:55:00.461Z"
   },
   {
    "duration": 3,
    "start_time": "2024-06-08T16:55:00.640Z"
   },
   {
    "duration": 3,
    "start_time": "2024-06-08T16:55:01.014Z"
   },
   {
    "duration": 9,
    "start_time": "2024-06-08T16:55:01.584Z"
   },
   {
    "duration": 23,
    "start_time": "2024-06-08T16:55:01.594Z"
   },
   {
    "duration": 24,
    "start_time": "2024-06-08T16:55:05.262Z"
   },
   {
    "duration": 14,
    "start_time": "2024-06-08T16:55:37.758Z"
   },
   {
    "duration": 10,
    "start_time": "2024-06-08T16:57:22.466Z"
   },
   {
    "duration": 14,
    "start_time": "2024-06-08T16:57:49.144Z"
   },
   {
    "duration": 15,
    "start_time": "2024-06-08T16:57:55.539Z"
   },
   {
    "duration": 3,
    "start_time": "2024-06-08T16:58:03.133Z"
   },
   {
    "duration": 114,
    "start_time": "2024-06-08T16:58:03.315Z"
   },
   {
    "duration": 47,
    "start_time": "2024-06-08T16:58:03.504Z"
   },
   {
    "duration": 23,
    "start_time": "2024-06-08T16:58:03.762Z"
   },
   {
    "duration": 13,
    "start_time": "2024-06-08T16:58:04.168Z"
   },
   {
    "duration": 8,
    "start_time": "2024-06-08T16:58:04.526Z"
   },
   {
    "duration": 3,
    "start_time": "2024-06-08T16:58:04.746Z"
   },
   {
    "duration": 3,
    "start_time": "2024-06-08T16:58:05.560Z"
   },
   {
    "duration": 9,
    "start_time": "2024-06-08T16:58:06.603Z"
   },
   {
    "duration": 11,
    "start_time": "2024-06-08T16:58:07.255Z"
   },
   {
    "duration": 22,
    "start_time": "2024-06-08T16:58:12.577Z"
   },
   {
    "duration": 15,
    "start_time": "2024-06-08T16:58:23.052Z"
   },
   {
    "duration": 4,
    "start_time": "2024-06-08T16:58:40.568Z"
   },
   {
    "duration": 11,
    "start_time": "2024-06-08T16:59:07.102Z"
   },
   {
    "duration": 15,
    "start_time": "2024-06-08T17:00:23.681Z"
   },
   {
    "duration": 12,
    "start_time": "2024-06-08T17:00:25.195Z"
   },
   {
    "duration": 7,
    "start_time": "2024-06-08T17:01:35.734Z"
   },
   {
    "duration": 36,
    "start_time": "2024-06-08T17:06:02.751Z"
   },
   {
    "duration": 35,
    "start_time": "2024-06-08T17:07:00.260Z"
   },
   {
    "duration": 33,
    "start_time": "2024-06-08T17:07:25.113Z"
   },
   {
    "duration": 71,
    "start_time": "2024-06-08T17:07:34.439Z"
   },
   {
    "duration": 31,
    "start_time": "2024-06-08T17:07:52.086Z"
   },
   {
    "duration": 3,
    "start_time": "2024-06-08T17:07:56.858Z"
   },
   {
    "duration": 111,
    "start_time": "2024-06-08T17:07:58.076Z"
   },
   {
    "duration": 49,
    "start_time": "2024-06-08T17:07:58.219Z"
   },
   {
    "duration": 33,
    "start_time": "2024-06-08T17:07:58.269Z"
   },
   {
    "duration": 12,
    "start_time": "2024-06-08T17:07:58.586Z"
   },
   {
    "duration": 8,
    "start_time": "2024-06-08T17:07:58.979Z"
   },
   {
    "duration": 4,
    "start_time": "2024-06-08T17:07:59.174Z"
   },
   {
    "duration": 3,
    "start_time": "2024-06-08T17:07:59.582Z"
   },
   {
    "duration": 9,
    "start_time": "2024-06-08T17:08:00.779Z"
   },
   {
    "duration": 11,
    "start_time": "2024-06-08T17:08:01.195Z"
   },
   {
    "duration": 22,
    "start_time": "2024-06-08T17:08:03.936Z"
   },
   {
    "duration": 18,
    "start_time": "2024-06-08T17:08:06.750Z"
   },
   {
    "duration": 19,
    "start_time": "2024-06-08T17:08:43.827Z"
   },
   {
    "duration": 26,
    "start_time": "2024-06-08T17:09:09.669Z"
   },
   {
    "duration": 20,
    "start_time": "2024-06-08T17:09:40.270Z"
   },
   {
    "duration": 5,
    "start_time": "2024-06-08T17:09:42.423Z"
   },
   {
    "duration": 13,
    "start_time": "2024-06-08T17:10:05.739Z"
   },
   {
    "duration": 5,
    "start_time": "2024-06-08T17:10:19.372Z"
   },
   {
    "duration": 11,
    "start_time": "2024-06-08T17:10:22.173Z"
   },
   {
    "duration": 16,
    "start_time": "2024-06-08T17:11:04.657Z"
   },
   {
    "duration": 11,
    "start_time": "2024-06-08T17:11:14.269Z"
   },
   {
    "duration": 6,
    "start_time": "2024-06-08T17:11:51.127Z"
   },
   {
    "duration": 9,
    "start_time": "2024-06-08T17:18:57.607Z"
   },
   {
    "duration": 16,
    "start_time": "2024-06-08T17:19:28.767Z"
   },
   {
    "duration": 8,
    "start_time": "2024-06-08T17:19:44.574Z"
   },
   {
    "duration": 11,
    "start_time": "2024-06-08T17:20:25.813Z"
   },
   {
    "duration": 10,
    "start_time": "2024-06-08T19:10:47.662Z"
   },
   {
    "duration": 10,
    "start_time": "2024-06-08T19:11:08.296Z"
   },
   {
    "duration": 8,
    "start_time": "2024-06-08T19:31:53.316Z"
   },
   {
    "duration": 7,
    "start_time": "2024-06-08T19:32:08.688Z"
   },
   {
    "duration": 8,
    "start_time": "2024-06-08T19:32:17.969Z"
   },
   {
    "duration": 14,
    "start_time": "2024-06-08T19:32:28.094Z"
   },
   {
    "duration": 8,
    "start_time": "2024-06-08T19:34:05.885Z"
   },
   {
    "duration": 68,
    "start_time": "2024-06-08T19:34:48.239Z"
   },
   {
    "duration": 10,
    "start_time": "2024-06-08T19:37:07.386Z"
   },
   {
    "duration": 8,
    "start_time": "2024-06-08T19:37:26.178Z"
   },
   {
    "duration": 4,
    "start_time": "2024-06-08T19:37:33.838Z"
   },
   {
    "duration": 110,
    "start_time": "2024-06-08T19:37:34.029Z"
   },
   {
    "duration": 49,
    "start_time": "2024-06-08T19:37:34.214Z"
   },
   {
    "duration": 24,
    "start_time": "2024-06-08T19:37:34.603Z"
   },
   {
    "duration": 13,
    "start_time": "2024-06-08T19:37:34.988Z"
   },
   {
    "duration": 9,
    "start_time": "2024-06-08T19:37:35.792Z"
   },
   {
    "duration": 25,
    "start_time": "2024-06-08T19:37:35.803Z"
   },
   {
    "duration": 3,
    "start_time": "2024-06-08T19:37:36.354Z"
   },
   {
    "duration": 18,
    "start_time": "2024-06-08T19:37:36.359Z"
   },
   {
    "duration": 16,
    "start_time": "2024-06-08T19:37:36.908Z"
   },
   {
    "duration": 22,
    "start_time": "2024-06-08T19:37:38.832Z"
   },
   {
    "duration": 21,
    "start_time": "2024-06-08T19:37:40.215Z"
   },
   {
    "duration": 61,
    "start_time": "2024-06-08T19:37:40.801Z"
   },
   {
    "duration": 6,
    "start_time": "2024-06-08T19:37:49.893Z"
   },
   {
    "duration": 13,
    "start_time": "2024-06-08T19:37:52.776Z"
   },
   {
    "duration": 8,
    "start_time": "2024-06-08T19:37:53.340Z"
   },
   {
    "duration": 10,
    "start_time": "2024-06-08T19:37:56.784Z"
   },
   {
    "duration": 9,
    "start_time": "2024-06-08T19:37:57.728Z"
   },
   {
    "duration": 8,
    "start_time": "2024-06-08T19:39:37.934Z"
   },
   {
    "duration": 21,
    "start_time": "2024-06-08T19:39:50.241Z"
   },
   {
    "duration": 8,
    "start_time": "2024-06-08T19:39:52.302Z"
   },
   {
    "duration": 10,
    "start_time": "2024-06-08T19:40:03.422Z"
   },
   {
    "duration": 7,
    "start_time": "2024-06-08T19:41:00.809Z"
   },
   {
    "duration": 6,
    "start_time": "2024-06-08T19:41:38.020Z"
   },
   {
    "duration": 7,
    "start_time": "2024-06-08T19:42:01.272Z"
   },
   {
    "duration": 8,
    "start_time": "2024-06-08T19:42:57.723Z"
   },
   {
    "duration": 10,
    "start_time": "2024-06-08T19:43:03.928Z"
   },
   {
    "duration": 15,
    "start_time": "2024-06-08T19:43:04.647Z"
   },
   {
    "duration": 11,
    "start_time": "2024-06-08T19:43:10.718Z"
   },
   {
    "duration": 12,
    "start_time": "2024-06-08T19:57:02.599Z"
   },
   {
    "duration": 7,
    "start_time": "2024-06-08T19:58:06.565Z"
   },
   {
    "duration": 19,
    "start_time": "2024-06-08T19:59:36.031Z"
   },
   {
    "duration": 9,
    "start_time": "2024-06-08T20:00:12.018Z"
   },
   {
    "duration": 9,
    "start_time": "2024-06-08T20:03:05.909Z"
   },
   {
    "duration": 8,
    "start_time": "2024-06-08T20:03:56.876Z"
   },
   {
    "duration": 12,
    "start_time": "2024-06-08T20:04:08.024Z"
   },
   {
    "duration": 8,
    "start_time": "2024-06-08T20:04:10.684Z"
   },
   {
    "duration": 3,
    "start_time": "2024-06-08T20:04:16.046Z"
   },
   {
    "duration": 109,
    "start_time": "2024-06-08T20:04:16.646Z"
   },
   {
    "duration": 46,
    "start_time": "2024-06-08T20:04:16.942Z"
   },
   {
    "duration": 23,
    "start_time": "2024-06-08T20:04:17.199Z"
   },
   {
    "duration": 17,
    "start_time": "2024-06-08T20:04:17.640Z"
   },
   {
    "duration": 8,
    "start_time": "2024-06-08T20:04:18.054Z"
   },
   {
    "duration": 3,
    "start_time": "2024-06-08T20:04:18.710Z"
   },
   {
    "duration": 3,
    "start_time": "2024-06-08T20:04:20.040Z"
   },
   {
    "duration": 9,
    "start_time": "2024-06-08T20:04:20.488Z"
   },
   {
    "duration": 11,
    "start_time": "2024-06-08T20:04:20.671Z"
   },
   {
    "duration": 21,
    "start_time": "2024-06-08T20:04:22.369Z"
   },
   {
    "duration": 17,
    "start_time": "2024-06-08T20:04:23.726Z"
   },
   {
    "duration": 6,
    "start_time": "2024-06-08T20:04:24.541Z"
   },
   {
    "duration": 12,
    "start_time": "2024-06-08T20:04:27.022Z"
   },
   {
    "duration": 8,
    "start_time": "2024-06-08T20:04:27.641Z"
   },
   {
    "duration": 9,
    "start_time": "2024-06-08T20:04:30.862Z"
   },
   {
    "duration": 14,
    "start_time": "2024-06-08T20:04:32.341Z"
   },
   {
    "duration": 7,
    "start_time": "2024-06-08T20:04:35.421Z"
   },
   {
    "duration": 7,
    "start_time": "2024-06-08T20:05:19.176Z"
   },
   {
    "duration": 7,
    "start_time": "2024-06-08T20:05:48.685Z"
   },
   {
    "duration": 7,
    "start_time": "2024-06-08T20:06:08.626Z"
   },
   {
    "duration": 11,
    "start_time": "2024-06-08T20:06:18.251Z"
   },
   {
    "duration": 17,
    "start_time": "2024-06-08T20:10:09.316Z"
   },
   {
    "duration": 17,
    "start_time": "2024-06-08T20:10:44.841Z"
   },
   {
    "duration": 3,
    "start_time": "2024-06-08T20:17:58.224Z"
   },
   {
    "duration": 7,
    "start_time": "2024-06-08T20:27:51.686Z"
   },
   {
    "duration": 13,
    "start_time": "2024-06-08T20:39:15.508Z"
   },
   {
    "duration": 3,
    "start_time": "2024-06-08T20:39:55.722Z"
   },
   {
    "duration": 112,
    "start_time": "2024-06-08T20:39:56.528Z"
   },
   {
    "duration": 54,
    "start_time": "2024-06-08T20:39:56.866Z"
   },
   {
    "duration": 31,
    "start_time": "2024-06-08T20:39:57.142Z"
   },
   {
    "duration": 12,
    "start_time": "2024-06-08T20:39:57.616Z"
   },
   {
    "duration": 8,
    "start_time": "2024-06-08T20:39:58.113Z"
   },
   {
    "duration": 2,
    "start_time": "2024-06-08T20:39:58.333Z"
   },
   {
    "duration": 4,
    "start_time": "2024-06-08T20:39:58.805Z"
   },
   {
    "duration": 12,
    "start_time": "2024-06-08T20:39:59.254Z"
   },
   {
    "duration": 13,
    "start_time": "2024-06-08T20:39:59.523Z"
   },
   {
    "duration": 23,
    "start_time": "2024-06-08T20:40:00.738Z"
   },
   {
    "duration": 18,
    "start_time": "2024-06-08T20:40:01.265Z"
   },
   {
    "duration": 7,
    "start_time": "2024-06-08T20:40:02.315Z"
   },
   {
    "duration": 12,
    "start_time": "2024-06-08T20:40:03.660Z"
   },
   {
    "duration": 11,
    "start_time": "2024-06-08T20:40:04.875Z"
   },
   {
    "duration": 12,
    "start_time": "2024-06-08T20:40:06.902Z"
   },
   {
    "duration": 13,
    "start_time": "2024-06-08T20:40:07.961Z"
   },
   {
    "duration": 3,
    "start_time": "2024-06-08T20:40:09.681Z"
   },
   {
    "duration": 6,
    "start_time": "2024-06-08T20:40:11.596Z"
   },
   {
    "duration": 13,
    "start_time": "2024-06-08T20:40:13.974Z"
   },
   {
    "duration": 12,
    "start_time": "2024-06-08T20:40:18.690Z"
   },
   {
    "duration": 14,
    "start_time": "2024-06-08T20:41:07.199Z"
   },
   {
    "duration": 12,
    "start_time": "2024-06-08T20:43:06.894Z"
   },
   {
    "duration": 10,
    "start_time": "2024-06-08T20:43:26.380Z"
   },
   {
    "duration": 7,
    "start_time": "2024-06-08T20:45:48.579Z"
   },
   {
    "duration": 15,
    "start_time": "2024-06-08T20:46:37.461Z"
   },
   {
    "duration": 14,
    "start_time": "2024-06-08T20:47:38.168Z"
   },
   {
    "duration": 4,
    "start_time": "2024-06-08T20:50:22.779Z"
   },
   {
    "duration": 5,
    "start_time": "2024-06-08T20:51:15.535Z"
   },
   {
    "duration": 111,
    "start_time": "2024-06-08T20:51:16.337Z"
   },
   {
    "duration": 47,
    "start_time": "2024-06-08T20:51:16.450Z"
   },
   {
    "duration": 23,
    "start_time": "2024-06-08T20:51:16.593Z"
   },
   {
    "duration": 12,
    "start_time": "2024-06-08T20:51:17.044Z"
   },
   {
    "duration": 9,
    "start_time": "2024-06-08T20:51:17.496Z"
   },
   {
    "duration": 3,
    "start_time": "2024-06-08T20:51:17.719Z"
   },
   {
    "duration": 3,
    "start_time": "2024-06-08T20:51:18.184Z"
   },
   {
    "duration": 9,
    "start_time": "2024-06-08T20:51:18.876Z"
   },
   {
    "duration": 11,
    "start_time": "2024-06-08T20:51:19.160Z"
   },
   {
    "duration": 22,
    "start_time": "2024-06-08T20:51:20.791Z"
   },
   {
    "duration": 18,
    "start_time": "2024-06-08T20:51:22.912Z"
   },
   {
    "duration": 6,
    "start_time": "2024-06-08T20:51:24.033Z"
   },
   {
    "duration": 11,
    "start_time": "2024-06-08T20:51:26.255Z"
   },
   {
    "duration": 8,
    "start_time": "2024-06-08T20:51:27.346Z"
   },
   {
    "duration": 11,
    "start_time": "2024-06-08T20:51:28.862Z"
   },
   {
    "duration": 13,
    "start_time": "2024-06-08T20:51:29.441Z"
   },
   {
    "duration": 4,
    "start_time": "2024-06-08T20:51:31.411Z"
   },
   {
    "duration": 7,
    "start_time": "2024-06-08T20:51:31.968Z"
   },
   {
    "duration": 16,
    "start_time": "2024-06-08T20:51:33.406Z"
   },
   {
    "duration": 4,
    "start_time": "2024-06-08T20:51:35.884Z"
   },
   {
    "duration": 9,
    "start_time": "2024-06-08T20:53:22.418Z"
   },
   {
    "duration": 5,
    "start_time": "2024-06-08T20:53:39.956Z"
   },
   {
    "duration": 150,
    "start_time": "2024-06-08T20:53:39.962Z"
   },
   {
    "duration": 51,
    "start_time": "2024-06-08T20:53:40.761Z"
   },
   {
    "duration": 27,
    "start_time": "2024-06-08T20:53:40.813Z"
   },
   {
    "duration": 11,
    "start_time": "2024-06-08T20:53:40.841Z"
   },
   {
    "duration": 7,
    "start_time": "2024-06-08T20:53:41.054Z"
   },
   {
    "duration": 3,
    "start_time": "2024-06-08T20:53:41.237Z"
   },
   {
    "duration": 2,
    "start_time": "2024-06-08T20:53:42.066Z"
   },
   {
    "duration": 9,
    "start_time": "2024-06-08T20:53:44.821Z"
   },
   {
    "duration": 18,
    "start_time": "2024-06-08T20:53:47.211Z"
   },
   {
    "duration": 23,
    "start_time": "2024-06-08T20:53:50.038Z"
   },
   {
    "duration": 4,
    "start_time": "2024-06-08T20:53:52.683Z"
   },
   {
    "duration": 4,
    "start_time": "2024-06-08T20:54:17.648Z"
   },
   {
    "duration": 6,
    "start_time": "2024-06-08T20:55:37.818Z"
   },
   {
    "duration": 6,
    "start_time": "2024-06-08T20:55:40.179Z"
   },
   {
    "duration": 11,
    "start_time": "2024-06-08T20:55:41.328Z"
   },
   {
    "duration": 11,
    "start_time": "2024-06-08T20:55:41.530Z"
   },
   {
    "duration": 9,
    "start_time": "2024-06-08T20:55:41.970Z"
   },
   {
    "duration": 13,
    "start_time": "2024-06-08T20:55:42.167Z"
   },
   {
    "duration": 3,
    "start_time": "2024-06-08T20:55:42.597Z"
   },
   {
    "duration": 8,
    "start_time": "2024-06-08T20:55:43.216Z"
   },
   {
    "duration": 25,
    "start_time": "2024-06-08T20:55:44.863Z"
   },
   {
    "duration": 4,
    "start_time": "2024-06-08T20:55:48.361Z"
   },
   {
    "duration": 6,
    "start_time": "2024-06-08T20:57:19.058Z"
   },
   {
    "duration": 10,
    "start_time": "2024-06-08T20:57:21.544Z"
   },
   {
    "duration": 11,
    "start_time": "2024-06-08T20:57:21.980Z"
   },
   {
    "duration": 8,
    "start_time": "2024-06-08T20:57:22.200Z"
   },
   {
    "duration": 11,
    "start_time": "2024-06-08T20:57:23.806Z"
   },
   {
    "duration": 13,
    "start_time": "2024-06-08T20:57:24.495Z"
   },
   {
    "duration": 4,
    "start_time": "2024-06-08T20:57:27.012Z"
   },
   {
    "duration": 7,
    "start_time": "2024-06-08T20:57:28.261Z"
   },
   {
    "duration": 20,
    "start_time": "2024-06-08T20:57:30.041Z"
   },
   {
    "duration": 3,
    "start_time": "2024-06-08T20:57:31.705Z"
   },
   {
    "duration": 7,
    "start_time": "2024-06-08T21:00:15.845Z"
   },
   {
    "duration": 5,
    "start_time": "2024-06-08T21:00:25.103Z"
   },
   {
    "duration": 4,
    "start_time": "2024-06-08T21:00:30.273Z"
   },
   {
    "duration": 111,
    "start_time": "2024-06-08T21:00:30.507Z"
   },
   {
    "duration": 53,
    "start_time": "2024-06-08T21:00:30.745Z"
   },
   {
    "duration": 27,
    "start_time": "2024-06-08T21:00:31.086Z"
   },
   {
    "duration": 11,
    "start_time": "2024-06-08T21:00:31.616Z"
   },
   {
    "duration": 7,
    "start_time": "2024-06-08T21:00:32.083Z"
   },
   {
    "duration": 3,
    "start_time": "2024-06-08T21:00:32.300Z"
   },
   {
    "duration": 2,
    "start_time": "2024-06-08T21:00:32.667Z"
   },
   {
    "duration": 9,
    "start_time": "2024-06-08T21:00:33.092Z"
   },
   {
    "duration": 14,
    "start_time": "2024-06-08T21:00:33.295Z"
   },
   {
    "duration": 23,
    "start_time": "2024-06-08T21:00:34.410Z"
   },
   {
    "duration": 5,
    "start_time": "2024-06-08T21:00:35.720Z"
   },
   {
    "duration": 4,
    "start_time": "2024-06-08T21:00:36.274Z"
   },
   {
    "duration": 4,
    "start_time": "2024-06-08T21:00:37.079Z"
   },
   {
    "duration": 15,
    "start_time": "2024-06-08T21:00:37.085Z"
   },
   {
    "duration": 11,
    "start_time": "2024-06-08T21:00:40.660Z"
   },
   {
    "duration": 7,
    "start_time": "2024-06-08T21:00:41.034Z"
   },
   {
    "duration": 11,
    "start_time": "2024-06-08T21:00:42.510Z"
   },
   {
    "duration": 14,
    "start_time": "2024-06-08T21:00:43.654Z"
   },
   {
    "duration": 3,
    "start_time": "2024-06-08T21:00:46.497Z"
   },
   {
    "duration": 7,
    "start_time": "2024-06-08T21:00:47.558Z"
   },
   {
    "duration": 23,
    "start_time": "2024-06-08T21:00:49.414Z"
   },
   {
    "duration": 4,
    "start_time": "2024-06-08T21:00:51.043Z"
   },
   {
    "duration": 5,
    "start_time": "2024-06-08T21:01:12.734Z"
   },
   {
    "duration": 14,
    "start_time": "2024-06-08T21:02:24.345Z"
   },
   {
    "duration": 5,
    "start_time": "2024-06-08T21:03:42.068Z"
   },
   {
    "duration": 12,
    "start_time": "2024-06-08T21:09:21.025Z"
   },
   {
    "duration": 4,
    "start_time": "2024-06-08T21:19:20.904Z"
   },
   {
    "duration": 6,
    "start_time": "2024-06-09T07:17:09.514Z"
   },
   {
    "duration": 72,
    "start_time": "2024-06-09T07:17:53.357Z"
   },
   {
    "duration": 5,
    "start_time": "2024-06-09T07:18:07.875Z"
   },
   {
    "duration": 6,
    "start_time": "2024-06-09T07:18:11.835Z"
   },
   {
    "duration": 12,
    "start_time": "2024-06-09T07:19:01.184Z"
   },
   {
    "duration": 17,
    "start_time": "2024-06-09T07:19:27.215Z"
   },
   {
    "duration": 8,
    "start_time": "2024-06-09T07:19:35.246Z"
   },
   {
    "duration": 3,
    "start_time": "2024-06-09T07:19:41.973Z"
   },
   {
    "duration": 112,
    "start_time": "2024-06-09T07:19:42.527Z"
   },
   {
    "duration": 48,
    "start_time": "2024-06-09T07:19:42.640Z"
   },
   {
    "duration": 24,
    "start_time": "2024-06-09T07:19:43.084Z"
   },
   {
    "duration": 14,
    "start_time": "2024-06-09T07:19:43.109Z"
   },
   {
    "duration": 8,
    "start_time": "2024-06-09T07:19:43.742Z"
   },
   {
    "duration": 18,
    "start_time": "2024-06-09T07:19:43.751Z"
   },
   {
    "duration": 3,
    "start_time": "2024-06-09T07:19:43.927Z"
   },
   {
    "duration": 9,
    "start_time": "2024-06-09T07:19:44.417Z"
   },
   {
    "duration": 11,
    "start_time": "2024-06-09T07:19:44.842Z"
   },
   {
    "duration": 23,
    "start_time": "2024-06-09T07:19:46.480Z"
   },
   {
    "duration": 4,
    "start_time": "2024-06-09T07:19:47.715Z"
   },
   {
    "duration": 4,
    "start_time": "2024-06-09T07:19:47.962Z"
   },
   {
    "duration": 5,
    "start_time": "2024-06-09T07:19:48.150Z"
   },
   {
    "duration": 7,
    "start_time": "2024-06-09T07:19:48.557Z"
   },
   {
    "duration": 10,
    "start_time": "2024-06-09T07:19:50.458Z"
   },
   {
    "duration": 7,
    "start_time": "2024-06-09T07:19:52.235Z"
   },
   {
    "duration": 13,
    "start_time": "2024-06-09T07:19:54.594Z"
   },
   {
    "duration": 17,
    "start_time": "2024-06-09T07:19:57.274Z"
   },
   {
    "duration": 3,
    "start_time": "2024-06-09T07:20:00.064Z"
   },
   {
    "duration": 10,
    "start_time": "2024-06-09T07:20:02.015Z"
   },
   {
    "duration": 6,
    "start_time": "2024-06-09T07:20:04.417Z"
   },
   {
    "duration": 7,
    "start_time": "2024-06-09T07:20:07.440Z"
   },
   {
    "duration": 5,
    "start_time": "2024-06-09T07:20:40.537Z"
   },
   {
    "duration": 8,
    "start_time": "2024-06-09T07:20:41.977Z"
   },
   {
    "duration": 3,
    "start_time": "2024-06-09T07:28:09.068Z"
   },
   {
    "duration": 7,
    "start_time": "2024-06-09T07:28:24.488Z"
   },
   {
    "duration": 13,
    "start_time": "2024-06-09T07:28:40.161Z"
   },
   {
    "duration": 6,
    "start_time": "2024-06-09T07:28:48.444Z"
   },
   {
    "duration": 12,
    "start_time": "2024-06-09T07:28:49.317Z"
   },
   {
    "duration": 4,
    "start_time": "2024-06-09T07:28:58.284Z"
   },
   {
    "duration": 119,
    "start_time": "2024-06-09T07:28:58.486Z"
   },
   {
    "duration": 47,
    "start_time": "2024-06-09T07:28:58.667Z"
   },
   {
    "duration": 26,
    "start_time": "2024-06-09T07:28:58.837Z"
   },
   {
    "duration": 14,
    "start_time": "2024-06-09T07:28:59.209Z"
   },
   {
    "duration": 7,
    "start_time": "2024-06-09T07:28:59.575Z"
   },
   {
    "duration": 3,
    "start_time": "2024-06-09T07:28:59.755Z"
   },
   {
    "duration": 3,
    "start_time": "2024-06-09T07:29:00.129Z"
   },
   {
    "duration": 9,
    "start_time": "2024-06-09T07:29:00.838Z"
   },
   {
    "duration": 13,
    "start_time": "2024-06-09T07:29:01.164Z"
   },
   {
    "duration": 25,
    "start_time": "2024-06-09T07:29:03.485Z"
   },
   {
    "duration": 5,
    "start_time": "2024-06-09T07:29:04.705Z"
   },
   {
    "duration": 4,
    "start_time": "2024-06-09T07:29:04.855Z"
   },
   {
    "duration": 4,
    "start_time": "2024-06-09T07:29:04.932Z"
   },
   {
    "duration": 8,
    "start_time": "2024-06-09T07:29:05.929Z"
   },
   {
    "duration": 11,
    "start_time": "2024-06-09T07:29:06.972Z"
   },
   {
    "duration": 10,
    "start_time": "2024-06-09T07:29:07.444Z"
   },
   {
    "duration": 10,
    "start_time": "2024-06-09T07:29:08.307Z"
   },
   {
    "duration": 18,
    "start_time": "2024-06-09T07:29:09.027Z"
   },
   {
    "duration": 3,
    "start_time": "2024-06-09T07:29:10.849Z"
   },
   {
    "duration": 10,
    "start_time": "2024-06-09T07:29:11.979Z"
   },
   {
    "duration": 5,
    "start_time": "2024-06-09T07:29:13.349Z"
   },
   {
    "duration": 7,
    "start_time": "2024-06-09T07:29:14.070Z"
   },
   {
    "duration": 22,
    "start_time": "2024-06-09T07:29:15.273Z"
   },
   {
    "duration": 11,
    "start_time": "2024-06-09T07:29:15.762Z"
   },
   {
    "duration": 7,
    "start_time": "2024-06-09T07:29:17.228Z"
   },
   {
    "duration": 12,
    "start_time": "2024-06-09T07:29:17.807Z"
   },
   {
    "duration": 4,
    "start_time": "2024-06-09T07:29:19.921Z"
   },
   {
    "duration": 5,
    "start_time": "2024-06-09T07:29:21.697Z"
   },
   {
    "duration": 7,
    "start_time": "2024-06-09T07:30:39.270Z"
   },
   {
    "duration": 12,
    "start_time": "2024-06-09T07:30:41.465Z"
   },
   {
    "duration": 4,
    "start_time": "2024-06-09T07:32:56.351Z"
   },
   {
    "duration": 5,
    "start_time": "2024-06-09T07:32:57.108Z"
   },
   {
    "duration": 12,
    "start_time": "2024-06-09T07:32:58.221Z"
   },
   {
    "duration": 4,
    "start_time": "2024-06-09T07:48:27.107Z"
   },
   {
    "duration": 114,
    "start_time": "2024-06-09T07:48:27.659Z"
   },
   {
    "duration": 58,
    "start_time": "2024-06-09T07:48:28.240Z"
   },
   {
    "duration": 24,
    "start_time": "2024-06-09T07:48:28.799Z"
   },
   {
    "duration": 12,
    "start_time": "2024-06-09T07:48:29.354Z"
   },
   {
    "duration": 8,
    "start_time": "2024-06-09T07:48:30.012Z"
   },
   {
    "duration": 40,
    "start_time": "2024-06-09T07:48:30.022Z"
   },
   {
    "duration": 3,
    "start_time": "2024-06-09T07:48:30.157Z"
   },
   {
    "duration": 9,
    "start_time": "2024-06-09T07:48:30.413Z"
   },
   {
    "duration": 11,
    "start_time": "2024-06-09T07:48:30.610Z"
   },
   {
    "duration": 22,
    "start_time": "2024-06-09T07:48:32.879Z"
   },
   {
    "duration": 4,
    "start_time": "2024-06-09T07:48:34.486Z"
   },
   {
    "duration": 4,
    "start_time": "2024-06-09T07:48:35.113Z"
   },
   {
    "duration": 5,
    "start_time": "2024-06-09T07:48:35.545Z"
   },
   {
    "duration": 6,
    "start_time": "2024-06-09T07:48:36.728Z"
   },
   {
    "duration": 11,
    "start_time": "2024-06-09T07:48:39.838Z"
   },
   {
    "duration": 7,
    "start_time": "2024-06-09T07:48:40.570Z"
   },
   {
    "duration": 8,
    "start_time": "2024-06-09T07:48:42.830Z"
   },
   {
    "duration": 13,
    "start_time": "2024-06-09T07:48:44.392Z"
   },
   {
    "duration": 3,
    "start_time": "2024-06-09T07:48:48.238Z"
   },
   {
    "duration": 7,
    "start_time": "2024-06-09T07:48:50.167Z"
   },
   {
    "duration": 5,
    "start_time": "2024-06-09T07:48:52.850Z"
   },
   {
    "duration": 7,
    "start_time": "2024-06-09T07:48:55.758Z"
   },
   {
    "duration": 22,
    "start_time": "2024-06-09T07:48:57.283Z"
   },
   {
    "duration": 11,
    "start_time": "2024-06-09T07:48:58.364Z"
   },
   {
    "duration": 4,
    "start_time": "2024-06-09T07:49:05.296Z"
   },
   {
    "duration": 5,
    "start_time": "2024-06-09T07:49:13.328Z"
   },
   {
    "duration": 12,
    "start_time": "2024-06-09T07:49:14.550Z"
   },
   {
    "duration": 4,
    "start_time": "2024-06-09T08:23:22.408Z"
   },
   {
    "duration": 6,
    "start_time": "2024-06-09T08:24:36.799Z"
   },
   {
    "duration": 3,
    "start_time": "2024-06-09T08:24:52.752Z"
   },
   {
    "duration": 7,
    "start_time": "2024-06-09T08:28:55.461Z"
   },
   {
    "duration": 2,
    "start_time": "2024-06-09T08:28:59.484Z"
   },
   {
    "duration": 9,
    "start_time": "2024-06-09T08:29:00.071Z"
   },
   {
    "duration": 13,
    "start_time": "2024-06-09T08:29:15.017Z"
   },
   {
    "duration": 16,
    "start_time": "2024-06-09T08:31:10.140Z"
   },
   {
    "duration": 3,
    "start_time": "2024-06-09T08:36:59.451Z"
   },
   {
    "duration": 7,
    "start_time": "2024-06-09T08:37:00.255Z"
   },
   {
    "duration": 16,
    "start_time": "2024-06-09T08:37:04.875Z"
   },
   {
    "duration": 5,
    "start_time": "2024-06-09T08:38:59.820Z"
   },
   {
    "duration": 17,
    "start_time": "2024-06-09T08:39:02.605Z"
   },
   {
    "duration": 3,
    "start_time": "2024-06-09T08:39:17.011Z"
   },
   {
    "duration": 121,
    "start_time": "2024-06-09T08:39:17.198Z"
   },
   {
    "duration": 49,
    "start_time": "2024-06-09T08:39:17.820Z"
   },
   {
    "duration": 36,
    "start_time": "2024-06-09T08:39:17.871Z"
   },
   {
    "duration": 13,
    "start_time": "2024-06-09T08:39:18.377Z"
   },
   {
    "duration": 7,
    "start_time": "2024-06-09T08:39:18.945Z"
   },
   {
    "duration": 6,
    "start_time": "2024-06-09T08:39:18.954Z"
   },
   {
    "duration": 8,
    "start_time": "2024-06-09T08:39:18.962Z"
   },
   {
    "duration": 8,
    "start_time": "2024-06-09T08:39:19.749Z"
   },
   {
    "duration": 10,
    "start_time": "2024-06-09T08:39:19.759Z"
   },
   {
    "duration": 22,
    "start_time": "2024-06-09T08:39:20.938Z"
   },
   {
    "duration": 5,
    "start_time": "2024-06-09T08:39:22.011Z"
   },
   {
    "duration": 4,
    "start_time": "2024-06-09T08:39:22.355Z"
   },
   {
    "duration": 5,
    "start_time": "2024-06-09T08:39:22.572Z"
   },
   {
    "duration": 7,
    "start_time": "2024-06-09T08:39:23.307Z"
   },
   {
    "duration": 11,
    "start_time": "2024-06-09T08:39:24.284Z"
   },
   {
    "duration": 8,
    "start_time": "2024-06-09T08:39:24.660Z"
   },
   {
    "duration": 11,
    "start_time": "2024-06-09T08:39:25.454Z"
   },
   {
    "duration": 14,
    "start_time": "2024-06-09T08:39:26.323Z"
   },
   {
    "duration": 3,
    "start_time": "2024-06-09T08:39:26.882Z"
   },
   {
    "duration": 7,
    "start_time": "2024-06-09T08:39:27.445Z"
   },
   {
    "duration": 7,
    "start_time": "2024-06-09T08:39:28.250Z"
   },
   {
    "duration": 22,
    "start_time": "2024-06-09T08:39:28.991Z"
   },
   {
    "duration": 12,
    "start_time": "2024-06-09T08:39:29.285Z"
   },
   {
    "duration": 4,
    "start_time": "2024-06-09T08:39:30.115Z"
   },
   {
    "duration": 5,
    "start_time": "2024-06-09T08:39:30.376Z"
   },
   {
    "duration": 4,
    "start_time": "2024-06-09T08:39:31.355Z"
   },
   {
    "duration": 4,
    "start_time": "2024-06-09T08:39:32.449Z"
   },
   {
    "duration": 6,
    "start_time": "2024-06-09T08:39:33.186Z"
   },
   {
    "duration": 4,
    "start_time": "2024-06-09T08:39:34.824Z"
   },
   {
    "duration": 2,
    "start_time": "2024-06-09T08:39:35.941Z"
   },
   {
    "duration": 2,
    "start_time": "2024-06-09T08:39:36.601Z"
   },
   {
    "duration": 5,
    "start_time": "2024-06-09T08:39:36.885Z"
   },
   {
    "duration": 15,
    "start_time": "2024-06-09T08:39:38.606Z"
   },
   {
    "duration": 3,
    "start_time": "2024-06-09T08:39:59.266Z"
   },
   {
    "duration": 112,
    "start_time": "2024-06-09T08:39:59.455Z"
   },
   {
    "duration": 51,
    "start_time": "2024-06-09T08:39:59.636Z"
   },
   {
    "duration": 33,
    "start_time": "2024-06-09T08:40:00.315Z"
   },
   {
    "duration": 13,
    "start_time": "2024-06-09T08:40:00.869Z"
   },
   {
    "duration": 68,
    "start_time": "2024-06-09T08:40:00.883Z"
   },
   {
    "duration": 3,
    "start_time": "2024-06-09T08:40:02.229Z"
   },
   {
    "duration": 58,
    "start_time": "2024-06-09T08:40:02.233Z"
   },
   {
    "duration": 20,
    "start_time": "2024-06-09T08:40:02.292Z"
   },
   {
    "duration": 15,
    "start_time": "2024-06-09T08:40:02.314Z"
   },
   {
    "duration": 22,
    "start_time": "2024-06-09T08:40:02.866Z"
   },
   {
    "duration": 5,
    "start_time": "2024-06-09T08:40:03.257Z"
   },
   {
    "duration": 4,
    "start_time": "2024-06-09T08:40:03.447Z"
   },
   {
    "duration": 5,
    "start_time": "2024-06-09T08:40:03.647Z"
   },
   {
    "duration": 7,
    "start_time": "2024-06-09T08:40:04.477Z"
   },
   {
    "duration": 11,
    "start_time": "2024-06-09T08:40:05.495Z"
   },
   {
    "duration": 8,
    "start_time": "2024-06-09T08:40:05.826Z"
   },
   {
    "duration": 10,
    "start_time": "2024-06-09T08:40:06.523Z"
   },
   {
    "duration": 14,
    "start_time": "2024-06-09T08:40:07.003Z"
   },
   {
    "duration": 3,
    "start_time": "2024-06-09T08:40:08.804Z"
   },
   {
    "duration": 10,
    "start_time": "2024-06-09T08:40:09.366Z"
   },
   {
    "duration": 8,
    "start_time": "2024-06-09T08:40:11.237Z"
   },
   {
    "duration": 23,
    "start_time": "2024-06-09T08:40:14.106Z"
   },
   {
    "duration": 12,
    "start_time": "2024-06-09T08:40:15.140Z"
   },
   {
    "duration": 4,
    "start_time": "2024-06-09T08:40:16.656Z"
   },
   {
    "duration": 4,
    "start_time": "2024-06-09T08:40:17.308Z"
   },
   {
    "duration": 3,
    "start_time": "2024-06-09T08:40:25.797Z"
   },
   {
    "duration": 5,
    "start_time": "2024-06-09T08:40:31.067Z"
   },
   {
    "duration": 5,
    "start_time": "2024-06-09T08:40:33.119Z"
   },
   {
    "duration": 3,
    "start_time": "2024-06-09T08:40:35.416Z"
   },
   {
    "duration": 2,
    "start_time": "2024-06-09T08:40:36.955Z"
   },
   {
    "duration": 2,
    "start_time": "2024-06-09T08:40:37.366Z"
   },
   {
    "duration": 4,
    "start_time": "2024-06-09T08:40:38.667Z"
   },
   {
    "duration": 15,
    "start_time": "2024-06-09T08:40:41.910Z"
   },
   {
    "duration": 5,
    "start_time": "2024-06-09T08:41:52.645Z"
   },
   {
    "duration": 14,
    "start_time": "2024-06-09T08:41:55.296Z"
   },
   {
    "duration": 2,
    "start_time": "2024-06-09T08:42:33.894Z"
   },
   {
    "duration": 12,
    "start_time": "2024-06-09T08:42:34.455Z"
   },
   {
    "duration": 16,
    "start_time": "2024-06-09T08:42:38.681Z"
   },
   {
    "duration": 6,
    "start_time": "2024-06-09T08:48:01.179Z"
   },
   {
    "duration": 5,
    "start_time": "2024-06-09T08:48:10.413Z"
   },
   {
    "duration": 5,
    "start_time": "2024-06-09T08:48:35.545Z"
   },
   {
    "duration": 4,
    "start_time": "2024-06-09T08:49:40.223Z"
   },
   {
    "duration": 4,
    "start_time": "2024-06-09T08:49:51.708Z"
   },
   {
    "duration": 12,
    "start_time": "2024-06-09T08:55:44.421Z"
   },
   {
    "duration": 7,
    "start_time": "2024-06-09T08:55:44.976Z"
   },
   {
    "duration": 9,
    "start_time": "2024-06-09T08:55:45.770Z"
   },
   {
    "duration": 22,
    "start_time": "2024-06-09T08:55:45.904Z"
   },
   {
    "duration": 14,
    "start_time": "2024-06-09T08:55:46.107Z"
   },
   {
    "duration": 4,
    "start_time": "2024-06-09T08:55:46.532Z"
   },
   {
    "duration": 4,
    "start_time": "2024-06-09T08:55:46.735Z"
   },
   {
    "duration": 5,
    "start_time": "2024-06-09T08:55:47.128Z"
   },
   {
    "duration": 5,
    "start_time": "2024-06-09T08:55:47.541Z"
   },
   {
    "duration": 5,
    "start_time": "2024-06-09T08:55:47.959Z"
   },
   {
    "duration": 3,
    "start_time": "2024-06-09T08:55:48.602Z"
   },
   {
    "duration": 2,
    "start_time": "2024-06-09T08:55:49.415Z"
   },
   {
    "duration": 7,
    "start_time": "2024-06-09T08:55:49.610Z"
   },
   {
    "duration": 5,
    "start_time": "2024-06-09T08:55:50.068Z"
   },
   {
    "duration": 16,
    "start_time": "2024-06-09T09:00:07.611Z"
   },
   {
    "duration": 14,
    "start_time": "2024-06-09T09:00:27.976Z"
   },
   {
    "duration": 1002,
    "start_time": "2024-06-09T09:00:51.228Z"
   },
   {
    "duration": 986,
    "start_time": "2024-06-09T09:01:40.131Z"
   },
   {
    "duration": 945,
    "start_time": "2024-06-09T09:02:35.160Z"
   },
   {
    "duration": 1011,
    "start_time": "2024-06-09T09:05:33.773Z"
   },
   {
    "duration": 1002,
    "start_time": "2024-06-09T09:06:25.345Z"
   },
   {
    "duration": 24,
    "start_time": "2024-06-09T09:09:23.555Z"
   },
   {
    "duration": 1015,
    "start_time": "2024-06-09T09:09:27.136Z"
   },
   {
    "duration": 16,
    "start_time": "2024-06-09T09:10:47.860Z"
   },
   {
    "duration": 29,
    "start_time": "2024-06-09T09:11:15.402Z"
   },
   {
    "duration": 936,
    "start_time": "2024-06-09T09:11:52.171Z"
   },
   {
    "duration": 32,
    "start_time": "2024-06-09T09:12:03.325Z"
   },
   {
    "duration": 33,
    "start_time": "2024-06-09T09:12:06.098Z"
   },
   {
    "duration": 38,
    "start_time": "2024-06-09T09:12:30.312Z"
   },
   {
    "duration": 296,
    "start_time": "2024-06-09T09:15:17.615Z"
   },
   {
    "duration": 301,
    "start_time": "2024-06-09T09:15:54.198Z"
   },
   {
    "duration": 139,
    "start_time": "2024-06-09T09:16:11.921Z"
   },
   {
    "duration": 212,
    "start_time": "2024-06-09T09:17:06.272Z"
   },
   {
    "duration": 1030,
    "start_time": "2024-06-09T09:21:25.143Z"
   },
   {
    "duration": 1053,
    "start_time": "2024-06-09T09:21:34.584Z"
   },
   {
    "duration": 29,
    "start_time": "2024-06-09T09:21:44.360Z"
   },
   {
    "duration": 129,
    "start_time": "2024-06-09T09:23:14.055Z"
   },
   {
    "duration": 158,
    "start_time": "2024-06-09T09:23:58.380Z"
   },
   {
    "duration": 150,
    "start_time": "2024-06-09T09:24:07.885Z"
   },
   {
    "duration": 171,
    "start_time": "2024-06-09T09:24:16.542Z"
   },
   {
    "duration": 221,
    "start_time": "2024-06-09T09:24:23.157Z"
   },
   {
    "duration": 29,
    "start_time": "2024-06-09T09:26:31.569Z"
   },
   {
    "duration": 190,
    "start_time": "2024-06-09T09:26:31.851Z"
   },
   {
    "duration": 3,
    "start_time": "2024-06-09T09:26:42.767Z"
   },
   {
    "duration": 115,
    "start_time": "2024-06-09T09:26:42.954Z"
   },
   {
    "duration": 51,
    "start_time": "2024-06-09T09:26:43.150Z"
   },
   {
    "duration": 25,
    "start_time": "2024-06-09T09:26:43.325Z"
   },
   {
    "duration": 12,
    "start_time": "2024-06-09T09:26:43.680Z"
   },
   {
    "duration": 8,
    "start_time": "2024-06-09T09:26:44.036Z"
   },
   {
    "duration": 3,
    "start_time": "2024-06-09T09:26:44.219Z"
   },
   {
    "duration": 3,
    "start_time": "2024-06-09T09:26:44.569Z"
   },
   {
    "duration": 9,
    "start_time": "2024-06-09T09:26:45.466Z"
   },
   {
    "duration": 11,
    "start_time": "2024-06-09T09:26:45.477Z"
   },
   {
    "duration": 22,
    "start_time": "2024-06-09T09:26:46.577Z"
   },
   {
    "duration": 5,
    "start_time": "2024-06-09T09:26:46.601Z"
   },
   {
    "duration": 4,
    "start_time": "2024-06-09T09:26:47.243Z"
   },
   {
    "duration": 9,
    "start_time": "2024-06-09T09:26:47.248Z"
   },
   {
    "duration": 7,
    "start_time": "2024-06-09T09:26:47.473Z"
   },
   {
    "duration": 15,
    "start_time": "2024-06-09T09:26:48.223Z"
   },
   {
    "duration": 7,
    "start_time": "2024-06-09T09:26:48.463Z"
   },
   {
    "duration": 8,
    "start_time": "2024-06-09T09:26:48.894Z"
   },
   {
    "duration": 13,
    "start_time": "2024-06-09T09:26:49.121Z"
   },
   {
    "duration": 7,
    "start_time": "2024-06-09T09:26:50.612Z"
   },
   {
    "duration": 8,
    "start_time": "2024-06-09T09:26:51.525Z"
   },
   {
    "duration": 22,
    "start_time": "2024-06-09T09:26:52.077Z"
   },
   {
    "duration": 12,
    "start_time": "2024-06-09T09:26:52.417Z"
   },
   {
    "duration": 4,
    "start_time": "2024-06-09T09:26:52.861Z"
   },
   {
    "duration": 4,
    "start_time": "2024-06-09T09:26:53.348Z"
   },
   {
    "duration": 5,
    "start_time": "2024-06-09T09:26:54.508Z"
   },
   {
    "duration": 5,
    "start_time": "2024-06-09T09:26:55.074Z"
   },
   {
    "duration": 5,
    "start_time": "2024-06-09T09:26:56.266Z"
   },
   {
    "duration": 4,
    "start_time": "2024-06-09T09:26:57.511Z"
   },
   {
    "duration": 3,
    "start_time": "2024-06-09T09:26:58.105Z"
   },
   {
    "duration": 11,
    "start_time": "2024-06-09T09:26:58.578Z"
   },
   {
    "duration": 4,
    "start_time": "2024-06-09T09:26:59.393Z"
   },
   {
    "duration": 29,
    "start_time": "2024-06-09T09:27:01.129Z"
   },
   {
    "duration": 195,
    "start_time": "2024-06-09T09:27:07.294Z"
   },
   {
    "duration": 5,
    "start_time": "2024-06-09T09:28:16.962Z"
   },
   {
    "duration": 58,
    "start_time": "2024-06-09T09:33:18.657Z"
   },
   {
    "duration": 62,
    "start_time": "2024-06-09T09:33:51.135Z"
   },
   {
    "duration": 59,
    "start_time": "2024-06-09T09:34:23.776Z"
   },
   {
    "duration": 7,
    "start_time": "2024-06-09T09:37:15.709Z"
   },
   {
    "duration": 6,
    "start_time": "2024-06-09T09:38:04.586Z"
   },
   {
    "duration": 8,
    "start_time": "2024-06-09T09:38:08.146Z"
   },
   {
    "duration": 28,
    "start_time": "2024-06-09T09:38:19.432Z"
   },
   {
    "duration": 174,
    "start_time": "2024-06-09T09:38:25.497Z"
   },
   {
    "duration": 6,
    "start_time": "2024-06-09T09:38:26.756Z"
   },
   {
    "duration": 4,
    "start_time": "2024-06-09T09:39:43.007Z"
   },
   {
    "duration": 115,
    "start_time": "2024-06-09T09:39:43.194Z"
   },
   {
    "duration": 48,
    "start_time": "2024-06-09T09:39:43.391Z"
   },
   {
    "duration": 24,
    "start_time": "2024-06-09T09:39:43.572Z"
   },
   {
    "duration": 12,
    "start_time": "2024-06-09T09:39:43.980Z"
   },
   {
    "duration": 8,
    "start_time": "2024-06-09T09:39:44.335Z"
   },
   {
    "duration": 3,
    "start_time": "2024-06-09T09:39:44.506Z"
   },
   {
    "duration": 3,
    "start_time": "2024-06-09T09:39:44.881Z"
   },
   {
    "duration": 9,
    "start_time": "2024-06-09T09:39:45.262Z"
   },
   {
    "duration": 11,
    "start_time": "2024-06-09T09:39:45.451Z"
   },
   {
    "duration": 23,
    "start_time": "2024-06-09T09:39:46.380Z"
   },
   {
    "duration": 5,
    "start_time": "2024-06-09T09:39:46.748Z"
   },
   {
    "duration": 4,
    "start_time": "2024-06-09T09:39:46.933Z"
   },
   {
    "duration": 5,
    "start_time": "2024-06-09T09:39:47.498Z"
   },
   {
    "duration": 9,
    "start_time": "2024-06-09T09:39:48.056Z"
   },
   {
    "duration": 23,
    "start_time": "2024-06-09T09:39:48.067Z"
   },
   {
    "duration": 7,
    "start_time": "2024-06-09T09:39:48.619Z"
   },
   {
    "duration": 10,
    "start_time": "2024-06-09T09:39:49.418Z"
   },
   {
    "duration": 50,
    "start_time": "2024-06-09T09:39:49.429Z"
   },
   {
    "duration": 6,
    "start_time": "2024-06-09T09:39:51.119Z"
   },
   {
    "duration": 8,
    "start_time": "2024-06-09T09:39:52.717Z"
   },
   {
    "duration": 24,
    "start_time": "2024-06-09T09:39:53.898Z"
   },
   {
    "duration": 13,
    "start_time": "2024-06-09T09:39:54.485Z"
   },
   {
    "duration": 4,
    "start_time": "2024-06-09T09:39:55.996Z"
   },
   {
    "duration": 4,
    "start_time": "2024-06-09T09:39:57.112Z"
   },
   {
    "duration": 5,
    "start_time": "2024-06-09T09:39:57.929Z"
   },
   {
    "duration": 7,
    "start_time": "2024-06-09T09:39:59.268Z"
   },
   {
    "duration": 4,
    "start_time": "2024-06-09T09:40:02.397Z"
   },
   {
    "duration": 3,
    "start_time": "2024-06-09T09:40:03.721Z"
   },
   {
    "duration": 9,
    "start_time": "2024-06-09T09:40:05.049Z"
   },
   {
    "duration": 5,
    "start_time": "2024-06-09T09:40:05.605Z"
   },
   {
    "duration": 30,
    "start_time": "2024-06-09T09:40:08.182Z"
   },
   {
    "duration": 175,
    "start_time": "2024-06-09T09:40:09.296Z"
   },
   {
    "duration": 7,
    "start_time": "2024-06-09T09:40:10.486Z"
   },
   {
    "duration": 6,
    "start_time": "2024-06-09T09:40:14.752Z"
   },
   {
    "duration": 8,
    "start_time": "2024-06-09T09:40:25.690Z"
   },
   {
    "duration": 114,
    "start_time": "2024-06-09T09:41:18.236Z"
   },
   {
    "duration": 7,
    "start_time": "2024-06-09T09:42:16.379Z"
   },
   {
    "duration": 7,
    "start_time": "2024-06-09T09:42:21.548Z"
   },
   {
    "duration": 7,
    "start_time": "2024-06-09T09:43:49.938Z"
   },
   {
    "duration": 3,
    "start_time": "2024-06-09T09:44:27.880Z"
   },
   {
    "duration": 4,
    "start_time": "2024-06-09T09:44:43.854Z"
   },
   {
    "duration": 101,
    "start_time": "2024-06-09T09:46:14.945Z"
   },
   {
    "duration": 5,
    "start_time": "2024-06-09T09:46:33.738Z"
   },
   {
    "duration": 3,
    "start_time": "2024-06-09T09:46:54.891Z"
   },
   {
    "duration": 4,
    "start_time": "2024-06-09T09:47:03.206Z"
   },
   {
    "duration": 5,
    "start_time": "2024-06-09T09:47:15.372Z"
   },
   {
    "duration": 772,
    "start_time": "2024-06-09T09:48:00.332Z"
   },
   {
    "duration": 579,
    "start_time": "2024-06-09T09:48:36.103Z"
   },
   {
    "duration": 9,
    "start_time": "2024-06-09T09:48:47.672Z"
   },
   {
    "duration": 12,
    "start_time": "2024-06-09T09:51:30.457Z"
   },
   {
    "duration": 7,
    "start_time": "2024-06-09T09:51:45.341Z"
   },
   {
    "duration": 184,
    "start_time": "2024-06-09T09:52:09.713Z"
   },
   {
    "duration": 9,
    "start_time": "2024-06-09T09:52:50.270Z"
   },
   {
    "duration": 125,
    "start_time": "2024-06-09T09:52:52.082Z"
   },
   {
    "duration": 123,
    "start_time": "2024-06-09T09:53:16.397Z"
   },
   {
    "duration": 3,
    "start_time": "2024-06-09T16:19:01.217Z"
   },
   {
    "duration": 14,
    "start_time": "2024-06-09T16:19:12.989Z"
   },
   {
    "duration": 14,
    "start_time": "2024-06-09T16:19:26.279Z"
   },
   {
    "duration": 1018,
    "start_time": "2024-06-09T16:20:09.660Z"
   },
   {
    "duration": 940,
    "start_time": "2024-06-09T16:20:41.104Z"
   },
   {
    "duration": 5,
    "start_time": "2024-06-09T16:21:15.120Z"
   },
   {
    "duration": 12,
    "start_time": "2024-06-09T16:21:21.905Z"
   },
   {
    "duration": 3,
    "start_time": "2024-06-09T16:24:38.843Z"
   },
   {
    "duration": 10,
    "start_time": "2024-06-09T16:24:40.384Z"
   },
   {
    "duration": 12,
    "start_time": "2024-06-09T16:24:41.478Z"
   },
   {
    "duration": 8,
    "start_time": "2024-06-09T16:25:34.626Z"
   },
   {
    "duration": 4,
    "start_time": "2024-06-09T16:30:38.131Z"
   },
   {
    "duration": 114,
    "start_time": "2024-06-09T16:30:38.640Z"
   },
   {
    "duration": 49,
    "start_time": "2024-06-09T16:30:39.235Z"
   },
   {
    "duration": 38,
    "start_time": "2024-06-09T16:30:39.577Z"
   },
   {
    "duration": 16,
    "start_time": "2024-06-09T16:30:40.359Z"
   },
   {
    "duration": 21,
    "start_time": "2024-06-09T16:30:41.092Z"
   },
   {
    "duration": 3,
    "start_time": "2024-06-09T16:30:42.187Z"
   },
   {
    "duration": 4,
    "start_time": "2024-06-09T16:30:47.911Z"
   },
   {
    "duration": 9,
    "start_time": "2024-06-09T16:30:49.020Z"
   },
   {
    "duration": 12,
    "start_time": "2024-06-09T16:30:50.712Z"
   },
   {
    "duration": 22,
    "start_time": "2024-06-09T16:30:58.058Z"
   },
   {
    "duration": 5,
    "start_time": "2024-06-09T16:30:59.768Z"
   },
   {
    "duration": 5,
    "start_time": "2024-06-09T16:31:00.321Z"
   },
   {
    "duration": 5,
    "start_time": "2024-06-09T16:31:00.979Z"
   },
   {
    "duration": 6,
    "start_time": "2024-06-09T16:31:01.455Z"
   },
   {
    "duration": 11,
    "start_time": "2024-06-09T16:31:03.921Z"
   },
   {
    "duration": 7,
    "start_time": "2024-06-09T16:31:08.810Z"
   },
   {
    "duration": 10,
    "start_time": "2024-06-09T16:31:10.970Z"
   },
   {
    "duration": 17,
    "start_time": "2024-06-09T16:31:11.950Z"
   },
   {
    "duration": 8,
    "start_time": "2024-06-09T16:31:21.760Z"
   },
   {
    "duration": 23,
    "start_time": "2024-06-09T16:31:48.136Z"
   },
   {
    "duration": 12,
    "start_time": "2024-06-09T16:31:48.697Z"
   },
   {
    "duration": 4,
    "start_time": "2024-06-09T16:31:50.167Z"
   },
   {
    "duration": 4,
    "start_time": "2024-06-09T16:31:50.725Z"
   },
   {
    "duration": 5,
    "start_time": "2024-06-09T16:31:53.169Z"
   },
   {
    "duration": 4,
    "start_time": "2024-06-09T16:31:54.783Z"
   },
   {
    "duration": 6,
    "start_time": "2024-06-09T16:32:23.008Z"
   },
   {
    "duration": 6,
    "start_time": "2024-06-09T16:36:43.675Z"
   },
   {
    "duration": 4,
    "start_time": "2024-06-09T16:36:44.921Z"
   },
   {
    "duration": 2,
    "start_time": "2024-06-09T16:36:46.642Z"
   },
   {
    "duration": 11,
    "start_time": "2024-06-09T16:36:47.010Z"
   },
   {
    "duration": 4,
    "start_time": "2024-06-09T16:36:48.314Z"
   },
   {
    "duration": 32,
    "start_time": "2024-06-09T16:36:50.214Z"
   },
   {
    "duration": 177,
    "start_time": "2024-06-09T16:36:51.404Z"
   },
   {
    "duration": 8,
    "start_time": "2024-06-09T16:36:52.428Z"
   },
   {
    "duration": 117,
    "start_time": "2024-06-09T16:36:54.582Z"
   },
   {
    "duration": 4,
    "start_time": "2024-06-09T16:41:17.492Z"
   },
   {
    "duration": 10,
    "start_time": "2024-06-09T16:45:07.991Z"
   },
   {
    "duration": 7,
    "start_time": "2024-06-09T16:45:14.858Z"
   },
   {
    "duration": 9,
    "start_time": "2024-06-09T16:47:08.159Z"
   },
   {
    "duration": 7,
    "start_time": "2024-06-09T16:48:22.713Z"
   },
   {
    "duration": 4,
    "start_time": "2024-06-09T16:48:54.088Z"
   },
   {
    "duration": 4,
    "start_time": "2024-06-09T16:49:26.677Z"
   },
   {
    "duration": 3,
    "start_time": "2024-06-09T16:49:29.435Z"
   },
   {
    "duration": 8,
    "start_time": "2024-06-09T16:51:30.652Z"
   },
   {
    "duration": 4,
    "start_time": "2024-06-09T16:51:36.996Z"
   },
   {
    "duration": 10,
    "start_time": "2024-06-09T16:56:48.962Z"
   },
   {
    "duration": 210,
    "start_time": "2024-06-09T16:57:05.507Z"
   },
   {
    "duration": 201,
    "start_time": "2024-06-09T16:57:42.352Z"
   },
   {
    "duration": 195,
    "start_time": "2024-06-09T16:59:50.552Z"
   },
   {
    "duration": 213,
    "start_time": "2024-06-09T17:00:03.448Z"
   },
   {
    "duration": 19,
    "start_time": "2024-06-09T17:00:17.869Z"
   },
   {
    "duration": 264,
    "start_time": "2024-06-09T17:00:41.974Z"
   },
   {
    "duration": 200,
    "start_time": "2024-06-09T17:01:02.823Z"
   },
   {
    "duration": 18,
    "start_time": "2024-06-09T17:02:16.951Z"
   },
   {
    "duration": 13,
    "start_time": "2024-06-09T17:03:24.042Z"
   },
   {
    "duration": 14,
    "start_time": "2024-06-09T17:04:01.527Z"
   },
   {
    "duration": 193,
    "start_time": "2024-06-09T17:04:27.975Z"
   },
   {
    "duration": 203,
    "start_time": "2024-06-09T17:04:50.658Z"
   },
   {
    "duration": 192,
    "start_time": "2024-06-09T17:05:19.581Z"
   },
   {
    "duration": 207,
    "start_time": "2024-06-09T17:05:45.613Z"
   },
   {
    "duration": 221,
    "start_time": "2024-06-09T17:05:56.603Z"
   },
   {
    "duration": 248,
    "start_time": "2024-06-09T17:07:08.420Z"
   },
   {
    "duration": 234,
    "start_time": "2024-06-09T17:08:52.920Z"
   },
   {
    "duration": 223,
    "start_time": "2024-06-09T17:09:58.456Z"
   },
   {
    "duration": 253,
    "start_time": "2024-06-09T17:11:53.035Z"
   },
   {
    "duration": 8,
    "start_time": "2024-06-09T17:12:27.023Z"
   },
   {
    "duration": 9,
    "start_time": "2024-06-09T17:15:00.638Z"
   },
   {
    "duration": 8,
    "start_time": "2024-06-09T17:17:12.129Z"
   },
   {
    "duration": 7,
    "start_time": "2024-06-09T17:17:42.497Z"
   },
   {
    "duration": 8,
    "start_time": "2024-06-09T17:17:59.792Z"
   },
   {
    "duration": 11,
    "start_time": "2024-06-09T17:51:24.912Z"
   },
   {
    "duration": 8,
    "start_time": "2024-06-09T17:58:54.242Z"
   },
   {
    "duration": 8,
    "start_time": "2024-06-09T18:00:15.955Z"
   },
   {
    "duration": 8,
    "start_time": "2024-06-09T18:00:31.372Z"
   },
   {
    "duration": 8,
    "start_time": "2024-06-09T18:05:20.933Z"
   },
   {
    "duration": 7,
    "start_time": "2024-06-09T18:05:28.312Z"
   },
   {
    "duration": 11,
    "start_time": "2024-06-09T18:06:18.600Z"
   },
   {
    "duration": 29,
    "start_time": "2024-06-09T18:06:53.794Z"
   },
   {
    "duration": 3,
    "start_time": "2024-06-09T18:07:56.895Z"
   },
   {
    "duration": 144,
    "start_time": "2024-06-09T18:07:57.171Z"
   },
   {
    "duration": 57,
    "start_time": "2024-06-09T18:07:57.390Z"
   },
   {
    "duration": 24,
    "start_time": "2024-06-09T18:07:57.730Z"
   },
   {
    "duration": 13,
    "start_time": "2024-06-09T18:07:58.243Z"
   },
   {
    "duration": 8,
    "start_time": "2024-06-09T18:07:58.682Z"
   },
   {
    "duration": 4,
    "start_time": "2024-06-09T18:07:58.911Z"
   },
   {
    "duration": 4,
    "start_time": "2024-06-09T18:07:59.112Z"
   },
   {
    "duration": 9,
    "start_time": "2024-06-09T18:07:59.549Z"
   },
   {
    "duration": 22,
    "start_time": "2024-06-09T18:08:00.633Z"
   },
   {
    "duration": 5,
    "start_time": "2024-06-09T18:08:01.187Z"
   },
   {
    "duration": 4,
    "start_time": "2024-06-09T18:08:01.741Z"
   },
   {
    "duration": 10,
    "start_time": "2024-06-09T18:08:01.747Z"
   },
   {
    "duration": 7,
    "start_time": "2024-06-09T18:08:02.310Z"
   },
   {
    "duration": 92,
    "start_time": "2024-06-09T18:08:02.961Z"
   },
   {
    "duration": 7,
    "start_time": "2024-06-09T18:08:03.055Z"
   },
   {
    "duration": 11,
    "start_time": "2024-06-09T18:08:03.339Z"
   },
   {
    "duration": 13,
    "start_time": "2024-06-09T18:08:03.557Z"
   },
   {
    "duration": 7,
    "start_time": "2024-06-09T18:08:04.134Z"
   },
   {
    "duration": 8,
    "start_time": "2024-06-09T18:08:05.022Z"
   },
   {
    "duration": 25,
    "start_time": "2024-06-09T18:08:05.486Z"
   },
   {
    "duration": 12,
    "start_time": "2024-06-09T18:08:06.169Z"
   },
   {
    "duration": 5,
    "start_time": "2024-06-09T18:08:06.596Z"
   },
   {
    "duration": 13,
    "start_time": "2024-06-09T18:08:06.798Z"
   },
   {
    "duration": 7,
    "start_time": "2024-06-09T18:08:07.358Z"
   },
   {
    "duration": 8,
    "start_time": "2024-06-09T18:08:07.890Z"
   },
   {
    "duration": 4,
    "start_time": "2024-06-09T18:08:10.245Z"
   },
   {
    "duration": 10,
    "start_time": "2024-06-09T18:08:10.802Z"
   },
   {
    "duration": 6,
    "start_time": "2024-06-09T18:08:11.720Z"
   },
   {
    "duration": 4,
    "start_time": "2024-06-09T18:08:12.373Z"
   },
   {
    "duration": 9,
    "start_time": "2024-06-09T18:08:12.810Z"
   },
   {
    "duration": 22,
    "start_time": "2024-06-09T18:08:13.001Z"
   },
   {
    "duration": 4,
    "start_time": "2024-06-09T18:08:13.545Z"
   },
   {
    "duration": 29,
    "start_time": "2024-06-09T18:08:14.548Z"
   },
   {
    "duration": 196,
    "start_time": "2024-06-09T18:08:14.855Z"
   },
   {
    "duration": 4,
    "start_time": "2024-06-09T18:08:15.135Z"
   },
   {
    "duration": 137,
    "start_time": "2024-06-09T18:08:15.878Z"
   },
   {
    "duration": 4,
    "start_time": "2024-06-09T18:08:16.096Z"
   },
   {
    "duration": 7,
    "start_time": "2024-06-09T18:08:16.764Z"
   },
   {
    "duration": 251,
    "start_time": "2024-06-09T18:08:17.399Z"
   },
   {
    "duration": 9,
    "start_time": "2024-06-09T18:08:18.173Z"
   },
   {
    "duration": 5,
    "start_time": "2024-06-09T18:24:23.171Z"
   },
   {
    "duration": 5,
    "start_time": "2024-06-09T18:26:56.549Z"
   },
   {
    "duration": 5,
    "start_time": "2024-06-09T18:27:02.174Z"
   },
   {
    "duration": 925,
    "start_time": "2024-06-09T18:29:01.712Z"
   },
   {
    "duration": 4,
    "start_time": "2024-06-09T18:32:31.991Z"
   },
   {
    "duration": 3,
    "start_time": "2024-06-09T18:33:37.155Z"
   },
   {
    "duration": 3,
    "start_time": "2024-06-09T18:33:41.772Z"
   },
   {
    "duration": 10,
    "start_time": "2024-06-09T18:35:15.769Z"
   },
   {
    "duration": 1231,
    "start_time": "2024-06-09T18:36:02.095Z"
   },
   {
    "duration": 4,
    "start_time": "2024-06-09T18:36:40.218Z"
   },
   {
    "duration": 7,
    "start_time": "2024-06-09T18:37:38.314Z"
   },
   {
    "duration": 7,
    "start_time": "2024-06-09T18:37:50.359Z"
   },
   {
    "duration": 6,
    "start_time": "2024-06-09T18:39:03.304Z"
   },
   {
    "duration": 45,
    "start_time": "2024-06-11T06:59:55.310Z"
   },
   {
    "duration": 11,
    "start_time": "2024-06-11T07:00:02.967Z"
   },
   {
    "duration": 639,
    "start_time": "2024-06-11T07:00:03.648Z"
   },
   {
    "duration": 81,
    "start_time": "2024-06-11T07:00:04.289Z"
   },
   {
    "duration": 42,
    "start_time": "2024-06-11T07:00:04.408Z"
   },
   {
    "duration": 25,
    "start_time": "2024-06-11T07:00:04.452Z"
   },
   {
    "duration": 29,
    "start_time": "2024-06-11T07:00:04.478Z"
   },
   {
    "duration": 4,
    "start_time": "2024-06-11T07:00:04.509Z"
   },
   {
    "duration": 3,
    "start_time": "2024-06-11T07:00:05.204Z"
   },
   {
    "duration": 11,
    "start_time": "2024-06-11T07:00:05.487Z"
   },
   {
    "duration": 42,
    "start_time": "2024-06-11T07:00:05.950Z"
   },
   {
    "duration": 5,
    "start_time": "2024-06-11T07:00:06.350Z"
   },
   {
    "duration": 5,
    "start_time": "2024-06-11T07:00:06.576Z"
   },
   {
    "duration": 7,
    "start_time": "2024-06-11T07:00:06.734Z"
   },
   {
    "duration": 8,
    "start_time": "2024-06-11T07:00:07.149Z"
   },
   {
    "duration": 15,
    "start_time": "2024-06-11T07:00:07.694Z"
   },
   {
    "duration": 14,
    "start_time": "2024-06-11T07:00:07.911Z"
   },
   {
    "duration": 14,
    "start_time": "2024-06-11T07:00:08.295Z"
   },
   {
    "duration": 15,
    "start_time": "2024-06-11T07:00:08.497Z"
   },
   {
    "duration": 10,
    "start_time": "2024-06-11T07:00:09.127Z"
   },
   {
    "duration": 14,
    "start_time": "2024-06-11T07:00:09.779Z"
   },
   {
    "duration": 26,
    "start_time": "2024-06-11T07:00:10.177Z"
   },
   {
    "duration": 16,
    "start_time": "2024-06-11T07:00:10.326Z"
   },
   {
    "duration": 7,
    "start_time": "2024-06-11T07:00:10.771Z"
   },
   {
    "duration": 6,
    "start_time": "2024-06-11T07:00:10.971Z"
   },
   {
    "duration": 12,
    "start_time": "2024-06-11T07:00:11.175Z"
   },
   {
    "duration": 10,
    "start_time": "2024-06-11T07:00:12.015Z"
   },
   {
    "duration": 4,
    "start_time": "2024-06-11T07:00:12.033Z"
   },
   {
    "duration": 6,
    "start_time": "2024-06-11T07:00:12.604Z"
   },
   {
    "duration": 6,
    "start_time": "2024-06-11T07:00:13.189Z"
   },
   {
    "duration": 4,
    "start_time": "2024-06-11T07:00:14.113Z"
   },
   {
    "duration": 16,
    "start_time": "2024-06-11T07:00:14.123Z"
   },
   {
    "duration": 14,
    "start_time": "2024-06-11T07:00:14.318Z"
   },
   {
    "duration": 5,
    "start_time": "2024-06-11T07:00:14.758Z"
   },
   {
    "duration": 67,
    "start_time": "2024-06-11T07:00:15.482Z"
   },
   {
    "duration": 649,
    "start_time": "2024-06-11T07:00:15.679Z"
   },
   {
    "duration": 5,
    "start_time": "2024-06-11T07:00:16.331Z"
   },
   {
    "duration": 151,
    "start_time": "2024-06-11T07:00:16.357Z"
   },
   {
    "duration": 4,
    "start_time": "2024-06-11T07:00:16.513Z"
   },
   {
    "duration": 9,
    "start_time": "2024-06-11T07:00:17.238Z"
   },
   {
    "duration": 348,
    "start_time": "2024-06-11T07:00:17.644Z"
   },
   {
    "duration": 14,
    "start_time": "2024-06-11T07:00:17.995Z"
   },
   {
    "duration": 4,
    "start_time": "2024-06-11T07:00:18.279Z"
   },
   {
    "duration": 7,
    "start_time": "2024-06-11T07:00:18.517Z"
   },
   {
    "duration": 8,
    "start_time": "2024-06-11T07:00:18.678Z"
   },
   {
    "duration": 6,
    "start_time": "2024-06-11T07:00:18.919Z"
   },
   {
    "duration": 39,
    "start_time": "2024-06-11T07:01:23.796Z"
   },
   {
    "duration": 9,
    "start_time": "2024-06-11T07:01:59.083Z"
   },
   {
    "duration": 13,
    "start_time": "2024-06-11T07:02:25.838Z"
   },
   {
    "duration": 16,
    "start_time": "2024-06-11T07:02:38.166Z"
   },
   {
    "duration": 6,
    "start_time": "2024-06-11T07:02:48.685Z"
   },
   {
    "duration": 5,
    "start_time": "2024-06-11T07:03:25.725Z"
   },
   {
    "duration": 14,
    "start_time": "2024-06-11T07:03:43.092Z"
   },
   {
    "duration": 4,
    "start_time": "2024-06-11T07:05:43.750Z"
   },
   {
    "duration": 220,
    "start_time": "2024-06-11T07:07:19.796Z"
   },
   {
    "duration": 181,
    "start_time": "2024-06-11T07:07:33.536Z"
   },
   {
    "duration": 6,
    "start_time": "2024-06-11T07:11:15.372Z"
   },
   {
    "duration": 4,
    "start_time": "2024-06-11T07:11:19.493Z"
   },
   {
    "duration": 4,
    "start_time": "2024-06-11T07:11:28.820Z"
   },
   {
    "duration": 6,
    "start_time": "2024-06-11T07:11:35.934Z"
   },
   {
    "duration": 6,
    "start_time": "2024-06-11T07:11:36.707Z"
   },
   {
    "duration": 8,
    "start_time": "2024-06-11T07:11:37.612Z"
   },
   {
    "duration": 130,
    "start_time": "2024-06-11T07:11:38.612Z"
   },
   {
    "duration": 146,
    "start_time": "2024-06-11T07:12:03.555Z"
   },
   {
    "duration": 5,
    "start_time": "2024-06-11T07:12:19.786Z"
   },
   {
    "duration": 9,
    "start_time": "2024-06-11T07:13:08.161Z"
   },
   {
    "duration": 4,
    "start_time": "2024-06-11T07:13:16.553Z"
   },
   {
    "duration": 7,
    "start_time": "2024-06-11T07:13:17.401Z"
   },
   {
    "duration": 6,
    "start_time": "2024-06-11T07:13:18.331Z"
   },
   {
    "duration": 5,
    "start_time": "2024-06-11T07:13:19.508Z"
   },
   {
    "duration": 146,
    "start_time": "2024-06-11T07:13:20.142Z"
   },
   {
    "duration": 12,
    "start_time": "2024-06-11T07:14:31.076Z"
   },
   {
    "duration": 8,
    "start_time": "2024-06-11T07:14:59.997Z"
   },
   {
    "duration": 6,
    "start_time": "2024-06-11T07:17:15.707Z"
   },
   {
    "duration": 4,
    "start_time": "2024-06-11T07:20:52.159Z"
   },
   {
    "duration": 26,
    "start_time": "2024-06-11T07:20:54.955Z"
   },
   {
    "duration": 7,
    "start_time": "2024-06-11T07:21:13.442Z"
   },
   {
    "duration": 10,
    "start_time": "2024-06-11T07:21:16.262Z"
   },
   {
    "duration": 18,
    "start_time": "2024-06-11T07:21:17.405Z"
   },
   {
    "duration": 215,
    "start_time": "2024-06-11T07:21:17.970Z"
   },
   {
    "duration": 7,
    "start_time": "2024-06-11T07:21:20.515Z"
   },
   {
    "duration": 6,
    "start_time": "2024-06-11T07:21:36.942Z"
   },
   {
    "duration": 7,
    "start_time": "2024-06-11T07:22:07.736Z"
   },
   {
    "duration": 8,
    "start_time": "2024-06-11T07:22:30.140Z"
   },
   {
    "duration": 21,
    "start_time": "2024-06-11T07:22:45.286Z"
   },
   {
    "duration": 6,
    "start_time": "2024-06-11T07:23:02.152Z"
   },
   {
    "duration": 187,
    "start_time": "2024-06-11T07:24:28.525Z"
   },
   {
    "duration": 25,
    "start_time": "2024-06-11T07:25:22.985Z"
   },
   {
    "duration": 18,
    "start_time": "2024-06-11T07:25:46.794Z"
   },
   {
    "duration": 17,
    "start_time": "2024-06-11T07:26:08.112Z"
   },
   {
    "duration": 25,
    "start_time": "2024-06-11T07:27:47.815Z"
   },
   {
    "duration": 7,
    "start_time": "2024-06-11T07:29:55.340Z"
   },
   {
    "duration": 4,
    "start_time": "2024-06-11T07:35:19.210Z"
   },
   {
    "duration": 5,
    "start_time": "2024-06-11T07:35:35.045Z"
   },
   {
    "duration": 5,
    "start_time": "2024-06-11T07:36:07.799Z"
   },
   {
    "duration": 8,
    "start_time": "2024-06-11T07:36:57.451Z"
   },
   {
    "duration": 9,
    "start_time": "2024-06-11T07:37:35.323Z"
   },
   {
    "duration": 8,
    "start_time": "2024-06-11T07:37:44.833Z"
   },
   {
    "duration": 8,
    "start_time": "2024-06-11T07:37:54.489Z"
   },
   {
    "duration": 70,
    "start_time": "2024-06-11T07:37:58.345Z"
   },
   {
    "duration": 5,
    "start_time": "2024-06-11T07:38:11.424Z"
   },
   {
    "duration": 10,
    "start_time": "2024-06-11T07:38:11.959Z"
   },
   {
    "duration": 10,
    "start_time": "2024-06-11T07:39:18.921Z"
   },
   {
    "duration": 6,
    "start_time": "2024-06-11T07:40:27.385Z"
   },
   {
    "duration": 8,
    "start_time": "2024-06-11T07:41:38.801Z"
   },
   {
    "duration": 8,
    "start_time": "2024-06-12T15:48:25.075Z"
   },
   {
    "duration": 776,
    "start_time": "2024-06-12T15:48:25.549Z"
   },
   {
    "duration": 73,
    "start_time": "2024-06-12T15:48:26.327Z"
   },
   {
    "duration": 32,
    "start_time": "2024-06-12T15:48:26.401Z"
   },
   {
    "duration": 17,
    "start_time": "2024-06-12T15:48:26.730Z"
   },
   {
    "duration": 9,
    "start_time": "2024-06-12T15:48:27.586Z"
   },
   {
    "duration": 5,
    "start_time": "2024-06-12T15:48:27.597Z"
   },
   {
    "duration": 4,
    "start_time": "2024-06-12T15:48:28.701Z"
   },
   {
    "duration": 14,
    "start_time": "2024-06-12T15:48:28.707Z"
   },
   {
    "duration": 33,
    "start_time": "2024-06-12T15:48:29.503Z"
   },
   {
    "duration": 6,
    "start_time": "2024-06-12T15:48:29.569Z"
   },
   {
    "duration": 5,
    "start_time": "2024-06-12T15:48:29.858Z"
   },
   {
    "duration": 5,
    "start_time": "2024-06-12T15:48:30.347Z"
   },
   {
    "duration": 11,
    "start_time": "2024-06-12T15:48:30.917Z"
   },
   {
    "duration": 16,
    "start_time": "2024-06-12T15:48:31.683Z"
   },
   {
    "duration": 11,
    "start_time": "2024-06-12T15:48:31.895Z"
   },
   {
    "duration": 15,
    "start_time": "2024-06-12T15:48:32.352Z"
   },
   {
    "duration": 16,
    "start_time": "2024-06-12T15:48:32.556Z"
   },
   {
    "duration": 9,
    "start_time": "2024-06-12T15:48:33.249Z"
   },
   {
    "duration": 11,
    "start_time": "2024-06-12T15:48:33.843Z"
   },
   {
    "duration": 27,
    "start_time": "2024-06-12T15:48:34.283Z"
   },
   {
    "duration": 16,
    "start_time": "2024-06-12T15:48:34.503Z"
   },
   {
    "duration": 5,
    "start_time": "2024-06-12T15:48:34.983Z"
   },
   {
    "duration": 5,
    "start_time": "2024-06-12T15:48:35.204Z"
   },
   {
    "duration": 9,
    "start_time": "2024-06-12T15:48:35.430Z"
   },
   {
    "duration": 9,
    "start_time": "2024-06-12T15:48:36.156Z"
   },
   {
    "duration": 5,
    "start_time": "2024-06-12T15:48:36.715Z"
   },
   {
    "duration": 6,
    "start_time": "2024-06-12T15:48:37.933Z"
   },
   {
    "duration": 7,
    "start_time": "2024-06-12T15:48:38.593Z"
   },
   {
    "duration": 5,
    "start_time": "2024-06-12T15:48:39.871Z"
   },
   {
    "duration": 4,
    "start_time": "2024-06-12T15:48:43.237Z"
   },
   {
    "duration": 22,
    "start_time": "2024-06-12T15:48:45.762Z"
   },
   {
    "duration": 5,
    "start_time": "2024-06-12T15:48:46.595Z"
   },
   {
    "duration": 77,
    "start_time": "2024-06-12T15:48:47.869Z"
   },
   {
    "duration": 591,
    "start_time": "2024-06-12T15:48:48.390Z"
   },
   {
    "duration": 5,
    "start_time": "2024-06-12T15:48:48.983Z"
   },
   {
    "duration": 140,
    "start_time": "2024-06-12T15:48:49.739Z"
   },
   {
    "duration": 5,
    "start_time": "2024-06-12T15:48:50.241Z"
   },
   {
    "duration": 9,
    "start_time": "2024-06-12T15:48:53.135Z"
   },
   {
    "duration": 305,
    "start_time": "2024-06-12T15:48:54.246Z"
   },
   {
    "duration": 12,
    "start_time": "2024-06-12T15:48:54.906Z"
   },
   {
    "duration": 4,
    "start_time": "2024-06-12T15:48:55.215Z"
   },
   {
    "duration": 7,
    "start_time": "2024-06-12T15:48:55.705Z"
   },
   {
    "duration": 9,
    "start_time": "2024-06-12T15:48:56.211Z"
   },
   {
    "duration": 5,
    "start_time": "2024-06-12T15:48:56.568Z"
   },
   {
    "duration": 214,
    "start_time": "2024-06-12T15:48:56.985Z"
   },
   {
    "duration": 3,
    "start_time": "2024-06-12T15:48:57.522Z"
   },
   {
    "duration": 33,
    "start_time": "2024-06-12T15:59:35.526Z"
   },
   {
    "duration": 14,
    "start_time": "2024-06-12T16:24:42.080Z"
   },
   {
    "duration": 4,
    "start_time": "2024-06-12T16:26:15.937Z"
   },
   {
    "duration": 133,
    "start_time": "2024-06-12T16:26:16.135Z"
   },
   {
    "duration": 70,
    "start_time": "2024-06-12T16:26:16.497Z"
   },
   {
    "duration": 31,
    "start_time": "2024-06-12T16:26:16.687Z"
   },
   {
    "duration": 17,
    "start_time": "2024-06-12T16:26:17.074Z"
   },
   {
    "duration": 9,
    "start_time": "2024-06-12T16:26:17.974Z"
   },
   {
    "duration": 3,
    "start_time": "2024-06-12T16:26:18.529Z"
   },
   {
    "duration": 3,
    "start_time": "2024-06-12T16:26:19.083Z"
   },
   {
    "duration": 14,
    "start_time": "2024-06-12T16:26:19.885Z"
   },
   {
    "duration": 34,
    "start_time": "2024-06-12T16:26:21.729Z"
   },
   {
    "duration": 5,
    "start_time": "2024-06-12T16:26:22.812Z"
   },
   {
    "duration": 6,
    "start_time": "2024-06-12T16:26:23.226Z"
   },
   {
    "duration": 5,
    "start_time": "2024-06-12T16:26:23.528Z"
   },
   {
    "duration": 7,
    "start_time": "2024-06-12T16:26:24.300Z"
   },
   {
    "duration": 16,
    "start_time": "2024-06-12T16:26:26.531Z"
   },
   {
    "duration": 10,
    "start_time": "2024-06-12T16:26:27.088Z"
   },
   {
    "duration": 13,
    "start_time": "2024-06-12T16:26:27.644Z"
   },
   {
    "duration": 17,
    "start_time": "2024-06-12T16:26:28.937Z"
   },
   {
    "duration": 10,
    "start_time": "2024-06-12T16:26:31.227Z"
   },
   {
    "duration": 9,
    "start_time": "2024-06-12T16:26:32.851Z"
   },
   {
    "duration": 28,
    "start_time": "2024-06-12T16:26:33.925Z"
   },
   {
    "duration": 18,
    "start_time": "2024-06-12T16:26:34.220Z"
   },
   {
    "duration": 5,
    "start_time": "2024-06-12T16:26:35.661Z"
   },
   {
    "duration": 5,
    "start_time": "2024-06-12T16:26:36.211Z"
   },
   {
    "duration": 9,
    "start_time": "2024-06-12T16:26:36.219Z"
   },
   {
    "duration": 10,
    "start_time": "2024-06-12T16:26:36.876Z"
   },
   {
    "duration": 30,
    "start_time": "2024-06-12T16:26:37.683Z"
   },
   {
    "duration": 5,
    "start_time": "2024-06-12T16:26:39.443Z"
   },
   {
    "duration": 6,
    "start_time": "2024-06-12T16:26:40.387Z"
   },
   {
    "duration": 13,
    "start_time": "2024-06-12T16:26:44.149Z"
   },
   {
    "duration": 5,
    "start_time": "2024-06-12T16:28:18.887Z"
   },
   {
    "duration": 21,
    "start_time": "2024-06-12T16:28:20.984Z"
   },
   {
    "duration": 26,
    "start_time": "2024-06-12T16:41:25.717Z"
   },
   {
    "duration": 25,
    "start_time": "2024-06-12T16:42:27.861Z"
   },
   {
    "duration": 5,
    "start_time": "2024-06-12T16:43:29.612Z"
   },
   {
    "duration": 5,
    "start_time": "2024-06-12T16:43:57.710Z"
   },
   {
    "duration": 5,
    "start_time": "2024-06-12T16:44:05.086Z"
   },
   {
    "duration": 4,
    "start_time": "2024-06-12T16:46:17.160Z"
   },
   {
    "duration": 3,
    "start_time": "2024-06-12T16:46:45.273Z"
   },
   {
    "duration": 4,
    "start_time": "2024-06-12T16:47:16.962Z"
   },
   {
    "duration": 5,
    "start_time": "2024-06-12T16:48:14.910Z"
   },
   {
    "duration": 5,
    "start_time": "2024-06-12T16:48:28.140Z"
   },
   {
    "duration": 82,
    "start_time": "2024-06-12T16:49:24.061Z"
   },
   {
    "duration": 26,
    "start_time": "2024-06-12T16:49:47.576Z"
   },
   {
    "duration": 25,
    "start_time": "2024-06-12T16:51:10.848Z"
   },
   {
    "duration": 937,
    "start_time": "2024-06-12T16:57:48.494Z"
   },
   {
    "duration": 4,
    "start_time": "2024-06-12T16:57:57.496Z"
   },
   {
    "duration": 9,
    "start_time": "2024-06-12T16:58:01.901Z"
   },
   {
    "duration": 9,
    "start_time": "2024-06-12T16:58:02.659Z"
   },
   {
    "duration": 7,
    "start_time": "2024-06-12T16:58:03.344Z"
   },
   {
    "duration": 164,
    "start_time": "2024-06-12T16:58:04.151Z"
   },
   {
    "duration": 4,
    "start_time": "2024-06-12T16:58:08.515Z"
   },
   {
    "duration": 5,
    "start_time": "2024-06-12T16:58:25.605Z"
   },
   {
    "duration": 43,
    "start_time": "2024-06-12T16:59:03.800Z"
   },
   {
    "duration": 7,
    "start_time": "2024-06-12T16:59:12.659Z"
   },
   {
    "duration": 8,
    "start_time": "2024-06-12T16:59:44.107Z"
   },
   {
    "duration": 7,
    "start_time": "2024-06-12T17:00:17.717Z"
   },
   {
    "duration": 16,
    "start_time": "2024-06-12T17:01:30.917Z"
   },
   {
    "duration": 19,
    "start_time": "2024-06-12T17:01:38.203Z"
   },
   {
    "duration": 927,
    "start_time": "2024-06-12T17:02:57.521Z"
   },
   {
    "duration": 10,
    "start_time": "2024-06-12T17:03:17.450Z"
   },
   {
    "duration": 13,
    "start_time": "2024-06-12T17:05:26.606Z"
   },
   {
    "duration": 73,
    "start_time": "2024-06-12T17:07:01.190Z"
   },
   {
    "duration": 16,
    "start_time": "2024-06-12T17:07:25.920Z"
   },
   {
    "duration": 16,
    "start_time": "2024-06-12T17:09:30.543Z"
   },
   {
    "duration": 16,
    "start_time": "2024-06-12T17:09:58.088Z"
   },
   {
    "duration": 20,
    "start_time": "2024-06-12T17:13:06.777Z"
   },
   {
    "duration": 27,
    "start_time": "2024-06-12T17:22:32.681Z"
   },
   {
    "duration": 4,
    "start_time": "2024-06-12T17:25:30.142Z"
   },
   {
    "duration": 130,
    "start_time": "2024-06-12T17:25:30.301Z"
   },
   {
    "duration": 70,
    "start_time": "2024-06-12T17:25:30.483Z"
   },
   {
    "duration": 34,
    "start_time": "2024-06-12T17:25:30.688Z"
   },
   {
    "duration": 22,
    "start_time": "2024-06-12T17:25:31.397Z"
   },
   {
    "duration": 9,
    "start_time": "2024-06-12T17:25:31.956Z"
   },
   {
    "duration": 3,
    "start_time": "2024-06-12T17:25:32.517Z"
   },
   {
    "duration": 5,
    "start_time": "2024-06-12T17:25:32.522Z"
   },
   {
    "duration": 11,
    "start_time": "2024-06-12T17:25:32.529Z"
   },
   {
    "duration": 33,
    "start_time": "2024-06-12T17:25:33.318Z"
   },
   {
    "duration": 6,
    "start_time": "2024-06-12T17:25:33.519Z"
   },
   {
    "duration": 5,
    "start_time": "2024-06-12T17:25:33.716Z"
   },
   {
    "duration": 6,
    "start_time": "2024-06-12T17:25:33.868Z"
   },
   {
    "duration": 8,
    "start_time": "2024-06-12T17:25:34.228Z"
   },
   {
    "duration": 17,
    "start_time": "2024-06-12T17:25:34.749Z"
   },
   {
    "duration": 10,
    "start_time": "2024-06-12T17:25:34.920Z"
   },
   {
    "duration": 13,
    "start_time": "2024-06-12T17:25:35.272Z"
   },
   {
    "duration": 14,
    "start_time": "2024-06-12T17:25:35.460Z"
   },
   {
    "duration": 15,
    "start_time": "2024-06-12T17:25:35.948Z"
   },
   {
    "duration": 5,
    "start_time": "2024-06-12T17:25:36.298Z"
   },
   {
    "duration": 9,
    "start_time": "2024-06-12T17:25:36.479Z"
   },
   {
    "duration": 28,
    "start_time": "2024-06-12T17:25:36.845Z"
   },
   {
    "duration": 18,
    "start_time": "2024-06-12T17:25:37.014Z"
   },
   {
    "duration": 5,
    "start_time": "2024-06-12T17:25:37.363Z"
   },
   {
    "duration": 4,
    "start_time": "2024-06-12T17:25:37.555Z"
   },
   {
    "duration": 10,
    "start_time": "2024-06-12T17:25:37.725Z"
   },
   {
    "duration": 10,
    "start_time": "2024-06-12T17:25:38.121Z"
   },
   {
    "duration": 32,
    "start_time": "2024-06-12T17:25:38.481Z"
   },
   {
    "duration": 5,
    "start_time": "2024-06-12T17:25:39.053Z"
   },
   {
    "duration": 6,
    "start_time": "2024-06-12T17:25:39.882Z"
   },
   {
    "duration": 19,
    "start_time": "2024-06-12T17:25:40.437Z"
   },
   {
    "duration": 25,
    "start_time": "2024-06-12T17:25:40.990Z"
   },
   {
    "duration": 5,
    "start_time": "2024-06-12T17:25:41.793Z"
   },
   {
    "duration": 39,
    "start_time": "2024-06-12T17:25:41.800Z"
   },
   {
    "duration": 4,
    "start_time": "2024-06-12T17:25:41.845Z"
   },
   {
    "duration": 3,
    "start_time": "2024-06-12T17:25:42.196Z"
   },
   {
    "duration": 15,
    "start_time": "2024-06-12T17:25:42.369Z"
   },
   {
    "duration": 5,
    "start_time": "2024-06-12T17:25:42.738Z"
   },
   {
    "duration": 36,
    "start_time": "2024-06-12T17:25:43.298Z"
   },
   {
    "duration": 205,
    "start_time": "2024-06-12T17:25:43.494Z"
   },
   {
    "duration": 6,
    "start_time": "2024-06-12T17:25:43.701Z"
   },
   {
    "duration": 137,
    "start_time": "2024-06-12T17:25:44.039Z"
   },
   {
    "duration": 5,
    "start_time": "2024-06-12T17:25:44.229Z"
   },
   {
    "duration": 9,
    "start_time": "2024-06-12T17:25:44.609Z"
   },
   {
    "duration": 278,
    "start_time": "2024-06-12T17:25:45.001Z"
   },
   {
    "duration": 21,
    "start_time": "2024-06-12T17:25:45.282Z"
   },
   {
    "duration": 4,
    "start_time": "2024-06-12T17:25:45.620Z"
   },
   {
    "duration": 9,
    "start_time": "2024-06-12T17:25:45.818Z"
   },
   {
    "duration": 8,
    "start_time": "2024-06-12T17:25:45.997Z"
   },
   {
    "duration": 7,
    "start_time": "2024-06-12T17:25:46.189Z"
   },
   {
    "duration": 170,
    "start_time": "2024-06-12T17:25:46.418Z"
   },
   {
    "duration": 16,
    "start_time": "2024-06-12T17:25:48.432Z"
   },
   {
    "duration": 26,
    "start_time": "2024-06-12T17:25:49.554Z"
   },
   {
    "duration": 7,
    "start_time": "2024-06-12T17:27:22.040Z"
   },
   {
    "duration": 7,
    "start_time": "2024-06-12T17:30:25.690Z"
   },
   {
    "duration": 169,
    "start_time": "2024-06-12T17:30:27.299Z"
   },
   {
    "duration": 16,
    "start_time": "2024-06-12T17:30:27.851Z"
   },
   {
    "duration": 28,
    "start_time": "2024-06-12T17:30:28.198Z"
   },
   {
    "duration": 31,
    "start_time": "2024-06-12T17:32:10.744Z"
   },
   {
    "duration": 7,
    "start_time": "2024-06-12T17:32:37.881Z"
   },
   {
    "duration": 163,
    "start_time": "2024-06-12T17:32:38.442Z"
   },
   {
    "duration": 16,
    "start_time": "2024-06-12T17:32:39.292Z"
   },
   {
    "duration": 28,
    "start_time": "2024-06-12T17:32:40.430Z"
   },
   {
    "duration": 9,
    "start_time": "2024-06-12T17:32:53.486Z"
   },
   {
    "duration": 10,
    "start_time": "2024-06-12T17:34:29.453Z"
   },
   {
    "duration": 11,
    "start_time": "2024-06-12T17:35:22.403Z"
   },
   {
    "duration": 8,
    "start_time": "2024-06-12T17:35:36.300Z"
   },
   {
    "duration": 9,
    "start_time": "2024-06-12T17:36:26.914Z"
   },
   {
    "duration": 19,
    "start_time": "2024-06-12T17:38:14.351Z"
   },
   {
    "duration": 15,
    "start_time": "2024-06-12T17:38:52.824Z"
   },
   {
    "duration": 9,
    "start_time": "2024-06-12T17:40:23.631Z"
   },
   {
    "duration": 9,
    "start_time": "2024-06-12T17:40:50.572Z"
   },
   {
    "duration": 9,
    "start_time": "2024-06-12T17:41:00.975Z"
   },
   {
    "duration": 10,
    "start_time": "2024-06-12T17:41:27.542Z"
   },
   {
    "duration": 9,
    "start_time": "2024-06-12T17:42:08.170Z"
   },
   {
    "duration": 10,
    "start_time": "2024-06-12T17:51:58.001Z"
   },
   {
    "duration": 9,
    "start_time": "2024-06-12T17:52:14.315Z"
   },
   {
    "duration": 9,
    "start_time": "2024-06-12T17:53:21.744Z"
   },
   {
    "duration": 7,
    "start_time": "2024-06-12T17:53:25.709Z"
   },
   {
    "duration": 8,
    "start_time": "2024-06-12T17:53:25.882Z"
   },
   {
    "duration": 46,
    "start_time": "2024-06-12T17:53:26.081Z"
   },
   {
    "duration": 8,
    "start_time": "2024-06-12T17:53:26.251Z"
   },
   {
    "duration": 168,
    "start_time": "2024-06-12T17:53:26.426Z"
   },
   {
    "duration": 16,
    "start_time": "2024-06-12T17:53:27.220Z"
   },
   {
    "duration": 28,
    "start_time": "2024-06-12T17:53:27.864Z"
   },
   {
    "duration": 10,
    "start_time": "2024-06-12T17:53:28.296Z"
   },
   {
    "duration": 757,
    "start_time": "2024-06-12T17:53:29.732Z"
   },
   {
    "duration": 4,
    "start_time": "2024-06-12T17:54:14.075Z"
   },
   {
    "duration": 143,
    "start_time": "2024-06-12T17:54:14.081Z"
   },
   {
    "duration": 68,
    "start_time": "2024-06-12T17:54:14.225Z"
   },
   {
    "duration": 36,
    "start_time": "2024-06-12T17:54:14.295Z"
   },
   {
    "duration": 17,
    "start_time": "2024-06-12T17:54:14.333Z"
   },
   {
    "duration": 9,
    "start_time": "2024-06-12T17:54:14.352Z"
   },
   {
    "duration": 37,
    "start_time": "2024-06-12T17:54:14.363Z"
   },
   {
    "duration": 3,
    "start_time": "2024-06-12T17:54:14.403Z"
   },
   {
    "duration": 12,
    "start_time": "2024-06-12T17:54:14.692Z"
   },
   {
    "duration": 34,
    "start_time": "2024-06-12T17:54:15.830Z"
   },
   {
    "duration": 7,
    "start_time": "2024-06-12T17:54:15.912Z"
   },
   {
    "duration": 5,
    "start_time": "2024-06-12T17:54:16.122Z"
   },
   {
    "duration": 6,
    "start_time": "2024-06-12T17:54:16.299Z"
   },
   {
    "duration": 8,
    "start_time": "2024-06-12T17:54:16.665Z"
   },
   {
    "duration": 14,
    "start_time": "2024-06-12T17:54:17.215Z"
   },
   {
    "duration": 10,
    "start_time": "2024-06-12T17:54:17.415Z"
   },
   {
    "duration": 14,
    "start_time": "2024-06-12T17:54:17.807Z"
   },
   {
    "duration": 16,
    "start_time": "2024-06-12T17:54:17.986Z"
   },
   {
    "duration": 9,
    "start_time": "2024-06-12T17:54:18.580Z"
   },
   {
    "duration": 7,
    "start_time": "2024-06-12T17:54:18.964Z"
   },
   {
    "duration": 9,
    "start_time": "2024-06-12T17:54:19.152Z"
   },
   {
    "duration": 28,
    "start_time": "2024-06-12T17:54:19.534Z"
   },
   {
    "duration": 18,
    "start_time": "2024-06-12T17:54:19.730Z"
   },
   {
    "duration": 5,
    "start_time": "2024-06-12T17:54:20.096Z"
   },
   {
    "duration": 5,
    "start_time": "2024-06-12T17:54:20.732Z"
   },
   {
    "duration": 10,
    "start_time": "2024-06-12T17:54:20.738Z"
   },
   {
    "duration": 10,
    "start_time": "2024-06-12T17:54:21.295Z"
   },
   {
    "duration": 31,
    "start_time": "2024-06-12T17:54:21.307Z"
   },
   {
    "duration": 4,
    "start_time": "2024-06-12T17:54:21.853Z"
   },
   {
    "duration": 6,
    "start_time": "2024-06-12T17:54:22.654Z"
   },
   {
    "duration": 19,
    "start_time": "2024-06-12T17:54:22.943Z"
   },
   {
    "duration": 24,
    "start_time": "2024-06-12T17:54:23.308Z"
   },
   {
    "duration": 5,
    "start_time": "2024-06-12T17:54:23.771Z"
   },
   {
    "duration": 27,
    "start_time": "2024-06-12T17:54:24.171Z"
   },
   {
    "duration": 4,
    "start_time": "2024-06-12T17:54:24.781Z"
   },
   {
    "duration": 3,
    "start_time": "2024-06-12T17:54:25.162Z"
   },
   {
    "duration": 91,
    "start_time": "2024-06-12T17:54:25.365Z"
   },
   {
    "duration": 6,
    "start_time": "2024-06-12T17:54:25.783Z"
   },
   {
    "duration": 38,
    "start_time": "2024-06-12T17:54:26.412Z"
   },
   {
    "duration": 202,
    "start_time": "2024-06-12T17:54:26.607Z"
   },
   {
    "duration": 4,
    "start_time": "2024-06-12T17:54:26.824Z"
   },
   {
    "duration": 136,
    "start_time": "2024-06-12T17:54:27.266Z"
   },
   {
    "duration": 4,
    "start_time": "2024-06-12T17:54:27.461Z"
   },
   {
    "duration": 9,
    "start_time": "2024-06-12T17:54:28.083Z"
   },
   {
    "duration": 269,
    "start_time": "2024-06-12T17:54:28.505Z"
   },
   {
    "duration": 13,
    "start_time": "2024-06-12T17:54:28.775Z"
   },
   {
    "duration": 4,
    "start_time": "2024-06-12T17:54:29.316Z"
   },
   {
    "duration": 9,
    "start_time": "2024-06-12T17:54:30.431Z"
   },
   {
    "duration": 66,
    "start_time": "2024-06-12T17:54:30.442Z"
   },
   {
    "duration": 7,
    "start_time": "2024-06-12T17:54:31.094Z"
   },
   {
    "duration": 48,
    "start_time": "2024-06-12T17:54:31.103Z"
   },
   {
    "duration": 8,
    "start_time": "2024-06-12T17:54:31.235Z"
   },
   {
    "duration": 162,
    "start_time": "2024-06-12T17:54:31.952Z"
   },
   {
    "duration": 6,
    "start_time": "2024-06-12T17:54:38.908Z"
   },
   {
    "duration": 156,
    "start_time": "2024-06-12T17:54:39.573Z"
   },
   {
    "duration": 17,
    "start_time": "2024-06-12T17:54:40.167Z"
   },
   {
    "duration": 27,
    "start_time": "2024-06-12T17:54:40.915Z"
   },
   {
    "duration": 10,
    "start_time": "2024-06-12T17:54:42.627Z"
   },
   {
    "duration": 634,
    "start_time": "2024-06-12T17:54:43.396Z"
   },
   {
    "duration": 448,
    "start_time": "2024-06-12T17:56:35.834Z"
   },
   {
    "duration": 10,
    "start_time": "2024-06-12T17:57:00.333Z"
   },
   {
    "duration": 7,
    "start_time": "2024-06-12T17:57:00.779Z"
   },
   {
    "duration": 7,
    "start_time": "2024-06-12T17:57:01.163Z"
   },
   {
    "duration": 8,
    "start_time": "2024-06-12T17:57:01.560Z"
   },
   {
    "duration": 163,
    "start_time": "2024-06-12T17:57:01.726Z"
   },
   {
    "duration": 18,
    "start_time": "2024-06-12T17:57:02.547Z"
   },
   {
    "duration": 29,
    "start_time": "2024-06-12T17:57:03.109Z"
   },
   {
    "duration": 10,
    "start_time": "2024-06-12T17:57:03.665Z"
   },
   {
    "duration": 642,
    "start_time": "2024-06-12T17:57:03.676Z"
   },
   {
    "duration": 620,
    "start_time": "2024-06-12T17:57:11.590Z"
   },
   {
    "duration": 17,
    "start_time": "2024-06-12T17:59:05.052Z"
   },
   {
    "duration": 18,
    "start_time": "2024-06-12T17:59:10.871Z"
   },
   {
    "duration": 18,
    "start_time": "2024-06-12T18:01:25.785Z"
   },
   {
    "duration": 85,
    "start_time": "2024-06-12T18:02:58.913Z"
   },
   {
    "duration": 6,
    "start_time": "2024-06-12T19:02:51.542Z"
   },
   {
    "duration": 5,
    "start_time": "2024-06-12T19:05:25.582Z"
   },
   {
    "duration": 5,
    "start_time": "2024-06-12T19:05:50.846Z"
   },
   {
    "duration": 6,
    "start_time": "2024-06-12T19:06:13.050Z"
   },
   {
    "duration": 6,
    "start_time": "2024-06-12T19:06:21.361Z"
   },
   {
    "duration": 5,
    "start_time": "2024-06-12T19:06:39.250Z"
   },
   {
    "duration": 14,
    "start_time": "2024-06-12T19:14:18.254Z"
   },
   {
    "duration": 10,
    "start_time": "2024-06-12T19:14:44.130Z"
   },
   {
    "duration": 3,
    "start_time": "2024-06-12T19:16:18.063Z"
   },
   {
    "duration": 15,
    "start_time": "2024-06-12T19:16:18.068Z"
   },
   {
    "duration": 7,
    "start_time": "2024-06-12T19:16:18.137Z"
   },
   {
    "duration": 9,
    "start_time": "2024-06-12T19:16:19.467Z"
   },
   {
    "duration": 13,
    "start_time": "2024-06-13T11:13:34.127Z"
   },
   {
    "duration": 534,
    "start_time": "2024-06-13T11:13:34.143Z"
   },
   {
    "duration": 73,
    "start_time": "2024-06-13T11:13:34.678Z"
   },
   {
    "duration": 55,
    "start_time": "2024-06-13T11:13:34.753Z"
   },
   {
    "duration": 16,
    "start_time": "2024-06-13T11:13:34.810Z"
   },
   {
    "duration": 10,
    "start_time": "2024-06-13T11:13:34.827Z"
   },
   {
    "duration": 7,
    "start_time": "2024-06-13T11:13:34.839Z"
   },
   {
    "duration": 6,
    "start_time": "2024-06-13T11:13:34.848Z"
   },
   {
    "duration": 36,
    "start_time": "2024-06-13T11:13:34.856Z"
   },
   {
    "duration": 37,
    "start_time": "2024-06-13T11:13:34.894Z"
   },
   {
    "duration": 5,
    "start_time": "2024-06-13T11:13:34.933Z"
   },
   {
    "duration": 27,
    "start_time": "2024-06-13T11:13:34.940Z"
   },
   {
    "duration": 10,
    "start_time": "2024-06-13T11:13:34.969Z"
   },
   {
    "duration": 15,
    "start_time": "2024-06-13T11:13:34.982Z"
   },
   {
    "duration": 16,
    "start_time": "2024-06-13T11:13:34.998Z"
   },
   {
    "duration": 12,
    "start_time": "2024-06-13T11:13:35.015Z"
   },
   {
    "duration": 39,
    "start_time": "2024-06-13T11:13:35.029Z"
   },
   {
    "duration": 45,
    "start_time": "2024-06-13T11:13:35.070Z"
   },
   {
    "duration": 8,
    "start_time": "2024-06-13T11:13:35.116Z"
   },
   {
    "duration": 6,
    "start_time": "2024-06-13T11:13:35.126Z"
   },
   {
    "duration": 13,
    "start_time": "2024-06-13T11:13:35.133Z"
   },
   {
    "duration": 27,
    "start_time": "2024-06-13T11:13:35.147Z"
   },
   {
    "duration": 31,
    "start_time": "2024-06-13T11:13:35.176Z"
   },
   {
    "duration": 4,
    "start_time": "2024-06-13T11:13:35.209Z"
   },
   {
    "duration": 16,
    "start_time": "2024-06-13T11:13:35.215Z"
   },
   {
    "duration": 13,
    "start_time": "2024-06-13T11:13:35.232Z"
   },
   {
    "duration": 9,
    "start_time": "2024-06-13T11:13:35.247Z"
   },
   {
    "duration": 68,
    "start_time": "2024-06-13T11:13:35.258Z"
   },
   {
    "duration": 5,
    "start_time": "2024-06-13T11:13:35.327Z"
   },
   {
    "duration": 7,
    "start_time": "2024-06-13T11:13:35.333Z"
   },
   {
    "duration": 22,
    "start_time": "2024-06-13T11:13:35.341Z"
   },
   {
    "duration": 41,
    "start_time": "2024-06-13T11:13:35.364Z"
   },
   {
    "duration": 7,
    "start_time": "2024-06-13T11:13:35.407Z"
   },
   {
    "duration": 28,
    "start_time": "2024-06-13T11:13:35.415Z"
   },
   {
    "duration": 4,
    "start_time": "2024-06-13T11:13:35.444Z"
   },
   {
    "duration": 5,
    "start_time": "2024-06-13T11:13:35.449Z"
   },
   {
    "duration": 78,
    "start_time": "2024-06-13T11:13:35.456Z"
   },
   {
    "duration": 28,
    "start_time": "2024-06-13T11:13:35.536Z"
   },
   {
    "duration": 75,
    "start_time": "2024-06-13T11:13:35.566Z"
   },
   {
    "duration": 435,
    "start_time": "2024-06-13T11:13:35.643Z"
   },
   {
    "duration": 4,
    "start_time": "2024-06-13T11:13:36.083Z"
   },
   {
    "duration": 154,
    "start_time": "2024-06-13T11:13:36.089Z"
   },
   {
    "duration": 7,
    "start_time": "2024-06-13T11:13:36.244Z"
   },
   {
    "duration": 13,
    "start_time": "2024-06-13T11:13:36.252Z"
   },
   {
    "duration": 290,
    "start_time": "2024-06-13T11:13:36.267Z"
   },
   {
    "duration": 12,
    "start_time": "2024-06-13T11:13:36.558Z"
   },
   {
    "duration": 21,
    "start_time": "2024-06-13T11:13:36.571Z"
   },
   {
    "duration": 8,
    "start_time": "2024-06-13T11:13:36.600Z"
   },
   {
    "duration": 12,
    "start_time": "2024-06-13T11:13:36.610Z"
   },
   {
    "duration": 6,
    "start_time": "2024-06-13T11:13:36.624Z"
   },
   {
    "duration": 60,
    "start_time": "2024-06-13T11:13:36.632Z"
   },
   {
    "duration": 180,
    "start_time": "2024-06-13T11:13:36.694Z"
   },
   {
    "duration": 19,
    "start_time": "2024-06-13T11:13:36.875Z"
   },
   {
    "duration": 45,
    "start_time": "2024-06-13T11:13:36.896Z"
   },
   {
    "duration": 9,
    "start_time": "2024-06-13T11:13:36.943Z"
   },
   {
    "duration": 100,
    "start_time": "2024-06-13T11:13:36.954Z"
   },
   {
    "duration": 13,
    "start_time": "2024-06-13T11:20:35.544Z"
   },
   {
    "duration": 4,
    "start_time": "2024-06-13T11:22:45.219Z"
   },
   {
    "duration": 5,
    "start_time": "2024-06-13T11:22:50.669Z"
   },
   {
    "duration": 28,
    "start_time": "2024-06-13T11:23:35.001Z"
   },
   {
    "duration": 5,
    "start_time": "2024-06-13T11:23:39.323Z"
   },
   {
    "duration": 375,
    "start_time": "2024-06-13T11:24:01.968Z"
   },
   {
    "duration": 9,
    "start_time": "2024-06-13T11:24:27.359Z"
   },
   {
    "duration": 565,
    "start_time": "2024-06-13T11:24:27.369Z"
   },
   {
    "duration": 68,
    "start_time": "2024-06-13T11:24:27.935Z"
   },
   {
    "duration": 29,
    "start_time": "2024-06-13T11:24:28.005Z"
   },
   {
    "duration": 19,
    "start_time": "2024-06-13T11:24:28.035Z"
   },
   {
    "duration": 10,
    "start_time": "2024-06-13T11:24:28.056Z"
   },
   {
    "duration": 22,
    "start_time": "2024-06-13T11:24:28.068Z"
   },
   {
    "duration": 5,
    "start_time": "2024-06-13T11:24:28.092Z"
   },
   {
    "duration": 21,
    "start_time": "2024-06-13T11:24:28.098Z"
   },
   {
    "duration": 33,
    "start_time": "2024-06-13T11:24:28.122Z"
   },
   {
    "duration": 9,
    "start_time": "2024-06-13T11:24:28.157Z"
   },
   {
    "duration": 21,
    "start_time": "2024-06-13T11:24:28.168Z"
   },
   {
    "duration": 7,
    "start_time": "2024-06-13T11:24:28.191Z"
   },
   {
    "duration": 8,
    "start_time": "2024-06-13T11:24:28.200Z"
   },
   {
    "duration": 17,
    "start_time": "2024-06-13T11:24:28.209Z"
   },
   {
    "duration": 10,
    "start_time": "2024-06-13T11:24:28.228Z"
   },
   {
    "duration": 18,
    "start_time": "2024-06-13T11:24:28.239Z"
   },
   {
    "duration": 42,
    "start_time": "2024-06-13T11:24:28.259Z"
   },
   {
    "duration": 8,
    "start_time": "2024-06-13T11:24:28.303Z"
   },
   {
    "duration": 27,
    "start_time": "2024-06-13T11:24:28.312Z"
   },
   {
    "duration": 29,
    "start_time": "2024-06-13T11:24:28.341Z"
   },
   {
    "duration": 27,
    "start_time": "2024-06-13T11:24:28.372Z"
   },
   {
    "duration": 16,
    "start_time": "2024-06-13T11:24:28.401Z"
   },
   {
    "duration": 11,
    "start_time": "2024-06-13T11:24:28.419Z"
   },
   {
    "duration": 10,
    "start_time": "2024-06-13T11:24:28.431Z"
   },
   {
    "duration": 10,
    "start_time": "2024-06-13T11:24:28.443Z"
   },
   {
    "duration": 9,
    "start_time": "2024-06-13T11:24:28.454Z"
   },
   {
    "duration": 46,
    "start_time": "2024-06-13T11:24:28.467Z"
   },
   {
    "duration": 5,
    "start_time": "2024-06-13T11:24:28.514Z"
   },
   {
    "duration": 8,
    "start_time": "2024-06-13T11:24:28.520Z"
   },
   {
    "duration": 20,
    "start_time": "2024-06-13T11:24:28.529Z"
   },
   {
    "duration": 43,
    "start_time": "2024-06-13T11:24:28.551Z"
   },
   {
    "duration": 15,
    "start_time": "2024-06-13T11:24:28.595Z"
   },
   {
    "duration": 26,
    "start_time": "2024-06-13T11:24:28.611Z"
   },
   {
    "duration": 622,
    "start_time": "2024-06-13T11:24:28.639Z"
   },
   {
    "duration": 3,
    "start_time": "2024-06-13T11:24:29.263Z"
   },
   {
    "duration": 9,
    "start_time": "2024-06-13T11:24:29.268Z"
   },
   {
    "duration": 20,
    "start_time": "2024-06-13T11:24:29.279Z"
   },
   {
    "duration": 6,
    "start_time": "2024-06-13T11:24:29.300Z"
   },
   {
    "duration": 40,
    "start_time": "2024-06-13T11:24:29.308Z"
   },
   {
    "duration": 275,
    "start_time": "2024-06-13T11:24:29.350Z"
   },
   {
    "duration": 4,
    "start_time": "2024-06-13T11:24:29.627Z"
   },
   {
    "duration": 145,
    "start_time": "2024-06-13T11:24:29.632Z"
   },
   {
    "duration": 5,
    "start_time": "2024-06-13T11:24:29.778Z"
   },
   {
    "duration": 11,
    "start_time": "2024-06-13T11:24:29.790Z"
   },
   {
    "duration": 270,
    "start_time": "2024-06-13T11:24:29.803Z"
   },
   {
    "duration": 19,
    "start_time": "2024-06-13T11:24:30.075Z"
   },
   {
    "duration": 73,
    "start_time": "2024-06-13T11:24:30.095Z"
   },
   {
    "duration": 78,
    "start_time": "2024-06-13T11:24:30.170Z"
   },
   {
    "duration": 17,
    "start_time": "2024-06-13T11:24:30.249Z"
   },
   {
    "duration": 81,
    "start_time": "2024-06-13T11:24:30.268Z"
   },
   {
    "duration": 75,
    "start_time": "2024-06-13T11:24:30.350Z"
   },
   {
    "duration": 297,
    "start_time": "2024-06-13T11:24:30.426Z"
   },
   {
    "duration": 73,
    "start_time": "2024-06-13T11:24:30.724Z"
   },
   {
    "duration": 36,
    "start_time": "2024-06-13T11:24:30.799Z"
   },
   {
    "duration": 56,
    "start_time": "2024-06-13T11:24:30.837Z"
   },
   {
    "duration": 142,
    "start_time": "2024-06-13T11:24:30.895Z"
   },
   {
    "duration": 10,
    "start_time": "2024-06-13T11:24:53.879Z"
   },
   {
    "duration": 575,
    "start_time": "2024-06-13T11:24:53.891Z"
   },
   {
    "duration": 71,
    "start_time": "2024-06-13T11:24:54.469Z"
   },
   {
    "duration": 52,
    "start_time": "2024-06-13T11:24:54.541Z"
   },
   {
    "duration": 16,
    "start_time": "2024-06-13T11:24:54.595Z"
   },
   {
    "duration": 33,
    "start_time": "2024-06-13T11:24:54.613Z"
   },
   {
    "duration": 18,
    "start_time": "2024-06-13T11:24:54.648Z"
   },
   {
    "duration": 33,
    "start_time": "2024-06-13T11:24:54.667Z"
   },
   {
    "duration": 30,
    "start_time": "2024-06-13T11:24:54.702Z"
   },
   {
    "duration": 634,
    "start_time": "2024-06-13T11:24:54.733Z"
   },
   {
    "duration": 37,
    "start_time": "2024-06-13T11:24:55.369Z"
   },
   {
    "duration": 28,
    "start_time": "2024-06-13T11:24:55.407Z"
   },
   {
    "duration": 15,
    "start_time": "2024-06-13T11:24:55.437Z"
   },
   {
    "duration": 11,
    "start_time": "2024-06-13T11:24:55.454Z"
   },
   {
    "duration": 16,
    "start_time": "2024-06-13T11:24:55.466Z"
   },
   {
    "duration": 16,
    "start_time": "2024-06-13T11:24:55.483Z"
   },
   {
    "duration": 9,
    "start_time": "2024-06-13T11:24:55.500Z"
   },
   {
    "duration": 26,
    "start_time": "2024-06-13T11:24:55.510Z"
   },
   {
    "duration": 16,
    "start_time": "2024-06-13T11:24:55.537Z"
   },
   {
    "duration": 9,
    "start_time": "2024-06-13T11:24:55.554Z"
   },
   {
    "duration": 11,
    "start_time": "2024-06-13T11:24:55.564Z"
   },
   {
    "duration": 46,
    "start_time": "2024-06-13T11:24:55.577Z"
   },
   {
    "duration": 30,
    "start_time": "2024-06-13T11:24:55.625Z"
   },
   {
    "duration": 18,
    "start_time": "2024-06-13T11:24:55.656Z"
   },
   {
    "duration": 24,
    "start_time": "2024-06-13T11:24:55.675Z"
   },
   {
    "duration": 17,
    "start_time": "2024-06-13T11:24:55.700Z"
   },
   {
    "duration": 27,
    "start_time": "2024-06-13T11:24:55.719Z"
   },
   {
    "duration": 17,
    "start_time": "2024-06-13T11:24:55.748Z"
   },
   {
    "duration": 44,
    "start_time": "2024-06-13T11:24:55.770Z"
   },
   {
    "duration": 5,
    "start_time": "2024-06-13T11:24:55.816Z"
   },
   {
    "duration": 14,
    "start_time": "2024-06-13T11:24:55.823Z"
   },
   {
    "duration": 25,
    "start_time": "2024-06-13T11:24:55.839Z"
   },
   {
    "duration": 28,
    "start_time": "2024-06-13T11:24:55.866Z"
   },
   {
    "duration": 22,
    "start_time": "2024-06-13T11:24:55.896Z"
   },
   {
    "duration": 26,
    "start_time": "2024-06-13T11:24:55.919Z"
   },
   {
    "duration": 6,
    "start_time": "2024-06-13T11:24:55.946Z"
   },
   {
    "duration": 3,
    "start_time": "2024-06-13T11:24:55.953Z"
   },
   {
    "duration": 68,
    "start_time": "2024-06-13T11:24:55.957Z"
   },
   {
    "duration": 12,
    "start_time": "2024-06-13T11:24:56.027Z"
   },
   {
    "duration": 41,
    "start_time": "2024-06-13T11:24:56.041Z"
   },
   {
    "duration": 213,
    "start_time": "2024-06-13T11:24:56.083Z"
   },
   {
    "duration": 5,
    "start_time": "2024-06-13T11:24:56.298Z"
   },
   {
    "duration": 154,
    "start_time": "2024-06-13T11:24:56.305Z"
   },
   {
    "duration": 6,
    "start_time": "2024-06-13T11:24:56.460Z"
   },
   {
    "duration": 49,
    "start_time": "2024-06-13T11:24:56.468Z"
   },
   {
    "duration": 260,
    "start_time": "2024-06-13T11:24:56.518Z"
   },
   {
    "duration": 16,
    "start_time": "2024-06-13T11:24:56.779Z"
   },
   {
    "duration": 24,
    "start_time": "2024-06-13T11:24:56.796Z"
   },
   {
    "duration": 10,
    "start_time": "2024-06-13T11:24:56.822Z"
   },
   {
    "duration": 9,
    "start_time": "2024-06-13T11:24:56.834Z"
   },
   {
    "duration": 6,
    "start_time": "2024-06-13T11:24:56.844Z"
   },
   {
    "duration": 9,
    "start_time": "2024-06-13T11:24:56.852Z"
   },
   {
    "duration": 181,
    "start_time": "2024-06-13T11:24:56.863Z"
   },
   {
    "duration": 16,
    "start_time": "2024-06-13T11:24:57.046Z"
   },
   {
    "duration": 67,
    "start_time": "2024-06-13T11:24:57.063Z"
   },
   {
    "duration": 9,
    "start_time": "2024-06-13T11:24:57.132Z"
   },
   {
    "duration": 107,
    "start_time": "2024-06-13T11:24:57.143Z"
   },
   {
    "duration": 9,
    "start_time": "2024-06-13T11:25:09.191Z"
   },
   {
    "duration": 530,
    "start_time": "2024-06-13T11:25:09.202Z"
   },
   {
    "duration": 67,
    "start_time": "2024-06-13T11:25:09.734Z"
   },
   {
    "duration": 30,
    "start_time": "2024-06-13T11:25:09.803Z"
   },
   {
    "duration": 16,
    "start_time": "2024-06-13T11:25:09.834Z"
   },
   {
    "duration": 12,
    "start_time": "2024-06-13T11:25:09.852Z"
   },
   {
    "duration": 25,
    "start_time": "2024-06-13T11:25:09.865Z"
   },
   {
    "duration": 4,
    "start_time": "2024-06-13T11:25:09.892Z"
   },
   {
    "duration": 13,
    "start_time": "2024-06-13T11:25:09.897Z"
   },
   {
    "duration": 34,
    "start_time": "2024-06-13T11:25:09.912Z"
   },
   {
    "duration": 5,
    "start_time": "2024-06-13T11:25:09.948Z"
   },
   {
    "duration": 36,
    "start_time": "2024-06-13T11:25:09.955Z"
   },
   {
    "duration": 10,
    "start_time": "2024-06-13T11:25:09.992Z"
   },
   {
    "duration": 40,
    "start_time": "2024-06-13T11:25:10.004Z"
   },
   {
    "duration": 635,
    "start_time": "2024-06-13T11:25:10.046Z"
   },
   {
    "duration": 12,
    "start_time": "2024-06-13T11:25:10.690Z"
   },
   {
    "duration": 8,
    "start_time": "2024-06-13T11:25:10.704Z"
   },
   {
    "duration": 16,
    "start_time": "2024-06-13T11:25:10.713Z"
   },
   {
    "duration": 15,
    "start_time": "2024-06-13T11:25:10.730Z"
   },
   {
    "duration": 9,
    "start_time": "2024-06-13T11:25:10.746Z"
   },
   {
    "duration": 8,
    "start_time": "2024-06-13T11:25:10.756Z"
   },
   {
    "duration": 10,
    "start_time": "2024-06-13T11:25:10.789Z"
   },
   {
    "duration": 34,
    "start_time": "2024-06-13T11:25:10.800Z"
   },
   {
    "duration": 15,
    "start_time": "2024-06-13T11:25:10.836Z"
   },
   {
    "duration": 9,
    "start_time": "2024-06-13T11:25:10.853Z"
   },
   {
    "duration": 9,
    "start_time": "2024-06-13T11:25:10.864Z"
   },
   {
    "duration": 18,
    "start_time": "2024-06-13T11:25:10.875Z"
   },
   {
    "duration": 9,
    "start_time": "2024-06-13T11:25:10.896Z"
   },
   {
    "duration": 36,
    "start_time": "2024-06-13T11:25:10.907Z"
   },
   {
    "duration": 4,
    "start_time": "2024-06-13T11:25:10.944Z"
   },
   {
    "duration": 40,
    "start_time": "2024-06-13T11:25:10.950Z"
   },
   {
    "duration": 19,
    "start_time": "2024-06-13T11:25:10.992Z"
   },
   {
    "duration": 23,
    "start_time": "2024-06-13T11:25:11.012Z"
   },
   {
    "duration": 4,
    "start_time": "2024-06-13T11:25:11.037Z"
   },
   {
    "duration": 30,
    "start_time": "2024-06-13T11:25:11.043Z"
   },
   {
    "duration": 16,
    "start_time": "2024-06-13T11:25:11.075Z"
   },
   {
    "duration": 15,
    "start_time": "2024-06-13T11:25:11.092Z"
   },
   {
    "duration": 63,
    "start_time": "2024-06-13T11:25:11.108Z"
   },
   {
    "duration": 5,
    "start_time": "2024-06-13T11:25:11.173Z"
   },
   {
    "duration": 42,
    "start_time": "2024-06-13T11:25:11.180Z"
   },
   {
    "duration": 214,
    "start_time": "2024-06-13T11:25:11.224Z"
   },
   {
    "duration": 4,
    "start_time": "2024-06-13T11:25:11.440Z"
   },
   {
    "duration": 147,
    "start_time": "2024-06-13T11:25:11.445Z"
   },
   {
    "duration": 7,
    "start_time": "2024-06-13T11:25:11.593Z"
   },
   {
    "duration": 10,
    "start_time": "2024-06-13T11:25:11.601Z"
   },
   {
    "duration": 298,
    "start_time": "2024-06-13T11:25:11.613Z"
   },
   {
    "duration": 14,
    "start_time": "2024-06-13T11:25:11.913Z"
   },
   {
    "duration": 5,
    "start_time": "2024-06-13T11:25:11.929Z"
   },
   {
    "duration": 9,
    "start_time": "2024-06-13T11:25:11.936Z"
   },
   {
    "duration": 10,
    "start_time": "2024-06-13T11:25:11.947Z"
   },
   {
    "duration": 8,
    "start_time": "2024-06-13T11:25:11.991Z"
   },
   {
    "duration": 8,
    "start_time": "2024-06-13T11:25:12.001Z"
   },
   {
    "duration": 200,
    "start_time": "2024-06-13T11:25:12.011Z"
   },
   {
    "duration": 14,
    "start_time": "2024-06-13T11:25:12.213Z"
   },
   {
    "duration": 24,
    "start_time": "2024-06-13T11:25:12.229Z"
   },
   {
    "duration": 34,
    "start_time": "2024-06-13T11:25:12.255Z"
   },
   {
    "duration": 76,
    "start_time": "2024-06-13T11:25:12.290Z"
   },
   {
    "duration": 9,
    "start_time": "2024-06-13T11:25:26.967Z"
   },
   {
    "duration": 551,
    "start_time": "2024-06-13T11:25:26.978Z"
   },
   {
    "duration": 70,
    "start_time": "2024-06-13T11:25:27.530Z"
   },
   {
    "duration": 30,
    "start_time": "2024-06-13T11:25:27.602Z"
   },
   {
    "duration": 16,
    "start_time": "2024-06-13T11:25:27.633Z"
   },
   {
    "duration": 9,
    "start_time": "2024-06-13T11:25:27.650Z"
   },
   {
    "duration": 28,
    "start_time": "2024-06-13T11:25:27.661Z"
   },
   {
    "duration": 6,
    "start_time": "2024-06-13T11:25:27.691Z"
   },
   {
    "duration": 12,
    "start_time": "2024-06-13T11:25:27.698Z"
   },
   {
    "duration": 32,
    "start_time": "2024-06-13T11:25:27.713Z"
   },
   {
    "duration": 5,
    "start_time": "2024-06-13T11:25:27.747Z"
   },
   {
    "duration": 9,
    "start_time": "2024-06-13T11:25:27.753Z"
   },
   {
    "duration": 30,
    "start_time": "2024-06-13T11:25:27.763Z"
   },
   {
    "duration": 9,
    "start_time": "2024-06-13T11:25:27.795Z"
   },
   {
    "duration": 15,
    "start_time": "2024-06-13T11:25:27.805Z"
   },
   {
    "duration": 8,
    "start_time": "2024-06-13T11:25:27.821Z"
   },
   {
    "duration": 11,
    "start_time": "2024-06-13T11:25:27.831Z"
   },
   {
    "duration": 14,
    "start_time": "2024-06-13T11:25:27.844Z"
   },
   {
    "duration": 35,
    "start_time": "2024-06-13T11:25:27.860Z"
   },
   {
    "duration": 10,
    "start_time": "2024-06-13T11:25:27.897Z"
   },
   {
    "duration": 17,
    "start_time": "2024-06-13T11:25:27.908Z"
   },
   {
    "duration": 617,
    "start_time": "2024-06-13T11:25:27.926Z"
   },
   {
    "duration": 27,
    "start_time": "2024-06-13T11:25:28.545Z"
   },
   {
    "duration": 28,
    "start_time": "2024-06-13T11:25:28.573Z"
   },
   {
    "duration": 7,
    "start_time": "2024-06-13T11:25:28.603Z"
   },
   {
    "duration": 9,
    "start_time": "2024-06-13T11:25:28.611Z"
   },
   {
    "duration": 11,
    "start_time": "2024-06-13T11:25:28.621Z"
   },
   {
    "duration": 19,
    "start_time": "2024-06-13T11:25:28.635Z"
   },
   {
    "duration": 39,
    "start_time": "2024-06-13T11:25:28.656Z"
   },
   {
    "duration": 3,
    "start_time": "2024-06-13T11:25:28.697Z"
   },
   {
    "duration": 27,
    "start_time": "2024-06-13T11:25:28.702Z"
   },
   {
    "duration": 45,
    "start_time": "2024-06-13T11:25:28.731Z"
   },
   {
    "duration": 24,
    "start_time": "2024-06-13T11:25:28.777Z"
   },
   {
    "duration": 29,
    "start_time": "2024-06-13T11:25:28.802Z"
   },
   {
    "duration": 28,
    "start_time": "2024-06-13T11:25:28.833Z"
   },
   {
    "duration": 3,
    "start_time": "2024-06-13T11:25:28.863Z"
   },
   {
    "duration": 17,
    "start_time": "2024-06-13T11:25:28.867Z"
   },
   {
    "duration": 55,
    "start_time": "2024-06-13T11:25:28.885Z"
   },
   {
    "duration": 16,
    "start_time": "2024-06-13T11:25:28.941Z"
   },
   {
    "duration": 79,
    "start_time": "2024-06-13T11:25:28.959Z"
   },
   {
    "duration": 214,
    "start_time": "2024-06-13T11:25:29.040Z"
   },
   {
    "duration": 3,
    "start_time": "2024-06-13T11:25:29.256Z"
   },
   {
    "duration": 147,
    "start_time": "2024-06-13T11:25:29.261Z"
   },
   {
    "duration": 8,
    "start_time": "2024-06-13T11:25:29.410Z"
   },
   {
    "duration": 14,
    "start_time": "2024-06-13T11:25:29.420Z"
   },
   {
    "duration": 295,
    "start_time": "2024-06-13T11:25:29.436Z"
   },
   {
    "duration": 13,
    "start_time": "2024-06-13T11:25:29.733Z"
   },
   {
    "duration": 12,
    "start_time": "2024-06-13T11:25:29.748Z"
   },
   {
    "duration": 15,
    "start_time": "2024-06-13T11:25:29.762Z"
   },
   {
    "duration": 16,
    "start_time": "2024-06-13T11:25:29.778Z"
   },
   {
    "duration": 7,
    "start_time": "2024-06-13T11:25:29.796Z"
   },
   {
    "duration": 15,
    "start_time": "2024-06-13T11:25:29.804Z"
   },
   {
    "duration": 169,
    "start_time": "2024-06-13T11:25:29.820Z"
   },
   {
    "duration": 15,
    "start_time": "2024-06-13T11:25:29.991Z"
   },
   {
    "duration": 62,
    "start_time": "2024-06-13T11:25:30.008Z"
   },
   {
    "duration": 9,
    "start_time": "2024-06-13T11:25:30.071Z"
   },
   {
    "duration": 81,
    "start_time": "2024-06-13T11:25:30.082Z"
   },
   {
    "duration": 4,
    "start_time": "2024-06-13T11:26:06.371Z"
   },
   {
    "duration": 5,
    "start_time": "2024-06-13T11:26:29.811Z"
   },
   {
    "duration": 9,
    "start_time": "2024-06-13T17:11:58.130Z"
   },
   {
    "duration": 668,
    "start_time": "2024-06-13T17:11:58.935Z"
   },
   {
    "duration": 95,
    "start_time": "2024-06-13T17:12:02.655Z"
   },
   {
    "duration": 32,
    "start_time": "2024-06-13T17:12:06.621Z"
   },
   {
    "duration": 16,
    "start_time": "2024-06-13T17:12:12.349Z"
   },
   {
    "duration": 69,
    "start_time": "2024-06-13T17:24:34.751Z"
   },
   {
    "duration": 8,
    "start_time": "2024-06-13T17:30:48.977Z"
   },
   {
    "duration": 8,
    "start_time": "2024-06-13T17:39:45.246Z"
   },
   {
    "duration": 8,
    "start_time": "2024-06-13T17:41:41.021Z"
   },
   {
    "duration": 8,
    "start_time": "2024-06-13T17:41:45.696Z"
   },
   {
    "duration": 5,
    "start_time": "2024-06-13T17:42:02.518Z"
   },
   {
    "duration": 130,
    "start_time": "2024-06-13T17:42:02.684Z"
   },
   {
    "duration": 83,
    "start_time": "2024-06-13T17:42:03.064Z"
   },
   {
    "duration": 35,
    "start_time": "2024-06-13T17:42:03.438Z"
   },
   {
    "duration": 16,
    "start_time": "2024-06-13T17:42:04.026Z"
   },
   {
    "duration": 10,
    "start_time": "2024-06-13T17:42:04.385Z"
   },
   {
    "duration": 4,
    "start_time": "2024-06-13T17:42:04.559Z"
   },
   {
    "duration": 4,
    "start_time": "2024-06-13T17:42:04.782Z"
   },
   {
    "duration": 12,
    "start_time": "2024-06-13T17:42:05.169Z"
   },
   {
    "duration": 36,
    "start_time": "2024-06-13T17:42:06.625Z"
   },
   {
    "duration": 6,
    "start_time": "2024-06-13T17:42:07.243Z"
   },
   {
    "duration": 4,
    "start_time": "2024-06-13T17:42:07.893Z"
   },
   {
    "duration": 31,
    "start_time": "2024-06-13T17:42:07.900Z"
   },
   {
    "duration": 8,
    "start_time": "2024-06-13T17:42:09.816Z"
   },
   {
    "duration": 14,
    "start_time": "2024-06-13T17:42:12.007Z"
   },
   {
    "duration": 15,
    "start_time": "2024-06-13T17:42:12.222Z"
   },
   {
    "duration": 15,
    "start_time": "2024-06-13T17:42:13.167Z"
   },
   {
    "duration": 14,
    "start_time": "2024-06-13T17:42:13.573Z"
   },
   {
    "duration": 11,
    "start_time": "2024-06-13T17:42:14.143Z"
   },
   {
    "duration": 6,
    "start_time": "2024-06-13T17:42:14.526Z"
   },
   {
    "duration": 11,
    "start_time": "2024-06-13T17:42:14.683Z"
   },
   {
    "duration": 28,
    "start_time": "2024-06-13T17:42:15.057Z"
   },
   {
    "duration": 18,
    "start_time": "2024-06-13T17:42:15.265Z"
   },
   {
    "duration": 6,
    "start_time": "2024-06-13T17:42:16.945Z"
   },
   {
    "duration": 51,
    "start_time": "2024-06-13T17:42:16.954Z"
   },
   {
    "duration": 22,
    "start_time": "2024-06-13T17:42:17.007Z"
   },
   {
    "duration": 10,
    "start_time": "2024-06-13T17:42:18.320Z"
   },
   {
    "duration": 47,
    "start_time": "2024-06-13T17:42:18.332Z"
   },
   {
    "duration": 5,
    "start_time": "2024-06-13T17:42:18.381Z"
   },
   {
    "duration": 16,
    "start_time": "2024-06-13T17:42:18.387Z"
   },
   {
    "duration": 20,
    "start_time": "2024-06-13T17:42:19.862Z"
   },
   {
    "duration": 25,
    "start_time": "2024-06-13T17:42:20.270Z"
   },
   {
    "duration": 6,
    "start_time": "2024-06-13T17:42:20.941Z"
   },
   {
    "duration": 32,
    "start_time": "2024-06-13T17:42:21.673Z"
   },
   {
    "duration": 4,
    "start_time": "2024-06-13T17:42:22.716Z"
   },
   {
    "duration": 3,
    "start_time": "2024-06-13T17:42:24.048Z"
   },
   {
    "duration": 57,
    "start_time": "2024-06-13T17:42:25.433Z"
   },
   {
    "duration": 6,
    "start_time": "2024-06-13T17:42:26.648Z"
   },
   {
    "duration": 41,
    "start_time": "2024-06-13T17:42:30.158Z"
   },
   {
    "duration": 642,
    "start_time": "2024-06-13T17:42:31.012Z"
   },
   {
    "duration": 4,
    "start_time": "2024-06-13T17:42:35.132Z"
   },
   {
    "duration": 164,
    "start_time": "2024-06-13T17:42:40.900Z"
   },
   {
    "duration": 6,
    "start_time": "2024-06-13T17:42:43.618Z"
   },
   {
    "duration": 1034,
    "start_time": "2024-06-13T17:42:46.525Z"
   },
   {
    "duration": 212,
    "start_time": "2024-06-13T17:43:05.108Z"
   },
   {
    "duration": 11,
    "start_time": "2024-06-13T17:45:07.361Z"
   },
   {
    "duration": 11,
    "start_time": "2024-06-13T17:45:12.588Z"
   },
   {
    "duration": 269,
    "start_time": "2024-06-13T17:45:19.908Z"
   },
   {
    "duration": 9,
    "start_time": "2024-06-13T17:45:32.300Z"
   },
   {
    "duration": 192,
    "start_time": "2024-06-13T17:45:38.389Z"
   },
   {
    "duration": 8,
    "start_time": "2024-06-13T17:52:20.240Z"
   },
   {
    "duration": 8,
    "start_time": "2024-06-13T17:53:05.302Z"
   },
   {
    "duration": 22,
    "start_time": "2024-06-13T18:06:43.786Z"
   },
   {
    "duration": 17,
    "start_time": "2024-06-13T18:09:06.263Z"
   },
   {
    "duration": 34,
    "start_time": "2024-06-13T18:09:19.864Z"
   },
   {
    "duration": 4,
    "start_time": "2024-06-13T18:09:38.458Z"
   },
   {
    "duration": 132,
    "start_time": "2024-06-13T18:09:38.649Z"
   },
   {
    "duration": 78,
    "start_time": "2024-06-13T18:09:39.010Z"
   },
   {
    "duration": 33,
    "start_time": "2024-06-13T18:09:39.888Z"
   },
   {
    "duration": 16,
    "start_time": "2024-06-13T18:09:43.904Z"
   },
   {
    "duration": 10,
    "start_time": "2024-06-13T18:09:44.779Z"
   },
   {
    "duration": 5,
    "start_time": "2024-06-13T18:09:47.017Z"
   },
   {
    "duration": 3,
    "start_time": "2024-06-13T18:09:48.131Z"
   },
   {
    "duration": 14,
    "start_time": "2024-06-13T18:09:49.345Z"
   },
   {
    "duration": 17,
    "start_time": "2024-06-13T18:09:52.396Z"
   },
   {
    "duration": 20,
    "start_time": "2024-06-13T18:09:53.253Z"
   },
   {
    "duration": 10,
    "start_time": "2024-06-13T18:10:12.097Z"
   },
   {
    "duration": 22,
    "start_time": "2024-06-13T18:10:34.565Z"
   },
   {
    "duration": 6,
    "start_time": "2024-06-13T18:16:46.477Z"
   },
   {
    "duration": 129,
    "start_time": "2024-06-13T18:16:46.730Z"
   },
   {
    "duration": 84,
    "start_time": "2024-06-13T18:16:47.162Z"
   },
   {
    "duration": 33,
    "start_time": "2024-06-13T18:16:47.590Z"
   },
   {
    "duration": 18,
    "start_time": "2024-06-13T18:16:48.628Z"
   },
   {
    "duration": 44,
    "start_time": "2024-06-13T18:16:48.648Z"
   },
   {
    "duration": 4,
    "start_time": "2024-06-13T18:16:49.188Z"
   },
   {
    "duration": 5,
    "start_time": "2024-06-13T18:16:49.734Z"
   },
   {
    "duration": 52,
    "start_time": "2024-06-13T18:16:49.741Z"
   },
   {
    "duration": 16,
    "start_time": "2024-06-13T18:16:50.395Z"
   },
   {
    "duration": 35,
    "start_time": "2024-06-13T18:16:51.363Z"
   },
   {
    "duration": 6,
    "start_time": "2024-06-13T18:16:51.988Z"
   },
   {
    "duration": 5,
    "start_time": "2024-06-13T18:16:52.197Z"
   },
   {
    "duration": 6,
    "start_time": "2024-06-13T18:16:52.395Z"
   },
   {
    "duration": 10,
    "start_time": "2024-06-13T18:16:52.807Z"
   },
   {
    "duration": 15,
    "start_time": "2024-06-13T18:16:53.393Z"
   },
   {
    "duration": 12,
    "start_time": "2024-06-13T18:16:53.609Z"
   },
   {
    "duration": 14,
    "start_time": "2024-06-13T18:16:53.998Z"
   },
   {
    "duration": 17,
    "start_time": "2024-06-13T18:16:54.412Z"
   },
   {
    "duration": 10,
    "start_time": "2024-06-13T18:16:55.062Z"
   },
   {
    "duration": 6,
    "start_time": "2024-06-13T18:16:55.681Z"
   },
   {
    "duration": 15,
    "start_time": "2024-06-13T18:16:55.920Z"
   },
   {
    "duration": 30,
    "start_time": "2024-06-13T18:16:56.333Z"
   },
   {
    "duration": 18,
    "start_time": "2024-06-13T18:16:56.541Z"
   },
   {
    "duration": 5,
    "start_time": "2024-06-13T18:16:57.195Z"
   },
   {
    "duration": 6,
    "start_time": "2024-06-13T18:16:57.755Z"
   },
   {
    "duration": 135,
    "start_time": "2024-06-13T18:16:57.763Z"
   },
   {
    "duration": 11,
    "start_time": "2024-06-13T18:16:58.308Z"
   },
   {
    "duration": 37,
    "start_time": "2024-06-13T18:16:58.968Z"
   },
   {
    "duration": 5,
    "start_time": "2024-06-13T18:16:59.336Z"
   },
   {
    "duration": 7,
    "start_time": "2024-06-13T18:16:59.778Z"
   },
   {
    "duration": 22,
    "start_time": "2024-06-13T18:17:01.058Z"
   },
   {
    "duration": 33,
    "start_time": "2024-06-13T18:17:01.500Z"
   },
   {
    "duration": 6,
    "start_time": "2024-06-13T18:17:01.935Z"
   },
   {
    "duration": 27,
    "start_time": "2024-06-13T18:17:02.399Z"
   },
   {
    "duration": 5,
    "start_time": "2024-06-13T18:17:03.019Z"
   },
   {
    "duration": 3,
    "start_time": "2024-06-13T18:17:03.560Z"
   },
   {
    "duration": 14,
    "start_time": "2024-06-13T18:17:03.758Z"
   },
   {
    "duration": 10,
    "start_time": "2024-06-13T18:17:03.959Z"
   },
   {
    "duration": 7,
    "start_time": "2024-06-13T18:17:04.404Z"
   },
   {
    "duration": 42,
    "start_time": "2024-06-13T18:17:05.680Z"
   },
   {
    "duration": 224,
    "start_time": "2024-06-13T18:17:06.230Z"
   },
   {
    "duration": 4,
    "start_time": "2024-06-13T18:17:06.787Z"
   },
   {
    "duration": 160,
    "start_time": "2024-06-13T18:17:07.592Z"
   },
   {
    "duration": 6,
    "start_time": "2024-06-13T18:17:08.168Z"
   },
   {
    "duration": 10,
    "start_time": "2024-06-13T18:17:09.342Z"
   },
   {
    "duration": 199,
    "start_time": "2024-06-13T18:17:09.573Z"
   },
   {
    "duration": 323,
    "start_time": "2024-06-13T18:17:10.472Z"
   },
   {
    "duration": 12,
    "start_time": "2024-06-13T18:17:10.796Z"
   },
   {
    "duration": 4,
    "start_time": "2024-06-13T18:17:11.359Z"
   },
   {
    "duration": 8,
    "start_time": "2024-06-13T18:17:11.597Z"
   },
   {
    "duration": 8,
    "start_time": "2024-06-13T18:17:12.058Z"
   },
   {
    "duration": 7,
    "start_time": "2024-06-13T18:17:12.850Z"
   },
   {
    "duration": 8,
    "start_time": "2024-06-13T18:17:13.562Z"
   },
   {
    "duration": 191,
    "start_time": "2024-06-13T18:17:14.146Z"
   },
   {
    "duration": 16,
    "start_time": "2024-06-13T18:17:15.259Z"
   },
   {
    "duration": 31,
    "start_time": "2024-06-13T18:17:15.921Z"
   },
   {
    "duration": 9,
    "start_time": "2024-06-13T18:17:16.232Z"
   },
   {
    "duration": 94,
    "start_time": "2024-06-13T18:17:16.914Z"
   },
   {
    "duration": 7,
    "start_time": "2024-06-13T18:18:35.668Z"
   },
   {
    "duration": 15,
    "start_time": "2024-06-13T18:18:54.008Z"
   },
   {
    "duration": 44,
    "start_time": "2024-06-13T18:19:07.825Z"
   },
   {
    "duration": 7,
    "start_time": "2024-06-13T18:19:28.044Z"
   },
   {
    "duration": 6,
    "start_time": "2024-06-13T18:19:47.013Z"
   },
   {
    "duration": 6,
    "start_time": "2024-06-13T18:20:47.722Z"
   },
   {
    "duration": 182,
    "start_time": "2024-06-13T18:21:28.683Z"
   },
   {
    "duration": 76,
    "start_time": "2024-06-13T18:22:07.829Z"
   },
   {
    "duration": 97,
    "start_time": "2024-06-13T18:22:24.221Z"
   },
   {
    "duration": 97,
    "start_time": "2024-06-13T18:22:40.366Z"
   },
   {
    "duration": 64,
    "start_time": "2024-06-13T18:22:46.189Z"
   },
   {
    "duration": 17,
    "start_time": "2024-06-13T18:23:02.547Z"
   },
   {
    "duration": 65,
    "start_time": "2024-06-13T18:23:13.536Z"
   },
   {
    "duration": 19,
    "start_time": "2024-06-13T18:23:27.777Z"
   },
   {
    "duration": 16,
    "start_time": "2024-06-13T18:23:43.923Z"
   },
   {
    "duration": 10,
    "start_time": "2024-06-13T18:24:13.040Z"
   },
   {
    "duration": 10,
    "start_time": "2024-06-13T18:24:18.858Z"
   },
   {
    "duration": 13,
    "start_time": "2024-06-13T18:24:34.450Z"
   },
   {
    "duration": 9,
    "start_time": "2024-06-13T18:24:53.789Z"
   },
   {
    "duration": 9,
    "start_time": "2024-06-13T18:25:01.273Z"
   },
   {
    "duration": 45,
    "start_time": "2024-06-13T18:25:51.524Z"
   },
   {
    "duration": 46,
    "start_time": "2024-06-13T18:26:06.652Z"
   },
   {
    "duration": 45,
    "start_time": "2024-06-13T18:26:17.189Z"
   },
   {
    "duration": 50,
    "start_time": "2024-06-13T18:26:57.039Z"
   },
   {
    "duration": 56,
    "start_time": "2024-06-13T18:27:07.757Z"
   },
   {
    "duration": 46,
    "start_time": "2024-06-13T18:27:20.098Z"
   },
   {
    "duration": 113,
    "start_time": "2024-06-13T18:43:05.988Z"
   },
   {
    "duration": 5,
    "start_time": "2024-06-13T18:50:20.015Z"
   },
   {
    "duration": 159,
    "start_time": "2024-06-13T18:51:10.461Z"
   },
   {
    "duration": 7,
    "start_time": "2024-06-14T07:21:47.228Z"
   },
   {
    "duration": 691,
    "start_time": "2024-06-14T07:21:47.236Z"
   },
   {
    "duration": 54,
    "start_time": "2024-06-14T07:21:47.929Z"
   },
   {
    "duration": 22,
    "start_time": "2024-06-14T07:21:47.985Z"
   },
   {
    "duration": 12,
    "start_time": "2024-06-14T07:21:48.008Z"
   },
   {
    "duration": 11,
    "start_time": "2024-06-14T07:21:48.021Z"
   },
   {
    "duration": 5,
    "start_time": "2024-06-14T07:21:48.033Z"
   },
   {
    "duration": 9,
    "start_time": "2024-06-14T07:21:48.039Z"
   },
   {
    "duration": 28,
    "start_time": "2024-06-14T07:21:48.050Z"
   },
   {
    "duration": 20,
    "start_time": "2024-06-14T07:21:48.080Z"
   },
   {
    "duration": 34,
    "start_time": "2024-06-14T07:21:48.101Z"
   },
   {
    "duration": 5,
    "start_time": "2024-06-14T07:21:48.136Z"
   },
   {
    "duration": 21,
    "start_time": "2024-06-14T07:21:48.142Z"
   },
   {
    "duration": 6,
    "start_time": "2024-06-14T07:21:48.164Z"
   },
   {
    "duration": 16,
    "start_time": "2024-06-14T07:21:48.171Z"
   },
   {
    "duration": 17,
    "start_time": "2024-06-14T07:21:48.189Z"
   },
   {
    "duration": 8,
    "start_time": "2024-06-14T07:21:48.207Z"
   },
   {
    "duration": 15,
    "start_time": "2024-06-14T07:21:48.217Z"
   },
   {
    "duration": 17,
    "start_time": "2024-06-14T07:21:48.233Z"
   },
   {
    "duration": 6,
    "start_time": "2024-06-14T07:21:48.252Z"
   },
   {
    "duration": 9,
    "start_time": "2024-06-14T07:21:48.259Z"
   },
   {
    "duration": 29,
    "start_time": "2024-06-14T07:21:48.269Z"
   },
   {
    "duration": 34,
    "start_time": "2024-06-14T07:21:48.299Z"
   },
   {
    "duration": 20,
    "start_time": "2024-06-14T07:21:48.335Z"
   },
   {
    "duration": 4,
    "start_time": "2024-06-14T07:21:48.356Z"
   },
   {
    "duration": 30,
    "start_time": "2024-06-14T07:21:48.361Z"
   },
   {
    "duration": 9,
    "start_time": "2024-06-14T07:21:48.392Z"
   },
   {
    "duration": 7,
    "start_time": "2024-06-14T07:21:48.404Z"
   },
   {
    "duration": 69,
    "start_time": "2024-06-14T07:21:48.412Z"
   },
   {
    "duration": 4,
    "start_time": "2024-06-14T07:21:48.482Z"
   },
   {
    "duration": 4,
    "start_time": "2024-06-14T07:21:48.487Z"
   },
   {
    "duration": 18,
    "start_time": "2024-06-14T07:21:48.492Z"
   },
   {
    "duration": 19,
    "start_time": "2024-06-14T07:21:48.511Z"
   },
   {
    "duration": 4,
    "start_time": "2024-06-14T07:21:48.531Z"
   },
   {
    "duration": 20,
    "start_time": "2024-06-14T07:21:48.537Z"
   },
   {
    "duration": 3,
    "start_time": "2024-06-14T07:21:48.558Z"
   },
   {
    "duration": 3,
    "start_time": "2024-06-14T07:21:48.562Z"
   },
   {
    "duration": 59,
    "start_time": "2024-06-14T07:21:48.566Z"
   },
   {
    "duration": 18,
    "start_time": "2024-06-14T07:21:48.626Z"
   },
   {
    "duration": 4,
    "start_time": "2024-06-14T07:21:48.645Z"
   },
   {
    "duration": 42,
    "start_time": "2024-06-14T07:21:48.650Z"
   },
   {
    "duration": 0,
    "start_time": "2024-06-14T07:21:48.693Z"
   },
   {
    "duration": 0,
    "start_time": "2024-06-14T07:21:48.694Z"
   },
   {
    "duration": 0,
    "start_time": "2024-06-14T07:21:48.695Z"
   },
   {
    "duration": 0,
    "start_time": "2024-06-14T07:21:48.696Z"
   },
   {
    "duration": 0,
    "start_time": "2024-06-14T07:21:48.697Z"
   },
   {
    "duration": 0,
    "start_time": "2024-06-14T07:21:48.697Z"
   },
   {
    "duration": 0,
    "start_time": "2024-06-14T07:21:48.698Z"
   },
   {
    "duration": 0,
    "start_time": "2024-06-14T07:21:48.699Z"
   },
   {
    "duration": 0,
    "start_time": "2024-06-14T07:21:48.700Z"
   },
   {
    "duration": 0,
    "start_time": "2024-06-14T07:21:48.702Z"
   },
   {
    "duration": 0,
    "start_time": "2024-06-14T07:21:48.702Z"
   },
   {
    "duration": 0,
    "start_time": "2024-06-14T07:21:48.703Z"
   },
   {
    "duration": 0,
    "start_time": "2024-06-14T07:21:48.704Z"
   },
   {
    "duration": 0,
    "start_time": "2024-06-14T07:21:48.705Z"
   },
   {
    "duration": 0,
    "start_time": "2024-06-14T07:21:48.706Z"
   },
   {
    "duration": 0,
    "start_time": "2024-06-14T07:21:48.707Z"
   },
   {
    "duration": 1,
    "start_time": "2024-06-14T07:21:48.707Z"
   },
   {
    "duration": 9,
    "start_time": "2024-06-14T12:06:31.181Z"
   },
   {
    "duration": 650,
    "start_time": "2024-06-14T12:06:39.988Z"
   },
   {
    "duration": 84,
    "start_time": "2024-06-14T12:06:45.510Z"
   },
   {
    "duration": 50,
    "start_time": "2024-06-14T12:06:47.051Z"
   },
   {
    "duration": 22,
    "start_time": "2024-06-14T12:06:53.941Z"
   },
   {
    "duration": 11,
    "start_time": "2024-06-14T12:06:58.643Z"
   },
   {
    "duration": 4,
    "start_time": "2024-06-14T12:06:59.386Z"
   },
   {
    "duration": 4,
    "start_time": "2024-06-14T12:07:00.535Z"
   },
   {
    "duration": 13,
    "start_time": "2024-06-14T12:07:04.415Z"
   },
   {
    "duration": 18,
    "start_time": "2024-06-14T12:07:05.618Z"
   },
   {
    "duration": 38,
    "start_time": "2024-06-14T12:07:24.588Z"
   },
   {
    "duration": 6,
    "start_time": "2024-06-14T12:07:26.366Z"
   },
   {
    "duration": 5,
    "start_time": "2024-06-14T12:07:26.756Z"
   },
   {
    "duration": 5,
    "start_time": "2024-06-14T12:07:27.436Z"
   },
   {
    "duration": 9,
    "start_time": "2024-06-14T12:08:13.132Z"
   },
   {
    "duration": 22,
    "start_time": "2024-06-14T12:08:13.809Z"
   },
   {
    "duration": 11,
    "start_time": "2024-06-14T12:08:20.138Z"
   },
   {
    "duration": 15,
    "start_time": "2024-06-14T12:08:20.165Z"
   },
   {
    "duration": 18,
    "start_time": "2024-06-14T12:08:22.377Z"
   },
   {
    "duration": 11,
    "start_time": "2024-06-14T12:08:26.123Z"
   },
   {
    "duration": 6,
    "start_time": "2024-06-14T12:08:27.782Z"
   },
   {
    "duration": 12,
    "start_time": "2024-06-14T12:08:29.221Z"
   },
   {
    "duration": 41,
    "start_time": "2024-06-14T12:08:32.482Z"
   },
   {
    "duration": 21,
    "start_time": "2024-06-14T12:08:33.107Z"
   },
   {
    "duration": 5,
    "start_time": "2024-06-14T12:08:35.314Z"
   },
   {
    "duration": 5,
    "start_time": "2024-06-14T12:08:36.122Z"
   },
   {
    "duration": 10,
    "start_time": "2024-06-14T12:08:36.836Z"
   },
   {
    "duration": 10,
    "start_time": "2024-06-14T12:08:39.980Z"
   },
   {
    "duration": 38,
    "start_time": "2024-06-14T12:08:44.023Z"
   },
   {
    "duration": 5,
    "start_time": "2024-06-14T12:08:44.762Z"
   },
   {
    "duration": 6,
    "start_time": "2024-06-14T12:08:46.265Z"
   },
   {
    "duration": 21,
    "start_time": "2024-06-14T12:08:46.981Z"
   },
   {
    "duration": 28,
    "start_time": "2024-06-14T12:08:50.626Z"
   },
   {
    "duration": 6,
    "start_time": "2024-06-14T12:08:52.040Z"
   },
   {
    "duration": 28,
    "start_time": "2024-06-14T12:08:52.091Z"
   },
   {
    "duration": 4,
    "start_time": "2024-06-14T12:08:56.461Z"
   },
   {
    "duration": 3,
    "start_time": "2024-06-14T12:09:01.073Z"
   },
   {
    "duration": 115,
    "start_time": "2024-06-14T12:09:01.079Z"
   },
   {
    "duration": 8,
    "start_time": "2024-06-14T12:09:02.413Z"
   },
   {
    "duration": 6,
    "start_time": "2024-06-14T12:09:07.530Z"
   },
   {
    "duration": 43,
    "start_time": "2024-06-14T12:09:20.420Z"
   },
   {
    "duration": 634,
    "start_time": "2024-06-14T12:10:13.837Z"
   },
   {
    "duration": 154,
    "start_time": "2024-06-14T12:10:55.094Z"
   },
   {
    "duration": 6,
    "start_time": "2024-06-14T12:10:59.925Z"
   },
   {
    "duration": 14,
    "start_time": "2024-06-14T12:11:03.830Z"
   },
   {
    "duration": 302,
    "start_time": "2024-06-14T12:11:05.189Z"
   },
   {
    "duration": 343,
    "start_time": "2024-06-14T12:11:11.595Z"
   },
   {
    "duration": 13,
    "start_time": "2024-06-14T12:11:14.166Z"
   },
   {
    "duration": 4,
    "start_time": "2024-06-14T12:11:18.272Z"
   },
   {
    "duration": 8,
    "start_time": "2024-06-14T12:11:18.874Z"
   },
   {
    "duration": 9,
    "start_time": "2024-06-14T12:11:19.861Z"
   },
   {
    "duration": 8,
    "start_time": "2024-06-14T12:11:22.413Z"
   },
   {
    "duration": 8,
    "start_time": "2024-06-14T12:11:25.294Z"
   },
   {
    "duration": 203,
    "start_time": "2024-06-14T12:11:27.051Z"
   },
   {
    "duration": 16,
    "start_time": "2024-06-14T12:11:32.533Z"
   },
   {
    "duration": 34,
    "start_time": "2024-06-14T12:11:35.444Z"
   },
   {
    "duration": 14,
    "start_time": "2024-06-14T12:11:38.428Z"
   },
   {
    "duration": 86,
    "start_time": "2024-06-14T12:11:41.462Z"
   },
   {
    "duration": 8,
    "start_time": "2024-06-14T17:25:46.441Z"
   },
   {
    "duration": 700,
    "start_time": "2024-06-14T17:25:46.868Z"
   },
   {
    "duration": 65,
    "start_time": "2024-06-14T17:25:49.576Z"
   },
   {
    "duration": 26,
    "start_time": "2024-06-14T17:25:51.344Z"
   },
   {
    "duration": 13,
    "start_time": "2024-06-14T17:25:52.242Z"
   },
   {
    "duration": 8,
    "start_time": "2024-06-14T17:25:52.639Z"
   },
   {
    "duration": 3,
    "start_time": "2024-06-14T17:25:52.868Z"
   },
   {
    "duration": 3,
    "start_time": "2024-06-14T17:25:53.408Z"
   },
   {
    "duration": 9,
    "start_time": "2024-06-14T17:25:53.830Z"
   },
   {
    "duration": 15,
    "start_time": "2024-06-14T17:25:54.015Z"
   },
   {
    "duration": 27,
    "start_time": "2024-06-14T17:25:55.321Z"
   },
   {
    "duration": 7,
    "start_time": "2024-06-14T17:25:55.971Z"
   },
   {
    "duration": 4,
    "start_time": "2024-06-14T17:25:56.195Z"
   },
   {
    "duration": 5,
    "start_time": "2024-06-14T17:25:56.393Z"
   },
   {
    "duration": 6,
    "start_time": "2024-06-14T17:25:56.791Z"
   },
   {
    "duration": 11,
    "start_time": "2024-06-14T17:25:57.455Z"
   },
   {
    "duration": 7,
    "start_time": "2024-06-14T17:25:57.663Z"
   },
   {
    "duration": 11,
    "start_time": "2024-06-14T17:25:58.138Z"
   },
   {
    "duration": 14,
    "start_time": "2024-06-14T17:25:58.829Z"
   },
   {
    "duration": 8,
    "start_time": "2024-06-14T17:26:00.602Z"
   },
   {
    "duration": 4,
    "start_time": "2024-06-14T17:26:00.753Z"
   },
   {
    "duration": 65,
    "start_time": "2024-06-14T17:26:00.759Z"
   },
   {
    "duration": 60,
    "start_time": "2024-06-14T17:26:00.826Z"
   },
   {
    "duration": 42,
    "start_time": "2024-06-14T17:26:00.888Z"
   },
   {
    "duration": 23,
    "start_time": "2024-06-14T17:26:00.932Z"
   },
   {
    "duration": 4,
    "start_time": "2024-06-14T17:26:01.143Z"
   },
   {
    "duration": 9,
    "start_time": "2024-06-14T17:26:01.338Z"
   },
   {
    "duration": 9,
    "start_time": "2024-06-14T17:26:01.751Z"
   },
   {
    "duration": 35,
    "start_time": "2024-06-14T17:26:02.154Z"
   },
   {
    "duration": 4,
    "start_time": "2024-06-14T17:26:03.012Z"
   },
   {
    "duration": 4,
    "start_time": "2024-06-14T17:26:03.396Z"
   },
   {
    "duration": 15,
    "start_time": "2024-06-14T17:26:06.404Z"
   },
   {
    "duration": 21,
    "start_time": "2024-06-14T17:26:07.330Z"
   },
   {
    "duration": 5,
    "start_time": "2024-06-14T17:26:07.894Z"
   },
   {
    "duration": 23,
    "start_time": "2024-06-14T17:26:13.587Z"
   },
   {
    "duration": 3,
    "start_time": "2024-06-14T17:26:14.618Z"
   },
   {
    "duration": 3,
    "start_time": "2024-06-14T17:26:16.487Z"
   },
   {
    "duration": 44,
    "start_time": "2024-06-14T17:26:17.049Z"
   },
   {
    "duration": 6,
    "start_time": "2024-06-14T17:26:24.434Z"
   },
   {
    "duration": 4,
    "start_time": "2024-06-14T17:26:25.552Z"
   },
   {
    "duration": 31,
    "start_time": "2024-06-14T17:26:27.603Z"
   },
   {
    "duration": 531,
    "start_time": "2024-06-14T17:27:04.621Z"
   },
   {
    "duration": 120,
    "start_time": "2024-06-14T17:27:19.752Z"
   },
   {
    "duration": 6,
    "start_time": "2024-06-14T17:27:26.458Z"
   },
   {
    "duration": 8,
    "start_time": "2024-06-14T17:27:30.109Z"
   },
   {
    "duration": 205,
    "start_time": "2024-06-14T17:27:31.620Z"
   },
   {
    "duration": 252,
    "start_time": "2024-06-14T17:28:18.903Z"
   },
   {
    "duration": 12,
    "start_time": "2024-06-14T17:29:24.236Z"
   },
   {
    "duration": 12,
    "start_time": "2024-06-14T17:29:29.252Z"
   },
   {
    "duration": 4,
    "start_time": "2024-06-14T17:31:11.863Z"
   },
   {
    "duration": 118,
    "start_time": "2024-06-14T17:31:12.473Z"
   },
   {
    "duration": 53,
    "start_time": "2024-06-14T17:31:13.515Z"
   },
   {
    "duration": 27,
    "start_time": "2024-06-14T17:31:14.452Z"
   },
   {
    "duration": 14,
    "start_time": "2024-06-14T17:31:19.207Z"
   },
   {
    "duration": 8,
    "start_time": "2024-06-14T17:31:20.754Z"
   },
   {
    "duration": 3,
    "start_time": "2024-06-14T17:31:21.262Z"
   },
   {
    "duration": 3,
    "start_time": "2024-06-14T17:31:22.072Z"
   },
   {
    "duration": 4,
    "start_time": "2024-06-14T17:32:51.270Z"
   },
   {
    "duration": 117,
    "start_time": "2024-06-14T17:32:51.551Z"
   },
   {
    "duration": 59,
    "start_time": "2024-06-14T17:32:51.995Z"
   },
   {
    "duration": 27,
    "start_time": "2024-06-14T17:32:52.386Z"
   },
   {
    "duration": 13,
    "start_time": "2024-06-14T17:32:52.940Z"
   },
   {
    "duration": 8,
    "start_time": "2024-06-14T17:32:53.313Z"
   },
   {
    "duration": 3,
    "start_time": "2024-06-14T17:32:53.487Z"
   },
   {
    "duration": 3,
    "start_time": "2024-06-14T17:32:53.717Z"
   },
   {
    "duration": 11,
    "start_time": "2024-06-14T17:32:54.163Z"
   },
   {
    "duration": 12,
    "start_time": "2024-06-14T17:32:54.362Z"
   },
   {
    "duration": 30,
    "start_time": "2024-06-14T17:32:55.793Z"
   },
   {
    "duration": 8,
    "start_time": "2024-06-14T17:32:56.375Z"
   },
   {
    "duration": 4,
    "start_time": "2024-06-14T17:32:56.549Z"
   },
   {
    "duration": 5,
    "start_time": "2024-06-14T17:32:56.737Z"
   },
   {
    "duration": 6,
    "start_time": "2024-06-14T17:32:57.100Z"
   },
   {
    "duration": 11,
    "start_time": "2024-06-14T17:32:58.075Z"
   },
   {
    "duration": 8,
    "start_time": "2024-06-14T17:32:58.087Z"
   },
   {
    "duration": 12,
    "start_time": "2024-06-14T17:32:59.187Z"
   },
   {
    "duration": 13,
    "start_time": "2024-06-14T17:32:59.846Z"
   },
   {
    "duration": 8,
    "start_time": "2024-06-14T17:33:00.768Z"
   },
   {
    "duration": 5,
    "start_time": "2024-06-14T17:33:01.444Z"
   },
   {
    "duration": 7,
    "start_time": "2024-06-14T17:33:01.714Z"
   },
   {
    "duration": 24,
    "start_time": "2024-06-14T17:33:02.307Z"
   },
   {
    "duration": 15,
    "start_time": "2024-06-14T17:33:02.500Z"
   },
   {
    "duration": 4,
    "start_time": "2024-06-14T17:33:03.199Z"
   },
   {
    "duration": 4,
    "start_time": "2024-06-14T17:33:03.376Z"
   },
   {
    "duration": 8,
    "start_time": "2024-06-14T17:33:03.550Z"
   },
   {
    "duration": 8,
    "start_time": "2024-06-14T17:33:03.910Z"
   },
   {
    "duration": 32,
    "start_time": "2024-06-14T17:33:04.312Z"
   },
   {
    "duration": 4,
    "start_time": "2024-06-14T17:33:05.105Z"
   },
   {
    "duration": 4,
    "start_time": "2024-06-14T17:33:05.512Z"
   },
   {
    "duration": 16,
    "start_time": "2024-06-14T17:33:06.073Z"
   },
   {
    "duration": 19,
    "start_time": "2024-06-14T17:33:06.679Z"
   },
   {
    "duration": 4,
    "start_time": "2024-06-14T17:33:07.232Z"
   },
   {
    "duration": 22,
    "start_time": "2024-06-14T17:33:07.785Z"
   },
   {
    "duration": 4,
    "start_time": "2024-06-14T17:33:08.443Z"
   },
   {
    "duration": 41,
    "start_time": "2024-06-14T17:33:08.449Z"
   },
   {
    "duration": 19,
    "start_time": "2024-06-14T17:33:08.583Z"
   },
   {
    "duration": 6,
    "start_time": "2024-06-14T17:33:08.669Z"
   },
   {
    "duration": 5,
    "start_time": "2024-06-14T17:33:09.035Z"
   },
   {
    "duration": 33,
    "start_time": "2024-06-14T17:33:10.074Z"
   },
   {
    "duration": 183,
    "start_time": "2024-06-14T17:33:10.479Z"
   },
   {
    "duration": 119,
    "start_time": "2024-06-14T17:33:12.196Z"
   },
   {
    "duration": 6,
    "start_time": "2024-06-14T17:33:12.814Z"
   },
   {
    "duration": 8,
    "start_time": "2024-06-14T17:33:14.077Z"
   },
   {
    "duration": 159,
    "start_time": "2024-06-14T17:33:14.306Z"
   },
   {
    "duration": 240,
    "start_time": "2024-06-14T17:33:16.296Z"
   },
   {
    "duration": 11,
    "start_time": "2024-06-14T17:33:16.961Z"
   },
   {
    "duration": 3,
    "start_time": "2024-06-14T17:33:17.967Z"
   },
   {
    "duration": 6,
    "start_time": "2024-06-14T17:33:18.405Z"
   },
   {
    "duration": 7,
    "start_time": "2024-06-14T17:33:18.627Z"
   },
   {
    "duration": 7,
    "start_time": "2024-06-14T17:33:19.025Z"
   },
   {
    "duration": 7,
    "start_time": "2024-06-14T17:33:19.404Z"
   },
   {
    "duration": 130,
    "start_time": "2024-06-14T17:33:19.626Z"
   },
   {
    "duration": 13,
    "start_time": "2024-06-14T17:33:20.429Z"
   },
   {
    "duration": 26,
    "start_time": "2024-06-14T17:33:21.261Z"
   },
   {
    "duration": 9,
    "start_time": "2024-06-14T17:33:22.055Z"
   },
   {
    "duration": 68,
    "start_time": "2024-06-14T17:33:23.793Z"
   },
   {
    "duration": 14,
    "start_time": "2024-06-15T08:29:02.018Z"
   },
   {
    "duration": 664,
    "start_time": "2024-06-15T08:29:02.035Z"
   },
   {
    "duration": 83,
    "start_time": "2024-06-15T08:29:02.701Z"
   },
   {
    "duration": 35,
    "start_time": "2024-06-15T08:29:02.786Z"
   },
   {
    "duration": 47,
    "start_time": "2024-06-15T08:29:02.823Z"
   },
   {
    "duration": 9,
    "start_time": "2024-06-15T08:29:02.872Z"
   },
   {
    "duration": 8,
    "start_time": "2024-06-15T08:29:02.882Z"
   },
   {
    "duration": 5,
    "start_time": "2024-06-15T08:29:02.891Z"
   },
   {
    "duration": 10,
    "start_time": "2024-06-15T08:29:02.898Z"
   },
   {
    "duration": 14,
    "start_time": "2024-06-15T08:29:02.909Z"
   },
   {
    "duration": 62,
    "start_time": "2024-06-15T08:29:02.924Z"
   },
   {
    "duration": 5,
    "start_time": "2024-06-15T08:29:02.988Z"
   },
   {
    "duration": 23,
    "start_time": "2024-06-15T08:29:02.995Z"
   },
   {
    "duration": 16,
    "start_time": "2024-06-15T08:29:03.022Z"
   },
   {
    "duration": 10,
    "start_time": "2024-06-15T08:29:03.040Z"
   },
   {
    "duration": 16,
    "start_time": "2024-06-15T08:29:03.052Z"
   },
   {
    "duration": 9,
    "start_time": "2024-06-15T08:29:03.070Z"
   },
   {
    "duration": 12,
    "start_time": "2024-06-15T08:29:03.081Z"
   },
   {
    "duration": 13,
    "start_time": "2024-06-15T08:29:03.094Z"
   },
   {
    "duration": 8,
    "start_time": "2024-06-15T08:29:03.108Z"
   },
   {
    "duration": 6,
    "start_time": "2024-06-15T08:29:03.117Z"
   },
   {
    "duration": 9,
    "start_time": "2024-06-15T08:29:03.125Z"
   },
   {
    "duration": 59,
    "start_time": "2024-06-15T08:29:03.135Z"
   },
   {
    "duration": 18,
    "start_time": "2024-06-15T08:29:03.196Z"
   },
   {
    "duration": 5,
    "start_time": "2024-06-15T08:29:03.215Z"
   },
   {
    "duration": 5,
    "start_time": "2024-06-15T08:29:03.222Z"
   },
   {
    "duration": 38,
    "start_time": "2024-06-15T08:29:03.228Z"
   },
   {
    "duration": 9,
    "start_time": "2024-06-15T08:29:03.268Z"
   },
   {
    "duration": 35,
    "start_time": "2024-06-15T08:29:03.279Z"
   },
   {
    "duration": 5,
    "start_time": "2024-06-15T08:29:03.316Z"
   },
   {
    "duration": 10,
    "start_time": "2024-06-15T08:29:03.323Z"
   },
   {
    "duration": 53,
    "start_time": "2024-06-15T08:29:03.336Z"
   },
   {
    "duration": 24,
    "start_time": "2024-06-15T08:29:03.392Z"
   },
   {
    "duration": 20,
    "start_time": "2024-06-15T08:29:03.418Z"
   },
   {
    "duration": 34,
    "start_time": "2024-06-15T08:29:03.440Z"
   },
   {
    "duration": 4,
    "start_time": "2024-06-15T08:29:03.476Z"
   },
   {
    "duration": 4,
    "start_time": "2024-06-15T08:29:03.481Z"
   },
   {
    "duration": 79,
    "start_time": "2024-06-15T08:29:03.486Z"
   },
   {
    "duration": 8,
    "start_time": "2024-06-15T08:29:03.567Z"
   },
   {
    "duration": 5,
    "start_time": "2024-06-15T08:29:03.576Z"
   },
   {
    "duration": 79,
    "start_time": "2024-06-15T08:29:03.588Z"
   },
   {
    "duration": 431,
    "start_time": "2024-06-15T08:29:03.669Z"
   },
   {
    "duration": 149,
    "start_time": "2024-06-15T08:29:04.101Z"
   },
   {
    "duration": 6,
    "start_time": "2024-06-15T08:29:04.252Z"
   },
   {
    "duration": 9,
    "start_time": "2024-06-15T08:29:04.265Z"
   },
   {
    "duration": 224,
    "start_time": "2024-06-15T08:29:04.275Z"
   },
   {
    "duration": 339,
    "start_time": "2024-06-15T08:29:04.501Z"
   },
   {
    "duration": 11,
    "start_time": "2024-06-15T08:29:04.841Z"
   },
   {
    "duration": 8,
    "start_time": "2024-06-15T08:29:04.854Z"
   },
   {
    "duration": 14,
    "start_time": "2024-06-15T08:29:04.863Z"
   },
   {
    "duration": 8,
    "start_time": "2024-06-15T08:29:04.879Z"
   },
   {
    "duration": 18,
    "start_time": "2024-06-15T08:29:04.889Z"
   },
   {
    "duration": 15,
    "start_time": "2024-06-15T08:29:04.909Z"
   },
   {
    "duration": 174,
    "start_time": "2024-06-15T08:29:04.927Z"
   },
   {
    "duration": 20,
    "start_time": "2024-06-15T08:29:05.102Z"
   },
   {
    "duration": 65,
    "start_time": "2024-06-15T08:29:05.124Z"
   },
   {
    "duration": 12,
    "start_time": "2024-06-15T08:29:05.191Z"
   },
   {
    "duration": 97,
    "start_time": "2024-06-15T08:29:05.204Z"
   },
   {
    "duration": 7,
    "start_time": "2024-06-15T20:07:07.764Z"
   },
   {
    "duration": 666,
    "start_time": "2024-06-15T20:07:07.959Z"
   },
   {
    "duration": 56,
    "start_time": "2024-06-15T20:07:08.626Z"
   },
   {
    "duration": 24,
    "start_time": "2024-06-15T20:07:09.807Z"
   },
   {
    "duration": 13,
    "start_time": "2024-06-15T20:07:10.995Z"
   },
   {
    "duration": 7,
    "start_time": "2024-06-15T20:07:12.205Z"
   },
   {
    "duration": 10,
    "start_time": "2024-06-15T20:07:12.214Z"
   },
   {
    "duration": 3,
    "start_time": "2024-06-15T20:07:18.928Z"
   },
   {
    "duration": 9,
    "start_time": "2024-06-15T20:07:21.176Z"
   },
   {
    "duration": 13,
    "start_time": "2024-06-15T20:07:21.994Z"
   },
   {
    "duration": 26,
    "start_time": "2024-06-15T20:07:29.372Z"
   },
   {
    "duration": 4,
    "start_time": "2024-06-15T20:07:31.580Z"
   },
   {
    "duration": 4,
    "start_time": "2024-06-15T20:07:32.142Z"
   },
   {
    "duration": 4,
    "start_time": "2024-06-15T20:07:32.525Z"
   },
   {
    "duration": 6,
    "start_time": "2024-06-15T20:07:33.348Z"
   },
   {
    "duration": 11,
    "start_time": "2024-06-15T20:07:41.034Z"
   },
   {
    "duration": 7,
    "start_time": "2024-06-15T20:07:41.661Z"
   },
   {
    "duration": 10,
    "start_time": "2024-06-15T20:07:43.256Z"
   },
   {
    "duration": 14,
    "start_time": "2024-06-15T20:07:44.429Z"
   },
   {
    "duration": 6,
    "start_time": "2024-06-15T20:07:48.787Z"
   },
   {
    "duration": 4,
    "start_time": "2024-06-15T20:07:49.817Z"
   },
   {
    "duration": 7,
    "start_time": "2024-06-15T20:07:50.375Z"
   },
   {
    "duration": 21,
    "start_time": "2024-06-15T20:07:51.653Z"
   },
   {
    "duration": 13,
    "start_time": "2024-06-15T20:07:53.491Z"
   },
   {
    "duration": 4,
    "start_time": "2024-06-15T20:07:54.848Z"
   },
   {
    "duration": 3,
    "start_time": "2024-06-15T20:07:55.073Z"
   },
   {
    "duration": 8,
    "start_time": "2024-06-15T20:07:55.360Z"
   },
   {
    "duration": 8,
    "start_time": "2024-06-15T20:07:56.129Z"
   },
   {
    "duration": 25,
    "start_time": "2024-06-15T20:07:56.623Z"
   },
   {
    "duration": 4,
    "start_time": "2024-06-15T20:07:59.027Z"
   },
   {
    "duration": 4,
    "start_time": "2024-06-15T20:08:00.099Z"
   },
   {
    "duration": 15,
    "start_time": "2024-06-15T20:08:02.545Z"
   },
   {
    "duration": 19,
    "start_time": "2024-06-15T20:08:03.720Z"
   },
   {
    "duration": 4,
    "start_time": "2024-06-15T20:08:04.686Z"
   },
   {
    "duration": 27,
    "start_time": "2024-06-15T20:08:06.602Z"
   },
   {
    "duration": 4,
    "start_time": "2024-06-15T20:08:08.835Z"
   },
   {
    "duration": 2,
    "start_time": "2024-06-15T20:08:12.236Z"
   },
   {
    "duration": 36,
    "start_time": "2024-06-15T20:08:13.215Z"
   },
   {
    "duration": 7,
    "start_time": "2024-06-15T20:08:15.299Z"
   },
   {
    "duration": 4,
    "start_time": "2024-06-15T20:08:16.826Z"
   },
   {
    "duration": 28,
    "start_time": "2024-06-15T20:08:21.740Z"
   },
   {
    "duration": 483,
    "start_time": "2024-06-15T20:08:25.116Z"
   },
   {
    "duration": 60,
    "start_time": "2024-06-15T20:08:30.515Z"
   },
   {
    "duration": 3,
    "start_time": "2024-06-15T20:08:41.340Z"
   },
   {
    "duration": 10,
    "start_time": "2024-06-15T20:10:19.947Z"
   },
   {
    "duration": 8,
    "start_time": "2024-06-15T20:11:10.869Z"
   },
   {
    "duration": 6,
    "start_time": "2024-06-15T20:11:34.736Z"
   },
   {
    "duration": 6,
    "start_time": "2024-06-15T20:11:57.960Z"
   },
   {
    "duration": 45,
    "start_time": "2024-06-15T20:12:46.217Z"
   },
   {
    "duration": 6,
    "start_time": "2024-06-15T20:12:52.751Z"
   },
   {
    "duration": 7,
    "start_time": "2024-06-15T20:13:41.287Z"
   },
   {
    "duration": 105,
    "start_time": "2024-06-15T20:13:46.779Z"
   },
   {
    "duration": 5,
    "start_time": "2024-06-15T20:13:48.247Z"
   },
   {
    "duration": 7,
    "start_time": "2024-06-15T20:13:55.149Z"
   },
   {
    "duration": 174,
    "start_time": "2024-06-15T20:13:55.878Z"
   },
   {
    "duration": 221,
    "start_time": "2024-06-15T20:14:01.516Z"
   },
   {
    "duration": 9,
    "start_time": "2024-06-15T20:14:02.264Z"
   },
   {
    "duration": 3,
    "start_time": "2024-06-15T20:14:06.591Z"
   },
   {
    "duration": 6,
    "start_time": "2024-06-15T20:14:07.158Z"
   },
   {
    "duration": 6,
    "start_time": "2024-06-15T20:14:07.648Z"
   },
   {
    "duration": 6,
    "start_time": "2024-06-15T20:14:08.891Z"
   },
   {
    "duration": 6,
    "start_time": "2024-06-15T20:14:10.250Z"
   },
   {
    "duration": 121,
    "start_time": "2024-06-15T20:14:10.257Z"
   },
   {
    "duration": 13,
    "start_time": "2024-06-15T20:14:12.115Z"
   },
   {
    "duration": 25,
    "start_time": "2024-06-15T20:14:13.801Z"
   },
   {
    "duration": 7,
    "start_time": "2024-06-15T20:14:15.419Z"
   },
   {
    "duration": 61,
    "start_time": "2024-06-15T20:14:17.413Z"
   },
   {
    "duration": 9,
    "start_time": "2024-06-16T14:19:47.047Z"
   },
   {
    "duration": 652,
    "start_time": "2024-06-16T14:19:47.058Z"
   },
   {
    "duration": 81,
    "start_time": "2024-06-16T14:19:47.712Z"
   },
   {
    "duration": 59,
    "start_time": "2024-06-16T14:19:47.795Z"
   },
   {
    "duration": 18,
    "start_time": "2024-06-16T14:19:47.856Z"
   },
   {
    "duration": 10,
    "start_time": "2024-06-16T14:19:47.875Z"
   },
   {
    "duration": 3,
    "start_time": "2024-06-16T14:19:47.887Z"
   },
   {
    "duration": 10,
    "start_time": "2024-06-16T14:19:47.891Z"
   },
   {
    "duration": 51,
    "start_time": "2024-06-16T14:19:47.903Z"
   },
   {
    "duration": 14,
    "start_time": "2024-06-16T14:19:47.956Z"
   },
   {
    "duration": 45,
    "start_time": "2024-06-16T14:19:47.972Z"
   },
   {
    "duration": 27,
    "start_time": "2024-06-16T14:19:48.019Z"
   },
   {
    "duration": 11,
    "start_time": "2024-06-16T14:19:48.048Z"
   },
   {
    "duration": 10,
    "start_time": "2024-06-16T14:19:48.062Z"
   },
   {
    "duration": 18,
    "start_time": "2024-06-16T14:19:48.074Z"
   },
   {
    "duration": 22,
    "start_time": "2024-06-16T14:19:48.094Z"
   },
   {
    "duration": 10,
    "start_time": "2024-06-16T14:19:48.117Z"
   },
   {
    "duration": 22,
    "start_time": "2024-06-16T14:19:48.129Z"
   },
   {
    "duration": 14,
    "start_time": "2024-06-16T14:19:48.153Z"
   },
   {
    "duration": 9,
    "start_time": "2024-06-16T14:19:48.169Z"
   },
   {
    "duration": 6,
    "start_time": "2024-06-16T14:19:48.179Z"
   },
   {
    "duration": 24,
    "start_time": "2024-06-16T14:19:48.187Z"
   },
   {
    "duration": 43,
    "start_time": "2024-06-16T14:19:48.212Z"
   },
   {
    "duration": 18,
    "start_time": "2024-06-16T14:19:48.257Z"
   },
   {
    "duration": 5,
    "start_time": "2024-06-16T14:19:48.277Z"
   },
   {
    "duration": 56,
    "start_time": "2024-06-16T14:19:48.283Z"
   },
   {
    "duration": 32,
    "start_time": "2024-06-16T14:19:48.341Z"
   },
   {
    "duration": 9,
    "start_time": "2024-06-16T14:19:48.374Z"
   },
   {
    "duration": 47,
    "start_time": "2024-06-16T14:19:48.385Z"
   },
   {
    "duration": 4,
    "start_time": "2024-06-16T14:19:48.433Z"
   },
   {
    "duration": 39,
    "start_time": "2024-06-16T14:19:48.439Z"
   },
   {
    "duration": 52,
    "start_time": "2024-06-16T14:19:48.480Z"
   },
   {
    "duration": 65,
    "start_time": "2024-06-16T14:19:48.534Z"
   },
   {
    "duration": 100,
    "start_time": "2024-06-16T14:19:48.600Z"
   },
   {
    "duration": 44,
    "start_time": "2024-06-16T14:19:48.702Z"
   },
   {
    "duration": 6,
    "start_time": "2024-06-16T14:19:48.748Z"
   },
   {
    "duration": 15,
    "start_time": "2024-06-16T14:19:48.756Z"
   },
   {
    "duration": 90,
    "start_time": "2024-06-16T14:19:48.773Z"
   },
   {
    "duration": 25,
    "start_time": "2024-06-16T14:19:48.864Z"
   },
   {
    "duration": 19,
    "start_time": "2024-06-16T14:19:48.891Z"
   },
   {
    "duration": 56,
    "start_time": "2024-06-16T14:19:48.914Z"
   },
   {
    "duration": 420,
    "start_time": "2024-06-16T14:19:48.971Z"
   },
   {
    "duration": 10,
    "start_time": "2024-06-16T14:19:49.393Z"
   },
   {
    "duration": 154,
    "start_time": "2024-06-16T14:19:49.405Z"
   },
   {
    "duration": 6,
    "start_time": "2024-06-16T14:19:49.560Z"
   },
   {
    "duration": 25,
    "start_time": "2024-06-16T14:19:49.568Z"
   },
   {
    "duration": 197,
    "start_time": "2024-06-16T14:19:49.595Z"
   },
   {
    "duration": 347,
    "start_time": "2024-06-16T14:19:49.794Z"
   },
   {
    "duration": 12,
    "start_time": "2024-06-16T14:19:50.142Z"
   },
   {
    "duration": 8,
    "start_time": "2024-06-16T14:19:50.155Z"
   },
   {
    "duration": 12,
    "start_time": "2024-06-16T14:19:50.164Z"
   },
   {
    "duration": 7,
    "start_time": "2024-06-16T14:19:50.178Z"
   },
   {
    "duration": 25,
    "start_time": "2024-06-16T14:19:50.186Z"
   },
   {
    "duration": 19,
    "start_time": "2024-06-16T14:19:50.213Z"
   },
   {
    "duration": 185,
    "start_time": "2024-06-16T14:19:50.234Z"
   },
   {
    "duration": 15,
    "start_time": "2024-06-16T14:19:50.421Z"
   },
   {
    "duration": 41,
    "start_time": "2024-06-16T14:19:50.437Z"
   },
   {
    "duration": 9,
    "start_time": "2024-06-16T14:19:50.479Z"
   },
   {
    "duration": 108,
    "start_time": "2024-06-16T14:19:50.490Z"
   }
  ],
  "colab": {
   "name": "DA+. Сборный проект 1. Шаблон (1).ipynb",
   "provenance": []
  },
  "kernelspec": {
   "display_name": "Python 3 (ipykernel)",
   "language": "python",
   "name": "python3"
  },
  "language_info": {
   "codemirror_mode": {
    "name": "ipython",
    "version": 3
   },
   "file_extension": ".py",
   "mimetype": "text/x-python",
   "name": "python",
   "nbconvert_exporter": "python",
   "pygments_lexer": "ipython3",
   "version": "3.12.7"
  },
  "toc": {
   "base_numbering": 1,
   "nav_menu": {},
   "number_sections": true,
   "sideBar": true,
   "skip_h1_title": true,
   "title_cell": "Table of Contents",
   "title_sidebar": "Contents",
   "toc_cell": false,
   "toc_position": {
    "height": "calc(100% - 180px)",
    "left": "10px",
    "top": "150px",
    "width": "375.386017px"
   },
   "toc_section_display": true,
   "toc_window_display": true
  }
 },
 "nbformat": 4,
 "nbformat_minor": 4
}
