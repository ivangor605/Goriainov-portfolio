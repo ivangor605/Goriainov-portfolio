{
 "cells": [
  {
   "cell_type": "markdown",
   "id": "9d53ae1c-9d05-4eb1-8702-bc06556046b0",
   "metadata": {},
   "source": [
    "# Проект: Принятие решений в бизнесе\n",
    "\n",
    "# Описание проекта\n",
    "\n",
    "## Контекст\n",
    "\n",
    "Вы — аналитик крупного интернет-магазина. Вместе с отделом маркетинга подготовлен список гипотез для увеличения выручки.\n",
    "\n",
    "Приоритизируйте гипотезы, запустите A/B-тест и проанализируйте результаты.\n",
    "\n",
    "# Описание данных\n",
    "\n",
    "## Данные для первой части\n",
    "- Файл [hypothesis.csv](datasets/hypothesis.csv). Скачать датасет\n",
    "  - **Hypothesis** — краткое описание гипотезы;\n",
    "  - **Reach** — охват пользователей по 10-балльной шкале;\n",
    "  - **Impact** — влияние на пользователей по 10-балльной шкале;\n",
    "  - **Confidence** — уверенность в гипотезе по 10-балльной шкале;\n",
    "  - **Efforts** — затраты ресурсов на проверку гипотезы по 10-балльной шкале. Чем больше значение Efforts, тем дороже проверка гипотезы.\n",
    "\n",
    "## Данные для второй части\n",
    "- Файл [orders.csv](datasets/orders.csv). Скачать датасет\n",
    "  - **transactionId** — идентификатор заказа;\n",
    "  - **visitorId** — идентификатор пользователя, совершившего заказ;\n",
    "  - **date** — дата, когда был совершён заказ;\n",
    "  - **revenue** — выручка заказа;\n",
    "  - **group** — группа A/B-теста, в которую попал заказ.\n",
    "\n",
    "- Файл [visitors.csv](datasets/visitors.csv). Скачать датасет\n",
    "  - **date** — дата;\n",
    "  - **group** — группа A/B-теста;\n",
    "  - **visitors** — количество пользователей в указанную дату в указанной группе A/B-теста.\n",
    "\n",
    "\n",
    "# Основные этапы исследования:"
   ]
  },
  {
   "cell_type": "markdown",
   "id": "d3682cf8-65e9-4e9a-986b-347fa8e026c4",
   "metadata": {},
   "source": [
    "### Шаг 1: Загрузка, изучение и предобработка данных"
   ]
  },
  {
   "cell_type": "markdown",
   "id": "79788c77-a91b-4b02-a04d-e29892fdb854",
   "metadata": {},
   "source": [
    "### Шаг 2: Приоритизация гипотез\n",
    "\n",
    "В файле [hypothesis.csv](datasets/hypothesis.csv) 9 гипотез по увеличению выручки интернет-магазина с указанными параметрами Reach, Impact, Confidence, Effort.\n",
    "\n",
    "## Задачи\n",
    "- Примените фреймворк ICE для приоритизации гипотез. Отсортируйте их по убыванию приоритета.\n",
    "- Примените фреймворк RICE для приоритизации гипотез. Отсортируйте их по убыванию приоритета.\n",
    "- Укажите, как изменилась приоритизация гипотез при применении RICE вместо ICE. Объясните, почему так произошло.\n",
    "\n"
   ]
  },
  {
   "cell_type": "markdown",
   "id": "e30809fd-dfc4-4bfd-850e-b781c1e962d9",
   "metadata": {},
   "source": [
    "### Шаг 3: Анализ A/B-теста\n",
    "\n",
    "Вы провели A/B-тест и получили результаты, которые описаны в файлах [orders.csv](datasets/orders.csv) и [visitors.csv](datasets/visitors.csv).\n",
    "\n",
    "## Задачи\n",
    "- Проанализируйте A/B-тест:\n",
    "  - Постройте график кумулятивной выручки по группам. Сделайте выводы и предположения.\n",
    "  - Постройте график кумулятивного среднего чека по группам. Сделайте выводы и предположения.\n",
    "  - Постройте график относительного изменения кумулятивного среднего чека группы B к группе A. Сделайте выводы и предположения.\n",
    "  - Постройте график кумулятивного среднего количества заказов на посетителя по группам. Сделайте выводы и предположения.\n",
    "  - Постройте график относительного изменения кумулятивного среднего количества заказов на посетителя группы B к группе A. Сделайте выводы и предположения.\n",
    "  - Постройте точечный график количества заказов по пользователям. Сделайте выводы и предположения.\n",
    "  - Посчитайте 95-й и 99-й перцентили количества заказов на пользователя. Выберите границу для определения аномальных пользователей.\n",
    "  - Постройте точечный график стоимостей заказов. Сделайте выводы и предположения.\n",
    "  - Посчитайте 95-й и 99-й перцентили стоимости заказов. Выберите границу для определения аномальных заказов.\n",
    "  - Посчитайте статистическую значимость различий в среднем количестве заказов на посетителя между группами по «сырым» данным. Сделайте выводы и предположения.\n",
    "  - Посчитайте статистическую значимость различий в среднем чеке заказа между группами по «сырым» данным. Сделайте выводы и предположения.\n",
    "  - Посчитайте статистическую значимость различий в среднем количестве заказов на посетителя между группами по «очищенным» данным. Сделайте выводы и предположения.\n",
    "  - Посчитайте статистическую значимость различий в среднем чеке заказа между группами по «очищенным» данным. Сделайте выводы и предположения.\n",
    "- Примите решение по результатам теста и объясните его. Варианты решений:\n",
    "  1. Остановить тест, зафиксировать победу одной из групп.\n",
    "  2. Остановить тест, зафиксировать отсутствие различий между группами.\n",
    "  3. Продолжить тест."
   ]
  },
  {
   "cell_type": "markdown",
   "id": "61a326d7-e251-459b-8958-3e7db767c65b",
   "metadata": {},
   "source": [
    "## Импортируем необходимые библиотеки"
   ]
  },
  {
   "cell_type": "code",
   "execution_count": 1,
   "id": "7146a701-c882-489b-90b2-5d1012b1b961",
   "metadata": {},
   "outputs": [],
   "source": [
    "import pandas as pd\n",
    "import datetime as dt\n",
    "from scipy import stats\n",
    "import numpy as np\n",
    "import seaborn as sns\n",
    "import matplotlib.pyplot as plt\n",
    "from pandas.plotting import register_matplotlib_converters\n",
    "import warnings\n",
    "# конвертеры, которые позволяют использовать типы pandas в matplotlib  \n",
    "register_matplotlib_converters()"
   ]
  },
  {
   "cell_type": "markdown",
   "id": "4891b38e-5faa-4bfd-b0b6-d45f4abfb80c",
   "metadata": {},
   "source": [
    "# Шаг 1: Загрузка, изучение и предобработка данных"
   ]
  },
  {
   "cell_type": "code",
   "execution_count": 2,
   "id": "d6d2d9d6-e156-4460-bc08-fe94660b0d9a",
   "metadata": {},
   "outputs": [
    {
     "name": "stdout",
     "output_type": "stream",
     "text": [
      "hypothesis.csv успешно загружен.\n",
      "orders.csv успешно загружен.\n",
      "visitors.csv успешно загружен.\n"
     ]
    }
   ],
   "source": [
    "# Ссылки на файлы\n",
    "hypothesis_url = \"https://code.s3.yandex.net/datasets/hypothesis.csv\"\n",
    "orders_url = \"https://code.s3.yandex.net/datasets/orders.csv\"\n",
    "visitors_url = \"https://code.s3.yandex.net/datasets/visitors.csv\"\n",
    "\n",
    "# Инициализация переменных для DataFrame\n",
    "hypothesis = None\n",
    "orders = None\n",
    "visitors = None\n",
    "\n",
    "# Чтение файла hypothesis\n",
    "try:\n",
    "    hypothesis = pd.read_csv(hypothesis_url)\n",
    "    print(\"hypothesis.csv успешно загружен.\")\n",
    "except Exception as e:\n",
    "    print(f\"Ошибка при загрузке hypothesis.csv: {e}\")\n",
    "\n",
    "# Чтение файла orders\n",
    "try:\n",
    "    orders = pd.read_csv(orders_url)\n",
    "    print(\"orders.csv успешно загружен.\")\n",
    "except Exception as e:\n",
    "    print(f\"Ошибка при загрузке orders.csv: {e}\")\n",
    "\n",
    "# Чтение файла visitors\n",
    "try:\n",
    "    visitors = pd.read_csv(visitors_url)\n",
    "    print(\"visitors.csv успешно загружен.\")\n",
    "except Exception as e:\n",
    "    print(f\"Ошибка при загрузке visitors.csv: {e}\")"
   ]
  },
  {
   "cell_type": "code",
   "execution_count": 3,
   "id": "25169ae6-a2d4-4b22-9346-8c02253ec6af",
   "metadata": {},
   "outputs": [
    {
     "name": "stdout",
     "output_type": "stream",
     "text": [
      "<class 'pandas.core.frame.DataFrame'>\n",
      "RangeIndex: 9 entries, 0 to 8\n",
      "Data columns (total 5 columns):\n",
      " #   Column      Non-Null Count  Dtype \n",
      "---  ------      --------------  ----- \n",
      " 0   Hypothesis  9 non-null      object\n",
      " 1   Reach       9 non-null      int64 \n",
      " 2   Impact      9 non-null      int64 \n",
      " 3   Confidence  9 non-null      int64 \n",
      " 4   Efforts     9 non-null      int64 \n",
      "dtypes: int64(4), object(1)\n",
      "memory usage: 488.0+ bytes\n"
     ]
    }
   ],
   "source": [
    "hypothesis.info()"
   ]
  },
  {
   "cell_type": "code",
   "execution_count": 4,
   "id": "c8c9d003-8c60-4363-aeb8-fc4809beede0",
   "metadata": {},
   "outputs": [
    {
     "data": {
      "text/html": [
       "<div>\n",
       "<style scoped>\n",
       "    .dataframe tbody tr th:only-of-type {\n",
       "        vertical-align: middle;\n",
       "    }\n",
       "\n",
       "    .dataframe tbody tr th {\n",
       "        vertical-align: top;\n",
       "    }\n",
       "\n",
       "    .dataframe thead th {\n",
       "        text-align: right;\n",
       "    }\n",
       "</style>\n",
       "<table border=\"1\" class=\"dataframe\">\n",
       "  <thead>\n",
       "    <tr style=\"text-align: right;\">\n",
       "      <th></th>\n",
       "      <th>Hypothesis</th>\n",
       "      <th>Reach</th>\n",
       "      <th>Impact</th>\n",
       "      <th>Confidence</th>\n",
       "      <th>Efforts</th>\n",
       "    </tr>\n",
       "  </thead>\n",
       "  <tbody>\n",
       "    <tr>\n",
       "      <th>0</th>\n",
       "      <td>Добавить два новых канала привлечения трафика,...</td>\n",
       "      <td>3</td>\n",
       "      <td>10</td>\n",
       "      <td>8</td>\n",
       "      <td>6</td>\n",
       "    </tr>\n",
       "    <tr>\n",
       "      <th>1</th>\n",
       "      <td>Запустить собственную службу доставки, что сок...</td>\n",
       "      <td>2</td>\n",
       "      <td>5</td>\n",
       "      <td>4</td>\n",
       "      <td>10</td>\n",
       "    </tr>\n",
       "    <tr>\n",
       "      <th>2</th>\n",
       "      <td>Добавить блоки рекомендаций товаров на сайт ин...</td>\n",
       "      <td>8</td>\n",
       "      <td>3</td>\n",
       "      <td>7</td>\n",
       "      <td>3</td>\n",
       "    </tr>\n",
       "    <tr>\n",
       "      <th>3</th>\n",
       "      <td>Изменить структура категорий, что увеличит кон...</td>\n",
       "      <td>8</td>\n",
       "      <td>3</td>\n",
       "      <td>3</td>\n",
       "      <td>8</td>\n",
       "    </tr>\n",
       "    <tr>\n",
       "      <th>4</th>\n",
       "      <td>Изменить цвет фона главной страницы, чтобы уве...</td>\n",
       "      <td>3</td>\n",
       "      <td>1</td>\n",
       "      <td>1</td>\n",
       "      <td>1</td>\n",
       "    </tr>\n",
       "    <tr>\n",
       "      <th>5</th>\n",
       "      <td>Добавить страницу отзывов клиентов о магазине,...</td>\n",
       "      <td>3</td>\n",
       "      <td>2</td>\n",
       "      <td>2</td>\n",
       "      <td>3</td>\n",
       "    </tr>\n",
       "    <tr>\n",
       "      <th>6</th>\n",
       "      <td>Показать на главной странице баннеры с актуаль...</td>\n",
       "      <td>5</td>\n",
       "      <td>3</td>\n",
       "      <td>8</td>\n",
       "      <td>3</td>\n",
       "    </tr>\n",
       "    <tr>\n",
       "      <th>7</th>\n",
       "      <td>Добавить форму подписки на все основные страни...</td>\n",
       "      <td>10</td>\n",
       "      <td>7</td>\n",
       "      <td>8</td>\n",
       "      <td>5</td>\n",
       "    </tr>\n",
       "    <tr>\n",
       "      <th>8</th>\n",
       "      <td>Запустить акцию, дающую скидку на товар в день...</td>\n",
       "      <td>1</td>\n",
       "      <td>9</td>\n",
       "      <td>9</td>\n",
       "      <td>5</td>\n",
       "    </tr>\n",
       "  </tbody>\n",
       "</table>\n",
       "</div>"
      ],
      "text/plain": [
       "                                          Hypothesis  Reach  Impact  \\\n",
       "0  Добавить два новых канала привлечения трафика,...      3      10   \n",
       "1  Запустить собственную службу доставки, что сок...      2       5   \n",
       "2  Добавить блоки рекомендаций товаров на сайт ин...      8       3   \n",
       "3  Изменить структура категорий, что увеличит кон...      8       3   \n",
       "4  Изменить цвет фона главной страницы, чтобы уве...      3       1   \n",
       "5  Добавить страницу отзывов клиентов о магазине,...      3       2   \n",
       "6  Показать на главной странице баннеры с актуаль...      5       3   \n",
       "7  Добавить форму подписки на все основные страни...     10       7   \n",
       "8  Запустить акцию, дающую скидку на товар в день...      1       9   \n",
       "\n",
       "   Confidence  Efforts  \n",
       "0           8        6  \n",
       "1           4       10  \n",
       "2           7        3  \n",
       "3           3        8  \n",
       "4           1        1  \n",
       "5           2        3  \n",
       "6           8        3  \n",
       "7           8        5  \n",
       "8           9        5  "
      ]
     },
     "metadata": {},
     "output_type": "display_data"
    }
   ],
   "source": [
    "display(hypothesis)"
   ]
  },
  {
   "cell_type": "code",
   "execution_count": 5,
   "id": "3d74b425-aa5a-4cda-b936-b4528b92220f",
   "metadata": {},
   "outputs": [
    {
     "name": "stdout",
     "output_type": "stream",
     "text": [
      "Количество дубликатов:  0\n"
     ]
    }
   ],
   "source": [
    "print('Количество дубликатов: ', hypothesis.duplicated().sum())"
   ]
  },
  {
   "cell_type": "markdown",
   "id": "1037c244-ab2e-4071-9ede-102e217df826",
   "metadata": {},
   "source": [
    "В принципе здесь нет смысла проверять датафрейм на дубликаты, так как все данные представлены в численном значении. Данные изучены, датафрейм в порядке. В датафрейме 9 строк."
   ]
  },
  {
   "cell_type": "code",
   "execution_count": 6,
   "id": "79e6a040-0622-41aa-9654-0c2a998ffeab",
   "metadata": {},
   "outputs": [
    {
     "name": "stdout",
     "output_type": "stream",
     "text": [
      "<class 'pandas.core.frame.DataFrame'>\n",
      "RangeIndex: 1197 entries, 0 to 1196\n",
      "Data columns (total 5 columns):\n",
      " #   Column         Non-Null Count  Dtype \n",
      "---  ------         --------------  ----- \n",
      " 0   transactionId  1197 non-null   int64 \n",
      " 1   visitorId      1197 non-null   int64 \n",
      " 2   date           1197 non-null   object\n",
      " 3   revenue        1197 non-null   int64 \n",
      " 4   group          1197 non-null   object\n",
      "dtypes: int64(3), object(2)\n",
      "memory usage: 46.9+ KB\n"
     ]
    }
   ],
   "source": [
    "orders.info()"
   ]
  },
  {
   "cell_type": "code",
   "execution_count": 7,
   "id": "c6ecbc11-f8e4-482b-83f0-b8a098270426",
   "metadata": {},
   "outputs": [
    {
     "data": {
      "text/html": [
       "<div>\n",
       "<style scoped>\n",
       "    .dataframe tbody tr th:only-of-type {\n",
       "        vertical-align: middle;\n",
       "    }\n",
       "\n",
       "    .dataframe tbody tr th {\n",
       "        vertical-align: top;\n",
       "    }\n",
       "\n",
       "    .dataframe thead th {\n",
       "        text-align: right;\n",
       "    }\n",
       "</style>\n",
       "<table border=\"1\" class=\"dataframe\">\n",
       "  <thead>\n",
       "    <tr style=\"text-align: right;\">\n",
       "      <th></th>\n",
       "      <th>transactionId</th>\n",
       "      <th>visitorId</th>\n",
       "      <th>date</th>\n",
       "      <th>revenue</th>\n",
       "      <th>group</th>\n",
       "    </tr>\n",
       "  </thead>\n",
       "  <tbody>\n",
       "    <tr>\n",
       "      <th>0</th>\n",
       "      <td>3667963787</td>\n",
       "      <td>3312258926</td>\n",
       "      <td>2019-08-15</td>\n",
       "      <td>1650</td>\n",
       "      <td>B</td>\n",
       "    </tr>\n",
       "    <tr>\n",
       "      <th>1</th>\n",
       "      <td>2804400009</td>\n",
       "      <td>3642806036</td>\n",
       "      <td>2019-08-15</td>\n",
       "      <td>730</td>\n",
       "      <td>B</td>\n",
       "    </tr>\n",
       "    <tr>\n",
       "      <th>2</th>\n",
       "      <td>2961555356</td>\n",
       "      <td>4069496402</td>\n",
       "      <td>2019-08-15</td>\n",
       "      <td>400</td>\n",
       "      <td>A</td>\n",
       "    </tr>\n",
       "    <tr>\n",
       "      <th>3</th>\n",
       "      <td>3797467345</td>\n",
       "      <td>1196621759</td>\n",
       "      <td>2019-08-15</td>\n",
       "      <td>9759</td>\n",
       "      <td>B</td>\n",
       "    </tr>\n",
       "    <tr>\n",
       "      <th>4</th>\n",
       "      <td>2282983706</td>\n",
       "      <td>2322279887</td>\n",
       "      <td>2019-08-15</td>\n",
       "      <td>2308</td>\n",
       "      <td>B</td>\n",
       "    </tr>\n",
       "  </tbody>\n",
       "</table>\n",
       "</div>"
      ],
      "text/plain": [
       "   transactionId   visitorId        date  revenue group\n",
       "0     3667963787  3312258926  2019-08-15     1650     B\n",
       "1     2804400009  3642806036  2019-08-15      730     B\n",
       "2     2961555356  4069496402  2019-08-15      400     A\n",
       "3     3797467345  1196621759  2019-08-15     9759     B\n",
       "4     2282983706  2322279887  2019-08-15     2308     B"
      ]
     },
     "execution_count": 7,
     "metadata": {},
     "output_type": "execute_result"
    }
   ],
   "source": [
    "orders.head()"
   ]
  },
  {
   "cell_type": "code",
   "execution_count": 8,
   "id": "fced784e-aed5-4d65-b5be-ccc01ab8d685",
   "metadata": {},
   "outputs": [
    {
     "name": "stdout",
     "output_type": "stream",
     "text": [
      "Количество дубликатов:  0\n"
     ]
    }
   ],
   "source": [
    "print('Количество дубликатов: ', orders.duplicated().sum())"
   ]
  },
  {
   "cell_type": "code",
   "execution_count": 9,
   "id": "e0b6e6f6-1a6e-4a5c-a908-c7983ab0b627",
   "metadata": {},
   "outputs": [
    {
     "name": "stdout",
     "output_type": "stream",
     "text": [
      "Столбец 'date' успешно приведен к типу datetime.\n"
     ]
    }
   ],
   "source": [
    "try:\n",
    "    orders['date'] = pd.to_datetime(orders['date'])\n",
    "    print(\"Столбец 'date' успешно приведен к типу datetime.\")\n",
    "except Exception as e:\n",
    "    print(f\"Ошибка при приведении столбца 'date'\")"
   ]
  },
  {
   "cell_type": "markdown",
   "id": "a915782c-4ff7-4dbd-aaf9-355797c33f9c",
   "metadata": {},
   "source": [
    "Данные в датафрейме orders в порядке. Столбец 'date' приведен к типу datetime, дубликаты отсутствуют."
   ]
  },
  {
   "cell_type": "code",
   "execution_count": 10,
   "id": "51b5ccac-24be-422a-ae6f-fd515698b198",
   "metadata": {},
   "outputs": [
    {
     "name": "stdout",
     "output_type": "stream",
     "text": [
      "<class 'pandas.core.frame.DataFrame'>\n",
      "RangeIndex: 62 entries, 0 to 61\n",
      "Data columns (total 3 columns):\n",
      " #   Column    Non-Null Count  Dtype \n",
      "---  ------    --------------  ----- \n",
      " 0   date      62 non-null     object\n",
      " 1   group     62 non-null     object\n",
      " 2   visitors  62 non-null     int64 \n",
      "dtypes: int64(1), object(2)\n",
      "memory usage: 1.6+ KB\n"
     ]
    }
   ],
   "source": [
    "visitors.info()"
   ]
  },
  {
   "cell_type": "code",
   "execution_count": 11,
   "id": "38994e5a-35f4-4e7c-8f43-94f7b78790eb",
   "metadata": {},
   "outputs": [
    {
     "data": {
      "text/html": [
       "<div>\n",
       "<style scoped>\n",
       "    .dataframe tbody tr th:only-of-type {\n",
       "        vertical-align: middle;\n",
       "    }\n",
       "\n",
       "    .dataframe tbody tr th {\n",
       "        vertical-align: top;\n",
       "    }\n",
       "\n",
       "    .dataframe thead th {\n",
       "        text-align: right;\n",
       "    }\n",
       "</style>\n",
       "<table border=\"1\" class=\"dataframe\">\n",
       "  <thead>\n",
       "    <tr style=\"text-align: right;\">\n",
       "      <th></th>\n",
       "      <th>date</th>\n",
       "      <th>group</th>\n",
       "      <th>visitors</th>\n",
       "    </tr>\n",
       "  </thead>\n",
       "  <tbody>\n",
       "    <tr>\n",
       "      <th>0</th>\n",
       "      <td>2019-08-01</td>\n",
       "      <td>A</td>\n",
       "      <td>719</td>\n",
       "    </tr>\n",
       "    <tr>\n",
       "      <th>1</th>\n",
       "      <td>2019-08-02</td>\n",
       "      <td>A</td>\n",
       "      <td>619</td>\n",
       "    </tr>\n",
       "    <tr>\n",
       "      <th>2</th>\n",
       "      <td>2019-08-03</td>\n",
       "      <td>A</td>\n",
       "      <td>507</td>\n",
       "    </tr>\n",
       "    <tr>\n",
       "      <th>3</th>\n",
       "      <td>2019-08-04</td>\n",
       "      <td>A</td>\n",
       "      <td>717</td>\n",
       "    </tr>\n",
       "    <tr>\n",
       "      <th>4</th>\n",
       "      <td>2019-08-05</td>\n",
       "      <td>A</td>\n",
       "      <td>756</td>\n",
       "    </tr>\n",
       "  </tbody>\n",
       "</table>\n",
       "</div>"
      ],
      "text/plain": [
       "         date group  visitors\n",
       "0  2019-08-01     A       719\n",
       "1  2019-08-02     A       619\n",
       "2  2019-08-03     A       507\n",
       "3  2019-08-04     A       717\n",
       "4  2019-08-05     A       756"
      ]
     },
     "execution_count": 11,
     "metadata": {},
     "output_type": "execute_result"
    }
   ],
   "source": [
    "visitors.head()"
   ]
  },
  {
   "cell_type": "code",
   "execution_count": 12,
   "id": "7f444a79-3d68-4a21-b091-3643355fccea",
   "metadata": {},
   "outputs": [
    {
     "name": "stdout",
     "output_type": "stream",
     "text": [
      "Количество дубликатов:  0\n"
     ]
    }
   ],
   "source": [
    "print('Количество дубликатов: ', visitors.duplicated().sum())"
   ]
  },
  {
   "cell_type": "code",
   "execution_count": 13,
   "id": "f2e3ec3b-f896-4bda-9774-010b1a16a1d0",
   "metadata": {},
   "outputs": [
    {
     "name": "stdout",
     "output_type": "stream",
     "text": [
      "Столбец 'date' успешно приведен к типу datetime.\n"
     ]
    }
   ],
   "source": [
    "try:\n",
    "    visitors['date'] = pd.to_datetime(visitors['date'])\n",
    "    print(\"Столбец 'date' успешно приведен к типу datetime.\")\n",
    "except Exception as e:\n",
    "    print(f\"Ошибка при приведении столбца 'date'\")"
   ]
  },
  {
   "cell_type": "markdown",
   "id": "becf0643-4058-4b3f-93e8-873e6bb10d68",
   "metadata": {},
   "source": [
    "<span style=\"color: blue;\">Данные в датафрейме visitors в порядке. Столбец 'date' приведен к типу datetime, дубликаты отсутствуют.</span>"
   ]
  },
  {
   "cell_type": "markdown",
   "id": "42946a16-f69c-4865-b6f8-693cc02a1b91",
   "metadata": {},
   "source": [
    "# Шаг 2: Приоритизация гипотез\n",
    "\n",
    "# Применение фреймворка ICE для приоритизации гипотез"
   ]
  },
  {
   "cell_type": "code",
   "execution_count": 14,
   "id": "3586da9c-010e-4f06-8610-869d3a4ddc8c",
   "metadata": {},
   "outputs": [
    {
     "name": "stdout",
     "output_type": "stream",
     "text": [
      "Приоритизация гипотез по фреймворку ICE:\n"
     ]
    },
    {
     "data": {
      "text/html": [
       "<div>\n",
       "<style scoped>\n",
       "    .dataframe tbody tr th:only-of-type {\n",
       "        vertical-align: middle;\n",
       "    }\n",
       "\n",
       "    .dataframe tbody tr th {\n",
       "        vertical-align: top;\n",
       "    }\n",
       "\n",
       "    .dataframe thead th {\n",
       "        text-align: right;\n",
       "    }\n",
       "</style>\n",
       "<table border=\"1\" class=\"dataframe\">\n",
       "  <thead>\n",
       "    <tr style=\"text-align: right;\">\n",
       "      <th></th>\n",
       "      <th>Hypothesis</th>\n",
       "      <th>ICE</th>\n",
       "    </tr>\n",
       "  </thead>\n",
       "  <tbody>\n",
       "    <tr>\n",
       "      <th>8</th>\n",
       "      <td>Запустить акцию, дающую скидку на товар в день...</td>\n",
       "      <td>16.2</td>\n",
       "    </tr>\n",
       "    <tr>\n",
       "      <th>0</th>\n",
       "      <td>Добавить два новых канала привлечения трафика,...</td>\n",
       "      <td>13.3</td>\n",
       "    </tr>\n",
       "    <tr>\n",
       "      <th>7</th>\n",
       "      <td>Добавить форму подписки на все основные страни...</td>\n",
       "      <td>11.2</td>\n",
       "    </tr>\n",
       "    <tr>\n",
       "      <th>6</th>\n",
       "      <td>Показать на главной странице баннеры с актуаль...</td>\n",
       "      <td>8.0</td>\n",
       "    </tr>\n",
       "    <tr>\n",
       "      <th>2</th>\n",
       "      <td>Добавить блоки рекомендаций товаров на сайт ин...</td>\n",
       "      <td>7.0</td>\n",
       "    </tr>\n",
       "    <tr>\n",
       "      <th>1</th>\n",
       "      <td>Запустить собственную службу доставки, что сок...</td>\n",
       "      <td>2.0</td>\n",
       "    </tr>\n",
       "    <tr>\n",
       "      <th>5</th>\n",
       "      <td>Добавить страницу отзывов клиентов о магазине,...</td>\n",
       "      <td>1.3</td>\n",
       "    </tr>\n",
       "    <tr>\n",
       "      <th>3</th>\n",
       "      <td>Изменить структура категорий, что увеличит кон...</td>\n",
       "      <td>1.1</td>\n",
       "    </tr>\n",
       "    <tr>\n",
       "      <th>4</th>\n",
       "      <td>Изменить цвет фона главной страницы, чтобы уве...</td>\n",
       "      <td>1.0</td>\n",
       "    </tr>\n",
       "  </tbody>\n",
       "</table>\n",
       "</div>"
      ],
      "text/plain": [
       "                                          Hypothesis   ICE\n",
       "8  Запустить акцию, дающую скидку на товар в день...  16.2\n",
       "0  Добавить два новых канала привлечения трафика,...  13.3\n",
       "7  Добавить форму подписки на все основные страни...  11.2\n",
       "6  Показать на главной странице баннеры с актуаль...   8.0\n",
       "2  Добавить блоки рекомендаций товаров на сайт ин...   7.0\n",
       "1  Запустить собственную службу доставки, что сок...   2.0\n",
       "5  Добавить страницу отзывов клиентов о магазине,...   1.3\n",
       "3  Изменить структура категорий, что увеличит кон...   1.1\n",
       "4  Изменить цвет фона главной страницы, чтобы уве...   1.0"
      ]
     },
     "metadata": {},
     "output_type": "display_data"
    }
   ],
   "source": [
    "# Применение фреймворка ICE\n",
    "hypothesis['ICE'] = ((hypothesis['Impact'] * hypothesis['Confidence']) / hypothesis['Efforts']).round(1)\n",
    "\n",
    "# Сортировка по убыванию приоритета\n",
    "ice_sorted = hypothesis.sort_values(by='ICE', ascending=False)\n",
    "print(\"Приоритизация гипотез по фреймворку ICE:\")\n",
    "display(ice_sorted[['Hypothesis', 'ICE']])"
   ]
  },
  {
   "cell_type": "markdown",
   "id": "d158e731-d28e-4d92-8c56-95b6b253a69a",
   "metadata": {},
   "source": [
    "# Применение фреймворка RICE для приоритизации гипотез"
   ]
  },
  {
   "cell_type": "code",
   "execution_count": 15,
   "id": "54f6f376-d9c0-4791-a5ad-9ba2554c5494",
   "metadata": {},
   "outputs": [
    {
     "name": "stdout",
     "output_type": "stream",
     "text": [
      "Приоритизация гипотез по фреймворку RICE:\n"
     ]
    },
    {
     "data": {
      "text/html": [
       "<div>\n",
       "<style scoped>\n",
       "    .dataframe tbody tr th:only-of-type {\n",
       "        vertical-align: middle;\n",
       "    }\n",
       "\n",
       "    .dataframe tbody tr th {\n",
       "        vertical-align: top;\n",
       "    }\n",
       "\n",
       "    .dataframe thead th {\n",
       "        text-align: right;\n",
       "    }\n",
       "</style>\n",
       "<table border=\"1\" class=\"dataframe\">\n",
       "  <thead>\n",
       "    <tr style=\"text-align: right;\">\n",
       "      <th></th>\n",
       "      <th>Hypothesis</th>\n",
       "      <th>RICE</th>\n",
       "    </tr>\n",
       "  </thead>\n",
       "  <tbody>\n",
       "    <tr>\n",
       "      <th>7</th>\n",
       "      <td>Добавить форму подписки на все основные страни...</td>\n",
       "      <td>112.0</td>\n",
       "    </tr>\n",
       "    <tr>\n",
       "      <th>2</th>\n",
       "      <td>Добавить блоки рекомендаций товаров на сайт ин...</td>\n",
       "      <td>56.0</td>\n",
       "    </tr>\n",
       "    <tr>\n",
       "      <th>0</th>\n",
       "      <td>Добавить два новых канала привлечения трафика,...</td>\n",
       "      <td>40.0</td>\n",
       "    </tr>\n",
       "    <tr>\n",
       "      <th>6</th>\n",
       "      <td>Показать на главной странице баннеры с актуаль...</td>\n",
       "      <td>40.0</td>\n",
       "    </tr>\n",
       "    <tr>\n",
       "      <th>8</th>\n",
       "      <td>Запустить акцию, дающую скидку на товар в день...</td>\n",
       "      <td>16.2</td>\n",
       "    </tr>\n",
       "    <tr>\n",
       "      <th>3</th>\n",
       "      <td>Изменить структура категорий, что увеличит кон...</td>\n",
       "      <td>9.0</td>\n",
       "    </tr>\n",
       "    <tr>\n",
       "      <th>1</th>\n",
       "      <td>Запустить собственную службу доставки, что сок...</td>\n",
       "      <td>4.0</td>\n",
       "    </tr>\n",
       "    <tr>\n",
       "      <th>5</th>\n",
       "      <td>Добавить страницу отзывов клиентов о магазине,...</td>\n",
       "      <td>4.0</td>\n",
       "    </tr>\n",
       "    <tr>\n",
       "      <th>4</th>\n",
       "      <td>Изменить цвет фона главной страницы, чтобы уве...</td>\n",
       "      <td>3.0</td>\n",
       "    </tr>\n",
       "  </tbody>\n",
       "</table>\n",
       "</div>"
      ],
      "text/plain": [
       "                                          Hypothesis   RICE\n",
       "7  Добавить форму подписки на все основные страни...  112.0\n",
       "2  Добавить блоки рекомендаций товаров на сайт ин...   56.0\n",
       "0  Добавить два новых канала привлечения трафика,...   40.0\n",
       "6  Показать на главной странице баннеры с актуаль...   40.0\n",
       "8  Запустить акцию, дающую скидку на товар в день...   16.2\n",
       "3  Изменить структура категорий, что увеличит кон...    9.0\n",
       "1  Запустить собственную службу доставки, что сок...    4.0\n",
       "5  Добавить страницу отзывов клиентов о магазине,...    4.0\n",
       "4  Изменить цвет фона главной страницы, чтобы уве...    3.0"
      ]
     },
     "metadata": {},
     "output_type": "display_data"
    }
   ],
   "source": [
    "hypothesis['RICE'] = ((hypothesis['Reach'] * hypothesis['Impact'] * hypothesis['Confidence']) / hypothesis['Efforts'])\n",
    "\n",
    "# Сортировка по убыванию приоритетаR\n",
    "rice_sorted = hypothesis.sort_values(by='RICE', ascending=False)\n",
    "print(\"Приоритизация гипотез по фреймворку RICE:\")\n",
    "display(rice_sorted[['Hypothesis', 'RICE']])"
   ]
  },
  {
   "cell_type": "markdown",
   "id": "24e11bd3-6e53-4941-8ca7-abada74bb423",
   "metadata": {},
   "source": [
    "# Выводы по приоритизации гипотез\n",
    "\n",
    "## Приоритизация по фреймворку ICE:\n",
    "- **Топ-3 гипотезы:**\n",
    "  - Запустить акцию, дающую скидку на товар в день (ICE = 16.2)\n",
    "  - Добавить два новых канала привлечения трафика (ICE = 13.3)\n",
    "  - Добавить форму подписки на все основные страницы (ICE = 11.2)\n",
    "- **Низкие приоритеты:**\n",
    "  - Изменить цвет фона главной страницы (ICE = 1.0)\n",
    "  - Добавить страницу отзывов клиентов о магазине (ICE = 1.3)\n",
    "\n",
    "## Приоритизация по фреймворку RICE:\n",
    "- **Топ-3 гипотезы:**\n",
    "  - Добавить форму подписки на все основные страницы (RICE = 112.0)\n",
    "  - Добавить блоки рекомендаций товаров на сайт интернет-магазина (RICE = 56.0)\n",
    "  - Добавить два новых канала привлечения трафика (RICE = 40.0)\n",
    "- **Низкие приоритеты:**\n",
    "  - Изменить цвет фона главной страницы (RICE = 3.0)\n",
    "  - Запустить собственную службу доставки (RICE = 4.0)\n",
    "\n",
    "## Сравнение результатов:\n",
    "- **Изменение приоритетов:**\n",
    "  - Гипотеза \"Добавить форму подписки на все основные страницы\" значительно поднялась в приоритете с ICE (11.2) до RICE (112.0), что указывает на важность охвата (Reach) в этой гипотезе.\n",
    "  - Гипотеза \"Запустить акцию, дающую скидку на товар в день покупки\" сохранила высокий приоритет в ICE (16.2), но значительно опустилась в RICE (16.2), что говорит о том, что ее охват можетВот вывод, подготовленный для формата Markdown:\n",
    "  \n",
    "\n",
    "\n",
    "    \n",
    "  # Шаг 3: Анализ A/B-теста"
   ]
  },
  {
   "cell_type": "markdown",
   "id": "22bad96f-f1f8-452e-93fb-bea8fbc82350",
   "metadata": {},
   "source": [
    "### Создадим таблицу cumulativeData куммулятивных данных по обеим таблицам."
   ]
  },
  {
   "cell_type": "code",
   "execution_count": 16,
   "id": "e764f7ea-5a71-4e80-a87e-0c528c7ab943",
   "metadata": {},
   "outputs": [
    {
     "data": {
      "text/html": [
       "<div>\n",
       "<style scoped>\n",
       "    .dataframe tbody tr th:only-of-type {\n",
       "        vertical-align: middle;\n",
       "    }\n",
       "\n",
       "    .dataframe tbody tr th {\n",
       "        vertical-align: top;\n",
       "    }\n",
       "\n",
       "    .dataframe thead th {\n",
       "        text-align: right;\n",
       "    }\n",
       "</style>\n",
       "<table border=\"1\" class=\"dataframe\">\n",
       "  <thead>\n",
       "    <tr style=\"text-align: right;\">\n",
       "      <th></th>\n",
       "      <th>date</th>\n",
       "      <th>group</th>\n",
       "      <th>orders</th>\n",
       "      <th>buyers</th>\n",
       "      <th>revenue</th>\n",
       "      <th>visitors</th>\n",
       "    </tr>\n",
       "  </thead>\n",
       "  <tbody>\n",
       "    <tr>\n",
       "      <th>0</th>\n",
       "      <td>2019-08-01</td>\n",
       "      <td>A</td>\n",
       "      <td>24</td>\n",
       "      <td>20</td>\n",
       "      <td>148579</td>\n",
       "      <td>719</td>\n",
       "    </tr>\n",
       "    <tr>\n",
       "      <th>1</th>\n",
       "      <td>2019-08-01</td>\n",
       "      <td>B</td>\n",
       "      <td>21</td>\n",
       "      <td>20</td>\n",
       "      <td>101217</td>\n",
       "      <td>713</td>\n",
       "    </tr>\n",
       "    <tr>\n",
       "      <th>2</th>\n",
       "      <td>2019-08-02</td>\n",
       "      <td>A</td>\n",
       "      <td>44</td>\n",
       "      <td>38</td>\n",
       "      <td>242401</td>\n",
       "      <td>1338</td>\n",
       "    </tr>\n",
       "    <tr>\n",
       "      <th>3</th>\n",
       "      <td>2019-08-02</td>\n",
       "      <td>B</td>\n",
       "      <td>45</td>\n",
       "      <td>43</td>\n",
       "      <td>266748</td>\n",
       "      <td>1294</td>\n",
       "    </tr>\n",
       "    <tr>\n",
       "      <th>4</th>\n",
       "      <td>2019-08-03</td>\n",
       "      <td>A</td>\n",
       "      <td>68</td>\n",
       "      <td>62</td>\n",
       "      <td>354874</td>\n",
       "      <td>1845</td>\n",
       "    </tr>\n",
       "  </tbody>\n",
       "</table>\n",
       "</div>"
      ],
      "text/plain": [
       "        date group  orders  buyers  revenue  visitors\n",
       "0 2019-08-01     A      24      20   148579       719\n",
       "1 2019-08-01     B      21      20   101217       713\n",
       "2 2019-08-02     A      44      38   242401      1338\n",
       "3 2019-08-02     B      45      43   266748      1294\n",
       "4 2019-08-03     A      68      62   354874      1845"
      ]
     },
     "execution_count": 16,
     "metadata": {},
     "output_type": "execute_result"
    }
   ],
   "source": [
    "datesGroups = orders[['date', 'group']].drop_duplicates()\n",
    "\n",
    "ordersAggregated = datesGroups.apply(\n",
    "    lambda x: orders[\n",
    "        np.logical_and(\n",
    "            orders['date'] <= x['date'], orders['group'] == x['group']\n",
    "        )\n",
    "    ].agg(\n",
    "        {\n",
    "            'date': 'max',\n",
    "            'group': 'max',\n",
    "            'transactionId': 'nunique',\n",
    "            'visitorId': 'nunique',\n",
    "            'revenue': 'sum',\n",
    "        }\n",
    "    ),\n",
    "    axis=1,\n",
    ").sort_values(by=['date', 'group'])\n",
    "\n",
    "visitorsAggregated = datesGroups.apply(\n",
    "    lambda x: visitors[\n",
    "        np.logical_and(\n",
    "            visitors['date'] <= x['date'], visitors['group'] == x['group']\n",
    "        )\n",
    "    ].agg({'date': 'max', 'group': 'max', 'visitors': 'sum'}),\n",
    "    axis=1,\n",
    ").sort_values(by=['date', 'group'])\n",
    "\n",
    "cumulativeData = ordersAggregated.merge(\n",
    "    visitorsAggregated, left_on=['date', 'group'], right_on=['date', 'group']\n",
    ")\n",
    "cumulativeData.columns = [\n",
    "    'date',\n",
    "    'group',\n",
    "    'orders',\n",
    "    'buyers',\n",
    "    'revenue',\n",
    "    'visitors',\n",
    "]\n",
    "cumulativeData.head(5)"
   ]
  },
  {
   "cell_type": "code",
   "execution_count": 17,
   "id": "c844da1e",
   "metadata": {},
   "outputs": [
    {
     "name": "stdout",
     "output_type": "stream",
     "text": [
      "Минимальная дата в orders: 2019-08-01 00:00:00\n",
      "Максимальная дата в orders: 2019-08-31 00:00:00\n",
      "Минимальная дата в visitors: 2019-08-01 00:00:00\n",
      "Максимальная дата в visitors: 2019-08-31 00:00:00\n",
      "\n",
      "Минимальная дата в cumulativeData: 2019-08-01 00:00:00\n",
      "Максимальная дата в cumulativeData: 2019-08-31 00:00:00\n",
      "\n",
      "Минимальная и максимальная даты в cumulativeData совпадают с датами в orders.\n",
      "Минимальная и максимальная даты в cumulativeData совпадают с датами в visitors.\n"
     ]
    }
   ],
   "source": [
    "# Получаем минимальные и максимальные даты из исходных данных\n",
    "min_date_orders = orders['date'].min()\n",
    "max_date_orders = orders['date'].max()\n",
    "min_date_visitors = visitors['date'].min()\n",
    "max_date_visitors = visitors['date'].max()\n",
    "\n",
    "# Получаем минимальные и максимальные даты из датафрейма cumulativeData\n",
    "min_date_cumulative = cumulativeData['date'].min()\n",
    "max_date_cumulative = cumulativeData['date'].max()\n",
    "\n",
    "# Проверяем соответствие дат\n",
    "print(\"Минимальная дата в orders:\", min_date_orders)\n",
    "print(\"Максимальная дата в orders:\", max_date_orders)\n",
    "print(\"Минимальная дата в visitors:\", min_date_visitors)\n",
    "print(\"Максимальная дата в visitors:\", max_date_visitors)\n",
    "\n",
    "print(\"\\nМинимальная дата в cumulativeData:\", min_date_cumulative)\n",
    "print(\"Максимальная дата в cumulativeData:\", max_date_cumulative)\n",
    "\n",
    "# Проверка на соответствие\n",
    "if (min_date_orders == min_date_cumulative) and (max_date_orders == max_date_cumulative):\n",
    "    print(\"\\nМинимальная и максимальная даты в cumulativeData совпадают с датами в orders.\")\n",
    "else:\n",
    "    print(\"\\nМинимальная и максимальная даты в cumulativeData не совпадают с датами в orders.\")\n",
    "\n",
    "if (min_date_visitors == min_date_cumulative) and (max_date_visitors == max_date_cumulative):\n",
    "    print(\"Минимальная и максимальная даты в cumulativeData совпадают с датами в visitors.\")\n",
    "else:\n",
    "    print(\"Минимальная и максимальная даты в cumulativeData не совпадают с датами в visitors.\")"
   ]
  },
  {
   "cell_type": "markdown",
   "id": "3aaad7fe-7b2d-4842-9bda-33362ce752b6",
   "metadata": {},
   "source": [
    "## Решение задач:"
   ]
  },
  {
   "cell_type": "markdown",
   "id": "98de639b-7eaf-4a3e-8d69-8b1c3baa78a7",
   "metadata": {},
   "source": [
    "### 1. Построение графика кумулятивной выручки по группам."
   ]
  },
  {
   "cell_type": "code",
   "execution_count": 18,
   "id": "48a52dc0-d7b8-4e1c-b906-25fc5dcd7418",
   "metadata": {},
   "outputs": [
    {
     "data": {
      "image/png": "[encoded data removed]",
      "text/plain": [
       "<Figure size 720x432 with 1 Axes>"
      ]
     },
     "metadata": {
      "needs_background": "light"
     },
     "output_type": "display_data"
    }
   ],
   "source": [
    "plt.figure(figsize=(10, 6))\n",
    "\n",
    "for group in cumulativeData['group'].unique():\n",
    "    group_data = cumulativeData[cumulativeData['group'] == group]\n",
    "    plt.plot(group_data['date'], group_data['revenue'], label=f'Группа {group}', marker='o')\n",
    "\n",
    "plt.title('Кумулятивная выручка по группам')\n",
    "plt.xlabel('Дата')\n",
    "plt.ylabel('Кумулятивная выручка')\n",
    "plt.legend()\n",
    "plt.grid()\n",
    "plt.xticks(rotation=45)  # Поворот меток по оси X для лучшей читаемости\n",
    "plt.tight_layout()  # Автоматическая подстройка графика\n",
    "plt.show()"
   ]
  },
  {
   "cell_type": "markdown",
   "id": "3360c04a-6457-422a-b6c0-a3e585d3a7bf",
   "metadata": {},
   "source": [
    "<span style=\"color: blue;\">До 13 августа наблюдается приблизительно одинаковый рост выручки в обеих группах. Однако после 13 августа в группе B происходит более значительный рост, чем в группе A. Особенно заметен скачок выручки в группе B в районе 17 августа, после чего, графики обеих групп демонстрируют схожую тенденцию роста.</span>\n",
    "\n",
    "<span style=\"color: blue;\">В связи с этим, я считаю, что необходимо более детально изучить данные группы B, особенно в отношении количества и суммы заказов. Вероятно, в этих данных могут быть выбросы, которые влияют на результаты.</span>"
   ]
  },
  {
   "cell_type": "code",
   "execution_count": 19,
   "id": "2f807937-4c4b-4e5a-9391-ec2833ad69cc",
   "metadata": {},
   "outputs": [
    {
     "name": "stdout",
     "output_type": "stream",
     "text": [
      "         date  orders  revenue\n",
      "33 2019-08-17     373  2620790\n",
      "35 2019-08-18     382  2686621\n",
      "37 2019-08-19     403  4116541\n",
      "39 2019-08-20     423  4263815\n",
      "41 2019-08-21     437  4426892\n"
     ]
    }
   ],
   "source": [
    "# Фильтруем данные для группы B и нужных дат\n",
    "group_b_data = cumulativeData[\n",
    "    (cumulativeData['group'] == 'B') & \n",
    "    (cumulativeData['date'].isin(['2019-08-17', '2019-08-18', '2019-08-19', '2019-08-20', '2019-08-21']))\n",
    "]\n",
    "\n",
    "# Выводим количество заказов и сумму выручки\n",
    "result = group_b_data[['date', 'orders', 'revenue']]\n",
    "print(result)"
   ]
  },
  {
   "cell_type": "code",
   "execution_count": 20,
   "id": "dcbd3d23-540c-4827-bcf6-43b1367518be",
   "metadata": {},
   "outputs": [
    {
     "name": "stdout",
     "output_type": "stream",
     "text": [
      "         date  orders  revenue\n",
      "32 2019-08-17     311  2129769\n",
      "34 2019-08-18     328  2202167\n",
      "36 2019-08-19     350  2391910\n",
      "38 2019-08-20     362  2469529\n",
      "40 2019-08-21     385  2643838\n"
     ]
    }
   ],
   "source": [
    "# Фильтруем данные для группы B и нужных дат\n",
    "group_b_data = cumulativeData[\n",
    "    (cumulativeData['group'] == 'A') & \n",
    "    (cumulativeData['date'].isin(['2019-08-17', '2019-08-18', '2019-08-19', '2019-08-20', '2019-08-21']))\n",
    "]\n",
    "\n",
    "# Выводим количество заказов и сумму выручки\n",
    "result = group_b_data[['date', 'orders', 'revenue']]\n",
    "print(result)"
   ]
  },
  {
   "cell_type": "markdown",
   "id": "c733c034-d246-4242-9a6f-888c1e5341ec",
   "metadata": {},
   "source": [
    "<span style=\"color: blue;\">Относительно заказов все выглядит нормально. В обеих группах идет равномерный рост. Однако выручка растет с 19 августа. Посмотрим, что там происходило.</span>"
   ]
  },
  {
   "cell_type": "markdown",
   "id": "3d9275db-4965-453e-986d-909ee3600b48",
   "metadata": {},
   "source": []
  },
  {
   "cell_type": "code",
   "execution_count": 21,
   "id": "399e1bc3-9ed8-4674-b3e2-a954eff93d85",
   "metadata": {},
   "outputs": [
    {
     "name": "stdout",
     "output_type": "stream",
     "text": [
      "Медианное значение выручки на 19 августа: 2630.0\n",
      "Топ-5 заказов в группе B на 19 августа по выручке:\n"
     ]
    },
    {
     "data": {
      "text/html": [
       "<div>\n",
       "<style scoped>\n",
       "    .dataframe tbody tr th:only-of-type {\n",
       "        vertical-align: middle;\n",
       "    }\n",
       "\n",
       "    .dataframe tbody tr th {\n",
       "        vertical-align: top;\n",
       "    }\n",
       "\n",
       "    .dataframe thead th {\n",
       "        text-align: right;\n",
       "    }\n",
       "</style>\n",
       "<table border=\"1\" class=\"dataframe\">\n",
       "  <thead>\n",
       "    <tr style=\"text-align: right;\">\n",
       "      <th></th>\n",
       "      <th>transactionId</th>\n",
       "      <th>visitorId</th>\n",
       "      <th>date</th>\n",
       "      <th>revenue</th>\n",
       "      <th>group</th>\n",
       "    </tr>\n",
       "  </thead>\n",
       "  <tbody>\n",
       "    <tr>\n",
       "      <th>425</th>\n",
       "      <td>590470918</td>\n",
       "      <td>1920142716</td>\n",
       "      <td>2019-08-19</td>\n",
       "      <td>1294500</td>\n",
       "      <td>B</td>\n",
       "    </tr>\n",
       "    <tr>\n",
       "      <th>527</th>\n",
       "      <td>1570513684</td>\n",
       "      <td>2837914161</td>\n",
       "      <td>2019-08-19</td>\n",
       "      <td>33405</td>\n",
       "      <td>B</td>\n",
       "    </tr>\n",
       "    <tr>\n",
       "      <th>461</th>\n",
       "      <td>2683113224</td>\n",
       "      <td>154576532</td>\n",
       "      <td>2019-08-19</td>\n",
       "      <td>26550</td>\n",
       "      <td>B</td>\n",
       "    </tr>\n",
       "    <tr>\n",
       "      <th>368</th>\n",
       "      <td>3268879337</td>\n",
       "      <td>2536252163</td>\n",
       "      <td>2019-08-19</td>\n",
       "      <td>20026</td>\n",
       "      <td>B</td>\n",
       "    </tr>\n",
       "    <tr>\n",
       "      <th>463</th>\n",
       "      <td>4170537404</td>\n",
       "      <td>290022471</td>\n",
       "      <td>2019-08-19</td>\n",
       "      <td>16480</td>\n",
       "      <td>B</td>\n",
       "    </tr>\n",
       "  </tbody>\n",
       "</table>\n",
       "</div>"
      ],
      "text/plain": [
       "     transactionId   visitorId       date  revenue group\n",
       "425      590470918  1920142716 2019-08-19  1294500     B\n",
       "527     1570513684  2837914161 2019-08-19    33405     B\n",
       "461     2683113224   154576532 2019-08-19    26550     B\n",
       "368     3268879337  2536252163 2019-08-19    20026     B\n",
       "463     4170537404   290022471 2019-08-19    16480     B"
      ]
     },
     "metadata": {},
     "output_type": "display_data"
    }
   ],
   "source": [
    "# Фильтруем данные для 19 августа\n",
    "orders_aug19 = orders[orders['date'] == '2019-08-19']\n",
    "\n",
    "# Получаем медианное значение выручки\n",
    "median_revenue_aug19 = orders_aug19['revenue'].median()\n",
    "\n",
    "# Фильтруем заказы для группы B\n",
    "group_b_orders_aug19 = orders_aug19[orders_aug19['group'] == 'B']\n",
    "\n",
    "# Сортируем заказы по выручке\n",
    "top_5_orders = group_b_orders_aug19.sort_values(by='revenue', ascending=False).head(5)\n",
    "\n",
    "# Печатаем результаты\n",
    "print(f\"Медианное значение выручки на 19 августа: {median_revenue_aug19}\")\n",
    "print(\"Топ-5 заказов в группе B на 19 августа по выручке:\")\n",
    "display(top_5_orders[['transactionId', 'visitorId', 'date', 'revenue', 'group']])"
   ]
  },
  {
   "cell_type": "markdown",
   "id": "26d9b506-e946-4eef-bd8b-d719e3333b7c",
   "metadata": {},
   "source": [
    "<span style=\"color: blue;\">19 августа был зафиксирован крупный заказ на сумму 1,294,500 рублей. В то же время, медианное значение выручки за этот день составило 2,630 рублей.</span>\n",
    "\n",
    "<span style=\"color: blue;\">Суммарная выручка за 19 августа достигла 4,116,541 рублей, и данный крупный заказ составляет 31.44% от общей выручки за день. </span>\n",
    "\n",
    "<span style=\"color: blue;\">Остальные заказы варьировались в пределах 30,000 - 40,000 рублей, что позволяет рассматривать этот крупный заказ как выброс в дальнейшем исследовании.</span>"
   ]
  },
  {
   "cell_type": "code",
   "execution_count": 22,
   "id": "cd6e331b-96c9-48e3-ab98-8e3544df0d17",
   "metadata": {},
   "outputs": [
    {
     "data": {
      "text/html": [
       "<div>\n",
       "<style scoped>\n",
       "    .dataframe tbody tr th:only-of-type {\n",
       "        vertical-align: middle;\n",
       "    }\n",
       "\n",
       "    .dataframe tbody tr th {\n",
       "        vertical-align: top;\n",
       "    }\n",
       "\n",
       "    .dataframe thead th {\n",
       "        text-align: right;\n",
       "    }\n",
       "</style>\n",
       "<table border=\"1\" class=\"dataframe\">\n",
       "  <thead>\n",
       "    <tr style=\"text-align: right;\">\n",
       "      <th></th>\n",
       "      <th>date</th>\n",
       "      <th>group</th>\n",
       "      <th>orders</th>\n",
       "      <th>buyers</th>\n",
       "      <th>revenue</th>\n",
       "      <th>visitors</th>\n",
       "    </tr>\n",
       "  </thead>\n",
       "  <tbody>\n",
       "    <tr>\n",
       "      <th>0</th>\n",
       "      <td>2019-08-01</td>\n",
       "      <td>A</td>\n",
       "      <td>24</td>\n",
       "      <td>20</td>\n",
       "      <td>148579</td>\n",
       "      <td>719</td>\n",
       "    </tr>\n",
       "    <tr>\n",
       "      <th>1</th>\n",
       "      <td>2019-08-01</td>\n",
       "      <td>B</td>\n",
       "      <td>21</td>\n",
       "      <td>20</td>\n",
       "      <td>101217</td>\n",
       "      <td>713</td>\n",
       "    </tr>\n",
       "    <tr>\n",
       "      <th>2</th>\n",
       "      <td>2019-08-02</td>\n",
       "      <td>A</td>\n",
       "      <td>44</td>\n",
       "      <td>38</td>\n",
       "      <td>242401</td>\n",
       "      <td>1338</td>\n",
       "    </tr>\n",
       "    <tr>\n",
       "      <th>3</th>\n",
       "      <td>2019-08-02</td>\n",
       "      <td>B</td>\n",
       "      <td>45</td>\n",
       "      <td>43</td>\n",
       "      <td>266748</td>\n",
       "      <td>1294</td>\n",
       "    </tr>\n",
       "    <tr>\n",
       "      <th>4</th>\n",
       "      <td>2019-08-03</td>\n",
       "      <td>A</td>\n",
       "      <td>68</td>\n",
       "      <td>62</td>\n",
       "      <td>354874</td>\n",
       "      <td>1845</td>\n",
       "    </tr>\n",
       "  </tbody>\n",
       "</table>\n",
       "</div>"
      ],
      "text/plain": [
       "        date group  orders  buyers  revenue  visitors\n",
       "0 2019-08-01     A      24      20   148579       719\n",
       "1 2019-08-01     B      21      20   101217       713\n",
       "2 2019-08-02     A      44      38   242401      1338\n",
       "3 2019-08-02     B      45      43   266748      1294\n",
       "4 2019-08-03     A      68      62   354874      1845"
      ]
     },
     "execution_count": 22,
     "metadata": {},
     "output_type": "execute_result"
    }
   ],
   "source": [
    "cumulativeData.head()"
   ]
  },
  {
   "cell_type": "markdown",
   "id": "b5f74c79-e470-4b83-a27f-e1358f45ee1c",
   "metadata": {},
   "source": [
    "### 2. График кумулятивного среднего чека по группам."
   ]
  },
  {
   "cell_type": "code",
   "execution_count": 23,
   "id": "7d20b448-2fb4-4314-9d97-804e3eababd1",
   "metadata": {},
   "outputs": [
    {
     "data": {
      "image/png": "[encoded data removed]",
      "text/plain": [
       "<Figure size 864x432 with 1 Axes>"
      ]
     },
     "metadata": {
      "needs_background": "light"
     },
     "output_type": "display_data"
    }
   ],
   "source": [
    "# Рассчитываем кумулятивный средний чек\n",
    "cumulativeData['average_check'] = cumulativeData['revenue'] / cumulativeData['orders']\n",
    "\n",
    "# Строим график\n",
    "plt.figure(figsize=(12, 6))\n",
    "for group in cumulativeData['group'].unique():\n",
    "    group_data = cumulativeData[cumulativeData['group'] == group]\n",
    "    plt.plot(group_data['date'], group_data['average_check'], label=group, marker='o')\n",
    "\n",
    "plt.title('Кумулятивный средний чек по группам')\n",
    "plt.xlabel('Дата')\n",
    "plt.ylabel('Средний чек')\n",
    "plt.legend()\n",
    "plt.grid()\n",
    "plt.xticks(rotation=45)\n",
    "plt.tight_layout()\n",
    "plt.show()"
   ]
  },
  {
   "cell_type": "markdown",
   "id": "44316d65-8f47-446b-92f1-d408245c72f4",
   "metadata": {},
   "source": [
    "<span style=\"color: blue;\">Со 2 по 11 августа средний чек был больше у группы В, затем с 11 по 15 в группе А средний чек выше. 19 августа в группе В происходит рост среднего чека, это связано с крупным заказом, который мы нашли в предыдущем разделе. Однако мы наблюдаем, что после 19 августа у группы А просиходит планомерный рост чека, а у группы В снижение среднего чека.</span>"
   ]
  },
  {
   "cell_type": "markdown",
   "id": "951302b3-fd0b-491c-b151-10435283a943",
   "metadata": {},
   "source": [
    "### 3.График относительного изменения кумулятивного среднего чека группы B к группе A"
   ]
  },
  {
   "cell_type": "code",
   "execution_count": 24,
   "id": "ee50ebe7-579e-4cfa-873f-8ecde7369800",
   "metadata": {},
   "outputs": [
    {
     "data": {
      "image/png": "[encoded data removed]",
      "text/plain": [
       "<Figure size 864x432 with 1 Axes>"
      ]
     },
     "metadata": {
      "needs_background": "light"
     },
     "output_type": "display_data"
    }
   ],
   "source": [
    "group_a = cumulativeData[cumulativeData['group'] == 'A']\n",
    "group_b = cumulativeData[cumulativeData['group'] == 'B']\n",
    "\n",
    "# Объединяем данные по дате для удобства\n",
    "merged_data = group_a[['date', 'average_check']].merge(\n",
    "    group_b[['date', 'average_check']],\n",
    "    on='date',\n",
    "    suffixes=('_A', '_B')\n",
    ")\n",
    "\n",
    "# Рассчитываем относительное изменение кумулятивного среднего чека группы B к группе A\n",
    "merged_data['relative_change'] = (merged_data['average_check_B'] - merged_data['average_check_A']) / merged_data['average_check_A'] * 100\n",
    "\n",
    "# Строим график\n",
    "plt.figure(figsize=(12, 6))\n",
    "plt.plot(merged_data['date'], merged_data['relative_change'], marker='o')\n",
    "plt.title('Относительное изменение кумулятивного среднего чека группы B к группе A')\n",
    "plt.xlabel('Дата')\n",
    "plt.ylabel('Относительное изменение (%)')\n",
    "plt.axhline(0, color='red', linestyle='--')  # Линия на уровне 0\n",
    "plt.grid()\n",
    "plt.xticks(rotation=45)\n",
    "plt.tight_layout()\n",
    "plt.show()"
   ]
  },
  {
   "cell_type": "markdown",
   "id": "26b09e07-b7fb-49c2-b4dd-3960ca550f2c",
   "metadata": {},
   "source": [
    "<span style=\"color: blue;\">Прежде чем сделать выводы о данном графике, отметим, что он является продолжением предыдущего графика и задачи. </span>\n",
    "\n",
    "<span style=\"color: blue;\">До 8 августа наблюдался рост среднего чека группы B относительно группы A. Однако с 8 по 13 августа тренд изменился в пользу группы A. </span>\n",
    "\n",
    "<span style=\"color: blue;\">Как и в прошлом графике, мы видим рост кумулятивного среднего чека группы B по сравнению с группой A до 19 августа. Особенно заметен рост именно 19 августа, когда был зафиксирован крупный заказ на сумму 1,3 миллиона рублей. </span>\n",
    "\n",
    "<span style=\"color: blue;\">Тем не менее, после 19 августа тренд снова изменился в пользу группы A.</span>\n",
    "\n",
    "<span style=\"color: blue;\"></span>"
   ]
  },
  {
   "cell_type": "markdown",
   "id": "2d6c91da-5705-4c1b-9598-6028bf62992e",
   "metadata": {},
   "source": [
    "### 4.График кумулятивного среднего количества заказов на посетителя по группам"
   ]
  },
  {
   "cell_type": "code",
   "execution_count": 25,
   "id": "ff7f4800-b54a-4091-a8c4-cbc91a9ad050",
   "metadata": {},
   "outputs": [
    {
     "data": {
      "image/png": "[encoded data removed]",
      "text/plain": [
       "<Figure size 864x432 with 1 Axes>"
      ]
     },
     "metadata": {
      "needs_background": "light"
     },
     "output_type": "display_data"
    }
   ],
   "source": [
    "# Рассчитываем кумулятивное среднее количество заказов на посетителя\n",
    "cumulativeData['orders_per_visitor'] = cumulativeData['orders'] / cumulativeData['visitors']\n",
    "\n",
    "# Разделяем данные на группы A и B\n",
    "group_a = cumulativeData[cumulativeData['group'] == 'A']\n",
    "group_b = cumulativeData[cumulativeData['group'] == 'B']\n",
    "\n",
    "\n",
    "\n",
    "\n",
    "# Объединяем данные по дате для удобства\n",
    "merged_data = group_a[['date', 'orders_per_visitor']].merge(\n",
    "    group_b[['date', 'orders_per_visitor']],\n",
    "    on='date',\n",
    "    suffixes=('_A', '_B')\n",
    ")\n",
    "\n",
    "# Строим график кумулятивного среднего количества заказов на посетителя\n",
    "plt.figure(figsize=(12, 6))\n",
    "plt.plot(merged_data['date'], merged_data['orders_per_visitor_A'], marker='o', label='Группа A')\n",
    "plt.plot(merged_data['date'], merged_data['orders_per_visitor_B'], marker='o', label='Группа B')\n",
    "plt.title('Кумулятивное среднее количество заказов на посетителя по группам')\n",
    "plt.xlabel('Дата')\n",
    "plt.ylabel(' Заказы на посетителя')\n",
    "plt.axhline(0, color='red', linestyle='--')  # Линия на уровне 0\n",
    "plt.grid()\n",
    "plt.xticks(rotation=45)\n",
    "plt.legend()\n",
    "plt.tight_layout()\n",
    "plt.axis([\"2019-08-01\", '2019-08-31', 0.028, 0.038])\n",
    "plt.show()"
   ]
  },
  {
   "cell_type": "markdown",
   "id": "0daa2a98-3a75-41bf-b64d-46ec30e1a83e",
   "metadata": {},
   "source": [
    "<span style=\"color: blue;\">На данном графике с 1 по 5 августа преимущество показателя кумулятивного среднего количества заказов было за группой А, однако с 6 по 9 августа у группы В наблюдается рост кумулятивного среднего количества заказов, а у группы А наоборот снижение. В дальнейшем значительных изменений у обеих групп на наблюдалось, которое бы позволило изменить общую картину на графике. Отмечу снижение кумулятивного среднего количества заказов у группы В после 16 августа, а у группы А повышение после 15 августа, но как я и говорил ранее эти изменения не позволили кардинально изменить общую тенденцию и сменить лидера по данному показателю. Думаю следующий график об относительном изменении показателя кумулятивного среднего количества заказов группы В к группе А.</span>\n",
    "<span style=\"color: blue;\"></span>"
   ]
  },
  {
   "cell_type": "markdown",
   "id": "2e3c4f6d-8967-4511-87e7-bd8b78440ec7",
   "metadata": {},
   "source": [
    "### 5. График относительного изменения кумулятивного среднего количества заказов на посетителя группы B к группе A."
   ]
  },
  {
   "cell_type": "code",
   "execution_count": 26,
   "id": "1f1e7fb3-e7ba-48dd-94e8-c47cbc8c6438",
   "metadata": {},
   "outputs": [
    {
     "data": {
      "image/png": "[encoded data removed]",
      "text/plain": [
       "<Figure size 864x432 with 1 Axes>"
      ]
     },
     "metadata": {
      "needs_background": "light"
     },
     "output_type": "display_data"
    }
   ],
   "source": [
    "merged_data['relative_change'] = merged_data['orders_per_visitor_B'] / merged_data['orders_per_visitor_A']\n",
    "\n",
    "plt.figure(figsize=(12, 6))\n",
    "plt.plot(merged_data['date'], merged_data['relative_change'], marker='o', label='Относительное изменение B к A')\n",
    "plt.title('Относительное изменение кумулятивного среднего количества заказов на посетителя группы B к группе A')\n",
    "plt.xlabel('Дата')\n",
    "plt.ylabel('Относительное изменение')\n",
    "plt.axhline(1, color='red', linestyle='--')  # Линия на уровне 1 (без изменений)\n",
    "plt.axhline(1.15, color='grey', linestyle='--')\n",
    "plt.grid()\n",
    "plt.xticks(rotation=45)\n",
    "plt.legend()\n",
    "plt.tight_layout()\n",
    "plt.show()"
   ]
  },
  {
   "cell_type": "markdown",
   "id": "c871421b-9879-4fae-9d4f-08d9a895cca3",
   "metadata": {},
   "source": [
    "<span style=\"color: blue;\">Как и ранее утверждалось, что лидерство с 1 по 5 августа по кумулятивному среднему количеству заказов было у группы А. В дальнейшем преимущество было у группы В вплоть до сентября. Стоит отметить, что как и ранее утверждалось с 15 августа у группы В дела шли немного хуче нежели, чем у группы А, однако это не повлияло на то, чтобы дела группа А взяла лидерство относительно группы В. Хотя после 27 августа наблюдается небольшая смена тренда в пользу группы В, но так как он небольшой сложно сделать какой-то вывод. Интересно как пошли дела в сентябре?</span>"
   ]
  },
  {
   "cell_type": "markdown",
   "id": "ea7736e7-4567-45be-a151-bf528dcc72c9",
   "metadata": {},
   "source": [
    "### 6. Точечный график количества заказов по пользователям."
   ]
  },
  {
   "cell_type": "code",
   "execution_count": 27,
   "id": "b288eef6-c973-4ac9-a932-d9c3cd505eff",
   "metadata": {},
   "outputs": [
    {
     "data": {
      "text/html": [
       "<div>\n",
       "<style scoped>\n",
       "    .dataframe tbody tr th:only-of-type {\n",
       "        vertical-align: middle;\n",
       "    }\n",
       "\n",
       "    .dataframe tbody tr th {\n",
       "        vertical-align: top;\n",
       "    }\n",
       "\n",
       "    .dataframe thead th {\n",
       "        text-align: right;\n",
       "    }\n",
       "</style>\n",
       "<table border=\"1\" class=\"dataframe\">\n",
       "  <thead>\n",
       "    <tr style=\"text-align: right;\">\n",
       "      <th></th>\n",
       "      <th>visitorId</th>\n",
       "      <th>orders</th>\n",
       "    </tr>\n",
       "  </thead>\n",
       "  <tbody>\n",
       "    <tr>\n",
       "      <th>1023</th>\n",
       "      <td>4256040402</td>\n",
       "      <td>11</td>\n",
       "    </tr>\n",
       "    <tr>\n",
       "      <th>591</th>\n",
       "      <td>2458001652</td>\n",
       "      <td>11</td>\n",
       "    </tr>\n",
       "    <tr>\n",
       "      <th>569</th>\n",
       "      <td>2378935119</td>\n",
       "      <td>9</td>\n",
       "    </tr>\n",
       "    <tr>\n",
       "      <th>487</th>\n",
       "      <td>2038680547</td>\n",
       "      <td>8</td>\n",
       "    </tr>\n",
       "    <tr>\n",
       "      <th>44</th>\n",
       "      <td>199603092</td>\n",
       "      <td>5</td>\n",
       "    </tr>\n",
       "  </tbody>\n",
       "</table>\n",
       "</div>"
      ],
      "text/plain": [
       "       visitorId  orders\n",
       "1023  4256040402      11\n",
       "591   2458001652      11\n",
       "569   2378935119       9\n",
       "487   2038680547       8\n",
       "44     199603092       5"
      ]
     },
     "execution_count": 27,
     "metadata": {},
     "output_type": "execute_result"
    }
   ],
   "source": [
    "# Создаем DataFrame с количеством заказов на каждого пользователя\n",
    "orders_per_visitor = orders.groupby('visitorId').agg(\n",
    "    orders=('transactionId', 'nunique')  # Подсчитываем уникальные идентификаторы заказов\n",
    ").reset_index()\n",
    "\n",
    "# Выводим результат\n",
    "orders_per_visitor.sort_values(by='orders',ascending=False).head()"
   ]
  },
  {
   "cell_type": "code",
   "execution_count": 28,
   "id": "007bcb0b-c409-47ad-a628-6433432cbd4d",
   "metadata": {},
   "outputs": [
    {
     "data": {
      "image/png": "[encoded data removed]",
      "text/plain": [
       "<Figure size 720x432 with 1 Axes>"
      ]
     },
     "metadata": {
      "needs_background": "light"
     },
     "output_type": "display_data"
    }
   ],
   "source": [
    "plt.figure(figsize=(10, 6))\n",
    "\n",
    "# Создаем точечный график\n",
    "sns.scatterplot(data=orders_per_visitor, x='visitorId', y='orders')\n",
    "\n",
    "# Добавляем заголовок и метки осей\n",
    "plt.title('Количество заказов по пользователям')\n",
    "plt.xlabel('Идентификатор пользователя (visitorId)')\n",
    "plt.ylabel('Количество заказов (orders)')\n",
    "\n",
    "# Отображаем график\n",
    "plt.grid()\n",
    "plt.show()"
   ]
  },
  {
   "cell_type": "markdown",
   "id": "e4a828cf-6031-41bd-88a5-a3f00cf843c1",
   "metadata": {},
   "source": [
    "<span style=\"color: blue;\">Основная масса пользователей делает 1-2 заказа. Выборка пользователей сделавших 3 и более заказа крайне мала относительно общей массы.</span>"
   ]
  },
  {
   "cell_type": "markdown",
   "id": "401c1fdf-5aa9-4c52-8496-8601c7b941aa",
   "metadata": {},
   "source": [
    "### 7. Расчет 95-го и 99-го перцентиля количества заказов на пользователя."
   ]
  },
  {
   "cell_type": "code",
   "execution_count": 29,
   "id": "92b70f8b-fd91-407b-b3ec-423bd58d1469",
   "metadata": {},
   "outputs": [
    {
     "name": "stdout",
     "output_type": "stream",
     "text": [
      "95-й перцентиль количества заказов: 2.0\n",
      "99-й перцентиль количества заказов: 4.0\n"
     ]
    }
   ],
   "source": [
    "# Вычисляем 95-й и 99-й перцентили\n",
    "percentile_95 = orders_per_visitor['orders'].quantile(0.95)\n",
    "percentile_99 = orders_per_visitor['orders'].quantile(0.99)\n",
    "\n",
    "# Выводим результаты\n",
    "print(f\"95-й перцентиль количества заказов: {percentile_95}\")\n",
    "print(f\"99-й перцентиль количества заказов: {percentile_99}\")"
   ]
  },
  {
   "cell_type": "markdown",
   "id": "af9282de-fe97-42e4-b714-b43c208cac4f",
   "metadata": {},
   "source": [
    "<span style=\"color: blue;\">Как и ранее утверждали, все что выше 2 заказов считаем аномалией.</span>"
   ]
  },
  {
   "cell_type": "markdown",
   "id": "93ac4fc1-7c8a-43d1-9872-cefffca113b8",
   "metadata": {},
   "source": [
    "### 8. Точечный график стоимостей заказов."
   ]
  },
  {
   "cell_type": "code",
   "execution_count": 30,
   "id": "fca215b2-3505-4203-8fae-a63c6e036374",
   "metadata": {},
   "outputs": [
    {
     "data": {
      "image/png": "[encoded data removed]",
      "text/plain": [
       "<Figure size 720x432 with 1 Axes>"
      ]
     },
     "metadata": {
      "needs_background": "light"
     },
     "output_type": "display_data"
    }
   ],
   "source": [
    "# Построение точечного графика\n",
    "plt.figure(figsize=(10, 6))\n",
    "sns.scatterplot(data=orders, x='visitorId', y='revenue', hue='group', style='group', s=100)\n",
    "\n",
    "# Настройка графика\n",
    "plt.title('Точечный график стоимостей заказов')\n",
    "plt.xlabel('Идентификатор посетителя (visitorId)')\n",
    "plt.ylabel('Выручка (revenue)')\n",
    "plt.legend(title='Группа A/B-теста')\n",
    "plt.grid(True)\n",
    "\n",
    "# Показать график\n",
    "plt.show()"
   ]
  },
  {
   "cell_type": "markdown",
   "id": "f156fdc7-abe1-4179-93b9-7656f47c90cb",
   "metadata": {},
   "source": [
    "<span style=\"color: blue;\">На графике наблюдаются только два заказа дороже 100000 рублей все остальные меньше.</span>\n",
    "\n",
    "<span style=\"color: blue;\">Давайте попробуем отфильтровать их и построить графики без них.</span>\n",
    "\n"
   ]
  },
  {
   "cell_type": "code",
   "execution_count": 31,
   "id": "3ed84de8-a799-4506-8833-d5ad68102ec3",
   "metadata": {},
   "outputs": [
    {
     "data": {
      "text/html": [
       "<div>\n",
       "<style scoped>\n",
       "    .dataframe tbody tr th:only-of-type {\n",
       "        vertical-align: middle;\n",
       "    }\n",
       "\n",
       "    .dataframe tbody tr th {\n",
       "        vertical-align: top;\n",
       "    }\n",
       "\n",
       "    .dataframe thead th {\n",
       "        text-align: right;\n",
       "    }\n",
       "</style>\n",
       "<table border=\"1\" class=\"dataframe\">\n",
       "  <thead>\n",
       "    <tr style=\"text-align: right;\">\n",
       "      <th></th>\n",
       "      <th>transactionId</th>\n",
       "      <th>visitorId</th>\n",
       "      <th>date</th>\n",
       "      <th>revenue</th>\n",
       "      <th>group</th>\n",
       "    </tr>\n",
       "  </thead>\n",
       "  <tbody>\n",
       "    <tr>\n",
       "      <th>425</th>\n",
       "      <td>590470918</td>\n",
       "      <td>1920142716</td>\n",
       "      <td>2019-08-19</td>\n",
       "      <td>1294500</td>\n",
       "      <td>B</td>\n",
       "    </tr>\n",
       "    <tr>\n",
       "      <th>1196</th>\n",
       "      <td>3936777065</td>\n",
       "      <td>2108080724</td>\n",
       "      <td>2019-08-15</td>\n",
       "      <td>202740</td>\n",
       "      <td>B</td>\n",
       "    </tr>\n",
       "  </tbody>\n",
       "</table>\n",
       "</div>"
      ],
      "text/plain": [
       "      transactionId   visitorId       date  revenue group\n",
       "425       590470918  1920142716 2019-08-19  1294500     B\n",
       "1196     3936777065  2108080724 2019-08-15   202740     B"
      ]
     },
     "metadata": {},
     "output_type": "display_data"
    }
   ],
   "source": [
    "# Фильтрация заказов стоимостью больше 100000 рублей\n",
    "high_value_orders = orders[orders['revenue'] > 100000]\n",
    "\n",
    "# Показать отфильтрованные заказы\n",
    "display(high_value_orders)"
   ]
  },
  {
   "cell_type": "markdown",
   "id": "fcf7851f-95c9-4660-af7c-c2935b494ef6",
   "metadata": {},
   "source": [
    "<span style=\"color: blue;\">Всего лишь 2 заказа выше 100000 рублей.</span>"
   ]
  },
  {
   "cell_type": "code",
   "execution_count": 32,
   "id": "0700cf76-ade5-4de2-b1fa-2f3ae97f4bc3",
   "metadata": {},
   "outputs": [],
   "source": [
    "# Фильтрация заказов стоимостью меньше 100000 рублей\n",
    "low_value_orders = orders[orders['revenue'] < 100000]"
   ]
  },
  {
   "cell_type": "code",
   "execution_count": 33,
   "id": "5f58d1a2-15d9-4bed-b1ea-15a166bd5c53",
   "metadata": {},
   "outputs": [
    {
     "data": {
      "image/png": "[encoded data removed]",
      "text/plain": [
       "<Figure size 720x432 with 1 Axes>"
      ]
     },
     "metadata": {
      "needs_background": "light"
     },
     "output_type": "display_data"
    }
   ],
   "source": [
    "plt.figure(figsize=(10, 6))\n",
    "sns.scatterplot(data=low_value_orders, x='visitorId', y='revenue', hue='group', style='group', s=100)\n",
    "\n",
    "# Настройка графика\n",
    "plt.title('Точечный график стоимостей заказов (меньше 100000 рублей)')\n",
    "plt.xlabel('Идентификатор посетителя (visitorId)')\n",
    "plt.ylabel('Выручка (revenue)')\n",
    "plt.legend(title='Группа A/B-теста')\n",
    "plt.grid(True)\n",
    "\n",
    "# Показать график\n",
    "plt.show()"
   ]
  },
  {
   "cell_type": "markdown",
   "id": "39a5f1e1-01ce-4092-b9d0-e69f07c31edd",
   "metadata": {},
   "source": [
    "<span style=\"color: blue;\">Этот график более репрезентативный нежели предыдущий. Давайте найдем перцентили для определения точного размера стоимости аномального заказа.</span>"
   ]
  },
  {
   "cell_type": "markdown",
   "id": "e17ccca2-a20d-4dac-bde8-d3f4782075c8",
   "metadata": {},
   "source": [
    "### 9. Расчет 95-го и 99-го перцентиля стоимости заказов."
   ]
  },
  {
   "cell_type": "code",
   "execution_count": 34,
   "id": "7e247fba-b647-4464-899f-72348e5d5bc4",
   "metadata": {},
   "outputs": [
    {
     "name": "stdout",
     "output_type": "stream",
     "text": [
      "95-й перцентиль: 28000.0 рублей\n",
      "99-й перцентиль: 58233.2 рублей\n"
     ]
    }
   ],
   "source": [
    "# Рассчитываем 95-й и 99-й перцентили стоимости заказов\n",
    "percentile_95 = orders['revenue'].quantile(0.95).round(1)\n",
    "percentile_99 = orders['revenue'].quantile(0.99).round(1)\n",
    "\n",
    "print(f\"95-й перцентиль: {percentile_95} рублей\")\n",
    "print(f\"99-й перцентиль: {percentile_99} рублей\")"
   ]
  },
  {
   "cell_type": "markdown",
   "id": "17e7f119",
   "metadata": {},
   "source": [
    "Все что выше 99-го перцентиля принимаем за аномалию."
   ]
  },
  {
   "cell_type": "markdown",
   "id": "f6999ce7-eb8c-4904-8d89-4f0b83436cc2",
   "metadata": {},
   "source": [
    "### Cтатистическая значимость различий в среднем количестве заказов на посетителя между группами по «сырым» данным."
   ]
  },
  {
   "cell_type": "markdown",
   "id": "354e21a7-f6e9-44bf-a258-0e205475ef42",
   "metadata": {},
   "source": [
    "#### Для начала соберем все данные в одну таблицу, в том числе кумулятивные показатели."
   ]
  },
  {
   "cell_type": "code",
   "execution_count": 35,
   "id": "345037eb",
   "metadata": {},
   "outputs": [],
   "source": [
    "visitorsADaily = visitors[visitors['group'] == 'A'][['date', 'visitors']]\n",
    "visitorsADaily.columns = ['date', 'visitorsPerDateA']\n",
    "\n",
    "visitorsACummulative = visitorsADaily.apply(\n",
    "    lambda x: visitorsADaily[visitorsADaily['date'] <= x['date']].agg(\n",
    "        {'date': 'max', 'visitorsPerDateA': 'sum'}\n",
    "    ),\n",
    "    axis=1,\n",
    ")\n",
    "visitorsACummulative.columns = ['date', 'visitorsCummulativeA']\n",
    "\n",
    "visitorsBDaily = visitors[visitors['group'] == 'B'][['date', 'visitors']]\n",
    "visitorsBDaily.columns = ['date', 'visitorsPerDateB']\n",
    "\n",
    "visitorsBCummulative = visitorsBDaily.apply(\n",
    "    lambda x: visitorsBDaily[visitorsBDaily['date'] <= x['date']].agg(\n",
    "        {'date': 'max', 'visitorsPerDateB': 'sum'}\n",
    "    ),\n",
    "    axis=1,\n",
    ")\n",
    "visitorsBCummulative.columns = ['date', 'visitorsCummulativeB']"
   ]
  },
  {
   "cell_type": "code",
   "execution_count": 36,
   "id": "0a370c24",
   "metadata": {},
   "outputs": [],
   "source": [
    "ordersADaily = (\n",
    "    orders[orders['group'] == 'A'][['date', 'transactionId', 'visitorId', 'revenue']]\n",
    "    .groupby('date', as_index=False)\n",
    "    .agg({'transactionId': pd.Series.nunique, 'revenue': 'sum'})\n",
    ")\n",
    "ordersADaily.columns = ['date', 'ordersPerDateA', 'revenuePerDateA']\n",
    "\n",
    "ordersACummulative = ordersADaily.apply(\n",
    "    lambda x: ordersADaily[ordersADaily['date'] <= x['date']].agg(\n",
    "        {'date': 'max', 'ordersPerDateA': 'sum', 'revenuePerDateA': 'sum'}\n",
    "    ),\n",
    "    axis=1,\n",
    ").sort_values(by=['date'])\n",
    "ordersACummulative.columns = [\n",
    "    'date',\n",
    "    'ordersCummulativeA',\n",
    "    'revenueCummulativeA',\n",
    "]\n",
    "\n",
    "ordersBDaily = (\n",
    "    orders[orders['group'] == 'B'][['date', 'transactionId', 'visitorId', 'revenue']]\n",
    "    .groupby('date', as_index=False)\n",
    "    .agg({'transactionId': pd.Series.nunique, 'revenue': 'sum'})\n",
    ")\n",
    "ordersBDaily.columns = ['date', 'ordersPerDateB', 'revenuePerDateB']\n",
    "\n",
    "ordersBCummulative = ordersBDaily.apply(\n",
    "    lambda x: ordersBDaily[ordersBDaily['date'] <= x['date']].agg(\n",
    "        {'date': 'max', 'ordersPerDateB': 'sum', 'revenuePerDateB': 'sum'}\n",
    "    ),\n",
    "    axis=1,\n",
    ").sort_values(by=['date'])\n",
    "ordersBCummulative.columns = [\n",
    "    'date',\n",
    "    'ordersCummulativeB',\n",
    "    'revenueCummulativeB',\n",
    "]"
   ]
  },
  {
   "cell_type": "markdown",
   "id": "5c07d2ae-dbf2-4f22-a7fc-bd579791a6ac",
   "metadata": {},
   "source": [
    "#### Теперь объединим все в одну таблицу."
   ]
  },
  {
   "cell_type": "code",
   "execution_count": 37,
   "id": "f1be8319-52f0-4c2e-8b82-24485b26dc53",
   "metadata": {},
   "outputs": [
    {
     "data": {
      "text/html": [
       "<div>\n",
       "<style scoped>\n",
       "    .dataframe tbody tr th:only-of-type {\n",
       "        vertical-align: middle;\n",
       "    }\n",
       "\n",
       "    .dataframe tbody tr th {\n",
       "        vertical-align: top;\n",
       "    }\n",
       "\n",
       "    .dataframe thead th {\n",
       "        text-align: right;\n",
       "    }\n",
       "</style>\n",
       "<table border=\"1\" class=\"dataframe\">\n",
       "  <thead>\n",
       "    <tr style=\"text-align: right;\">\n",
       "      <th></th>\n",
       "      <th>date</th>\n",
       "      <th>ordersPerDateA</th>\n",
       "      <th>revenuePerDateA</th>\n",
       "      <th>ordersPerDateB</th>\n",
       "      <th>revenuePerDateB</th>\n",
       "      <th>ordersCummulativeA</th>\n",
       "      <th>revenueCummulativeA</th>\n",
       "      <th>ordersCummulativeB</th>\n",
       "      <th>revenueCummulativeB</th>\n",
       "      <th>visitorsPerDateA</th>\n",
       "      <th>visitorsPerDateB</th>\n",
       "      <th>visitorsCummulativeA</th>\n",
       "      <th>visitorsCummulativeB</th>\n",
       "    </tr>\n",
       "  </thead>\n",
       "  <tbody>\n",
       "    <tr>\n",
       "      <th>26</th>\n",
       "      <td>2019-08-27</td>\n",
       "      <td>28</td>\n",
       "      <td>286780</td>\n",
       "      <td>16</td>\n",
       "      <td>147677</td>\n",
       "      <td>495</td>\n",
       "      <td>3514698</td>\n",
       "      <td>548</td>\n",
       "      <td>5232260</td>\n",
       "      <td>711</td>\n",
       "      <td>720</td>\n",
       "      <td>16376</td>\n",
       "      <td>16523</td>\n",
       "    </tr>\n",
       "    <tr>\n",
       "      <th>23</th>\n",
       "      <td>2019-08-24</td>\n",
       "      <td>15</td>\n",
       "      <td>127703</td>\n",
       "      <td>16</td>\n",
       "      <td>95506</td>\n",
       "      <td>441</td>\n",
       "      <td>3002070</td>\n",
       "      <td>493</td>\n",
       "      <td>4798722</td>\n",
       "      <td>395</td>\n",
       "      <td>378</td>\n",
       "      <td>14322</td>\n",
       "      <td>14448</td>\n",
       "    </tr>\n",
       "    <tr>\n",
       "      <th>18</th>\n",
       "      <td>2019-08-19</td>\n",
       "      <td>22</td>\n",
       "      <td>189743</td>\n",
       "      <td>21</td>\n",
       "      <td>1429920</td>\n",
       "      <td>350</td>\n",
       "      <td>2391910</td>\n",
       "      <td>403</td>\n",
       "      <td>4116541</td>\n",
       "      <td>502</td>\n",
       "      <td>487</td>\n",
       "      <td>11629</td>\n",
       "      <td>11658</td>\n",
       "    </tr>\n",
       "    <tr>\n",
       "      <th>24</th>\n",
       "      <td>2019-08-25</td>\n",
       "      <td>10</td>\n",
       "      <td>68634</td>\n",
       "      <td>14</td>\n",
       "      <td>102862</td>\n",
       "      <td>451</td>\n",
       "      <td>3070704</td>\n",
       "      <td>507</td>\n",
       "      <td>4901584</td>\n",
       "      <td>621</td>\n",
       "      <td>679</td>\n",
       "      <td>14943</td>\n",
       "      <td>15127</td>\n",
       "    </tr>\n",
       "    <tr>\n",
       "      <th>5</th>\n",
       "      <td>2019-08-06</td>\n",
       "      <td>18</td>\n",
       "      <td>48484</td>\n",
       "      <td>28</td>\n",
       "      <td>242342</td>\n",
       "      <td>127</td>\n",
       "      <td>598401</td>\n",
       "      <td>129</td>\n",
       "      <td>824337</td>\n",
       "      <td>667</td>\n",
       "      <td>655</td>\n",
       "      <td>3985</td>\n",
       "      <td>3935</td>\n",
       "    </tr>\n",
       "  </tbody>\n",
       "</table>\n",
       "</div>"
      ],
      "text/plain": [
       "         date  ordersPerDateA  revenuePerDateA  ordersPerDateB  \\\n",
       "26 2019-08-27              28           286780              16   \n",
       "23 2019-08-24              15           127703              16   \n",
       "18 2019-08-19              22           189743              21   \n",
       "24 2019-08-25              10            68634              14   \n",
       "5  2019-08-06              18            48484              28   \n",
       "\n",
       "    revenuePerDateB  ordersCummulativeA  revenueCummulativeA  \\\n",
       "26           147677                 495              3514698   \n",
       "23            95506                 441              3002070   \n",
       "18          1429920                 350              2391910   \n",
       "24           102862                 451              3070704   \n",
       "5            242342                 127               598401   \n",
       "\n",
       "    ordersCummulativeB  revenueCummulativeB  visitorsPerDateA  \\\n",
       "26                 548              5232260               711   \n",
       "23                 493              4798722               395   \n",
       "18                 403              4116541               502   \n",
       "24                 507              4901584               621   \n",
       "5                  129               824337               667   \n",
       "\n",
       "    visitorsPerDateB  visitorsCummulativeA  visitorsCummulativeB  \n",
       "26               720                 16376                 16523  \n",
       "23               378                 14322                 14448  \n",
       "18               487                 11629                 11658  \n",
       "24               679                 14943                 15127  \n",
       "5                655                  3985                  3935  "
      ]
     },
     "execution_count": 37,
     "metadata": {},
     "output_type": "execute_result"
    }
   ],
   "source": [
    "data = (\n",
    "    ordersADaily.merge(\n",
    "        ordersBDaily, left_on='date', right_on='date', how='left'\n",
    "    )\n",
    "    .merge(ordersACummulative, left_on='date', right_on='date', how='left')\n",
    "    .merge(ordersBCummulative, left_on='date', right_on='date', how='left')\n",
    "    .merge(visitorsADaily, left_on='date', right_on='date', how='left')\n",
    "    .merge(visitorsBDaily, left_on='date', right_on='date', how='left')\n",
    "    .merge(visitorsACummulative, left_on='date', right_on='date', how='left')\n",
    "    .merge(visitorsBCummulative, left_on='date', right_on='date', how='left')\n",
    ")\n",
    "data.sample(5)"
   ]
  },
  {
   "cell_type": "markdown",
   "id": "a675af8c-8f8b-4e26-9d6f-eb5524792d5f",
   "metadata": {},
   "source": [
    "#### Применим критерий и отформатируем p-value, округлив его до трёх знаков после запятой.\n",
    "\n",
    "#### Напомним, что в sampleA сохранили выборку, где каждый элемент — число заказов определённого пользователя, в том числе ноль. Значит, число элементов sampleA — это количество пользователей, сумма всех элементов — количество заказов. Чтобы получить среднее число заказов на пользователя, поделим сумму заказов на число пользователей — найдём среднее в выборке sampleA методом mean(). Аналогично найдём среднее группы B: SampleB.mean().\n",
    "\n",
    "#### Выведем относительный прирост среднего числа заказов группы B: среднее число заказов группы B / среднее число заказов группы A - 1.  Округлим до трёх знаков после запятой.\n",
    "\n",
    "#### За нулевую гипотезу возьмём что: \"статистически значимых различий в среднем количестве заказов на посетителя между группами по «сырым» данным нет\"; тогда альтернативная гипотеза будет гласить - статистически значимые различия в среднем количестве заказов на посетителя между группами по «сырым» данным есть."
   ]
  },
  {
   "cell_type": "code",
   "execution_count": 38,
   "id": "a2e54736-2229-4214-9de6-857aad2dcfd2",
   "metadata": {},
   "outputs": [],
   "source": [
    "ordersByVisitorsA = (\n",
    "    orders[orders['group'] == 'A']\n",
    "    .groupby('visitorId', as_index=False)\n",
    "    .agg({'transactionId': pd.Series.nunique})\n",
    ")\n",
    "ordersByVisitorsA.columns = ['visitorId', 'orders']\n",
    "\n",
    "ordersByVisitorsB = (\n",
    "    orders[orders['group'] == 'B']\n",
    "    .groupby('visitorId', as_index=False)\n",
    "    .agg({'transactionId': pd.Series.nunique})\n",
    ")\n",
    "ordersByVisitorsB.columns = ['visitorId', 'orders']"
   ]
  },
  {
   "cell_type": "code",
   "execution_count": 39,
   "id": "806d2a11-146c-43b8-8e9b-35ab0a6da68b",
   "metadata": {},
   "outputs": [
    {
     "name": "stdout",
     "output_type": "stream",
     "text": [
      "Уровень значимости alpha принят: 0.05\n",
      "P-value составляет: 0.017\n",
      "Относительный показатель B к А сотсавляет: 0.138\n"
     ]
    }
   ],
   "source": [
    "# Получаем данные для групп A и B\n",
    "revenueA = orders[orders['group'] == 'A']['revenue']\n",
    "revenueB = orders[orders['group'] == 'B']['revenue']\n",
    "\n",
    "sampleA = pd.concat([ordersByVisitorsA['orders'],pd.Series(0, index=np.arange(data['visitorsPerDateA'].sum() - len(ordersByVisitorsA['orders'])), name='orders')],axis=0)\n",
    "\n",
    "sampleB = pd.concat([ordersByVisitorsB['orders'],pd.Series(0, index=np.arange(data['visitorsPerDateB'].sum() - len(ordersByVisitorsB['orders'])), name='orders')],axis=0)\n",
    "\n",
    "print(\"Уровень значимости alpha принят:\",0.05)\n",
    "print(\"P-value составляет: {0:.3f}\".format(stats.mannwhitneyu(sampleA, sampleB)[1]))\n",
    "print(\"Относительный показатель B к А сотсавляет: {0:.3f}\".format((data['ordersPerDateB'].sum()/data['visitorsPerDateB'].sum())/(data['ordersPerDateA'].sum()/data['visitorsPerDateA'].sum())-1))\n"
   ]
  },
  {
   "cell_type": "markdown",
   "id": "074109fd-af4b-4bdc-a3ca-860e7c744de7",
   "metadata": {},
   "source": [
    "<span style=\"color: blue;\">P-value ниже уровня значимости, это означает, что нулевая гипотеза о том, что: \"статистически значимых различий в среднем количестве заказов на посетителя между группами по «сырым» данным нет\" отвергнута. Различие в среднем количестве заказов на посетителя между группами по «сырым» данным есть и составляет 13,8% в группе В относительно группы А.</span>"
   ]
  },
  {
   "cell_type": "markdown",
   "id": "db7604b6-6b8f-4aef-b6a6-d1bb75bd7c8a",
   "metadata": {},
   "source": [
    "### 11. Cтатистическая значимость различий в среднем чеке заказа между группами по «сырым» данным."
   ]
  },
  {
   "cell_type": "markdown",
   "id": "d1a1d236-0eaa-45ef-a453-ed47373ede0b",
   "metadata": {},
   "source": [
    "#### Теперь проверим статистическую значимость различий в среднем чеке между сегментами. \n",
    "#### - Нулевая гипотеза: различий в среднем чеке между группами нет.\n",
    "#### - Альтернативная гипотеза: различия в среднем чеке между группами есть. \n",
    "\n",
    "#### Чтобы рассчитать статистическую значимость различий в среднем чеке, передадим критерию mannwhitneyu() данные о выручке с заказов. \n",
    "\n",
    "#### А ещё найдём относительные различия в среднем чеке между группами:"
   ]
  },
  {
   "cell_type": "code",
   "execution_count": 40,
   "id": "28fb8ce2-fe47-4f72-a41b-3f78f377a0b4",
   "metadata": {},
   "outputs": [
    {
     "name": "stdout",
     "output_type": "stream",
     "text": [
      "Уровень значимости alpha принят: 0.05\n",
      "Р-value составляет: 0.729\n",
      "Относительный показатель B к А сотсавляет: 0.259\n"
     ]
    }
   ],
   "source": [
    "print(\"Уровень значимости alpha принят:\",0.05)\n",
    "print('Р-value составляет: {0:.3f}'.format(stats.mannwhitneyu(orders[orders['group']=='A']['revenue'], orders[orders['group']=='B']['revenue'])[1]))\n",
    "print('Относительный показатель B к А сотсавляет: {0:.3f}'.format(orders[orders['group']=='B']['revenue'].mean()/orders[orders['group']=='A']['revenue'].mean()-1))"
   ]
  },
  {
   "cell_type": "markdown",
   "id": "61dc263e-f443-41a7-965a-f9d82da45e42",
   "metadata": {},
   "source": [
    "<span style=\"color: blue;\">P-value значительно превысил уровень значимости, а это означает, что нет причин отвергать нулевую гипотезу о том, что есть различия в среднем чеке между сегментами. Согласно данному тесту можно заявить, что различия в среднем чеке в обеих группах по \"сырым\" данным нет. Однако различие среднего чека в группе B относительно группы А составляет 25,9%</span>"
   ]
  },
  {
   "cell_type": "markdown",
   "id": "4776e5cf-5067-45ad-88fc-f0d7447a5826",
   "metadata": {},
   "source": [
    "### 12. Различие в среднем количестве заказов на посетителя между группами по «очищенным» данным"
   ]
  },
  {
   "cell_type": "markdown",
   "id": "891f133b-8fb4-4ea3-9d11-eb41f3d771c7",
   "metadata": {},
   "source": [
    "#### Примем за аномальных пользователей тех, кто совершил более 2 заказов или совершил заказ дороже 58233.2 рублей. Так мы уберём 5% пользователей с наибольшим числом заказов и от 1% до 5% пользователей с дорогими заказами. Сделаем срезы пользователей с числом заказов больше 2 — usersWithManyOrders и пользователей, совершивших заказы дороже 58233.2 — usersWithExpensiveOrders. Объединим их в таблице abnormalUsers. "
   ]
  },
  {
   "cell_type": "markdown",
   "id": "3961fe28-d485-40c7-9d49-3b4317c4b715",
   "metadata": {},
   "source": [
    "#### Узнаем, сколько всего аномальных пользователей."
   ]
  },
  {
   "cell_type": "code",
   "execution_count": 41,
   "id": "7fb9892c-a195-4f4f-a49c-e587a0dad86f",
   "metadata": {},
   "outputs": [
    {
     "name": "stdout",
     "output_type": "stream",
     "text": [
      "1099     148427295\n",
      "949      887908475\n",
      "744      888512513\n",
      "1103    1164614297\n",
      "1136    1307669133\n",
      "Name: visitorId, dtype: int64\n",
      "Количество пользователей, которые оказались в зоне выброса: 11\n"
     ]
    }
   ],
   "source": [
    "usersWithManyOrders = pd.concat(\n",
    "    [\n",
    "        ordersByVisitorsA[ordersByVisitorsA['orders'] > percentile_95]['visitorId'],\n",
    "        ordersByVisitorsB[ordersByVisitorsB['orders'] > percentile_95]['visitorId'],\n",
    "    ],\n",
    "    axis=0,\n",
    ")\n",
    "usersWithExpensiveOrders = orders[orders['revenue'] > percentile_99]['visitorId']\n",
    "abnormalUsers = (\n",
    "    pd.concat([usersWithManyOrders, usersWithExpensiveOrders], axis=0)\n",
    "    .drop_duplicates()\n",
    "    .sort_values()\n",
    ")\n",
    "print(abnormalUsers.head(5))\n",
    "print(\"Количество пользователей, которые оказались в зоне выброса:\" ,len(abnormalUsers)) "
   ]
  },
  {
   "cell_type": "markdown",
   "id": "831610ac-a532-4225-8ac2-0520fffa7cb6",
   "metadata": {},
   "source": [
    "#### Посчитаем статистическую значимость различий в среднем количестве заказов между группами теста по очищенным данным. Сначала подготовим выборки количества заказов по пользователям по группам теста:\n",
    "\n",
    "#### Применим статистический критерий Манна-Уитни к полученным выборкам:"
   ]
  },
  {
   "cell_type": "markdown",
   "id": "e966aa1c",
   "metadata": {},
   "source": [
    "### За нулевую гипотезу возьмём что: \"статистически значимых различий в среднем количестве заказов на посетителя между группами по «очищенным» данным нет\"; тогда альтернативная гипотеза будет гласить - статистически значимые различия есть."
   ]
  },
  {
   "cell_type": "code",
   "execution_count": 42,
   "id": "67da3d78-da6f-4458-aa15-fc544fda627b",
   "metadata": {},
   "outputs": [
    {
     "name": "stdout",
     "output_type": "stream",
     "text": [
      "Уровень значимости alpha принят: 0.05\n",
      "P-value составляет: 0.015\n",
      "Относительный показатель B к А сотсавляет: 0.142\n"
     ]
    }
   ],
   "source": [
    "sampleAFiltered = pd.concat(\n",
    "    [\n",
    "        ordersByVisitorsA[\n",
    "            np.logical_not(ordersByVisitorsA['visitorId'].isin(abnormalUsers))\n",
    "        ]['orders'],\n",
    "        pd.Series(\n",
    "            0,\n",
    "            index=np.arange(\n",
    "                data['visitorsPerDateA'].sum() - len(ordersByVisitorsA['orders'])\n",
    "            ),\n",
    "            name='orders',\n",
    "        ),\n",
    "    ],\n",
    "    axis=0,\n",
    ")\n",
    "\n",
    "sampleBFiltered = pd.concat(\n",
    "    [\n",
    "        ordersByVisitorsB[\n",
    "            np.logical_not(ordersByVisitorsB['visitorId'].isin(abnormalUsers))\n",
    "        ]['orders'],\n",
    "        pd.Series(\n",
    "            0,\n",
    "            index=np.arange(\n",
    "                data['visitorsPerDateB'].sum() - len(ordersByVisitorsB['orders'])\n",
    "            ),\n",
    "            name='orders',\n",
    "        ),\n",
    "    ],\n",
    "    axis=0,\n",
    ")\n",
    "print(\"Уровень значимости alpha принят:\",0.05)\n",
    "print('P-value составляет: {0:.3f}'.format(stats.mannwhitneyu(sampleAFiltered, sampleBFiltered)[1]))\n",
    "print('Относительный показатель B к А сотсавляет: {0:.3f}'.format(sampleBFiltered.mean()/sampleAFiltered.mean()-1))"
   ]
  },
  {
   "cell_type": "markdown",
   "id": "0adbc301-718e-4591-8b56-9c6e41b9d9e6",
   "metadata": {},
   "source": [
    "<span style=\"color: blue;\">P-value уменьшился и по прежнему остался ниже уровня значимости, что позволяет как и прежде утверждать то, что различие в среднем количестве заказов в группах В и А есть и в \"очищенных\" данных. В \"очищенных\" данных наблюдаем рост относительного показателя конверсии В к А (17,4%) в сравнении к \"сырым\" данным (13,8%)</span>\n",
    "\n",
    "<span style=\"color: blue;\">Так как p-value меньше уровня значимости alpha, то мы отвергаем нулевую гипотезу и это означает, что различия есть.</span>"
   ]
  },
  {
   "cell_type": "markdown",
   "id": "5a4d47a8-cf50-428f-b1df-bb5a01d9a1e0",
   "metadata": {},
   "source": [
    "### 13. Статистическая значимость различий в среднем чеке заказа между группами по «очищенным» данным."
   ]
  },
  {
   "cell_type": "markdown",
   "id": "cdd1b903",
   "metadata": {},
   "source": [
    "#### - Нулевая гипотеза: различий в среднем чеке между группами нет.\n",
    "#### - Альтернативная гипотеза: различия в среднем чеке между группами есть. "
   ]
  },
  {
   "cell_type": "code",
   "execution_count": 43,
   "id": "972d7b2a-24de-4cae-a40e-291bc0724376",
   "metadata": {},
   "outputs": [
    {
     "name": "stdout",
     "output_type": "stream",
     "text": [
      "Уровень значимости alpha принят: 0.05\n",
      "P-value составляет: 0.599\n",
      "Относительный показатель B к А сотсавляет: 0.020\n"
     ]
    }
   ],
   "source": [
    "print(\"Уровень значимости alpha принят:\",0.05)\n",
    "print(\n",
    "    'P-value составляет: {0:.3f}'.format(\n",
    "        stats.mannwhitneyu(\n",
    "            orders[\n",
    "                np.logical_and(\n",
    "                    orders['group'] == 'A',\n",
    "                    np.logical_not(orders['visitorId'].isin(abnormalUsers)),\n",
    "                )\n",
    "            ]['revenue'],\n",
    "            orders[\n",
    "                np.logical_and(\n",
    "                    orders['group'] == 'B',\n",
    "                    np.logical_not(orders['visitorId'].isin(abnormalUsers)),\n",
    "                )\n",
    "            ]['revenue'],\n",
    "        )[1]\n",
    "    )\n",
    ")\n",
    "\n",
    "print(\n",
    "    \"Относительный показатель B к А сотсавляет: {0:.3f}\".format(\n",
    "        orders[\n",
    "            np.logical_and(\n",
    "                orders['group'] == 'B',\n",
    "                np.logical_not(orders['visitorId'].isin(abnormalUsers)),\n",
    "            )\n",
    "        ]['revenue'].mean()\n",
    "        / orders[\n",
    "            np.logical_and(\n",
    "                orders['group'] == 'A',\n",
    "                np.logical_not(orders['visitorId'].isin(abnormalUsers)),\n",
    "            )\n",
    "        ]['revenue'].mean()\n",
    "        - 1\n",
    "    )\n",
    ")"
   ]
  },
  {
   "cell_type": "markdown",
   "id": "bbd3c49e-3f69-4cec-9e03-27e158ff88c2",
   "metadata": {},
   "source": [
    "<span style=\"color: blue;\">P-value как и в \"сырых\" данных выше уровня значимости, поэтому нет оснований отвергать гипотезу о том, что есть различия в среднем чеке между сегментами. Интересно то, что относительный показатель среднего чека группы В к А стал отрицательным. Это значит, что относительный показатель среднего чека группы А выше, чем у группы В на 2%, а в \"сырых\" данных преимущество было у группы В и составляло 26%. Я думаю такое значительное изменение данного показателя произошло за счет того, что мы удалили те самые 2 крупных заказа на 1,3 млн. рублей и 202 тысячи рублей.</span>"
   ]
  },
  {
   "cell_type": "markdown",
   "id": "a06b6ec8",
   "metadata": {},
   "source": [
    "#### <span style=\"color: blue;\">Согласно полученным результатам мы принимаем нулевую гипотезу и это означает, что статистической значимости различия средних чеков между группами нет.</span>"
   ]
  },
  {
   "cell_type": "markdown",
   "id": "58ec870a-9bd4-4795-9b41-163c943da0e7",
   "metadata": {},
   "source": [
    "# Вывод по результатам теста."
   ]
  },
  {
   "cell_type": "markdown",
   "id": "d96bab89-0035-41e3-8345-daedfada3e07",
   "metadata": {},
   "source": [
    "## Результаты тестирования\n",
    "\n",
    "Перед тем как принять решение о завершении теста, давайте рассмотрим полученные результаты.\n",
    "\n",
    "### Конверсия\n",
    "По \"сырым\" и \"очищенным\" данным группа В демонстрирует преимущество над группой А, составившее 13,8% и 17,4% соответственно.\n",
    "\n",
    "### Средний чек\n",
    "По \"сырым\" данным группа В также имеет преимущество относительно группы А на уровне 25,9%. Этот результат может показаться впечатляющим, однако после очистки данных, в ходе которой были исключены два крупных заказа, признанных аномалиями (на 1,294,500 рублей и 202,740 рублей), ситуация изменилась. После очистки данных преимущество, хоть и небольшое, оказалось у группы А относительно группы В — всего 2%. Это свидетельствует о том, что после очистки данные по средним чекам у обеих групп сравнялись.\n",
    "\n",
    "### Вывод\n",
    "Таким образом, можно констатировать победу группы В над группой А. Несмотря на то, что показатели по среднему чеку приблизительно равны, группа В явно выигрывает по конверсии на заказ, что подчеркивает ее эффективность."
   ]
  },
  {
   "cell_type": "code",
   "execution_count": null,
   "id": "a3724e26",
   "metadata": {},
   "outputs": [],
   "source": []
  }
 ],
 "metadata": {
  "ExecuteTimeLog": [
   {
    "duration": 1163,
    "start_time": "2024-12-30T20:23:56.125Z"
   },
   {
    "duration": 486,
    "start_time": "2024-12-30T20:23:57.291Z"
   },
   {
    "duration": 13,
    "start_time": "2024-12-30T20:23:57.779Z"
   },
   {
    "duration": 17,
    "start_time": "2024-12-30T20:23:57.794Z"
   },
   {
    "duration": 8,
    "start_time": "2024-12-30T20:23:57.813Z"
   },
   {
    "duration": 11,
    "start_time": "2024-12-30T20:23:57.823Z"
   },
   {
    "duration": 8,
    "start_time": "2024-12-30T20:23:57.835Z"
   },
   {
    "duration": 30,
    "start_time": "2024-12-30T20:23:57.844Z"
   },
   {
    "duration": 6,
    "start_time": "2024-12-30T20:23:57.876Z"
   },
   {
    "duration": 10,
    "start_time": "2024-12-30T20:23:57.886Z"
   },
   {
    "duration": 7,
    "start_time": "2024-12-30T20:23:57.898Z"
   },
   {
    "duration": 6,
    "start_time": "2024-12-30T20:23:57.907Z"
   },
   {
    "duration": 12,
    "start_time": "2024-12-30T20:23:57.914Z"
   },
   {
    "duration": 47,
    "start_time": "2024-12-30T20:23:57.928Z"
   },
   {
    "duration": 10,
    "start_time": "2024-12-30T20:23:57.977Z"
   },
   {
    "duration": 313,
    "start_time": "2024-12-30T20:23:57.989Z"
   },
   {
    "duration": 473,
    "start_time": "2024-12-30T20:23:58.304Z"
   },
   {
    "duration": 8,
    "start_time": "2024-12-30T20:23:58.779Z"
   },
   {
    "duration": 14,
    "start_time": "2024-12-30T20:23:58.789Z"
   },
   {
    "duration": 22,
    "start_time": "2024-12-30T20:23:58.804Z"
   },
   {
    "duration": 9,
    "start_time": "2024-12-30T20:23:58.827Z"
   },
   {
    "duration": 372,
    "start_time": "2024-12-30T20:23:58.837Z"
   },
   {
    "duration": 493,
    "start_time": "2024-12-30T20:23:59.211Z"
   },
   {
    "duration": 493,
    "start_time": "2024-12-30T20:23:59.706Z"
   },
   {
    "duration": 495,
    "start_time": "2024-12-30T20:24:00.201Z"
   },
   {
    "duration": 15,
    "start_time": "2024-12-30T20:24:00.698Z"
   },
   {
    "duration": 180,
    "start_time": "2024-12-30T20:24:00.714Z"
   },
   {
    "duration": 7,
    "start_time": "2024-12-30T20:24:00.897Z"
   },
   {
    "duration": 367,
    "start_time": "2024-12-30T20:24:00.906Z"
   },
   {
    "duration": 11,
    "start_time": "2024-12-30T20:24:01.275Z"
   },
   {
    "duration": 18,
    "start_time": "2024-12-30T20:24:01.288Z"
   },
   {
    "duration": 296,
    "start_time": "2024-12-30T20:24:01.307Z"
   },
   {
    "duration": 8,
    "start_time": "2024-12-30T20:24:01.605Z"
   },
   {
    "duration": 285,
    "start_time": "2024-12-30T20:24:01.614Z"
   },
   {
    "duration": 27,
    "start_time": "2024-12-30T20:24:01.901Z"
   },
   {
    "duration": 153,
    "start_time": "2024-12-30T20:24:01.930Z"
   },
   {
    "duration": 31,
    "start_time": "2024-12-30T20:24:02.085Z"
   },
   {
    "duration": 37,
    "start_time": "2024-12-30T20:24:02.118Z"
   },
   {
    "duration": 10,
    "start_time": "2024-12-30T20:24:02.156Z"
   },
   {
    "duration": 31,
    "start_time": "2024-12-30T20:24:02.167Z"
   },
   {
    "duration": 14,
    "start_time": "2024-12-30T20:24:02.200Z"
   },
   {
    "duration": 12,
    "start_time": "2024-12-30T20:27:01.848Z"
   },
   {
    "duration": 9,
    "start_time": "2024-12-30T20:27:05.081Z"
   },
   {
    "duration": 51,
    "start_time": "2024-12-30T20:53:53.273Z"
   },
   {
    "duration": 1333,
    "start_time": "2024-12-30T20:54:00.099Z"
   },
   {
    "duration": 106,
    "start_time": "2024-12-30T20:54:01.434Z"
   },
   {
    "duration": 14,
    "start_time": "2024-12-30T20:54:01.543Z"
   },
   {
    "duration": 14,
    "start_time": "2024-12-30T20:54:01.560Z"
   },
   {
    "duration": 5,
    "start_time": "2024-12-30T20:54:01.576Z"
   },
   {
    "duration": 10,
    "start_time": "2024-12-30T20:54:01.583Z"
   },
   {
    "duration": 48,
    "start_time": "2024-12-30T20:54:01.595Z"
   },
   {
    "duration": 10,
    "start_time": "2024-12-30T20:54:01.644Z"
   },
   {
    "duration": 18,
    "start_time": "2024-12-30T20:54:01.655Z"
   },
   {
    "duration": 10,
    "start_time": "2024-12-30T20:54:01.676Z"
   },
   {
    "duration": 11,
    "start_time": "2024-12-30T20:54:01.688Z"
   },
   {
    "duration": 32,
    "start_time": "2024-12-30T20:54:01.700Z"
   },
   {
    "duration": 23,
    "start_time": "2024-12-30T20:54:01.734Z"
   },
   {
    "duration": 25,
    "start_time": "2024-12-30T20:54:01.759Z"
   },
   {
    "duration": 19,
    "start_time": "2024-12-30T20:54:01.786Z"
   },
   {
    "duration": 324,
    "start_time": "2024-12-30T20:54:01.807Z"
   },
   {
    "duration": 509,
    "start_time": "2024-12-30T20:54:02.132Z"
   },
   {
    "duration": 8,
    "start_time": "2024-12-30T20:54:02.642Z"
   },
   {
    "duration": 27,
    "start_time": "2024-12-30T20:54:02.651Z"
   },
   {
    "duration": 121,
    "start_time": "2024-12-30T20:54:02.680Z"
   },
   {
    "duration": 23,
    "start_time": "2024-12-30T20:54:02.803Z"
   },
   {
    "duration": 451,
    "start_time": "2024-12-30T20:54:02.828Z"
   },
   {
    "duration": 434,
    "start_time": "2024-12-30T20:54:03.281Z"
   },
   {
    "duration": 503,
    "start_time": "2024-12-30T20:54:03.716Z"
   },
   {
    "duration": 469,
    "start_time": "2024-12-30T20:54:04.221Z"
   },
   {
    "duration": 15,
    "start_time": "2024-12-30T20:54:04.692Z"
   },
   {
    "duration": 212,
    "start_time": "2024-12-30T20:54:04.709Z"
   },
   {
    "duration": 6,
    "start_time": "2024-12-30T20:54:04.925Z"
   },
   {
    "duration": 261,
    "start_time": "2024-12-30T20:54:04.933Z"
   },
   {
    "duration": 9,
    "start_time": "2024-12-30T20:54:05.195Z"
   },
   {
    "duration": 5,
    "start_time": "2024-12-30T20:54:05.206Z"
   },
   {
    "duration": 279,
    "start_time": "2024-12-30T20:54:05.212Z"
   },
   {
    "duration": 7,
    "start_time": "2024-12-30T20:54:05.493Z"
   },
   {
    "duration": 309,
    "start_time": "2024-12-30T20:54:05.501Z"
   },
   {
    "duration": 28,
    "start_time": "2024-12-30T20:54:05.811Z"
   },
   {
    "duration": 151,
    "start_time": "2024-12-30T20:54:05.840Z"
   },
   {
    "duration": 32,
    "start_time": "2024-12-30T20:54:05.993Z"
   },
   {
    "duration": 11,
    "start_time": "2024-12-30T20:54:06.026Z"
   },
   {
    "duration": 26,
    "start_time": "2024-12-30T20:54:06.039Z"
   },
   {
    "duration": 36,
    "start_time": "2024-12-30T20:54:06.071Z"
   },
   {
    "duration": 14,
    "start_time": "2024-12-30T20:54:06.108Z"
   },
   {
    "duration": 12,
    "start_time": "2024-12-30T20:54:25.693Z"
   },
   {
    "duration": 9,
    "start_time": "2024-12-30T21:01:41.092Z"
   },
   {
    "duration": 414,
    "start_time": "2024-12-30T21:03:06.113Z"
   },
   {
    "duration": 472,
    "start_time": "2024-12-30T21:03:23.844Z"
   },
   {
    "duration": 463,
    "start_time": "2024-12-30T21:03:37.231Z"
   },
   {
    "duration": 458,
    "start_time": "2024-12-30T21:03:52.599Z"
   },
   {
    "duration": 107,
    "start_time": "2024-12-30T21:05:28.463Z"
   },
   {
    "duration": 112,
    "start_time": "2024-12-30T21:05:31.392Z"
   },
   {
    "duration": 19,
    "start_time": "2024-12-30T21:07:23.061Z"
   },
   {
    "duration": 31,
    "start_time": "2024-12-30T21:07:39.977Z"
   },
   {
    "duration": 1173,
    "start_time": "2024-12-30T21:07:48.994Z"
   },
   {
    "duration": 122,
    "start_time": "2024-12-30T21:07:50.169Z"
   },
   {
    "duration": 11,
    "start_time": "2024-12-30T21:07:50.292Z"
   },
   {
    "duration": 17,
    "start_time": "2024-12-30T21:07:50.305Z"
   },
   {
    "duration": 4,
    "start_time": "2024-12-30T21:07:50.323Z"
   },
   {
    "duration": 21,
    "start_time": "2024-12-30T21:07:50.328Z"
   },
   {
    "duration": 10,
    "start_time": "2024-12-30T21:07:50.350Z"
   },
   {
    "duration": 9,
    "start_time": "2024-12-30T21:07:50.362Z"
   },
   {
    "duration": 7,
    "start_time": "2024-12-30T21:07:50.373Z"
   },
   {
    "duration": 43,
    "start_time": "2024-12-30T21:07:50.382Z"
   },
   {
    "duration": 7,
    "start_time": "2024-12-30T21:07:50.427Z"
   },
   {
    "duration": 9,
    "start_time": "2024-12-30T21:07:50.436Z"
   },
   {
    "duration": 9,
    "start_time": "2024-12-30T21:07:50.447Z"
   },
   {
    "duration": 18,
    "start_time": "2024-12-30T21:07:50.457Z"
   },
   {
    "duration": 12,
    "start_time": "2024-12-30T21:07:50.476Z"
   },
   {
    "duration": 320,
    "start_time": "2024-12-30T21:07:50.490Z"
   },
   {
    "duration": 9,
    "start_time": "2024-12-30T21:07:50.812Z"
   },
   {
    "duration": 477,
    "start_time": "2024-12-30T21:07:50.823Z"
   },
   {
    "duration": 9,
    "start_time": "2024-12-30T21:07:51.301Z"
   },
   {
    "duration": 21,
    "start_time": "2024-12-30T21:07:51.312Z"
   },
   {
    "duration": 33,
    "start_time": "2024-12-30T21:07:51.335Z"
   },
   {
    "duration": 9,
    "start_time": "2024-12-30T21:07:51.369Z"
   },
   {
    "duration": 406,
    "start_time": "2024-12-30T21:07:51.380Z"
   },
   {
    "duration": 513,
    "start_time": "2024-12-30T21:07:51.788Z"
   },
   {
    "duration": 496,
    "start_time": "2024-12-30T21:07:52.302Z"
   },
   {
    "duration": 500,
    "start_time": "2024-12-30T21:07:52.801Z"
   },
   {
    "duration": 14,
    "start_time": "2024-12-30T21:07:53.303Z"
   },
   {
    "duration": 188,
    "start_time": "2024-12-30T21:07:53.320Z"
   },
   {
    "duration": 8,
    "start_time": "2024-12-30T21:07:53.510Z"
   },
   {
    "duration": 288,
    "start_time": "2024-12-30T21:07:53.519Z"
   },
   {
    "duration": 9,
    "start_time": "2024-12-30T21:07:53.808Z"
   },
   {
    "duration": 4,
    "start_time": "2024-12-30T21:07:53.818Z"
   },
   {
    "duration": 311,
    "start_time": "2024-12-30T21:07:53.824Z"
   },
   {
    "duration": 9,
    "start_time": "2024-12-30T21:07:54.138Z"
   },
   {
    "duration": 117,
    "start_time": "2024-12-30T21:07:54.150Z"
   },
   {
    "duration": 119,
    "start_time": "2024-12-30T21:07:54.270Z"
   },
   {
    "duration": 0,
    "start_time": "2024-12-30T21:07:54.390Z"
   },
   {
    "duration": 0,
    "start_time": "2024-12-30T21:07:54.392Z"
   },
   {
    "duration": 0,
    "start_time": "2024-12-30T21:07:54.393Z"
   },
   {
    "duration": 0,
    "start_time": "2024-12-30T21:07:54.394Z"
   },
   {
    "duration": 0,
    "start_time": "2024-12-30T21:07:54.395Z"
   },
   {
    "duration": 0,
    "start_time": "2024-12-30T21:07:54.396Z"
   },
   {
    "duration": 45,
    "start_time": "2024-12-30T21:11:18.048Z"
   },
   {
    "duration": 1182,
    "start_time": "2024-12-30T21:11:34.816Z"
   },
   {
    "duration": 107,
    "start_time": "2024-12-30T21:11:36.000Z"
   },
   {
    "duration": 12,
    "start_time": "2024-12-30T21:11:36.109Z"
   },
   {
    "duration": 13,
    "start_time": "2024-12-30T21:11:36.123Z"
   },
   {
    "duration": 22,
    "start_time": "2024-12-30T21:11:36.138Z"
   },
   {
    "duration": 11,
    "start_time": "2024-12-30T21:11:36.162Z"
   },
   {
    "duration": 21,
    "start_time": "2024-12-30T21:11:36.175Z"
   },
   {
    "duration": 18,
    "start_time": "2024-12-30T21:11:36.198Z"
   },
   {
    "duration": 39,
    "start_time": "2024-12-30T21:11:36.218Z"
   },
   {
    "duration": 11,
    "start_time": "2024-12-30T21:11:36.260Z"
   },
   {
    "duration": 9,
    "start_time": "2024-12-30T21:11:36.273Z"
   },
   {
    "duration": 16,
    "start_time": "2024-12-30T21:11:36.284Z"
   },
   {
    "duration": 14,
    "start_time": "2024-12-30T21:11:36.302Z"
   },
   {
    "duration": 14,
    "start_time": "2024-12-30T21:11:36.318Z"
   },
   {
    "duration": 31,
    "start_time": "2024-12-30T21:11:36.334Z"
   },
   {
    "duration": 338,
    "start_time": "2024-12-30T21:11:36.367Z"
   },
   {
    "duration": 10,
    "start_time": "2024-12-30T21:11:36.707Z"
   },
   {
    "duration": 494,
    "start_time": "2024-12-30T21:11:36.718Z"
   },
   {
    "duration": 9,
    "start_time": "2024-12-30T21:11:37.213Z"
   },
   {
    "duration": 8,
    "start_time": "2024-12-30T21:11:37.223Z"
   },
   {
    "duration": 25,
    "start_time": "2024-12-30T21:11:37.232Z"
   },
   {
    "duration": 11,
    "start_time": "2024-12-30T21:11:37.270Z"
   },
   {
    "duration": 369,
    "start_time": "2024-12-30T21:11:37.282Z"
   },
   {
    "duration": 465,
    "start_time": "2024-12-30T21:11:37.652Z"
   },
   {
    "duration": 513,
    "start_time": "2024-12-30T21:11:38.118Z"
   },
   {
    "duration": 572,
    "start_time": "2024-12-30T21:11:38.633Z"
   },
   {
    "duration": 16,
    "start_time": "2024-12-30T21:11:39.207Z"
   },
   {
    "duration": 184,
    "start_time": "2024-12-30T21:11:39.228Z"
   },
   {
    "duration": 6,
    "start_time": "2024-12-30T21:11:39.414Z"
   },
   {
    "duration": 257,
    "start_time": "2024-12-30T21:11:39.422Z"
   },
   {
    "duration": 8,
    "start_time": "2024-12-30T21:11:39.681Z"
   },
   {
    "duration": 3,
    "start_time": "2024-12-30T21:11:39.691Z"
   },
   {
    "duration": 283,
    "start_time": "2024-12-30T21:11:39.696Z"
   },
   {
    "duration": 6,
    "start_time": "2024-12-30T21:11:39.981Z"
   },
   {
    "duration": 237,
    "start_time": "2024-12-30T21:11:39.988Z"
   },
   {
    "duration": 0,
    "start_time": "2024-12-30T21:11:40.227Z"
   },
   {
    "duration": 0,
    "start_time": "2024-12-30T21:11:40.228Z"
   },
   {
    "duration": 0,
    "start_time": "2024-12-30T21:11:40.230Z"
   },
   {
    "duration": 0,
    "start_time": "2024-12-30T21:11:40.231Z"
   },
   {
    "duration": 0,
    "start_time": "2024-12-30T21:11:40.233Z"
   },
   {
    "duration": 0,
    "start_time": "2024-12-30T21:11:40.234Z"
   },
   {
    "duration": 0,
    "start_time": "2024-12-30T21:11:40.236Z"
   },
   {
    "duration": 103,
    "start_time": "2024-12-30T21:14:27.869Z"
   },
   {
    "duration": 115,
    "start_time": "2024-12-30T21:14:28.588Z"
   },
   {
    "duration": 30,
    "start_time": "2024-12-30T21:14:31.095Z"
   },
   {
    "duration": 11,
    "start_time": "2024-12-30T21:26:35.557Z"
   },
   {
    "duration": 1142,
    "start_time": "2024-12-30T21:26:52.806Z"
   },
   {
    "duration": 258,
    "start_time": "2024-12-30T21:26:53.950Z"
   },
   {
    "duration": 11,
    "start_time": "2024-12-30T21:26:54.210Z"
   },
   {
    "duration": 30,
    "start_time": "2024-12-30T21:26:54.223Z"
   },
   {
    "duration": 17,
    "start_time": "2024-12-30T21:26:54.254Z"
   },
   {
    "duration": 17,
    "start_time": "2024-12-30T21:26:54.273Z"
   },
   {
    "duration": 10,
    "start_time": "2024-12-30T21:26:54.292Z"
   },
   {
    "duration": 6,
    "start_time": "2024-12-30T21:26:54.304Z"
   },
   {
    "duration": 20,
    "start_time": "2024-12-30T21:26:54.312Z"
   },
   {
    "duration": 23,
    "start_time": "2024-12-30T21:26:54.334Z"
   },
   {
    "duration": 11,
    "start_time": "2024-12-30T21:26:54.358Z"
   },
   {
    "duration": 4,
    "start_time": "2024-12-30T21:26:54.370Z"
   },
   {
    "duration": 8,
    "start_time": "2024-12-30T21:26:54.375Z"
   },
   {
    "duration": 13,
    "start_time": "2024-12-30T21:26:54.384Z"
   },
   {
    "duration": 12,
    "start_time": "2024-12-30T21:26:54.398Z"
   },
   {
    "duration": 326,
    "start_time": "2024-12-30T21:26:54.411Z"
   },
   {
    "duration": 8,
    "start_time": "2024-12-30T21:26:54.739Z"
   },
   {
    "duration": 470,
    "start_time": "2024-12-30T21:26:54.748Z"
   },
   {
    "duration": 9,
    "start_time": "2024-12-30T21:26:55.219Z"
   },
   {
    "duration": 18,
    "start_time": "2024-12-30T21:26:55.229Z"
   },
   {
    "duration": 23,
    "start_time": "2024-12-30T21:26:55.248Z"
   },
   {
    "duration": 8,
    "start_time": "2024-12-30T21:26:55.273Z"
   },
   {
    "duration": 398,
    "start_time": "2024-12-30T21:26:55.282Z"
   },
   {
    "duration": 528,
    "start_time": "2024-12-30T21:26:55.682Z"
   },
   {
    "duration": 506,
    "start_time": "2024-12-30T21:26:56.212Z"
   },
   {
    "duration": 486,
    "start_time": "2024-12-30T21:26:56.720Z"
   },
   {
    "duration": 16,
    "start_time": "2024-12-30T21:26:57.208Z"
   },
   {
    "duration": 189,
    "start_time": "2024-12-30T21:26:57.228Z"
   },
   {
    "duration": 8,
    "start_time": "2024-12-30T21:26:57.418Z"
   },
   {
    "duration": 264,
    "start_time": "2024-12-30T21:26:57.428Z"
   },
   {
    "duration": 9,
    "start_time": "2024-12-30T21:26:57.694Z"
   },
   {
    "duration": 9,
    "start_time": "2024-12-30T21:26:57.704Z"
   },
   {
    "duration": 332,
    "start_time": "2024-12-30T21:26:57.715Z"
   },
   {
    "duration": 7,
    "start_time": "2024-12-30T21:26:58.048Z"
   },
   {
    "duration": 173,
    "start_time": "2024-12-30T21:26:58.056Z"
   },
   {
    "duration": 120,
    "start_time": "2024-12-30T21:26:58.231Z"
   },
   {
    "duration": 31,
    "start_time": "2024-12-30T21:26:58.353Z"
   },
   {
    "duration": 169,
    "start_time": "2024-12-30T21:26:58.386Z"
   },
   {
    "duration": 39,
    "start_time": "2024-12-30T21:26:58.557Z"
   },
   {
    "duration": 14,
    "start_time": "2024-12-30T21:26:58.597Z"
   },
   {
    "duration": 11,
    "start_time": "2024-12-30T21:26:58.612Z"
   },
   {
    "duration": 50,
    "start_time": "2024-12-30T21:26:58.625Z"
   },
   {
    "duration": 15,
    "start_time": "2024-12-30T21:26:58.677Z"
   },
   {
    "duration": 9,
    "start_time": "2024-12-30T21:28:14.803Z"
   },
   {
    "duration": 32,
    "start_time": "2024-12-30T21:34:50.380Z"
   },
   {
    "duration": 18,
    "start_time": "2024-12-30T21:44:24.167Z"
   },
   {
    "duration": 1241,
    "start_time": "2024-12-30T21:44:36.245Z"
   },
   {
    "duration": 147,
    "start_time": "2024-12-30T21:44:37.488Z"
   },
   {
    "duration": 12,
    "start_time": "2024-12-30T21:44:37.636Z"
   },
   {
    "duration": 24,
    "start_time": "2024-12-30T21:44:37.651Z"
   },
   {
    "duration": 4,
    "start_time": "2024-12-30T21:44:37.677Z"
   },
   {
    "duration": 9,
    "start_time": "2024-12-30T21:44:37.683Z"
   },
   {
    "duration": 15,
    "start_time": "2024-12-30T21:44:37.694Z"
   },
   {
    "duration": 16,
    "start_time": "2024-12-30T21:44:37.710Z"
   },
   {
    "duration": 5,
    "start_time": "2024-12-30T21:44:37.728Z"
   },
   {
    "duration": 13,
    "start_time": "2024-12-30T21:44:37.736Z"
   },
   {
    "duration": 24,
    "start_time": "2024-12-30T21:44:37.750Z"
   },
   {
    "duration": 4,
    "start_time": "2024-12-30T21:44:37.776Z"
   },
   {
    "duration": 4,
    "start_time": "2024-12-30T21:44:37.782Z"
   },
   {
    "duration": 13,
    "start_time": "2024-12-30T21:44:37.788Z"
   },
   {
    "duration": 17,
    "start_time": "2024-12-30T21:44:37.803Z"
   },
   {
    "duration": 327,
    "start_time": "2024-12-30T21:44:37.821Z"
   },
   {
    "duration": 20,
    "start_time": "2024-12-30T21:44:38.150Z"
   },
   {
    "duration": 444,
    "start_time": "2024-12-30T21:44:38.172Z"
   },
   {
    "duration": 9,
    "start_time": "2024-12-30T21:44:38.617Z"
   },
   {
    "duration": 8,
    "start_time": "2024-12-30T21:44:38.628Z"
   },
   {
    "duration": 33,
    "start_time": "2024-12-30T21:44:38.638Z"
   },
   {
    "duration": 8,
    "start_time": "2024-12-30T21:44:38.673Z"
   },
   {
    "duration": 421,
    "start_time": "2024-12-30T21:44:38.682Z"
   },
   {
    "duration": 483,
    "start_time": "2024-12-30T21:44:39.105Z"
   },
   {
    "duration": 498,
    "start_time": "2024-12-30T21:44:39.590Z"
   },
   {
    "duration": 508,
    "start_time": "2024-12-30T21:44:40.090Z"
   },
   {
    "duration": 15,
    "start_time": "2024-12-30T21:44:40.600Z"
   },
   {
    "duration": 185,
    "start_time": "2024-12-30T21:44:40.618Z"
   },
   {
    "duration": 7,
    "start_time": "2024-12-30T21:44:40.805Z"
   },
   {
    "duration": 362,
    "start_time": "2024-12-30T21:44:40.813Z"
   },
   {
    "duration": 8,
    "start_time": "2024-12-30T21:44:41.177Z"
   },
   {
    "duration": 4,
    "start_time": "2024-12-30T21:44:41.186Z"
   },
   {
    "duration": 291,
    "start_time": "2024-12-30T21:44:41.192Z"
   },
   {
    "duration": 7,
    "start_time": "2024-12-30T21:44:41.484Z"
   },
   {
    "duration": 171,
    "start_time": "2024-12-30T21:44:41.492Z"
   },
   {
    "duration": 122,
    "start_time": "2024-12-30T21:44:41.670Z"
   },
   {
    "duration": 27,
    "start_time": "2024-12-30T21:44:41.794Z"
   },
   {
    "duration": 140,
    "start_time": "2024-12-30T21:44:41.823Z"
   },
   {
    "duration": 36,
    "start_time": "2024-12-30T21:44:41.965Z"
   },
   {
    "duration": 10,
    "start_time": "2024-12-30T21:44:42.002Z"
   },
   {
    "duration": 9,
    "start_time": "2024-12-30T21:44:42.014Z"
   },
   {
    "duration": 54,
    "start_time": "2024-12-30T21:44:42.025Z"
   },
   {
    "duration": 16,
    "start_time": "2024-12-30T21:44:42.081Z"
   },
   {
    "duration": 1190,
    "start_time": "2024-12-31T04:27:08.325Z"
   },
   {
    "duration": 394,
    "start_time": "2024-12-31T04:27:09.517Z"
   },
   {
    "duration": 11,
    "start_time": "2024-12-31T04:27:09.912Z"
   },
   {
    "duration": 12,
    "start_time": "2024-12-31T04:27:09.924Z"
   },
   {
    "duration": 9,
    "start_time": "2024-12-31T04:27:09.942Z"
   },
   {
    "duration": 10,
    "start_time": "2024-12-31T04:27:09.953Z"
   },
   {
    "duration": 8,
    "start_time": "2024-12-31T04:27:09.964Z"
   },
   {
    "duration": 4,
    "start_time": "2024-12-31T04:27:09.974Z"
   },
   {
    "duration": 6,
    "start_time": "2024-12-31T04:27:09.980Z"
   },
   {
    "duration": 15,
    "start_time": "2024-12-31T04:27:09.989Z"
   },
   {
    "duration": 46,
    "start_time": "2024-12-31T04:27:10.007Z"
   },
   {
    "duration": 7,
    "start_time": "2024-12-31T04:27:10.055Z"
   },
   {
    "duration": 9,
    "start_time": "2024-12-31T04:27:10.064Z"
   },
   {
    "duration": 12,
    "start_time": "2024-12-31T04:27:10.076Z"
   },
   {
    "duration": 12,
    "start_time": "2024-12-31T04:27:10.089Z"
   },
   {
    "duration": 320,
    "start_time": "2024-12-31T04:27:10.103Z"
   },
   {
    "duration": 17,
    "start_time": "2024-12-31T04:27:10.424Z"
   },
   {
    "duration": 454,
    "start_time": "2024-12-31T04:27:10.443Z"
   },
   {
    "duration": 8,
    "start_time": "2024-12-31T04:27:10.898Z"
   },
   {
    "duration": 28,
    "start_time": "2024-12-31T04:27:10.907Z"
   },
   {
    "duration": 18,
    "start_time": "2024-12-31T04:27:10.937Z"
   },
   {
    "duration": 8,
    "start_time": "2024-12-31T04:27:10.956Z"
   },
   {
    "duration": 402,
    "start_time": "2024-12-31T04:27:10.965Z"
   },
   {
    "duration": 512,
    "start_time": "2024-12-31T04:27:11.369Z"
   },
   {
    "duration": 489,
    "start_time": "2024-12-31T04:27:11.882Z"
   },
   {
    "duration": 498,
    "start_time": "2024-12-31T04:27:12.372Z"
   },
   {
    "duration": 14,
    "start_time": "2024-12-31T04:27:12.872Z"
   },
   {
    "duration": 175,
    "start_time": "2024-12-31T04:27:12.887Z"
   },
   {
    "duration": 6,
    "start_time": "2024-12-31T04:27:13.064Z"
   },
   {
    "duration": 256,
    "start_time": "2024-12-31T04:27:13.072Z"
   },
   {
    "duration": 10,
    "start_time": "2024-12-31T04:27:13.329Z"
   },
   {
    "duration": 15,
    "start_time": "2024-12-31T04:27:13.341Z"
   },
   {
    "duration": 289,
    "start_time": "2024-12-31T04:27:13.357Z"
   },
   {
    "duration": 9,
    "start_time": "2024-12-31T04:27:13.648Z"
   },
   {
    "duration": 179,
    "start_time": "2024-12-31T04:27:13.658Z"
   },
   {
    "duration": 123,
    "start_time": "2024-12-31T04:27:13.839Z"
   },
   {
    "duration": 27,
    "start_time": "2024-12-31T04:27:13.964Z"
   },
   {
    "duration": 148,
    "start_time": "2024-12-31T04:27:13.993Z"
   },
   {
    "duration": 35,
    "start_time": "2024-12-31T04:27:14.143Z"
   },
   {
    "duration": 10,
    "start_time": "2024-12-31T04:27:14.180Z"
   },
   {
    "duration": 59,
    "start_time": "2024-12-31T04:27:14.193Z"
   },
   {
    "duration": 29,
    "start_time": "2024-12-31T04:27:14.254Z"
   },
   {
    "duration": 20,
    "start_time": "2024-12-31T04:27:14.284Z"
   }
  ],
  "kernelspec": {
   "display_name": "Python 3 (ipykernel)",
   "language": "python",
   "name": "python3"
  },
  "language_info": {
   "codemirror_mode": {
    "name": "ipython",
    "version": 3
   },
   "file_extension": ".py",
   "mimetype": "text/x-python",
   "name": "python",
   "nbconvert_exporter": "python",
   "pygments_lexer": "ipython3",
   "version": "3.12.7"
  },
  "toc": {
   "base_numbering": 1,
   "nav_menu": {},
   "number_sections": true,
   "sideBar": true,
   "skip_h1_title": true,
   "title_cell": "Table of Contents",
   "title_sidebar": "Contents",
   "toc_cell": false,
   "toc_position": {},
   "toc_section_display": true,
   "toc_window_display": false
  }
 },
 "nbformat": 4,
 "nbformat_minor": 5
}
