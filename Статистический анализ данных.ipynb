{
 "cells": [
  {
   "cell_type": "markdown",
   "id": "3f4a958d-bc5d-47d5-8aa0-e1fea776d8b8",
   "metadata": {},
   "source": [
    "# Проект: Статистический анализ данных\n"
   ]
  },
  {
   "cell_type": "markdown",
   "id": "857ce043-f9ad-4296-89cd-9225a80ec351",
   "metadata": {},
   "source": [
    "## Описание данных\n",
    "\n",
    "Вы аналитик популярного сервиса аренды самокатов **GoFast**. Вам передали данные о некоторых пользователях из нескольких городов, а также об их поездках. Проанализируйте данные и проверьте некоторые гипотезы, которые могут помочь бизнесу вырасти.\n",
    "\n",
    "### Условия использования сервиса GoFast\n",
    "\n",
    "Для совершения поездок по городу пользователи сервиса GoFast используют мобильное приложение. Сервисом можно пользоваться:\n",
    "\n",
    "- **Без подписки**:\n",
    "  - Абонентская плата отсутствует;\n",
    "  - Стоимость одной минуты поездки — **8 рублей**;\n",
    "  - Стоимость старта (начала поездки) — **50 рублей**.\n",
    "\n",
    "- **С подпиской Ultra**:\n",
    "  - Абонентская плата — **199 рублей в месяц**;\n",
    "  - Стоимость одной минуты поездки — **6 рублей**;\n",
    "  - Стоимость старта — **бесплатно**."
   ]
  },
  {
   "cell_type": "markdown",
   "id": "6a7b8f5a-4e03-41c2-97e3-c97a43ab1089",
   "metadata": {},
   "source": [
    "## Описание данных\n",
    "\n",
    "В основных данных есть информация о пользователях, их поездках и подписках.\n",
    "\n",
    "### Пользователи — [users_go.csv](path/to/users_go.csv)\n",
    "- **user_id**: уникальный идентификатор пользователя\n",
    "- **name**: имя пользователя\n",
    "- **age**: возраст\n",
    "- **city**: город\n",
    "- **subscription_type**: тип подписки (free, ultra)\n",
    "\n",
    "### Поездки — [rides_go.csv](path/to/rides_go.csv)\n",
    "- **user_id**: уникальный идентификатор пользователя\n",
    "- **distance**: расстояние, которое пользователь проехал в текущей сессии (в метрах)\n",
    "- **duration**: продолжительность сессии (в минутах) — время с момента нажатия кнопки «Начать поездку» до нажатия кнопки «Завершить поездку»\n",
    "- **date**: дата совершения поездки\n",
    "\n",
    "### Подписки — [subscriptions_go.csv](path/to/subscriptions_go.csv)\n",
    "- **subscription_type**: тип подписки\n",
    "- **minute_price**: стоимость одной минуты поездки по данной подписке\n",
    "- **start_ride_price**: стоимость начала поездки\n",
    "- **subscription_fee**: стоимость ежемесячного платежа"
   ]
  },
  {
   "cell_type": "markdown",
   "id": "c49968df-d381-4be1-9c76-c300caeb4bdb",
   "metadata": {},
   "source": [
    "# Основные этапы исследования:\n",
    "- **Шаг 1.** Загрузка данных\n",
    "- **Шаг 2.** Предобработка данных\n",
    "- **Шаг 3.** Исследовательский анализ данных\n",
    "- **Шаг 4.** Объединение данных\n",
    "- **Шаг 5.** Подсчёт выручки\n",
    "- **Шаг 6.** Проверка гипотез\n",
    "- **Шаг 7.** Распределения"
   ]
  },
  {
   "cell_type": "markdown",
   "id": "9adeb2b9-8765-467c-9d63-365fc65ce02b",
   "metadata": {},
   "source": [
    "## Импортируем необходимые библиотеки"
   ]
  },
  {
   "cell_type": "code",
   "execution_count": 1,
   "id": "2964cea1-6fb3-4f08-b77a-a151ffa3e28e",
   "metadata": {},
   "outputs": [],
   "source": [
    "import pandas as pd\n",
    "import matplotlib.pyplot as plt\n",
    "import numpy as np\n",
    "from scipy import stats as st\n",
    "from scipy.stats import binom\n",
    "from scipy import stats\n",
    "import seaborn as sns\n",
    "sns.set(style=\"whitegrid\")"
   ]
  },
  {
   "cell_type": "markdown",
   "id": "cd4833e5-cd2b-4414-95df-b9411415f640",
   "metadata": {},
   "source": [
    "# Зададим необходимые функции"
   ]
  },
  {
   "cell_type": "markdown",
   "id": "8cb0a42f-0fe5-40de-83e6-1b0c8fe929e1",
   "metadata": {},
   "source": [
    "### Функция для отображения количества пользователей на круговой диаграмме"
   ]
  },
  {
   "cell_type": "code",
   "execution_count": 2,
   "id": "29df4570-f2a1-47d8-9374-d11f34414db9",
   "metadata": {},
   "outputs": [],
   "source": [
    "def func(pct, allvalues):\n",
    "    total = sum(allvalues)\n",
    "    absolute = int(pct / 100. * total)\n",
    "    return f\"{pct:.1f}%\\n({absolute:d})\" #Создаем круговую диаграмму"
   ]
  },
  {
   "cell_type": "markdown",
   "id": "f365b42c-5c78-45a4-add6-3cd82a501e14",
   "metadata": {},
   "source": [
    "### Функция для расчета помесячной выручки"
   ]
  },
  {
   "cell_type": "code",
   "execution_count": 3,
   "id": "39843f9a-f043-4de5-af54-bfd85fbb7740",
   "metadata": {},
   "outputs": [],
   "source": [
    "# Создаем функцию для расчета помесячной выручки\n",
    "def calculate_monthly_revenue(group):\n",
    "    total_duration = group['duration'].sum()  # Общее время всех поездок\n",
    "    ride_count = group['duration'].count()  # Количество поездок\n",
    "    if group['subscription_type'].iloc[0] == 'ultra':\n",
    "        monthly_revenue = (ride_count * group['start_ride_price'].iloc[0] +\n",
    "                           total_duration * group['minute_price'].iloc[0] +\n",
    "                           group['subscription_fee'].iloc[0])\n",
    "    else:\n",
    "        monthly_revenue = (ride_count * group['start_ride_price'].iloc[0] +\n",
    "                           total_duration * group['minute_price'].iloc[0])\n",
    "    \n",
    "    return pd.Series(monthly_revenue, index=['monthly_revenue'])"
   ]
  },
  {
   "cell_type": "markdown",
   "id": "e0811ae0-d6ff-4575-9411-3ac5f8c7b2c1",
   "metadata": {},
   "source": [
    "# Шаг 1. Загрузка и изучение данных"
   ]
  },
  {
   "cell_type": "code",
   "execution_count": 5,
   "id": "dae38040-1ed1-4119-9964-5868e8087620",
   "metadata": {},
   "outputs": [
    {
     "name": "stdout",
     "output_type": "stream",
     "text": [
      "rides_go.csv успешно загружен.\n",
      "subscriptions_go.csv успешно загружен.\n",
      "users_go.csv успешно загружен.\n"
     ]
    }
   ],
   "source": [
    "rides_url = 'https://code.s3.yandex.net/datasets/rides_go.csv'\n",
    "subscriptions_url = 'https://code.s3.yandex.net/datasets/subscriptions_go.csv'\n",
    "users_url = 'https://code.s3.yandex.net/datasets/users_go.csv'\n",
    "# Инициализация переменных для DataFrame\n",
    "rides_df = None\n",
    "subscriptions_df = None\n",
    "users_df = None\n",
    "\n",
    "# Чтение файла rides\n",
    "try:\n",
    "    rides_df = pd.read_csv(rides_url)\n",
    "    print(\"rides_go.csv успешно загружен.\")\n",
    "except Exception as e:\n",
    "    print(f\"Ошибка при загрузке rides_go.csv: {e}\")\n",
    "\n",
    "# Чтение файла subscriptions\n",
    "try:\n",
    "    subscriptions_df = pd.read_csv(subscriptions_url)\n",
    "    print(\"subscriptions_go.csv успешно загружен.\")\n",
    "except Exception as e:\n",
    "    print(f\"Ошибка при загрузке subscriptions_go.csv: {e}\")\n",
    "\n",
    "# Чтение файла users\n",
    "try:\n",
    "    users_df = pd.read_csv(users_url)\n",
    "    print(\"users_go.csv успешно загружен.\")\n",
    "except Exception as e:\n",
    "    print(f\"Ошибка при загрузке users_go.csv: {e}\")"
   ]
  },
  {
   "cell_type": "code",
   "execution_count": 6,
   "id": "e2f4027c-7ecf-4053-95eb-fad3e85cc084",
   "metadata": {},
   "outputs": [
    {
     "name": "stdout",
     "output_type": "stream",
     "text": [
      "<class 'pandas.core.frame.DataFrame'>\n",
      "RangeIndex: 18068 entries, 0 to 18067\n",
      "Data columns (total 4 columns):\n",
      " #   Column    Non-Null Count  Dtype  \n",
      "---  ------    --------------  -----  \n",
      " 0   user_id   18068 non-null  int64  \n",
      " 1   distance  18068 non-null  float64\n",
      " 2   duration  18068 non-null  float64\n",
      " 3   date      18068 non-null  object \n",
      "dtypes: float64(2), int64(1), object(1)\n",
      "memory usage: 564.8+ KB\n",
      "<class 'pandas.core.frame.DataFrame'>\n",
      "RangeIndex: 2 entries, 0 to 1\n",
      "Data columns (total 4 columns):\n",
      " #   Column             Non-Null Count  Dtype \n",
      "---  ------             --------------  ----- \n",
      " 0   subscription_type  2 non-null      object\n",
      " 1   minute_price       2 non-null      int64 \n",
      " 2   start_ride_price   2 non-null      int64 \n",
      " 3   subscription_fee   2 non-null      int64 \n",
      "dtypes: int64(3), object(1)\n",
      "memory usage: 192.0+ bytes\n",
      "<class 'pandas.core.frame.DataFrame'>\n",
      "RangeIndex: 1565 entries, 0 to 1564\n",
      "Data columns (total 5 columns):\n",
      " #   Column             Non-Null Count  Dtype \n",
      "---  ------             --------------  ----- \n",
      " 0   user_id            1565 non-null   int64 \n",
      " 1   name               1565 non-null   object\n",
      " 2   age                1565 non-null   int64 \n",
      " 3   city               1565 non-null   object\n",
      " 4   subscription_type  1565 non-null   object\n",
      "dtypes: int64(2), object(3)\n",
      "memory usage: 61.3+ KB\n"
     ]
    }
   ],
   "source": [
    "rides_df.info()\n",
    "subscriptions_df.info()\n",
    "users_df.info()"
   ]
  },
  {
   "cell_type": "code",
   "execution_count": 7,
   "id": "bd54bbe5",
   "metadata": {},
   "outputs": [
    {
     "data": {
      "text/html": [
       "<div>\n",
       "<style scoped>\n",
       "    .dataframe tbody tr th:only-of-type {\n",
       "        vertical-align: middle;\n",
       "    }\n",
       "\n",
       "    .dataframe tbody tr th {\n",
       "        vertical-align: top;\n",
       "    }\n",
       "\n",
       "    .dataframe thead th {\n",
       "        text-align: right;\n",
       "    }\n",
       "</style>\n",
       "<table border=\"1\" class=\"dataframe\">\n",
       "  <thead>\n",
       "    <tr style=\"text-align: right;\">\n",
       "      <th></th>\n",
       "      <th>user_id</th>\n",
       "      <th>distance</th>\n",
       "      <th>duration</th>\n",
       "      <th>date</th>\n",
       "    </tr>\n",
       "  </thead>\n",
       "  <tbody>\n",
       "    <tr>\n",
       "      <th>0</th>\n",
       "      <td>1</td>\n",
       "      <td>4409.919140</td>\n",
       "      <td>25.599769</td>\n",
       "      <td>2021-01-01</td>\n",
       "    </tr>\n",
       "    <tr>\n",
       "      <th>1</th>\n",
       "      <td>1</td>\n",
       "      <td>2617.592153</td>\n",
       "      <td>15.816871</td>\n",
       "      <td>2021-01-18</td>\n",
       "    </tr>\n",
       "    <tr>\n",
       "      <th>2</th>\n",
       "      <td>1</td>\n",
       "      <td>754.159807</td>\n",
       "      <td>6.232113</td>\n",
       "      <td>2021-04-20</td>\n",
       "    </tr>\n",
       "    <tr>\n",
       "      <th>3</th>\n",
       "      <td>1</td>\n",
       "      <td>2694.783254</td>\n",
       "      <td>18.511000</td>\n",
       "      <td>2021-08-11</td>\n",
       "    </tr>\n",
       "    <tr>\n",
       "      <th>4</th>\n",
       "      <td>1</td>\n",
       "      <td>4028.687306</td>\n",
       "      <td>26.265803</td>\n",
       "      <td>2021-08-28</td>\n",
       "    </tr>\n",
       "  </tbody>\n",
       "</table>\n",
       "</div>"
      ],
      "text/plain": [
       "   user_id     distance   duration        date\n",
       "0        1  4409.919140  25.599769  2021-01-01\n",
       "1        1  2617.592153  15.816871  2021-01-18\n",
       "2        1   754.159807   6.232113  2021-04-20\n",
       "3        1  2694.783254  18.511000  2021-08-11\n",
       "4        1  4028.687306  26.265803  2021-08-28"
      ]
     },
     "execution_count": 7,
     "metadata": {},
     "output_type": "execute_result"
    }
   ],
   "source": [
    "rides_df.head()"
   ]
  },
  {
   "cell_type": "code",
   "execution_count": 8,
   "id": "4bcf8249-6a5c-4d8f-9f68-84664d0f6f1e",
   "metadata": {},
   "outputs": [
    {
     "data": {
      "text/html": [
       "<div>\n",
       "<style scoped>\n",
       "    .dataframe tbody tr th:only-of-type {\n",
       "        vertical-align: middle;\n",
       "    }\n",
       "\n",
       "    .dataframe tbody tr th {\n",
       "        vertical-align: top;\n",
       "    }\n",
       "\n",
       "    .dataframe thead th {\n",
       "        text-align: right;\n",
       "    }\n",
       "</style>\n",
       "<table border=\"1\" class=\"dataframe\">\n",
       "  <thead>\n",
       "    <tr style=\"text-align: right;\">\n",
       "      <th></th>\n",
       "      <th>user_id</th>\n",
       "      <th>name</th>\n",
       "      <th>age</th>\n",
       "      <th>city</th>\n",
       "      <th>subscription_type</th>\n",
       "    </tr>\n",
       "  </thead>\n",
       "  <tbody>\n",
       "    <tr>\n",
       "      <th>0</th>\n",
       "      <td>1</td>\n",
       "      <td>Кира</td>\n",
       "      <td>22</td>\n",
       "      <td>Тюмень</td>\n",
       "      <td>ultra</td>\n",
       "    </tr>\n",
       "    <tr>\n",
       "      <th>1</th>\n",
       "      <td>2</td>\n",
       "      <td>Станислав</td>\n",
       "      <td>31</td>\n",
       "      <td>Омск</td>\n",
       "      <td>ultra</td>\n",
       "    </tr>\n",
       "    <tr>\n",
       "      <th>2</th>\n",
       "      <td>3</td>\n",
       "      <td>Алексей</td>\n",
       "      <td>20</td>\n",
       "      <td>Москва</td>\n",
       "      <td>ultra</td>\n",
       "    </tr>\n",
       "    <tr>\n",
       "      <th>3</th>\n",
       "      <td>4</td>\n",
       "      <td>Константин</td>\n",
       "      <td>26</td>\n",
       "      <td>Ростов-на-Дону</td>\n",
       "      <td>ultra</td>\n",
       "    </tr>\n",
       "    <tr>\n",
       "      <th>4</th>\n",
       "      <td>5</td>\n",
       "      <td>Адель</td>\n",
       "      <td>28</td>\n",
       "      <td>Омск</td>\n",
       "      <td>ultra</td>\n",
       "    </tr>\n",
       "  </tbody>\n",
       "</table>\n",
       "</div>"
      ],
      "text/plain": [
       "   user_id        name  age            city subscription_type\n",
       "0        1        Кира   22          Тюмень             ultra\n",
       "1        2   Станислав   31            Омск             ultra\n",
       "2        3     Алексей   20          Москва             ultra\n",
       "3        4  Константин   26  Ростов-на-Дону             ultra\n",
       "4        5       Адель   28            Омск             ultra"
      ]
     },
     "execution_count": 8,
     "metadata": {},
     "output_type": "execute_result"
    }
   ],
   "source": [
    "users_df.head()"
   ]
  },
  {
   "cell_type": "code",
   "execution_count": null,
   "id": "4a660749",
   "metadata": {},
   "outputs": [],
   "source": []
  },
  {
   "cell_type": "code",
   "execution_count": 9,
   "id": "8ecd0ac9-5740-472b-a66b-b22a0959bb72",
   "metadata": {},
   "outputs": [
    {
     "data": {
      "text/html": [
       "<div>\n",
       "<style scoped>\n",
       "    .dataframe tbody tr th:only-of-type {\n",
       "        vertical-align: middle;\n",
       "    }\n",
       "\n",
       "    .dataframe tbody tr th {\n",
       "        vertical-align: top;\n",
       "    }\n",
       "\n",
       "    .dataframe thead th {\n",
       "        text-align: right;\n",
       "    }\n",
       "</style>\n",
       "<table border=\"1\" class=\"dataframe\">\n",
       "  <thead>\n",
       "    <tr style=\"text-align: right;\">\n",
       "      <th></th>\n",
       "      <th>subscription_type</th>\n",
       "      <th>minute_price</th>\n",
       "      <th>start_ride_price</th>\n",
       "      <th>subscription_fee</th>\n",
       "    </tr>\n",
       "  </thead>\n",
       "  <tbody>\n",
       "    <tr>\n",
       "      <th>0</th>\n",
       "      <td>free</td>\n",
       "      <td>8</td>\n",
       "      <td>50</td>\n",
       "      <td>0</td>\n",
       "    </tr>\n",
       "    <tr>\n",
       "      <th>1</th>\n",
       "      <td>ultra</td>\n",
       "      <td>6</td>\n",
       "      <td>0</td>\n",
       "      <td>199</td>\n",
       "    </tr>\n",
       "  </tbody>\n",
       "</table>\n",
       "</div>"
      ],
      "text/plain": [
       "  subscription_type  minute_price  start_ride_price  subscription_fee\n",
       "0              free             8                50                 0\n",
       "1             ultra             6                 0               199"
      ]
     },
     "execution_count": 9,
     "metadata": {},
     "output_type": "execute_result"
    }
   ],
   "source": [
    "subscriptions_df.head()"
   ]
  },
  {
   "cell_type": "code",
   "execution_count": 10,
   "id": "2f027a0b-1425-4b6d-9587-80b7ba3a93d1",
   "metadata": {},
   "outputs": [
    {
     "name": "stdout",
     "output_type": "stream",
     "text": [
      "Количество явных дубликатов в `users_df` =  31\n",
      "Количество явных дубликатов в `rides_df` =  0\n"
     ]
    }
   ],
   "source": [
    "print('Количество явных дубликатов в `users_df` = ', users_df.duplicated().sum())\n",
    "print('Количество явных дубликатов в `rides_df` = ', rides_df.duplicated().sum())"
   ]
  },
  {
   "cell_type": "markdown",
   "id": "cb6ef593-e206-487a-b917-0ab13f18cde1",
   "metadata": {},
   "source": [
    "### Вывод по шагу 1\n",
    "- В данных о поездках необходимо устранить 31 явный дубликат.\n",
    "- Даты в данных о поездках требуют преобразования в подходящий формат для последующего анализа.\n",
    "Данные рекомендации были применены, также мы открыли и изучили исходные файлы."
   ]
  },
  {
   "cell_type": "markdown",
   "id": "76aabd05-43ba-443b-be45-e3b938006f9f",
   "metadata": {},
   "source": [
    "# Шаг 2. Предобработка данных"
   ]
  },
  {
   "cell_type": "markdown",
   "id": "67295378-f7c8-4217-99af-b7289669a866",
   "metadata": {},
   "source": [
    "## Удалим явные дубликаты"
   ]
  },
  {
   "cell_type": "code",
   "execution_count": 11,
   "id": "1fa19d43-432c-402a-91e3-cdc1a183a054",
   "metadata": {},
   "outputs": [],
   "source": [
    "users_df = users_df.drop_duplicates()"
   ]
  },
  {
   "cell_type": "markdown",
   "id": "52b905f9-c1ee-4fe6-a70a-bbb8562eb9dd",
   "metadata": {},
   "source": [
    "### Выполним следующие действия\n",
    "\n",
    "1. **Ограничение значений distance**: \n",
    "   - Значения в столбце `distance` округляются до двух знаков после запятой.\n",
    "   \n",
    "2. **Округление значений duration**:\n",
    "   - Значения в столбце `duration` округляются вверх до ближайшего целого числа, преобразовывая в целые числа.\n",
    "   \n",
    "3. **Преобразование формата даты**:\n",
    "   - Столбец `date` преобразуется в формат даты.\n",
    "   \n",
    "4. **Извлечение месяца из даты**:\n",
    "   - Новый столбец `month` создается на основе столбца `date`."
   ]
  },
  {
   "cell_type": "code",
   "execution_count": 12,
   "id": "440a8043-d2b0-4ff9-91e8-9819faca5149",
   "metadata": {},
   "outputs": [],
   "source": [
    "rides_df['distance'] = rides_df['distance'].round(2)\n",
    "rides_df['duration'] = np.ceil(rides_df['duration']).astype('int')\n",
    "rides_df['date'] = pd.to_datetime(rides_df['date'], format='%Y-%m-%d')\n",
    "rides_df['month'] = rides_df['date'].dt.month\n",
    "rides_df['year'] = rides_df['date'].dt.year"
   ]
  },
  {
   "cell_type": "code",
   "execution_count": 13,
   "id": "2aa3354e",
   "metadata": {},
   "outputs": [
    {
     "name": "stdout",
     "output_type": "stream",
     "text": [
      "Период исследования: 2021-01-01 - 2021-12-30\n"
     ]
    }
   ],
   "source": [
    "# Находим минимальную и максимальную дату\n",
    "min_date = rides_df['date'].min()\n",
    "max_date = rides_df['date'].max()\n",
    "\n",
    "print(f\"Период исследования: {min_date.date()} - {max_date.date()}\")"
   ]
  },
  {
   "cell_type": "markdown",
   "id": "c4d09ae4",
   "metadata": {},
   "source": [
    "В датасете представлены данные за 2021 год"
   ]
  },
  {
   "cell_type": "markdown",
   "id": "7c6369ab",
   "metadata": {},
   "source": [
    "<font color='DarkBlue'><b>Комментарий ревьюера</b></font><br>\n",
    "<font color='DarkMagenta'>👉 Следовало проверить за какой период данные в датасете. Если данные за несколько лет, то номера месяцев будут в разных годах одинаковыми.</font>"
   ]
  },
  {
   "cell_type": "code",
   "execution_count": 14,
   "id": "9cfbcd2c",
   "metadata": {},
   "outputs": [
    {
     "name": "stdout",
     "output_type": "stream",
     "text": [
      "Отрицательные значения продолжительности: 0\n"
     ]
    },
    {
     "data": {
      "text/plain": [
       "count    18068.000000\n",
       "mean        18.303520\n",
       "std          6.094928\n",
       "min          1.000000\n",
       "25%         14.000000\n",
       "50%         18.000000\n",
       "75%         22.000000\n",
       "max         41.000000\n",
       "Name: duration, dtype: float64"
      ]
     },
     "execution_count": 14,
     "metadata": {},
     "output_type": "execute_result"
    }
   ],
   "source": [
    "# Проверяем на отрицательные значения\n",
    "negative_durations = rides_df[rides_df['duration'] < 0]\n",
    "print(f\"Отрицательные значения продолжительности: {len(negative_durations)}\")\n",
    "rides_df['duration'].describe()"
   ]
  },
  {
   "cell_type": "markdown",
   "id": "3cf0b27b",
   "metadata": {},
   "source": [
    "В столбце с продолжительностью поездки отсутствуют отрицательные значения. Среднее значение поездки составляет 18 минут 20 секунд. Максимальная продолжительность поездки составила 41 минуту. Я бы не назвал такой показатель аномальным выбросом. Данные в этом столбце в порядке."
   ]
  },
  {
   "cell_type": "markdown",
   "id": "d45fcebd-daa4-4d1b-ad34-c4df1fb69e6e",
   "metadata": {},
   "source": [
    "### Вывод о предобработке данных (шаг 2)\n",
    "Во время проведения предобработки данных:\n",
    "Для данных users_df:\n",
    "\n",
    "\n",
    "    \n",
    "\n",
    "Удалили дубликаты.\n",
    "\n",
    "Для данных rides_df:\n",
    "\n",
    "\n",
    "    \n",
    "\n",
    "Округлили distance в метрах до 2 знаков после запятой.\n",
    "\n",
    "    \n",
    "\n",
    "Округлили duration до целых чисел вверх и перевели в тип int.\n",
    "\n",
    "    \n",
    "\n",
    "Привели столбец date к типу datetime64.\n",
    "\n",
    "    \n",
    "\n",
    "Создали столбец month с номером месяца из date.\n",
    "\n",
    "\n",
    "Для данных subscriptions_df:\n",
    "\n",
    "\n",
    "\n",
    "    \n",
    "\n",
    "Изменений не проводили."
   ]
  },
  {
   "cell_type": "markdown",
   "id": "85800f91-99db-4dc1-8f55-18b494537b5f",
   "metadata": {},
   "source": [
    "### Шаг 3. Исследовательский анализ данных"
   ]
  },
  {
   "cell_type": "markdown",
   "id": "d1682fde-8e47-4169-823f-41aafd736656",
   "metadata": {},
   "source": [
    "### Построим круговую диаграмму с топ-10 городами по количеству пользователей"
   ]
  },
  {
   "cell_type": "code",
   "execution_count": 15,
   "id": "fe831b72-2430-4cc1-9232-0e0677bf4e26",
   "metadata": {},
   "outputs": [
    {
     "data": {
      "image/png": "[encoded data removed]",
      "text/plain": [
       "<Figure size 720x432 with 1 Axes>"
      ]
     },
     "metadata": {},
     "output_type": "display_data"
    }
   ],
   "source": [
    "city_counts = users_df['city'].value_counts().reset_index()\n",
    "city_counts.columns = ['city', 'user_count'] #Получаем топ-10 городов\n",
    "top_10_cities = city_counts.head(10) \n",
    "#Создаем круговую диаграмму\n",
    "plt.figure(figsize=(10, 6))\n",
    "#Используем user_count в качестве значений для размера секторов\n",
    "plt.pie(top_10_cities['user_count'], labels=top_10_cities['city'], autopct=lambda pct: func(pct, top_10_cities['user_count']), startangle=140)\n",
    "plt.title(\"Распределение пользователей по топ-10 городам\") #Задаем равные соотношения осей для правильного круга\n",
    "plt.axis('equal')\n",
    "\n",
    "\n",
    " #Копировать код\n",
    "plt.show()"
   ]
  },
  {
   "cell_type": "markdown",
   "id": "87965586-b70d-4876-9b83-3b7c2ebd740b",
   "metadata": {},
   "source": [
    "Анализ распространения пользователей самокатов по городам\n",
    "На графике мы заметили заметное преобладание южных городов среди пользователей самокатов, так как в северных регионах зима может создавать неудобства для использования самокатов, что напрямую влияет на их популярность. В южных регионах такого нет. Также преобладают крупные города, так как наличие в них высокой плотности населения делает их центрами для новых видов транспорта, таких как самокаты.\n",
    "\n",
    "Наибольшее количество пользователей самокатов зарегистрировано в следующих городах:\n",
    "\n",
    "\n",
    " Пятигорск             225                      \n",
    "\n",
    "\n",
    " Екатеринбург          205                      \n",
    "\n",
    "\n",
    " Ростов-на-Дону       202                      \n",
    "\n",
    "Неожиданные показатели\n",
    "\n",
    "Интересно отметить следующие моменты:\n",
    "\n",
    "Москва занимает лишь десятое место в этом списке - 172 пользователя, что выглядит неожиданным, учитывая ее статус мегаполиса.\n",
    "\n",
    "Санкт-Петербург и Казань также не вошли в десятку, что удивительно, так как эти города являются крупными и не относятся к северным регионам.\n",
    "\n",
    "Учитывая данные показатели, отделу маркетинга следует рассмотреть следующие аспекты:\n",
    "\n",
    "Важно выяснить, какие факторы влияют на количество пользователей в разных городах.\n",
    "\n",
    "Разработка стратегии повышения привлекательности самокатов в мегаполисах."
   ]
  },
  {
   "cell_type": "markdown",
   "id": "17804d52-fba4-43df-a4df-75cb7b98b456",
   "metadata": {},
   "source": [
    "### Построим диаграмму с соотношением пользователей с подпиской и без"
   ]
  },
  {
   "cell_type": "code",
   "execution_count": 16,
   "id": "61afa701-9084-4112-b67c-08a623f9cf1a",
   "metadata": {},
   "outputs": [
    {
     "data": {
      "image/png": "[encoded data removed]",
      "text/plain": [
       "<Figure size 576x432 with 1 Axes>"
      ]
     },
     "metadata": {},
     "output_type": "display_data"
    }
   ],
   "source": [
    "subscription_counts = users_df['subscription_type'].value_counts().reset_index()\n",
    "subscription_counts.columns = ['subscription_type', 'user_count']\n",
    "\n",
    "\n",
    "# Создаем круговую диаграмму\n",
    "plt.figure(figsize=(8, 6))\n",
    "plt.pie(subscription_counts['user_count'], \n",
    "        labels=subscription_counts['subscription_type'], \n",
    "        autopct=lambda pct: func(pct, subscription_counts['user_count']), \n",
    "        startangle=140)\n",
    "plt.title(\"Соотношение пользователей с подпиской и без подписки\")\n",
    "plt.axis('equal')  # Равные соотношения осей для правильного круга\n",
    "plt.show()"
   ]
  },
  {
   "cell_type": "markdown",
   "id": "4f9c6225-961a-431f-88c7-8b4145d74c8f",
   "metadata": {},
   "source": [
    "Пользователей без подписки больше, чем с подпиской."
   ]
  },
  {
   "cell_type": "markdown",
   "id": "8bd751fc-b22b-4ed8-9152-64c092c16f29",
   "metadata": {},
   "source": [
    "### График распределения возраста клиентов"
   ]
  },
  {
   "cell_type": "code",
   "execution_count": 17,
   "id": "4d31d26e",
   "metadata": {},
   "outputs": [
    {
     "data": {
      "text/plain": [
       "count    1534.000000\n",
       "mean       24.903520\n",
       "std         4.572367\n",
       "min        12.000000\n",
       "25%        22.000000\n",
       "50%        25.000000\n",
       "75%        28.000000\n",
       "max        43.000000\n",
       "Name: age, dtype: float64"
      ]
     },
     "execution_count": 17,
     "metadata": {},
     "output_type": "execute_result"
    }
   ],
   "source": [
    "users_df[\"age\"].describe()"
   ]
  },
  {
   "cell_type": "code",
   "execution_count": 18,
   "id": "e85d56c6-dea1-4f9e-9cb1-9fca304d1c75",
   "metadata": {},
   "outputs": [
    {
     "data": {
      "image/png": "[encoded data removed]",
      "text/plain": [
       "<Figure size 720x432 with 1 Axes>"
      ]
     },
     "metadata": {},
     "output_type": "display_data"
    }
   ],
   "source": [
    "# Гистограмма возраста пользователей\n",
    "plt.figure(figsize=(10, 6))\n",
    "plt.hist(users_df[\"age\"], bins=30, color=\"blue\", alpha=0.7)\n",
    "plt.title(\"Гистограмма возраста пользователей\")\n",
    "plt.xlabel(\"Возраст (г)\")\n",
    "plt.ylabel(\"Количество пользователей\")\n",
    "plt.grid(axis=\"y\")\n",
    "plt.show()"
   ]
  },
  {
   "cell_type": "markdown",
   "id": "711fdadc-8145-4d99-88b7-54aa96bef748",
   "metadata": {},
   "source": [
    "### Анализ возрастного распределения пользователей самокатов\n",
    "На представленном графике наблюдается нормальное распределение пользователей самокатов по возрастным категориям. Наибольшее количество пользователей отмечено в возрастной группе 25 лет. Это вполне логично, поскольку:\n",
    "\n",
    "\n",
    "    \n",
    "\n",
    "Дети: Использование самокатов детьми связано с определенными рисками, что делает такое катание небезопасным. Также сервису необходимо ужесточить контроль по отношению к несовершеннолетним пользователям. Согласно законодательству пользоваться самокатами разрешено по достижении 18 лет либо с 14 при согласии родителей.\n",
    "\n",
    "    \n",
    "\n",
    "Взрослые: Люди старшего возраста часто менее физически активны, что ограничивает их возможности использования самокатов."
   ]
  },
  {
   "cell_type": "markdown",
   "id": "e36c23fc-aa29-4452-8f9d-b9d8fff7a794",
   "metadata": {},
   "source": [
    "### График распределения расстояния поездок"
   ]
  },
  {
   "cell_type": "code",
   "execution_count": 19,
   "id": "18c289fb-417f-4908-80fe-b2f74c8ba000",
   "metadata": {},
   "outputs": [
    {
     "data": {
      "image/png": "[encoded data removed]",
      "text/plain": [
       "<Figure size 720x432 with 1 Axes>"
      ]
     },
     "metadata": {},
     "output_type": "display_data"
    }
   ],
   "source": [
    "# Гистограмма расстояния поездок\n",
    "plt.figure(figsize=(10, 6))\n",
    "plt.hist(rides_df[\"distance\"], bins=20, color=\"green\", alpha=0.7)\n",
    "plt.title(\"Расстояние поездок (м)\")\n",
    "plt.xlabel(\"Расстояние (м)\")\n",
    "plt.ylabel(\"Количество поездок\")\n",
    "plt.grid(axis=\"y\")\n",
    "plt.show()"
   ]
  },
  {
   "cell_type": "markdown",
   "id": "9307fccc-72c2-4781-a0ba-133a5acfa522",
   "metadata": {},
   "source": [
    "В основном мы видим, что наибольшее количество пользователей совершают поездку на расстояние 2,5-4 км. Также мы наблюдаем локальный максимум среди коротких поездок, который составляет 500 м."
   ]
  },
  {
   "cell_type": "markdown",
   "id": "0cf2b5df-724f-4966-9f2d-74bb0f89fd89",
   "metadata": {},
   "source": [
    "### График распределения продолжительности поездок"
   ]
  },
  {
   "cell_type": "code",
   "execution_count": 20,
   "id": "52f63d7e",
   "metadata": {},
   "outputs": [
    {
     "data": {
      "text/plain": [
       "count    18068.000000\n",
       "mean        18.303520\n",
       "std          6.094928\n",
       "min          1.000000\n",
       "25%         14.000000\n",
       "50%         18.000000\n",
       "75%         22.000000\n",
       "max         41.000000\n",
       "Name: duration, dtype: float64"
      ]
     },
     "execution_count": 20,
     "metadata": {},
     "output_type": "execute_result"
    }
   ],
   "source": [
    "rides_df[\"duration\"].describe()"
   ]
  },
  {
   "cell_type": "code",
   "execution_count": 21,
   "id": "3e948ac1-2329-4917-825a-c224502fd7c9",
   "metadata": {},
   "outputs": [
    {
     "data": {
      "image/png": "[encoded data removed]",
      "text/plain": [
       "<Figure size 720x432 with 1 Axes>"
      ]
     },
     "metadata": {},
     "output_type": "display_data"
    }
   ],
   "source": [
    "# Гистограмма продолжительности поездок\n",
    "plt.figure(figsize=(10, 6))\n",
    "plt.hist(rides_df[\"duration\"], bins=20, color=\"orange\", alpha=0.7)\n",
    "plt.title(\"Гистограмма продолжительности поездок (мин)\")\n",
    "plt.xlabel(\"Продолжительность (мин)\")\n",
    "plt.ylabel(\"Количество поездок\")\n",
    "plt.grid(axis=\"y\")\n",
    "plt.show()"
   ]
  },
  {
   "cell_type": "code",
   "execution_count": 22,
   "id": "73a26d7f",
   "metadata": {},
   "outputs": [
    {
     "name": "stdout",
     "output_type": "stream",
     "text": [
      "Количество поездок с продолжительностью 1 минута: 95\n"
     ]
    }
   ],
   "source": [
    "count_short_rides = rides_df[rides_df[\"duration\"] <= 1].shape[0]\n",
    "print(f\"Количество поездок с продолжительностью 1 минута: {count_short_rides}\")\n"
   ]
  },
  {
   "cell_type": "markdown",
   "id": "2149a66f-0164-44c2-96b6-85824f832205",
   "metadata": {},
   "source": [
    "В основном мы видим, что наибольшее количество пользователей находятся в поездке от 12 до 25 минут. "
   ]
  },
  {
   "cell_type": "markdown",
   "id": "1969309b",
   "metadata": {},
   "source": [
    "Поездок меньше 1 минуты нет. Думаю в сервисе минимальная доступная для покупки длительность поездки составляет 1 минута. Таких поездок - 95."
   ]
  },
  {
   "cell_type": "markdown",
   "id": "aa64bf3f-e821-4735-aae6-2cf19751fb07",
   "metadata": {},
   "source": [
    "### График распределения количества поездок по месяцам"
   ]
  },
  {
   "cell_type": "code",
   "execution_count": 23,
   "id": "b51d64db-e727-4f26-a350-4383cd93352e",
   "metadata": {},
   "outputs": [
    {
     "data": {
      "image/png": "[encoded data removed]",
      "text/plain": [
       "<Figure size 720x432 with 1 Axes>"
      ]
     },
     "metadata": {},
     "output_type": "display_data"
    }
   ],
   "source": [
    "\n",
    "    # Гистограмма количества поездок по месяцам\n",
    "    plt.figure(figsize=(10, 6))\n",
    "    rides_df['month'].value_counts().sort_index().plot(kind='bar', color='red', alpha=0.7)\n",
    "    plt.title(\"Количество поездок по месяцам\")\n",
    "    plt.xlabel(\"Месяц\")\n",
    "    plt.ylabel(\"Количество поездок\")\n",
    "    plt.xticks(rotation=45)\n",
    "    plt.grid(axis=\"y\")\n",
    "    plt.show()\n"
   ]
  },
  {
   "cell_type": "markdown",
   "id": "afa9aac4-dc19-40a3-890a-331744084346",
   "metadata": {},
   "source": [
    "В целом мы видим равномерное распределение количества поездок по месяцам. Это достаточно странно, так как нет сезонной просадки. Хотя вполне возможно, что общая статистика выравнивается за счет южных регионов."
   ]
  },
  {
   "cell_type": "markdown",
   "id": "dca9e514-273b-4ab1-9294-b769dbb982c8",
   "metadata": {},
   "source": [
    "### Вывод по анализу распространения пользователей самокатов и возрастного распределения\n",
    "\n",
    "Из анализа можно сделать несколько ключевых выводов:\n",
    "\n",
    "Географическая предрасположенность: Преобладание пользователей самокатов в южных городах объясняется благоприятными климатическими условиями, которые не мешают использованию данного вида транспорта. В то время как в северных регионах холодная погода и снег создают препятствия для регулярного использования самокатов.\n",
    "\n",
    "Крупные городские центры: Высокая плотность населения в крупных городах способствует росту популярности самокатов. Это связано с наличием развитой инфраструктуры и потребностью жителей в альтернативных и быстрых способах передвижения.\n",
    "\n",
    "Неожиданные результаты для мегаполисов: \n",
    "\n",
    "Москва на десятом месте с 172 пользователями выглядит неожиданным. Вероятно, следует исследовать конкретные причины низкой популярности, такие как высокие транспортные заторы, нехватка инфраструктуры для самокатов или низкий интерес к альтернативным видам транспорта.\n",
    "\n",
    "Санкт-Петербург и Казань также удивляют отсутствием пользователей самокатов. Важно провести опросы и исследования, чтобы определить, какие факторы могут быть причиной.\n",
    "\n",
    "Возрастное распределение: Нормальное распределение пользователей по возрастным категориям показывает, что самая активная группа - это 25-летние. Это связано с тем, что молодые люди более подвержены экспериментам с новыми технологиями и видами транспорта. В то же время молодые дети и пожилые люди имеют ограничения, что снижает их участие.\n",
    "\n",
    "Расстояние и время поездки: Наибольшее количество поездок осуществляется на расстояния 2,5-4 км и занимает от 12 до 25 минут. Эти данные могут помочь в планировании маршрутов и улучшении инфраструктуры.\n",
    "\n",
    "Отсутствие сезонных колебаний: Равномерное распределение поездок в течение года может быть объяснено доминированием южных регионов, где погодные условия способствуют постоянному использованию самокатов.\n",
    "Рекомендации для отдела маркетинга:\n",
    "\n",
    "\n",
    "Проводить более глубокие исследования для понимания причин низкой популярности самокатов в мегаполисах.\n",
    "\n",
    "Разработать стратегии, направленные на повышение интереса к самокатам в этих городах, учитывая их особенности.\n",
    "\n",
    "Учитывать возрастные группы в маркетинговых стратегиях для привлечения пользователей.\n",
    "Эти выводы помогут в лучшее понимание текущих тенденций и разработке эффективных стратегий для увеличения использования самокатов в городах."
   ]
  },
  {
   "cell_type": "markdown",
   "id": "8fda9aee",
   "metadata": {},
   "source": [
    "<font color='DarkBlue'><b>Комментарий ревьюера</b></font><br>\n",
    "<font color='DarkGreen'>👌 Хорошо, что раздел анализа заканчиваем обобщающим выводом.</font>"
   ]
  },
  {
   "cell_type": "markdown",
   "id": "47b83332-5595-4dbb-89c6-df38df001481",
   "metadata": {},
   "source": [
    "## Шаг 4. Объединение данных"
   ]
  },
  {
   "cell_type": "code",
   "execution_count": 24,
   "id": "1789b555-cfe0-4ad2-b903-b3c0881e8499",
   "metadata": {},
   "outputs": [
    {
     "data": {
      "text/html": [
       "<div>\n",
       "<style scoped>\n",
       "    .dataframe tbody tr th:only-of-type {\n",
       "        vertical-align: middle;\n",
       "    }\n",
       "\n",
       "    .dataframe tbody tr th {\n",
       "        vertical-align: top;\n",
       "    }\n",
       "\n",
       "    .dataframe thead th {\n",
       "        text-align: right;\n",
       "    }\n",
       "</style>\n",
       "<table border=\"1\" class=\"dataframe\">\n",
       "  <thead>\n",
       "    <tr style=\"text-align: right;\">\n",
       "      <th></th>\n",
       "      <th>user_id</th>\n",
       "      <th>distance</th>\n",
       "      <th>duration</th>\n",
       "      <th>date</th>\n",
       "      <th>month</th>\n",
       "      <th>year</th>\n",
       "      <th>name</th>\n",
       "      <th>age</th>\n",
       "      <th>city</th>\n",
       "      <th>subscription_type</th>\n",
       "      <th>minute_price</th>\n",
       "      <th>start_ride_price</th>\n",
       "      <th>subscription_fee</th>\n",
       "    </tr>\n",
       "  </thead>\n",
       "  <tbody>\n",
       "    <tr>\n",
       "      <th>0</th>\n",
       "      <td>1</td>\n",
       "      <td>4409.92</td>\n",
       "      <td>26</td>\n",
       "      <td>2021-01-01</td>\n",
       "      <td>1</td>\n",
       "      <td>2021</td>\n",
       "      <td>Кира</td>\n",
       "      <td>22</td>\n",
       "      <td>Тюмень</td>\n",
       "      <td>ultra</td>\n",
       "      <td>6</td>\n",
       "      <td>0</td>\n",
       "      <td>199</td>\n",
       "    </tr>\n",
       "    <tr>\n",
       "      <th>1</th>\n",
       "      <td>1</td>\n",
       "      <td>2617.59</td>\n",
       "      <td>16</td>\n",
       "      <td>2021-01-18</td>\n",
       "      <td>1</td>\n",
       "      <td>2021</td>\n",
       "      <td>Кира</td>\n",
       "      <td>22</td>\n",
       "      <td>Тюмень</td>\n",
       "      <td>ultra</td>\n",
       "      <td>6</td>\n",
       "      <td>0</td>\n",
       "      <td>199</td>\n",
       "    </tr>\n",
       "    <tr>\n",
       "      <th>2</th>\n",
       "      <td>1</td>\n",
       "      <td>754.16</td>\n",
       "      <td>7</td>\n",
       "      <td>2021-04-20</td>\n",
       "      <td>4</td>\n",
       "      <td>2021</td>\n",
       "      <td>Кира</td>\n",
       "      <td>22</td>\n",
       "      <td>Тюмень</td>\n",
       "      <td>ultra</td>\n",
       "      <td>6</td>\n",
       "      <td>0</td>\n",
       "      <td>199</td>\n",
       "    </tr>\n",
       "    <tr>\n",
       "      <th>3</th>\n",
       "      <td>1</td>\n",
       "      <td>2694.78</td>\n",
       "      <td>19</td>\n",
       "      <td>2021-08-11</td>\n",
       "      <td>8</td>\n",
       "      <td>2021</td>\n",
       "      <td>Кира</td>\n",
       "      <td>22</td>\n",
       "      <td>Тюмень</td>\n",
       "      <td>ultra</td>\n",
       "      <td>6</td>\n",
       "      <td>0</td>\n",
       "      <td>199</td>\n",
       "    </tr>\n",
       "    <tr>\n",
       "      <th>4</th>\n",
       "      <td>1</td>\n",
       "      <td>4028.69</td>\n",
       "      <td>27</td>\n",
       "      <td>2021-08-28</td>\n",
       "      <td>8</td>\n",
       "      <td>2021</td>\n",
       "      <td>Кира</td>\n",
       "      <td>22</td>\n",
       "      <td>Тюмень</td>\n",
       "      <td>ultra</td>\n",
       "      <td>6</td>\n",
       "      <td>0</td>\n",
       "      <td>199</td>\n",
       "    </tr>\n",
       "  </tbody>\n",
       "</table>\n",
       "</div>"
      ],
      "text/plain": [
       "   user_id  distance  duration       date  month  year  name  age    city  \\\n",
       "0        1   4409.92        26 2021-01-01      1  2021  Кира   22  Тюмень   \n",
       "1        1   2617.59        16 2021-01-18      1  2021  Кира   22  Тюмень   \n",
       "2        1    754.16         7 2021-04-20      4  2021  Кира   22  Тюмень   \n",
       "3        1   2694.78        19 2021-08-11      8  2021  Кира   22  Тюмень   \n",
       "4        1   4028.69        27 2021-08-28      8  2021  Кира   22  Тюмень   \n",
       "\n",
       "  subscription_type  minute_price  start_ride_price  subscription_fee  \n",
       "0             ultra             6                 0               199  \n",
       "1             ultra             6                 0               199  \n",
       "2             ultra             6                 0               199  \n",
       "3             ultra             6                 0               199  \n",
       "4             ultra             6                 0               199  "
      ]
     },
     "metadata": {},
     "output_type": "display_data"
    }
   ],
   "source": [
    "merged_rides_users = pd.merge(rides_df, users_df, on='user_id', how='left')\n",
    "final_merged_df = pd.merge(merged_rides_users, subscriptions_df, on='subscription_type', how='left')\n",
    "display(final_merged_df.head())"
   ]
  },
  {
   "cell_type": "code",
   "execution_count": 25,
   "id": "94fd8976",
   "metadata": {},
   "outputs": [
    {
     "name": "stdout",
     "output_type": "stream",
     "text": [
      "Размерность датасета: (18068, 13)\n"
     ]
    }
   ],
   "source": [
    "# Проверка размерности датасета\n",
    "shape = final_merged_df.shape\n",
    "print(f\"Размерность датасета: {shape}\")"
   ]
  },
  {
   "cell_type": "code",
   "execution_count": 26,
   "id": "876eb437",
   "metadata": {},
   "outputs": [
    {
     "name": "stdout",
     "output_type": "stream",
     "text": [
      "<class 'pandas.core.frame.DataFrame'>\n",
      "Int64Index: 18068 entries, 0 to 18067\n",
      "Data columns (total 13 columns):\n",
      " #   Column             Non-Null Count  Dtype         \n",
      "---  ------             --------------  -----         \n",
      " 0   user_id            18068 non-null  int64         \n",
      " 1   distance           18068 non-null  float64       \n",
      " 2   duration           18068 non-null  int64         \n",
      " 3   date               18068 non-null  datetime64[ns]\n",
      " 4   month              18068 non-null  int64         \n",
      " 5   year               18068 non-null  int64         \n",
      " 6   name               18068 non-null  object        \n",
      " 7   age                18068 non-null  int64         \n",
      " 8   city               18068 non-null  object        \n",
      " 9   subscription_type  18068 non-null  object        \n",
      " 10  minute_price       18068 non-null  int64         \n",
      " 11  start_ride_price   18068 non-null  int64         \n",
      " 12  subscription_fee   18068 non-null  int64         \n",
      "dtypes: datetime64[ns](1), float64(1), int64(8), object(3)\n",
      "memory usage: 1.9+ MB\n"
     ]
    }
   ],
   "source": [
    "final_merged_df.info()"
   ]
  },
  {
   "cell_type": "markdown",
   "id": "52c574f8",
   "metadata": {},
   "source": [
    "Размерность датасета: (18068, 12). Пропуски отсутствуют."
   ]
  },
  {
   "cell_type": "markdown",
   "id": "fe544604-c1d8-436a-a404-987c58ac0c23",
   "metadata": {},
   "source": [
    "## Создание новых датафреймов для пользователей с подпиской и без"
   ]
  },
  {
   "cell_type": "code",
   "execution_count": 27,
   "id": "8bcf6787-09d4-4a81-a993-4aec45e3f280",
   "metadata": {},
   "outputs": [
    {
     "data": {
      "text/html": [
       "<div>\n",
       "<style scoped>\n",
       "    .dataframe tbody tr th:only-of-type {\n",
       "        vertical-align: middle;\n",
       "    }\n",
       "\n",
       "    .dataframe tbody tr th {\n",
       "        vertical-align: top;\n",
       "    }\n",
       "\n",
       "    .dataframe thead th {\n",
       "        text-align: right;\n",
       "    }\n",
       "</style>\n",
       "<table border=\"1\" class=\"dataframe\">\n",
       "  <thead>\n",
       "    <tr style=\"text-align: right;\">\n",
       "      <th></th>\n",
       "      <th>user_id</th>\n",
       "      <th>distance</th>\n",
       "      <th>duration</th>\n",
       "      <th>date</th>\n",
       "      <th>month</th>\n",
       "      <th>year</th>\n",
       "      <th>name</th>\n",
       "      <th>age</th>\n",
       "      <th>city</th>\n",
       "      <th>subscription_type</th>\n",
       "      <th>minute_price</th>\n",
       "      <th>start_ride_price</th>\n",
       "      <th>subscription_fee</th>\n",
       "    </tr>\n",
       "  </thead>\n",
       "  <tbody>\n",
       "    <tr>\n",
       "      <th>0</th>\n",
       "      <td>1</td>\n",
       "      <td>4409.92</td>\n",
       "      <td>26</td>\n",
       "      <td>2021-01-01</td>\n",
       "      <td>1</td>\n",
       "      <td>2021</td>\n",
       "      <td>Кира</td>\n",
       "      <td>22</td>\n",
       "      <td>Тюмень</td>\n",
       "      <td>ultra</td>\n",
       "      <td>6</td>\n",
       "      <td>0</td>\n",
       "      <td>199</td>\n",
       "    </tr>\n",
       "    <tr>\n",
       "      <th>1</th>\n",
       "      <td>1</td>\n",
       "      <td>2617.59</td>\n",
       "      <td>16</td>\n",
       "      <td>2021-01-18</td>\n",
       "      <td>1</td>\n",
       "      <td>2021</td>\n",
       "      <td>Кира</td>\n",
       "      <td>22</td>\n",
       "      <td>Тюмень</td>\n",
       "      <td>ultra</td>\n",
       "      <td>6</td>\n",
       "      <td>0</td>\n",
       "      <td>199</td>\n",
       "    </tr>\n",
       "    <tr>\n",
       "      <th>2</th>\n",
       "      <td>1</td>\n",
       "      <td>754.16</td>\n",
       "      <td>7</td>\n",
       "      <td>2021-04-20</td>\n",
       "      <td>4</td>\n",
       "      <td>2021</td>\n",
       "      <td>Кира</td>\n",
       "      <td>22</td>\n",
       "      <td>Тюмень</td>\n",
       "      <td>ultra</td>\n",
       "      <td>6</td>\n",
       "      <td>0</td>\n",
       "      <td>199</td>\n",
       "    </tr>\n",
       "    <tr>\n",
       "      <th>3</th>\n",
       "      <td>1</td>\n",
       "      <td>2694.78</td>\n",
       "      <td>19</td>\n",
       "      <td>2021-08-11</td>\n",
       "      <td>8</td>\n",
       "      <td>2021</td>\n",
       "      <td>Кира</td>\n",
       "      <td>22</td>\n",
       "      <td>Тюмень</td>\n",
       "      <td>ultra</td>\n",
       "      <td>6</td>\n",
       "      <td>0</td>\n",
       "      <td>199</td>\n",
       "    </tr>\n",
       "    <tr>\n",
       "      <th>4</th>\n",
       "      <td>1</td>\n",
       "      <td>4028.69</td>\n",
       "      <td>27</td>\n",
       "      <td>2021-08-28</td>\n",
       "      <td>8</td>\n",
       "      <td>2021</td>\n",
       "      <td>Кира</td>\n",
       "      <td>22</td>\n",
       "      <td>Тюмень</td>\n",
       "      <td>ultra</td>\n",
       "      <td>6</td>\n",
       "      <td>0</td>\n",
       "      <td>199</td>\n",
       "    </tr>\n",
       "  </tbody>\n",
       "</table>\n",
       "</div>"
      ],
      "text/plain": [
       "   user_id  distance  duration       date  month  year  name  age    city  \\\n",
       "0        1   4409.92        26 2021-01-01      1  2021  Кира   22  Тюмень   \n",
       "1        1   2617.59        16 2021-01-18      1  2021  Кира   22  Тюмень   \n",
       "2        1    754.16         7 2021-04-20      4  2021  Кира   22  Тюмень   \n",
       "3        1   2694.78        19 2021-08-11      8  2021  Кира   22  Тюмень   \n",
       "4        1   4028.69        27 2021-08-28      8  2021  Кира   22  Тюмень   \n",
       "\n",
       "  subscription_type  minute_price  start_ride_price  subscription_fee  \n",
       "0             ultra             6                 0               199  \n",
       "1             ultra             6                 0               199  \n",
       "2             ultra             6                 0               199  \n",
       "3             ultra             6                 0               199  \n",
       "4             ultra             6                 0               199  "
      ]
     },
     "metadata": {},
     "output_type": "display_data"
    },
    {
     "data": {
      "text/html": [
       "<div>\n",
       "<style scoped>\n",
       "    .dataframe tbody tr th:only-of-type {\n",
       "        vertical-align: middle;\n",
       "    }\n",
       "\n",
       "    .dataframe tbody tr th {\n",
       "        vertical-align: top;\n",
       "    }\n",
       "\n",
       "    .dataframe thead th {\n",
       "        text-align: right;\n",
       "    }\n",
       "</style>\n",
       "<table border=\"1\" class=\"dataframe\">\n",
       "  <thead>\n",
       "    <tr style=\"text-align: right;\">\n",
       "      <th></th>\n",
       "      <th>user_id</th>\n",
       "      <th>distance</th>\n",
       "      <th>duration</th>\n",
       "      <th>date</th>\n",
       "      <th>month</th>\n",
       "      <th>year</th>\n",
       "      <th>name</th>\n",
       "      <th>age</th>\n",
       "      <th>city</th>\n",
       "      <th>subscription_type</th>\n",
       "      <th>minute_price</th>\n",
       "      <th>start_ride_price</th>\n",
       "      <th>subscription_fee</th>\n",
       "    </tr>\n",
       "  </thead>\n",
       "  <tbody>\n",
       "    <tr>\n",
       "      <th>6500</th>\n",
       "      <td>700</td>\n",
       "      <td>2515.69</td>\n",
       "      <td>15</td>\n",
       "      <td>2021-01-02</td>\n",
       "      <td>1</td>\n",
       "      <td>2021</td>\n",
       "      <td>Айдар</td>\n",
       "      <td>22</td>\n",
       "      <td>Омск</td>\n",
       "      <td>free</td>\n",
       "      <td>8</td>\n",
       "      <td>50</td>\n",
       "      <td>0</td>\n",
       "    </tr>\n",
       "    <tr>\n",
       "      <th>6501</th>\n",
       "      <td>700</td>\n",
       "      <td>846.93</td>\n",
       "      <td>17</td>\n",
       "      <td>2021-02-01</td>\n",
       "      <td>2</td>\n",
       "      <td>2021</td>\n",
       "      <td>Айдар</td>\n",
       "      <td>22</td>\n",
       "      <td>Омск</td>\n",
       "      <td>free</td>\n",
       "      <td>8</td>\n",
       "      <td>50</td>\n",
       "      <td>0</td>\n",
       "    </tr>\n",
       "    <tr>\n",
       "      <th>6502</th>\n",
       "      <td>700</td>\n",
       "      <td>4004.43</td>\n",
       "      <td>21</td>\n",
       "      <td>2021-02-04</td>\n",
       "      <td>2</td>\n",
       "      <td>2021</td>\n",
       "      <td>Айдар</td>\n",
       "      <td>22</td>\n",
       "      <td>Омск</td>\n",
       "      <td>free</td>\n",
       "      <td>8</td>\n",
       "      <td>50</td>\n",
       "      <td>0</td>\n",
       "    </tr>\n",
       "    <tr>\n",
       "      <th>6503</th>\n",
       "      <td>700</td>\n",
       "      <td>1205.91</td>\n",
       "      <td>10</td>\n",
       "      <td>2021-02-10</td>\n",
       "      <td>2</td>\n",
       "      <td>2021</td>\n",
       "      <td>Айдар</td>\n",
       "      <td>22</td>\n",
       "      <td>Омск</td>\n",
       "      <td>free</td>\n",
       "      <td>8</td>\n",
       "      <td>50</td>\n",
       "      <td>0</td>\n",
       "    </tr>\n",
       "    <tr>\n",
       "      <th>6504</th>\n",
       "      <td>700</td>\n",
       "      <td>3047.38</td>\n",
       "      <td>18</td>\n",
       "      <td>2021-02-14</td>\n",
       "      <td>2</td>\n",
       "      <td>2021</td>\n",
       "      <td>Айдар</td>\n",
       "      <td>22</td>\n",
       "      <td>Омск</td>\n",
       "      <td>free</td>\n",
       "      <td>8</td>\n",
       "      <td>50</td>\n",
       "      <td>0</td>\n",
       "    </tr>\n",
       "  </tbody>\n",
       "</table>\n",
       "</div>"
      ],
      "text/plain": [
       "      user_id  distance  duration       date  month  year   name  age  city  \\\n",
       "6500      700   2515.69        15 2021-01-02      1  2021  Айдар   22  Омск   \n",
       "6501      700    846.93        17 2021-02-01      2  2021  Айдар   22  Омск   \n",
       "6502      700   4004.43        21 2021-02-04      2  2021  Айдар   22  Омск   \n",
       "6503      700   1205.91        10 2021-02-10      2  2021  Айдар   22  Омск   \n",
       "6504      700   3047.38        18 2021-02-14      2  2021  Айдар   22  Омск   \n",
       "\n",
       "     subscription_type  minute_price  start_ride_price  subscription_fee  \n",
       "6500              free             8                50                 0  \n",
       "6501              free             8                50                 0  \n",
       "6502              free             8                50                 0  \n",
       "6503              free             8                50                 0  \n",
       "6504              free             8                50                 0  "
      ]
     },
     "metadata": {},
     "output_type": "display_data"
    }
   ],
   "source": [
    "users_with_subscription = final_merged_df[final_merged_df['subscription_type'] == 'ultra']\n",
    "users_without_subscription = final_merged_df[final_merged_df['subscription_type'] == 'free']\n",
    "display(users_with_subscription.head())\n",
    "display(users_without_subscription.head())"
   ]
  },
  {
   "cell_type": "markdown",
   "id": "d009e45f",
   "metadata": {},
   "source": [
    "<font color='DarkBlue'><b>Комментарий ревьюера</b></font><br>\n",
    "<font color='DarkGreen'>👌 Хорошо, датасеты созданы без ошибок.</font>"
   ]
  },
  {
   "cell_type": "markdown",
   "id": "e0d9ff88-d918-4899-b94f-cfa67012766f",
   "metadata": {},
   "source": [
    "## Гистограммы распределения расстояний поездок для обеих когорт"
   ]
  },
  {
   "cell_type": "code",
   "execution_count": 28,
   "id": "282c85b8-845c-478e-aca7-b37bbfc968cf",
   "metadata": {},
   "outputs": [
    {
     "data": {
      "image/png": "[encoded data removed]",
      "text/plain": [
       "<Figure size 1080x432 with 2 Axes>"
      ]
     },
     "metadata": {},
     "output_type": "display_data"
    }
   ],
   "source": [
    "fig, ax = plt.subplots(1, 2, figsize=(15, 6))\n",
    "\n",
    "# Гистограмма расстояния поездок для пользователей с подпиской\n",
    "ax[0].hist(users_with_subscription[\"distance\"], bins=20, color=\"purple\", alpha=0.7)\n",
    "ax[0].set_title(\"Расстояние поездок для пользователей с подпиской\")\n",
    "ax[0].set_xlabel(\"Расстояние (м)\")\n",
    "ax[0].set_ylabel(\"Количество поездок\")\n",
    "ax[0].grid(axis=\"y\")\n",
    "\n",
    "# Гистограмма расстояния поездок для пользователей без подписки\n",
    "ax[1].hist(users_without_subscription[\"distance\"], bins=20, color=\"purple\", alpha=0.7)\n",
    "ax[1].set_title(\"Расстояние поездок для пользователей без подписки\")\n",
    "ax[1].set_xlabel(\"Расстояние (м)\")\n",
    "ax[1].set_ylabel(\"Количество поездок\")\n",
    "ax[1].grid(axis=\"y\")\n",
    "\n",
    "# Общее заглавие для графиков\n",
    "plt.suptitle(\"Сравнение расстояния поездок пользователей с и без подписки\")\n",
    "\n",
    "# Показываем графики\n",
    "plt.tight_layout(rect=[0, 0, 1, 0.96])  # Для корректной компоновки заголовка\n",
    "plt.show()"
   ]
  },
  {
   "cell_type": "code",
   "execution_count": 29,
   "id": "f00042ee",
   "metadata": {},
   "outputs": [
    {
     "data": {
      "image/png": "[encoded data removed]",
      "text/plain": [
       "<Figure size 1080x432 with 2 Axes>"
      ]
     },
     "metadata": {},
     "output_type": "display_data"
    }
   ],
   "source": [
    "# Вычисление медиан\n",
    "median_with_subscription = np.median(users_with_subscription[\"distance\"])\n",
    "median_without_subscription = np.median(users_without_subscription[\"distance\"])\n",
    "\n",
    "fig, ax = plt.subplots(1, 2, figsize=(15, 6))\n",
    "\n",
    "# Гистограмма расстояния поездок для пользователей с подпиской\n",
    "ax[0].hist(users_with_subscription[\"distance\"], bins=20, color=\"purple\", alpha=0.7)\n",
    "ax[0].set_title(\"Расстояние поездок для пользователей с подпиской\")\n",
    "ax[0].set_xlabel(\"Расстояние (м)\")\n",
    "ax[0].set_ylabel(\"Количество поездок\")\n",
    "ax[0].grid(axis=\"y\")\n",
    "# Добавление медианной линии\n",
    "ax[0].axvline(median_with_subscription, color='red', linestyle='dashed', linewidth=2, label='Медиана')\n",
    "ax[0].legend()\n",
    "\n",
    "# Гистограмма расстояния поездок для пользователей без подписки\n",
    "ax[1].hist(users_without_subscription[\"distance\"], bins=20, color=\"purple\", alpha=0.7)\n",
    "ax[1].set_title(\"Расстояние поездок для пользователей без подписки\")\n",
    "ax[1].set_xlabel(\"Расстояние (м)\")\n",
    "ax[1].set_ylabel(\"Количество поездок\")\n",
    "ax[1].grid(axis=\"y\")\n",
    "# Добавление медианной линии\n",
    "ax[1].axvline(median_without_subscription, color='red', linestyle='dashed', linewidth=2, label='Медиана')\n",
    "ax[1].legend()\n",
    "\n",
    "# Общее заглавие для графиков\n",
    "plt.suptitle(\"Сравнение расстояния поездок пользователей с и без подписки\")\n",
    "\n",
    "# Показываем графики\n",
    "plt.tight_layout(rect=[0, 0, 1, 0.96])  # Для корректной компоновки заголовка\n",
    "plt.show()"
   ]
  },
  {
   "cell_type": "code",
   "execution_count": 30,
   "id": "71d87fd3",
   "metadata": {},
   "outputs": [
    {
     "data": {
      "image/png": "[encoded data removed]",
      "text/plain": [
       "<Figure size 720x432 with 1 Axes>"
      ]
     },
     "metadata": {},
     "output_type": "display_data"
    }
   ],
   "source": [
    "# Вычисление медиан\n",
    "median_with_subscription = np.median(users_with_subscription[\"distance\"])\n",
    "median_without_subscription = np.median(users_without_subscription[\"distance\"])\n",
    "\n",
    "# Создание графика\n",
    "fig, ax = plt.subplots(figsize=(10, 6))\n",
    "\n",
    "# Гистограмма расстояния поездок для пользователей без подписки (отображается первым)\n",
    "ax.hist(users_without_subscription[\"distance\"], bins=20, color=\"orange\", alpha=0.7, label=\"Без подписки\")\n",
    "\n",
    "# Гистограмма расстояния поездок для пользователей с подпиской (отображается поверх)\n",
    "ax.hist(users_with_subscription[\"distance\"], bins=20, color=\"purple\", alpha=0.7, label=\"С подпиской\")\n",
    "\n",
    "# Заголовок и подписи\n",
    "ax.set_title(\"Сравнение расстояния поездок пользователей с и без подписки\")\n",
    "ax.set_xlabel(\"Расстояние (м)\")\n",
    "ax.set_ylabel(\"Количество поездок\")\n",
    "ax.grid(axis=\"y\")\n",
    "\n",
    "# Добавление медианных линий\n",
    "ax.axvline(median_without_subscription, color=\"blue\", linestyle=\"dashed\", linewidth=2, label=\"Медиана без подписки\")\n",
    "ax.axvline(median_with_subscription, color=\"red\", linestyle=\"dashed\", linewidth=2, label=\"Медиана с подпиской\")\n",
    "\n",
    "# Легенда\n",
    "ax.legend()\n",
    "\n",
    "# Показываем графики\n",
    "plt.tight_layout()\n",
    "plt.show()"
   ]
  },
  {
   "cell_type": "markdown",
   "id": "910a67bf",
   "metadata": {},
   "source": [
    "Сделал. Предыдущие графики не стал удалять."
   ]
  },
  {
   "cell_type": "markdown",
   "id": "4001a9c8-62e2-4f5c-aaea-6ca053936999",
   "metadata": {},
   "source": [
    "## Выводы из наблюдения за графиками\n",
    "\n",
    "Согласно представленным графикам, можно сделать следующие выводы:\n",
    "\n",
    "\n",
    "Пользователи с подпиской:\n",
    "\n",
    "В среднем они проезжают от 2,8 до 3,4 км.\n",
    "\n",
    "Пользователи, которые ездят на большие или меньшие расстояния, значительно реже, в 2-3 раза меньше по сравнению с основной массой.\n",
    "\n",
    "Пользователи без подписки:\n",
    "\n",
    "У них наблюдается более широкий диапазон поездок, в основном от 2,2 до 4,2 км, что превышает показатели пользователей с подпиской.\n",
    "\n",
    "Пользователи без подписки в 2-2,5 раза чаще совершают поездки до 1 км по сравнению с подписчиками."
   ]
  },
  {
   "cell_type": "markdown",
   "id": "ad442780-9ce4-4d01-a616-a3a0875af1d4",
   "metadata": {},
   "source": [
    "## Гистограммы распределения длительности поездок для обеих когорт"
   ]
  },
  {
   "cell_type": "code",
   "execution_count": 31,
   "id": "205b771d-cecf-44c5-a073-c0b1e596844e",
   "metadata": {},
   "outputs": [
    {
     "data": {
      "image/png": "[encoded data removed]",
      "text/plain": [
       "<Figure size 1080x432 with 2 Axes>"
      ]
     },
     "metadata": {},
     "output_type": "display_data"
    }
   ],
   "source": [
    "# Создание двух подграфиков\n",
    "fig, ax = plt.subplots(1, 2, figsize=(15, 6))\n",
    "\n",
    "# Гистограмма длительности поездок для пользователей с подпиской\n",
    "ax[0].hist(users_with_subscription[\"duration\"], bins=20, color=\"green\", alpha=0.7)\n",
    "ax[0].set_title(\"Длительность поездок для пользователей с подпиской\")\n",
    "ax[0].set_xlabel(\"Длительность (мин.)\")\n",
    "ax[0].set_ylabel(\"Количество поездок\")\n",
    "ax[0].grid(axis=\"y\")\n",
    "\n",
    "# Гистограмма длительности поездок для пользователей без подписки\n",
    "ax[1].hist(users_without_subscription[\"duration\"], bins=20, color=\"green\", alpha=0.7)\n",
    "ax[1].set_title(\"Длительность поездок для пользователей без подписки\")\n",
    "ax[1].set_xlabel(\"Длительность (мин.)\")\n",
    "ax[1].set_ylabel(\"Количество поездок\")\n",
    "ax[1].grid(axis=\"y\")\n",
    "\n",
    "# Общее заглавие для графиков\n",
    "plt.suptitle(\"Сравнение длительности поездок пользователей с и без подписки\")\n",
    "\n",
    "# Показываем графики\n",
    "plt.tight_layout(rect=[0, 0, 1, 0.96])  # Для корректной компоновки заголовка\n",
    "plt.show()"
   ]
  },
  {
   "cell_type": "code",
   "execution_count": 32,
   "id": "4567effb",
   "metadata": {},
   "outputs": [
    {
     "data": {
      "image/png": "[encoded data removed]",
      "text/plain": [
       "<Figure size 720x432 with 1 Axes>"
      ]
     },
     "metadata": {},
     "output_type": "display_data"
    }
   ],
   "source": [
    "# Вычисление медиан\n",
    "median_duration_with_subscription = np.median(users_with_subscription[\"duration\"])\n",
    "median_duration_without_subscription = np.median(users_without_subscription[\"duration\"])\n",
    "\n",
    "# Создание графика\n",
    "fig, ax = plt.subplots(figsize=(10, 6))\n",
    "\n",
    "# Гистограмма длительности поездок для пользователей без подписки (отображается первым)\n",
    "ax.hist(users_without_subscription[\"duration\"], bins=20, color=\"orange\", alpha=0.7, label=\"Без подписки\")\n",
    "\n",
    "# Гистограмма длительности поездок для пользователей с подпиской (отображается поверх)\n",
    "ax.hist(users_with_subscription[\"duration\"], bins=20, color=\"green\", alpha=0.7, label=\"С подпиской\")\n",
    "\n",
    "# Заголовок и подписи\n",
    "ax.set_title(\"Сравнение длительности поездок пользователей с и без подписки\")\n",
    "ax.set_xlabel(\"Длительность (мин.)\")\n",
    "ax.set_ylabel(\"Количество поездок\")\n",
    "ax.grid(axis=\"y\")\n",
    "ax.axvline(median_duration_without_subscription, color=\"blue\", linestyle=\"dashed\", linewidth=2, label=\"Медиана без подписки\")\n",
    "ax.axvline(median_duration_with_subscription, color=\"red\", linestyle=\"dashed\", linewidth=2, label=\"Медиана с подпиской\")\n",
    "\n",
    "# Легенда\n",
    "ax.legend()\n",
    "\n",
    "# Показываем графики\n",
    "plt.tight_layout()\n",
    "plt.show()"
   ]
  },
  {
   "cell_type": "markdown",
   "id": "cc7a59ec-40c4-49fc-a77e-ecd2d0f8b218",
   "metadata": {},
   "source": [
    "## Сравнение длительности поездок пользователей с подпиской и без\n",
    "\n",
    "Сравнив два графика, отображающие длительность поездок для пользователей с подпиской и без, можно сделать следующие выводы:\n",
    "\n",
    "\n",
    "В целом графики похожи.\n",
    "\n",
    "Обе когорты пользователей распределены в диапазоне длительности поездок от 0 до 35 минут.\n",
    "\n",
    "Пики количества пользователей приходятся на 15 и 20 минут."
   ]
  },
  {
   "cell_type": "markdown",
   "id": "41c0ee09-989e-488b-9fda-250cd8343e68",
   "metadata": {},
   "source": [
    "### Общий вывод (шаг 4):\n",
    "\n",
    "Мы проанализировали поведение пользователей с подпиской и без подписки на основе двух созданных датафреймов, которые были сформированы из объединенных трех исходных датафреймов. Пользователи с подпиской, в среднем, совершают поездки длиной от 2,8 до 3,4 км, в то время как пользователи без подписки имеют более широкий диапазон — от 2,2 до 4,2 км. \n",
    "\n",
    "При этом пользователи без подписки значительно чаще (в 2-2,5 раза) совершают короткие поездки до 1 км. Оба графика, отображающие продолжительность поездок, показывают схожесть в распределении, пик пользователей наблюдается на отметках 15 и 20 минут.\n",
    "\n",
    "Таким образом, пользователи с подпиской имеют более консервативные поездки по длине и времени, в отличие от более разнообразных и кратковременных поездок пользователей без подписки."
   ]
  },
  {
   "cell_type": "markdown",
   "id": "cbe593a6-a10c-47bc-8b83-1e3db1a19824",
   "metadata": {},
   "source": [
    "### Шаг 5. Подсчёт выручки"
   ]
  },
  {
   "cell_type": "markdown",
   "id": "3e684d33-19b8-4b0b-be53-f6c53172e226",
   "metadata": {},
   "source": [
    "#### Найдем суммарное расстояние, общее количество поездок, общую продолжительность поездок для каждого пользователя помесячно"
   ]
  },
  {
   "cell_type": "code",
   "execution_count": 33,
   "id": "af138f9d-be1c-465e-babe-bbabb832cf67",
   "metadata": {},
   "outputs": [
    {
     "data": {
      "text/html": [
       "<div>\n",
       "<style scoped>\n",
       "    .dataframe tbody tr th:only-of-type {\n",
       "        vertical-align: middle;\n",
       "    }\n",
       "\n",
       "    .dataframe tbody tr th {\n",
       "        vertical-align: top;\n",
       "    }\n",
       "\n",
       "    .dataframe thead th {\n",
       "        text-align: right;\n",
       "    }\n",
       "</style>\n",
       "<table border=\"1\" class=\"dataframe\">\n",
       "  <thead>\n",
       "    <tr style=\"text-align: right;\">\n",
       "      <th></th>\n",
       "      <th>user_id</th>\n",
       "      <th>month</th>\n",
       "      <th>subscription_type</th>\n",
       "      <th>total_distance</th>\n",
       "      <th>total_rides</th>\n",
       "      <th>total_duration</th>\n",
       "    </tr>\n",
       "  </thead>\n",
       "  <tbody>\n",
       "    <tr>\n",
       "      <th>0</th>\n",
       "      <td>1</td>\n",
       "      <td>1</td>\n",
       "      <td>ultra</td>\n",
       "      <td>7027.51</td>\n",
       "      <td>2</td>\n",
       "      <td>42</td>\n",
       "    </tr>\n",
       "    <tr>\n",
       "      <th>1</th>\n",
       "      <td>1</td>\n",
       "      <td>4</td>\n",
       "      <td>ultra</td>\n",
       "      <td>754.16</td>\n",
       "      <td>1</td>\n",
       "      <td>7</td>\n",
       "    </tr>\n",
       "    <tr>\n",
       "      <th>2</th>\n",
       "      <td>1</td>\n",
       "      <td>8</td>\n",
       "      <td>ultra</td>\n",
       "      <td>6723.47</td>\n",
       "      <td>2</td>\n",
       "      <td>46</td>\n",
       "    </tr>\n",
       "    <tr>\n",
       "      <th>3</th>\n",
       "      <td>1</td>\n",
       "      <td>10</td>\n",
       "      <td>ultra</td>\n",
       "      <td>5809.91</td>\n",
       "      <td>2</td>\n",
       "      <td>32</td>\n",
       "    </tr>\n",
       "    <tr>\n",
       "      <th>4</th>\n",
       "      <td>1</td>\n",
       "      <td>11</td>\n",
       "      <td>ultra</td>\n",
       "      <td>7003.50</td>\n",
       "      <td>3</td>\n",
       "      <td>56</td>\n",
       "    </tr>\n",
       "    <tr>\n",
       "      <th>5</th>\n",
       "      <td>1</td>\n",
       "      <td>12</td>\n",
       "      <td>ultra</td>\n",
       "      <td>6751.63</td>\n",
       "      <td>2</td>\n",
       "      <td>28</td>\n",
       "    </tr>\n",
       "  </tbody>\n",
       "</table>\n",
       "</div>"
      ],
      "text/plain": [
       "   user_id  month subscription_type  total_distance  total_rides  \\\n",
       "0        1      1             ultra         7027.51            2   \n",
       "1        1      4             ultra          754.16            1   \n",
       "2        1      8             ultra         6723.47            2   \n",
       "3        1     10             ultra         5809.91            2   \n",
       "4        1     11             ultra         7003.50            3   \n",
       "5        1     12             ultra         6751.63            2   \n",
       "\n",
       "   total_duration  \n",
       "0              42  \n",
       "1               7  \n",
       "2              46  \n",
       "3              32  \n",
       "4              56  \n",
       "5              28  "
      ]
     },
     "metadata": {},
     "output_type": "display_data"
    }
   ],
   "source": [
    "# Группировка данных с добавлением столбца subscription_type\n",
    "aggregated_df = final_merged_df.groupby(['user_id', 'month', 'subscription_type']).agg(\n",
    "    total_distance=('distance', 'sum'),\n",
    "    total_rides=('distance', 'count'),\n",
    "    total_duration=('duration', 'sum')\n",
    ").reset_index()\n",
    "\n",
    "# Вывод результата для 1 пользователя. Для примера.\n",
    "display(aggregated_df[aggregated_df['user_id'] == 1])"
   ]
  },
  {
   "cell_type": "code",
   "execution_count": 34,
   "id": "e4531415",
   "metadata": {},
   "outputs": [
    {
     "name": "stdout",
     "output_type": "stream",
     "text": [
      "<class 'pandas.core.frame.DataFrame'>\n",
      "RangeIndex: 11331 entries, 0 to 11330\n",
      "Data columns (total 6 columns):\n",
      " #   Column             Non-Null Count  Dtype  \n",
      "---  ------             --------------  -----  \n",
      " 0   user_id            11331 non-null  int64  \n",
      " 1   month              11331 non-null  int64  \n",
      " 2   subscription_type  11331 non-null  object \n",
      " 3   total_distance     11331 non-null  float64\n",
      " 4   total_rides        11331 non-null  int64  \n",
      " 5   total_duration     11331 non-null  int64  \n",
      "dtypes: float64(1), int64(4), object(1)\n",
      "memory usage: 531.3+ KB\n"
     ]
    }
   ],
   "source": [
    "aggregated_df.info()"
   ]
  },
  {
   "cell_type": "code",
   "execution_count": 35,
   "id": "aedcb664",
   "metadata": {},
   "outputs": [
    {
     "name": "stdout",
     "output_type": "stream",
     "text": [
      "В датафрейме нет пропусков\n"
     ]
    }
   ],
   "source": [
    "# Проверка на пропуски и вывод информации\n",
    "missing_values = aggregated_df.isnull().sum()\n",
    "missing_summary = missing_values[missing_values > 0]\n",
    "\n",
    "if not missing_summary.empty:\n",
    "    print(\"Пропущенные значения по столбцам:\")\n",
    "    print(missing_summary)\n",
    "else:\n",
    "    print(\"В датафрейме нет пропусков\")"
   ]
  },
  {
   "cell_type": "markdown",
   "id": "603b7612",
   "metadata": {},
   "source": [
    "<font color='DarkBlue'><b>Комментарий ревьюера</b></font><br>\n",
    "<font color='Red'>🛠 Перед расчетом выручки необходимо сделать проверку на пропуски в созданной сводной таблице.</font>"
   ]
  },
  {
   "cell_type": "markdown",
   "id": "34c3534b-e8d4-47c9-858e-6f8a19effb86",
   "metadata": {},
   "source": [
    "#### Найдем общую выручку помесячно для каждого пользователя."
   ]
  },
  {
   "cell_type": "code",
   "execution_count": 36,
   "id": "f40a913e-fbe4-4d27-b0d0-886cab2b7c41",
   "metadata": {},
   "outputs": [
    {
     "data": {
      "text/html": [
       "<div>\n",
       "<style scoped>\n",
       "    .dataframe tbody tr th:only-of-type {\n",
       "        vertical-align: middle;\n",
       "    }\n",
       "\n",
       "    .dataframe tbody tr th {\n",
       "        vertical-align: top;\n",
       "    }\n",
       "\n",
       "    .dataframe thead th {\n",
       "        text-align: right;\n",
       "    }\n",
       "</style>\n",
       "<table border=\"1\" class=\"dataframe\">\n",
       "  <thead>\n",
       "    <tr style=\"text-align: right;\">\n",
       "      <th></th>\n",
       "      <th>user_id</th>\n",
       "      <th>month</th>\n",
       "      <th>total_distance</th>\n",
       "      <th>total_rides</th>\n",
       "      <th>total_duration</th>\n",
       "      <th>monthly_revenue</th>\n",
       "      <th>subscription_type</th>\n",
       "    </tr>\n",
       "  </thead>\n",
       "  <tbody>\n",
       "    <tr>\n",
       "      <th>0</th>\n",
       "      <td>1</td>\n",
       "      <td>1</td>\n",
       "      <td>7027.51</td>\n",
       "      <td>2</td>\n",
       "      <td>42</td>\n",
       "      <td>451</td>\n",
       "      <td>ultra</td>\n",
       "    </tr>\n",
       "    <tr>\n",
       "      <th>1</th>\n",
       "      <td>1</td>\n",
       "      <td>4</td>\n",
       "      <td>754.16</td>\n",
       "      <td>1</td>\n",
       "      <td>7</td>\n",
       "      <td>241</td>\n",
       "      <td>ultra</td>\n",
       "    </tr>\n",
       "    <tr>\n",
       "      <th>2</th>\n",
       "      <td>1</td>\n",
       "      <td>8</td>\n",
       "      <td>6723.47</td>\n",
       "      <td>2</td>\n",
       "      <td>46</td>\n",
       "      <td>475</td>\n",
       "      <td>ultra</td>\n",
       "    </tr>\n",
       "    <tr>\n",
       "      <th>3</th>\n",
       "      <td>1</td>\n",
       "      <td>10</td>\n",
       "      <td>5809.91</td>\n",
       "      <td>2</td>\n",
       "      <td>32</td>\n",
       "      <td>391</td>\n",
       "      <td>ultra</td>\n",
       "    </tr>\n",
       "    <tr>\n",
       "      <th>4</th>\n",
       "      <td>1</td>\n",
       "      <td>11</td>\n",
       "      <td>7003.50</td>\n",
       "      <td>3</td>\n",
       "      <td>56</td>\n",
       "      <td>535</td>\n",
       "      <td>ultra</td>\n",
       "    </tr>\n",
       "  </tbody>\n",
       "</table>\n",
       "</div>"
      ],
      "text/plain": [
       "   user_id  month  total_distance  total_rides  total_duration  \\\n",
       "0        1      1         7027.51            2              42   \n",
       "1        1      4          754.16            1               7   \n",
       "2        1      8         6723.47            2              46   \n",
       "3        1     10         5809.91            2              32   \n",
       "4        1     11         7003.50            3              56   \n",
       "\n",
       "   monthly_revenue subscription_type  \n",
       "0              451             ultra  \n",
       "1              241             ultra  \n",
       "2              475             ultra  \n",
       "3              391             ultra  \n",
       "4              535             ultra  "
      ]
     },
     "metadata": {},
     "output_type": "display_data"
    }
   ],
   "source": [
    "# Группируем и вычисляем помесячную выручку для каждого user_id и month\n",
    "monthly_revenue_df = final_merged_df.groupby(['user_id', 'month'], as_index=False).apply(calculate_monthly_revenue)\n",
    "\n",
    "# Объединяем с агрегированным датафреймом, используя уникальные суффиксы\n",
    "aggregated_df = aggregated_df.merge(monthly_revenue_df.reset_index(), on=['user_id', 'month'], how='left', suffixes=('', '_rev'))\n",
    "\n",
    "# Оставляем только необходимые столбцы\n",
    "final_result = aggregated_df[['user_id', 'month', 'total_distance', 'total_rides', 'total_duration', 'monthly_revenue', 'subscription_type']]\n",
    "\n",
    "# Вывод результата\n",
    "display(final_result.head())"
   ]
  },
  {
   "cell_type": "markdown",
   "id": "c371bb5c-af6b-4e79-b902-67c0ee70d07c",
   "metadata": {},
   "source": [
    "#### Вычислим суммарную выручку"
   ]
  },
  {
   "cell_type": "code",
   "execution_count": 37,
   "id": "1f8f30fc-dcad-4ffd-bab4-ad16ed338b2d",
   "metadata": {},
   "outputs": [
    {
     "name": "stdout",
     "output_type": "stream",
     "text": [
      "Выручка сервиса аренды самокатов GoFast за год составила: 3878641 рублей\n"
     ]
    }
   ],
   "source": [
    "# Вычисляем суммарную выручку\n",
    "total_revenue = final_result['monthly_revenue'].sum()\n",
    "\n",
    "# Выводим суммарную выручку\n",
    "print(f\"Выручка сервиса аренды самокатов GoFast за год составила: {total_revenue} рублей\")"
   ]
  },
  {
   "cell_type": "code",
   "execution_count": 38,
   "id": "ce607a43",
   "metadata": {},
   "outputs": [
    {
     "name": "stdout",
     "output_type": "stream",
     "text": [
      "Правильное значение суммы выручки 3878641, сумма выручки расчитанная в таблице: 3878641\n"
     ]
    }
   ],
   "source": [
    "# Комментарий ревьюера\n",
    "# Контроль суммы выручки\n",
    "tmp = final_result.copy()\n",
    "print(\"Правильное значение суммы выручки 3878641, сумма выручки расчитанная в таблице:\", tmp.monthly_revenue.sum())"
   ]
  },
  {
   "cell_type": "markdown",
   "id": "5fc45b44-d770-496e-a60c-72ad3539da81",
   "metadata": {},
   "source": [
    "#### Вывод по 5 шагу:\n",
    "Рассчитали суммарное расстояние, общее количество поездок, общую продолжительность поездок и месячную выручку для каждого пользователя помесячно. Занесли эти данные в новые столбцы.\n",
    "Рассчитали суммарную выручку, она составила 3878641.0 рублей\n"
   ]
  },
  {
   "cell_type": "markdown",
   "id": "18b0f583-ac4b-4caf-89e6-2e6c163f23db",
   "metadata": {},
   "source": [
    "### Шаг 6. Проверка гипотез"
   ]
  },
  {
   "cell_type": "markdown",
   "id": "fb5dae39-aa2a-4f41-a092-e6ae48fbb3e9",
   "metadata": {},
   "source": [
    "#### Для выяснения вопроса о том, тратят ли пользователи с подпиской больше времени на поездку, чем пользователи без подписки, выдвинем следующие гипотезы:\n",
    "\n",
    "Гипотезы\n",
    "\n",
    "Н0 (нулевая гипотеза): Средняя продолжительность поездок с подпиской ultra равна средней продолжительности поездок для пользователей с бесплатной подпиской (free).\n",
    "\n",
    "Н1 (альтернативная гипотеза): Средняя продолжительность поездок с подпиской ultra больше, чем продолжительность поездок для пользователей с бесплатной подпиской (free).\n",
    "Эти гипотезы помогут нам проанализировать данные и выяснить, действительно ли подписка влияет на время, проводимое пользователями в поездках.\n",
    "\n",
    "Зададим уровень значимости - 5%"
   ]
  },
  {
   "cell_type": "markdown",
   "id": "083e02a5",
   "metadata": {},
   "source": [
    "<font color='DarkBlue'><b>Комментарий ревьюера</b></font><br>\n",
    "<font color='DarkGreen'>👌 Хорошо, правильно сформулированы гипотезы.</font>"
   ]
  },
  {
   "cell_type": "code",
   "execution_count": 39,
   "id": "a911b51c-c37d-4d19-be46-f79ad2c5de7a",
   "metadata": {},
   "outputs": [
    {
     "name": "stdout",
     "output_type": "stream",
     "text": [
      "T-Statistic: 12.186464491247767\n",
      "P-Value: 2.4959453720736625e-34\n",
      "Отвергаем H0\n"
     ]
    }
   ],
   "source": [
    "# Извлечение продолжительности поездок для каждого типа подписки\n",
    "durations_ultra = users_with_subscription['duration']\n",
    "durations_free = users_without_subscription['duration']\n",
    "\n",
    "# Выполнение t-теста\n",
    "t_statistic, p_value = stats.ttest_ind(durations_ultra, durations_free, alternative='greater')\n",
    "\n",
    "# Вывод результатов\n",
    "print(f\"T-Statistic: {t_statistic}\")\n",
    "print(f\"P-Value: {p_value}\")\n",
    "\n",
    "# Проверка гипотез\n",
    "alpha = 0.05\n",
    "if p_value < alpha:\n",
    "    print(\"Отвергаем H0\")\n",
    "else:\n",
    "    print(\"Нет оснований отвергать H0\")"
   ]
  },
  {
   "cell_type": "code",
   "execution_count": 40,
   "id": "ab1e248f",
   "metadata": {},
   "outputs": [
    {
     "name": "stdout",
     "output_type": "stream",
     "text": [
      "T-Statistic: 12.186464491247767\n",
      "P-Value: 2.4959453720736625e-34\n",
      "Среднее время поездок для пользователей с подпиской: 19.04 секунд\n",
      "Среднее время поездок для пользователей без подписки: 17.89 секунд\n",
      "Отвергаем H0\n"
     ]
    }
   ],
   "source": [
    "\n",
    "# Извлечение продолжительности поездок для каждого типа подписки\n",
    "durations_ultra = users_with_subscription['duration']\n",
    "durations_free = users_without_subscription['duration']\n",
    "\n",
    "# Вычисление средних значений\n",
    "mean_ultra = durations_ultra.mean()\n",
    "mean_free = durations_free.mean()\n",
    "\n",
    "# Выполнение t-теста\n",
    "t_statistic, p_value = stats.ttest_ind(durations_ultra, durations_free, alternative='greater')\n",
    "\n",
    "# Вывод результатов\n",
    "print(f\"T-Statistic: {t_statistic}\")\n",
    "print(f\"P-Value: {p_value}\")\n",
    "\n",
    "# Вывод средних значений\n",
    "print(f\"Среднее время поездок для пользователей с подпиской: {mean_ultra:.2f} секунд\")\n",
    "print(f\"Среднее время поездок для пользователей без подписки: {mean_free:.2f} секунд\")\n",
    "\n",
    "# Проверка гипотез\n",
    "alpha = 0.05\n",
    "if p_value < alpha:\n",
    "    print(\"Отвергаем H0\")\n",
    "else:\n",
    "    print(\"Нет оснований отвергать H0\")"
   ]
  },
  {
   "cell_type": "markdown",
   "id": "9bb5dbfb-a740-4cd0-97c8-bf016be7fef7",
   "metadata": {},
   "source": [
    "## Вывод:\n",
    "\n",
    "Мы получили результат:\n",
    "\n",
    "- **T-Statistic:** 12.186464491247767\n",
    "\n",
    "- **P-Value:** 2.4959453720736625e-34\n",
    "\n",
    "Средние значения времени поездок составляют:\n",
    "\n",
    "- Среднее время поездок для пользователей с подпиской: 19.04 секунд.\n",
    "\n",
    "- Среднее время поездок для пользователей без подписки: 17.89 секунд.\n",
    "\n",
    "Поскольку значение p (P-Value) значительно меньше уровня значимости (alpha = 0.05), мы отвергли нулевую гипотезу (H0). Это означает, что у нас есть достаточные основания утверждать, что средняя продолжительность поездок с подпиской ultra действительно больше, чем у пользователей с бесплатной подпиской (free).\n",
    "\n",
    "Метод:\n",
    "Для проверки гипотез мы применили t-тест независимых выборок, который позволяет сравнивать средние значения двух независимых групп и определяет, существует ли статистически значимая разница между ними. Этот тест указывает на наличие значимой разницы между двумя группами в контексте их средней длительности поездок, что также подтверждается более высокими значениями средних для группы подписчиков."
   ]
  },
  {
   "cell_type": "markdown",
   "id": "e2a1db34-a6c4-47d1-b066-4b1d29762036",
   "metadata": {},
   "source": [
    "#### Проверим, можно ли утверждать, что среднее расстояние, которое проезжают пользователи с подпиской за одну поездку, не превышает 3130 метров? \n",
    "\n",
    "Выдвинем гипотезы: \n",
    "\n",
    "Н0: Среднее расстояние поездок с подпиской ultra равно оптимальному расстоянию в 3130 метров.\n",
    "\n",
    "Н1: Среднее расстояние поездок с подпиской ultra больше оптимального в 3130 метров.\n",
    "\n",
    "Зададим уровень значимости - 5%"
   ]
  },
  {
   "cell_type": "markdown",
   "id": "4dd01892",
   "metadata": {},
   "source": [
    "<font color='DarkBlue'><b>Комментарий ревьюера</b></font><br>\n",
    "<font color='DarkGreen'>👌 Хорошо, правильно сформулированы гипотезы.</font>"
   ]
  },
  {
   "cell_type": "code",
   "execution_count": 41,
   "id": "6a427553",
   "metadata": {},
   "outputs": [
    {
     "name": "stdout",
     "output_type": "stream",
     "text": [
      "T-Statistic: -1.402118985377693\n",
      "P-Value: 0.9195362605842414\n",
      "Нет оснований отвергать H0: Среднее расстояние поездок с подпиской ultra не превышает оптимальное расстояние в 3130 метров.\n"
     ]
    }
   ],
   "source": [
    "# Извлечение расстояний для пользователей с подпиской\n",
    "distances_ultra = users_with_subscription['distance']\n",
    "\n",
    "# Оптимальное расстояние\n",
    "optimal_distance = 3130\n",
    "\n",
    "# Выполнение одностороннего t-теста\n",
    "t_statistic, p_value = stats.ttest_1samp(distances_ultra, optimal_distance, alternative='greater')\n",
    "\n",
    "# Вывод результатов\n",
    "print(f\"T-Statistic: {t_statistic}\")\n",
    "print(f\"P-Value: {p_value}\")\n",
    "\n",
    "# Проверка гипотез\n",
    "alpha = 0.05\n",
    "if p_value < alpha and t_statistic > 0:\n",
    "    print(\"Отвержена H0: Среднее расстояние поездок с подпиской ultra превышает оптимальное расстояние в 3130 метров.\")\n",
    "else:\n",
    "    print(\"Нет оснований отвергать H0: Среднее расстояние поездок с подпиской ultra не превышает оптимальное расстояние в 3130 метров.\") "
   ]
  },
  {
   "cell_type": "markdown",
   "id": "9fc30749-33c9-481e-b32c-b5f6282a4af9",
   "metadata": {},
   "source": [
    "### Вывод:\n",
    "\n",
    "После проведения одностороннего t-теста с использованием уровня значимости 5% были получены следующие результаты:\n",
    "\n",
    "    - **T-Statistic:** -1.402118985377693\n",
    "\n",
    "    - **P-Value:** 0.9195362605842414\n",
    "\n",
    "Так как значение p (P-Value) превышает уровень значимости (alpha = 0.05), и статистика t меньше 0, мы не можем отвергнуть нулевую гипотезу (H0). Это означает, что среднее расстояние поездок с подпиской ultra не превышает оптимальное расстояние в 3130 метров, и у нас нет оснований заявлять об этом.\n",
    "\n",
    "### Метод:\n",
    "\n",
    "Для проверки гипотез был применен односторонний t-тест, который позволяет проверить, отличается ли среднее значение выборки от заданного значения (в данном случае - оптимального расстояния 3130 метров)."
   ]
  },
  {
   "cell_type": "markdown",
   "id": "1d57de5e-7e90-4e9d-8b2e-98417114cf84",
   "metadata": {},
   "source": [
    "#### Проверим гипотезу о том, будет ли помесячная выручка от пользователей с подпиской по месяцам выше, чем выручка от пользователей без подписки. \n",
    "\n",
    "Н0: средняя месячная выручка от пользователей с подпиской равна помесячной выручке от пользователей без подписки.\n",
    "\n",
    "Н1: средняя месячная выручка от пользователей с подпиской больше  помесячной выручке от пользователей без подписки.\n",
    "\n",
    "Зададим уровень значимости - 5%"
   ]
  },
  {
   "cell_type": "code",
   "execution_count": 42,
   "id": "7f0ee84d-28ad-46d9-b25b-6b758220ea24",
   "metadata": {},
   "outputs": [
    {
     "name": "stdout",
     "output_type": "stream",
     "text": [
      "T-Statistic: 11.64246602360774\n",
      "P-Value: 1.8850394384715216e-31\n",
      "Отвержена Н0: средняя месячная выручка от пользователей с подпиской выше, чем выручка от пользователей без подписки.\n"
     ]
    }
   ],
   "source": [
    "# Извлечение выручки для пользователей с и без подписки\n",
    "revenue_with_subscription = final_result[final_result['subscription_type'] == 'ultra']['monthly_revenue']\n",
    "revenue_without_subscription = final_result[final_result['subscription_type'] == 'free']['monthly_revenue']\n",
    "\n",
    "# Выполнение одностороннего t-теста\n",
    "t_statistic, p_value = stats.ttest_ind(revenue_with_subscription, revenue_without_subscription, alternative='greater')\n",
    "\n",
    "# Вывод результатов\n",
    "print(f\"T-Statistic: {t_statistic}\")\n",
    "print(f\"P-Value: {p_value}\")\n",
    "\n",
    "# Проверка гипотез\n",
    "alpha = 0.05\n",
    "if p_value < alpha and t_statistic > 0:\n",
    "    print(\"Отвержена Н0: средняя месячная выручка от пользователей с подпиской выше, чем выручка от пользователей без подписки.\")\n",
    "else:\n",
    "    print(\"Нет оснований отвергать Н0: Средняя месячная выручка от пользователей с подпиской не превышает выручку от пользователей без подписки.\")"
   ]
  },
  {
   "cell_type": "markdown",
   "id": "1a5837fb-250c-42d1-aa21-7765dcd731a5",
   "metadata": {},
   "source": [
    "### Вывод:\n",
    "\n",
    "После проведения одностороннего t-теста с использованием уровня значимости 5% были получены следующие результаты:\n",
    "\n",
    "    - **T-Statistic:** 11.64246602360774\n",
    "\n",
    "    - **P-Value:** 1.8850394384715216e-31\n",
    "\n",
    "Так как значение p (P-Value) значительно меньше уровня значимости (alpha = 0.05), и статистика t больше 0, мы отвергаем нулевую гипотезу (Н0). Это означает, что помесячная выручка от пользователей с подпиской действительно выше, чем выручка от пользователей без подписки.\n",
    "\n",
    "### Метод:\n",
    "\n",
    "Для проверки гипотез был использован односторонний t-тест для независимых выборок, который позволяет сравнивать средние значения двух независимых групп и определять, существует ли статистически значимая разница между ними."
   ]
  },
  {
   "cell_type": "markdown",
   "id": "15fff004-3e9e-4d8b-850c-ef2523313d7b",
   "metadata": {},
   "source": [
    "#### Разберем ситуацию: техническая команда сервиса обновила сервера, с которыми взаимодействует мобильное приложение. Она надеется, что из-за этого количество обращений в техподдержку значимо снизилось. Некоторый файл содержит для каждого пользователя данные о количестве обращений до обновления и после него. Какой тест вам понадобился бы для проверки этой гипотезы?"
   ]
  },
  {
   "cell_type": "markdown",
   "id": "af3a96cf-0dee-4d1d-97e3-35232d276418",
   "metadata": {},
   "source": [
    "В данном случае для проверки гипотезы о том, что обновление серверов привело к значительному снижению количества обращений в техподдержку, вам потребуется использовать парный t-тест . Этот тест подходит для анализа двух связанных выборок, например:\n",
    "\n",
    "Количество обращений в техподдержку до обновления (первая выборка).\n",
    "\n",
    "Количество обращений в техподдержку после обновления (вторая выборка).\n",
    "Почему используем именно парный t-тест?\n",
    "\n",
    "Связанные выборки: Так как вы сравниваете данные для одних и тех же пользователей (одни и те же объекты) в разные временные моменты (до и после обновления), выборки являются зависимыми."
   ]
  },
  {
   "cell_type": "markdown",
   "id": "091fe459",
   "metadata": {},
   "source": [
    "Так как нас интересует только снижение (а не снижение или увеличение), то гипотеза односторонняя."
   ]
  },
  {
   "cell_type": "markdown",
   "id": "cc96241c-917f-44c1-92d1-16ffc6ca439c",
   "metadata": {},
   "source": [
    "## Вывод (шаг 6)\n",
    "### В ходе анализа данных была проведена проверка нескольких гипотез, касающихся характеристик пользователей и изменений в работе сервиса. \n",
    "\n",
    "\n",
    "- Проверка времени поездок: Гипотеза о равенстве времени поездки для когорт пользователей с различными типами подписок была отвергнута. Полученные результаты дают основания утверждать, что средняя продолжительность поездок для пользователей с подпиской 'ultra' превышает аналогичное значение для пользователей без подписок 'free'.\n",
    "\n",
    "- Анализ расстояния поездок: Среднее расстояние поездок для подписчиков 'ultra' не превышает оптимальное значение в 3130 метров, что позволяет не отвергать нулевую гипотезу о его равенстве. Это может говорить о том, что пользователи, обладающие подпиской, не используют весь потенциал сервиса в плане расстояний.\n",
    "\n",
    "- Проверка выручки: Наличие статистически значимого различия в помесячной выручке между пользователями с подпиской и без нее позволяет сделать вывод о том, что выручка от пользователей с подпиской выше, чем от пользователей без подписки.\n",
    "\n",
    "- Анализ обращений в техподдержку: Для проверки гипотезы о влиянии обновления серверов на количество обращений в техподдержку был рекомендован парный t-тест, что объясняется наличием зависимых выборок - количество обращений до и после обновления анализировалось для одних и тех же пользователей.\n",
    "Таким образом, результаты анализа показывают, что обновления и отличия в подписках пользователей оказывают значительное влияние на поведение пользователей и, соответственно, на бизнес-показатели сервиса. Это подчеркивает важность эффективного управления подписками и постоянного мониторинга пользовательского опыта для достижения желаемых результатов."
   ]
  },
  {
   "cell_type": "markdown",
   "id": "ae6dc030-ac14-4846-9660-771b3a2551c9",
   "metadata": {},
   "source": [
    "# Шаг 7"
   ]
  },
  {
   "cell_type": "markdown",
   "id": "fa4a33a4-3ecf-47c5-b98d-7dc8907a9718",
   "metadata": {},
   "source": [
    "### Задача 1\n",
    "\n",
    "Отделу маркетинга GoFast поставили задачу: нужно провести акцию с раздачей промокодов на один бесплатный месяц подписки, в рамках которой как минимум \n",
    "100 существующих клиентов должны продлить эту подписку. То есть по завершении периода действия подписки пользователь может либо отказаться от неё, либо продлить, совершив соответствующий платёж. \n",
    "Эта акция уже проводилась ранее и по итогу выяснилось, что после бесплатного пробного периода подписку продлевают\n",
    "10 % пользователей. Выясните, какое минимальное количество промокодов нужно разослать, чтобы вероятность не выполнить план была примерно \n",
    "5 %. Подберите параметры распределения, описывающего эту ситуацию, постройте график распределения и сформулируйте ответ на вопрос о количестве промокодов."
   ]
  },
  {
   "cell_type": "code",
   "execution_count": 43,
   "id": "659ef79e-c472-4aa3-9b4c-408fe2bb3a1d",
   "metadata": {},
   "outputs": [
    {
     "name": "stdout",
     "output_type": "stream",
     "text": [
      "Значение N при достижении уровня значимости 0.05: 1161\n"
     ]
    },
    {
     "data": {
      "image/png": "[encoded data removed]",
      "text/plain": [
       "<Figure size 432x288 with 1 Axes>"
      ]
     },
     "metadata": {},
     "output_type": "display_data"
    }
   ],
   "source": [
    "p = 0.1  # вероятность продления\n",
    "N_values = np.arange(700, 1200, 1)  # диапазон значений N\n",
    "k = 100\n",
    "probabilities = [binom.cdf(k-1, N, p) for N in N_values]\n",
    "\n",
    "# Находим значение N при котором кривая пересекает уровень значимости 0.05\n",
    "N_intersect_index = np.where(np.array(probabilities) <= 0.05)[0][0]\n",
    "N_intersect = N_values[N_intersect_index]\n",
    "\n",
    "# Выводим значение N\n",
    "print(f'Значение N при достижении уровня значимости 0.05: {N_intersect}')\n",
    "\n",
    "plt.plot(N_values, probabilities, marker='o')\n",
    "plt.axhline(0.05, color='red', linestyle='--')\n",
    "plt.axvline(N_intersect, color='green', linestyle='--', label=f'N = {N_intersect}')\n",
    "plt.title('CDF of Binomial Distribution for Subscription Renewal')\n",
    "plt.xlabel('Number of Promo Codes (N)')\n",
    "plt.ylabel('Cumulative Probability P(X < 100)')\n",
    "plt.grid()\n",
    "plt.legend()\n",
    "plt.show()"
   ]
  },
  {
   "cell_type": "markdown",
   "id": "6db54786-b5ef-45f5-9bd0-1e799f2a2b63",
   "metadata": {},
   "source": [
    "### Вывод о проделанной работе (Шаг 7 Задача 1)\n",
    "\n",
    "В рамках данной задачи мы провели оценку необходимого количества промокодов, которые нужно разослать потенциальным клиентам, чтобы гарантировать, что хотя бы 100 из них продлят подписку после бесплатного пробного месяца. С учетом ранее собранных данных о том, что 10% пользователей продлевают свою подписку после пробного периода, мы стремились определить минимальное количество промокодов, которое обеспечит вероятность продления не менее 5%.\n",
    "\n",
    "### Использованный метод\n",
    "\n",
    "Для решения этой задачи мы применили **биномиальное распределение**. Мы сформулировали гипотезы следующим образом:\n",
    "- **Н0**: Количество пользователей, продливших подписку, не достигает 100 при отправке определенного количества промокодов.\n",
    "\n",
    "- **Н1**: Количество пользователей, продливших подписку, достигает 100 при отправке определенного количества промокодов.\n",
    "\n",
    "С помощью кумулятивной функции распределения (CDF) биномиального распределения мы рассматривали вероятность того, что менее 100 пользователей продлят свою подписку. Параметры для модели были заданы как:\n",
    "- \\( p = 0.1 \\) (вероятность продления для одного пользователя)\n",
    "\n",
    "- \\( N \\) (количество отправленных промокодов)\n",
    "\n",
    "Мы исследовали диапазон от 700 до 1200 промокодов и рассчитали кумулятивные вероятности для каждого значения \\( N \\). Далее мы определили минимальное значение \\( N \\), при котором вероятность того, что менее 100 пользователей продлят подписку, будет менее 5%.\n",
    "\n",
    "### Результат\n",
    "\n",
    "На основе проведенного анализа было установлено, что для достижения целевой вероятности не выполнения плана (менее 5%) и успешного привлечения как минимум 100 пользователей к продлению подписки, необходимо разослать не менее **1161 промокодов** на бесплатную подписку."
   ]
  },
  {
   "cell_type": "markdown",
   "id": "d44c9334-6af8-4574-b939-fc619c2c325b",
   "metadata": {},
   "source": [
    "### Задача 2\n",
    "\n",
    "Отдел маркетинга рассылает клиентам push-уведомления в мобильном приложении. Клиенты могут открыть его или не открывать. Известно, что уведомления открывают около \n",
    "40 % получивших клиентов. Отдел планирует разослать 1 млн уведомлений. С помощью аппроксимации постройте примерный график распределения и оцените вероятность того, что уведомление откроют не более 399,5 тыс. пользователей."
   ]
  },
  {
   "cell_type": "code",
   "execution_count": 44,
   "id": "5e5dd331",
   "metadata": {},
   "outputs": [
    {
     "data": {
      "image/png": "[encoded data removed]",
      "text/plain": [
       "<Figure size 864x432 with 1 Axes>"
      ]
     },
     "metadata": {},
     "output_type": "display_data"
    },
    {
     "name": "stdout",
     "output_type": "stream",
     "text": [
      "Вероятность того, что уведомление откроют не более 399,5 тыс. пользователей: 15.3700%\n"
     ]
    }
   ],
   "source": [
    "# Параметры\n",
    "n = 1000000\n",
    "p = 0.4\n",
    "mu = n * p\n",
    "sigma = np.sqrt(n * p * (1 - p))\n",
    "\n",
    "# Значения для графика\n",
    "x = np.linspace(mu - 4 * sigma, mu + 4 * sigma, 1000)\n",
    "y = stats.norm.pdf(x, mu, sigma)\n",
    "\n",
    "# Построение графика\n",
    "plt.figure(figsize=(12, 6))  # Увеличиваем размер фигуры\n",
    "plt.plot(x, y, color='blue', label='Нормальное распределение')\n",
    "plt.fill_between(x, y, where=(x <= 399500), color='lightblue', alpha=0.5, label='P(X ≤ 399500)')\n",
    "plt.title('Аппроксимация распределения открытий уведомлений')\n",
    "plt.xlabel('Количество открытых уведомлений')\n",
    "plt.ylabel('Плотность вероятности')\n",
    "plt.axvline(x=399500, color='red', linestyle='--', label='399,500 открытий')\n",
    "plt.xticks(rotation=45)  # Поворачиваем метки на оси X\n",
    "plt.legend()\n",
    "plt.grid()\n",
    "plt.show()\n",
    "\n",
    "# Вероятность\n",
    "z = (399500 - mu) / sigma\n",
    "probability = round(100*stats.norm.cdf(z), 2)\n",
    "print(f'Вероятность того, что уведомление откроют не более 399,5 тыс. пользователей: {probability:.4f}%')"
   ]
  },
  {
   "cell_type": "markdown",
   "id": "24749ead-ea1b-42b5-b6ce-e1bb84bd731e",
   "metadata": {},
   "source": [
    "### Вывод о проделанной работе (Шаг 7 Задача 2)\n",
    "\n",
    "В данной задаче нами был проведен анализ вероятности открытия push-уведомлений, рассылаемых клиентам мобильного приложения. Учитывая, что уведомления открывают около 40% пользователей, была подобрана выборка, в рамках которой планируется рассылка 1 миллиона уведомлений. Наша цель заключалась в оценке вероятности того, что уведомление откроют не более 399,5 тысяч пользователей.\n",
    "\n",
    "### Используемый метод\n",
    "\n",
    "Для решения этой задачи мы воспользовались **аппроксимацией нормального распределения**. Поскольку количество уведомлений, которые будут открыты, может быть охарактеризовано биномиальным распределением (с фиксированным количеством испытаний и фиксированной вероятностью успеха), мы применили центральную предельную теорему, которая позволяет использовать нормальное распределение для больших выборок.\n",
    "\n",
    "Была построена кривая нормального распределения. Мы также определили область, соответствующую количеству открытых уведомлений не более 399,5 тысячи, и вычислили вероятность открытия уведомлений для данного значения с использованием стандартизации (перевод в z-значение).\n",
    "\n",
    "### Результат\n",
    "\n",
    "После всех вычислений была получена вероятность открытия уведомлений не более 399,5 тысяч пользователями, равная **15.37%**. Это значение говорит о том, что с вероятностью 15.37% при рассылке 1 миллиона уведомлений их откроют не более 399,5 тысяч пользователей. Таким образом, существует высокая возможность того, что большее количество пользователей все же откроет уведомление."
   ]
  },
  {
   "cell_type": "markdown",
   "id": "5a02b21a-a3c6-4b95-b917-f82c8b9dcc7d",
   "metadata": {},
   "source": [
    "### Общий вывод о проделанной работе\n",
    "\n",
    "В ходе анализа данных о пользователях сервиса аренды самокатов GoFast было выполнено несколько ключевых шагов для оценки поведения пользователей, характеристики подписок и их влияния на бизнес-показатели. \n",
    "- **Предобработка данных**: Были объединены три исходных датафрейма, и после очистки от дубликатов и приведения данных к необходимым форматам, стало возможным провести дальнейший анализ.\n",
    "\n",
    "- **Анализ пользователей и их поведения**: Обнаружено, что пользователи с подпиской более склонны к коротким и менее разнообразным поездкам по сравнению с пользователями без подписки, что указывает на различия в использовании сервиса.\n",
    "\n",
    "- **Финансовый анализ**: Проведена оценка общей выручки, составившей 3,878,641 рубль, а также выявлены значимые различия в помесячной выручке и продолжительности поездок между пользователями различных типов подписок.\n",
    "\n",
    "- **Проверка гипотез**: Осуществлена проверка нескольких гипотез, касающихся времени и расстояния поездок, выручки, а также влияния обновлений на обращения в техническую поддержку. Результаты подтвердили, что подписка 'ultra' обеспечивает более длительные поездки и более высокую выручку.\n",
    "\n",
    "- **Оценка промокодов**: Для привлечения пользователей была проанализирована необходимость рассылки промокодов. Рассчитано, что для того, чтобы гарантировать продление подписки хотя бы 100 пользователями, необходимо разослать как минимум 1161 промокод.\n",
    "\n",
    "- **Анализ открытия уведомлений**: Исследована вероятность открытия push-уведомлений, что показало, что лишь 15.37% пользователей откроют не более 399,5 тысяч уведомлений при рассылке 1 миллиона уведомлений, но это все же указывает на высокий потенциал открываемости уведомлений.\n",
    "\n",
    "### Рекомендации\n",
    "\n",
    "На основе полученных результатов мы можем сделать несколько рекомендаций:\n",
    "\n",
    "\n",
    "- **Углубленные исследования:** Важно провести дополнительные исследования для понимания причин низкой популярности сервиса в крупных городах, таких как Москва и Санкт-Петербург. Опросы и интервью с пользователями могут помочь выяснить, какие факторы влияют на принятие решения об использовании сервиса.\n",
    "\n",
    "- **Оптимизация пользовательского опыта:** На основе анализа поведения пользователей следует разработать стратегии, направленные на улучшение пользовательского опыта, включая создание более интуитивно понятных маршрутов и предложений для различных возрастных групп.\n",
    "\n",
    "- **Адаптация маркетинговых стратегий:** Необходимо адаптировать маркетинговые стратегии к выявленным предпочтениям различных групп пользователей, а также сосредоточиться на продвижении подписок, чтобы повысить их привлекательность.\n",
    "Таким образом, итоги нашего анализа не только предоставляют ценные данные о текущем состоянии сервиса, но и указывают на направления, по которым GoFast может развиваться и улучшать свою конкурентоспособность на рынке аренды самокатов. Стратегическое принятие решений на основе этих выводов поможет улучшить как прибыльность бизнеса, так и общее восприятие компании пользователями."
   ]
  }
 ],
 "metadata": {
  "ExecuteTimeLog": [
   {
    "duration": 1234,
    "start_time": "2024-12-09T13:47:32.699Z"
   },
   {
    "duration": 4,
    "start_time": "2024-12-09T13:47:33.936Z"
   },
   {
    "duration": 16,
    "start_time": "2024-12-09T13:47:33.942Z"
   },
   {
    "duration": 3751,
    "start_time": "2024-12-09T13:47:33.960Z"
   },
   {
    "duration": 25,
    "start_time": "2024-12-09T13:47:37.713Z"
   },
   {
    "duration": 36,
    "start_time": "2024-12-09T13:47:37.740Z"
   },
   {
    "duration": 42,
    "start_time": "2024-12-09T13:47:37.777Z"
   },
   {
    "duration": 22,
    "start_time": "2024-12-09T13:47:37.821Z"
   },
   {
    "duration": 63,
    "start_time": "2024-12-09T13:47:37.845Z"
   },
   {
    "duration": 179,
    "start_time": "2024-12-09T13:47:37.910Z"
   },
   {
    "duration": 108,
    "start_time": "2024-12-09T13:47:38.091Z"
   },
   {
    "duration": 245,
    "start_time": "2024-12-09T13:47:38.201Z"
   },
   {
    "duration": 236,
    "start_time": "2024-12-09T13:47:38.448Z"
   },
   {
    "duration": 220,
    "start_time": "2024-12-09T13:47:38.688Z"
   },
   {
    "duration": 227,
    "start_time": "2024-12-09T13:47:38.910Z"
   },
   {
    "duration": 33,
    "start_time": "2024-12-09T13:47:39.139Z"
   },
   {
    "duration": 28,
    "start_time": "2024-12-09T13:47:39.174Z"
   },
   {
    "duration": 623,
    "start_time": "2024-12-09T13:47:39.230Z"
   },
   {
    "duration": 716,
    "start_time": "2024-12-09T13:47:39.855Z"
   },
   {
    "duration": 34,
    "start_time": "2024-12-09T13:47:40.573Z"
   },
   {
    "duration": 195,
    "start_time": "2024-12-09T13:47:40.609Z"
   },
   {
    "duration": 0,
    "start_time": "2024-12-09T13:47:40.806Z"
   },
   {
    "duration": 0,
    "start_time": "2024-12-09T13:47:40.807Z"
   },
   {
    "duration": 0,
    "start_time": "2024-12-09T13:47:40.808Z"
   },
   {
    "duration": 0,
    "start_time": "2024-12-09T13:47:40.810Z"
   },
   {
    "duration": 0,
    "start_time": "2024-12-09T13:47:40.811Z"
   },
   {
    "duration": 0,
    "start_time": "2024-12-09T13:47:40.812Z"
   },
   {
    "duration": 1221,
    "start_time": "2024-12-09T13:58:34.242Z"
   },
   {
    "duration": 3,
    "start_time": "2024-12-09T13:58:35.465Z"
   },
   {
    "duration": 90,
    "start_time": "2024-12-09T13:58:35.470Z"
   },
   {
    "duration": 23,
    "start_time": "2024-12-09T13:58:35.562Z"
   },
   {
    "duration": 299,
    "start_time": "2024-12-09T13:58:35.587Z"
   },
   {
    "duration": 26,
    "start_time": "2024-12-09T13:58:35.888Z"
   },
   {
    "duration": 76,
    "start_time": "2024-12-09T13:58:35.915Z"
   },
   {
    "duration": 29,
    "start_time": "2024-12-09T13:58:35.992Z"
   },
   {
    "duration": 10,
    "start_time": "2024-12-09T13:58:36.023Z"
   },
   {
    "duration": 2804,
    "start_time": "2024-12-09T13:58:36.037Z"
   },
   {
    "duration": 0,
    "start_time": "2024-12-09T13:58:38.844Z"
   },
   {
    "duration": 0,
    "start_time": "2024-12-09T13:58:38.845Z"
   },
   {
    "duration": 0,
    "start_time": "2024-12-09T13:58:38.846Z"
   },
   {
    "duration": 0,
    "start_time": "2024-12-09T13:58:38.847Z"
   },
   {
    "duration": 0,
    "start_time": "2024-12-09T13:58:38.848Z"
   },
   {
    "duration": 0,
    "start_time": "2024-12-09T13:58:38.849Z"
   },
   {
    "duration": 0,
    "start_time": "2024-12-09T13:58:38.851Z"
   },
   {
    "duration": 0,
    "start_time": "2024-12-09T13:58:38.852Z"
   },
   {
    "duration": 0,
    "start_time": "2024-12-09T13:58:38.854Z"
   },
   {
    "duration": 0,
    "start_time": "2024-12-09T13:58:38.855Z"
   },
   {
    "duration": 0,
    "start_time": "2024-12-09T13:58:38.857Z"
   },
   {
    "duration": 0,
    "start_time": "2024-12-09T13:58:38.859Z"
   },
   {
    "duration": 0,
    "start_time": "2024-12-09T13:58:38.860Z"
   },
   {
    "duration": 0,
    "start_time": "2024-12-09T13:58:38.861Z"
   },
   {
    "duration": 0,
    "start_time": "2024-12-09T13:58:38.862Z"
   },
   {
    "duration": 0,
    "start_time": "2024-12-09T13:58:38.863Z"
   },
   {
    "duration": 0,
    "start_time": "2024-12-09T13:58:38.864Z"
   },
   {
    "duration": 0,
    "start_time": "2024-12-09T13:58:38.866Z"
   },
   {
    "duration": 3,
    "start_time": "2024-12-09T14:08:19.327Z"
   },
   {
    "duration": 1360,
    "start_time": "2024-12-10T08:05:48.307Z"
   },
   {
    "duration": 3,
    "start_time": "2024-12-10T08:05:49.669Z"
   },
   {
    "duration": 33,
    "start_time": "2024-12-10T08:05:49.674Z"
   },
   {
    "duration": 4,
    "start_time": "2024-12-10T08:05:49.708Z"
   },
   {
    "duration": 311,
    "start_time": "2024-12-10T08:05:49.715Z"
   },
   {
    "duration": 26,
    "start_time": "2024-12-10T08:05:50.028Z"
   },
   {
    "duration": 40,
    "start_time": "2024-12-10T08:05:50.056Z"
   },
   {
    "duration": 10,
    "start_time": "2024-12-10T08:05:50.098Z"
   },
   {
    "duration": 21,
    "start_time": "2024-12-10T08:05:50.110Z"
   },
   {
    "duration": 19,
    "start_time": "2024-12-10T08:05:50.132Z"
   },
   {
    "duration": 26,
    "start_time": "2024-12-10T08:05:50.153Z"
   },
   {
    "duration": 171,
    "start_time": "2024-12-10T08:05:50.180Z"
   },
   {
    "duration": 109,
    "start_time": "2024-12-10T08:05:50.353Z"
   },
   {
    "duration": 223,
    "start_time": "2024-12-10T08:05:50.466Z"
   },
   {
    "duration": 206,
    "start_time": "2024-12-10T08:05:50.691Z"
   },
   {
    "duration": 212,
    "start_time": "2024-12-10T08:05:50.898Z"
   },
   {
    "duration": 240,
    "start_time": "2024-12-10T08:05:51.112Z"
   },
   {
    "duration": 25,
    "start_time": "2024-12-10T08:05:51.354Z"
   },
   {
    "duration": 28,
    "start_time": "2024-12-10T08:05:51.380Z"
   },
   {
    "duration": 1042,
    "start_time": "2024-12-10T08:05:51.410Z"
   },
   {
    "duration": 958,
    "start_time": "2024-12-10T08:05:52.453Z"
   },
   {
    "duration": 40,
    "start_time": "2024-12-10T08:05:53.412Z"
   },
   {
    "duration": 7097,
    "start_time": "2024-12-10T08:05:53.454Z"
   },
   {
    "duration": 4,
    "start_time": "2024-12-10T08:06:00.552Z"
   },
   {
    "duration": 102,
    "start_time": "2024-12-10T08:06:00.558Z"
   },
   {
    "duration": 39,
    "start_time": "2024-12-10T08:06:00.662Z"
   },
   {
    "duration": 44,
    "start_time": "2024-12-10T08:06:00.703Z"
   },
   {
    "duration": 286,
    "start_time": "2024-12-10T08:06:00.749Z"
   },
   {
    "duration": 351,
    "start_time": "2024-12-10T08:06:01.036Z"
   },
   {
    "duration": 1155,
    "start_time": "2024-12-10T16:31:22.656Z"
   },
   {
    "duration": 3,
    "start_time": "2024-12-10T16:31:23.813Z"
   },
   {
    "duration": 13,
    "start_time": "2024-12-10T16:31:23.818Z"
   },
   {
    "duration": 3,
    "start_time": "2024-12-10T16:31:23.833Z"
   },
   {
    "duration": 224,
    "start_time": "2024-12-10T16:31:23.838Z"
   },
   {
    "duration": 25,
    "start_time": "2024-12-10T16:31:24.064Z"
   },
   {
    "duration": 11,
    "start_time": "2024-12-10T16:31:24.090Z"
   },
   {
    "duration": 12,
    "start_time": "2024-12-10T16:31:24.103Z"
   },
   {
    "duration": 17,
    "start_time": "2024-12-10T16:31:24.117Z"
   },
   {
    "duration": 5,
    "start_time": "2024-12-10T16:31:24.135Z"
   },
   {
    "duration": 11,
    "start_time": "2024-12-10T16:31:24.142Z"
   },
   {
    "duration": 173,
    "start_time": "2024-12-10T16:31:24.155Z"
   },
   {
    "duration": 101,
    "start_time": "2024-12-10T16:31:24.329Z"
   },
   {
    "duration": 219,
    "start_time": "2024-12-10T16:31:24.433Z"
   },
   {
    "duration": 219,
    "start_time": "2024-12-10T16:31:24.653Z"
   },
   {
    "duration": 220,
    "start_time": "2024-12-10T16:31:24.873Z"
   },
   {
    "duration": 232,
    "start_time": "2024-12-10T16:31:25.095Z"
   },
   {
    "duration": 27,
    "start_time": "2024-12-10T16:31:25.328Z"
   },
   {
    "duration": 43,
    "start_time": "2024-12-10T16:31:25.357Z"
   },
   {
    "duration": 583,
    "start_time": "2024-12-10T16:31:25.401Z"
   },
   {
    "duration": 644,
    "start_time": "2024-12-10T16:31:25.987Z"
   },
   {
    "duration": 34,
    "start_time": "2024-12-10T16:31:26.633Z"
   },
   {
    "duration": 7459,
    "start_time": "2024-12-10T16:31:26.668Z"
   },
   {
    "duration": 4,
    "start_time": "2024-12-10T16:31:34.129Z"
   },
   {
    "duration": 28,
    "start_time": "2024-12-10T16:31:34.134Z"
   },
   {
    "duration": 27,
    "start_time": "2024-12-10T16:31:34.164Z"
   },
   {
    "duration": 43,
    "start_time": "2024-12-10T16:31:34.193Z"
   },
   {
    "duration": 345,
    "start_time": "2024-12-10T16:31:34.237Z"
   },
   {
    "duration": 372,
    "start_time": "2024-12-10T16:31:34.584Z"
   },
   {
    "duration": 8,
    "start_time": "2024-12-10T17:01:45.056Z"
   },
   {
    "duration": 5,
    "start_time": "2024-12-10T17:34:01.127Z"
   },
   {
    "duration": 49,
    "start_time": "2024-12-11T11:44:31.988Z"
   },
   {
    "duration": 1254,
    "start_time": "2024-12-11T11:44:37.802Z"
   },
   {
    "duration": 3,
    "start_time": "2024-12-11T11:44:39.058Z"
   },
   {
    "duration": 4,
    "start_time": "2024-12-11T11:44:39.063Z"
   },
   {
    "duration": 19,
    "start_time": "2024-12-11T11:44:39.069Z"
   },
   {
    "duration": 282,
    "start_time": "2024-12-11T11:44:39.089Z"
   },
   {
    "duration": 25,
    "start_time": "2024-12-11T11:44:39.372Z"
   },
   {
    "duration": 11,
    "start_time": "2024-12-11T11:44:39.399Z"
   },
   {
    "duration": 11,
    "start_time": "2024-12-11T11:44:39.411Z"
   },
   {
    "duration": 8,
    "start_time": "2024-12-11T11:44:39.424Z"
   },
   {
    "duration": 23,
    "start_time": "2024-12-11T11:44:39.435Z"
   },
   {
    "duration": 5,
    "start_time": "2024-12-11T11:44:39.459Z"
   },
   {
    "duration": 15,
    "start_time": "2024-12-11T11:44:39.465Z"
   },
   {
    "duration": 173,
    "start_time": "2024-12-11T11:44:39.481Z"
   },
   {
    "duration": 98,
    "start_time": "2024-12-11T11:44:39.655Z"
   },
   {
    "duration": 199,
    "start_time": "2024-12-11T11:44:39.754Z"
   },
   {
    "duration": 207,
    "start_time": "2024-12-11T11:44:39.955Z"
   },
   {
    "duration": 194,
    "start_time": "2024-12-11T11:44:40.164Z"
   },
   {
    "duration": 204,
    "start_time": "2024-12-11T11:44:40.360Z"
   },
   {
    "duration": 23,
    "start_time": "2024-12-11T11:44:40.565Z"
   },
   {
    "duration": 25,
    "start_time": "2024-12-11T11:44:40.589Z"
   },
   {
    "duration": 621,
    "start_time": "2024-12-11T11:44:40.615Z"
   },
   {
    "duration": 604,
    "start_time": "2024-12-11T11:44:41.237Z"
   },
   {
    "duration": 37,
    "start_time": "2024-12-11T11:44:41.843Z"
   },
   {
    "duration": 6373,
    "start_time": "2024-12-11T11:44:41.882Z"
   },
   {
    "duration": 4,
    "start_time": "2024-12-11T11:44:48.256Z"
   },
   {
    "duration": 7,
    "start_time": "2024-12-11T11:44:48.262Z"
   },
   {
    "duration": 17,
    "start_time": "2024-12-11T11:44:48.270Z"
   },
   {
    "duration": 55,
    "start_time": "2024-12-11T11:44:48.289Z"
   },
   {
    "duration": 13,
    "start_time": "2024-12-11T11:44:48.345Z"
   },
   {
    "duration": 283,
    "start_time": "2024-12-11T11:44:48.359Z"
   },
   {
    "duration": 353,
    "start_time": "2024-12-11T11:44:48.644Z"
   },
   {
    "duration": 17,
    "start_time": "2024-12-11T11:46:18.190Z"
   },
   {
    "duration": 22,
    "start_time": "2024-12-11T11:46:54.781Z"
   },
   {
    "duration": 4,
    "start_time": "2024-12-11T11:48:14.492Z"
   },
   {
    "duration": 5,
    "start_time": "2024-12-11T11:48:27.790Z"
   },
   {
    "duration": 6,
    "start_time": "2024-12-11T11:50:27.820Z"
   },
   {
    "duration": 5,
    "start_time": "2024-12-11T11:50:40.162Z"
   },
   {
    "duration": 4,
    "start_time": "2024-12-11T11:50:46.950Z"
   },
   {
    "duration": 6,
    "start_time": "2024-12-11T11:55:05.650Z"
   },
   {
    "duration": 5,
    "start_time": "2024-12-11T11:55:43.073Z"
   },
   {
    "duration": 7,
    "start_time": "2024-12-11T11:56:13.609Z"
   },
   {
    "duration": 10,
    "start_time": "2024-12-11T11:57:45.473Z"
   },
   {
    "duration": 7,
    "start_time": "2024-12-11T12:18:29.945Z"
   },
   {
    "duration": 194,
    "start_time": "2024-12-11T12:19:11.038Z"
   },
   {
    "duration": 12,
    "start_time": "2024-12-11T12:22:04.186Z"
   },
   {
    "duration": 8,
    "start_time": "2024-12-11T12:35:05.385Z"
   },
   {
    "duration": 68,
    "start_time": "2024-12-11T12:39:56.068Z"
   },
   {
    "duration": 4,
    "start_time": "2024-12-11T12:40:27.961Z"
   },
   {
    "duration": 5,
    "start_time": "2024-12-11T12:40:45.003Z"
   },
   {
    "duration": 4,
    "start_time": "2024-12-11T12:40:55.668Z"
   },
   {
    "duration": 5,
    "start_time": "2024-12-11T12:41:02.603Z"
   },
   {
    "duration": 5,
    "start_time": "2024-12-11T12:43:29.239Z"
   },
   {
    "duration": 5,
    "start_time": "2024-12-11T12:44:10.248Z"
   },
   {
    "duration": 8,
    "start_time": "2024-12-11T12:56:58.298Z"
   },
   {
    "duration": 16,
    "start_time": "2024-12-11T12:59:07.456Z"
   },
   {
    "duration": 3,
    "start_time": "2024-12-11T13:00:02.231Z"
   },
   {
    "duration": 12,
    "start_time": "2024-12-11T13:00:32.236Z"
   },
   {
    "duration": 745,
    "start_time": "2024-12-11T13:03:27.289Z"
   },
   {
    "duration": 517,
    "start_time": "2024-12-11T13:05:03.347Z"
   },
   {
    "duration": 554,
    "start_time": "2024-12-11T13:07:26.249Z"
   },
   {
    "duration": 532,
    "start_time": "2024-12-11T13:08:56.707Z"
   },
   {
    "duration": 549,
    "start_time": "2024-12-11T13:11:16.363Z"
   },
   {
    "duration": 550,
    "start_time": "2024-12-11T13:12:31.777Z"
   },
   {
    "duration": 5792,
    "start_time": "2024-12-11T13:20:08.996Z"
   },
   {
    "duration": 5747,
    "start_time": "2024-12-11T13:20:33.226Z"
   },
   {
    "duration": 6,
    "start_time": "2024-12-11T13:21:05.031Z"
   },
   {
    "duration": 7,
    "start_time": "2024-12-11T13:21:32.237Z"
   },
   {
    "duration": 7,
    "start_time": "2024-12-11T13:24:49.645Z"
   },
   {
    "duration": 9,
    "start_time": "2024-12-11T13:29:29.456Z"
   },
   {
    "duration": 338,
    "start_time": "2024-12-11T13:30:20.103Z"
   },
   {
    "duration": 6,
    "start_time": "2024-12-11T13:36:11.488Z"
   },
   {
    "duration": 324,
    "start_time": "2024-12-11T13:42:38.101Z"
   },
   {
    "duration": 292,
    "start_time": "2024-12-11T13:43:28.408Z"
   },
   {
    "duration": 334,
    "start_time": "2024-12-11T13:44:06.802Z"
   },
   {
    "duration": 81,
    "start_time": "2024-12-11T13:44:41.700Z"
   },
   {
    "duration": 81,
    "start_time": "2024-12-11T13:45:42.508Z"
   },
   {
    "duration": 333,
    "start_time": "2024-12-11T13:46:14.221Z"
   },
   {
    "duration": 359,
    "start_time": "2024-12-11T13:52:56.466Z"
   },
   {
    "duration": 80,
    "start_time": "2024-12-11T13:53:16.065Z"
   },
   {
    "duration": 333,
    "start_time": "2024-12-11T13:53:26.313Z"
   },
   {
    "duration": 315,
    "start_time": "2024-12-11T13:53:44.398Z"
   },
   {
    "duration": 11,
    "start_time": "2024-12-11T14:01:45.816Z"
   },
   {
    "duration": 1262,
    "start_time": "2024-12-11T14:40:26.258Z"
   },
   {
    "duration": 8,
    "start_time": "2024-12-11T14:40:27.522Z"
   },
   {
    "duration": 12,
    "start_time": "2024-12-11T14:40:27.532Z"
   },
   {
    "duration": 7,
    "start_time": "2024-12-11T14:40:27.546Z"
   },
   {
    "duration": 312,
    "start_time": "2024-12-11T14:40:27.555Z"
   },
   {
    "duration": 29,
    "start_time": "2024-12-11T14:40:27.869Z"
   },
   {
    "duration": 13,
    "start_time": "2024-12-11T14:40:27.900Z"
   },
   {
    "duration": 9,
    "start_time": "2024-12-11T14:40:27.915Z"
   },
   {
    "duration": 10,
    "start_time": "2024-12-11T14:40:27.926Z"
   },
   {
    "duration": 12,
    "start_time": "2024-12-11T14:40:27.939Z"
   },
   {
    "duration": 16,
    "start_time": "2024-12-11T14:40:27.952Z"
   },
   {
    "duration": 17,
    "start_time": "2024-12-11T14:40:27.970Z"
   },
   {
    "duration": 4,
    "start_time": "2024-12-11T14:40:27.990Z"
   },
   {
    "duration": 37,
    "start_time": "2024-12-11T14:40:27.996Z"
   },
   {
    "duration": 190,
    "start_time": "2024-12-11T14:40:28.034Z"
   },
   {
    "duration": 108,
    "start_time": "2024-12-11T14:40:28.230Z"
   },
   {
    "duration": 15,
    "start_time": "2024-12-11T14:40:28.340Z"
   },
   {
    "duration": 279,
    "start_time": "2024-12-11T14:40:28.357Z"
   },
   {
    "duration": 221,
    "start_time": "2024-12-11T14:40:28.638Z"
   },
   {
    "duration": 9,
    "start_time": "2024-12-11T14:40:28.861Z"
   },
   {
    "duration": 236,
    "start_time": "2024-12-11T14:40:28.873Z"
   },
   {
    "duration": 6,
    "start_time": "2024-12-11T14:40:29.110Z"
   },
   {
    "duration": 238,
    "start_time": "2024-12-11T14:40:29.117Z"
   },
   {
    "duration": 28,
    "start_time": "2024-12-11T14:40:29.358Z"
   },
   {
    "duration": 22,
    "start_time": "2024-12-11T14:40:29.389Z"
   },
   {
    "duration": 25,
    "start_time": "2024-12-11T14:40:29.413Z"
   },
   {
    "duration": 31,
    "start_time": "2024-12-11T14:40:29.439Z"
   },
   {
    "duration": 595,
    "start_time": "2024-12-11T14:40:29.474Z"
   },
   {
    "duration": 875,
    "start_time": "2024-12-11T14:40:30.071Z"
   },
   {
    "duration": 565,
    "start_time": "2024-12-11T14:40:30.948Z"
   },
   {
    "duration": 615,
    "start_time": "2024-12-11T14:40:31.515Z"
   },
   {
    "duration": 587,
    "start_time": "2024-12-11T14:40:32.131Z"
   },
   {
    "duration": 40,
    "start_time": "2024-12-11T14:40:32.719Z"
   },
   {
    "duration": 21,
    "start_time": "2024-12-11T14:40:32.761Z"
   },
   {
    "duration": 6,
    "start_time": "2024-12-11T14:40:32.784Z"
   },
   {
    "duration": 6940,
    "start_time": "2024-12-11T14:40:32.792Z"
   },
   {
    "duration": 4,
    "start_time": "2024-12-11T14:40:39.734Z"
   },
   {
    "duration": 21,
    "start_time": "2024-12-11T14:40:39.740Z"
   },
   {
    "duration": 9,
    "start_time": "2024-12-11T14:40:39.763Z"
   },
   {
    "duration": 20,
    "start_time": "2024-12-11T14:40:39.774Z"
   },
   {
    "duration": 8,
    "start_time": "2024-12-11T14:40:39.796Z"
   },
   {
    "duration": 31,
    "start_time": "2024-12-11T14:40:39.807Z"
   },
   {
    "duration": 413,
    "start_time": "2024-12-11T14:40:39.840Z"
   },
   {
    "duration": 379,
    "start_time": "2024-12-11T14:40:40.255Z"
   }
  ],
  "kernelspec": {
   "display_name": "Python 3 (ipykernel)",
   "language": "python",
   "name": "python3"
  },
  "language_info": {
   "codemirror_mode": {
    "name": "ipython",
    "version": 3
   },
   "file_extension": ".py",
   "mimetype": "text/x-python",
   "name": "python",
   "nbconvert_exporter": "python",
   "pygments_lexer": "ipython3",
   "version": "3.12.7"
  },
  "toc": {
   "base_numbering": 1,
   "nav_menu": {},
   "number_sections": true,
   "sideBar": true,
   "skip_h1_title": true,
   "title_cell": "Table of Contents",
   "title_sidebar": "Contents",
   "toc_cell": false,
   "toc_position": {
    "height": "calc(100% - 180px)",
    "left": "10px",
    "top": "150px",
    "width": "224.943px"
   },
   "toc_section_display": true,
   "toc_window_display": true
  }
 },
 "nbformat": 4,
 "nbformat_minor": 5
}
